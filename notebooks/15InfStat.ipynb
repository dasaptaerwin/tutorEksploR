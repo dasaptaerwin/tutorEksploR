{
 "cells": [
  {
   "cell_type": "markdown",
   "metadata": {},
   "source": [
    "# Statistika inferensi"
   ]
  },
  {
   "cell_type": "markdown",
   "metadata": {},
   "source": [
    "* Statistika deskriptif: mengidentifikasi hubungan dari suatu data, menarik kesimpulan dari sampel.\n",
    "* Statistika inferensi: menarik kesimpulan tentang populasi."
   ]
  },
  {
   "cell_type": "markdown",
   "metadata": {},
   "source": [
    "# Nilai $p$"
   ]
  },
  {
   "cell_type": "markdown",
   "metadata": {},
   "source": [
    "Nilai $p$ merupakan peluang:\n",
    "* Jika hipotesis awal benar, maka sampel dapat menghasilkan estimasi.\n",
    "* Menerangkan kemungkinan kita mendapatkan hasil."
   ]
  },
  {
   "cell_type": "markdown",
   "metadata": {},
   "source": [
    "Contoh: \n",
    "Ada warung Zominos Pizza:\n",
    "* **Komplain** pelanggan bahwa kejunya tidak cukup banyak.\n",
    "* **Regulasi**: Harus pakai 100 gr keju untuk setiap pizza.\n",
    "\n",
    "Namun, manajer Zominos tidak dapat mengunjungi seluruh warung di kota tersebut, sehingga diambilah sampel dari beberapa warung.\n",
    "\n",
    "Pada kasus ini:\n",
    "* $H_{0}$: (*Trying to provide evidence against*) Menolak klaim pelanggan (Cukup kok kejunya).\n",
    "* $H_{1}$: Apa yang hendak kita buktikan, yakni tidak cukup keju untuk setiap Pizza.\n",
    "\n",
    "*Significance level* ($\\alpha$) = 0,05 <br>\n",
    "Jika nilai $p$ dibawah $\\alpha$, maka kita dapat menolak hipotesis awal."
   ]
  },
  {
   "cell_type": "code",
   "execution_count": 1,
   "metadata": {},
   "outputs": [
    {
     "name": "stderr",
     "output_type": "stream",
     "text": [
      "\n",
      "Attaching package: ‘dplyr’\n",
      "\n",
      "The following objects are masked from ‘package:stats’:\n",
      "\n",
      "    filter, lag\n",
      "\n",
      "The following objects are masked from ‘package:base’:\n",
      "\n",
      "    intersect, setdiff, setequal, union\n",
      "\n"
     ]
    },
    {
     "data": {
      "text/html": [
       "<table>\n",
       "<thead><tr><th scope=col>GramsCheese</th></tr></thead>\n",
       "<tbody>\n",
       "\t<tr><td> 85</td></tr>\n",
       "\t<tr><td>100</td></tr>\n",
       "\t<tr><td> 85</td></tr>\n",
       "\t<tr><td> 98</td></tr>\n",
       "\t<tr><td> 94</td></tr>\n",
       "\t<tr><td> 97</td></tr>\n",
       "</tbody>\n",
       "</table>\n"
      ],
      "text/latex": [
       "\\begin{tabular}{r|l}\n",
       " GramsCheese\\\\\n",
       "\\hline\n",
       "\t  85\\\\\n",
       "\t 100\\\\\n",
       "\t  85\\\\\n",
       "\t  98\\\\\n",
       "\t  94\\\\\n",
       "\t  97\\\\\n",
       "\\end{tabular}\n"
      ],
      "text/markdown": [
       "\n",
       "| GramsCheese |\n",
       "|---|\n",
       "|  85 |\n",
       "| 100 |\n",
       "|  85 |\n",
       "|  98 |\n",
       "|  94 |\n",
       "|  97 |\n",
       "\n"
      ],
      "text/plain": [
       "  GramsCheese\n",
       "1  85        \n",
       "2 100        \n",
       "3  85        \n",
       "4  98        \n",
       "5  94        \n",
       "6  97        "
      ]
     },
     "metadata": {},
     "output_type": "display_data"
    }
   ],
   "source": [
    "library(dplyr)\n",
    "df <- read.csv(\"../data/ZominosCheese.csv\")\n",
    "head(df)"
   ]
  },
  {
   "cell_type": "code",
   "execution_count": 2,
   "metadata": {},
   "outputs": [
    {
     "data": {
      "text/plain": [
       "\n",
       "\tOne Sample t-test\n",
       "\n",
       "data:  df\n",
       "t = -0.96396, df = 29, p-value = 0.343\n",
       "alternative hypothesis: true mean is not equal to 100\n",
       "95 percent confidence interval:\n",
       "  95.94179 101.45821\n",
       "sample estimates:\n",
       "mean of x \n",
       "     98.7 \n"
      ]
     },
     "metadata": {},
     "output_type": "display_data"
    }
   ],
   "source": [
    "# peraturannya harus pakai keju 100 gr (mu)\n",
    "t.test(df,mu=100)"
   ]
  },
  {
   "cell_type": "markdown",
   "metadata": {},
   "source": [
    "Nilai $p$ -nya 0,0343, nilai rata2nya = 98,7. Nilai $p > 0,05$, maka kita menolak hipotesis awal."
   ]
  },
  {
   "cell_type": "markdown",
   "metadata": {},
   "source": [
    "## Derajat kebebasan"
   ]
  },
  {
   "cell_type": "markdown",
   "metadata": {},
   "source": [
    "Derajat kebebasan merujuk pada ukuran maksimum dari nilai - nilai logikal yang bersifat independen.\n",
    "$$\n",
    "df = n - 1\n",
    "$$"
   ]
  },
  {
   "cell_type": "code",
   "execution_count": 3,
   "metadata": {},
   "outputs": [
    {
     "data": {
      "text/html": [
       "<table>\n",
       "<thead><tr><th scope=col>GramsCheese</th></tr></thead>\n",
       "<tbody>\n",
       "\t<tr><td> 85</td></tr>\n",
       "\t<tr><td>100</td></tr>\n",
       "\t<tr><td> 85</td></tr>\n",
       "\t<tr><td> 98</td></tr>\n",
       "\t<tr><td> 94</td></tr>\n",
       "\t<tr><td> 97</td></tr>\n",
       "</tbody>\n",
       "</table>\n"
      ],
      "text/latex": [
       "\\begin{tabular}{r|l}\n",
       " GramsCheese\\\\\n",
       "\\hline\n",
       "\t  85\\\\\n",
       "\t 100\\\\\n",
       "\t  85\\\\\n",
       "\t  98\\\\\n",
       "\t  94\\\\\n",
       "\t  97\\\\\n",
       "\\end{tabular}\n"
      ],
      "text/markdown": [
       "\n",
       "| GramsCheese |\n",
       "|---|\n",
       "|  85 |\n",
       "| 100 |\n",
       "|  85 |\n",
       "|  98 |\n",
       "|  94 |\n",
       "|  97 |\n",
       "\n"
      ],
      "text/plain": [
       "  GramsCheese\n",
       "1  85        \n",
       "2 100        \n",
       "3  85        \n",
       "4  98        \n",
       "5  94        \n",
       "6  97        "
      ]
     },
     "metadata": {},
     "output_type": "display_data"
    },
    {
     "data": {
      "text/plain": [
       "\n",
       "\tOne Sample t-test\n",
       "\n",
       "data:  data\n",
       "t = -0.96396, df = 29, p-value = 0.343\n",
       "alternative hypothesis: true mean is not equal to 100\n",
       "95 percent confidence interval:\n",
       "  95.94179 101.45821\n",
       "sample estimates:\n",
       "mean of x \n",
       "     98.7 \n"
      ]
     },
     "metadata": {},
     "output_type": "display_data"
    }
   ],
   "source": [
    "data <- read.csv(\"../data/ZominosCheese.csv\")\n",
    "head(data)\n",
    "t.test(data, mu=100)"
   ]
  },
  {
   "cell_type": "markdown",
   "metadata": {},
   "source": [
    "$df = 29$"
   ]
  },
  {
   "cell_type": "code",
   "execution_count": 4,
   "metadata": {},
   "outputs": [
    {
     "data": {
      "text/html": [
       "29"
      ],
      "text/latex": [
       "29"
      ],
      "text/markdown": [
       "29"
      ],
      "text/plain": [
       "[1] 29"
      ]
     },
     "metadata": {},
     "output_type": "display_data"
    }
   ],
   "source": [
    "df = length(data$GramsCheese) - 1\n",
    "df"
   ]
  },
  {
   "cell_type": "markdown",
   "metadata": {},
   "source": [
    "## Selang dan level kepercayaan"
   ]
  },
  {
   "cell_type": "markdown",
   "metadata": {},
   "source": [
    "* Selang kepercayaan mengukur derajat ketidakpastian atau kepastian.\n",
    "* Level kepercayaan merupakan persentase dari peluang atau kepastian."
   ]
  },
  {
   "cell_type": "code",
   "execution_count": 5,
   "metadata": {},
   "outputs": [
    {
     "data": {
      "text/plain": [
       "\n",
       "\tOne Sample t-test\n",
       "\n",
       "data:  data\n",
       "t = -0.96396, df = 29, p-value = 0.343\n",
       "alternative hypothesis: true mean is not equal to 100\n",
       "95 percent confidence interval:\n",
       "  95.94179 101.45821\n",
       "sample estimates:\n",
       "mean of x \n",
       "     98.7 \n"
      ]
     },
     "metadata": {},
     "output_type": "display_data"
    }
   ],
   "source": [
    "t.test(data,mu=100)"
   ]
  },
  {
   "cell_type": "markdown",
   "metadata": {},
   "source": [
    "Selang kepercayaan: 95,94179 hingga 101,45821"
   ]
  },
  {
   "cell_type": "markdown",
   "metadata": {},
   "source": [
    "## Pengujian hipotesis"
   ]
  },
  {
   "cell_type": "markdown",
   "metadata": {},
   "source": [
    "Pengujian hipotesis merupakan prosedur di dalam statistika inferensi"
   ]
  },
  {
   "cell_type": "markdown",
   "metadata": {},
   "source": [
    "* $H_0$ (hipotesis awal): Dua populasi tidak berbeda jika merujuk pada sifat tertentu.\n",
    "* $H_1$ (hipotesis alternatif): Efek tertentu terjadi pada dua buah populasi.\n",
    "\n",
    "Jika nilai$-p$ dibawah *significance level*, maka kita dapat menolak hipotesis awal."
   ]
  },
  {
   "cell_type": "markdown",
   "metadata": {},
   "source": [
    "Untuk melakukan pengujian hipotesis, kita menggunakan uji$-t$"
   ]
  },
  {
   "cell_type": "markdown",
   "metadata": {},
   "source": [
    "Uji$-t$ adalah salah satu teknik statistika inferensi yang digunakan untuk menentukan perbedaan signifikan rata - rata antar dua kelompok."
   ]
  },
  {
   "cell_type": "markdown",
   "metadata": {},
   "source": [
    "Terdapat 3 jenis uji$-t$:\n",
    "* Uji sampel tunggal.\n",
    "* Uji dua sampel.\n",
    "* Uji sampel berpasangan."
   ]
  },
  {
   "cell_type": "markdown",
   "metadata": {},
   "source": [
    "### Studi kasus\n",
    "Zominos mempunyai penawaran beli 1 gratis 1 pada hari tertentu untuk meningkatkan penjualan.\n",
    "\n",
    "* Sampel 1: Penjualan pada hari - hari promosi.\n",
    "* Sampel 2: Penjualan pada hari - hari biasa.\n",
    "\n",
    "Berikut adalah hipotesis nya:\n",
    "* $H_0$: Tidak ada perbedaan antara penjualan di hari - hari promosi dan hari - hari biasa (Penjualan promo = Penjualan biasa).\n",
    "* $H_1$: Terdapat perbedaan (Penjualan promo $\\neq$ Penjualan biasa).\n",
    "\n",
    "(Disebut sebagai *two-tail test*).\n",
    "\n",
    "* $H_0$: Penjualan promo - Penjualan biasa = 0\n",
    "* $H_1$: Penjualan promo - Penjualan biasa $\\neq$ 0\n",
    "\n",
    "Jika kita tidak tertarik pada penjualan yang berkurang pada hari - hari promosi, maka uji hipotesis dapat diubah formulasinya:\n",
    "* $H_0$: Penjualan promo - Penjualan biasa $\\leq$ 0.\n",
    "* $H_1$:  Penjualan promo - Penjualan biasa > 0."
   ]
  },
  {
   "cell_type": "code",
   "execution_count": 7,
   "metadata": {},
   "outputs": [
    {
     "data": {
      "text/html": [
       "<table>\n",
       "<thead><tr><th scope=col>OfferDays</th><th scope=col>NonOfferDays</th></tr></thead>\n",
       "<tbody>\n",
       "\t<tr><td>248.3</td><td>215.1</td></tr>\n",
       "\t<tr><td>335.2</td><td>300.0</td></tr>\n",
       "\t<tr><td>338.0</td><td>320.6</td></tr>\n",
       "\t<tr><td>285.3</td><td>276.6</td></tr>\n",
       "\t<tr><td>322.2</td><td>282.9</td></tr>\n",
       "\t<tr><td>283.6</td><td>288.1</td></tr>\n",
       "</tbody>\n",
       "</table>\n"
      ],
      "text/latex": [
       "\\begin{tabular}{r|ll}\n",
       " OfferDays & NonOfferDays\\\\\n",
       "\\hline\n",
       "\t 248.3 & 215.1\\\\\n",
       "\t 335.2 & 300.0\\\\\n",
       "\t 338.0 & 320.6\\\\\n",
       "\t 285.3 & 276.6\\\\\n",
       "\t 322.2 & 282.9\\\\\n",
       "\t 283.6 & 288.1\\\\\n",
       "\\end{tabular}\n"
      ],
      "text/markdown": [
       "\n",
       "| OfferDays | NonOfferDays |\n",
       "|---|---|\n",
       "| 248.3 | 215.1 |\n",
       "| 335.2 | 300.0 |\n",
       "| 338.0 | 320.6 |\n",
       "| 285.3 | 276.6 |\n",
       "| 322.2 | 282.9 |\n",
       "| 283.6 | 288.1 |\n",
       "\n"
      ],
      "text/plain": [
       "  OfferDays NonOfferDays\n",
       "1 248.3     215.1       \n",
       "2 335.2     300.0       \n",
       "3 338.0     320.6       \n",
       "4 285.3     276.6       \n",
       "5 322.2     282.9       \n",
       "6 283.6     288.1       "
      ]
     },
     "metadata": {},
     "output_type": "display_data"
    }
   ],
   "source": [
    "df <- read.csv(\"../data/ZominosSales.csv\")\n",
    "head(df)"
   ]
  },
  {
   "cell_type": "code",
   "execution_count": 10,
   "metadata": {},
   "outputs": [
    {
     "data": {
      "text/plain": [
       "\n",
       "\tWelch Two Sample t-test\n",
       "\n",
       "data:  df$OfferDays and df$NonOfferDays\n",
       "t = 2.6105, df = 17.229, p-value = 0.01814\n",
       "alternative hypothesis: true difference in means is not equal to 0\n",
       "95 percent confidence interval:\n",
       "  7.997416 75.042584\n",
       "sample estimates:\n",
       "mean of x mean of y \n",
       "   307.35    265.83 \n"
      ]
     },
     "metadata": {},
     "output_type": "display_data"
    }
   ],
   "source": [
    "t.test(df$OfferDays, df$NonOfferDays) # Two-tail test"
   ]
  },
  {
   "cell_type": "markdown",
   "metadata": {},
   "source": [
    "Nilai$-p < 0,05$, maka kita menolak $H_0$ (Penjualan promo - Penjualan biasa = 0)."
   ]
  },
  {
   "cell_type": "code",
   "execution_count": 9,
   "metadata": {},
   "outputs": [
    {
     "data": {
      "text/plain": [
       "\n",
       "\tOne Sample t-test\n",
       "\n",
       "data:  df$OfferDays\n",
       "t = 4.1576, df = 9, p-value = 0.002456\n",
       "alternative hypothesis: true mean is not equal to 265.83\n",
       "95 percent confidence interval:\n",
       " 284.7592 329.9408\n",
       "sample estimates:\n",
       "mean of x \n",
       "   307.35 \n"
      ]
     },
     "metadata": {},
     "output_type": "display_data"
    }
   ],
   "source": [
    "# One-tail test\n",
    "t.test(df$OfferDays, mu = 265.83) # mu = NonOfferDays"
   ]
  },
  {
   "cell_type": "markdown",
   "metadata": {},
   "source": [
    "Nilai$-p < 0,05$, maka kita menolak $H_0$ (Penjualan promo - Penjualan biasa $\\leq$ 0)."
   ]
  },
  {
   "cell_type": "markdown",
   "metadata": {},
   "source": [
    "## Uji chi-kuadrat"
   ]
  },
  {
   "cell_type": "markdown",
   "metadata": {},
   "source": [
    "Uji chi-kuadrat menilai apakah baris dan kolom pada tabel kontingensi berhubungan secara siginifikan secara statistik.\n",
    "\n",
    "Terdapat dua jenis uji chi-kuadrat:\n",
    "* *Test of independence*\n",
    "* *Goodness-of-Fit Test*"
   ]
  },
  {
   "cell_type": "markdown",
   "metadata": {},
   "source": [
    "* $H_0$: Variabel baris dan kolom dari tabel kontingensi bersifat independen.\n",
    "* $H_1$: Variabel baris dan kolom saling bergantung.\n",
    "\n",
    "Jika nilai uji chi-kuadrat lebih besar dari *significance level*, maka mengindikasikan bahwa kolom dan baris saling berhubungan satu dengan yang lain."
   ]
  },
  {
   "cell_type": "code",
   "execution_count": 1,
   "metadata": {},
   "outputs": [
    {
     "data": {
      "text/html": [
       "<ol class=list-inline>\n",
       "\t<li>2</li>\n",
       "\t<li>4</li>\n",
       "\t<li>3</li>\n",
       "\t<li>3</li>\n",
       "\t<li>2</li>\n",
       "\t<li>1</li>\n",
       "\t<li>1</li>\n",
       "\t<li>2</li>\n",
       "\t<li>3</li>\n",
       "\t<li>4</li>\n",
       "\t<li>2</li>\n",
       "\t<li>3</li>\n",
       "\t<li>3</li>\n",
       "\t<li>4</li>\n",
       "\t<li>1</li>\n",
       "\t<li>3</li>\n",
       "\t<li>2</li>\n",
       "\t<li>1</li>\n",
       "\t<li>4</li>\n",
       "\t<li>3</li>\n",
       "\t<li>2</li>\n",
       "\t<li>4</li>\n",
       "</ol>\n",
       "\n",
       "<details>\n",
       "\t<summary style=display:list-item;cursor:pointer>\n",
       "\t\t<strong>Levels</strong>:\n",
       "\t</summary>\n",
       "\t<ol class=list-inline>\n",
       "\t\t<li>'1'</li>\n",
       "\t\t<li>'2'</li>\n",
       "\t\t<li>'3'</li>\n",
       "\t\t<li>'4'</li>\n",
       "\t</ol>\n",
       "</details>"
      ],
      "text/latex": [
       "\\begin{enumerate*}\n",
       "\\item 2\n",
       "\\item 4\n",
       "\\item 3\n",
       "\\item 3\n",
       "\\item 2\n",
       "\\item 1\n",
       "\\item 1\n",
       "\\item 2\n",
       "\\item 3\n",
       "\\item 4\n",
       "\\item 2\n",
       "\\item 3\n",
       "\\item 3\n",
       "\\item 4\n",
       "\\item 1\n",
       "\\item 3\n",
       "\\item 2\n",
       "\\item 1\n",
       "\\item 4\n",
       "\\item 3\n",
       "\\item 2\n",
       "\\item 4\n",
       "\\end{enumerate*}\n",
       "\n",
       "\\emph{Levels}: \\begin{enumerate*}\n",
       "\\item '1'\n",
       "\\item '2'\n",
       "\\item '3'\n",
       "\\item '4'\n",
       "\\end{enumerate*}\n"
      ],
      "text/markdown": [
       "1. 2\n",
       "2. 4\n",
       "3. 3\n",
       "4. 3\n",
       "5. 2\n",
       "6. 1\n",
       "7. 1\n",
       "8. 2\n",
       "9. 3\n",
       "10. 4\n",
       "11. 2\n",
       "12. 3\n",
       "13. 3\n",
       "14. 4\n",
       "15. 1\n",
       "16. 3\n",
       "17. 2\n",
       "18. 1\n",
       "19. 4\n",
       "20. 3\n",
       "21. 2\n",
       "22. 4\n",
       "\n",
       "\n",
       "\n",
       "**Levels**: 1. '1'\n",
       "2. '2'\n",
       "3. '3'\n",
       "4. '4'\n",
       "\n",
       "\n"
      ],
      "text/plain": [
       " [1] 2 4 3 3 2 1 1 2 3 4 2 3 3 4 1 3 2 1 4 3 2 4\n",
       "Levels: 1 2 3 4"
      ]
     },
     "metadata": {},
     "output_type": "display_data"
    }
   ],
   "source": [
    "ratings <-  factor(c(2,4,3,3,2,1,1,2,3,4,2,3,3,4,1,3,2,1,4,3,2,4))\n",
    "ratings"
   ]
  },
  {
   "cell_type": "code",
   "execution_count": 3,
   "metadata": {},
   "outputs": [
    {
     "data": {
      "text/html": [
       "<ol class=list-inline>\n",
       "\t<li>1</li>\n",
       "\t<li>1</li>\n",
       "\t<li>1</li>\n",
       "\t<li>0</li>\n",
       "\t<li>0</li>\n",
       "\t<li>0</li>\n",
       "\t<li>0</li>\n",
       "\t<li>0</li>\n",
       "\t<li>1</li>\n",
       "\t<li>1</li>\n",
       "\t<li>1</li>\n",
       "\t<li>0</li>\n",
       "\t<li>0</li>\n",
       "\t<li>0</li>\n",
       "\t<li>0</li>\n",
       "\t<li>0</li>\n",
       "\t<li>1</li>\n",
       "\t<li>1</li>\n",
       "\t<li>1</li>\n",
       "\t<li>1</li>\n",
       "\t<li>1</li>\n",
       "\t<li>0</li>\n",
       "</ol>\n",
       "\n",
       "<details>\n",
       "\t<summary style=display:list-item;cursor:pointer>\n",
       "\t\t<strong>Levels</strong>:\n",
       "\t</summary>\n",
       "\t<ol class=list-inline>\n",
       "\t\t<li>'0'</li>\n",
       "\t\t<li>'1'</li>\n",
       "\t</ol>\n",
       "</details>"
      ],
      "text/latex": [
       "\\begin{enumerate*}\n",
       "\\item 1\n",
       "\\item 1\n",
       "\\item 1\n",
       "\\item 0\n",
       "\\item 0\n",
       "\\item 0\n",
       "\\item 0\n",
       "\\item 0\n",
       "\\item 1\n",
       "\\item 1\n",
       "\\item 1\n",
       "\\item 0\n",
       "\\item 0\n",
       "\\item 0\n",
       "\\item 0\n",
       "\\item 0\n",
       "\\item 1\n",
       "\\item 1\n",
       "\\item 1\n",
       "\\item 1\n",
       "\\item 1\n",
       "\\item 0\n",
       "\\end{enumerate*}\n",
       "\n",
       "\\emph{Levels}: \\begin{enumerate*}\n",
       "\\item '0'\n",
       "\\item '1'\n",
       "\\end{enumerate*}\n"
      ],
      "text/markdown": [
       "1. 1\n",
       "2. 1\n",
       "3. 1\n",
       "4. 0\n",
       "5. 0\n",
       "6. 0\n",
       "7. 0\n",
       "8. 0\n",
       "9. 1\n",
       "10. 1\n",
       "11. 1\n",
       "12. 0\n",
       "13. 0\n",
       "14. 0\n",
       "15. 0\n",
       "16. 0\n",
       "17. 1\n",
       "18. 1\n",
       "19. 1\n",
       "20. 1\n",
       "21. 1\n",
       "22. 0\n",
       "\n",
       "\n",
       "\n",
       "**Levels**: 1. '0'\n",
       "2. '1'\n",
       "\n",
       "\n"
      ],
      "text/plain": [
       " [1] 1 1 1 0 0 0 0 0 1 1 1 0 0 0 0 0 1 1 1 1 1 0\n",
       "Levels: 0 1"
      ]
     },
     "metadata": {},
     "output_type": "display_data"
    }
   ],
   "source": [
    "kursus <- factor(c(1,1,1,0,0,0,0,0,1,1,1,0,0,0,0,0,1,1,1,1,1,0))\n",
    "kursus"
   ]
  },
  {
   "cell_type": "code",
   "execution_count": 4,
   "metadata": {},
   "outputs": [],
   "source": [
    "levels(kursus) <- c('R', 'Python')"
   ]
  },
  {
   "cell_type": "code",
   "execution_count": 5,
   "metadata": {},
   "outputs": [
    {
     "data": {
      "text/html": [
       "<ol class=list-inline>\n",
       "\t<li>Python</li>\n",
       "\t<li>Python</li>\n",
       "\t<li>Python</li>\n",
       "\t<li>R</li>\n",
       "\t<li>R</li>\n",
       "\t<li>R</li>\n",
       "\t<li>R</li>\n",
       "\t<li>R</li>\n",
       "\t<li>Python</li>\n",
       "\t<li>Python</li>\n",
       "\t<li>Python</li>\n",
       "\t<li>R</li>\n",
       "\t<li>R</li>\n",
       "\t<li>R</li>\n",
       "\t<li>R</li>\n",
       "\t<li>R</li>\n",
       "\t<li>Python</li>\n",
       "\t<li>Python</li>\n",
       "\t<li>Python</li>\n",
       "\t<li>Python</li>\n",
       "\t<li>Python</li>\n",
       "\t<li>R</li>\n",
       "</ol>\n",
       "\n",
       "<details>\n",
       "\t<summary style=display:list-item;cursor:pointer>\n",
       "\t\t<strong>Levels</strong>:\n",
       "\t</summary>\n",
       "\t<ol class=list-inline>\n",
       "\t\t<li>'R'</li>\n",
       "\t\t<li>'Python'</li>\n",
       "\t</ol>\n",
       "</details>"
      ],
      "text/latex": [
       "\\begin{enumerate*}\n",
       "\\item Python\n",
       "\\item Python\n",
       "\\item Python\n",
       "\\item R\n",
       "\\item R\n",
       "\\item R\n",
       "\\item R\n",
       "\\item R\n",
       "\\item Python\n",
       "\\item Python\n",
       "\\item Python\n",
       "\\item R\n",
       "\\item R\n",
       "\\item R\n",
       "\\item R\n",
       "\\item R\n",
       "\\item Python\n",
       "\\item Python\n",
       "\\item Python\n",
       "\\item Python\n",
       "\\item Python\n",
       "\\item R\n",
       "\\end{enumerate*}\n",
       "\n",
       "\\emph{Levels}: \\begin{enumerate*}\n",
       "\\item 'R'\n",
       "\\item 'Python'\n",
       "\\end{enumerate*}\n"
      ],
      "text/markdown": [
       "1. Python\n",
       "2. Python\n",
       "3. Python\n",
       "4. R\n",
       "5. R\n",
       "6. R\n",
       "7. R\n",
       "8. R\n",
       "9. Python\n",
       "10. Python\n",
       "11. Python\n",
       "12. R\n",
       "13. R\n",
       "14. R\n",
       "15. R\n",
       "16. R\n",
       "17. Python\n",
       "18. Python\n",
       "19. Python\n",
       "20. Python\n",
       "21. Python\n",
       "22. R\n",
       "\n",
       "\n",
       "\n",
       "**Levels**: 1. 'R'\n",
       "2. 'Python'\n",
       "\n",
       "\n"
      ],
      "text/plain": [
       " [1] Python Python Python R      R      R      R      R      Python Python\n",
       "[11] Python R      R      R      R      R      Python Python Python Python\n",
       "[21] Python R     \n",
       "Levels: R Python"
      ]
     },
     "metadata": {},
     "output_type": "display_data"
    }
   ],
   "source": [
    "kursus"
   ]
  },
  {
   "cell_type": "code",
   "execution_count": 8,
   "metadata": {},
   "outputs": [
    {
     "data": {
      "text/plain": [
       "       kursus\n",
       "ratings R Python\n",
       "      1 3      1\n",
       "      2 2      4\n",
       "      3 4      3\n",
       "      4 2      3"
      ]
     },
     "metadata": {},
     "output_type": "display_data"
    }
   ],
   "source": [
    "data <- table(ratings, kursus)\n",
    "data"
   ]
  },
  {
   "cell_type": "code",
   "execution_count": 9,
   "metadata": {},
   "outputs": [
    {
     "name": "stderr",
     "output_type": "stream",
     "text": [
      "Warning message in chisq.test(data):\n",
      "“Chi-squared approximation may be incorrect”"
     ]
    },
    {
     "data": {
      "text/plain": [
       "\n",
       "\tPearson's Chi-squared test\n",
       "\n",
       "data:  data\n",
       "X-squared = 2.0095, df = 3, p-value = 0.5704\n"
      ]
     },
     "metadata": {},
     "output_type": "display_data"
    }
   ],
   "source": [
    "chisq.test(data)"
   ]
  },
  {
   "cell_type": "markdown",
   "metadata": {},
   "source": [
    "Nilai$-p$: 0,5704. Maka dapat disimpulkan jika variabel baris dan kolom tidak independen. Secara implisit menyatakan ada hubungan antara kursus dengan ratings."
   ]
  },
  {
   "cell_type": "code",
   "execution_count": 11,
   "metadata": {},
   "outputs": [
    {
     "data": {
      "text/plain": [
       "\n",
       "\tPearson's Chi-squared test with simulated p-value (based on 2000\n",
       "\treplicates)\n",
       "\n",
       "data:  data\n",
       "X-squared = 2.0095, df = NA, p-value = 0.7076\n"
      ]
     },
     "metadata": {},
     "output_type": "display_data"
    }
   ],
   "source": [
    "chisq.test(data,simulate.p.value=T)\n",
    "# Karena datanya kurang, kita simulasikan untuk jumlah data replikasi yang lebih besar"
   ]
  }
 ],
 "metadata": {
  "kernelspec": {
   "display_name": "R",
   "language": "R",
   "name": "ir"
  },
  "language_info": {
   "codemirror_mode": "r",
   "file_extension": ".r",
   "mimetype": "text/x-r-source",
   "name": "R",
   "pygments_lexer": "r",
   "version": "3.6.1"
  }
 },
 "nbformat": 4,
 "nbformat_minor": 4
}
