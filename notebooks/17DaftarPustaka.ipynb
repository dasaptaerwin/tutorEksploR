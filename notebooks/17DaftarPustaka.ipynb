{
 "cells": [
  {
   "cell_type": "markdown",
   "metadata": {},
   "source": [
    "# Referensi"
   ]
  },
  {
   "cell_type": "markdown",
   "metadata": {},
   "source": [
    "* Grolemund, G. 2014. *Hands-On Programming with R*. O’Reilly Media, Inc.\n",
    "* Navarro, D.J. 2018. *Learning statistics with R: A tutorial for psychology students and other beginners. (Version 0.6.1)*. <url>https://bookdown.org/ekothe/navarro26/</url> diakses pada 01/07/2020 pukul 09.18 WIB.\n",
    "* Wickham, H. dan Grolemund, G. 2017. *R for Data Science: Import, Tidy, Transform, Visualize, and Model Data*. O’Reilly Media, Inc."
   ]
  }
 ],
 "metadata": {
  "kernelspec": {
   "display_name": "R",
   "language": "R",
   "name": "ir"
  },
  "language_info": {
   "codemirror_mode": "r",
   "file_extension": ".r",
   "mimetype": "text/x-r-source",
   "name": "R",
   "pygments_lexer": "r",
   "version": "3.6.1"
  }
 },
 "nbformat": 4,
 "nbformat_minor": 4
}
