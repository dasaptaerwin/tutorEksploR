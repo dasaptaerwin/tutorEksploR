{
 "cells": [
  {
   "cell_type": "markdown",
   "metadata": {},
   "source": [
    "# Pendahuluan"
   ]
  },
  {
   "cell_type": "markdown",
   "metadata": {},
   "source": [
    "## Apa itu R?"
   ]
  },
  {
   "cell_type": "markdown",
   "metadata": {},
   "source": [
    "<p align=\"justify\">R merupakan bahasa pemrograman dan lingkungan perangkat lunak yang digunakan untuk analisis statistik, pemodelan data, visuliasi grafik, dan pelaporan data. R bersifat sumber terbuka dan gratis diunduh oleh siapapun. Tutorial ini ditujukan untuk membantu pemula untuk memulai eksplorasi data dengan menggunakan R.</p>"
   ]
  },
  {
   "cell_type": "markdown",
   "metadata": {},
   "source": [
    "## Instalasi"
   ]
  },
  {
   "cell_type": "markdown",
   "metadata": {},
   "source": [
    "1. Kunjungi <url>https://docs.conda.io/projects/conda/en/latest/user-guide/install/</url> untuk instalasi Miniconda versi 3.\n",
    "2. Ikuti prosedur instalasi (jangan lupa atur PATH -nya).\n",
    "3. Ikuti prosedur instalasi git pada situs:\n",
    "<url>https://git-scm.com/book/en/v2/Getting-Started-Installing-Git</url>.\n",
    "4. Buku *Command Line Interface* (CLI), jalankan perintah:\n",
    "```bash\n",
    "git clone git@github.com:sandyherho/eksploR.git\n",
    "```\n",
    "5. Lakukan instalasi lingkungan virtual conda dengan menjalankan perintah di folder hasil *cloning* tersebut:\n",
    "```bash\n",
    "conda env create -f environment.yml\n",
    "```\n",
    "6. Aktifkan lingkungan virtual dengan perintah:\n",
    "```bash\n",
    "conda activate r-env\n",
    "```\n",
    "7. Untuk mengaktifkan Jupyter Notebook, jalankan perintah:\n",
    "```(bash)\n",
    "jupyter notebook\n",
    "```\n",
    "8. Jika sudah terbuka di *browser* masing - masing sesi R interaktif dapat dimulai.\n",
    "9. Untuk mengakhiri sesi tekan tombol `<CTRL> + C` di CLI, dan jalankan perintah sebagai berikut untuk menonaktifkan lingkungan virtual conda:\n",
    "    ```(bash)\n",
    "    conda deactivate\n",
    "    ```"
   ]
  },
  {
   "cell_type": "markdown",
   "metadata": {},
   "source": [
    "## Materi "
   ]
  },
  {
   "cell_type": "markdown",
   "metadata": {},
   "source": [
    "Pada tutorial ini kami tidak akan membahas tentang penggunaan algoritma - algoritma pemelajaran mesin pada R, melainkan lebih terfokus pada metode statistika klasik dan eksplorasi data menggunakan R. Berikut ini susunan materi yang kami sampaikan dalam tutorial ini:\n",
    "\n",
    "1. Dasar - dasar pemrograman\n",
    "2. Matriks\n",
    "3. Data Frame\n",
    "4. List\n",
    "5. Penanganan data tabular\n",
    "6. Konsep inti pemrograman\n",
    "7. Konsep pemrograman lanjut\n",
    "8. Manipulasi data\n",
    "9. Visualisasi data menggunakan *Base* R\n",
    "10. Penanganan data kuantitatif dan kualitatif\n",
    "11. Statistika deskriptif\n",
    "12. Data bivariat dan multivariat\n",
    "13. Distribusi peluang\n",
    "14. Statistika inferensi\n",
    "15. Visualisasi data menggunakan `ggplot2`"
   ]
  }
 ],
 "metadata": {
  "kernelspec": {
   "display_name": "R",
   "language": "R",
   "name": "ir"
  },
  "language_info": {
   "codemirror_mode": "r",
   "file_extension": ".r",
   "mimetype": "text/x-r-source",
   "name": "R",
   "pygments_lexer": "r",
   "version": "3.6.1"
  }
 },
 "nbformat": 4,
 "nbformat_minor": 4
}
