{
 "cells": [
  {
   "cell_type": "markdown",
   "metadata": {},
   "source": [
    "# Visualisasi data"
   ]
  },
  {
   "cell_type": "markdown",
   "metadata": {},
   "source": [
    "## Diagram batang"
   ]
  },
  {
   "cell_type": "code",
   "execution_count": 1,
   "metadata": {},
   "outputs": [
    {
     "name": "stderr",
     "output_type": "stream",
     "text": [
      "\n",
      "Attaching package: ‘dplyr’\n",
      "\n",
      "The following objects are masked from ‘package:stats’:\n",
      "\n",
      "    filter, lag\n",
      "\n",
      "The following objects are masked from ‘package:base’:\n",
      "\n",
      "    intersect, setdiff, setequal, union\n",
      "\n"
     ]
    },
    {
     "data": {
      "text/html": [
       "<table>\n",
       "<thead><tr><th scope=col>state</th><th scope=col>abb</th><th scope=col>region</th><th scope=col>population</th><th scope=col>PopulationDensity</th><th scope=col>murders</th><th scope=col>gunmurders</th><th scope=col>gunownership</th></tr></thead>\n",
       "<tbody>\n",
       "\t<tr><td>Alabama    </td><td>AL         </td><td>South      </td><td> 4779736   </td><td> 94.65     </td><td> 199       </td><td> 135       </td><td>0.517      </td></tr>\n",
       "\t<tr><td>Arizona    </td><td>AZ         </td><td>West       </td><td> 6392017   </td><td> 57.05     </td><td> 352       </td><td> 232       </td><td>0.311      </td></tr>\n",
       "\t<tr><td>California </td><td>CA         </td><td>West       </td><td>37253956   </td><td>244.20     </td><td>1811       </td><td>1257       </td><td>0.213      </td></tr>\n",
       "\t<tr><td>Colorado   </td><td>CO         </td><td>West       </td><td> 5029196   </td><td> 49.33     </td><td> 117       </td><td>  65       </td><td>0.347      </td></tr>\n",
       "\t<tr><td>Connecticut</td><td>CT         </td><td>Northeast  </td><td> 3574097   </td><td>741.40     </td><td> 131       </td><td>  97       </td><td>0.167      </td></tr>\n",
       "\t<tr><td>Florida    </td><td>FL         </td><td>South      </td><td>19687653   </td><td>360.20     </td><td> 987       </td><td> 669       </td><td>0.245      </td></tr>\n",
       "</tbody>\n",
       "</table>\n"
      ],
      "text/latex": [
       "\\begin{tabular}{r|llllllll}\n",
       " state & abb & region & population & PopulationDensity & murders & gunmurders & gunownership\\\\\n",
       "\\hline\n",
       "\t Alabama     & AL          & South       &  4779736    &  94.65      &  199        &  135        & 0.517      \\\\\n",
       "\t Arizona     & AZ          & West        &  6392017    &  57.05      &  352        &  232        & 0.311      \\\\\n",
       "\t California  & CA          & West        & 37253956    & 244.20      & 1811        & 1257        & 0.213      \\\\\n",
       "\t Colorado    & CO          & West        &  5029196    &  49.33      &  117        &   65        & 0.347      \\\\\n",
       "\t Connecticut & CT          & Northeast   &  3574097    & 741.40      &  131        &   97        & 0.167      \\\\\n",
       "\t Florida     & FL          & South       & 19687653    & 360.20      &  987        &  669        & 0.245      \\\\\n",
       "\\end{tabular}\n"
      ],
      "text/markdown": [
       "\n",
       "| state | abb | region | population | PopulationDensity | murders | gunmurders | gunownership |\n",
       "|---|---|---|---|---|---|---|---|\n",
       "| Alabama     | AL          | South       |  4779736    |  94.65      |  199        |  135        | 0.517       |\n",
       "| Arizona     | AZ          | West        |  6392017    |  57.05      |  352        |  232        | 0.311       |\n",
       "| California  | CA          | West        | 37253956    | 244.20      | 1811        | 1257        | 0.213       |\n",
       "| Colorado    | CO          | West        |  5029196    |  49.33      |  117        |   65        | 0.347       |\n",
       "| Connecticut | CT          | Northeast   |  3574097    | 741.40      |  131        |   97        | 0.167       |\n",
       "| Florida     | FL          | South       | 19687653    | 360.20      |  987        |  669        | 0.245       |\n",
       "\n"
      ],
      "text/plain": [
       "  state       abb region    population PopulationDensity murders gunmurders\n",
       "1 Alabama     AL  South      4779736    94.65             199     135      \n",
       "2 Arizona     AZ  West       6392017    57.05             352     232      \n",
       "3 California  CA  West      37253956   244.20            1811    1257      \n",
       "4 Colorado    CO  West       5029196    49.33             117      65      \n",
       "5 Connecticut CT  Northeast  3574097   741.40             131      97      \n",
       "6 Florida     FL  South     19687653   360.20             987     669      \n",
       "  gunownership\n",
       "1 0.517       \n",
       "2 0.311       \n",
       "3 0.213       \n",
       "4 0.347       \n",
       "5 0.167       \n",
       "6 0.245       "
      ]
     },
     "metadata": {},
     "output_type": "display_data"
    }
   ],
   "source": [
    "library(dplyr)\n",
    "df <- read.csv('../data/murders.csv')\n",
    "head(df)"
   ]
  },
  {
   "cell_type": "code",
   "execution_count": 2,
   "metadata": {},
   "outputs": [
    {
     "data": {
      "text/html": [
       "<table>\n",
       "<thead><tr><th scope=col>state</th><th scope=col>population</th><th scope=col>murders</th></tr></thead>\n",
       "<tbody>\n",
       "\t<tr><td>Alabama    </td><td> 4779736   </td><td> 199       </td></tr>\n",
       "\t<tr><td>Arizona    </td><td> 6392017   </td><td> 352       </td></tr>\n",
       "\t<tr><td>California </td><td>37253956   </td><td>1811       </td></tr>\n",
       "\t<tr><td>Colorado   </td><td> 5029196   </td><td> 117       </td></tr>\n",
       "\t<tr><td>Connecticut</td><td> 3574097   </td><td> 131       </td></tr>\n",
       "\t<tr><td>Florida    </td><td>19687653   </td><td> 987       </td></tr>\n",
       "</tbody>\n",
       "</table>\n"
      ],
      "text/latex": [
       "\\begin{tabular}{r|lll}\n",
       " state & population & murders\\\\\n",
       "\\hline\n",
       "\t Alabama     &  4779736    &  199       \\\\\n",
       "\t Arizona     &  6392017    &  352       \\\\\n",
       "\t California  & 37253956    & 1811       \\\\\n",
       "\t Colorado    &  5029196    &  117       \\\\\n",
       "\t Connecticut &  3574097    &  131       \\\\\n",
       "\t Florida     & 19687653    &  987       \\\\\n",
       "\\end{tabular}\n"
      ],
      "text/markdown": [
       "\n",
       "| state | population | murders |\n",
       "|---|---|---|\n",
       "| Alabama     |  4779736    |  199        |\n",
       "| Arizona     |  6392017    |  352        |\n",
       "| California  | 37253956    | 1811        |\n",
       "| Colorado    |  5029196    |  117        |\n",
       "| Connecticut |  3574097    |  131        |\n",
       "| Florida     | 19687653    |  987        |\n",
       "\n"
      ],
      "text/plain": [
       "  state       population murders\n",
       "1 Alabama      4779736    199   \n",
       "2 Arizona      6392017    352   \n",
       "3 California  37253956   1811   \n",
       "4 Colorado     5029196    117   \n",
       "5 Connecticut  3574097    131   \n",
       "6 Florida     19687653    987   "
      ]
     },
     "metadata": {},
     "output_type": "display_data"
    }
   ],
   "source": [
    "subdf <- select(df, state, population, murders)\n",
    "head(subdf)"
   ]
  },
  {
   "cell_type": "code",
   "execution_count": 3,
   "metadata": {},
   "outputs": [
    {
     "data": {
      "image/png": "[encoded data removed]",
      "text/plain": [
       "plot without title"
      ]
     },
     "metadata": {},
     "output_type": "display_data"
    }
   ],
   "source": [
    "barplot(subdf$population)"
   ]
  },
  {
   "cell_type": "code",
   "execution_count": 4,
   "metadata": {},
   "outputs": [
    {
     "data": {
      "image/png": "[encoded data removed]",
      "text/plain": [
       "Plot with title “State vs Population”"
      ]
     },
     "metadata": {},
     "output_type": "display_data"
    }
   ],
   "source": [
    "# kostumisasi grafik\n",
    "barplot(subdf$population,\n",
    "       xlab='states',\n",
    "       ylab='population',\n",
    "       main='State vs Population',\n",
    "       names.arg = subdf$state,\n",
    "       col='blue')"
   ]
  },
  {
   "cell_type": "code",
   "execution_count": 5,
   "metadata": {},
   "outputs": [
    {
     "data": {
      "image/png": "[encoded data removed]",
      "text/plain": [
       "Plot with title “State vs Murders”"
      ]
     },
     "metadata": {},
     "output_type": "display_data"
    }
   ],
   "source": [
    "# kostumisasi grafik murders\n",
    "barplot(subdf$murders,\n",
    "       xlab='murders',\n",
    "       ylab='population',\n",
    "       main='State vs Murders',\n",
    "       names.arg = subdf$state,\n",
    "       col='blue')"
   ]
  },
  {
   "cell_type": "code",
   "execution_count": 6,
   "metadata": {},
   "outputs": [
    {
     "data": {
      "image/png": "[encoded data removed]",
      "text/plain": [
       "Plot with title “State vs Murders”"
      ]
     },
     "metadata": {},
     "output_type": "display_data"
    }
   ],
   "source": [
    "# mengurutkan df berdasarkan angka pembunuhan (secara terbalik)\n",
    "dfsort <- arrange(df, desc(murders)) \n",
    "\n",
    "# menseleksi kolom - kolom tertentu\n",
    "subdfsort <- select(dfsort, state, population, murders)\n",
    "\n",
    "# Mengambil 5 data tertinggi untuk kasus pembunuhan\n",
    "topsubdfsort <- head(subdfsort,5)\n",
    "\n",
    "# PLOT!!!\n",
    "barplot(topsubdfsort$murders,\n",
    "       xlab='murders',\n",
    "       ylab='population',\n",
    "       main='State vs Murders',\n",
    "       names.arg = topsubdfsort$state,\n",
    "       col='blue')"
   ]
  },
  {
   "cell_type": "markdown",
   "metadata": {},
   "source": [
    "## Diagram batang horizontal"
   ]
  },
  {
   "cell_type": "code",
   "execution_count": 9,
   "metadata": {},
   "outputs": [
    {
     "data": {
      "text/html": [
       "<table>\n",
       "<thead><tr><th scope=col>state</th><th scope=col>population</th><th scope=col>murders</th></tr></thead>\n",
       "<tbody>\n",
       "\t<tr><td>Arizona   </td><td> 6392017  </td><td> 352      </td></tr>\n",
       "\t<tr><td>Colorado  </td><td> 5029196  </td><td> 117      </td></tr>\n",
       "\t<tr><td>Georgia   </td><td> 9920000  </td><td> 527      </td></tr>\n",
       "\t<tr><td>Iowa      </td><td> 3046355  </td><td>  38      </td></tr>\n",
       "\t<tr><td>Kansas    </td><td> 2853118  </td><td> 100      </td></tr>\n",
       "\t<tr><td>Maine     </td><td> 1328361  </td><td>  24      </td></tr>\n",
       "\t<tr><td>Michigan  </td><td> 9883640  </td><td> 558      </td></tr>\n",
       "\t<tr><td>New York  </td><td>19378102  </td><td> 860      </td></tr>\n",
       "\t<tr><td>Texas     </td><td>25145561  </td><td>1246      </td></tr>\n",
       "\t<tr><td>Washington</td><td> 6724540  </td><td> 151      </td></tr>\n",
       "</tbody>\n",
       "</table>\n"
      ],
      "text/latex": [
       "\\begin{tabular}{r|lll}\n",
       " state & population & murders\\\\\n",
       "\\hline\n",
       "\t Arizona    &  6392017   &  352      \\\\\n",
       "\t Colorado   &  5029196   &  117      \\\\\n",
       "\t Georgia    &  9920000   &  527      \\\\\n",
       "\t Iowa       &  3046355   &   38      \\\\\n",
       "\t Kansas     &  2853118   &  100      \\\\\n",
       "\t Maine      &  1328361   &   24      \\\\\n",
       "\t Michigan   &  9883640   &  558      \\\\\n",
       "\t New York   & 19378102   &  860      \\\\\n",
       "\t Texas      & 25145561   & 1246      \\\\\n",
       "\t Washington &  6724540   &  151      \\\\\n",
       "\\end{tabular}\n"
      ],
      "text/markdown": [
       "\n",
       "| state | population | murders |\n",
       "|---|---|---|\n",
       "| Arizona    |  6392017   |  352       |\n",
       "| Colorado   |  5029196   |  117       |\n",
       "| Georgia    |  9920000   |  527       |\n",
       "| Iowa       |  3046355   |   38       |\n",
       "| Kansas     |  2853118   |  100       |\n",
       "| Maine      |  1328361   |   24       |\n",
       "| Michigan   |  9883640   |  558       |\n",
       "| New York   | 19378102   |  860       |\n",
       "| Texas      | 25145561   | 1246       |\n",
       "| Washington |  6724540   |  151       |\n",
       "\n"
      ],
      "text/plain": [
       "   state      population murders\n",
       "1  Arizona     6392017    352   \n",
       "2  Colorado    5029196    117   \n",
       "3  Georgia     9920000    527   \n",
       "4  Iowa        3046355     38   \n",
       "5  Kansas      2853118    100   \n",
       "6  Maine       1328361     24   \n",
       "7  Michigan    9883640    558   \n",
       "8  New York   19378102    860   \n",
       "9  Texas      25145561   1246   \n",
       "10 Washington  6724540    151   "
      ]
     },
     "metadata": {},
     "output_type": "display_data"
    }
   ],
   "source": [
    "df <- read.csv(\"../data/murdersmini.csv\")\n",
    "df"
   ]
  },
  {
   "cell_type": "code",
   "execution_count": 16,
   "metadata": {},
   "outputs": [
    {
     "data": {
      "image/png": "[encoded data removed]",
      "text/plain": [
       "Plot with title “States vs Murders”"
      ]
     },
     "metadata": {},
     "output_type": "display_data"
    }
   ],
   "source": [
    "seldf <- select(df, state, murders)\n",
    "barplot(seldf$murders, horiz=T,\n",
    "       xlab='Murders', ylab='States',\n",
    "       main = 'States vs Murders',\n",
    "       col='blue',\n",
    "       names.arg = seldf$state)"
   ]
  },
  {
   "cell_type": "markdown",
   "metadata": {},
   "source": [
    "## Diagram batang bertumpuk"
   ]
  },
  {
   "cell_type": "code",
   "execution_count": null,
   "metadata": {},
   "outputs": [],
   "source": []
  }
 ],
 "metadata": {
  "kernelspec": {
   "display_name": "R",
   "language": "R",
   "name": "ir"
  },
  "language_info": {
   "codemirror_mode": "r",
   "file_extension": ".r",
   "mimetype": "text/x-r-source",
   "name": "R",
   "pygments_lexer": "r",
   "version": "3.6.1"
  }
 },
 "nbformat": 4,
 "nbformat_minor": 4
}
