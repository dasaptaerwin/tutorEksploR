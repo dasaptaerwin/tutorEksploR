{
 "cells": [
  {
   "cell_type": "markdown",
   "metadata": {},
   "source": [
    "# List"
   ]
  },
  {
   "cell_type": "markdown",
   "metadata": {},
   "source": [
    "Kumpulan berbagai macam tipe data di R"
   ]
  },
  {
   "cell_type": "code",
   "execution_count": 1,
   "metadata": {},
   "outputs": [],
   "source": [
    "v <- c(1,2,3,4,5)\n",
    "M <- matrix(1:10, nrow=2)\n",
    "c1 <- c('Ignatius', 'Laynez', 'Faber', 'Xaverius', 'Kanisius')\n",
    "c2 <- c(42,37,28,45,43)"
   ]
  },
  {
   "cell_type": "code",
   "execution_count": 2,
   "metadata": {},
   "outputs": [
    {
     "data": {
      "text/html": [
       "<table>\n",
       "<thead><tr><th scope=col>Nama</th><th scope=col>ID</th></tr></thead>\n",
       "<tbody>\n",
       "\t<tr><td>Ignatius</td><td>42      </td></tr>\n",
       "\t<tr><td>Laynez  </td><td>37      </td></tr>\n",
       "\t<tr><td>Faber   </td><td>28      </td></tr>\n",
       "\t<tr><td>Xaverius</td><td>45      </td></tr>\n",
       "\t<tr><td>Kanisius</td><td>43      </td></tr>\n",
       "</tbody>\n",
       "</table>\n"
      ],
      "text/latex": [
       "\\begin{tabular}{r|ll}\n",
       " Nama & ID\\\\\n",
       "\\hline\n",
       "\t Ignatius & 42      \\\\\n",
       "\t Laynez   & 37      \\\\\n",
       "\t Faber    & 28      \\\\\n",
       "\t Xaverius & 45      \\\\\n",
       "\t Kanisius & 43      \\\\\n",
       "\\end{tabular}\n"
      ],
      "text/markdown": [
       "\n",
       "| Nama | ID |\n",
       "|---|---|\n",
       "| Ignatius | 42       |\n",
       "| Laynez   | 37       |\n",
       "| Faber    | 28       |\n",
       "| Xaverius | 45       |\n",
       "| Kanisius | 43       |\n",
       "\n"
      ],
      "text/plain": [
       "  Nama     ID\n",
       "1 Ignatius 42\n",
       "2 Laynez   37\n",
       "3 Faber    28\n",
       "4 Xaverius 45\n",
       "5 Kanisius 43"
      ]
     },
     "metadata": {},
     "output_type": "display_data"
    }
   ],
   "source": [
    "df <- data.frame(Nama = c1, ID = c2)\n",
    "df"
   ]
  },
  {
   "cell_type": "code",
   "execution_count": 3,
   "metadata": {},
   "outputs": [
    {
     "data": {
      "text/html": [
       "<ol>\n",
       "\t<li><ol class=list-inline>\n",
       "\t<li>1</li>\n",
       "\t<li>2</li>\n",
       "\t<li>3</li>\n",
       "\t<li>4</li>\n",
       "\t<li>5</li>\n",
       "</ol>\n",
       "</li>\n",
       "\t<li><table>\n",
       "<tbody>\n",
       "\t<tr><td>1 </td><td>3 </td><td>5 </td><td>7 </td><td> 9</td></tr>\n",
       "\t<tr><td>2 </td><td>4 </td><td>6 </td><td>8 </td><td>10</td></tr>\n",
       "</tbody>\n",
       "</table>\n",
       "</li>\n",
       "\t<li><table>\n",
       "<thead><tr><th scope=col>Nama</th><th scope=col>ID</th></tr></thead>\n",
       "<tbody>\n",
       "\t<tr><td>Ignatius</td><td>42      </td></tr>\n",
       "\t<tr><td>Laynez  </td><td>37      </td></tr>\n",
       "\t<tr><td>Faber   </td><td>28      </td></tr>\n",
       "\t<tr><td>Xaverius</td><td>45      </td></tr>\n",
       "\t<tr><td>Kanisius</td><td>43      </td></tr>\n",
       "</tbody>\n",
       "</table>\n",
       "</li>\n",
       "</ol>\n"
      ],
      "text/latex": [
       "\\begin{enumerate}\n",
       "\\item \\begin{enumerate*}\n",
       "\\item 1\n",
       "\\item 2\n",
       "\\item 3\n",
       "\\item 4\n",
       "\\item 5\n",
       "\\end{enumerate*}\n",
       "\n",
       "\\item \\begin{tabular}{lllll}\n",
       "\t 1  & 3  & 5  & 7  &  9\\\\\n",
       "\t 2  & 4  & 6  & 8  & 10\\\\\n",
       "\\end{tabular}\n",
       "\n",
       "\\item \\begin{tabular}{r|ll}\n",
       " Nama & ID\\\\\n",
       "\\hline\n",
       "\t Ignatius & 42      \\\\\n",
       "\t Laynez   & 37      \\\\\n",
       "\t Faber    & 28      \\\\\n",
       "\t Xaverius & 45      \\\\\n",
       "\t Kanisius & 43      \\\\\n",
       "\\end{tabular}\n",
       "\n",
       "\\end{enumerate}\n"
      ],
      "text/markdown": [
       "1. 1. 1\n",
       "2. 2\n",
       "3. 3\n",
       "4. 4\n",
       "5. 5\n",
       "\n",
       "\n",
       "\n",
       "2. \n",
       "| 1  | 3  | 5  | 7  |  9 |\n",
       "| 2  | 4  | 6  | 8  | 10 |\n",
       "\n",
       "\n",
       "3. \n",
       "| Nama | ID |\n",
       "|---|---|\n",
       "| Ignatius | 42       |\n",
       "| Laynez   | 37       |\n",
       "| Faber    | 28       |\n",
       "| Xaverius | 45       |\n",
       "| Kanisius | 43       |\n",
       "\n",
       "\n",
       "\n",
       "\n"
      ],
      "text/plain": [
       "[[1]]\n",
       "[1] 1 2 3 4 5\n",
       "\n",
       "[[2]]\n",
       "     [,1] [,2] [,3] [,4] [,5]\n",
       "[1,]    1    3    5    7    9\n",
       "[2,]    2    4    6    8   10\n",
       "\n",
       "[[3]]\n",
       "      Nama ID\n",
       "1 Ignatius 42\n",
       "2   Laynez 37\n",
       "3    Faber 28\n",
       "4 Xaverius 45\n",
       "5 Kanisius 43\n"
      ]
     },
     "metadata": {},
     "output_type": "display_data"
    }
   ],
   "source": [
    "# Pendefinisian list\n",
    "l <- list(v,M,df)\n",
    "l"
   ]
  },
  {
   "cell_type": "code",
   "execution_count": 4,
   "metadata": {},
   "outputs": [
    {
     "data": {
      "text/html": [
       "<dl>\n",
       "\t<dt>$sampel_vektor</dt>\n",
       "\t\t<dd><ol class=list-inline>\n",
       "\t<li>1</li>\n",
       "\t<li>2</li>\n",
       "\t<li>3</li>\n",
       "\t<li>4</li>\n",
       "\t<li>5</li>\n",
       "</ol>\n",
       "</dd>\n",
       "\t<dt>$sampel_matriks</dt>\n",
       "\t\t<dd><table>\n",
       "<tbody>\n",
       "\t<tr><td>1 </td><td>3 </td><td>5 </td><td>7 </td><td> 9</td></tr>\n",
       "\t<tr><td>2 </td><td>4 </td><td>6 </td><td>8 </td><td>10</td></tr>\n",
       "</tbody>\n",
       "</table>\n",
       "</dd>\n",
       "\t<dt>$sample_data_frame</dt>\n",
       "\t\t<dd><table>\n",
       "<thead><tr><th scope=col>Nama</th><th scope=col>ID</th></tr></thead>\n",
       "<tbody>\n",
       "\t<tr><td>Ignatius</td><td>42      </td></tr>\n",
       "\t<tr><td>Laynez  </td><td>37      </td></tr>\n",
       "\t<tr><td>Faber   </td><td>28      </td></tr>\n",
       "\t<tr><td>Xaverius</td><td>45      </td></tr>\n",
       "\t<tr><td>Kanisius</td><td>43      </td></tr>\n",
       "</tbody>\n",
       "</table>\n",
       "</dd>\n",
       "</dl>\n"
      ],
      "text/latex": [
       "\\begin{description}\n",
       "\\item[\\$sampel\\_vektor] \\begin{enumerate*}\n",
       "\\item 1\n",
       "\\item 2\n",
       "\\item 3\n",
       "\\item 4\n",
       "\\item 5\n",
       "\\end{enumerate*}\n",
       "\n",
       "\\item[\\$sampel\\_matriks] \\begin{tabular}{lllll}\n",
       "\t 1  & 3  & 5  & 7  &  9\\\\\n",
       "\t 2  & 4  & 6  & 8  & 10\\\\\n",
       "\\end{tabular}\n",
       "\n",
       "\\item[\\$sample\\_data\\_frame] \\begin{tabular}{r|ll}\n",
       " Nama & ID\\\\\n",
       "\\hline\n",
       "\t Ignatius & 42      \\\\\n",
       "\t Laynez   & 37      \\\\\n",
       "\t Faber    & 28      \\\\\n",
       "\t Xaverius & 45      \\\\\n",
       "\t Kanisius & 43      \\\\\n",
       "\\end{tabular}\n",
       "\n",
       "\\end{description}\n"
      ],
      "text/markdown": [
       "$sampel_vektor\n",
       ":   1. 1\n",
       "2. 2\n",
       "3. 3\n",
       "4. 4\n",
       "5. 5\n",
       "\n",
       "\n",
       "\n",
       "$sampel_matriks\n",
       ":   \n",
       "| 1  | 3  | 5  | 7  |  9 |\n",
       "| 2  | 4  | 6  | 8  | 10 |\n",
       "\n",
       "\n",
       "$sample_data_frame\n",
       ":   \n",
       "| Nama | ID |\n",
       "|---|---|\n",
       "| Ignatius | 42       |\n",
       "| Laynez   | 37       |\n",
       "| Faber    | 28       |\n",
       "| Xaverius | 45       |\n",
       "| Kanisius | 43       |\n",
       "\n",
       "\n",
       "\n",
       "\n"
      ],
      "text/plain": [
       "$sampel_vektor\n",
       "[1] 1 2 3 4 5\n",
       "\n",
       "$sampel_matriks\n",
       "     [,1] [,2] [,3] [,4] [,5]\n",
       "[1,]    1    3    5    7    9\n",
       "[2,]    2    4    6    8   10\n",
       "\n",
       "$sample_data_frame\n",
       "      Nama ID\n",
       "1 Ignatius 42\n",
       "2   Laynez 37\n",
       "3    Faber 28\n",
       "4 Xaverius 45\n",
       "5 Kanisius 43\n"
      ]
     },
     "metadata": {},
     "output_type": "display_data"
    }
   ],
   "source": [
    "# penamaaan ulang indeks list\n",
    "\n",
    "l2 <- list(sampel_vektor = v, sampel_matriks = M, sample_data_frame = df)\n",
    "l2"
   ]
  },
  {
   "cell_type": "code",
   "execution_count": 5,
   "metadata": {},
   "outputs": [
    {
     "data": {
      "text/html": [
       "<strong>$sampel_vektor</strong> = <ol class=list-inline>\n",
       "\t<li>1</li>\n",
       "\t<li>2</li>\n",
       "\t<li>3</li>\n",
       "\t<li>4</li>\n",
       "\t<li>5</li>\n",
       "</ol>\n"
      ],
      "text/latex": [
       "\\textbf{\\$sampel\\_vektor} = \\begin{enumerate*}\n",
       "\\item 1\n",
       "\\item 2\n",
       "\\item 3\n",
       "\\item 4\n",
       "\\item 5\n",
       "\\end{enumerate*}\n"
      ],
      "text/markdown": [
       "**$sampel_vektor** = 1. 1\n",
       "2. 2\n",
       "3. 3\n",
       "4. 4\n",
       "5. 5\n",
       "\n",
       "\n"
      ],
      "text/plain": [
       "$sampel_vektor\n",
       "[1] 1 2 3 4 5\n"
      ]
     },
     "metadata": {},
     "output_type": "display_data"
    }
   ],
   "source": [
    "l2[1]"
   ]
  },
  {
   "cell_type": "code",
   "execution_count": 14,
   "metadata": {},
   "outputs": [
    {
     "data": {
      "text/html": [
       "<strong>$sampel_vektor</strong> = <ol class=list-inline>\n",
       "\t<li>1</li>\n",
       "\t<li>2</li>\n",
       "\t<li>3</li>\n",
       "\t<li>4</li>\n",
       "\t<li>5</li>\n",
       "</ol>\n"
      ],
      "text/latex": [
       "\\textbf{\\$sampel\\_vektor} = \\begin{enumerate*}\n",
       "\\item 1\n",
       "\\item 2\n",
       "\\item 3\n",
       "\\item 4\n",
       "\\item 5\n",
       "\\end{enumerate*}\n"
      ],
      "text/markdown": [
       "**$sampel_vektor** = 1. 1\n",
       "2. 2\n",
       "3. 3\n",
       "4. 4\n",
       "5. 5\n",
       "\n",
       "\n"
      ],
      "text/plain": [
       "$sampel_vektor\n",
       "[1] 1 2 3 4 5\n"
      ]
     },
     "metadata": {},
     "output_type": "display_data"
    }
   ],
   "source": [
    "l2['sampel_vektor']"
   ]
  },
  {
   "cell_type": "code",
   "execution_count": 8,
   "metadata": {},
   "outputs": [
    {
     "data": {
      "text/html": [
       "<ol class=list-inline>\n",
       "\t<li>1</li>\n",
       "\t<li>2</li>\n",
       "\t<li>3</li>\n",
       "\t<li>4</li>\n",
       "\t<li>5</li>\n",
       "</ol>\n"
      ],
      "text/latex": [
       "\\begin{enumerate*}\n",
       "\\item 1\n",
       "\\item 2\n",
       "\\item 3\n",
       "\\item 4\n",
       "\\item 5\n",
       "\\end{enumerate*}\n"
      ],
      "text/markdown": [
       "1. 1\n",
       "2. 2\n",
       "3. 3\n",
       "4. 4\n",
       "5. 5\n",
       "\n",
       "\n"
      ],
      "text/plain": [
       "[1] 1 2 3 4 5"
      ]
     },
     "metadata": {},
     "output_type": "display_data"
    }
   ],
   "source": [
    "l2$sampel_vektor"
   ]
  },
  {
   "cell_type": "code",
   "execution_count": 9,
   "metadata": {},
   "outputs": [
    {
     "data": {
      "text/html": [
       "<ol class=list-inline>\n",
       "\t<li>1</li>\n",
       "\t<li>2</li>\n",
       "\t<li>3</li>\n",
       "\t<li>4</li>\n",
       "\t<li>5</li>\n",
       "</ol>\n"
      ],
      "text/latex": [
       "\\begin{enumerate*}\n",
       "\\item 1\n",
       "\\item 2\n",
       "\\item 3\n",
       "\\item 4\n",
       "\\item 5\n",
       "\\end{enumerate*}\n"
      ],
      "text/markdown": [
       "1. 1\n",
       "2. 2\n",
       "3. 3\n",
       "4. 4\n",
       "5. 5\n",
       "\n",
       "\n"
      ],
      "text/plain": [
       "[1] 1 2 3 4 5"
      ]
     },
     "metadata": {},
     "output_type": "display_data"
    }
   ],
   "source": [
    "l2[['sampel_vektor']]"
   ]
  },
  {
   "cell_type": "code",
   "execution_count": 11,
   "metadata": {},
   "outputs": [
    {
     "name": "stdout",
     "output_type": "stream",
     "text": [
      "[1] \"list\"\n",
      "[1] \"list\"\n"
     ]
    }
   ],
   "source": [
    "print(class(l2['sampel_vektor']))\n",
    "print(class(l2[1]))"
   ]
  },
  {
   "cell_type": "code",
   "execution_count": 12,
   "metadata": {},
   "outputs": [
    {
     "name": "stdout",
     "output_type": "stream",
     "text": [
      "[1] \"numeric\"\n",
      "[1] \"numeric\"\n"
     ]
    }
   ],
   "source": [
    "print(class(l2$sampel_vektor))\n",
    "print(class(l2[['sampel_vektor']]))"
   ]
  },
  {
   "cell_type": "code",
   "execution_count": 15,
   "metadata": {},
   "outputs": [
    {
     "data": {
      "text/html": [
       "<dl>\n",
       "\t<dt>[[1]]</dt>\n",
       "\t\t<dd><ol class=list-inline>\n",
       "\t<li>1</li>\n",
       "\t<li>2</li>\n",
       "\t<li>3</li>\n",
       "\t<li>4</li>\n",
       "\t<li>5</li>\n",
       "</ol>\n",
       "</dd>\n",
       "\t<dt>[[2]]</dt>\n",
       "\t\t<dd><table>\n",
       "<tbody>\n",
       "\t<tr><td>1 </td><td>3 </td><td>5 </td><td>7 </td><td> 9</td></tr>\n",
       "\t<tr><td>2 </td><td>4 </td><td>6 </td><td>8 </td><td>10</td></tr>\n",
       "</tbody>\n",
       "</table>\n",
       "</dd>\n",
       "\t<dt>[[3]]</dt>\n",
       "\t\t<dd><table>\n",
       "<thead><tr><th scope=col>Nama</th><th scope=col>ID</th></tr></thead>\n",
       "<tbody>\n",
       "\t<tr><td>Ignatius</td><td>42      </td></tr>\n",
       "\t<tr><td>Laynez  </td><td>37      </td></tr>\n",
       "\t<tr><td>Faber   </td><td>28      </td></tr>\n",
       "\t<tr><td>Xaverius</td><td>45      </td></tr>\n",
       "\t<tr><td>Kanisius</td><td>43      </td></tr>\n",
       "</tbody>\n",
       "</table>\n",
       "</dd>\n",
       "\t<dt>$sampel_vektor</dt>\n",
       "\t\t<dd><ol class=list-inline>\n",
       "\t<li>1</li>\n",
       "\t<li>2</li>\n",
       "\t<li>3</li>\n",
       "\t<li>4</li>\n",
       "\t<li>5</li>\n",
       "</ol>\n",
       "</dd>\n",
       "\t<dt>$sampel_matriks</dt>\n",
       "\t\t<dd><table>\n",
       "<tbody>\n",
       "\t<tr><td>1 </td><td>3 </td><td>5 </td><td>7 </td><td> 9</td></tr>\n",
       "\t<tr><td>2 </td><td>4 </td><td>6 </td><td>8 </td><td>10</td></tr>\n",
       "</tbody>\n",
       "</table>\n",
       "</dd>\n",
       "\t<dt>$sample_data_frame</dt>\n",
       "\t\t<dd><table>\n",
       "<thead><tr><th scope=col>Nama</th><th scope=col>ID</th></tr></thead>\n",
       "<tbody>\n",
       "\t<tr><td>Ignatius</td><td>42      </td></tr>\n",
       "\t<tr><td>Laynez  </td><td>37      </td></tr>\n",
       "\t<tr><td>Faber   </td><td>28      </td></tr>\n",
       "\t<tr><td>Xaverius</td><td>45      </td></tr>\n",
       "\t<tr><td>Kanisius</td><td>43      </td></tr>\n",
       "</tbody>\n",
       "</table>\n",
       "</dd>\n",
       "</dl>\n"
      ],
      "text/latex": [
       "\\begin{description}\n",
       "\\item[{[[1]]}] \\begin{enumerate*}\n",
       "\\item 1\n",
       "\\item 2\n",
       "\\item 3\n",
       "\\item 4\n",
       "\\item 5\n",
       "\\end{enumerate*}\n",
       "\n",
       "\\item[{[[2]]}] \\begin{tabular}{lllll}\n",
       "\t 1  & 3  & 5  & 7  &  9\\\\\n",
       "\t 2  & 4  & 6  & 8  & 10\\\\\n",
       "\\end{tabular}\n",
       "\n",
       "\\item[{[[3]]}] \\begin{tabular}{r|ll}\n",
       " Nama & ID\\\\\n",
       "\\hline\n",
       "\t Ignatius & 42      \\\\\n",
       "\t Laynez   & 37      \\\\\n",
       "\t Faber    & 28      \\\\\n",
       "\t Xaverius & 45      \\\\\n",
       "\t Kanisius & 43      \\\\\n",
       "\\end{tabular}\n",
       "\n",
       "\\item[\\$sampel\\_vektor] \\begin{enumerate*}\n",
       "\\item 1\n",
       "\\item 2\n",
       "\\item 3\n",
       "\\item 4\n",
       "\\item 5\n",
       "\\end{enumerate*}\n",
       "\n",
       "\\item[\\$sampel\\_matriks] \\begin{tabular}{lllll}\n",
       "\t 1  & 3  & 5  & 7  &  9\\\\\n",
       "\t 2  & 4  & 6  & 8  & 10\\\\\n",
       "\\end{tabular}\n",
       "\n",
       "\\item[\\$sample\\_data\\_frame] \\begin{tabular}{r|ll}\n",
       " Nama & ID\\\\\n",
       "\\hline\n",
       "\t Ignatius & 42      \\\\\n",
       "\t Laynez   & 37      \\\\\n",
       "\t Faber    & 28      \\\\\n",
       "\t Xaverius & 45      \\\\\n",
       "\t Kanisius & 43      \\\\\n",
       "\\end{tabular}\n",
       "\n",
       "\\end{description}\n"
      ],
      "text/markdown": [
       "[[1]]\n",
       ":   1. 1\n",
       "2. 2\n",
       "3. 3\n",
       "4. 4\n",
       "5. 5\n",
       "\n",
       "\n",
       "\n",
       "[[2]]\n",
       ":   \n",
       "| 1  | 3  | 5  | 7  |  9 |\n",
       "| 2  | 4  | 6  | 8  | 10 |\n",
       "\n",
       "\n",
       "[[3]]\n",
       ":   \n",
       "| Nama | ID |\n",
       "|---|---|\n",
       "| Ignatius | 42       |\n",
       "| Laynez   | 37       |\n",
       "| Faber    | 28       |\n",
       "| Xaverius | 45       |\n",
       "| Kanisius | 43       |\n",
       "\n",
       "\n",
       "$sampel_vektor\n",
       ":   1. 1\n",
       "2. 2\n",
       "3. 3\n",
       "4. 4\n",
       "5. 5\n",
       "\n",
       "\n",
       "\n",
       "$sampel_matriks\n",
       ":   \n",
       "| 1  | 3  | 5  | 7  |  9 |\n",
       "| 2  | 4  | 6  | 8  | 10 |\n",
       "\n",
       "\n",
       "$sample_data_frame\n",
       ":   \n",
       "| Nama | ID |\n",
       "|---|---|\n",
       "| Ignatius | 42       |\n",
       "| Laynez   | 37       |\n",
       "| Faber    | 28       |\n",
       "| Xaverius | 45       |\n",
       "| Kanisius | 43       |\n",
       "\n",
       "\n",
       "\n",
       "\n"
      ],
      "text/plain": [
       "[[1]]\n",
       "[1] 1 2 3 4 5\n",
       "\n",
       "[[2]]\n",
       "     [,1] [,2] [,3] [,4] [,5]\n",
       "[1,]    1    3    5    7    9\n",
       "[2,]    2    4    6    8   10\n",
       "\n",
       "[[3]]\n",
       "      Nama ID\n",
       "1 Ignatius 42\n",
       "2   Laynez 37\n",
       "3    Faber 28\n",
       "4 Xaverius 45\n",
       "5 Kanisius 43\n",
       "\n",
       "$sampel_vektor\n",
       "[1] 1 2 3 4 5\n",
       "\n",
       "$sampel_matriks\n",
       "     [,1] [,2] [,3] [,4] [,5]\n",
       "[1,]    1    3    5    7    9\n",
       "[2,]    2    4    6    8   10\n",
       "\n",
       "$sample_data_frame\n",
       "      Nama ID\n",
       "1 Ignatius 42\n",
       "2   Laynez 37\n",
       "3    Faber 28\n",
       "4 Xaverius 45\n",
       "5 Kanisius 43\n"
      ]
     },
     "metadata": {},
     "output_type": "display_data"
    }
   ],
   "source": [
    "# Mengombinasikan dua list\n",
    "l3 <- c(l,l2)\n",
    "l3"
   ]
  },
  {
   "cell_type": "code",
   "execution_count": 16,
   "metadata": {},
   "outputs": [
    {
     "name": "stdout",
     "output_type": "stream",
     "text": [
      "List of 3\n",
      " $ sampel_vektor    : num [1:5] 1 2 3 4 5\n",
      " $ sampel_matriks   : int [1:2, 1:5] 1 2 3 4 5 6 7 8 9 10\n",
      " $ sample_data_frame:'data.frame':\t5 obs. of  2 variables:\n",
      "  ..$ Nama: Factor w/ 5 levels \"Faber\",\"Ignatius\",..: 2 4 1 5 3\n",
      "  ..$ ID  : num [1:5] 42 37 28 45 43\n"
     ]
    }
   ],
   "source": [
    "str(l2)"
   ]
  },
  {
   "cell_type": "code",
   "execution_count": 17,
   "metadata": {},
   "outputs": [
    {
     "data": {
      "text/plain": [
       "                  Length Class      Mode   \n",
       "sampel_vektor      5     -none-     numeric\n",
       "sampel_matriks    10     -none-     numeric\n",
       "sample_data_frame  2     data.frame list   "
      ]
     },
     "metadata": {},
     "output_type": "display_data"
    }
   ],
   "source": [
    "summary(l2)"
   ]
  }
 ],
 "metadata": {
  "kernelspec": {
   "display_name": "R",
   "language": "R",
   "name": "ir"
  },
  "language_info": {
   "codemirror_mode": "r",
   "file_extension": ".r",
   "mimetype": "text/x-r-source",
   "name": "R",
   "pygments_lexer": "r",
   "version": "3.6.1"
  }
 },
 "nbformat": 4,
 "nbformat_minor": 4
}
