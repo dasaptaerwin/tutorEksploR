{
 "cells": [
  {
   "cell_type": "markdown",
   "metadata": {},
   "source": [
    "# Penanganan data tabular"
   ]
  },
  {
   "cell_type": "markdown",
   "metadata": {},
   "source": [
    "## Penanganan data csv"
   ]
  },
  {
   "cell_type": "code",
   "execution_count": 1,
   "metadata": {},
   "outputs": [
    {
     "data": {
      "text/html": [
       "'/home/ronggolawe/coding_repo/tutorialStatdasR/notebooks'"
      ],
      "text/latex": [
       "'/home/ronggolawe/coding\\_repo/tutorialStatdasR/notebooks'"
      ],
      "text/markdown": [
       "'/home/ronggolawe/coding_repo/tutorialStatdasR/notebooks'"
      ],
      "text/plain": [
       "[1] \"/home/ronggolawe/coding_repo/tutorialStatdasR/notebooks\""
      ]
     },
     "metadata": {},
     "output_type": "display_data"
    }
   ],
   "source": [
    "getwd() # tahu di mana posisi kita saat ini"
   ]
  },
  {
   "cell_type": "code",
   "execution_count": 2,
   "metadata": {},
   "outputs": [],
   "source": [
    "setwd(\"/home/ronggolawe/coding_repo/tutorialStatdasR/notebooks\") # mengatur posisi kita"
   ]
  },
  {
   "cell_type": "code",
   "execution_count": 3,
   "metadata": {},
   "outputs": [
    {
     "data": {
      "text/html": [
       "'/home/ronggolawe/coding_repo/tutorialStatdasR/notebooks'"
      ],
      "text/latex": [
       "'/home/ronggolawe/coding\\_repo/tutorialStatdasR/notebooks'"
      ],
      "text/markdown": [
       "'/home/ronggolawe/coding_repo/tutorialStatdasR/notebooks'"
      ],
      "text/plain": [
       "[1] \"/home/ronggolawe/coding_repo/tutorialStatdasR/notebooks\""
      ]
     },
     "metadata": {},
     "output_type": "display_data"
    }
   ],
   "source": [
    "getwd()"
   ]
  },
  {
   "cell_type": "code",
   "execution_count": 4,
   "metadata": {},
   "outputs": [
    {
     "data": {
      "text/html": [
       "<table>\n",
       "<thead><tr><th scope=col>ID</th><th scope=col>NAMA</th><th scope=col>Gaji</th><th scope=col>Jurusan</th></tr></thead>\n",
       "<tbody>\n",
       "\t<tr><td>1                 </td><td>Petrus            </td><td> 1000000          </td><td>Teologi           </td></tr>\n",
       "\t<tr><td>2                 </td><td>Matius            </td><td> 2000000          </td><td>Filsafat          </td></tr>\n",
       "\t<tr><td>3                 </td><td>Markus            </td><td> 5000000          </td><td>Meteorologi       </td></tr>\n",
       "\t<tr><td>4                 </td><td>Barnabas          </td><td>10000000          </td><td>Teknik Informatika</td></tr>\n",
       "\t<tr><td>5                 </td><td>Thomas            </td><td>20000000          </td><td>Sistem Informasi  </td></tr>\n",
       "\t<tr><td>6                 </td><td>Ignatius          </td><td>  500000          </td><td>Pendidikan Agama  </td></tr>\n",
       "\t<tr><td>7                 </td><td>Aisyah            </td><td>25000000          </td><td>Teknik Elektro    </td></tr>\n",
       "\t<tr><td>8                 </td><td>Supriyanto        </td><td> 1500000          </td><td>Ilmu Perpustakaan </td></tr>\n",
       "</tbody>\n",
       "</table>\n"
      ],
      "text/latex": [
       "\\begin{tabular}{r|llll}\n",
       " ID & NAMA & Gaji & Jurusan\\\\\n",
       "\\hline\n",
       "\t 1                  & Petrus             &  1000000           & Teologi           \\\\\n",
       "\t 2                  & Matius             &  2000000           & Filsafat          \\\\\n",
       "\t 3                  & Markus             &  5000000           & Meteorologi       \\\\\n",
       "\t 4                  & Barnabas           & 10000000           & Teknik Informatika\\\\\n",
       "\t 5                  & Thomas             & 20000000           & Sistem Informasi  \\\\\n",
       "\t 6                  & Ignatius           &   500000           & Pendidikan Agama  \\\\\n",
       "\t 7                  & Aisyah             & 25000000           & Teknik Elektro    \\\\\n",
       "\t 8                  & Supriyanto         &  1500000           & Ilmu Perpustakaan \\\\\n",
       "\\end{tabular}\n"
      ],
      "text/markdown": [
       "\n",
       "| ID | NAMA | Gaji | Jurusan |\n",
       "|---|---|---|---|\n",
       "| 1                  | Petrus             |  1000000           | Teologi            |\n",
       "| 2                  | Matius             |  2000000           | Filsafat           |\n",
       "| 3                  | Markus             |  5000000           | Meteorologi        |\n",
       "| 4                  | Barnabas           | 10000000           | Teknik Informatika |\n",
       "| 5                  | Thomas             | 20000000           | Sistem Informasi   |\n",
       "| 6                  | Ignatius           |   500000           | Pendidikan Agama   |\n",
       "| 7                  | Aisyah             | 25000000           | Teknik Elektro     |\n",
       "| 8                  | Supriyanto         |  1500000           | Ilmu Perpustakaan  |\n",
       "\n"
      ],
      "text/plain": [
       "  ID NAMA       Gaji     Jurusan           \n",
       "1 1  Petrus      1000000 Teologi           \n",
       "2 2  Matius      2000000 Filsafat          \n",
       "3 3  Markus      5000000 Meteorologi       \n",
       "4 4  Barnabas   10000000 Teknik Informatika\n",
       "5 5  Thomas     20000000 Sistem Informasi  \n",
       "6 6  Ignatius     500000 Pendidikan Agama  \n",
       "7 7  Aisyah     25000000 Teknik Elektro    \n",
       "8 8  Supriyanto  1500000 Ilmu Perpustakaan "
      ]
     },
     "metadata": {},
     "output_type": "display_data"
    }
   ],
   "source": [
    "# Membaca csv\n",
    "data <- read.csv(\"../data/gaji.csv\")\n",
    "data"
   ]
  },
  {
   "cell_type": "code",
   "execution_count": 5,
   "metadata": {},
   "outputs": [
    {
     "data": {
      "text/html": [
       "<table>\n",
       "<thead><tr><th></th><th scope=col>mpg</th><th scope=col>cyl</th><th scope=col>disp</th><th scope=col>hp</th><th scope=col>drat</th><th scope=col>wt</th><th scope=col>qsec</th><th scope=col>vs</th><th scope=col>am</th><th scope=col>gear</th><th scope=col>carb</th></tr></thead>\n",
       "<tbody>\n",
       "\t<tr><th scope=row>Mazda RX4</th><td>21.0 </td><td>6    </td><td>160  </td><td>110  </td><td>3.90 </td><td>2.620</td><td>16.46</td><td>0    </td><td>1    </td><td>4    </td><td>4    </td></tr>\n",
       "\t<tr><th scope=row>Mazda RX4 Wag</th><td>21.0 </td><td>6    </td><td>160  </td><td>110  </td><td>3.90 </td><td>2.875</td><td>17.02</td><td>0    </td><td>1    </td><td>4    </td><td>4    </td></tr>\n",
       "\t<tr><th scope=row>Datsun 710</th><td>22.8 </td><td>4    </td><td>108  </td><td> 93  </td><td>3.85 </td><td>2.320</td><td>18.61</td><td>1    </td><td>1    </td><td>4    </td><td>1    </td></tr>\n",
       "\t<tr><th scope=row>Hornet 4 Drive</th><td>21.4 </td><td>6    </td><td>258  </td><td>110  </td><td>3.08 </td><td>3.215</td><td>19.44</td><td>1    </td><td>0    </td><td>3    </td><td>1    </td></tr>\n",
       "\t<tr><th scope=row>Hornet Sportabout</th><td>18.7 </td><td>8    </td><td>360  </td><td>175  </td><td>3.15 </td><td>3.440</td><td>17.02</td><td>0    </td><td>0    </td><td>3    </td><td>2    </td></tr>\n",
       "\t<tr><th scope=row>Valiant</th><td>18.1 </td><td>6    </td><td>225  </td><td>105  </td><td>2.76 </td><td>3.460</td><td>20.22</td><td>1    </td><td>0    </td><td>3    </td><td>1    </td></tr>\n",
       "</tbody>\n",
       "</table>\n"
      ],
      "text/latex": [
       "\\begin{tabular}{r|lllllllllll}\n",
       "  & mpg & cyl & disp & hp & drat & wt & qsec & vs & am & gear & carb\\\\\n",
       "\\hline\n",
       "\tMazda RX4 & 21.0  & 6     & 160   & 110   & 3.90  & 2.620 & 16.46 & 0     & 1     & 4     & 4    \\\\\n",
       "\tMazda RX4 Wag & 21.0  & 6     & 160   & 110   & 3.90  & 2.875 & 17.02 & 0     & 1     & 4     & 4    \\\\\n",
       "\tDatsun 710 & 22.8  & 4     & 108   &  93   & 3.85  & 2.320 & 18.61 & 1     & 1     & 4     & 1    \\\\\n",
       "\tHornet 4 Drive & 21.4  & 6     & 258   & 110   & 3.08  & 3.215 & 19.44 & 1     & 0     & 3     & 1    \\\\\n",
       "\tHornet Sportabout & 18.7  & 8     & 360   & 175   & 3.15  & 3.440 & 17.02 & 0     & 0     & 3     & 2    \\\\\n",
       "\tValiant & 18.1  & 6     & 225   & 105   & 2.76  & 3.460 & 20.22 & 1     & 0     & 3     & 1    \\\\\n",
       "\\end{tabular}\n"
      ],
      "text/markdown": [
       "\n",
       "| <!--/--> | mpg | cyl | disp | hp | drat | wt | qsec | vs | am | gear | carb |\n",
       "|---|---|---|---|---|---|---|---|---|---|---|---|\n",
       "| Mazda RX4 | 21.0  | 6     | 160   | 110   | 3.90  | 2.620 | 16.46 | 0     | 1     | 4     | 4     |\n",
       "| Mazda RX4 Wag | 21.0  | 6     | 160   | 110   | 3.90  | 2.875 | 17.02 | 0     | 1     | 4     | 4     |\n",
       "| Datsun 710 | 22.8  | 4     | 108   |  93   | 3.85  | 2.320 | 18.61 | 1     | 1     | 4     | 1     |\n",
       "| Hornet 4 Drive | 21.4  | 6     | 258   | 110   | 3.08  | 3.215 | 19.44 | 1     | 0     | 3     | 1     |\n",
       "| Hornet Sportabout | 18.7  | 8     | 360   | 175   | 3.15  | 3.440 | 17.02 | 0     | 0     | 3     | 2     |\n",
       "| Valiant | 18.1  | 6     | 225   | 105   | 2.76  | 3.460 | 20.22 | 1     | 0     | 3     | 1     |\n",
       "\n"
      ],
      "text/plain": [
       "                  mpg  cyl disp hp  drat wt    qsec  vs am gear carb\n",
       "Mazda RX4         21.0 6   160  110 3.90 2.620 16.46 0  1  4    4   \n",
       "Mazda RX4 Wag     21.0 6   160  110 3.90 2.875 17.02 0  1  4    4   \n",
       "Datsun 710        22.8 4   108   93 3.85 2.320 18.61 1  1  4    1   \n",
       "Hornet 4 Drive    21.4 6   258  110 3.08 3.215 19.44 1  0  3    1   \n",
       "Hornet Sportabout 18.7 8   360  175 3.15 3.440 17.02 0  0  3    2   \n",
       "Valiant           18.1 6   225  105 2.76 3.460 20.22 1  0  3    1   "
      ]
     },
     "metadata": {},
     "output_type": "display_data"
    }
   ],
   "source": [
    "# menuliskan csv\n",
    "head(mtcars)"
   ]
  },
  {
   "cell_type": "code",
   "execution_count": 6,
   "metadata": {},
   "outputs": [],
   "source": [
    "write.csv(mtcars, file = \"../data/tes.csv\")"
   ]
  },
  {
   "cell_type": "code",
   "execution_count": 7,
   "metadata": {},
   "outputs": [
    {
     "data": {
      "text/html": [
       "'data.frame'"
      ],
      "text/latex": [
       "'data.frame'"
      ],
      "text/markdown": [
       "'data.frame'"
      ],
      "text/plain": [
       "[1] \"data.frame\""
      ]
     },
     "metadata": {},
     "output_type": "display_data"
    }
   ],
   "source": [
    "class(data)"
   ]
  },
  {
   "cell_type": "code",
   "execution_count": 8,
   "metadata": {},
   "outputs": [
    {
     "data": {
      "text/html": [
       "<table>\n",
       "<thead><tr><th scope=col>c1</th><th scope=col>c2</th></tr></thead>\n",
       "<tbody>\n",
       "\t<tr><td>10</td><td>A </td></tr>\n",
       "\t<tr><td>20</td><td>B </td></tr>\n",
       "\t<tr><td>30</td><td>C </td></tr>\n",
       "\t<tr><td>40</td><td>D </td></tr>\n",
       "\t<tr><td>50</td><td>E </td></tr>\n",
       "</tbody>\n",
       "</table>\n"
      ],
      "text/latex": [
       "\\begin{tabular}{r|ll}\n",
       " c1 & c2\\\\\n",
       "\\hline\n",
       "\t 10 & A \\\\\n",
       "\t 20 & B \\\\\n",
       "\t 30 & C \\\\\n",
       "\t 40 & D \\\\\n",
       "\t 50 & E \\\\\n",
       "\\end{tabular}\n"
      ],
      "text/markdown": [
       "\n",
       "| c1 | c2 |\n",
       "|---|---|\n",
       "| 10 | A  |\n",
       "| 20 | B  |\n",
       "| 30 | C  |\n",
       "| 40 | D  |\n",
       "| 50 | E  |\n",
       "\n"
      ],
      "text/plain": [
       "  c1 c2\n",
       "1 10 A \n",
       "2 20 B \n",
       "3 30 C \n",
       "4 40 D \n",
       "5 50 E "
      ]
     },
     "metadata": {},
     "output_type": "display_data"
    }
   ],
   "source": [
    "# menuliskan csv dari data frame\n",
    "c1 <- c(10,20,30,40,50)\n",
    "c2 <- c('A', 'B', 'C', 'D', 'E')\n",
    "df <- data.frame(c1,c2)\n",
    "df"
   ]
  },
  {
   "cell_type": "code",
   "execution_count": 9,
   "metadata": {},
   "outputs": [],
   "source": [
    "write.csv(df, file = '../data/tes2.csv')"
   ]
  },
  {
   "cell_type": "code",
   "execution_count": 10,
   "metadata": {},
   "outputs": [],
   "source": [
    "# Untuk mengetahui secara lebih lanjut, perintahkan:\n",
    "# help(read.csv)"
   ]
  },
  {
   "cell_type": "markdown",
   "metadata": {},
   "source": [
    "## Penanganan data excel"
   ]
  },
  {
   "cell_type": "code",
   "execution_count": 11,
   "metadata": {},
   "outputs": [],
   "source": [
    "library(readxl) # memuat pustaka readxl"
   ]
  },
  {
   "cell_type": "code",
   "execution_count": 12,
   "metadata": {},
   "outputs": [
    {
     "data": {
      "text/html": [
       "<ol class=list-inline>\n",
       "\t<li>'Sheet1'</li>\n",
       "\t<li>'Sheet2'</li>\n",
       "</ol>\n"
      ],
      "text/latex": [
       "\\begin{enumerate*}\n",
       "\\item 'Sheet1'\n",
       "\\item 'Sheet2'\n",
       "\\end{enumerate*}\n"
      ],
      "text/markdown": [
       "1. 'Sheet1'\n",
       "2. 'Sheet2'\n",
       "\n",
       "\n"
      ],
      "text/plain": [
       "[1] \"Sheet1\" \"Sheet2\""
      ]
     },
     "metadata": {},
     "output_type": "display_data"
    }
   ],
   "source": [
    "excel_sheets(\"../data/contoh.xlsx\") "
   ]
  },
  {
   "cell_type": "code",
   "execution_count": 13,
   "metadata": {},
   "outputs": [
    {
     "data": {
      "text/html": [
       "<table>\n",
       "<thead><tr><th scope=col>No</th><th scope=col>Nama Depan</th><th scope=col>Nama Belakang</th><th scope=col>Jenis Kelamin</th><th scope=col>Negara</th><th scope=col>Usia</th><th scope=col>ID</th></tr></thead>\n",
       "<tbody>\n",
       "\t<tr><td>1              </td><td>Fernando       </td><td>Sanchez        </td><td>Pria           </td><td>Meksiko        </td><td>28             </td><td>1562           </td></tr>\n",
       "\t<tr><td>2              </td><td>Sandy          </td><td>Herho          </td><td>Pria           </td><td>Indonesia      </td><td>27             </td><td>1582           </td></tr>\n",
       "\t<tr><td>3              </td><td>Mara           </td><td>Hashimoto      </td><td>Wanita         </td><td>Jepang         </td><td>25             </td><td>2587           </td></tr>\n",
       "\t<tr><td>4              </td><td>Philip         </td><td>Gent           </td><td>Pria           </td><td>Belgia         </td><td>32             </td><td>2468           </td></tr>\n",
       "\t<tr><td>5              </td><td>Satya          </td><td>Narendra       </td><td>Pria           </td><td>India          </td><td>42             </td><td>6548           </td></tr>\n",
       "\t<tr><td>6              </td><td>Vincenza       </td><td>Welland        </td><td>Wanita         </td><td>Amerika Serikat</td><td>40             </td><td>3598           </td></tr>\n",
       "\t<tr><td>7              </td><td>Rudy           </td><td>Salim          </td><td>Pria           </td><td>Indonesia      </td><td>65             </td><td>7865           </td></tr>\n",
       "\t<tr><td>8              </td><td>Gaston         </td><td>Brumm          </td><td>Pria           </td><td>Amerika Serikat</td><td>24             </td><td>2456           </td></tr>\n",
       "\t<tr><td>9              </td><td>Etta           </td><td>Hurn           </td><td>Wanita         </td><td>Britania Raya  </td><td>34             </td><td>1785           </td></tr>\n",
       "</tbody>\n",
       "</table>\n"
      ],
      "text/latex": [
       "\\begin{tabular}{r|lllllll}\n",
       " No & Nama Depan & Nama Belakang & Jenis Kelamin & Negara & Usia & ID\\\\\n",
       "\\hline\n",
       "\t 1               & Fernando        & Sanchez         & Pria            & Meksiko         & 28              & 1562           \\\\\n",
       "\t 2               & Sandy           & Herho           & Pria            & Indonesia       & 27              & 1582           \\\\\n",
       "\t 3               & Mara            & Hashimoto       & Wanita          & Jepang          & 25              & 2587           \\\\\n",
       "\t 4               & Philip          & Gent            & Pria            & Belgia          & 32              & 2468           \\\\\n",
       "\t 5               & Satya           & Narendra        & Pria            & India           & 42              & 6548           \\\\\n",
       "\t 6               & Vincenza        & Welland         & Wanita          & Amerika Serikat & 40              & 3598           \\\\\n",
       "\t 7               & Rudy            & Salim           & Pria            & Indonesia       & 65              & 7865           \\\\\n",
       "\t 8               & Gaston          & Brumm           & Pria            & Amerika Serikat & 24              & 2456           \\\\\n",
       "\t 9               & Etta            & Hurn            & Wanita          & Britania Raya   & 34              & 1785           \\\\\n",
       "\\end{tabular}\n"
      ],
      "text/markdown": [
       "\n",
       "| No | Nama Depan | Nama Belakang | Jenis Kelamin | Negara | Usia | ID |\n",
       "|---|---|---|---|---|---|---|\n",
       "| 1               | Fernando        | Sanchez         | Pria            | Meksiko         | 28              | 1562            |\n",
       "| 2               | Sandy           | Herho           | Pria            | Indonesia       | 27              | 1582            |\n",
       "| 3               | Mara            | Hashimoto       | Wanita          | Jepang          | 25              | 2587            |\n",
       "| 4               | Philip          | Gent            | Pria            | Belgia          | 32              | 2468            |\n",
       "| 5               | Satya           | Narendra        | Pria            | India           | 42              | 6548            |\n",
       "| 6               | Vincenza        | Welland         | Wanita          | Amerika Serikat | 40              | 3598            |\n",
       "| 7               | Rudy            | Salim           | Pria            | Indonesia       | 65              | 7865            |\n",
       "| 8               | Gaston          | Brumm           | Pria            | Amerika Serikat | 24              | 2456            |\n",
       "| 9               | Etta            | Hurn            | Wanita          | Britania Raya   | 34              | 1785            |\n",
       "\n"
      ],
      "text/plain": [
       "  No Nama Depan Nama Belakang Jenis Kelamin Negara          Usia ID  \n",
       "1 1  Fernando   Sanchez       Pria          Meksiko         28   1562\n",
       "2 2  Sandy      Herho         Pria          Indonesia       27   1582\n",
       "3 3  Mara       Hashimoto     Wanita        Jepang          25   2587\n",
       "4 4  Philip     Gent          Pria          Belgia          32   2468\n",
       "5 5  Satya      Narendra      Pria          India           42   6548\n",
       "6 6  Vincenza   Welland       Wanita        Amerika Serikat 40   3598\n",
       "7 7  Rudy       Salim         Pria          Indonesia       65   7865\n",
       "8 8  Gaston     Brumm         Pria          Amerika Serikat 24   2456\n",
       "9 9  Etta       Hurn          Wanita        Britania Raya   34   1785"
      ]
     },
     "metadata": {},
     "output_type": "display_data"
    }
   ],
   "source": [
    "# membaca file excel\n",
    "df <- read_excel(\"../data/contoh.xlsx\", sheet = \"Sheet1\")\n",
    "df"
   ]
  },
  {
   "cell_type": "code",
   "execution_count": 14,
   "metadata": {},
   "outputs": [
    {
     "data": {
      "text/plain": [
       "       No     Nama Depan        Nama Belakang      Jenis Kelamin     \n",
       " Min.   :1   Length:9           Length:9           Length:9          \n",
       " 1st Qu.:3   Class :character   Class :character   Class :character  \n",
       " Median :5   Mode  :character   Mode  :character   Mode  :character  \n",
       " Mean   :5                                                           \n",
       " 3rd Qu.:7                                                           \n",
       " Max.   :9                                                           \n",
       "    Negara               Usia             ID      \n",
       " Length:9           Min.   :24.00   Min.   :1562  \n",
       " Class :character   1st Qu.:27.00   1st Qu.:1785  \n",
       " Mode  :character   Median :32.00   Median :2468  \n",
       "                    Mean   :35.22   Mean   :3383  \n",
       "                    3rd Qu.:40.00   3rd Qu.:3598  \n",
       "                    Max.   :65.00   Max.   :7865  "
      ]
     },
     "metadata": {},
     "output_type": "display_data"
    }
   ],
   "source": [
    "summary(df)"
   ]
  },
  {
   "cell_type": "code",
   "execution_count": 15,
   "metadata": {},
   "outputs": [
    {
     "name": "stdout",
     "output_type": "stream",
     "text": [
      "tibble [9 × 7] (S3: tbl_df/tbl/data.frame)\n",
      " $ No           : num [1:9] 1 2 3 4 5 6 7 8 9\n",
      " $ Nama Depan   : chr [1:9] \"Fernando\" \"Sandy\" \"Mara\" \"Philip\" ...\n",
      " $ Nama Belakang: chr [1:9] \"Sanchez\" \"Herho\" \"Hashimoto\" \"Gent\" ...\n",
      " $ Jenis Kelamin: chr [1:9] \"Pria\" \"Pria\" \"Wanita\" \"Pria\" ...\n",
      " $ Negara       : chr [1:9] \"Meksiko\" \"Indonesia\" \"Jepang\" \"Belgia\" ...\n",
      " $ Usia         : num [1:9] 28 27 25 32 42 40 65 24 34\n",
      " $ ID           : num [1:9] 1562 1582 2587 2468 6548 ...\n"
     ]
    }
   ],
   "source": [
    "str(df)"
   ]
  },
  {
   "cell_type": "code",
   "execution_count": 16,
   "metadata": {},
   "outputs": [
    {
     "data": {
      "text/html": [
       "35.2222222222222"
      ],
      "text/latex": [
       "35.2222222222222"
      ],
      "text/markdown": [
       "35.2222222222222"
      ],
      "text/plain": [
       "[1] 35.22222"
      ]
     },
     "metadata": {},
     "output_type": "display_data"
    }
   ],
   "source": [
    "mean(df$Usia)"
   ]
  },
  {
   "cell_type": "code",
   "execution_count": 17,
   "metadata": {},
   "outputs": [
    {
     "data": {
      "text/html": [
       "<table>\n",
       "<thead><tr><th scope=col>Bilangan</th><th scope=col>Kuadrat</th></tr></thead>\n",
       "<tbody>\n",
       "\t<tr><td>1 </td><td> 1</td></tr>\n",
       "\t<tr><td>2 </td><td> 4</td></tr>\n",
       "\t<tr><td>3 </td><td> 9</td></tr>\n",
       "\t<tr><td>4 </td><td>16</td></tr>\n",
       "\t<tr><td>5 </td><td>25</td></tr>\n",
       "</tbody>\n",
       "</table>\n"
      ],
      "text/latex": [
       "\\begin{tabular}{r|ll}\n",
       " Bilangan & Kuadrat\\\\\n",
       "\\hline\n",
       "\t 1  &  1\\\\\n",
       "\t 2  &  4\\\\\n",
       "\t 3  &  9\\\\\n",
       "\t 4  & 16\\\\\n",
       "\t 5  & 25\\\\\n",
       "\\end{tabular}\n"
      ],
      "text/markdown": [
       "\n",
       "| Bilangan | Kuadrat |\n",
       "|---|---|\n",
       "| 1  |  1 |\n",
       "| 2  |  4 |\n",
       "| 3  |  9 |\n",
       "| 4  | 16 |\n",
       "| 5  | 25 |\n",
       "\n"
      ],
      "text/plain": [
       "  Bilangan Kuadrat\n",
       "1 1         1     \n",
       "2 2         4     \n",
       "3 3         9     \n",
       "4 4        16     \n",
       "5 5        25     "
      ]
     },
     "metadata": {},
     "output_type": "display_data"
    }
   ],
   "source": [
    "df1 <- read_excel(\"../data/contoh.xlsx\", sheet='Sheet2')\n",
    "df1"
   ]
  },
  {
   "cell_type": "code",
   "execution_count": 18,
   "metadata": {},
   "outputs": [],
   "source": [
    "# menulis file excel\n",
    "library(writexl)"
   ]
  },
  {
   "cell_type": "code",
   "execution_count": 19,
   "metadata": {},
   "outputs": [
    {
     "data": {
      "text/html": [
       "<table>\n",
       "<thead><tr><th scope=col>c1</th><th scope=col>c2</th></tr></thead>\n",
       "<tbody>\n",
       "\t<tr><td>1 </td><td> 6</td></tr>\n",
       "\t<tr><td>2 </td><td> 7</td></tr>\n",
       "\t<tr><td>3 </td><td> 8</td></tr>\n",
       "\t<tr><td>4 </td><td> 9</td></tr>\n",
       "\t<tr><td>5 </td><td>10</td></tr>\n",
       "</tbody>\n",
       "</table>\n"
      ],
      "text/latex": [
       "\\begin{tabular}{r|ll}\n",
       " c1 & c2\\\\\n",
       "\\hline\n",
       "\t 1  &  6\\\\\n",
       "\t 2  &  7\\\\\n",
       "\t 3  &  8\\\\\n",
       "\t 4  &  9\\\\\n",
       "\t 5  & 10\\\\\n",
       "\\end{tabular}\n"
      ],
      "text/markdown": [
       "\n",
       "| c1 | c2 |\n",
       "|---|---|\n",
       "| 1  |  6 |\n",
       "| 2  |  7 |\n",
       "| 3  |  8 |\n",
       "| 4  |  9 |\n",
       "| 5  | 10 |\n",
       "\n"
      ],
      "text/plain": [
       "  c1 c2\n",
       "1 1   6\n",
       "2 2   7\n",
       "3 3   8\n",
       "4 4   9\n",
       "5 5  10"
      ]
     },
     "metadata": {},
     "output_type": "display_data"
    }
   ],
   "source": [
    "c1 <- c(1:5)\n",
    "c2 <- 6:10\n",
    "df2 <- data.frame(c1,c2)\n",
    "df2"
   ]
  },
  {
   "cell_type": "code",
   "execution_count": 20,
   "metadata": {},
   "outputs": [],
   "source": [
    "write_xlsx(df2, \"../data/tes.xlsx\")"
   ]
  }
 ],
 "metadata": {
  "kernelspec": {
   "display_name": "R",
   "language": "R",
   "name": "ir"
  },
  "language_info": {
   "codemirror_mode": "r",
   "file_extension": ".r",
   "mimetype": "text/x-r-source",
   "name": "R",
   "pygments_lexer": "r",
   "version": "3.6.1"
  }
 },
 "nbformat": 4,
 "nbformat_minor": 4
}
