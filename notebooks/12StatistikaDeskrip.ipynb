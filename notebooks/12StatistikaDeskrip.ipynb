{
 "cells": [
  {
   "cell_type": "markdown",
   "metadata": {},
   "source": [
    "# Statistika Deskriptif"
   ]
  },
  {
   "cell_type": "markdown",
   "metadata": {},
   "source": [
    "## `length()`,`min()`, `max()`, `sum()`, `prod()` dan `sort()`"
   ]
  },
  {
   "cell_type": "code",
   "execution_count": 1,
   "metadata": {},
   "outputs": [
    {
     "data": {
      "text/html": [
       "<ol class=list-inline>\n",
       "\t<li>5.3</li>\n",
       "\t<li>3.6</li>\n",
       "\t<li>5.5</li>\n",
       "\t<li>4.7</li>\n",
       "\t<li>6.7</li>\n",
       "\t<li>4.3</li>\n",
       "\t<li>6.2</li>\n",
       "\t<li>4.3</li>\n",
       "\t<li>4.9</li>\n",
       "\t<li>5.1</li>\n",
       "\t<li>5.8</li>\n",
       "\t<li>4.4</li>\n",
       "</ol>\n"
      ],
      "text/latex": [
       "\\begin{enumerate*}\n",
       "\\item 5.3\n",
       "\\item 3.6\n",
       "\\item 5.5\n",
       "\\item 4.7\n",
       "\\item 6.7\n",
       "\\item 4.3\n",
       "\\item 6.2\n",
       "\\item 4.3\n",
       "\\item 4.9\n",
       "\\item 5.1\n",
       "\\item 5.8\n",
       "\\item 4.4\n",
       "\\end{enumerate*}\n"
      ],
      "text/markdown": [
       "1. 5.3\n",
       "2. 3.6\n",
       "3. 5.5\n",
       "4. 4.7\n",
       "5. 6.7\n",
       "6. 4.3\n",
       "7. 6.2\n",
       "8. 4.3\n",
       "9. 4.9\n",
       "10. 5.1\n",
       "11. 5.8\n",
       "12. 4.4\n",
       "\n",
       "\n"
      ],
      "text/plain": [
       " [1] 5.3 3.6 5.5 4.7 6.7 4.3 6.2 4.3 4.9 5.1 5.8 4.4"
      ]
     },
     "metadata": {},
     "output_type": "display_data"
    }
   ],
   "source": [
    "lagu <- c(5.3,3.6,5.5,4.7,6.7,4.3,6.2,4.3,4.9,5.1,5.8,4.4) \n",
    "lagu"
   ]
  },
  {
   "cell_type": "code",
   "execution_count": 2,
   "metadata": {},
   "outputs": [
    {
     "data": {
      "text/html": [
       "12"
      ],
      "text/latex": [
       "12"
      ],
      "text/markdown": [
       "12"
      ],
      "text/plain": [
       "[1] 12"
      ]
     },
     "metadata": {},
     "output_type": "display_data"
    }
   ],
   "source": [
    "length(lagu) # banyaknya elemen"
   ]
  },
  {
   "cell_type": "code",
   "execution_count": 3,
   "metadata": {},
   "outputs": [
    {
     "data": {
      "text/html": [
       "6.7"
      ],
      "text/latex": [
       "6.7"
      ],
      "text/markdown": [
       "6.7"
      ],
      "text/plain": [
       "[1] 6.7"
      ]
     },
     "metadata": {},
     "output_type": "display_data"
    }
   ],
   "source": [
    "max(lagu) # nilai terbesar"
   ]
  },
  {
   "cell_type": "code",
   "execution_count": 4,
   "metadata": {},
   "outputs": [
    {
     "data": {
      "text/html": [
       "3.6"
      ],
      "text/latex": [
       "3.6"
      ],
      "text/markdown": [
       "3.6"
      ],
      "text/plain": [
       "[1] 3.6"
      ]
     },
     "metadata": {},
     "output_type": "display_data"
    }
   ],
   "source": [
    "min(lagu) # nilai terkecil"
   ]
  },
  {
   "cell_type": "code",
   "execution_count": 5,
   "metadata": {},
   "outputs": [
    {
     "data": {
      "text/html": [
       "60.8"
      ],
      "text/latex": [
       "60.8"
      ],
      "text/markdown": [
       "60.8"
      ],
      "text/plain": [
       "[1] 60.8"
      ]
     },
     "metadata": {},
     "output_type": "display_data"
    }
   ],
   "source": [
    "sum(lagu) # total penjumlahan elemen di dalam vektor"
   ]
  },
  {
   "cell_type": "code",
   "execution_count": 6,
   "metadata": {},
   "outputs": [
    {
     "data": {
      "text/html": [
       "241595726.162817"
      ],
      "text/latex": [
       "241595726.162817"
      ],
      "text/markdown": [
       "241595726.162817"
      ],
      "text/plain": [
       "[1] 241595726"
      ]
     },
     "metadata": {},
     "output_type": "display_data"
    }
   ],
   "source": [
    "prod(lagu) # total perkalian elemen di dalam vektor"
   ]
  },
  {
   "cell_type": "code",
   "execution_count": 7,
   "metadata": {},
   "outputs": [
    {
     "data": {
      "text/html": [
       "<ol class=list-inline>\n",
       "\t<li>3.6</li>\n",
       "\t<li>4.3</li>\n",
       "\t<li>4.3</li>\n",
       "\t<li>4.4</li>\n",
       "\t<li>4.7</li>\n",
       "\t<li>4.9</li>\n",
       "\t<li>5.1</li>\n",
       "\t<li>5.3</li>\n",
       "\t<li>5.5</li>\n",
       "\t<li>5.8</li>\n",
       "\t<li>6.2</li>\n",
       "\t<li>6.7</li>\n",
       "</ol>\n"
      ],
      "text/latex": [
       "\\begin{enumerate*}\n",
       "\\item 3.6\n",
       "\\item 4.3\n",
       "\\item 4.3\n",
       "\\item 4.4\n",
       "\\item 4.7\n",
       "\\item 4.9\n",
       "\\item 5.1\n",
       "\\item 5.3\n",
       "\\item 5.5\n",
       "\\item 5.8\n",
       "\\item 6.2\n",
       "\\item 6.7\n",
       "\\end{enumerate*}\n"
      ],
      "text/markdown": [
       "1. 3.6\n",
       "2. 4.3\n",
       "3. 4.3\n",
       "4. 4.4\n",
       "5. 4.7\n",
       "6. 4.9\n",
       "7. 5.1\n",
       "8. 5.3\n",
       "9. 5.5\n",
       "10. 5.8\n",
       "11. 6.2\n",
       "12. 6.7\n",
       "\n",
       "\n"
      ],
      "text/plain": [
       " [1] 3.6 4.3 4.3 4.4 4.7 4.9 5.1 5.3 5.5 5.8 6.2 6.7"
      ]
     },
     "metadata": {},
     "output_type": "display_data"
    }
   ],
   "source": [
    "# mengurutkan vektor dari kecil ke besar\n",
    "sort(lagu)"
   ]
  },
  {
   "cell_type": "code",
   "execution_count": 8,
   "metadata": {},
   "outputs": [
    {
     "data": {
      "text/html": [
       "<ol class=list-inline>\n",
       "\t<li>6.7</li>\n",
       "\t<li>6.2</li>\n",
       "\t<li>5.8</li>\n",
       "\t<li>5.5</li>\n",
       "\t<li>5.3</li>\n",
       "\t<li>5.1</li>\n",
       "\t<li>4.9</li>\n",
       "\t<li>4.7</li>\n",
       "\t<li>4.4</li>\n",
       "\t<li>4.3</li>\n",
       "\t<li>4.3</li>\n",
       "\t<li>3.6</li>\n",
       "</ol>\n"
      ],
      "text/latex": [
       "\\begin{enumerate*}\n",
       "\\item 6.7\n",
       "\\item 6.2\n",
       "\\item 5.8\n",
       "\\item 5.5\n",
       "\\item 5.3\n",
       "\\item 5.1\n",
       "\\item 4.9\n",
       "\\item 4.7\n",
       "\\item 4.4\n",
       "\\item 4.3\n",
       "\\item 4.3\n",
       "\\item 3.6\n",
       "\\end{enumerate*}\n"
      ],
      "text/markdown": [
       "1. 6.7\n",
       "2. 6.2\n",
       "3. 5.8\n",
       "4. 5.5\n",
       "5. 5.3\n",
       "6. 5.1\n",
       "7. 4.9\n",
       "8. 4.7\n",
       "9. 4.4\n",
       "10. 4.3\n",
       "11. 4.3\n",
       "12. 3.6\n",
       "\n",
       "\n"
      ],
      "text/plain": [
       " [1] 6.7 6.2 5.8 5.5 5.3 5.1 4.9 4.7 4.4 4.3 4.3 3.6"
      ]
     },
     "metadata": {},
     "output_type": "display_data"
    }
   ],
   "source": [
    "# mengurutkan vektor dari besar ke kecil\n",
    "sort(lagu, decreasing=T)"
   ]
  },
  {
   "cell_type": "markdown",
   "metadata": {},
   "source": [
    "## Rata - rata"
   ]
  },
  {
   "cell_type": "markdown",
   "metadata": {},
   "source": [
    "Jenis rata - rata:\n",
    "* Rata - rata aritmatika (rata - rata)\n",
    "* Rata - rata geometri\n",
    "* Rata - rata harmonik"
   ]
  },
  {
   "cell_type": "markdown",
   "metadata": {},
   "source": [
    "### Rata - rata aritmatika"
   ]
  },
  {
   "cell_type": "markdown",
   "metadata": {},
   "source": [
    "Rata - rata aritmatika dari suatu sampel adalah penjumlahan dari seluruh sampel, dibagi dengan ukuran sampel."
   ]
  },
  {
   "cell_type": "markdown",
   "metadata": {},
   "source": [
    "$$\\bar{x} = \\frac{1}{n}\\sum_{i=1}^{n}x_{i}$$"
   ]
  },
  {
   "cell_type": "code",
   "execution_count": 9,
   "metadata": {},
   "outputs": [
    {
     "data": {
      "text/html": [
       "<ol class=list-inline>\n",
       "\t<li>5.3</li>\n",
       "\t<li>3.6</li>\n",
       "\t<li>5.5</li>\n",
       "\t<li>4.7</li>\n",
       "\t<li>6.7</li>\n",
       "\t<li>4.3</li>\n",
       "\t<li>6.2</li>\n",
       "\t<li>4.3</li>\n",
       "\t<li>4.9</li>\n",
       "\t<li>5.1</li>\n",
       "\t<li>5.8</li>\n",
       "\t<li>4.4</li>\n",
       "</ol>\n"
      ],
      "text/latex": [
       "\\begin{enumerate*}\n",
       "\\item 5.3\n",
       "\\item 3.6\n",
       "\\item 5.5\n",
       "\\item 4.7\n",
       "\\item 6.7\n",
       "\\item 4.3\n",
       "\\item 6.2\n",
       "\\item 4.3\n",
       "\\item 4.9\n",
       "\\item 5.1\n",
       "\\item 5.8\n",
       "\\item 4.4\n",
       "\\end{enumerate*}\n"
      ],
      "text/markdown": [
       "1. 5.3\n",
       "2. 3.6\n",
       "3. 5.5\n",
       "4. 4.7\n",
       "5. 6.7\n",
       "6. 4.3\n",
       "7. 6.2\n",
       "8. 4.3\n",
       "9. 4.9\n",
       "10. 5.1\n",
       "11. 5.8\n",
       "12. 4.4\n",
       "\n",
       "\n"
      ],
      "text/plain": [
       " [1] 5.3 3.6 5.5 4.7 6.7 4.3 6.2 4.3 4.9 5.1 5.8 4.4"
      ]
     },
     "metadata": {},
     "output_type": "display_data"
    }
   ],
   "source": [
    "lagu"
   ]
  },
  {
   "cell_type": "code",
   "execution_count": 10,
   "metadata": {},
   "outputs": [
    {
     "data": {
      "text/html": [
       "5.06666666666667"
      ],
      "text/latex": [
       "5.06666666666667"
      ],
      "text/markdown": [
       "5.06666666666667"
      ],
      "text/plain": [
       "[1] 5.066667"
      ]
     },
     "metadata": {},
     "output_type": "display_data"
    }
   ],
   "source": [
    "rata2 <- sum(lagu) / length(lagu)\n",
    "rata2"
   ]
  },
  {
   "cell_type": "code",
   "execution_count": 11,
   "metadata": {},
   "outputs": [
    {
     "data": {
      "text/html": [
       "5.06666666666667"
      ],
      "text/latex": [
       "5.06666666666667"
      ],
      "text/markdown": [
       "5.06666666666667"
      ],
      "text/plain": [
       "[1] 5.066667"
      ]
     },
     "metadata": {},
     "output_type": "display_data"
    }
   ],
   "source": [
    "# pakai fungsi built-in \n",
    "rata2 <- mean(lagu)\n",
    "rata2"
   ]
  },
  {
   "cell_type": "markdown",
   "metadata": {},
   "source": [
    "### Rata - rata geometri"
   ]
  },
  {
   "cell_type": "markdown",
   "metadata": {},
   "source": [
    "Rata - rata geometri didefinisikan sebagai akar ke-$n$ dari perkalian seluruh sampel."
   ]
  },
  {
   "cell_type": "markdown",
   "metadata": {},
   "source": [
    "$$RG = \\sqrt[n]{\\prod_{i=1}^{n}x_{i}}$$"
   ]
  },
  {
   "cell_type": "code",
   "execution_count": 12,
   "metadata": {},
   "outputs": [
    {
     "data": {
      "text/html": [
       "<ol class=list-inline>\n",
       "\t<li>5.3</li>\n",
       "\t<li>3.6</li>\n",
       "\t<li>5.5</li>\n",
       "\t<li>4.7</li>\n",
       "\t<li>6.7</li>\n",
       "\t<li>4.3</li>\n",
       "\t<li>6.2</li>\n",
       "\t<li>4.3</li>\n",
       "\t<li>4.9</li>\n",
       "\t<li>5.1</li>\n",
       "\t<li>5.8</li>\n",
       "\t<li>4.4</li>\n",
       "</ol>\n"
      ],
      "text/latex": [
       "\\begin{enumerate*}\n",
       "\\item 5.3\n",
       "\\item 3.6\n",
       "\\item 5.5\n",
       "\\item 4.7\n",
       "\\item 6.7\n",
       "\\item 4.3\n",
       "\\item 6.2\n",
       "\\item 4.3\n",
       "\\item 4.9\n",
       "\\item 5.1\n",
       "\\item 5.8\n",
       "\\item 4.4\n",
       "\\end{enumerate*}\n"
      ],
      "text/markdown": [
       "1. 5.3\n",
       "2. 3.6\n",
       "3. 5.5\n",
       "4. 4.7\n",
       "5. 6.7\n",
       "6. 4.3\n",
       "7. 6.2\n",
       "8. 4.3\n",
       "9. 4.9\n",
       "10. 5.1\n",
       "11. 5.8\n",
       "12. 4.4\n",
       "\n",
       "\n"
      ],
      "text/plain": [
       " [1] 5.3 3.6 5.5 4.7 6.7 4.3 6.2 4.3 4.9 5.1 5.8 4.4"
      ]
     },
     "metadata": {},
     "output_type": "display_data"
    }
   ],
   "source": [
    "lagu"
   ]
  },
  {
   "cell_type": "code",
   "execution_count": 13,
   "metadata": {},
   "outputs": [
    {
     "data": {
      "text/html": [
       "4.99563581610903"
      ],
      "text/latex": [
       "4.99563581610903"
      ],
      "text/markdown": [
       "4.99563581610903"
      ],
      "text/plain": [
       "[1] 4.995636"
      ]
     },
     "metadata": {},
     "output_type": "display_data"
    }
   ],
   "source": [
    "rata2geom <- prod(lagu)^(1/length(lagu)) \n",
    "rata2geom"
   ]
  },
  {
   "cell_type": "code",
   "execution_count": 14,
   "metadata": {},
   "outputs": [
    {
     "data": {
      "text/html": [
       "4.99563581610903"
      ],
      "text/latex": [
       "4.99563581610903"
      ],
      "text/markdown": [
       "4.99563581610903"
      ],
      "text/plain": [
       "[1] 4.995636"
      ]
     },
     "metadata": {},
     "output_type": "display_data"
    }
   ],
   "source": [
    "# Cara yang lebih efisien:\n",
    "rata2geom <- exp(mean(log(lagu)))\n",
    "rata2geom"
   ]
  },
  {
   "cell_type": "markdown",
   "metadata": {},
   "source": [
    "### Aplikasi rata - rata geometri"
   ]
  },
  {
   "cell_type": "markdown",
   "metadata": {},
   "source": [
    "Umum digunakan di dunia bisnis, misalnya:\n",
    "* Perhitungan laju pertumbuhan.\n",
    "* Perhitungan pengembalian portofolio keamanan. "
   ]
  },
  {
   "cell_type": "markdown",
   "metadata": {},
   "source": [
    "Perhitungan *compounded annual growth rate*. Misalkan ada saham sebuah perusahaan dengan:\n",
    "* Pertumbuhan sebesar 10 % pada tahun pertama (misalkan awalnya harga saham: $\\$100$):\n",
    "$$100 + 10 = 10$$\n",
    "* Penurunan sebesar 20 % di tahun kedua:\n",
    "$$100 - 20 = 80$$\n",
    "* Pada tahun ketiga pertumbuhan sebesar 30%:\n",
    "$$100 + 30 = 130$$\n",
    "\n",
    "Laju pertumbuhan: $$\\sqrt[3]{110 \\times 80 \\times 130} = 104,586$$\n",
    "\n",
    "Karena dalam persen, maka:\n",
    "104.586 - 100 = 4.58 % (laju pertumbuhannya)"
   ]
  },
  {
   "cell_type": "code",
   "execution_count": 15,
   "metadata": {},
   "outputs": [
    {
     "data": {
      "text/html": [
       "104.58643063512"
      ],
      "text/latex": [
       "104.58643063512"
      ],
      "text/markdown": [
       "104.58643063512"
      ],
      "text/plain": [
       "[1] 104.5864"
      ]
     },
     "metadata": {},
     "output_type": "display_data"
    }
   ],
   "source": [
    "saham <- c(100 + 10, 100 - 20, 100 + 30)\n",
    "rg <- exp(mean(log(saham)))\n",
    "rg"
   ]
  },
  {
   "cell_type": "code",
   "execution_count": 16,
   "metadata": {},
   "outputs": [
    {
     "data": {
      "text/html": [
       "4.58643063511965"
      ],
      "text/latex": [
       "4.58643063511965"
      ],
      "text/markdown": [
       "4.58643063511965"
      ],
      "text/plain": [
       "[1] 4.586431"
      ]
     },
     "metadata": {},
     "output_type": "display_data"
    }
   ],
   "source": [
    "rg - 100"
   ]
  },
  {
   "cell_type": "markdown",
   "metadata": {},
   "source": [
    "### Rata - rata harmonik"
   ]
  },
  {
   "cell_type": "markdown",
   "metadata": {},
   "source": [
    "Rata - rata harmonik merupakan kebalikan dari rata - rata terbalik dari sampel:\n",
    "\n",
    "$$\\frac{1}{H} = \\frac{1}{n}\\sum_{i=1}^{n}\\frac{1}{x_{i}}\\text{ dengan } x_{i} > 0$$"
   ]
  },
  {
   "cell_type": "code",
   "execution_count": 17,
   "metadata": {},
   "outputs": [
    {
     "data": {
      "text/html": [
       "4.92500029031758"
      ],
      "text/latex": [
       "4.92500029031758"
      ],
      "text/markdown": [
       "4.92500029031758"
      ],
      "text/plain": [
       "[1] 4.925"
      ]
     },
     "metadata": {},
     "output_type": "display_data"
    }
   ],
   "source": [
    "rata2harm <- 1 / mean(1/lagu)\n",
    "rata2harm"
   ]
  },
  {
   "cell_type": "markdown",
   "metadata": {},
   "source": [
    "* Rata - rata harmonik digunakan untuk mencari hubungan perkalian atau pembagian antar pecahan.\n",
    "* Rata - rata harmonik banyak digunakan untuk merata - ratakan suatu kelajuan.\n",
    "* Di bidang finansial banyak digunakan untuk menghitung *price-earnings ratio*."
   ]
  },
  {
   "cell_type": "markdown",
   "metadata": {},
   "source": [
    "## Median dan modus"
   ]
  },
  {
   "cell_type": "markdown",
   "metadata": {},
   "source": [
    "Median: nilai tengah suatu sampel yang telah diurutkan.\n",
    "* Pada sampel ganjil:\n",
    "$$x_{\\frac{n + 1}{2}}$$\n",
    "* Pada sampel genap:\n",
    "$$\\frac{x_{\\frac{n}{2}} + x_{\\frac{n}{2}+1}}{2}$$"
   ]
  },
  {
   "cell_type": "markdown",
   "metadata": {},
   "source": [
    "Modus merupakan nilai yang paling sering muncul di dalam suatu sampel.\n",
    "* Suatu sampel dapat mempunyai sebuah modus, lebih dari satu modus, atau tidak mempunyai modus sama sekali.\n",
    "* Modus dapat mempunyai nilai yang sama dengan rata - rata dan median."
   ]
  },
  {
   "cell_type": "code",
   "execution_count": 18,
   "metadata": {},
   "outputs": [
    {
     "data": {
      "text/html": [
       "<ol class=list-inline>\n",
       "\t<li>3.6</li>\n",
       "\t<li>4.3</li>\n",
       "\t<li>4.3</li>\n",
       "\t<li>4.4</li>\n",
       "\t<li>4.7</li>\n",
       "\t<li>4.9</li>\n",
       "\t<li>5.1</li>\n",
       "\t<li>5.3</li>\n",
       "\t<li>5.5</li>\n",
       "\t<li>5.8</li>\n",
       "\t<li>6.2</li>\n",
       "\t<li>6.7</li>\n",
       "</ol>\n"
      ],
      "text/latex": [
       "\\begin{enumerate*}\n",
       "\\item 3.6\n",
       "\\item 4.3\n",
       "\\item 4.3\n",
       "\\item 4.4\n",
       "\\item 4.7\n",
       "\\item 4.9\n",
       "\\item 5.1\n",
       "\\item 5.3\n",
       "\\item 5.5\n",
       "\\item 5.8\n",
       "\\item 6.2\n",
       "\\item 6.7\n",
       "\\end{enumerate*}\n"
      ],
      "text/markdown": [
       "1. 3.6\n",
       "2. 4.3\n",
       "3. 4.3\n",
       "4. 4.4\n",
       "5. 4.7\n",
       "6. 4.9\n",
       "7. 5.1\n",
       "8. 5.3\n",
       "9. 5.5\n",
       "10. 5.8\n",
       "11. 6.2\n",
       "12. 6.7\n",
       "\n",
       "\n"
      ],
      "text/plain": [
       " [1] 3.6 4.3 4.3 4.4 4.7 4.9 5.1 5.3 5.5 5.8 6.2 6.7"
      ]
     },
     "metadata": {},
     "output_type": "display_data"
    }
   ],
   "source": [
    "sort(lagu)"
   ]
  },
  {
   "cell_type": "code",
   "execution_count": 19,
   "metadata": {},
   "outputs": [
    {
     "data": {
      "text/html": [
       "5"
      ],
      "text/latex": [
       "5"
      ],
      "text/markdown": [
       "5"
      ],
      "text/plain": [
       "[1] 5"
      ]
     },
     "metadata": {},
     "output_type": "display_data"
    }
   ],
   "source": [
    "median(lagu) # cara menghitung median"
   ]
  },
  {
   "cell_type": "markdown",
   "metadata": {},
   "source": [
    "R tidak mempunyai fungsi untuk menghitung modus karena modus jarang digunakan untuk analisis statistik"
   ]
  },
  {
   "cell_type": "markdown",
   "metadata": {},
   "source": [
    "## Pencilan"
   ]
  },
  {
   "cell_type": "code",
   "execution_count": 20,
   "metadata": {},
   "outputs": [
    {
     "data": {
      "text/html": [
       "<ol class=list-inline>\n",
       "\t<li>12</li>\n",
       "\t<li>14</li>\n",
       "\t<li>18</li>\n",
       "\t<li>90</li>\n",
       "\t<li>16</li>\n",
       "\t<li>19</li>\n",
       "\t<li>21</li>\n",
       "</ol>\n"
      ],
      "text/latex": [
       "\\begin{enumerate*}\n",
       "\\item 12\n",
       "\\item 14\n",
       "\\item 18\n",
       "\\item 90\n",
       "\\item 16\n",
       "\\item 19\n",
       "\\item 21\n",
       "\\end{enumerate*}\n"
      ],
      "text/markdown": [
       "1. 12\n",
       "2. 14\n",
       "3. 18\n",
       "4. 90\n",
       "5. 16\n",
       "6. 19\n",
       "7. 21\n",
       "\n",
       "\n"
      ],
      "text/plain": [
       "[1] 12 14 18 90 16 19 21"
      ]
     },
     "metadata": {},
     "output_type": "display_data"
    }
   ],
   "source": [
    "gaji <- c(12,14,18,90,16,19,21) # gaji bulanan dalam juta rupiah\n",
    "gaji"
   ]
  },
  {
   "cell_type": "code",
   "execution_count": 21,
   "metadata": {},
   "outputs": [
    {
     "data": {
      "text/html": [
       "27.1428571428571"
      ],
      "text/latex": [
       "27.1428571428571"
      ],
      "text/markdown": [
       "27.1428571428571"
      ],
      "text/plain": [
       "[1] 27.14286"
      ]
     },
     "metadata": {},
     "output_type": "display_data"
    }
   ],
   "source": [
    "mean(gaji)"
   ]
  },
  {
   "cell_type": "code",
   "execution_count": 22,
   "metadata": {},
   "outputs": [
    {
     "data": {
      "text/html": [
       "18"
      ],
      "text/latex": [
       "18"
      ],
      "text/markdown": [
       "18"
      ],
      "text/plain": [
       "[1] 18"
      ]
     },
     "metadata": {},
     "output_type": "display_data"
    }
   ],
   "source": [
    "median(gaji)"
   ]
  },
  {
   "cell_type": "markdown",
   "metadata": {},
   "source": [
    "Terdapat perbedaan yang sangat jauh antara rata - rata dan median."
   ]
  },
  {
   "cell_type": "code",
   "execution_count": 23,
   "metadata": {},
   "outputs": [
    {
     "data": {
      "image/png": "[encoded data removed]",
      "text/plain": [
       "plot without title"
      ]
     },
     "metadata": {},
     "output_type": "display_data"
    }
   ],
   "source": [
    "boxplot(gaji)"
   ]
  },
  {
   "cell_type": "code",
   "execution_count": 24,
   "metadata": {},
   "outputs": [
    {
     "data": {
      "text/html": [
       "27.1428571428571"
      ],
      "text/latex": [
       "27.1428571428571"
      ],
      "text/markdown": [
       "27.1428571428571"
      ],
      "text/plain": [
       "[1] 27.14286"
      ]
     },
     "metadata": {},
     "output_type": "display_data"
    }
   ],
   "source": [
    "mean(gaji, trim=0.1)"
   ]
  },
  {
   "cell_type": "code",
   "execution_count": 25,
   "metadata": {},
   "outputs": [
    {
     "data": {
      "text/html": [
       "18"
      ],
      "text/latex": [
       "18"
      ],
      "text/markdown": [
       "18"
      ],
      "text/plain": [
       "[1] 18"
      ]
     },
     "metadata": {},
     "output_type": "display_data"
    }
   ],
   "source": [
    "mean(gaji, trim=0.5)"
   ]
  },
  {
   "cell_type": "code",
   "execution_count": 26,
   "metadata": {},
   "outputs": [
    {
     "data": {
      "text/html": [
       "17.6"
      ],
      "text/latex": [
       "17.6"
      ],
      "text/markdown": [
       "17.6"
      ],
      "text/plain": [
       "[1] 17.6"
      ]
     },
     "metadata": {},
     "output_type": "display_data"
    }
   ],
   "source": [
    "mean(gaji, trim=0.2)"
   ]
  },
  {
   "cell_type": "markdown",
   "metadata": {},
   "source": [
    "## Kuartil dan kuantil"
   ]
  },
  {
   "cell_type": "markdown",
   "metadata": {},
   "source": [
    "Kuartil merupakan istilah statistik yang digunakan untuk mendeskripsikan pembagian selang data ke dalam empat interval."
   ]
  },
  {
   "cell_type": "markdown",
   "metadata": {},
   "source": [
    "* Kuartil memisahkan data ke dalam tiga titik, yakni kuartil bawah, median, dan kuartil atas.\n",
    "* Kuartil digunakan untuk menghitung jangkauan antar kuartil (IQR = Q1 - Q3) guna menghitung variabilitas di sekitar median.\n",
    "* Setiap kuartil memuat 25% dari total data.\n"
   ]
  },
  {
   "cell_type": "markdown",
   "metadata": {},
   "source": [
    "Untuk mencari letak kuartil, gunakan persamaan:\n",
    "$$Q_{i} = \\frac{i(n+1)}{4}\\text{ dengan } i = 1,2,3$$"
   ]
  },
  {
   "cell_type": "code",
   "execution_count": 27,
   "metadata": {},
   "outputs": [
    {
     "data": {
      "text/html": [
       "<ol class=list-inline>\n",
       "\t<li>5.3</li>\n",
       "\t<li>3.6</li>\n",
       "\t<li>5.5</li>\n",
       "\t<li>4.7</li>\n",
       "\t<li>6.7</li>\n",
       "\t<li>4.3</li>\n",
       "\t<li>6.2</li>\n",
       "\t<li>4.3</li>\n",
       "\t<li>4.9</li>\n",
       "\t<li>5.1</li>\n",
       "\t<li>5.8</li>\n",
       "\t<li>4.4</li>\n",
       "</ol>\n"
      ],
      "text/latex": [
       "\\begin{enumerate*}\n",
       "\\item 5.3\n",
       "\\item 3.6\n",
       "\\item 5.5\n",
       "\\item 4.7\n",
       "\\item 6.7\n",
       "\\item 4.3\n",
       "\\item 6.2\n",
       "\\item 4.3\n",
       "\\item 4.9\n",
       "\\item 5.1\n",
       "\\item 5.8\n",
       "\\item 4.4\n",
       "\\end{enumerate*}\n"
      ],
      "text/markdown": [
       "1. 5.3\n",
       "2. 3.6\n",
       "3. 5.5\n",
       "4. 4.7\n",
       "5. 6.7\n",
       "6. 4.3\n",
       "7. 6.2\n",
       "8. 4.3\n",
       "9. 4.9\n",
       "10. 5.1\n",
       "11. 5.8\n",
       "12. 4.4\n",
       "\n",
       "\n"
      ],
      "text/plain": [
       " [1] 5.3 3.6 5.5 4.7 6.7 4.3 6.2 4.3 4.9 5.1 5.8 4.4"
      ]
     },
     "metadata": {},
     "output_type": "display_data"
    }
   ],
   "source": [
    "lagu"
   ]
  },
  {
   "cell_type": "code",
   "execution_count": 28,
   "metadata": {},
   "outputs": [
    {
     "data": {
      "text/html": [
       "5.06666666666667"
      ],
      "text/latex": [
       "5.06666666666667"
      ],
      "text/markdown": [
       "5.06666666666667"
      ],
      "text/plain": [
       "[1] 5.066667"
      ]
     },
     "metadata": {},
     "output_type": "display_data"
    }
   ],
   "source": [
    "mean(lagu)"
   ]
  },
  {
   "cell_type": "code",
   "execution_count": 29,
   "metadata": {},
   "outputs": [
    {
     "data": {
      "text/html": [
       "5"
      ],
      "text/latex": [
       "5"
      ],
      "text/markdown": [
       "5"
      ],
      "text/plain": [
       "[1] 5"
      ]
     },
     "metadata": {},
     "output_type": "display_data"
    }
   ],
   "source": [
    "median(lagu)"
   ]
  },
  {
   "cell_type": "code",
   "execution_count": 30,
   "metadata": {},
   "outputs": [
    {
     "data": {
      "text/plain": [
       "   Min. 1st Qu.  Median    Mean 3rd Qu.    Max. \n",
       "  3.600   4.375   5.000   5.067   5.575   6.700 "
      ]
     },
     "metadata": {},
     "output_type": "display_data"
    }
   ],
   "source": [
    "summary(lagu) # digunakan untuk mencari sari data (termasuk kuartil)"
   ]
  },
  {
   "cell_type": "code",
   "execution_count": 31,
   "metadata": {},
   "outputs": [
    {
     "data": {
      "text/html": [
       "<dl class=dl-horizontal>\n",
       "\t<dt>25%</dt>\n",
       "\t\t<dd>4.375</dd>\n",
       "\t<dt>75%</dt>\n",
       "\t\t<dd>5.575</dd>\n",
       "</dl>\n"
      ],
      "text/latex": [
       "\\begin{description*}\n",
       "\\item[25\\textbackslash{}\\%] 4.375\n",
       "\\item[75\\textbackslash{}\\%] 5.575\n",
       "\\end{description*}\n"
      ],
      "text/markdown": [
       "25%\n",
       ":   4.37575%\n",
       ":   5.575\n",
       "\n"
      ],
      "text/plain": [
       "  25%   75% \n",
       "4.375 5.575 "
      ]
     },
     "metadata": {},
     "output_type": "display_data"
    }
   ],
   "source": [
    "# cara menghitung kuantil:\n",
    "# sintaks: quantile(data, c(probabilitas1,probabilitas2))\n",
    "quantile(lagu, c(.25, .75)) "
   ]
  },
  {
   "cell_type": "markdown",
   "metadata": {},
   "source": [
    "## Varian dan standar deviasi"
   ]
  },
  {
   "cell_type": "markdown",
   "metadata": {},
   "source": [
    "Digunakan untuk mengukur variabilitas dari suatu data atau akurasi dari parameter - parameter statistik."
   ]
  },
  {
   "cell_type": "markdown",
   "metadata": {},
   "source": [
    "* Varian: merupakan ukuran sebaran antar elemen di dalam sampel.\n",
    "* Standar deviasi: merupakan akar kuadrat dari varian."
   ]
  },
  {
   "cell_type": "markdown",
   "metadata": {},
   "source": [
    "$$s^2 = \\frac{\\sum_{i=1}^{n} (\\bar{x} - x_{i} )^{2}}{n-1}$$"
   ]
  },
  {
   "cell_type": "code",
   "execution_count": 32,
   "metadata": {},
   "outputs": [
    {
     "data": {
      "text/html": [
       "<ol class=list-inline>\n",
       "\t<li>5.3</li>\n",
       "\t<li>3.6</li>\n",
       "\t<li>5.5</li>\n",
       "\t<li>4.7</li>\n",
       "\t<li>6.7</li>\n",
       "\t<li>4.3</li>\n",
       "\t<li>6.2</li>\n",
       "\t<li>4.3</li>\n",
       "\t<li>4.9</li>\n",
       "\t<li>5.1</li>\n",
       "\t<li>5.8</li>\n",
       "\t<li>4.4</li>\n",
       "</ol>\n"
      ],
      "text/latex": [
       "\\begin{enumerate*}\n",
       "\\item 5.3\n",
       "\\item 3.6\n",
       "\\item 5.5\n",
       "\\item 4.7\n",
       "\\item 6.7\n",
       "\\item 4.3\n",
       "\\item 6.2\n",
       "\\item 4.3\n",
       "\\item 4.9\n",
       "\\item 5.1\n",
       "\\item 5.8\n",
       "\\item 4.4\n",
       "\\end{enumerate*}\n"
      ],
      "text/markdown": [
       "1. 5.3\n",
       "2. 3.6\n",
       "3. 5.5\n",
       "4. 4.7\n",
       "5. 6.7\n",
       "6. 4.3\n",
       "7. 6.2\n",
       "8. 4.3\n",
       "9. 4.9\n",
       "10. 5.1\n",
       "11. 5.8\n",
       "12. 4.4\n",
       "\n",
       "\n"
      ],
      "text/plain": [
       " [1] 5.3 3.6 5.5 4.7 6.7 4.3 6.2 4.3 4.9 5.1 5.8 4.4"
      ]
     },
     "metadata": {},
     "output_type": "display_data"
    }
   ],
   "source": [
    "lagu"
   ]
  },
  {
   "cell_type": "code",
   "execution_count": 33,
   "metadata": {},
   "outputs": [
    {
     "data": {
      "text/html": [
       "0.787878787878788"
      ],
      "text/latex": [
       "0.787878787878788"
      ],
      "text/markdown": [
       "0.787878787878788"
      ],
      "text/plain": [
       "[1] 0.7878788"
      ]
     },
     "metadata": {},
     "output_type": "display_data"
    }
   ],
   "source": [
    "var(lagu) # varian"
   ]
  },
  {
   "cell_type": "code",
   "execution_count": 34,
   "metadata": {},
   "outputs": [
    {
     "data": {
      "text/html": [
       "0.887625364598595"
      ],
      "text/latex": [
       "0.887625364598595"
      ],
      "text/markdown": [
       "0.887625364598595"
      ],
      "text/plain": [
       "[1] 0.8876254"
      ]
     },
     "metadata": {},
     "output_type": "display_data"
    }
   ],
   "source": [
    "sd(lagu) # std"
   ]
  },
  {
   "cell_type": "markdown",
   "metadata": {},
   "source": [
    "## Varian dan standar deviasi pada harga saham"
   ]
  },
  {
   "cell_type": "code",
   "execution_count": 35,
   "metadata": {},
   "outputs": [
    {
     "name": "stderr",
     "output_type": "stream",
     "text": [
      "\n",
      "Attaching package: ‘dplyr’\n",
      "\n",
      "The following objects are masked from ‘package:stats’:\n",
      "\n",
      "    filter, lag\n",
      "\n",
      "The following objects are masked from ‘package:base’:\n",
      "\n",
      "    intersect, setdiff, setequal, union\n",
      "\n"
     ]
    }
   ],
   "source": [
    "library(dplyr)"
   ]
  },
  {
   "cell_type": "code",
   "execution_count": 36,
   "metadata": {},
   "outputs": [],
   "source": [
    "gedata <- read.csv(\"../data/GEStock.csv\")\n",
    "geprice <- select(gedata,Price)"
   ]
  },
  {
   "cell_type": "code",
   "execution_count": 37,
   "metadata": {},
   "outputs": [],
   "source": [
    "ibmdata <- read.csv(\"../data/IBMStock.csv\")\n",
    "ibmprice <- select(ibmdata, Price)"
   ]
  },
  {
   "cell_type": "code",
   "execution_count": 38,
   "metadata": {},
   "outputs": [
    {
     "data": {
      "text/html": [
       "<table>\n",
       "<thead><tr><th></th><th scope=col>Price</th></tr></thead>\n",
       "<tbody>\n",
       "\t<tr><th scope=row>Price</th><td>575.6425</td></tr>\n",
       "</tbody>\n",
       "</table>\n"
      ],
      "text/latex": [
       "\\begin{tabular}{r|l}\n",
       "  & Price\\\\\n",
       "\\hline\n",
       "\tPrice & 575.6425\\\\\n",
       "\\end{tabular}\n"
      ],
      "text/markdown": [
       "\n",
       "| <!--/--> | Price |\n",
       "|---|---|\n",
       "| Price | 575.6425 |\n",
       "\n"
      ],
      "text/plain": [
       "      Price   \n",
       "Price 575.6425"
      ]
     },
     "metadata": {},
     "output_type": "display_data"
    }
   ],
   "source": [
    "var(geprice)"
   ]
  },
  {
   "cell_type": "code",
   "execution_count": 39,
   "metadata": {},
   "outputs": [
    {
     "data": {
      "text/html": [
       "<table>\n",
       "<thead><tr><th></th><th scope=col>Price</th></tr></thead>\n",
       "<tbody>\n",
       "\t<tr><th scope=row>Price</th><td>7712.717</td></tr>\n",
       "</tbody>\n",
       "</table>\n"
      ],
      "text/latex": [
       "\\begin{tabular}{r|l}\n",
       "  & Price\\\\\n",
       "\\hline\n",
       "\tPrice & 7712.717\\\\\n",
       "\\end{tabular}\n"
      ],
      "text/markdown": [
       "\n",
       "| <!--/--> | Price |\n",
       "|---|---|\n",
       "| Price | 7712.717 |\n",
       "\n"
      ],
      "text/plain": [
       "      Price   \n",
       "Price 7712.717"
      ]
     },
     "metadata": {},
     "output_type": "display_data"
    }
   ],
   "source": [
    "var(ibmprice) # lebih volatil ketimbang general electrics"
   ]
  },
  {
   "cell_type": "code",
   "execution_count": 40,
   "metadata": {},
   "outputs": [
    {
     "data": {
      "text/html": [
       "23.992551305301"
      ],
      "text/latex": [
       "23.992551305301"
      ],
      "text/markdown": [
       "23.992551305301"
      ],
      "text/plain": [
       "[1] 23.99255"
      ]
     },
     "metadata": {},
     "output_type": "display_data"
    }
   ],
   "source": [
    "sd(as.vector(geprice$Price))"
   ]
  },
  {
   "cell_type": "code",
   "execution_count": 41,
   "metadata": {},
   "outputs": [
    {
     "data": {
      "text/html": [
       "87.822078211186"
      ],
      "text/latex": [
       "87.822078211186"
      ],
      "text/markdown": [
       "87.822078211186"
      ],
      "text/plain": [
       "[1] 87.82208"
      ]
     },
     "metadata": {},
     "output_type": "display_data"
    }
   ],
   "source": [
    "sd(as.vector(ibmprice$Price))"
   ]
  },
  {
   "cell_type": "markdown",
   "metadata": {},
   "source": [
    "## Korelasi dan kovarian"
   ]
  },
  {
   "cell_type": "markdown",
   "metadata": {},
   "source": [
    "* Korelasi merupakan metode statistik yang digunakan untuk mengukur derajat relasi antar dua variabel.\n",
    "* Di dalam dunia finansial, korelasi dapat mengukur pergerakan harga saham. "
   ]
  },
  {
   "cell_type": "markdown",
   "metadata": {},
   "source": [
    "Korelasi:\n",
    "$$r = \\frac{\\sum (x-\\bar{x}) (y-\\bar{y})}{\\sqrt{\\sum (x-\\bar{x})^{2}} \\sqrt{(y-\\bar{y})^{2}}}$$\n",
    "\n",
    "Hasil korelai selalu berada di antara -1 hingga +1"
   ]
  },
  {
   "cell_type": "markdown",
   "metadata": {},
   "source": [
    "* Korelasi positif menunjukkan bahwa tren kedua data berada pada arah yang sama.\n",
    "* Korelasi negatif menunjukkan bahwa tren kedua data berada pada arah yang berbeda.\n",
    "* Korelasi nol menunjukkan bahwa tidak ada hubungan antar tren kedua data."
   ]
  },
  {
   "cell_type": "code",
   "execution_count": 42,
   "metadata": {},
   "outputs": [],
   "source": [
    "x <- seq(10,50, by=10)\n",
    "y <- x"
   ]
  },
  {
   "cell_type": "code",
   "execution_count": 43,
   "metadata": {},
   "outputs": [
    {
     "data": {
      "text/html": [
       "1"
      ],
      "text/latex": [
       "1"
      ],
      "text/markdown": [
       "1"
      ],
      "text/plain": [
       "[1] 1"
      ]
     },
     "metadata": {},
     "output_type": "display_data"
    }
   ],
   "source": [
    "cor(x,y) # karena data sama maka r = 1"
   ]
  },
  {
   "cell_type": "code",
   "execution_count": 44,
   "metadata": {},
   "outputs": [],
   "source": [
    "y <- c(50,40,30,20,10)"
   ]
  },
  {
   "cell_type": "code",
   "execution_count": 45,
   "metadata": {},
   "outputs": [
    {
     "data": {
      "text/html": [
       "-1"
      ],
      "text/latex": [
       "-1"
      ],
      "text/markdown": [
       "-1"
      ],
      "text/plain": [
       "[1] -1"
      ]
     },
     "metadata": {},
     "output_type": "display_data"
    }
   ],
   "source": [
    "cor(x,y) # terbalik r = -1"
   ]
  },
  {
   "cell_type": "code",
   "execution_count": 46,
   "metadata": {},
   "outputs": [
    {
     "data": {
      "text/html": [
       "0.64810840039477"
      ],
      "text/latex": [
       "0.64810840039477"
      ],
      "text/markdown": [
       "0.64810840039477"
      ],
      "text/plain": [
       "[1] 0.6481084"
      ]
     },
     "metadata": {},
     "output_type": "display_data"
    }
   ],
   "source": [
    "x <- c(41,19,23,40,55)\n",
    "y <- c(94,60,74,71,82)\n",
    "cor(x,y)"
   ]
  },
  {
   "cell_type": "code",
   "execution_count": 47,
   "metadata": {},
   "outputs": [],
   "source": [
    "gedates <- select(gedata, Date)\n",
    "geprice <- select(gedata, Price)\n",
    "ibmdates <- select(ibmdata, Date)\n",
    "ibmprice <- select(ibmdata, Price)"
   ]
  },
  {
   "cell_type": "code",
   "execution_count": 48,
   "metadata": {},
   "outputs": [
    {
     "data": {
      "text/html": [
       "<table>\n",
       "<thead><tr><th></th><th scope=col>Price</th></tr></thead>\n",
       "<tbody>\n",
       "\t<tr><th scope=row>Price</th><td>0.1098373</td></tr>\n",
       "</tbody>\n",
       "</table>\n"
      ],
      "text/latex": [
       "\\begin{tabular}{r|l}\n",
       "  & Price\\\\\n",
       "\\hline\n",
       "\tPrice & 0.1098373\\\\\n",
       "\\end{tabular}\n"
      ],
      "text/markdown": [
       "\n",
       "| <!--/--> | Price |\n",
       "|---|---|\n",
       "| Price | 0.1098373 |\n",
       "\n"
      ],
      "text/plain": [
       "      Price    \n",
       "Price 0.1098373"
      ]
     },
     "metadata": {},
     "output_type": "display_data"
    }
   ],
   "source": [
    "cor(geprice,ibmprice) # secara default menggunakan korelasi pearson"
   ]
  },
  {
   "cell_type": "code",
   "execution_count": 49,
   "metadata": {},
   "outputs": [
    {
     "data": {
      "text/html": [
       "<table>\n",
       "<thead><tr><th></th><th scope=col>Price</th></tr></thead>\n",
       "<tbody>\n",
       "\t<tr><th scope=row>Price</th><td>0.1098373</td></tr>\n",
       "</tbody>\n",
       "</table>\n"
      ],
      "text/latex": [
       "\\begin{tabular}{r|l}\n",
       "  & Price\\\\\n",
       "\\hline\n",
       "\tPrice & 0.1098373\\\\\n",
       "\\end{tabular}\n"
      ],
      "text/markdown": [
       "\n",
       "| <!--/--> | Price |\n",
       "|---|---|\n",
       "| Price | 0.1098373 |\n",
       "\n"
      ],
      "text/plain": [
       "      Price    \n",
       "Price 0.1098373"
      ]
     },
     "metadata": {},
     "output_type": "display_data"
    }
   ],
   "source": [
    "cor(geprice,ibmprice, use='complete.obs') # guna menangani nilai NaN"
   ]
  },
  {
   "cell_type": "code",
   "execution_count": 50,
   "metadata": {},
   "outputs": [
    {
     "data": {
      "text/html": [
       "<table>\n",
       "<thead><tr><th></th><th scope=col>Price</th></tr></thead>\n",
       "<tbody>\n",
       "\t<tr><th scope=row>Price</th><td>0.1665118</td></tr>\n",
       "</tbody>\n",
       "</table>\n"
      ],
      "text/latex": [
       "\\begin{tabular}{r|l}\n",
       "  & Price\\\\\n",
       "\\hline\n",
       "\tPrice & 0.1665118\\\\\n",
       "\\end{tabular}\n"
      ],
      "text/markdown": [
       "\n",
       "| <!--/--> | Price |\n",
       "|---|---|\n",
       "| Price | 0.1665118 |\n",
       "\n"
      ],
      "text/plain": [
       "      Price    \n",
       "Price 0.1665118"
      ]
     },
     "metadata": {},
     "output_type": "display_data"
    }
   ],
   "source": [
    "cor(geprice, ibmprice, method = 'spearman') # korelasi spearman"
   ]
  },
  {
   "cell_type": "code",
   "execution_count": 51,
   "metadata": {},
   "outputs": [],
   "source": [
    "geprice_vec <- as.vector(geprice$Price)\n",
    "ibmprice_vec <- as.vector(ibmprice$Price)"
   ]
  },
  {
   "cell_type": "code",
   "execution_count": 52,
   "metadata": {},
   "outputs": [
    {
     "data": {
      "text/plain": [
       "\n",
       "\tPearson's product-moment correlation\n",
       "\n",
       "data:  geprice_vec and ibmprice_vec\n",
       "t = 2.416, df = 478, p-value = 0.01607\n",
       "alternative hypothesis: true correlation is not equal to 0\n",
       "95 percent confidence interval:\n",
       " 0.02053871 0.19739721\n",
       "sample estimates:\n",
       "      cor \n",
       "0.1098373 \n"
      ]
     },
     "metadata": {},
     "output_type": "display_data"
    }
   ],
   "source": [
    "cor.test(geprice_vec,ibmprice_vec, method='pearson')"
   ]
  },
  {
   "cell_type": "code",
   "execution_count": 53,
   "metadata": {},
   "outputs": [
    {
     "data": {
      "text/plain": [
       "\n",
       "\tSpearman's rank correlation rho\n",
       "\n",
       "data:  geprice_vec and ibmprice_vec\n",
       "S = 15362788, p-value = 0.0002528\n",
       "alternative hypothesis: true rho is not equal to 0\n",
       "sample estimates:\n",
       "      rho \n",
       "0.1665118 \n"
      ]
     },
     "metadata": {},
     "output_type": "display_data"
    }
   ],
   "source": [
    "cor.test(geprice_vec,ibmprice_vec, method='spearman')"
   ]
  },
  {
   "cell_type": "code",
   "execution_count": 54,
   "metadata": {},
   "outputs": [
    {
     "data": {
      "text/plain": [
       "\n",
       "\tKendall's rank correlation tau\n",
       "\n",
       "data:  geprice_vec and ibmprice_vec\n",
       "z = 3.9796, p-value = 6.902e-05\n",
       "alternative hypothesis: true tau is not equal to 0\n",
       "sample estimates:\n",
       "      tau \n",
       "0.1215379 \n"
      ]
     },
     "metadata": {},
     "output_type": "display_data"
    }
   ],
   "source": [
    "cor.test(geprice_vec,ibmprice_vec, method='kendall')"
   ]
  },
  {
   "cell_type": "markdown",
   "metadata": {},
   "source": [
    "* Kovarian merupakan metode statistik yang digunakan untuk mengukur hubungan langsung antara kedua variabel.\n",
    "* Ketika dua harga saham mempunyai perbedaan varian yang besar, maka kovariannya positif, pun begitu sebaliknya (kebalikan dari korelasi).\n",
    "* Banyak digunakan pada teori potofolio modern di bidang finansial."
   ]
  },
  {
   "cell_type": "code",
   "execution_count": 55,
   "metadata": {},
   "outputs": [
    {
     "data": {
      "text/html": [
       "<table>\n",
       "<thead><tr><th></th><th scope=col>Price</th></tr></thead>\n",
       "<tbody>\n",
       "\t<tr><th scope=row>Price</th><td>231.4354</td></tr>\n",
       "</tbody>\n",
       "</table>\n"
      ],
      "text/latex": [
       "\\begin{tabular}{r|l}\n",
       "  & Price\\\\\n",
       "\\hline\n",
       "\tPrice & 231.4354\\\\\n",
       "\\end{tabular}\n"
      ],
      "text/markdown": [
       "\n",
       "| <!--/--> | Price |\n",
       "|---|---|\n",
       "| Price | 231.4354 |\n",
       "\n"
      ],
      "text/plain": [
       "      Price   \n",
       "Price 231.4354"
      ]
     },
     "metadata": {},
     "output_type": "display_data"
    }
   ],
   "source": [
    "cov(geprice, ibmprice)"
   ]
  },
  {
   "cell_type": "markdown",
   "metadata": {},
   "source": [
    "## Contoh kasus perbandingan harga saham"
   ]
  },
  {
   "cell_type": "code",
   "execution_count": 57,
   "metadata": {},
   "outputs": [
    {
     "data": {
      "text/html": [
       "<table>\n",
       "<thead><tr><th></th><th scope=col>Price</th></tr></thead>\n",
       "<tbody>\n",
       "\t<tr><th scope=row>Price</th><td>0.1098373</td></tr>\n",
       "</tbody>\n",
       "</table>\n"
      ],
      "text/latex": [
       "\\begin{tabular}{r|l}\n",
       "  & Price\\\\\n",
       "\\hline\n",
       "\tPrice & 0.1098373\\\\\n",
       "\\end{tabular}\n"
      ],
      "text/markdown": [
       "\n",
       "| <!--/--> | Price |\n",
       "|---|---|\n",
       "| Price | 0.1098373 |\n",
       "\n"
      ],
      "text/plain": [
       "      Price    \n",
       "Price 0.1098373"
      ]
     },
     "metadata": {},
     "output_type": "display_data"
    }
   ],
   "source": [
    "cor(geprice,ibmprice)"
   ]
  },
  {
   "cell_type": "code",
   "execution_count": 58,
   "metadata": {},
   "outputs": [
    {
     "data": {
      "text/html": [
       "<table>\n",
       "<thead><tr><th></th><th scope=col>Price</th></tr></thead>\n",
       "<tbody>\n",
       "\t<tr><th scope=row>Price</th><td>231.4354</td></tr>\n",
       "</tbody>\n",
       "</table>\n"
      ],
      "text/latex": [
       "\\begin{tabular}{r|l}\n",
       "  & Price\\\\\n",
       "\\hline\n",
       "\tPrice & 231.4354\\\\\n",
       "\\end{tabular}\n"
      ],
      "text/markdown": [
       "\n",
       "| <!--/--> | Price |\n",
       "|---|---|\n",
       "| Price | 231.4354 |\n",
       "\n"
      ],
      "text/plain": [
       "      Price   \n",
       "Price 231.4354"
      ]
     },
     "metadata": {},
     "output_type": "display_data"
    }
   ],
   "source": [
    "cov(geprice,ibmprice)"
   ]
  },
  {
   "cell_type": "code",
   "execution_count": 60,
   "metadata": {},
   "outputs": [],
   "source": [
    "# mengimpor data saham cocacola\n",
    "cocadata <- read.csv(\"../data/CocaColaStock.csv\")\n",
    "cocadates <- select(cocadata, Date)\n",
    "cocaprice <- select(cocadata, Price)"
   ]
  },
  {
   "cell_type": "code",
   "execution_count": 61,
   "metadata": {},
   "outputs": [
    {
     "data": {
      "text/html": [
       "<table>\n",
       "<thead><tr><th></th><th scope=col>Price</th></tr></thead>\n",
       "<tbody>\n",
       "\t<tr><th scope=row>Price</th><td>0.1775435</td></tr>\n",
       "</tbody>\n",
       "</table>\n"
      ],
      "text/latex": [
       "\\begin{tabular}{r|l}\n",
       "  & Price\\\\\n",
       "\\hline\n",
       "\tPrice & 0.1775435\\\\\n",
       "\\end{tabular}\n"
      ],
      "text/markdown": [
       "\n",
       "| <!--/--> | Price |\n",
       "|---|---|\n",
       "| Price | 0.1775435 |\n",
       "\n"
      ],
      "text/plain": [
       "      Price    \n",
       "Price 0.1775435"
      ]
     },
     "metadata": {},
     "output_type": "display_data"
    }
   ],
   "source": [
    "cor(geprice, cocaprice)"
   ]
  },
  {
   "cell_type": "code",
   "execution_count": 62,
   "metadata": {},
   "outputs": [
    {
     "data": {
      "text/html": [
       "<table>\n",
       "<thead><tr><th></th><th scope=col>Price</th></tr></thead>\n",
       "<tbody>\n",
       "\t<tr><th scope=row>Price</th><td>107.2014</td></tr>\n",
       "</tbody>\n",
       "</table>\n"
      ],
      "text/latex": [
       "\\begin{tabular}{r|l}\n",
       "  & Price\\\\\n",
       "\\hline\n",
       "\tPrice & 107.2014\\\\\n",
       "\\end{tabular}\n"
      ],
      "text/markdown": [
       "\n",
       "| <!--/--> | Price |\n",
       "|---|---|\n",
       "| Price | 107.2014 |\n",
       "\n"
      ],
      "text/plain": [
       "      Price   \n",
       "Price 107.2014"
      ]
     },
     "metadata": {},
     "output_type": "display_data"
    }
   ],
   "source": [
    "cov(geprice, cocaprice)"
   ]
  },
  {
   "cell_type": "markdown",
   "metadata": {},
   "source": [
    "Dapat dikatakan harga saham di GE dan CocaCola secara komparatif lebih terhubung daripada GE dengan IBM. "
   ]
  }
 ],
 "metadata": {
  "kernelspec": {
   "display_name": "R",
   "language": "R",
   "name": "ir"
  },
  "language_info": {
   "codemirror_mode": "r",
   "file_extension": ".r",
   "mimetype": "text/x-r-source",
   "name": "R",
   "pygments_lexer": "r",
   "version": "3.6.1"
  }
 },
 "nbformat": 4,
 "nbformat_minor": 4
}
