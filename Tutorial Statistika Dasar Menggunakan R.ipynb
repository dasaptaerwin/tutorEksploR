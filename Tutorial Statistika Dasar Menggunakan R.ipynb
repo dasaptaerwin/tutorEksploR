{
 "cells": [
  {
   "cell_type": "markdown",
   "metadata": {},
   "source": [
    "&copy; 2020<br><br>\n",
    "Oleh:<br><br>\n",
    "Sandy Hardian Susanto Herho<br>\n",
    "[sandyherho@protonmail.ch](mailto:sandyherho@protonmail.ch)<br><br>\n",
    "Dasapta Erwin Irawan<br>\n",
    "[r-win@office.itb.ac.id](mailto:r-win@office.itb.ac.id)"
   ]
  },
  {
   "cell_type": "markdown",
   "metadata": {},
   "source": [
    "# Dasar - dasar pemrograman"
   ]
  },
  {
   "cell_type": "markdown",
   "metadata": {},
   "source": [
    "## Aritmatika"
   ]
  },
  {
   "cell_type": "code",
   "execution_count": 1,
   "metadata": {},
   "outputs": [
    {
     "data": {
      "text/html": [
       "3"
      ],
      "text/latex": [
       "3"
      ],
      "text/markdown": [
       "3"
      ],
      "text/plain": [
       "[1] 3"
      ]
     },
     "metadata": {},
     "output_type": "display_data"
    }
   ],
   "source": [
    "1 + 2"
   ]
  },
  {
   "cell_type": "code",
   "execution_count": 2,
   "metadata": {},
   "outputs": [
    {
     "data": {
      "text/html": [
       "2"
      ],
      "text/latex": [
       "2"
      ],
      "text/markdown": [
       "2"
      ],
      "text/plain": [
       "[1] 2"
      ]
     },
     "metadata": {},
     "output_type": "display_data"
    }
   ],
   "source": [
    "5 - 3"
   ]
  },
  {
   "cell_type": "code",
   "execution_count": 3,
   "metadata": {},
   "outputs": [
    {
     "data": {
      "text/html": [
       "9.2"
      ],
      "text/latex": [
       "9.2"
      ],
      "text/markdown": [
       "9.2"
      ],
      "text/plain": [
       "[1] 9.2"
      ]
     },
     "metadata": {},
     "output_type": "display_data"
    }
   ],
   "source": [
    "5.25 + 3.95"
   ]
  },
  {
   "cell_type": "code",
   "execution_count": 4,
   "metadata": {},
   "outputs": [
    {
     "data": {
      "text/html": [
       "6"
      ],
      "text/latex": [
       "6"
      ],
      "text/markdown": [
       "6"
      ],
      "text/plain": [
       "[1] 6"
      ]
     },
     "metadata": {},
     "output_type": "display_data"
    }
   ],
   "source": [
    "3 * 2"
   ]
  },
  {
   "cell_type": "code",
   "execution_count": 5,
   "metadata": {},
   "outputs": [
    {
     "data": {
      "text/html": [
       "7.5"
      ],
      "text/latex": [
       "7.5"
      ],
      "text/markdown": [
       "7.5"
      ],
      "text/plain": [
       "[1] 7.5"
      ]
     },
     "metadata": {},
     "output_type": "display_data"
    }
   ],
   "source": [
    "15 / 2"
   ]
  },
  {
   "cell_type": "code",
   "execution_count": 6,
   "metadata": {},
   "outputs": [
    {
     "data": {
      "text/html": [
       "8"
      ],
      "text/latex": [
       "8"
      ],
      "text/markdown": [
       "8"
      ],
      "text/plain": [
       "[1] 8"
      ]
     },
     "metadata": {},
     "output_type": "display_data"
    }
   ],
   "source": [
    "2 ^ 3"
   ]
  },
  {
   "cell_type": "code",
   "execution_count": 7,
   "metadata": {},
   "outputs": [
    {
     "data": {
      "text/html": [
       "7.5"
      ],
      "text/latex": [
       "7.5"
      ],
      "text/markdown": [
       "7.5"
      ],
      "text/plain": [
       "[1] 7.5"
      ]
     },
     "metadata": {},
     "output_type": "display_data"
    }
   ],
   "source": [
    "# operator modulus\n",
    "\n",
    "15/2 "
   ]
  },
  {
   "cell_type": "code",
   "execution_count": 8,
   "metadata": {},
   "outputs": [
    {
     "data": {
      "text/html": [
       "1"
      ],
      "text/latex": [
       "1"
      ],
      "text/markdown": [
       "1"
      ],
      "text/plain": [
       "[1] 1"
      ]
     },
     "metadata": {},
     "output_type": "display_data"
    }
   ],
   "source": [
    "15 %% 2"
   ]
  },
  {
   "cell_type": "code",
   "execution_count": 9,
   "metadata": {},
   "outputs": [
    {
     "data": {
      "text/html": [
       "325"
      ],
      "text/latex": [
       "325"
      ],
      "text/markdown": [
       "325"
      ],
      "text/plain": [
       "[1] 325"
      ]
     },
     "metadata": {},
     "output_type": "display_data"
    }
   ],
   "source": [
    "# urutan operasi\n",
    "15 * 20 + 50 / 2"
   ]
  },
  {
   "cell_type": "code",
   "execution_count": 10,
   "metadata": {},
   "outputs": [
    {
     "data": {
      "text/html": [
       "325"
      ],
      "text/latex": [
       "325"
      ],
      "text/markdown": [
       "325"
      ],
      "text/plain": [
       "[1] 325"
      ]
     },
     "metadata": {},
     "output_type": "display_data"
    }
   ],
   "source": [
    "15 * 20 + (50 / 2)"
   ]
  },
  {
   "cell_type": "code",
   "execution_count": 11,
   "metadata": {},
   "outputs": [
    {
     "data": {
      "text/html": [
       "525"
      ],
      "text/latex": [
       "525"
      ],
      "text/markdown": [
       "525"
      ],
      "text/plain": [
       "[1] 525"
      ]
     },
     "metadata": {},
     "output_type": "display_data"
    }
   ],
   "source": [
    "15 * (20 + 50) / 2"
   ]
  },
  {
   "cell_type": "markdown",
   "metadata": {},
   "source": [
    "## Variabel"
   ]
  },
  {
   "cell_type": "code",
   "execution_count": 12,
   "metadata": {},
   "outputs": [],
   "source": [
    "# komentar\n",
    "v <- 10"
   ]
  },
  {
   "cell_type": "code",
   "execution_count": 13,
   "metadata": {},
   "outputs": [
    {
     "name": "stdout",
     "output_type": "stream",
     "text": [
      "[1] 10\n"
     ]
    }
   ],
   "source": [
    "print(v)"
   ]
  },
  {
   "cell_type": "code",
   "execution_count": 14,
   "metadata": {},
   "outputs": [
    {
     "data": {
      "text/html": [
       "10"
      ],
      "text/latex": [
       "10"
      ],
      "text/markdown": [
       "10"
      ],
      "text/plain": [
       "[1] 10"
      ]
     },
     "metadata": {},
     "output_type": "display_data"
    }
   ],
   "source": [
    "v"
   ]
  },
  {
   "cell_type": "code",
   "execution_count": 15,
   "metadata": {},
   "outputs": [],
   "source": [
    "uang <- 100000"
   ]
  },
  {
   "cell_type": "code",
   "execution_count": 16,
   "metadata": {},
   "outputs": [
    {
     "data": {
      "text/html": [
       "1e+05"
      ],
      "text/latex": [
       "1e+05"
      ],
      "text/markdown": [
       "1e+05"
      ],
      "text/plain": [
       "[1] 1e+05"
      ]
     },
     "metadata": {},
     "output_type": "display_data"
    }
   ],
   "source": [
    "uang"
   ]
  },
  {
   "cell_type": "code",
   "execution_count": 17,
   "metadata": {},
   "outputs": [
    {
     "data": {
      "text/html": [
       "2e+05"
      ],
      "text/latex": [
       "2e+05"
      ],
      "text/markdown": [
       "2e+05"
      ],
      "text/plain": [
       "[1] 2e+05"
      ]
     },
     "metadata": {},
     "output_type": "display_data"
    }
   ],
   "source": [
    "tiket.bioskop <- 2e5 # paling sering digunakan di komunitas R\n",
    "tiket.bioskop"
   ]
  },
  {
   "cell_type": "code",
   "execution_count": 18,
   "metadata": {},
   "outputs": [
    {
     "data": {
      "text/html": [
       "205000"
      ],
      "text/latex": [
       "205000"
      ],
      "text/markdown": [
       "205000"
      ],
      "text/plain": [
       "[1] 205000"
      ]
     },
     "metadata": {},
     "output_type": "display_data"
    }
   ],
   "source": [
    "tiketBioskop <- 2.05e5\n",
    "tiketBioskop"
   ]
  },
  {
   "cell_type": "code",
   "execution_count": 19,
   "metadata": {},
   "outputs": [
    {
     "data": {
      "text/html": [
       "210000"
      ],
      "text/latex": [
       "210000"
      ],
      "text/markdown": [
       "210000"
      ],
      "text/plain": [
       "[1] 210000"
      ]
     },
     "metadata": {},
     "output_type": "display_data"
    }
   ],
   "source": [
    "tiket_bioskop <-2.1e5\n",
    "tiket_bioskop"
   ]
  },
  {
   "cell_type": "code",
   "execution_count": 20,
   "metadata": {},
   "outputs": [
    {
     "data": {
      "text/html": [
       "50000"
      ],
      "text/latex": [
       "50000"
      ],
      "text/markdown": [
       "50000"
      ],
      "text/plain": [
       "[1] 50000"
      ]
     },
     "metadata": {},
     "output_type": "display_data"
    }
   ],
   "source": [
    "popcorn <- 5e4\n",
    "popcorn"
   ]
  },
  {
   "cell_type": "code",
   "execution_count": 21,
   "metadata": {},
   "outputs": [
    {
     "name": "stdout",
     "output_type": "stream",
     "text": [
      "[1] 270000\n"
     ]
    }
   ],
   "source": [
    "tiket.bioskop <- tiket.bioskop + popcorn + 2e4\n",
    "print(tiket.bioskop)"
   ]
  },
  {
   "cell_type": "markdown",
   "metadata": {},
   "source": [
    "## Tipe - tipe data"
   ]
  },
  {
   "cell_type": "markdown",
   "metadata": {},
   "source": [
    "### Numerik"
   ]
  },
  {
   "cell_type": "code",
   "execution_count": 22,
   "metadata": {},
   "outputs": [
    {
     "data": {
      "text/html": [
       "2"
      ],
      "text/latex": [
       "2"
      ],
      "text/markdown": [
       "2"
      ],
      "text/plain": [
       "[1] 2"
      ]
     },
     "metadata": {},
     "output_type": "display_data"
    }
   ],
   "source": [
    "b <- 2\n",
    "b"
   ]
  },
  {
   "cell_type": "code",
   "execution_count": 23,
   "metadata": {},
   "outputs": [
    {
     "data": {
      "text/html": [
       "3.5"
      ],
      "text/latex": [
       "3.5"
      ],
      "text/markdown": [
       "3.5"
      ],
      "text/plain": [
       "[1] 3.5"
      ]
     },
     "metadata": {},
     "output_type": "display_data"
    }
   ],
   "source": [
    "d <- 3.5\n",
    "d"
   ]
  },
  {
   "cell_type": "code",
   "execution_count": 24,
   "metadata": {},
   "outputs": [
    {
     "data": {
      "text/html": [
       "'numeric'"
      ],
      "text/latex": [
       "'numeric'"
      ],
      "text/markdown": [
       "'numeric'"
      ],
      "text/plain": [
       "[1] \"numeric\""
      ]
     },
     "metadata": {},
     "output_type": "display_data"
    }
   ],
   "source": [
    "class(d)"
   ]
  },
  {
   "cell_type": "code",
   "execution_count": 25,
   "metadata": {},
   "outputs": [
    {
     "data": {
      "text/html": [
       "'numeric'"
      ],
      "text/latex": [
       "'numeric'"
      ],
      "text/markdown": [
       "'numeric'"
      ],
      "text/plain": [
       "[1] \"numeric\""
      ]
     },
     "metadata": {},
     "output_type": "display_data"
    }
   ],
   "source": [
    "class(b)"
   ]
  },
  {
   "cell_type": "markdown",
   "metadata": {},
   "source": [
    "Integer dan float di R dianggap sebagai tipe data numerik"
   ]
  },
  {
   "cell_type": "markdown",
   "metadata": {},
   "source": [
    "### Logical"
   ]
  },
  {
   "cell_type": "code",
   "execution_count": 26,
   "metadata": {},
   "outputs": [
    {
     "data": {
      "text/html": [
       "TRUE"
      ],
      "text/latex": [
       "TRUE"
      ],
      "text/markdown": [
       "TRUE"
      ],
      "text/plain": [
       "[1] TRUE"
      ]
     },
     "metadata": {},
     "output_type": "display_data"
    }
   ],
   "source": [
    "TRUE"
   ]
  },
  {
   "cell_type": "code",
   "execution_count": 27,
   "metadata": {},
   "outputs": [
    {
     "data": {
      "text/html": [
       "FALSE"
      ],
      "text/latex": [
       "FALSE"
      ],
      "text/markdown": [
       "FALSE"
      ],
      "text/plain": [
       "[1] FALSE"
      ]
     },
     "metadata": {},
     "output_type": "display_data"
    }
   ],
   "source": [
    "FALSE"
   ]
  },
  {
   "cell_type": "code",
   "execution_count": 28,
   "metadata": {},
   "outputs": [
    {
     "data": {
      "text/html": [
       "TRUE"
      ],
      "text/latex": [
       "TRUE"
      ],
      "text/markdown": [
       "TRUE"
      ],
      "text/plain": [
       "[1] TRUE"
      ]
     },
     "metadata": {},
     "output_type": "display_data"
    }
   ],
   "source": [
    "T"
   ]
  },
  {
   "cell_type": "code",
   "execution_count": 29,
   "metadata": {},
   "outputs": [
    {
     "data": {
      "text/html": [
       "FALSE"
      ],
      "text/latex": [
       "FALSE"
      ],
      "text/markdown": [
       "FALSE"
      ],
      "text/plain": [
       "[1] FALSE"
      ]
     },
     "metadata": {},
     "output_type": "display_data"
    }
   ],
   "source": [
    "F"
   ]
  },
  {
   "cell_type": "code",
   "execution_count": 30,
   "metadata": {},
   "outputs": [
    {
     "data": {
      "text/html": [
       "TRUE"
      ],
      "text/latex": [
       "TRUE"
      ],
      "text/markdown": [
       "TRUE"
      ],
      "text/plain": [
       "[1] TRUE"
      ]
     },
     "metadata": {},
     "output_type": "display_data"
    }
   ],
   "source": [
    "a <- TRUE\n",
    "a"
   ]
  },
  {
   "cell_type": "code",
   "execution_count": 31,
   "metadata": {},
   "outputs": [
    {
     "data": {
      "text/html": [
       "'logical'"
      ],
      "text/latex": [
       "'logical'"
      ],
      "text/markdown": [
       "'logical'"
      ],
      "text/plain": [
       "[1] \"logical\""
      ]
     },
     "metadata": {},
     "output_type": "display_data"
    }
   ],
   "source": [
    "class(a)"
   ]
  },
  {
   "cell_type": "markdown",
   "metadata": {},
   "source": [
    "### Character"
   ]
  },
  {
   "cell_type": "code",
   "execution_count": 32,
   "metadata": {},
   "outputs": [
    {
     "data": {
      "text/html": [
       "'Halo'"
      ],
      "text/latex": [
       "'Halo'"
      ],
      "text/markdown": [
       "'Halo'"
      ],
      "text/plain": [
       "[1] \"Halo\""
      ]
     },
     "metadata": {},
     "output_type": "display_data"
    }
   ],
   "source": [
    "\"Halo\""
   ]
  },
  {
   "cell_type": "code",
   "execution_count": 33,
   "metadata": {},
   "outputs": [
    {
     "data": {
      "text/html": [
       "'Halo'"
      ],
      "text/latex": [
       "'Halo'"
      ],
      "text/markdown": [
       "'Halo'"
      ],
      "text/plain": [
       "[1] \"Halo\""
      ]
     },
     "metadata": {},
     "output_type": "display_data"
    }
   ],
   "source": [
    "'Halo'"
   ]
  },
  {
   "cell_type": "code",
   "execution_count": 34,
   "metadata": {},
   "outputs": [
    {
     "name": "stdout",
     "output_type": "stream",
     "text": [
      "[1] \"Hello world!\"\n"
     ]
    }
   ],
   "source": [
    "txt <- \"Hello world!\"\n",
    "print(txt)"
   ]
  },
  {
   "cell_type": "code",
   "execution_count": 35,
   "metadata": {},
   "outputs": [
    {
     "data": {
      "text/html": [
       "'character'"
      ],
      "text/latex": [
       "'character'"
      ],
      "text/markdown": [
       "'character'"
      ],
      "text/plain": [
       "[1] \"character\""
      ]
     },
     "metadata": {},
     "output_type": "display_data"
    }
   ],
   "source": [
    "class(txt)"
   ]
  },
  {
   "cell_type": "markdown",
   "metadata": {},
   "source": [
    "## Vektor"
   ]
  },
  {
   "cell_type": "code",
   "execution_count": 36,
   "metadata": {},
   "outputs": [],
   "source": [
    "num <- c(1,2,3,4,5)"
   ]
  },
  {
   "cell_type": "code",
   "execution_count": 37,
   "metadata": {},
   "outputs": [
    {
     "data": {
      "text/html": [
       "'numeric'"
      ],
      "text/latex": [
       "'numeric'"
      ],
      "text/markdown": [
       "'numeric'"
      ],
      "text/plain": [
       "[1] \"numeric\""
      ]
     },
     "metadata": {},
     "output_type": "display_data"
    }
   ],
   "source": [
    "class(num)"
   ]
  },
  {
   "cell_type": "code",
   "execution_count": 38,
   "metadata": {},
   "outputs": [
    {
     "data": {
      "text/html": [
       "<ol class=list-inline>\n",
       "\t<li>'a'</li>\n",
       "\t<li>'b'</li>\n",
       "\t<li>'c'</li>\n",
       "</ol>\n"
      ],
      "text/latex": [
       "\\begin{enumerate*}\n",
       "\\item 'a'\n",
       "\\item 'b'\n",
       "\\item 'c'\n",
       "\\end{enumerate*}\n"
      ],
      "text/markdown": [
       "1. 'a'\n",
       "2. 'b'\n",
       "3. 'c'\n",
       "\n",
       "\n"
      ],
      "text/plain": [
       "[1] \"a\" \"b\" \"c\""
      ]
     },
     "metadata": {},
     "output_type": "display_data"
    }
   ],
   "source": [
    "txt <- c('a', 'b', 'c')\n",
    "txt"
   ]
  },
  {
   "cell_type": "code",
   "execution_count": 39,
   "metadata": {},
   "outputs": [
    {
     "data": {
      "text/html": [
       "'character'"
      ],
      "text/latex": [
       "'character'"
      ],
      "text/markdown": [
       "'character'"
      ],
      "text/plain": [
       "[1] \"character\""
      ]
     },
     "metadata": {},
     "output_type": "display_data"
    }
   ],
   "source": [
    "class(txt)"
   ]
  },
  {
   "cell_type": "code",
   "execution_count": 40,
   "metadata": {},
   "outputs": [
    {
     "data": {
      "text/html": [
       "<ol class=list-inline>\n",
       "\t<li>TRUE</li>\n",
       "\t<li>FALSE</li>\n",
       "</ol>\n"
      ],
      "text/latex": [
       "\\begin{enumerate*}\n",
       "\\item TRUE\n",
       "\\item FALSE\n",
       "\\end{enumerate*}\n"
      ],
      "text/markdown": [
       "1. TRUE\n",
       "2. FALSE\n",
       "\n",
       "\n"
      ],
      "text/plain": [
       "[1]  TRUE FALSE"
      ]
     },
     "metadata": {},
     "output_type": "display_data"
    }
   ],
   "source": [
    "l <- c(T,F)\n",
    "l"
   ]
  },
  {
   "cell_type": "code",
   "execution_count": 41,
   "metadata": {},
   "outputs": [
    {
     "data": {
      "text/html": [
       "'logical'"
      ],
      "text/latex": [
       "'logical'"
      ],
      "text/markdown": [
       "'logical'"
      ],
      "text/plain": [
       "[1] \"logical\""
      ]
     },
     "metadata": {},
     "output_type": "display_data"
    }
   ],
   "source": [
    "class(l)"
   ]
  },
  {
   "cell_type": "code",
   "execution_count": 42,
   "metadata": {},
   "outputs": [
    {
     "data": {
      "text/html": [
       "<ol class=list-inline>\n",
       "\t<li>1</li>\n",
       "\t<li>10</li>\n",
       "\t<li>20</li>\n",
       "</ol>\n"
      ],
      "text/latex": [
       "\\begin{enumerate*}\n",
       "\\item 1\n",
       "\\item 10\n",
       "\\item 20\n",
       "\\end{enumerate*}\n"
      ],
      "text/markdown": [
       "1. 1\n",
       "2. 10\n",
       "3. 20\n",
       "\n",
       "\n"
      ],
      "text/plain": [
       "[1]  1 10 20"
      ]
     },
     "metadata": {},
     "output_type": "display_data"
    }
   ],
   "source": [
    "v1 <- c(TRUE, 10, 20)\n",
    "v1"
   ]
  },
  {
   "cell_type": "code",
   "execution_count": 43,
   "metadata": {},
   "outputs": [
    {
     "data": {
      "text/html": [
       "'numeric'"
      ],
      "text/latex": [
       "'numeric'"
      ],
      "text/markdown": [
       "'numeric'"
      ],
      "text/plain": [
       "[1] \"numeric\""
      ]
     },
     "metadata": {},
     "output_type": "display_data"
    }
   ],
   "source": [
    "class(v1) # logical dikonversi menjadi numeric"
   ]
  },
  {
   "cell_type": "code",
   "execution_count": 44,
   "metadata": {},
   "outputs": [
    {
     "data": {
      "text/html": [
       "<ol class=list-inline>\n",
       "\t<li>'a'</li>\n",
       "\t<li>'b'</li>\n",
       "\t<li>'20'</li>\n",
       "</ol>\n"
      ],
      "text/latex": [
       "\\begin{enumerate*}\n",
       "\\item 'a'\n",
       "\\item 'b'\n",
       "\\item '20'\n",
       "\\end{enumerate*}\n"
      ],
      "text/markdown": [
       "1. 'a'\n",
       "2. 'b'\n",
       "3. '20'\n",
       "\n",
       "\n"
      ],
      "text/plain": [
       "[1] \"a\"  \"b\"  \"20\""
      ]
     },
     "metadata": {},
     "output_type": "display_data"
    }
   ],
   "source": [
    "v2 <- c('a', 'b', 20)\n",
    "v2"
   ]
  },
  {
   "cell_type": "code",
   "execution_count": 45,
   "metadata": {},
   "outputs": [
    {
     "data": {
      "text/html": [
       "'character'"
      ],
      "text/latex": [
       "'character'"
      ],
      "text/markdown": [
       "'character'"
      ],
      "text/plain": [
       "[1] \"character\""
      ]
     },
     "metadata": {},
     "output_type": "display_data"
    }
   ],
   "source": [
    "class(v2) # numeric dikonversi menjadi character"
   ]
  },
  {
   "cell_type": "code",
   "execution_count": 46,
   "metadata": {},
   "outputs": [
    {
     "data": {
      "text/html": [
       "<ol class=list-inline>\n",
       "\t<li>'TRUE'</li>\n",
       "\t<li>'128'</li>\n",
       "\t<li>'Meteorologi'</li>\n",
       "</ol>\n"
      ],
      "text/latex": [
       "\\begin{enumerate*}\n",
       "\\item 'TRUE'\n",
       "\\item '128'\n",
       "\\item 'Meteorologi'\n",
       "\\end{enumerate*}\n"
      ],
      "text/markdown": [
       "1. 'TRUE'\n",
       "2. '128'\n",
       "3. 'Meteorologi'\n",
       "\n",
       "\n"
      ],
      "text/plain": [
       "[1] \"TRUE\"        \"128\"         \"Meteorologi\""
      ]
     },
     "metadata": {},
     "output_type": "display_data"
    }
   ],
   "source": [
    "v3 <- c(TRUE, 128, 'Meteorologi')\n",
    "v3"
   ]
  },
  {
   "cell_type": "code",
   "execution_count": 47,
   "metadata": {},
   "outputs": [
    {
     "data": {
      "text/html": [
       "'character'"
      ],
      "text/latex": [
       "'character'"
      ],
      "text/markdown": [
       "'character'"
      ],
      "text/plain": [
       "[1] \"character\""
      ]
     },
     "metadata": {},
     "output_type": "display_data"
    }
   ],
   "source": [
    "class(v3) # logical & numeric dikonversi menjadi character"
   ]
  },
  {
   "cell_type": "code",
   "execution_count": 48,
   "metadata": {},
   "outputs": [
    {
     "data": {
      "text/html": [
       "<ol class=list-inline>\n",
       "\t<li>1</li>\n",
       "\t<li>2</li>\n",
       "\t<li>3</li>\n",
       "\t<li>4</li>\n",
       "\t<li>5</li>\n",
       "\t<li>6</li>\n",
       "\t<li>7</li>\n",
       "</ol>\n"
      ],
      "text/latex": [
       "\\begin{enumerate*}\n",
       "\\item 1\n",
       "\\item 2\n",
       "\\item 3\n",
       "\\item 4\n",
       "\\item 5\n",
       "\\item 6\n",
       "\\item 7\n",
       "\\end{enumerate*}\n"
      ],
      "text/markdown": [
       "1. 1\n",
       "2. 2\n",
       "3. 3\n",
       "4. 4\n",
       "5. 5\n",
       "6. 6\n",
       "7. 7\n",
       "\n",
       "\n"
      ],
      "text/plain": [
       "[1] 1 2 3 4 5 6 7"
      ]
     },
     "metadata": {},
     "output_type": "display_data"
    }
   ],
   "source": [
    "# names : metode penamaaan vektor (metode 1) \n",
    "hari <- c(1,2,3,4,5,6,7)\n",
    "hari"
   ]
  },
  {
   "cell_type": "code",
   "execution_count": 49,
   "metadata": {},
   "outputs": [],
   "source": [
    "names(hari) <- c('sen', 'sel', 'rab', 'kam', 'jum', 'sab', 'min')"
   ]
  },
  {
   "cell_type": "code",
   "execution_count": 50,
   "metadata": {},
   "outputs": [
    {
     "data": {
      "text/html": [
       "<dl class=dl-horizontal>\n",
       "\t<dt>sen</dt>\n",
       "\t\t<dd>1</dd>\n",
       "\t<dt>sel</dt>\n",
       "\t\t<dd>2</dd>\n",
       "\t<dt>rab</dt>\n",
       "\t\t<dd>3</dd>\n",
       "\t<dt>kam</dt>\n",
       "\t\t<dd>4</dd>\n",
       "\t<dt>jum</dt>\n",
       "\t\t<dd>5</dd>\n",
       "\t<dt>sab</dt>\n",
       "\t\t<dd>6</dd>\n",
       "\t<dt>min</dt>\n",
       "\t\t<dd>7</dd>\n",
       "</dl>\n"
      ],
      "text/latex": [
       "\\begin{description*}\n",
       "\\item[sen] 1\n",
       "\\item[sel] 2\n",
       "\\item[rab] 3\n",
       "\\item[kam] 4\n",
       "\\item[jum] 5\n",
       "\\item[sab] 6\n",
       "\\item[min] 7\n",
       "\\end{description*}\n"
      ],
      "text/markdown": [
       "sen\n",
       ":   1sel\n",
       ":   2rab\n",
       ":   3kam\n",
       ":   4jum\n",
       ":   5sab\n",
       ":   6min\n",
       ":   7\n",
       "\n"
      ],
      "text/plain": [
       "sen sel rab kam jum sab min \n",
       "  1   2   3   4   5   6   7 "
      ]
     },
     "metadata": {},
     "output_type": "display_data"
    }
   ],
   "source": [
    "hari"
   ]
  },
  {
   "cell_type": "code",
   "execution_count": 51,
   "metadata": {},
   "outputs": [
    {
     "data": {
      "text/html": [
       "<dl class=dl-horizontal>\n",
       "\t<dt>sen</dt>\n",
       "\t\t<dd>1</dd>\n",
       "\t<dt>sel</dt>\n",
       "\t\t<dd>2</dd>\n",
       "\t<dt>rab</dt>\n",
       "\t\t<dd>3</dd>\n",
       "\t<dt>kam</dt>\n",
       "\t\t<dd>4</dd>\n",
       "\t<dt>jum</dt>\n",
       "\t\t<dd>5</dd>\n",
       "\t<dt>sab</dt>\n",
       "\t\t<dd>6</dd>\n",
       "\t<dt>min</dt>\n",
       "\t\t<dd>7</dd>\n",
       "</dl>\n"
      ],
      "text/latex": [
       "\\begin{description*}\n",
       "\\item[sen] 1\n",
       "\\item[sel] 2\n",
       "\\item[rab] 3\n",
       "\\item[kam] 4\n",
       "\\item[jum] 5\n",
       "\\item[sab] 6\n",
       "\\item[min] 7\n",
       "\\end{description*}\n"
      ],
      "text/markdown": [
       "sen\n",
       ":   1sel\n",
       ":   2rab\n",
       ":   3kam\n",
       ":   4jum\n",
       ":   5sab\n",
       ":   6min\n",
       ":   7\n",
       "\n"
      ],
      "text/plain": [
       "sen sel rab kam jum sab min \n",
       "  1   2   3   4   5   6   7 "
      ]
     },
     "metadata": {},
     "output_type": "display_data"
    }
   ],
   "source": [
    "# names : metode penamaaan vektor (metode 2)\n",
    "b <-  c('sen', 'sel', 'rab', 'kam', 'jum', 'sab', 'min')\n",
    "names(hari) <- b\n",
    "hari"
   ]
  },
  {
   "cell_type": "code",
   "execution_count": 52,
   "metadata": {},
   "outputs": [
    {
     "data": {
      "text/html": [
       "<strong>sen:</strong> 1"
      ],
      "text/latex": [
       "\\textbf{sen:} 1"
      ],
      "text/markdown": [
       "**sen:** 1"
      ],
      "text/plain": [
       "sen \n",
       "  1 "
      ]
     },
     "metadata": {},
     "output_type": "display_data"
    }
   ],
   "source": [
    "hari['sen']"
   ]
  },
  {
   "cell_type": "code",
   "execution_count": 53,
   "metadata": {},
   "outputs": [
    {
     "data": {
      "text/html": [
       "<strong>sen:</strong> 1"
      ],
      "text/latex": [
       "\\textbf{sen:} 1"
      ],
      "text/markdown": [
       "**sen:** 1"
      ],
      "text/plain": [
       "sen \n",
       "  1 "
      ]
     },
     "metadata": {},
     "output_type": "display_data"
    }
   ],
   "source": [
    "hari[1]"
   ]
  },
  {
   "cell_type": "markdown",
   "metadata": {},
   "source": [
    "## Operasi - operasi vektor"
   ]
  },
  {
   "cell_type": "code",
   "execution_count": 54,
   "metadata": {},
   "outputs": [],
   "source": [
    "v1 <- c(1,2,3,4,5)\n",
    "v2 <- c(6,7,8,9,10)"
   ]
  },
  {
   "cell_type": "code",
   "execution_count": 55,
   "metadata": {},
   "outputs": [
    {
     "data": {
      "text/html": [
       "<ol class=list-inline>\n",
       "\t<li>7</li>\n",
       "\t<li>9</li>\n",
       "\t<li>11</li>\n",
       "\t<li>13</li>\n",
       "\t<li>15</li>\n",
       "</ol>\n"
      ],
      "text/latex": [
       "\\begin{enumerate*}\n",
       "\\item 7\n",
       "\\item 9\n",
       "\\item 11\n",
       "\\item 13\n",
       "\\item 15\n",
       "\\end{enumerate*}\n"
      ],
      "text/markdown": [
       "1. 7\n",
       "2. 9\n",
       "3. 11\n",
       "4. 13\n",
       "5. 15\n",
       "\n",
       "\n"
      ],
      "text/plain": [
       "[1]  7  9 11 13 15"
      ]
     },
     "metadata": {},
     "output_type": "display_data"
    }
   ],
   "source": [
    "v1 + v2 # element-by-element"
   ]
  },
  {
   "cell_type": "code",
   "execution_count": 56,
   "metadata": {},
   "outputs": [
    {
     "data": {
      "text/html": [
       "<ol class=list-inline>\n",
       "\t<li>-5</li>\n",
       "\t<li>-5</li>\n",
       "\t<li>-5</li>\n",
       "\t<li>-5</li>\n",
       "\t<li>-5</li>\n",
       "</ol>\n"
      ],
      "text/latex": [
       "\\begin{enumerate*}\n",
       "\\item -5\n",
       "\\item -5\n",
       "\\item -5\n",
       "\\item -5\n",
       "\\item -5\n",
       "\\end{enumerate*}\n"
      ],
      "text/markdown": [
       "1. -5\n",
       "2. -5\n",
       "3. -5\n",
       "4. -5\n",
       "5. -5\n",
       "\n",
       "\n"
      ],
      "text/plain": [
       "[1] -5 -5 -5 -5 -5"
      ]
     },
     "metadata": {},
     "output_type": "display_data"
    }
   ],
   "source": [
    "v1 - v2"
   ]
  },
  {
   "cell_type": "code",
   "execution_count": 57,
   "metadata": {},
   "outputs": [
    {
     "data": {
      "text/html": [
       "<ol class=list-inline>\n",
       "\t<li>6</li>\n",
       "\t<li>14</li>\n",
       "\t<li>24</li>\n",
       "\t<li>36</li>\n",
       "\t<li>50</li>\n",
       "</ol>\n"
      ],
      "text/latex": [
       "\\begin{enumerate*}\n",
       "\\item 6\n",
       "\\item 14\n",
       "\\item 24\n",
       "\\item 36\n",
       "\\item 50\n",
       "\\end{enumerate*}\n"
      ],
      "text/markdown": [
       "1. 6\n",
       "2. 14\n",
       "3. 24\n",
       "4. 36\n",
       "5. 50\n",
       "\n",
       "\n"
      ],
      "text/plain": [
       "[1]  6 14 24 36 50"
      ]
     },
     "metadata": {},
     "output_type": "display_data"
    }
   ],
   "source": [
    "v1 * v2"
   ]
  },
  {
   "cell_type": "code",
   "execution_count": 58,
   "metadata": {},
   "outputs": [
    {
     "data": {
      "text/html": [
       "<ol class=list-inline>\n",
       "\t<li>1</li>\n",
       "\t<li>1</li>\n",
       "\t<li>1</li>\n",
       "\t<li>1</li>\n",
       "\t<li>1</li>\n",
       "</ol>\n"
      ],
      "text/latex": [
       "\\begin{enumerate*}\n",
       "\\item 1\n",
       "\\item 1\n",
       "\\item 1\n",
       "\\item 1\n",
       "\\item 1\n",
       "\\end{enumerate*}\n"
      ],
      "text/markdown": [
       "1. 1\n",
       "2. 1\n",
       "3. 1\n",
       "4. 1\n",
       "5. 1\n",
       "\n",
       "\n"
      ],
      "text/plain": [
       "[1] 1 1 1 1 1"
      ]
     },
     "metadata": {},
     "output_type": "display_data"
    }
   ],
   "source": [
    "v2 / v2"
   ]
  },
  {
   "cell_type": "code",
   "execution_count": 59,
   "metadata": {},
   "outputs": [
    {
     "data": {
      "text/html": [
       "15"
      ],
      "text/latex": [
       "15"
      ],
      "text/markdown": [
       "15"
      ],
      "text/plain": [
       "[1] 15"
      ]
     },
     "metadata": {},
     "output_type": "display_data"
    }
   ],
   "source": [
    "sum(v1) # jumlah seluruh v1"
   ]
  },
  {
   "cell_type": "code",
   "execution_count": 60,
   "metadata": {},
   "outputs": [
    {
     "data": {
      "text/html": [
       "3"
      ],
      "text/latex": [
       "3"
      ],
      "text/markdown": [
       "3"
      ],
      "text/plain": [
       "[1] 3"
      ]
     },
     "metadata": {},
     "output_type": "display_data"
    }
   ],
   "source": [
    "mean(v1) # rata2 v1"
   ]
  },
  {
   "cell_type": "code",
   "execution_count": 61,
   "metadata": {},
   "outputs": [
    {
     "data": {
      "text/html": [
       "1.58113883008419"
      ],
      "text/latex": [
       "1.58113883008419"
      ],
      "text/markdown": [
       "1.58113883008419"
      ],
      "text/plain": [
       "[1] 1.581139"
      ]
     },
     "metadata": {},
     "output_type": "display_data"
    }
   ],
   "source": [
    "sd(v1) # std v1"
   ]
  },
  {
   "cell_type": "code",
   "execution_count": 62,
   "metadata": {},
   "outputs": [
    {
     "data": {
      "text/html": [
       "10"
      ],
      "text/latex": [
       "10"
      ],
      "text/markdown": [
       "10"
      ],
      "text/plain": [
       "[1] 10"
      ]
     },
     "metadata": {},
     "output_type": "display_data"
    }
   ],
   "source": [
    "max(v2)"
   ]
  },
  {
   "cell_type": "code",
   "execution_count": 63,
   "metadata": {},
   "outputs": [
    {
     "data": {
      "text/html": [
       "6"
      ],
      "text/latex": [
       "6"
      ],
      "text/markdown": [
       "6"
      ],
      "text/plain": [
       "[1] 6"
      ]
     },
     "metadata": {},
     "output_type": "display_data"
    }
   ],
   "source": [
    "min(v2)"
   ]
  },
  {
   "cell_type": "code",
   "execution_count": 64,
   "metadata": {},
   "outputs": [
    {
     "data": {
      "text/html": [
       "120"
      ],
      "text/latex": [
       "120"
      ],
      "text/markdown": [
       "120"
      ],
      "text/plain": [
       "[1] 120"
      ]
     },
     "metadata": {},
     "output_type": "display_data"
    }
   ],
   "source": [
    "prod(v1) # mengalikan seluruh elemen di vektor "
   ]
  },
  {
   "cell_type": "code",
   "execution_count": 65,
   "metadata": {},
   "outputs": [
    {
     "data": {
      "text/html": [
       "30240"
      ],
      "text/latex": [
       "30240"
      ],
      "text/markdown": [
       "30240"
      ],
      "text/plain": [
       "[1] 30240"
      ]
     },
     "metadata": {},
     "output_type": "display_data"
    }
   ],
   "source": [
    "prod(v2)"
   ]
  },
  {
   "cell_type": "code",
   "execution_count": 66,
   "metadata": {},
   "outputs": [
    {
     "name": "stdout",
     "output_type": "stream",
     "text": [
      "[1] 15\n"
     ]
    }
   ],
   "source": [
    "b <- sum(v1)\n",
    "print(b)"
   ]
  },
  {
   "cell_type": "markdown",
   "metadata": {},
   "source": [
    "## Operator - operator perbandingan"
   ]
  },
  {
   "cell_type": "code",
   "execution_count": 67,
   "metadata": {},
   "outputs": [
    {
     "data": {
      "text/html": [
       "FALSE"
      ],
      "text/latex": [
       "FALSE"
      ],
      "text/markdown": [
       "FALSE"
      ],
      "text/plain": [
       "[1] FALSE"
      ]
     },
     "metadata": {},
     "output_type": "display_data"
    }
   ],
   "source": [
    "4 > 5"
   ]
  },
  {
   "cell_type": "code",
   "execution_count": 68,
   "metadata": {},
   "outputs": [
    {
     "data": {
      "text/html": [
       "TRUE"
      ],
      "text/latex": [
       "TRUE"
      ],
      "text/markdown": [
       "TRUE"
      ],
      "text/plain": [
       "[1] TRUE"
      ]
     },
     "metadata": {},
     "output_type": "display_data"
    }
   ],
   "source": [
    "7 > 4"
   ]
  },
  {
   "cell_type": "code",
   "execution_count": 69,
   "metadata": {},
   "outputs": [
    {
     "data": {
      "text/html": [
       "TRUE"
      ],
      "text/latex": [
       "TRUE"
      ],
      "text/markdown": [
       "TRUE"
      ],
      "text/plain": [
       "[1] TRUE"
      ]
     },
     "metadata": {},
     "output_type": "display_data"
    }
   ],
   "source": [
    "10 >= 5"
   ]
  },
  {
   "cell_type": "code",
   "execution_count": 70,
   "metadata": {},
   "outputs": [
    {
     "data": {
      "text/html": [
       "FALSE"
      ],
      "text/latex": [
       "FALSE"
      ],
      "text/markdown": [
       "FALSE"
      ],
      "text/plain": [
       "[1] FALSE"
      ]
     },
     "metadata": {},
     "output_type": "display_data"
    }
   ],
   "source": [
    "7 <= 5"
   ]
  },
  {
   "cell_type": "code",
   "execution_count": 71,
   "metadata": {},
   "outputs": [
    {
     "data": {
      "text/html": [
       "TRUE"
      ],
      "text/latex": [
       "TRUE"
      ],
      "text/markdown": [
       "TRUE"
      ],
      "text/plain": [
       "[1] TRUE"
      ]
     },
     "metadata": {},
     "output_type": "display_data"
    }
   ],
   "source": [
    "8 == 8"
   ]
  },
  {
   "cell_type": "code",
   "execution_count": 72,
   "metadata": {},
   "outputs": [
    {
     "data": {
      "text/html": [
       "TRUE"
      ],
      "text/latex": [
       "TRUE"
      ],
      "text/markdown": [
       "TRUE"
      ],
      "text/plain": [
       "[1] TRUE"
      ]
     },
     "metadata": {},
     "output_type": "display_data"
    }
   ],
   "source": [
    "7 != 15"
   ]
  },
  {
   "cell_type": "code",
   "execution_count": 73,
   "metadata": {},
   "outputs": [
    {
     "data": {
      "text/html": [
       "FALSE"
      ],
      "text/latex": [
       "FALSE"
      ],
      "text/markdown": [
       "FALSE"
      ],
      "text/plain": [
       "[1] FALSE"
      ]
     },
     "metadata": {},
     "output_type": "display_data"
    }
   ],
   "source": [
    "7 != 7"
   ]
  },
  {
   "cell_type": "code",
   "execution_count": 74,
   "metadata": {},
   "outputs": [
    {
     "data": {
      "text/html": [
       "<ol class=list-inline>\n",
       "\t<li>TRUE</li>\n",
       "\t<li>FALSE</li>\n",
       "\t<li>FALSE</li>\n",
       "\t<li>FALSE</li>\n",
       "\t<li>FALSE</li>\n",
       "</ol>\n"
      ],
      "text/latex": [
       "\\begin{enumerate*}\n",
       "\\item TRUE\n",
       "\\item FALSE\n",
       "\\item FALSE\n",
       "\\item FALSE\n",
       "\\item FALSE\n",
       "\\end{enumerate*}\n"
      ],
      "text/markdown": [
       "1. TRUE\n",
       "2. FALSE\n",
       "3. FALSE\n",
       "4. FALSE\n",
       "5. FALSE\n",
       "\n",
       "\n"
      ],
      "text/plain": [
       "[1]  TRUE FALSE FALSE FALSE FALSE"
      ]
     },
     "metadata": {},
     "output_type": "display_data"
    }
   ],
   "source": [
    "# Operator perbandingan pada vektor\n",
    "v <- c(1,2,3,4,5)\n",
    "v < 2"
   ]
  },
  {
   "cell_type": "code",
   "execution_count": 75,
   "metadata": {},
   "outputs": [
    {
     "data": {
      "text/html": [
       "<ol class=list-inline>\n",
       "\t<li>FALSE</li>\n",
       "\t<li>FALSE</li>\n",
       "\t<li>TRUE</li>\n",
       "\t<li>FALSE</li>\n",
       "\t<li>FALSE</li>\n",
       "</ol>\n"
      ],
      "text/latex": [
       "\\begin{enumerate*}\n",
       "\\item FALSE\n",
       "\\item FALSE\n",
       "\\item TRUE\n",
       "\\item FALSE\n",
       "\\item FALSE\n",
       "\\end{enumerate*}\n"
      ],
      "text/markdown": [
       "1. FALSE\n",
       "2. FALSE\n",
       "3. TRUE\n",
       "4. FALSE\n",
       "5. FALSE\n",
       "\n",
       "\n"
      ],
      "text/plain": [
       "[1] FALSE FALSE  TRUE FALSE FALSE"
      ]
     },
     "metadata": {},
     "output_type": "display_data"
    }
   ],
   "source": [
    "v == 3"
   ]
  },
  {
   "cell_type": "code",
   "execution_count": 76,
   "metadata": {},
   "outputs": [
    {
     "data": {
      "text/html": [
       "<ol class=list-inline>\n",
       "\t<li>10</li>\n",
       "\t<li>20</li>\n",
       "\t<li>30</li>\n",
       "\t<li>40</li>\n",
       "\t<li>50</li>\n",
       "</ol>\n"
      ],
      "text/latex": [
       "\\begin{enumerate*}\n",
       "\\item 10\n",
       "\\item 20\n",
       "\\item 30\n",
       "\\item 40\n",
       "\\item 50\n",
       "\\end{enumerate*}\n"
      ],
      "text/markdown": [
       "1. 10\n",
       "2. 20\n",
       "3. 30\n",
       "4. 40\n",
       "5. 50\n",
       "\n",
       "\n"
      ],
      "text/plain": [
       "[1] 10 20 30 40 50"
      ]
     },
     "metadata": {},
     "output_type": "display_data"
    }
   ],
   "source": [
    "v2 <- c(10,20,30,40,50)\n",
    "v2"
   ]
  },
  {
   "cell_type": "code",
   "execution_count": 77,
   "metadata": {},
   "outputs": [
    {
     "data": {
      "text/html": [
       "<ol class=list-inline>\n",
       "\t<li>TRUE</li>\n",
       "\t<li>TRUE</li>\n",
       "\t<li>TRUE</li>\n",
       "\t<li>TRUE</li>\n",
       "\t<li>TRUE</li>\n",
       "</ol>\n"
      ],
      "text/latex": [
       "\\begin{enumerate*}\n",
       "\\item TRUE\n",
       "\\item TRUE\n",
       "\\item TRUE\n",
       "\\item TRUE\n",
       "\\item TRUE\n",
       "\\end{enumerate*}\n"
      ],
      "text/markdown": [
       "1. TRUE\n",
       "2. TRUE\n",
       "3. TRUE\n",
       "4. TRUE\n",
       "5. TRUE\n",
       "\n",
       "\n"
      ],
      "text/plain": [
       "[1] TRUE TRUE TRUE TRUE TRUE"
      ]
     },
     "metadata": {},
     "output_type": "display_data"
    }
   ],
   "source": [
    "v < v2"
   ]
  },
  {
   "cell_type": "markdown",
   "metadata": {},
   "source": [
    "## Pengindeksan dan pemotongan vektor"
   ]
  },
  {
   "cell_type": "code",
   "execution_count": 78,
   "metadata": {},
   "outputs": [],
   "source": [
    "v1 <- c(10,20,30,40,50)\n",
    "v2 <- c('a', 'b', 'c', 'd', 'e')"
   ]
  },
  {
   "cell_type": "code",
   "execution_count": 79,
   "metadata": {},
   "outputs": [
    {
     "data": {
      "text/html": [
       "20"
      ],
      "text/latex": [
       "20"
      ],
      "text/markdown": [
       "20"
      ],
      "text/plain": [
       "[1] 20"
      ]
     },
     "metadata": {},
     "output_type": "display_data"
    }
   ],
   "source": [
    "v1[2] # pengindeksan dimulai dari 1"
   ]
  },
  {
   "cell_type": "code",
   "execution_count": 80,
   "metadata": {},
   "outputs": [
    {
     "data": {
      "text/html": [
       "50"
      ],
      "text/latex": [
       "50"
      ],
      "text/markdown": [
       "50"
      ],
      "text/plain": [
       "[1] 50"
      ]
     },
     "metadata": {},
     "output_type": "display_data"
    }
   ],
   "source": [
    "v1[5]"
   ]
  },
  {
   "cell_type": "code",
   "execution_count": 81,
   "metadata": {},
   "outputs": [
    {
     "data": {
      "text/html": [
       "<ol class=list-inline>\n",
       "\t<li>'c'</li>\n",
       "\t<li>'d'</li>\n",
       "\t<li>'e'</li>\n",
       "</ol>\n"
      ],
      "text/latex": [
       "\\begin{enumerate*}\n",
       "\\item 'c'\n",
       "\\item 'd'\n",
       "\\item 'e'\n",
       "\\end{enumerate*}\n"
      ],
      "text/markdown": [
       "1. 'c'\n",
       "2. 'd'\n",
       "3. 'e'\n",
       "\n",
       "\n"
      ],
      "text/plain": [
       "[1] \"c\" \"d\" \"e\""
      ]
     },
     "metadata": {},
     "output_type": "display_data"
    }
   ],
   "source": [
    "v2[c(3,4,5)]"
   ]
  },
  {
   "cell_type": "code",
   "execution_count": 82,
   "metadata": {},
   "outputs": [
    {
     "data": {
      "text/html": [
       "<ol class=list-inline>\n",
       "\t<li>7</li>\n",
       "\t<li>8</li>\n",
       "\t<li>9</li>\n",
       "\t<li>10</li>\n",
       "</ol>\n"
      ],
      "text/latex": [
       "\\begin{enumerate*}\n",
       "\\item 7\n",
       "\\item 8\n",
       "\\item 9\n",
       "\\item 10\n",
       "\\end{enumerate*}\n"
      ],
      "text/markdown": [
       "1. 7\n",
       "2. 8\n",
       "3. 9\n",
       "4. 10\n",
       "\n",
       "\n"
      ],
      "text/plain": [
       "[1]  7  8  9 10"
      ]
     },
     "metadata": {},
     "output_type": "display_data"
    }
   ],
   "source": [
    "v3 <- c(1,2,3,4,5,6,7,8,9,10)\n",
    "v3[7:10]"
   ]
  },
  {
   "cell_type": "code",
   "execution_count": 83,
   "metadata": {},
   "outputs": [
    {
     "data": {
      "text/html": [
       "<ol class=list-inline>\n",
       "\t<li>3</li>\n",
       "\t<li>4</li>\n",
       "\t<li>5</li>\n",
       "</ol>\n"
      ],
      "text/latex": [
       "\\begin{enumerate*}\n",
       "\\item 3\n",
       "\\item 4\n",
       "\\item 5\n",
       "\\end{enumerate*}\n"
      ],
      "text/markdown": [
       "1. 3\n",
       "2. 4\n",
       "3. 5\n",
       "\n",
       "\n"
      ],
      "text/plain": [
       "[1] 3 4 5"
      ]
     },
     "metadata": {},
     "output_type": "display_data"
    }
   ],
   "source": [
    "v3[3:5]"
   ]
  },
  {
   "cell_type": "code",
   "execution_count": 84,
   "metadata": {},
   "outputs": [
    {
     "data": {
      "text/html": [
       "<dl class=dl-horizontal>\n",
       "\t<dt>I</dt>\n",
       "\t\t<dd>1</dd>\n",
       "\t<dt>G</dt>\n",
       "\t\t<dd>2</dd>\n",
       "\t<dt>D</dt>\n",
       "\t\t<dd>3</dd>\n",
       "\t<dt>O</dt>\n",
       "\t\t<dd>4</dd>\n",
       "\t<dt>R</dt>\n",
       "\t\t<dd>5</dd>\n",
       "\t<dt>E</dt>\n",
       "\t\t<dd>6</dd>\n",
       "</dl>\n"
      ],
      "text/latex": [
       "\\begin{description*}\n",
       "\\item[I] 1\n",
       "\\item[G] 2\n",
       "\\item[D] 3\n",
       "\\item[O] 4\n",
       "\\item[R] 5\n",
       "\\item[E] 6\n",
       "\\end{description*}\n"
      ],
      "text/markdown": [
       "I\n",
       ":   1G\n",
       ":   2D\n",
       ":   3O\n",
       ":   4R\n",
       ":   5E\n",
       ":   6\n",
       "\n"
      ],
      "text/plain": [
       "I G D O R E \n",
       "1 2 3 4 5 6 "
      ]
     },
     "metadata": {},
     "output_type": "display_data"
    }
   ],
   "source": [
    "b <- c(1,2,3,4,5,6)\n",
    "names(b) <- c('I', 'G', 'D', 'O', 'R', 'E')\n",
    "b"
   ]
  },
  {
   "cell_type": "code",
   "execution_count": 85,
   "metadata": {},
   "outputs": [
    {
     "data": {
      "text/html": [
       "<strong>G:</strong> 2"
      ],
      "text/latex": [
       "\\textbf{G:} 2"
      ],
      "text/markdown": [
       "**G:** 2"
      ],
      "text/plain": [
       "G \n",
       "2 "
      ]
     },
     "metadata": {},
     "output_type": "display_data"
    }
   ],
   "source": [
    "b[2]"
   ]
  },
  {
   "cell_type": "code",
   "execution_count": 86,
   "metadata": {},
   "outputs": [
    {
     "data": {
      "text/html": [
       "<strong>G:</strong> 2"
      ],
      "text/latex": [
       "\\textbf{G:} 2"
      ],
      "text/markdown": [
       "**G:** 2"
      ],
      "text/plain": [
       "G \n",
       "2 "
      ]
     },
     "metadata": {},
     "output_type": "display_data"
    }
   ],
   "source": [
    "b['G']"
   ]
  },
  {
   "cell_type": "code",
   "execution_count": 87,
   "metadata": {},
   "outputs": [
    {
     "data": {
      "text/html": [
       "<dl class=dl-horizontal>\n",
       "\t<dt>G</dt>\n",
       "\t\t<dd>2</dd>\n",
       "\t<dt>D</dt>\n",
       "\t\t<dd>3</dd>\n",
       "</dl>\n"
      ],
      "text/latex": [
       "\\begin{description*}\n",
       "\\item[G] 2\n",
       "\\item[D] 3\n",
       "\\end{description*}\n"
      ],
      "text/markdown": [
       "G\n",
       ":   2D\n",
       ":   3\n",
       "\n"
      ],
      "text/plain": [
       "G D \n",
       "2 3 "
      ]
     },
     "metadata": {},
     "output_type": "display_data"
    }
   ],
   "source": [
    "b[c(2,3)]"
   ]
  },
  {
   "cell_type": "code",
   "execution_count": 88,
   "metadata": {},
   "outputs": [
    {
     "data": {
      "text/html": [
       "<dl class=dl-horizontal>\n",
       "\t<dt>G</dt>\n",
       "\t\t<dd>2</dd>\n",
       "\t<dt>D</dt>\n",
       "\t\t<dd>3</dd>\n",
       "</dl>\n"
      ],
      "text/latex": [
       "\\begin{description*}\n",
       "\\item[G] 2\n",
       "\\item[D] 3\n",
       "\\end{description*}\n"
      ],
      "text/markdown": [
       "G\n",
       ":   2D\n",
       ":   3\n",
       "\n"
      ],
      "text/plain": [
       "G D \n",
       "2 3 "
      ]
     },
     "metadata": {},
     "output_type": "display_data"
    }
   ],
   "source": [
    "b[c('G', 'D')]"
   ]
  },
  {
   "cell_type": "code",
   "execution_count": 89,
   "metadata": {},
   "outputs": [
    {
     "data": {
      "text/html": [
       "<dl class=dl-horizontal>\n",
       "\t<dt>I</dt>\n",
       "\t\t<dd>1</dd>\n",
       "\t<dt>G</dt>\n",
       "\t\t<dd>2</dd>\n",
       "\t<dt>D</dt>\n",
       "\t\t<dd>3</dd>\n",
       "\t<dt>O</dt>\n",
       "\t\t<dd>4</dd>\n",
       "\t<dt>R</dt>\n",
       "\t\t<dd>5</dd>\n",
       "\t<dt>E</dt>\n",
       "\t\t<dd>6</dd>\n",
       "</dl>\n"
      ],
      "text/latex": [
       "\\begin{description*}\n",
       "\\item[I] 1\n",
       "\\item[G] 2\n",
       "\\item[D] 3\n",
       "\\item[O] 4\n",
       "\\item[R] 5\n",
       "\\item[E] 6\n",
       "\\end{description*}\n"
      ],
      "text/markdown": [
       "I\n",
       ":   1G\n",
       ":   2D\n",
       ":   3O\n",
       ":   4R\n",
       ":   5E\n",
       ":   6\n",
       "\n"
      ],
      "text/plain": [
       "I G D O R E \n",
       "1 2 3 4 5 6 "
      ]
     },
     "metadata": {},
     "output_type": "display_data"
    }
   ],
   "source": [
    "# Operator perbandingan\n",
    "b"
   ]
  },
  {
   "cell_type": "code",
   "execution_count": 90,
   "metadata": {},
   "outputs": [
    {
     "data": {
      "text/html": [
       "<dl class=dl-horizontal>\n",
       "\t<dt>O</dt>\n",
       "\t\t<dd>4</dd>\n",
       "\t<dt>R</dt>\n",
       "\t\t<dd>5</dd>\n",
       "\t<dt>E</dt>\n",
       "\t\t<dd>6</dd>\n",
       "</dl>\n"
      ],
      "text/latex": [
       "\\begin{description*}\n",
       "\\item[O] 4\n",
       "\\item[R] 5\n",
       "\\item[E] 6\n",
       "\\end{description*}\n"
      ],
      "text/markdown": [
       "O\n",
       ":   4R\n",
       ":   5E\n",
       ":   6\n",
       "\n"
      ],
      "text/plain": [
       "O R E \n",
       "4 5 6 "
      ]
     },
     "metadata": {},
     "output_type": "display_data"
    }
   ],
   "source": [
    "b[b>3]"
   ]
  },
  {
   "cell_type": "code",
   "execution_count": 91,
   "metadata": {},
   "outputs": [],
   "source": [
    "e <-  b > 3"
   ]
  },
  {
   "cell_type": "code",
   "execution_count": 92,
   "metadata": {},
   "outputs": [
    {
     "data": {
      "text/html": [
       "<dl class=dl-horizontal>\n",
       "\t<dt>O</dt>\n",
       "\t\t<dd>4</dd>\n",
       "\t<dt>R</dt>\n",
       "\t\t<dd>5</dd>\n",
       "\t<dt>E</dt>\n",
       "\t\t<dd>6</dd>\n",
       "</dl>\n"
      ],
      "text/latex": [
       "\\begin{description*}\n",
       "\\item[O] 4\n",
       "\\item[R] 5\n",
       "\\item[E] 6\n",
       "\\end{description*}\n"
      ],
      "text/markdown": [
       "O\n",
       ":   4R\n",
       ":   5E\n",
       ":   6\n",
       "\n"
      ],
      "text/plain": [
       "O R E \n",
       "4 5 6 "
      ]
     },
     "metadata": {},
     "output_type": "display_data"
    }
   ],
   "source": [
    "b[e]"
   ]
  },
  {
   "cell_type": "markdown",
   "metadata": {},
   "source": [
    "# Matriks"
   ]
  },
  {
   "cell_type": "markdown",
   "metadata": {},
   "source": [
    "## Mendefinisikan matriks"
   ]
  },
  {
   "cell_type": "code",
   "execution_count": 93,
   "metadata": {},
   "outputs": [
    {
     "data": {
      "text/html": [
       "<ol class=list-inline>\n",
       "\t<li>1</li>\n",
       "\t<li>2</li>\n",
       "\t<li>3</li>\n",
       "\t<li>4</li>\n",
       "\t<li>5</li>\n",
       "\t<li>6</li>\n",
       "\t<li>7</li>\n",
       "\t<li>8</li>\n",
       "\t<li>9</li>\n",
       "\t<li>10</li>\n",
       "</ol>\n"
      ],
      "text/latex": [
       "\\begin{enumerate*}\n",
       "\\item 1\n",
       "\\item 2\n",
       "\\item 3\n",
       "\\item 4\n",
       "\\item 5\n",
       "\\item 6\n",
       "\\item 7\n",
       "\\item 8\n",
       "\\item 9\n",
       "\\item 10\n",
       "\\end{enumerate*}\n"
      ],
      "text/markdown": [
       "1. 1\n",
       "2. 2\n",
       "3. 3\n",
       "4. 4\n",
       "5. 5\n",
       "6. 6\n",
       "7. 7\n",
       "8. 8\n",
       "9. 9\n",
       "10. 10\n",
       "\n",
       "\n"
      ],
      "text/plain": [
       " [1]  1  2  3  4  5  6  7  8  9 10"
      ]
     },
     "metadata": {},
     "output_type": "display_data"
    }
   ],
   "source": [
    "b <- 1:10\n",
    "b"
   ]
  },
  {
   "cell_type": "code",
   "execution_count": 94,
   "metadata": {},
   "outputs": [
    {
     "data": {
      "text/html": [
       "<table>\n",
       "<tbody>\n",
       "\t<tr><td> 1</td></tr>\n",
       "\t<tr><td> 2</td></tr>\n",
       "\t<tr><td> 3</td></tr>\n",
       "\t<tr><td> 4</td></tr>\n",
       "\t<tr><td> 5</td></tr>\n",
       "\t<tr><td> 6</td></tr>\n",
       "\t<tr><td> 7</td></tr>\n",
       "\t<tr><td> 8</td></tr>\n",
       "\t<tr><td> 9</td></tr>\n",
       "\t<tr><td>10</td></tr>\n",
       "</tbody>\n",
       "</table>\n"
      ],
      "text/latex": [
       "\\begin{tabular}{l}\n",
       "\t  1\\\\\n",
       "\t  2\\\\\n",
       "\t  3\\\\\n",
       "\t  4\\\\\n",
       "\t  5\\\\\n",
       "\t  6\\\\\n",
       "\t  7\\\\\n",
       "\t  8\\\\\n",
       "\t  9\\\\\n",
       "\t 10\\\\\n",
       "\\end{tabular}\n"
      ],
      "text/markdown": [
       "\n",
       "|  1 |\n",
       "|  2 |\n",
       "|  3 |\n",
       "|  4 |\n",
       "|  5 |\n",
       "|  6 |\n",
       "|  7 |\n",
       "|  8 |\n",
       "|  9 |\n",
       "| 10 |\n",
       "\n"
      ],
      "text/plain": [
       "      [,1]\n",
       " [1,]  1  \n",
       " [2,]  2  \n",
       " [3,]  3  \n",
       " [4,]  4  \n",
       " [5,]  5  \n",
       " [6,]  6  \n",
       " [7,]  7  \n",
       " [8,]  8  \n",
       " [9,]  9  \n",
       "[10,] 10  "
      ]
     },
     "metadata": {},
     "output_type": "display_data"
    }
   ],
   "source": [
    "matrix(b) # 10 x 1"
   ]
  },
  {
   "cell_type": "code",
   "execution_count": 95,
   "metadata": {},
   "outputs": [
    {
     "data": {
      "text/html": [
       "<table>\n",
       "<tbody>\n",
       "\t<tr><td>1 </td><td>3 </td><td>5 </td><td>7 </td><td> 9</td></tr>\n",
       "\t<tr><td>2 </td><td>4 </td><td>6 </td><td>8 </td><td>10</td></tr>\n",
       "</tbody>\n",
       "</table>\n"
      ],
      "text/latex": [
       "\\begin{tabular}{lllll}\n",
       "\t 1  & 3  & 5  & 7  &  9\\\\\n",
       "\t 2  & 4  & 6  & 8  & 10\\\\\n",
       "\\end{tabular}\n"
      ],
      "text/markdown": [
       "\n",
       "| 1  | 3  | 5  | 7  |  9 |\n",
       "| 2  | 4  | 6  | 8  | 10 |\n",
       "\n"
      ],
      "text/plain": [
       "     [,1] [,2] [,3] [,4] [,5]\n",
       "[1,] 1    3    5    7     9  \n",
       "[2,] 2    4    6    8    10  "
      ]
     },
     "metadata": {},
     "output_type": "display_data"
    }
   ],
   "source": [
    "matrix(b, nrow=2, ncol= 5) # by column"
   ]
  },
  {
   "cell_type": "code",
   "execution_count": 96,
   "metadata": {},
   "outputs": [
    {
     "data": {
      "text/html": [
       "<table>\n",
       "<tbody>\n",
       "\t<tr><td>1 </td><td>2 </td><td>3 </td><td>4 </td><td> 5</td></tr>\n",
       "\t<tr><td>6 </td><td>7 </td><td>8 </td><td>9 </td><td>10</td></tr>\n",
       "</tbody>\n",
       "</table>\n"
      ],
      "text/latex": [
       "\\begin{tabular}{lllll}\n",
       "\t 1  & 2  & 3  & 4  &  5\\\\\n",
       "\t 6  & 7  & 8  & 9  & 10\\\\\n",
       "\\end{tabular}\n"
      ],
      "text/markdown": [
       "\n",
       "| 1  | 2  | 3  | 4  |  5 |\n",
       "| 6  | 7  | 8  | 9  | 10 |\n",
       "\n"
      ],
      "text/plain": [
       "     [,1] [,2] [,3] [,4] [,5]\n",
       "[1,] 1    2    3    4     5  \n",
       "[2,] 6    7    8    9    10  "
      ]
     },
     "metadata": {},
     "output_type": "display_data"
    }
   ],
   "source": [
    "matrix(b, nrow=2, ncol= 5, byrow = T) # by row"
   ]
  },
  {
   "cell_type": "code",
   "execution_count": 97,
   "metadata": {},
   "outputs": [
    {
     "data": {
      "text/html": [
       "<table>\n",
       "<tbody>\n",
       "\t<tr><td> 1</td><td> 2</td><td> 3</td></tr>\n",
       "\t<tr><td> 4</td><td> 5</td><td> 6</td></tr>\n",
       "\t<tr><td> 7</td><td> 8</td><td> 9</td></tr>\n",
       "\t<tr><td>10</td><td>11</td><td>12</td></tr>\n",
       "</tbody>\n",
       "</table>\n"
      ],
      "text/latex": [
       "\\begin{tabular}{lll}\n",
       "\t  1 &  2 &  3\\\\\n",
       "\t  4 &  5 &  6\\\\\n",
       "\t  7 &  8 &  9\\\\\n",
       "\t 10 & 11 & 12\\\\\n",
       "\\end{tabular}\n"
      ],
      "text/markdown": [
       "\n",
       "|  1 |  2 |  3 |\n",
       "|  4 |  5 |  6 |\n",
       "|  7 |  8 |  9 |\n",
       "| 10 | 11 | 12 |\n",
       "\n"
      ],
      "text/plain": [
       "     [,1] [,2] [,3]\n",
       "[1,]  1    2    3  \n",
       "[2,]  4    5    6  \n",
       "[3,]  7    8    9  \n",
       "[4,] 10   11   12  "
      ]
     },
     "metadata": {},
     "output_type": "display_data"
    }
   ],
   "source": [
    "matrix(1:12, nrow = 4, byrow=TRUE) # 4 x 3 by row"
   ]
  },
  {
   "cell_type": "code",
   "execution_count": 98,
   "metadata": {},
   "outputs": [],
   "source": [
    "# Mendefinisikan matriks dari vektor\n",
    "fb <- c(250,255,260,263,265) # bayangkan sebagai harga saham\n",
    "ms <- c(455,460,465,479, 470)"
   ]
  },
  {
   "cell_type": "code",
   "execution_count": 99,
   "metadata": {},
   "outputs": [
    {
     "data": {
      "text/html": [
       "<ol class=list-inline>\n",
       "\t<li>250</li>\n",
       "\t<li>255</li>\n",
       "\t<li>260</li>\n",
       "\t<li>263</li>\n",
       "\t<li>265</li>\n",
       "\t<li>455</li>\n",
       "\t<li>460</li>\n",
       "\t<li>465</li>\n",
       "\t<li>479</li>\n",
       "\t<li>470</li>\n",
       "</ol>\n"
      ],
      "text/latex": [
       "\\begin{enumerate*}\n",
       "\\item 250\n",
       "\\item 255\n",
       "\\item 260\n",
       "\\item 263\n",
       "\\item 265\n",
       "\\item 455\n",
       "\\item 460\n",
       "\\item 465\n",
       "\\item 479\n",
       "\\item 470\n",
       "\\end{enumerate*}\n"
      ],
      "text/markdown": [
       "1. 250\n",
       "2. 255\n",
       "3. 260\n",
       "4. 263\n",
       "5. 265\n",
       "6. 455\n",
       "7. 460\n",
       "8. 465\n",
       "9. 479\n",
       "10. 470\n",
       "\n",
       "\n"
      ],
      "text/plain": [
       " [1] 250 255 260 263 265 455 460 465 479 470"
      ]
     },
     "metadata": {},
     "output_type": "display_data"
    }
   ],
   "source": [
    "saham <- c(fb, ms)\n",
    "saham"
   ]
  },
  {
   "cell_type": "code",
   "execution_count": 100,
   "metadata": {},
   "outputs": [
    {
     "data": {
      "text/html": [
       "<table>\n",
       "<tbody>\n",
       "\t<tr><td>250</td><td>255</td><td>260</td><td>263</td><td>265</td></tr>\n",
       "\t<tr><td>455</td><td>460</td><td>465</td><td>479</td><td>470</td></tr>\n",
       "</tbody>\n",
       "</table>\n"
      ],
      "text/latex": [
       "\\begin{tabular}{lllll}\n",
       "\t 250 & 255 & 260 & 263 & 265\\\\\n",
       "\t 455 & 460 & 465 & 479 & 470\\\\\n",
       "\\end{tabular}\n"
      ],
      "text/markdown": [
       "\n",
       "| 250 | 255 | 260 | 263 | 265 |\n",
       "| 455 | 460 | 465 | 479 | 470 |\n",
       "\n"
      ],
      "text/plain": [
       "     [,1] [,2] [,3] [,4] [,5]\n",
       "[1,] 250  255  260  263  265 \n",
       "[2,] 455  460  465  479  470 "
      ]
     },
     "metadata": {},
     "output_type": "display_data"
    }
   ],
   "source": [
    "matriks.saham <- matrix(saham, nrow=2, byrow=T)\n",
    "matriks.saham"
   ]
  },
  {
   "cell_type": "code",
   "execution_count": 101,
   "metadata": {},
   "outputs": [],
   "source": [
    "# Menamakan baris dan kolom"
   ]
  },
  {
   "cell_type": "code",
   "execution_count": 102,
   "metadata": {},
   "outputs": [],
   "source": [
    "hari <- c('sen', 'sel', 'rab', 'kam', 'jum')\n",
    "perusahaan <- c('fb', 'ms')"
   ]
  },
  {
   "cell_type": "code",
   "execution_count": 103,
   "metadata": {},
   "outputs": [],
   "source": [
    "colnames(matriks.saham) <- hari\n",
    "rownames(matriks.saham) <- perusahaan"
   ]
  },
  {
   "cell_type": "code",
   "execution_count": 104,
   "metadata": {},
   "outputs": [
    {
     "data": {
      "text/html": [
       "<table>\n",
       "<thead><tr><th></th><th scope=col>sen</th><th scope=col>sel</th><th scope=col>rab</th><th scope=col>kam</th><th scope=col>jum</th></tr></thead>\n",
       "<tbody>\n",
       "\t<tr><th scope=row>fb</th><td>250</td><td>255</td><td>260</td><td>263</td><td>265</td></tr>\n",
       "\t<tr><th scope=row>ms</th><td>455</td><td>460</td><td>465</td><td>479</td><td>470</td></tr>\n",
       "</tbody>\n",
       "</table>\n"
      ],
      "text/latex": [
       "\\begin{tabular}{r|lllll}\n",
       "  & sen & sel & rab & kam & jum\\\\\n",
       "\\hline\n",
       "\tfb & 250 & 255 & 260 & 263 & 265\\\\\n",
       "\tms & 455 & 460 & 465 & 479 & 470\\\\\n",
       "\\end{tabular}\n"
      ],
      "text/markdown": [
       "\n",
       "| <!--/--> | sen | sel | rab | kam | jum |\n",
       "|---|---|---|---|---|---|\n",
       "| fb | 250 | 255 | 260 | 263 | 265 |\n",
       "| ms | 455 | 460 | 465 | 479 | 470 |\n",
       "\n"
      ],
      "text/plain": [
       "   sen sel rab kam jum\n",
       "fb 250 255 260 263 265\n",
       "ms 455 460 465 479 470"
      ]
     },
     "metadata": {},
     "output_type": "display_data"
    }
   ],
   "source": [
    "matriks.saham"
   ]
  },
  {
   "cell_type": "markdown",
   "metadata": {},
   "source": [
    "## Aritmatika matriks"
   ]
  },
  {
   "cell_type": "code",
   "execution_count": 105,
   "metadata": {},
   "outputs": [
    {
     "data": {
      "text/html": [
       "<table>\n",
       "<tbody>\n",
       "\t<tr><td> 1</td><td> 2</td><td> 3</td><td> 4</td><td> 5</td></tr>\n",
       "\t<tr><td> 6</td><td> 7</td><td> 8</td><td> 9</td><td>10</td></tr>\n",
       "\t<tr><td>11</td><td>12</td><td>13</td><td>14</td><td>15</td></tr>\n",
       "\t<tr><td>16</td><td>17</td><td>18</td><td>19</td><td>20</td></tr>\n",
       "\t<tr><td>21</td><td>22</td><td>23</td><td>24</td><td>25</td></tr>\n",
       "</tbody>\n",
       "</table>\n"
      ],
      "text/latex": [
       "\\begin{tabular}{lllll}\n",
       "\t  1 &  2 &  3 &  4 &  5\\\\\n",
       "\t  6 &  7 &  8 &  9 & 10\\\\\n",
       "\t 11 & 12 & 13 & 14 & 15\\\\\n",
       "\t 16 & 17 & 18 & 19 & 20\\\\\n",
       "\t 21 & 22 & 23 & 24 & 25\\\\\n",
       "\\end{tabular}\n"
      ],
      "text/markdown": [
       "\n",
       "|  1 |  2 |  3 |  4 |  5 |\n",
       "|  6 |  7 |  8 |  9 | 10 |\n",
       "| 11 | 12 | 13 | 14 | 15 |\n",
       "| 16 | 17 | 18 | 19 | 20 |\n",
       "| 21 | 22 | 23 | 24 | 25 |\n",
       "\n"
      ],
      "text/plain": [
       "     [,1] [,2] [,3] [,4] [,5]\n",
       "[1,]  1    2    3    4    5  \n",
       "[2,]  6    7    8    9   10  \n",
       "[3,] 11   12   13   14   15  \n",
       "[4,] 16   17   18   19   20  \n",
       "[5,] 21   22   23   24   25  "
      ]
     },
     "metadata": {},
     "output_type": "display_data"
    }
   ],
   "source": [
    "mat <- matrix(1:25, nrow=5, byrow=T)\n",
    "mat"
   ]
  },
  {
   "cell_type": "code",
   "execution_count": 106,
   "metadata": {},
   "outputs": [
    {
     "data": {
      "text/html": [
       "<table>\n",
       "<tbody>\n",
       "\t<tr><td>  1</td><td>  4</td><td>  9</td><td> 16</td><td> 25</td></tr>\n",
       "\t<tr><td> 36</td><td> 49</td><td> 64</td><td> 81</td><td>100</td></tr>\n",
       "\t<tr><td>121</td><td>144</td><td>169</td><td>196</td><td>225</td></tr>\n",
       "\t<tr><td>256</td><td>289</td><td>324</td><td>361</td><td>400</td></tr>\n",
       "\t<tr><td>441</td><td>484</td><td>529</td><td>576</td><td>625</td></tr>\n",
       "</tbody>\n",
       "</table>\n"
      ],
      "text/latex": [
       "\\begin{tabular}{lllll}\n",
       "\t   1 &   4 &   9 &  16 &  25\\\\\n",
       "\t  36 &  49 &  64 &  81 & 100\\\\\n",
       "\t 121 & 144 & 169 & 196 & 225\\\\\n",
       "\t 256 & 289 & 324 & 361 & 400\\\\\n",
       "\t 441 & 484 & 529 & 576 & 625\\\\\n",
       "\\end{tabular}\n"
      ],
      "text/markdown": [
       "\n",
       "|   1 |   4 |   9 |  16 |  25 |\n",
       "|  36 |  49 |  64 |  81 | 100 |\n",
       "| 121 | 144 | 169 | 196 | 225 |\n",
       "| 256 | 289 | 324 | 361 | 400 |\n",
       "| 441 | 484 | 529 | 576 | 625 |\n",
       "\n"
      ],
      "text/plain": [
       "     [,1] [,2] [,3] [,4] [,5]\n",
       "[1,]   1    4    9   16   25 \n",
       "[2,]  36   49   64   81  100 \n",
       "[3,] 121  144  169  196  225 \n",
       "[4,] 256  289  324  361  400 \n",
       "[5,] 441  484  529  576  625 "
      ]
     },
     "metadata": {},
     "output_type": "display_data"
    }
   ],
   "source": [
    "mat * mat # element-by-element"
   ]
  },
  {
   "cell_type": "code",
   "execution_count": 107,
   "metadata": {},
   "outputs": [
    {
     "data": {
      "text/html": [
       "<table>\n",
       "<tbody>\n",
       "\t<tr><td>1</td><td>1</td><td>1</td><td>1</td><td>1</td></tr>\n",
       "\t<tr><td>1</td><td>1</td><td>1</td><td>1</td><td>1</td></tr>\n",
       "\t<tr><td>1</td><td>1</td><td>1</td><td>1</td><td>1</td></tr>\n",
       "\t<tr><td>1</td><td>1</td><td>1</td><td>1</td><td>1</td></tr>\n",
       "\t<tr><td>1</td><td>1</td><td>1</td><td>1</td><td>1</td></tr>\n",
       "</tbody>\n",
       "</table>\n"
      ],
      "text/latex": [
       "\\begin{tabular}{lllll}\n",
       "\t 1 & 1 & 1 & 1 & 1\\\\\n",
       "\t 1 & 1 & 1 & 1 & 1\\\\\n",
       "\t 1 & 1 & 1 & 1 & 1\\\\\n",
       "\t 1 & 1 & 1 & 1 & 1\\\\\n",
       "\t 1 & 1 & 1 & 1 & 1\\\\\n",
       "\\end{tabular}\n"
      ],
      "text/markdown": [
       "\n",
       "| 1 | 1 | 1 | 1 | 1 |\n",
       "| 1 | 1 | 1 | 1 | 1 |\n",
       "| 1 | 1 | 1 | 1 | 1 |\n",
       "| 1 | 1 | 1 | 1 | 1 |\n",
       "| 1 | 1 | 1 | 1 | 1 |\n",
       "\n"
      ],
      "text/plain": [
       "     [,1] [,2] [,3] [,4] [,5]\n",
       "[1,] 1    1    1    1    1   \n",
       "[2,] 1    1    1    1    1   \n",
       "[3,] 1    1    1    1    1   \n",
       "[4,] 1    1    1    1    1   \n",
       "[5,] 1    1    1    1    1   "
      ]
     },
     "metadata": {},
     "output_type": "display_data"
    }
   ],
   "source": [
    "mat / mat"
   ]
  },
  {
   "cell_type": "code",
   "execution_count": 108,
   "metadata": {},
   "outputs": [
    {
     "data": {
      "text/html": [
       "<table>\n",
       "<tbody>\n",
       "\t<tr><td>  1</td><td>  4</td><td>  9</td><td> 16</td><td> 25</td></tr>\n",
       "\t<tr><td> 36</td><td> 49</td><td> 64</td><td> 81</td><td>100</td></tr>\n",
       "\t<tr><td>121</td><td>144</td><td>169</td><td>196</td><td>225</td></tr>\n",
       "\t<tr><td>256</td><td>289</td><td>324</td><td>361</td><td>400</td></tr>\n",
       "\t<tr><td>441</td><td>484</td><td>529</td><td>576</td><td>625</td></tr>\n",
       "</tbody>\n",
       "</table>\n"
      ],
      "text/latex": [
       "\\begin{tabular}{lllll}\n",
       "\t   1 &   4 &   9 &  16 &  25\\\\\n",
       "\t  36 &  49 &  64 &  81 & 100\\\\\n",
       "\t 121 & 144 & 169 & 196 & 225\\\\\n",
       "\t 256 & 289 & 324 & 361 & 400\\\\\n",
       "\t 441 & 484 & 529 & 576 & 625\\\\\n",
       "\\end{tabular}\n"
      ],
      "text/markdown": [
       "\n",
       "|   1 |   4 |   9 |  16 |  25 |\n",
       "|  36 |  49 |  64 |  81 | 100 |\n",
       "| 121 | 144 | 169 | 196 | 225 |\n",
       "| 256 | 289 | 324 | 361 | 400 |\n",
       "| 441 | 484 | 529 | 576 | 625 |\n",
       "\n"
      ],
      "text/plain": [
       "     [,1] [,2] [,3] [,4] [,5]\n",
       "[1,]   1    4    9   16   25 \n",
       "[2,]  36   49   64   81  100 \n",
       "[3,] 121  144  169  196  225 \n",
       "[4,] 256  289  324  361  400 \n",
       "[5,] 441  484  529  576  625 "
      ]
     },
     "metadata": {},
     "output_type": "display_data"
    }
   ],
   "source": [
    "mat^2"
   ]
  },
  {
   "cell_type": "code",
   "execution_count": 109,
   "metadata": {},
   "outputs": [
    {
     "data": {
      "text/html": [
       "<table>\n",
       "<tbody>\n",
       "\t<tr><td>1.00000000</td><td>0.50000000</td><td>0.33333333</td><td>0.25000000</td><td>0.20000000</td></tr>\n",
       "\t<tr><td>0.16666667</td><td>0.14285714</td><td>0.12500000</td><td>0.11111111</td><td>0.10000000</td></tr>\n",
       "\t<tr><td>0.09090909</td><td>0.08333333</td><td>0.07692308</td><td>0.07142857</td><td>0.06666667</td></tr>\n",
       "\t<tr><td>0.06250000</td><td>0.05882353</td><td>0.05555556</td><td>0.05263158</td><td>0.05000000</td></tr>\n",
       "\t<tr><td>0.04761905</td><td>0.04545455</td><td>0.04347826</td><td>0.04166667</td><td>0.04000000</td></tr>\n",
       "</tbody>\n",
       "</table>\n"
      ],
      "text/latex": [
       "\\begin{tabular}{lllll}\n",
       "\t 1.00000000 & 0.50000000 & 0.33333333 & 0.25000000 & 0.20000000\\\\\n",
       "\t 0.16666667 & 0.14285714 & 0.12500000 & 0.11111111 & 0.10000000\\\\\n",
       "\t 0.09090909 & 0.08333333 & 0.07692308 & 0.07142857 & 0.06666667\\\\\n",
       "\t 0.06250000 & 0.05882353 & 0.05555556 & 0.05263158 & 0.05000000\\\\\n",
       "\t 0.04761905 & 0.04545455 & 0.04347826 & 0.04166667 & 0.04000000\\\\\n",
       "\\end{tabular}\n"
      ],
      "text/markdown": [
       "\n",
       "| 1.00000000 | 0.50000000 | 0.33333333 | 0.25000000 | 0.20000000 |\n",
       "| 0.16666667 | 0.14285714 | 0.12500000 | 0.11111111 | 0.10000000 |\n",
       "| 0.09090909 | 0.08333333 | 0.07692308 | 0.07142857 | 0.06666667 |\n",
       "| 0.06250000 | 0.05882353 | 0.05555556 | 0.05263158 | 0.05000000 |\n",
       "| 0.04761905 | 0.04545455 | 0.04347826 | 0.04166667 | 0.04000000 |\n",
       "\n"
      ],
      "text/plain": [
       "     [,1]       [,2]       [,3]       [,4]       [,5]      \n",
       "[1,] 1.00000000 0.50000000 0.33333333 0.25000000 0.20000000\n",
       "[2,] 0.16666667 0.14285714 0.12500000 0.11111111 0.10000000\n",
       "[3,] 0.09090909 0.08333333 0.07692308 0.07142857 0.06666667\n",
       "[4,] 0.06250000 0.05882353 0.05555556 0.05263158 0.05000000\n",
       "[5,] 0.04761905 0.04545455 0.04347826 0.04166667 0.04000000"
      ]
     },
     "metadata": {},
     "output_type": "display_data"
    }
   ],
   "source": [
    "1 / mat"
   ]
  },
  {
   "cell_type": "code",
   "execution_count": 110,
   "metadata": {},
   "outputs": [],
   "source": [
    "# Operator perbandingan di matriks"
   ]
  },
  {
   "cell_type": "code",
   "execution_count": 111,
   "metadata": {},
   "outputs": [
    {
     "data": {
      "text/html": [
       "<table>\n",
       "<tbody>\n",
       "\t<tr><td>FALSE</td><td>FALSE</td><td>FALSE</td><td>FALSE</td><td>FALSE</td></tr>\n",
       "\t<tr><td>FALSE</td><td>FALSE</td><td>FALSE</td><td>FALSE</td><td>FALSE</td></tr>\n",
       "\t<tr><td> TRUE</td><td> TRUE</td><td> TRUE</td><td> TRUE</td><td> TRUE</td></tr>\n",
       "\t<tr><td> TRUE</td><td> TRUE</td><td> TRUE</td><td> TRUE</td><td> TRUE</td></tr>\n",
       "\t<tr><td> TRUE</td><td> TRUE</td><td> TRUE</td><td> TRUE</td><td> TRUE</td></tr>\n",
       "</tbody>\n",
       "</table>\n"
      ],
      "text/latex": [
       "\\begin{tabular}{lllll}\n",
       "\t FALSE & FALSE & FALSE & FALSE & FALSE\\\\\n",
       "\t FALSE & FALSE & FALSE & FALSE & FALSE\\\\\n",
       "\t  TRUE &  TRUE &  TRUE &  TRUE &  TRUE\\\\\n",
       "\t  TRUE &  TRUE &  TRUE &  TRUE &  TRUE\\\\\n",
       "\t  TRUE &  TRUE &  TRUE &  TRUE &  TRUE\\\\\n",
       "\\end{tabular}\n"
      ],
      "text/markdown": [
       "\n",
       "| FALSE | FALSE | FALSE | FALSE | FALSE |\n",
       "| FALSE | FALSE | FALSE | FALSE | FALSE |\n",
       "|  TRUE |  TRUE |  TRUE |  TRUE |  TRUE |\n",
       "|  TRUE |  TRUE |  TRUE |  TRUE |  TRUE |\n",
       "|  TRUE |  TRUE |  TRUE |  TRUE |  TRUE |\n",
       "\n"
      ],
      "text/plain": [
       "     [,1]  [,2]  [,3]  [,4]  [,5] \n",
       "[1,] FALSE FALSE FALSE FALSE FALSE\n",
       "[2,] FALSE FALSE FALSE FALSE FALSE\n",
       "[3,]  TRUE  TRUE  TRUE  TRUE  TRUE\n",
       "[4,]  TRUE  TRUE  TRUE  TRUE  TRUE\n",
       "[5,]  TRUE  TRUE  TRUE  TRUE  TRUE"
      ]
     },
     "metadata": {},
     "output_type": "display_data"
    }
   ],
   "source": [
    "mat > 10"
   ]
  },
  {
   "cell_type": "code",
   "execution_count": 112,
   "metadata": {},
   "outputs": [
    {
     "data": {
      "text/html": [
       "<ol class=list-inline>\n",
       "\t<li>11</li>\n",
       "\t<li>16</li>\n",
       "\t<li>21</li>\n",
       "\t<li>12</li>\n",
       "\t<li>17</li>\n",
       "\t<li>22</li>\n",
       "\t<li>13</li>\n",
       "\t<li>18</li>\n",
       "\t<li>23</li>\n",
       "\t<li>14</li>\n",
       "\t<li>19</li>\n",
       "\t<li>24</li>\n",
       "\t<li>15</li>\n",
       "\t<li>20</li>\n",
       "\t<li>25</li>\n",
       "</ol>\n"
      ],
      "text/latex": [
       "\\begin{enumerate*}\n",
       "\\item 11\n",
       "\\item 16\n",
       "\\item 21\n",
       "\\item 12\n",
       "\\item 17\n",
       "\\item 22\n",
       "\\item 13\n",
       "\\item 18\n",
       "\\item 23\n",
       "\\item 14\n",
       "\\item 19\n",
       "\\item 24\n",
       "\\item 15\n",
       "\\item 20\n",
       "\\item 25\n",
       "\\end{enumerate*}\n"
      ],
      "text/markdown": [
       "1. 11\n",
       "2. 16\n",
       "3. 21\n",
       "4. 12\n",
       "5. 17\n",
       "6. 22\n",
       "7. 13\n",
       "8. 18\n",
       "9. 23\n",
       "10. 14\n",
       "11. 19\n",
       "12. 24\n",
       "13. 15\n",
       "14. 20\n",
       "15. 25\n",
       "\n",
       "\n"
      ],
      "text/plain": [
       " [1] 11 16 21 12 17 22 13 18 23 14 19 24 15 20 25"
      ]
     },
     "metadata": {},
     "output_type": "display_data"
    }
   ],
   "source": [
    "mat[mat > 10]"
   ]
  },
  {
   "cell_type": "code",
   "execution_count": 113,
   "metadata": {},
   "outputs": [
    {
     "data": {
      "text/html": [
       "<table>\n",
       "<tbody>\n",
       "\t<tr><td> 1</td><td> 2</td><td> 3</td><td> 4</td><td> 5</td></tr>\n",
       "\t<tr><td> 6</td><td> 7</td><td> 8</td><td> 9</td><td>10</td></tr>\n",
       "\t<tr><td>11</td><td>12</td><td>13</td><td>14</td><td>15</td></tr>\n",
       "\t<tr><td>16</td><td>17</td><td>18</td><td>19</td><td>20</td></tr>\n",
       "\t<tr><td>21</td><td>22</td><td>23</td><td>24</td><td>25</td></tr>\n",
       "</tbody>\n",
       "</table>\n"
      ],
      "text/latex": [
       "\\begin{tabular}{lllll}\n",
       "\t  1 &  2 &  3 &  4 &  5\\\\\n",
       "\t  6 &  7 &  8 &  9 & 10\\\\\n",
       "\t 11 & 12 & 13 & 14 & 15\\\\\n",
       "\t 16 & 17 & 18 & 19 & 20\\\\\n",
       "\t 21 & 22 & 23 & 24 & 25\\\\\n",
       "\\end{tabular}\n"
      ],
      "text/markdown": [
       "\n",
       "|  1 |  2 |  3 |  4 |  5 |\n",
       "|  6 |  7 |  8 |  9 | 10 |\n",
       "| 11 | 12 | 13 | 14 | 15 |\n",
       "| 16 | 17 | 18 | 19 | 20 |\n",
       "| 21 | 22 | 23 | 24 | 25 |\n",
       "\n"
      ],
      "text/plain": [
       "     [,1] [,2] [,3] [,4] [,5]\n",
       "[1,]  1    2    3    4    5  \n",
       "[2,]  6    7    8    9   10  \n",
       "[3,] 11   12   13   14   15  \n",
       "[4,] 16   17   18   19   20  \n",
       "[5,] 21   22   23   24   25  "
      ]
     },
     "metadata": {},
     "output_type": "display_data"
    }
   ],
   "source": [
    "mat"
   ]
  },
  {
   "cell_type": "code",
   "execution_count": 114,
   "metadata": {},
   "outputs": [
    {
     "data": {
      "text/html": [
       "<table>\n",
       "<tbody>\n",
       "\t<tr><td> 215</td><td> 230</td><td> 245</td><td> 260</td><td> 275</td></tr>\n",
       "\t<tr><td> 490</td><td> 530</td><td> 570</td><td> 610</td><td> 650</td></tr>\n",
       "\t<tr><td> 765</td><td> 830</td><td> 895</td><td> 960</td><td>1025</td></tr>\n",
       "\t<tr><td>1040</td><td>1130</td><td>1220</td><td>1310</td><td>1400</td></tr>\n",
       "\t<tr><td>1315</td><td>1430</td><td>1545</td><td>1660</td><td>1775</td></tr>\n",
       "</tbody>\n",
       "</table>\n"
      ],
      "text/latex": [
       "\\begin{tabular}{lllll}\n",
       "\t  215 &  230 &  245 &  260 &  275\\\\\n",
       "\t  490 &  530 &  570 &  610 &  650\\\\\n",
       "\t  765 &  830 &  895 &  960 & 1025\\\\\n",
       "\t 1040 & 1130 & 1220 & 1310 & 1400\\\\\n",
       "\t 1315 & 1430 & 1545 & 1660 & 1775\\\\\n",
       "\\end{tabular}\n"
      ],
      "text/markdown": [
       "\n",
       "|  215 |  230 |  245 |  260 |  275 |\n",
       "|  490 |  530 |  570 |  610 |  650 |\n",
       "|  765 |  830 |  895 |  960 | 1025 |\n",
       "| 1040 | 1130 | 1220 | 1310 | 1400 |\n",
       "| 1315 | 1430 | 1545 | 1660 | 1775 |\n",
       "\n"
      ],
      "text/plain": [
       "     [,1] [,2] [,3] [,4] [,5]\n",
       "[1,]  215  230  245  260  275\n",
       "[2,]  490  530  570  610  650\n",
       "[3,]  765  830  895  960 1025\n",
       "[4,] 1040 1130 1220 1310 1400\n",
       "[5,] 1315 1430 1545 1660 1775"
      ]
     },
     "metadata": {},
     "output_type": "display_data"
    }
   ],
   "source": [
    "# Perkalian matriks\n",
    "mat %*% mat"
   ]
  },
  {
   "cell_type": "markdown",
   "metadata": {},
   "source": [
    "## Operasi - operasi di matriks"
   ]
  },
  {
   "cell_type": "code",
   "execution_count": 115,
   "metadata": {},
   "outputs": [
    {
     "data": {
      "text/html": [
       "<table>\n",
       "<thead><tr><th></th><th scope=col>sen</th><th scope=col>sel</th><th scope=col>rab</th><th scope=col>kam</th><th scope=col>jum</th></tr></thead>\n",
       "<tbody>\n",
       "\t<tr><th scope=row>fb</th><td>250</td><td>255</td><td>260</td><td>263</td><td>265</td></tr>\n",
       "\t<tr><th scope=row>ms</th><td>455</td><td>460</td><td>465</td><td>479</td><td>470</td></tr>\n",
       "</tbody>\n",
       "</table>\n"
      ],
      "text/latex": [
       "\\begin{tabular}{r|lllll}\n",
       "  & sen & sel & rab & kam & jum\\\\\n",
       "\\hline\n",
       "\tfb & 250 & 255 & 260 & 263 & 265\\\\\n",
       "\tms & 455 & 460 & 465 & 479 & 470\\\\\n",
       "\\end{tabular}\n"
      ],
      "text/markdown": [
       "\n",
       "| <!--/--> | sen | sel | rab | kam | jum |\n",
       "|---|---|---|---|---|---|\n",
       "| fb | 250 | 255 | 260 | 263 | 265 |\n",
       "| ms | 455 | 460 | 465 | 479 | 470 |\n",
       "\n"
      ],
      "text/plain": [
       "   sen sel rab kam jum\n",
       "fb 250 255 260 263 265\n",
       "ms 455 460 465 479 470"
      ]
     },
     "metadata": {},
     "output_type": "display_data"
    }
   ],
   "source": [
    "# Mendefinisikan matriks dari vektor\n",
    "fb <- c(250,255,260,263,265)\n",
    "ms <- c(455,460,465,479, 470)\n",
    "saham <- c(fb, ms)\n",
    "matriks.saham <- matrix(saham, nrow=2, byrow=T)\n",
    "colnames(matriks.saham) <- c('sen', 'sel', 'rab', 'kam', 'jum')\n",
    "rownames(matriks.saham) <-  c('fb', 'ms')\n",
    "matriks.saham"
   ]
  },
  {
   "cell_type": "code",
   "execution_count": 116,
   "metadata": {},
   "outputs": [
    {
     "data": {
      "text/html": [
       "<dl class=dl-horizontal>\n",
       "\t<dt>sen</dt>\n",
       "\t\t<dd>705</dd>\n",
       "\t<dt>sel</dt>\n",
       "\t\t<dd>715</dd>\n",
       "\t<dt>rab</dt>\n",
       "\t\t<dd>725</dd>\n",
       "\t<dt>kam</dt>\n",
       "\t\t<dd>742</dd>\n",
       "\t<dt>jum</dt>\n",
       "\t\t<dd>735</dd>\n",
       "</dl>\n"
      ],
      "text/latex": [
       "\\begin{description*}\n",
       "\\item[sen] 705\n",
       "\\item[sel] 715\n",
       "\\item[rab] 725\n",
       "\\item[kam] 742\n",
       "\\item[jum] 735\n",
       "\\end{description*}\n"
      ],
      "text/markdown": [
       "sen\n",
       ":   705sel\n",
       ":   715rab\n",
       ":   725kam\n",
       ":   742jum\n",
       ":   735\n",
       "\n"
      ],
      "text/plain": [
       "sen sel rab kam jum \n",
       "705 715 725 742 735 "
      ]
     },
     "metadata": {},
     "output_type": "display_data"
    }
   ],
   "source": [
    "colSums(matriks.saham) # penjumlahan pada kolom"
   ]
  },
  {
   "cell_type": "code",
   "execution_count": 117,
   "metadata": {},
   "outputs": [
    {
     "data": {
      "text/html": [
       "<dl class=dl-horizontal>\n",
       "\t<dt>fb</dt>\n",
       "\t\t<dd>1293</dd>\n",
       "\t<dt>ms</dt>\n",
       "\t\t<dd>2329</dd>\n",
       "</dl>\n"
      ],
      "text/latex": [
       "\\begin{description*}\n",
       "\\item[fb] 1293\n",
       "\\item[ms] 2329\n",
       "\\end{description*}\n"
      ],
      "text/markdown": [
       "fb\n",
       ":   1293ms\n",
       ":   2329\n",
       "\n"
      ],
      "text/plain": [
       "  fb   ms \n",
       "1293 2329 "
      ]
     },
     "metadata": {},
     "output_type": "display_data"
    }
   ],
   "source": [
    "rowSums(matriks.saham)"
   ]
  },
  {
   "cell_type": "code",
   "execution_count": 118,
   "metadata": {},
   "outputs": [
    {
     "data": {
      "text/html": [
       "<dl class=dl-horizontal>\n",
       "\t<dt>fb</dt>\n",
       "\t\t<dd>258.6</dd>\n",
       "\t<dt>ms</dt>\n",
       "\t\t<dd>465.8</dd>\n",
       "</dl>\n"
      ],
      "text/latex": [
       "\\begin{description*}\n",
       "\\item[fb] 258.6\n",
       "\\item[ms] 465.8\n",
       "\\end{description*}\n"
      ],
      "text/markdown": [
       "fb\n",
       ":   258.6ms\n",
       ":   465.8\n",
       "\n"
      ],
      "text/plain": [
       "   fb    ms \n",
       "258.6 465.8 "
      ]
     },
     "metadata": {},
     "output_type": "display_data"
    }
   ],
   "source": [
    "rowMeans(matriks.saham)"
   ]
  },
  {
   "cell_type": "code",
   "execution_count": 119,
   "metadata": {},
   "outputs": [
    {
     "data": {
      "text/html": [
       "<dl class=dl-horizontal>\n",
       "\t<dt>sen</dt>\n",
       "\t\t<dd>352.5</dd>\n",
       "\t<dt>sel</dt>\n",
       "\t\t<dd>357.5</dd>\n",
       "\t<dt>rab</dt>\n",
       "\t\t<dd>362.5</dd>\n",
       "\t<dt>kam</dt>\n",
       "\t\t<dd>371</dd>\n",
       "\t<dt>jum</dt>\n",
       "\t\t<dd>367.5</dd>\n",
       "</dl>\n"
      ],
      "text/latex": [
       "\\begin{description*}\n",
       "\\item[sen] 352.5\n",
       "\\item[sel] 357.5\n",
       "\\item[rab] 362.5\n",
       "\\item[kam] 371\n",
       "\\item[jum] 367.5\n",
       "\\end{description*}\n"
      ],
      "text/markdown": [
       "sen\n",
       ":   352.5sel\n",
       ":   357.5rab\n",
       ":   362.5kam\n",
       ":   371jum\n",
       ":   367.5\n",
       "\n"
      ],
      "text/plain": [
       "  sen   sel   rab   kam   jum \n",
       "352.5 357.5 362.5 371.0 367.5 "
      ]
     },
     "metadata": {},
     "output_type": "display_data"
    }
   ],
   "source": [
    "colMeans(matriks.saham)"
   ]
  },
  {
   "cell_type": "code",
   "execution_count": 120,
   "metadata": {},
   "outputs": [],
   "source": [
    "# Menambahkan kolom dan baris ke matriks"
   ]
  },
  {
   "cell_type": "code",
   "execution_count": 121,
   "metadata": {},
   "outputs": [
    {
     "data": {
      "text/html": [
       "<table>\n",
       "<thead><tr><th></th><th scope=col>sen</th><th scope=col>sel</th><th scope=col>rab</th><th scope=col>kam</th><th scope=col>jum</th></tr></thead>\n",
       "<tbody>\n",
       "\t<tr><th scope=row>fb</th><td>250</td><td>255</td><td>260</td><td>263</td><td>265</td></tr>\n",
       "\t<tr><th scope=row>ms</th><td>455</td><td>460</td><td>465</td><td>479</td><td>470</td></tr>\n",
       "\t<tr><th scope=row>google</th><td>175</td><td>180</td><td>185</td><td>195</td><td>190</td></tr>\n",
       "</tbody>\n",
       "</table>\n"
      ],
      "text/latex": [
       "\\begin{tabular}{r|lllll}\n",
       "  & sen & sel & rab & kam & jum\\\\\n",
       "\\hline\n",
       "\tfb & 250 & 255 & 260 & 263 & 265\\\\\n",
       "\tms & 455 & 460 & 465 & 479 & 470\\\\\n",
       "\tgoogle & 175 & 180 & 185 & 195 & 190\\\\\n",
       "\\end{tabular}\n"
      ],
      "text/markdown": [
       "\n",
       "| <!--/--> | sen | sel | rab | kam | jum |\n",
       "|---|---|---|---|---|---|\n",
       "| fb | 250 | 255 | 260 | 263 | 265 |\n",
       "| ms | 455 | 460 | 465 | 479 | 470 |\n",
       "| google | 175 | 180 | 185 | 195 | 190 |\n",
       "\n"
      ],
      "text/plain": [
       "       sen sel rab kam jum\n",
       "fb     250 255 260 263 265\n",
       "ms     455 460 465 479 470\n",
       "google 175 180 185 195 190"
      ]
     },
     "metadata": {},
     "output_type": "display_data"
    }
   ],
   "source": [
    "google <- c(175,180,185,195,190)\n",
    "saham.int <- rbind(matriks.saham, google)\n",
    "saham.int"
   ]
  },
  {
   "cell_type": "code",
   "execution_count": 122,
   "metadata": {},
   "outputs": [
    {
     "data": {
      "text/html": [
       "<dl class=dl-horizontal>\n",
       "\t<dt>fb</dt>\n",
       "\t\t<dd>258.6</dd>\n",
       "\t<dt>ms</dt>\n",
       "\t\t<dd>465.8</dd>\n",
       "\t<dt>google</dt>\n",
       "\t\t<dd>185</dd>\n",
       "</dl>\n"
      ],
      "text/latex": [
       "\\begin{description*}\n",
       "\\item[fb] 258.6\n",
       "\\item[ms] 465.8\n",
       "\\item[google] 185\n",
       "\\end{description*}\n"
      ],
      "text/markdown": [
       "fb\n",
       ":   258.6ms\n",
       ":   465.8google\n",
       ":   185\n",
       "\n"
      ],
      "text/plain": [
       "    fb     ms google \n",
       " 258.6  465.8  185.0 "
      ]
     },
     "metadata": {},
     "output_type": "display_data"
    }
   ],
   "source": [
    "# Menambahkan kolom ke matriks\n",
    "rata2 <- rowMeans(saham.int)\n",
    "rata2"
   ]
  },
  {
   "cell_type": "code",
   "execution_count": 123,
   "metadata": {},
   "outputs": [
    {
     "data": {
      "text/html": [
       "<table>\n",
       "<thead><tr><th></th><th scope=col>sen</th><th scope=col>sel</th><th scope=col>rab</th><th scope=col>kam</th><th scope=col>jum</th><th scope=col>rata2</th></tr></thead>\n",
       "<tbody>\n",
       "\t<tr><th scope=row>fb</th><td>250  </td><td>255  </td><td>260  </td><td>263  </td><td>265  </td><td>258.6</td></tr>\n",
       "\t<tr><th scope=row>ms</th><td>455  </td><td>460  </td><td>465  </td><td>479  </td><td>470  </td><td>465.8</td></tr>\n",
       "\t<tr><th scope=row>google</th><td>175  </td><td>180  </td><td>185  </td><td>195  </td><td>190  </td><td>185.0</td></tr>\n",
       "</tbody>\n",
       "</table>\n"
      ],
      "text/latex": [
       "\\begin{tabular}{r|llllll}\n",
       "  & sen & sel & rab & kam & jum & rata2\\\\\n",
       "\\hline\n",
       "\tfb & 250   & 255   & 260   & 263   & 265   & 258.6\\\\\n",
       "\tms & 455   & 460   & 465   & 479   & 470   & 465.8\\\\\n",
       "\tgoogle & 175   & 180   & 185   & 195   & 190   & 185.0\\\\\n",
       "\\end{tabular}\n"
      ],
      "text/markdown": [
       "\n",
       "| <!--/--> | sen | sel | rab | kam | jum | rata2 |\n",
       "|---|---|---|---|---|---|---|\n",
       "| fb | 250   | 255   | 260   | 263   | 265   | 258.6 |\n",
       "| ms | 455   | 460   | 465   | 479   | 470   | 465.8 |\n",
       "| google | 175   | 180   | 185   | 195   | 190   | 185.0 |\n",
       "\n"
      ],
      "text/plain": [
       "       sen sel rab kam jum rata2\n",
       "fb     250 255 260 263 265 258.6\n",
       "ms     455 460 465 479 470 465.8\n",
       "google 175 180 185 195 190 185.0"
      ]
     },
     "metadata": {},
     "output_type": "display_data"
    }
   ],
   "source": [
    "saham.int <- cbind(saham.int, rata2)\n",
    "saham.int"
   ]
  },
  {
   "cell_type": "markdown",
   "metadata": {},
   "source": [
    "## Seleksi dan pengindeksan matriks"
   ]
  },
  {
   "cell_type": "code",
   "execution_count": 124,
   "metadata": {},
   "outputs": [
    {
     "data": {
      "text/html": [
       "<ol class=list-inline>\n",
       "\t<li>10</li>\n",
       "\t<li>20</li>\n",
       "\t<li>30</li>\n",
       "\t<li>40</li>\n",
       "\t<li>50</li>\n",
       "</ol>\n"
      ],
      "text/latex": [
       "\\begin{enumerate*}\n",
       "\\item 10\n",
       "\\item 20\n",
       "\\item 30\n",
       "\\item 40\n",
       "\\item 50\n",
       "\\end{enumerate*}\n"
      ],
      "text/markdown": [
       "1. 10\n",
       "2. 20\n",
       "3. 30\n",
       "4. 40\n",
       "5. 50\n",
       "\n",
       "\n"
      ],
      "text/plain": [
       "[1] 10 20 30 40 50"
      ]
     },
     "metadata": {},
     "output_type": "display_data"
    }
   ],
   "source": [
    "v <- c(10,20,30,40,50)\n",
    "v"
   ]
  },
  {
   "cell_type": "code",
   "execution_count": 125,
   "metadata": {},
   "outputs": [
    {
     "data": {
      "text/html": [
       "30"
      ],
      "text/latex": [
       "30"
      ],
      "text/markdown": [
       "30"
      ],
      "text/plain": [
       "[1] 30"
      ]
     },
     "metadata": {},
     "output_type": "display_data"
    }
   ],
   "source": [
    "v[3]"
   ]
  },
  {
   "cell_type": "code",
   "execution_count": 126,
   "metadata": {},
   "outputs": [
    {
     "data": {
      "text/html": [
       "<table>\n",
       "<tbody>\n",
       "\t<tr><td> 1</td><td> 2</td><td> 3</td><td> 4</td><td> 5</td></tr>\n",
       "\t<tr><td> 6</td><td> 7</td><td> 8</td><td> 9</td><td>10</td></tr>\n",
       "\t<tr><td>11</td><td>12</td><td>13</td><td>14</td><td>15</td></tr>\n",
       "\t<tr><td>16</td><td>17</td><td>18</td><td>19</td><td>20</td></tr>\n",
       "\t<tr><td>21</td><td>22</td><td>23</td><td>24</td><td>25</td></tr>\n",
       "</tbody>\n",
       "</table>\n"
      ],
      "text/latex": [
       "\\begin{tabular}{lllll}\n",
       "\t  1 &  2 &  3 &  4 &  5\\\\\n",
       "\t  6 &  7 &  8 &  9 & 10\\\\\n",
       "\t 11 & 12 & 13 & 14 & 15\\\\\n",
       "\t 16 & 17 & 18 & 19 & 20\\\\\n",
       "\t 21 & 22 & 23 & 24 & 25\\\\\n",
       "\\end{tabular}\n"
      ],
      "text/markdown": [
       "\n",
       "|  1 |  2 |  3 |  4 |  5 |\n",
       "|  6 |  7 |  8 |  9 | 10 |\n",
       "| 11 | 12 | 13 | 14 | 15 |\n",
       "| 16 | 17 | 18 | 19 | 20 |\n",
       "| 21 | 22 | 23 | 24 | 25 |\n",
       "\n"
      ],
      "text/plain": [
       "     [,1] [,2] [,3] [,4] [,5]\n",
       "[1,]  1    2    3    4    5  \n",
       "[2,]  6    7    8    9   10  \n",
       "[3,] 11   12   13   14   15  \n",
       "[4,] 16   17   18   19   20  \n",
       "[5,] 21   22   23   24   25  "
      ]
     },
     "metadata": {},
     "output_type": "display_data"
    }
   ],
   "source": [
    "mat <- matrix(1:25, nrow=5, byrow=T)\n",
    "mat"
   ]
  },
  {
   "cell_type": "code",
   "execution_count": 127,
   "metadata": {},
   "outputs": [
    {
     "data": {
      "text/html": [
       "<ol class=list-inline>\n",
       "\t<li>1</li>\n",
       "\t<li>2</li>\n",
       "\t<li>3</li>\n",
       "\t<li>4</li>\n",
       "\t<li>5</li>\n",
       "</ol>\n"
      ],
      "text/latex": [
       "\\begin{enumerate*}\n",
       "\\item 1\n",
       "\\item 2\n",
       "\\item 3\n",
       "\\item 4\n",
       "\\item 5\n",
       "\\end{enumerate*}\n"
      ],
      "text/markdown": [
       "1. 1\n",
       "2. 2\n",
       "3. 3\n",
       "4. 4\n",
       "5. 5\n",
       "\n",
       "\n"
      ],
      "text/plain": [
       "[1] 1 2 3 4 5"
      ]
     },
     "metadata": {},
     "output_type": "display_data"
    }
   ],
   "source": [
    "mat[1,] # baris 1, seluruh kolom"
   ]
  },
  {
   "cell_type": "code",
   "execution_count": 128,
   "metadata": {},
   "outputs": [
    {
     "data": {
      "text/html": [
       "8"
      ],
      "text/latex": [
       "8"
      ],
      "text/markdown": [
       "8"
      ],
      "text/plain": [
       "[1] 8"
      ]
     },
     "metadata": {},
     "output_type": "display_data"
    }
   ],
   "source": [
    "mat[2,3]"
   ]
  },
  {
   "cell_type": "code",
   "execution_count": 129,
   "metadata": {},
   "outputs": [
    {
     "data": {
      "text/html": [
       "14"
      ],
      "text/latex": [
       "14"
      ],
      "text/markdown": [
       "14"
      ],
      "text/plain": [
       "[1] 14"
      ]
     },
     "metadata": {},
     "output_type": "display_data"
    }
   ],
   "source": [
    "mat[3,4]"
   ]
  },
  {
   "cell_type": "code",
   "execution_count": 130,
   "metadata": {},
   "outputs": [
    {
     "data": {
      "text/html": [
       "<ol class=list-inline>\n",
       "\t<li>3</li>\n",
       "\t<li>8</li>\n",
       "\t<li>13</li>\n",
       "\t<li>18</li>\n",
       "\t<li>23</li>\n",
       "</ol>\n"
      ],
      "text/latex": [
       "\\begin{enumerate*}\n",
       "\\item 3\n",
       "\\item 8\n",
       "\\item 13\n",
       "\\item 18\n",
       "\\item 23\n",
       "\\end{enumerate*}\n"
      ],
      "text/markdown": [
       "1. 3\n",
       "2. 8\n",
       "3. 13\n",
       "4. 18\n",
       "5. 23\n",
       "\n",
       "\n"
      ],
      "text/plain": [
       "[1]  3  8 13 18 23"
      ]
     },
     "metadata": {},
     "output_type": "display_data"
    }
   ],
   "source": [
    "mat[,3]"
   ]
  },
  {
   "cell_type": "code",
   "execution_count": 131,
   "metadata": {},
   "outputs": [
    {
     "data": {
      "text/html": [
       "<table>\n",
       "<tbody>\n",
       "\t<tr><td> 1</td><td> 2</td><td> 3</td><td> 4</td><td> 5</td></tr>\n",
       "\t<tr><td> 6</td><td> 7</td><td> 8</td><td> 9</td><td>10</td></tr>\n",
       "\t<tr><td>11</td><td>12</td><td>13</td><td>14</td><td>15</td></tr>\n",
       "\t<tr><td>16</td><td>17</td><td>18</td><td>19</td><td>20</td></tr>\n",
       "\t<tr><td>21</td><td>22</td><td>23</td><td>24</td><td>25</td></tr>\n",
       "</tbody>\n",
       "</table>\n"
      ],
      "text/latex": [
       "\\begin{tabular}{lllll}\n",
       "\t  1 &  2 &  3 &  4 &  5\\\\\n",
       "\t  6 &  7 &  8 &  9 & 10\\\\\n",
       "\t 11 & 12 & 13 & 14 & 15\\\\\n",
       "\t 16 & 17 & 18 & 19 & 20\\\\\n",
       "\t 21 & 22 & 23 & 24 & 25\\\\\n",
       "\\end{tabular}\n"
      ],
      "text/markdown": [
       "\n",
       "|  1 |  2 |  3 |  4 |  5 |\n",
       "|  6 |  7 |  8 |  9 | 10 |\n",
       "| 11 | 12 | 13 | 14 | 15 |\n",
       "| 16 | 17 | 18 | 19 | 20 |\n",
       "| 21 | 22 | 23 | 24 | 25 |\n",
       "\n"
      ],
      "text/plain": [
       "     [,1] [,2] [,3] [,4] [,5]\n",
       "[1,]  1    2    3    4    5  \n",
       "[2,]  6    7    8    9   10  \n",
       "[3,] 11   12   13   14   15  \n",
       "[4,] 16   17   18   19   20  \n",
       "[5,] 21   22   23   24   25  "
      ]
     },
     "metadata": {},
     "output_type": "display_data"
    }
   ],
   "source": [
    "mat"
   ]
  },
  {
   "cell_type": "code",
   "execution_count": 132,
   "metadata": {},
   "outputs": [
    {
     "data": {
      "text/html": [
       "<ol class=list-inline>\n",
       "\t<li>5</li>\n",
       "\t<li>10</li>\n",
       "\t<li>15</li>\n",
       "\t<li>20</li>\n",
       "\t<li>25</li>\n",
       "</ol>\n"
      ],
      "text/latex": [
       "\\begin{enumerate*}\n",
       "\\item 5\n",
       "\\item 10\n",
       "\\item 15\n",
       "\\item 20\n",
       "\\item 25\n",
       "\\end{enumerate*}\n"
      ],
      "text/markdown": [
       "1. 5\n",
       "2. 10\n",
       "3. 15\n",
       "4. 20\n",
       "5. 25\n",
       "\n",
       "\n"
      ],
      "text/plain": [
       "[1]  5 10 15 20 25"
      ]
     },
     "metadata": {},
     "output_type": "display_data"
    }
   ],
   "source": [
    "mat[,5]"
   ]
  },
  {
   "cell_type": "code",
   "execution_count": 133,
   "metadata": {},
   "outputs": [
    {
     "data": {
      "text/html": [
       "<table>\n",
       "<tbody>\n",
       "\t<tr><td> 1</td><td> 2</td><td> 3</td><td> 4</td><td> 5</td></tr>\n",
       "\t<tr><td> 6</td><td> 7</td><td> 8</td><td> 9</td><td>10</td></tr>\n",
       "\t<tr><td>11</td><td>12</td><td>13</td><td>14</td><td>15</td></tr>\n",
       "</tbody>\n",
       "</table>\n"
      ],
      "text/latex": [
       "\\begin{tabular}{lllll}\n",
       "\t  1 &  2 &  3 &  4 &  5\\\\\n",
       "\t  6 &  7 &  8 &  9 & 10\\\\\n",
       "\t 11 & 12 & 13 & 14 & 15\\\\\n",
       "\\end{tabular}\n"
      ],
      "text/markdown": [
       "\n",
       "|  1 |  2 |  3 |  4 |  5 |\n",
       "|  6 |  7 |  8 |  9 | 10 |\n",
       "| 11 | 12 | 13 | 14 | 15 |\n",
       "\n"
      ],
      "text/plain": [
       "     [,1] [,2] [,3] [,4] [,5]\n",
       "[1,]  1    2    3    4    5  \n",
       "[2,]  6    7    8    9   10  \n",
       "[3,] 11   12   13   14   15  "
      ]
     },
     "metadata": {},
     "output_type": "display_data"
    }
   ],
   "source": [
    "mat[1:3,] # baris 1 sampai 3"
   ]
  },
  {
   "cell_type": "code",
   "execution_count": 134,
   "metadata": {},
   "outputs": [
    {
     "data": {
      "text/html": [
       "<table>\n",
       "<tbody>\n",
       "\t<tr><td> 4</td><td> 5</td></tr>\n",
       "\t<tr><td> 9</td><td>10</td></tr>\n",
       "\t<tr><td>14</td><td>15</td></tr>\n",
       "\t<tr><td>19</td><td>20</td></tr>\n",
       "\t<tr><td>24</td><td>25</td></tr>\n",
       "</tbody>\n",
       "</table>\n"
      ],
      "text/latex": [
       "\\begin{tabular}{ll}\n",
       "\t  4 &  5\\\\\n",
       "\t  9 & 10\\\\\n",
       "\t 14 & 15\\\\\n",
       "\t 19 & 20\\\\\n",
       "\t 24 & 25\\\\\n",
       "\\end{tabular}\n"
      ],
      "text/markdown": [
       "\n",
       "|  4 |  5 |\n",
       "|  9 | 10 |\n",
       "| 14 | 15 |\n",
       "| 19 | 20 |\n",
       "| 24 | 25 |\n",
       "\n"
      ],
      "text/plain": [
       "     [,1] [,2]\n",
       "[1,]  4    5  \n",
       "[2,]  9   10  \n",
       "[3,] 14   15  \n",
       "[4,] 19   20  \n",
       "[5,] 24   25  "
      ]
     },
     "metadata": {},
     "output_type": "display_data"
    }
   ],
   "source": [
    "mat[,4:5] # kolom 4 hingga 5"
   ]
  },
  {
   "cell_type": "code",
   "execution_count": 135,
   "metadata": {},
   "outputs": [
    {
     "data": {
      "text/html": [
       "<table>\n",
       "<tbody>\n",
       "\t<tr><td>1</td><td>2</td><td>3</td></tr>\n",
       "\t<tr><td>6</td><td>7</td><td>8</td></tr>\n",
       "</tbody>\n",
       "</table>\n"
      ],
      "text/latex": [
       "\\begin{tabular}{lll}\n",
       "\t 1 & 2 & 3\\\\\n",
       "\t 6 & 7 & 8\\\\\n",
       "\\end{tabular}\n"
      ],
      "text/markdown": [
       "\n",
       "| 1 | 2 | 3 |\n",
       "| 6 | 7 | 8 |\n",
       "\n"
      ],
      "text/plain": [
       "     [,1] [,2] [,3]\n",
       "[1,] 1    2    3   \n",
       "[2,] 6    7    8   "
      ]
     },
     "metadata": {},
     "output_type": "display_data"
    }
   ],
   "source": [
    "mat[1:2, 1:3] # baris 1 sampai 2, kolom 1 sampai 3"
   ]
  },
  {
   "cell_type": "code",
   "execution_count": 136,
   "metadata": {},
   "outputs": [
    {
     "data": {
      "text/html": [
       "<table>\n",
       "<tbody>\n",
       "\t<tr><td> 1</td><td> 2</td><td> 3</td><td> 4</td><td> 5</td></tr>\n",
       "\t<tr><td> 6</td><td> 7</td><td> 8</td><td> 9</td><td>10</td></tr>\n",
       "\t<tr><td>11</td><td>12</td><td>13</td><td>14</td><td>15</td></tr>\n",
       "\t<tr><td>16</td><td>17</td><td>18</td><td>19</td><td>20</td></tr>\n",
       "\t<tr><td>21</td><td>22</td><td>23</td><td>24</td><td>25</td></tr>\n",
       "</tbody>\n",
       "</table>\n"
      ],
      "text/latex": [
       "\\begin{tabular}{lllll}\n",
       "\t  1 &  2 &  3 &  4 &  5\\\\\n",
       "\t  6 &  7 &  8 &  9 & 10\\\\\n",
       "\t 11 & 12 & 13 & 14 & 15\\\\\n",
       "\t 16 & 17 & 18 & 19 & 20\\\\\n",
       "\t 21 & 22 & 23 & 24 & 25\\\\\n",
       "\\end{tabular}\n"
      ],
      "text/markdown": [
       "\n",
       "|  1 |  2 |  3 |  4 |  5 |\n",
       "|  6 |  7 |  8 |  9 | 10 |\n",
       "| 11 | 12 | 13 | 14 | 15 |\n",
       "| 16 | 17 | 18 | 19 | 20 |\n",
       "| 21 | 22 | 23 | 24 | 25 |\n",
       "\n"
      ],
      "text/plain": [
       "     [,1] [,2] [,3] [,4] [,5]\n",
       "[1,]  1    2    3    4    5  \n",
       "[2,]  6    7    8    9   10  \n",
       "[3,] 11   12   13   14   15  \n",
       "[4,] 16   17   18   19   20  \n",
       "[5,] 21   22   23   24   25  "
      ]
     },
     "metadata": {},
     "output_type": "display_data"
    }
   ],
   "source": [
    "mat"
   ]
  },
  {
   "cell_type": "code",
   "execution_count": 137,
   "metadata": {},
   "outputs": [
    {
     "data": {
      "text/html": [
       "<table>\n",
       "<tbody>\n",
       "\t<tr><td>13</td><td>14</td><td>15</td></tr>\n",
       "\t<tr><td>18</td><td>19</td><td>20</td></tr>\n",
       "\t<tr><td>23</td><td>24</td><td>25</td></tr>\n",
       "</tbody>\n",
       "</table>\n"
      ],
      "text/latex": [
       "\\begin{tabular}{lll}\n",
       "\t 13 & 14 & 15\\\\\n",
       "\t 18 & 19 & 20\\\\\n",
       "\t 23 & 24 & 25\\\\\n",
       "\\end{tabular}\n"
      ],
      "text/markdown": [
       "\n",
       "| 13 | 14 | 15 |\n",
       "| 18 | 19 | 20 |\n",
       "| 23 | 24 | 25 |\n",
       "\n"
      ],
      "text/plain": [
       "     [,1] [,2] [,3]\n",
       "[1,] 13   14   15  \n",
       "[2,] 18   19   20  \n",
       "[3,] 23   24   25  "
      ]
     },
     "metadata": {},
     "output_type": "display_data"
    }
   ],
   "source": [
    "mat[3:5, 3:5]"
   ]
  },
  {
   "cell_type": "markdown",
   "metadata": {},
   "source": [
    "## Fungsi `factor`"
   ]
  },
  {
   "cell_type": "code",
   "execution_count": 138,
   "metadata": {},
   "outputs": [],
   "source": [
    "vek.warna <- c('merah', 'hijau', 'biru', 'merah', 'merah', 'hijau', 'biru')"
   ]
  },
  {
   "cell_type": "code",
   "execution_count": 139,
   "metadata": {},
   "outputs": [
    {
     "data": {
      "text/html": [
       "<ol class=list-inline>\n",
       "\t<li>'merah'</li>\n",
       "\t<li>'hijau'</li>\n",
       "\t<li>'biru'</li>\n",
       "\t<li>'merah'</li>\n",
       "\t<li>'merah'</li>\n",
       "\t<li>'hijau'</li>\n",
       "\t<li>'biru'</li>\n",
       "</ol>\n"
      ],
      "text/latex": [
       "\\begin{enumerate*}\n",
       "\\item 'merah'\n",
       "\\item 'hijau'\n",
       "\\item 'biru'\n",
       "\\item 'merah'\n",
       "\\item 'merah'\n",
       "\\item 'hijau'\n",
       "\\item 'biru'\n",
       "\\end{enumerate*}\n"
      ],
      "text/markdown": [
       "1. 'merah'\n",
       "2. 'hijau'\n",
       "3. 'biru'\n",
       "4. 'merah'\n",
       "5. 'merah'\n",
       "6. 'hijau'\n",
       "7. 'biru'\n",
       "\n",
       "\n"
      ],
      "text/plain": [
       "[1] \"merah\" \"hijau\" \"biru\"  \"merah\" \"merah\" \"hijau\" \"biru\" "
      ]
     },
     "metadata": {},
     "output_type": "display_data"
    }
   ],
   "source": [
    "vek.warna"
   ]
  },
  {
   "cell_type": "code",
   "execution_count": 140,
   "metadata": {},
   "outputs": [
    {
     "data": {
      "text/html": [
       "<ol class=list-inline>\n",
       "\t<li>merah</li>\n",
       "\t<li>hijau</li>\n",
       "\t<li>biru</li>\n",
       "\t<li>merah</li>\n",
       "\t<li>merah</li>\n",
       "\t<li>hijau</li>\n",
       "\t<li>biru</li>\n",
       "</ol>\n",
       "\n",
       "<details>\n",
       "\t<summary style=display:list-item;cursor:pointer>\n",
       "\t\t<strong>Levels</strong>:\n",
       "\t</summary>\n",
       "\t<ol class=list-inline>\n",
       "\t\t<li>'merah'</li>\n",
       "\t\t<li>'hijau'</li>\n",
       "\t\t<li>'biru'</li>\n",
       "\t</ol>\n",
       "</details>"
      ],
      "text/latex": [
       "\\begin{enumerate*}\n",
       "\\item merah\n",
       "\\item hijau\n",
       "\\item biru\n",
       "\\item merah\n",
       "\\item merah\n",
       "\\item hijau\n",
       "\\item biru\n",
       "\\end{enumerate*}\n",
       "\n",
       "\\emph{Levels}: \\begin{enumerate*}\n",
       "\\item 'merah'\n",
       "\\item 'hijau'\n",
       "\\item 'biru'\n",
       "\\end{enumerate*}\n"
      ],
      "text/markdown": [
       "1. merah\n",
       "2. hijau\n",
       "3. biru\n",
       "4. merah\n",
       "5. merah\n",
       "6. hijau\n",
       "7. biru\n",
       "\n",
       "\n",
       "\n",
       "**Levels**: 1. 'merah'\n",
       "2. 'hijau'\n",
       "3. 'biru'\n",
       "\n",
       "\n"
      ],
      "text/plain": [
       "[1] merah hijau biru  merah merah hijau biru \n",
       "Levels: merah < hijau < biru"
      ]
     },
     "metadata": {},
     "output_type": "display_data"
    }
   ],
   "source": [
    "fact.warna <- factor(vek.warna, ordered=T, levels=c('merah', 'hijau', 'biru'))\n",
    "fact.warna"
   ]
  },
  {
   "cell_type": "code",
   "execution_count": 141,
   "metadata": {},
   "outputs": [
    {
     "data": {
      "text/html": [
       "<dl class=dl-horizontal>\n",
       "\t<dt>merah</dt>\n",
       "\t\t<dd>3</dd>\n",
       "\t<dt>hijau</dt>\n",
       "\t\t<dd>2</dd>\n",
       "\t<dt>biru</dt>\n",
       "\t\t<dd>2</dd>\n",
       "</dl>\n"
      ],
      "text/latex": [
       "\\begin{description*}\n",
       "\\item[merah] 3\n",
       "\\item[hijau] 2\n",
       "\\item[biru] 2\n",
       "\\end{description*}\n"
      ],
      "text/markdown": [
       "merah\n",
       ":   3hijau\n",
       ":   2biru\n",
       ":   2\n",
       "\n"
      ],
      "text/plain": [
       "merah hijau  biru \n",
       "    3     2     2 "
      ]
     },
     "metadata": {},
     "output_type": "display_data"
    }
   ],
   "source": [
    "summary(fact.warna)"
   ]
  },
  {
   "cell_type": "code",
   "execution_count": 142,
   "metadata": {},
   "outputs": [
    {
     "data": {
      "text/plain": [
       "   Length     Class      Mode \n",
       "        7 character character "
      ]
     },
     "metadata": {},
     "output_type": "display_data"
    }
   ],
   "source": [
    "summary(vek.warna)"
   ]
  },
  {
   "cell_type": "markdown",
   "metadata": {},
   "source": [
    "# Data Frame"
   ]
  },
  {
   "cell_type": "markdown",
   "metadata": {},
   "source": [
    "## Pengenalan"
   ]
  },
  {
   "cell_type": "markdown",
   "metadata": {},
   "source": [
    "Kita banyak menggunakan data frame di dalam kegiatan analisis data, karena matriks hanya mampu menampung tipe data yang seragam."
   ]
  },
  {
   "cell_type": "code",
   "execution_count": 143,
   "metadata": {},
   "outputs": [
    {
     "data": {
      "text/html": [
       "<table>\n",
       "<thead><tr><th></th><th scope=col>Population</th><th scope=col>Income</th><th scope=col>Illiteracy</th><th scope=col>Life Exp</th><th scope=col>Murder</th><th scope=col>HS Grad</th><th scope=col>Frost</th><th scope=col>Area</th></tr></thead>\n",
       "<tbody>\n",
       "\t<tr><th scope=row>Alabama</th><td> 3615 </td><td>3624  </td><td>2.1   </td><td>69.05 </td><td>15.1  </td><td>41.3  </td><td> 20   </td><td> 50708</td></tr>\n",
       "\t<tr><th scope=row>Alaska</th><td>  365 </td><td>6315  </td><td>1.5   </td><td>69.31 </td><td>11.3  </td><td>66.7  </td><td>152   </td><td>566432</td></tr>\n",
       "\t<tr><th scope=row>Arizona</th><td> 2212 </td><td>4530  </td><td>1.8   </td><td>70.55 </td><td> 7.8  </td><td>58.1  </td><td> 15   </td><td>113417</td></tr>\n",
       "\t<tr><th scope=row>Arkansas</th><td> 2110 </td><td>3378  </td><td>1.9   </td><td>70.66 </td><td>10.1  </td><td>39.9  </td><td> 65   </td><td> 51945</td></tr>\n",
       "\t<tr><th scope=row>California</th><td>21198 </td><td>5114  </td><td>1.1   </td><td>71.71 </td><td>10.3  </td><td>62.6  </td><td> 20   </td><td>156361</td></tr>\n",
       "\t<tr><th scope=row>Colorado</th><td> 2541 </td><td>4884  </td><td>0.7   </td><td>72.06 </td><td> 6.8  </td><td>63.9  </td><td>166   </td><td>103766</td></tr>\n",
       "\t<tr><th scope=row>Connecticut</th><td> 3100 </td><td>5348  </td><td>1.1   </td><td>72.48 </td><td> 3.1  </td><td>56.0  </td><td>139   </td><td>  4862</td></tr>\n",
       "\t<tr><th scope=row>Delaware</th><td>  579 </td><td>4809  </td><td>0.9   </td><td>70.06 </td><td> 6.2  </td><td>54.6  </td><td>103   </td><td>  1982</td></tr>\n",
       "\t<tr><th scope=row>Florida</th><td> 8277 </td><td>4815  </td><td>1.3   </td><td>70.66 </td><td>10.7  </td><td>52.6  </td><td> 11   </td><td> 54090</td></tr>\n",
       "\t<tr><th scope=row>Georgia</th><td> 4931 </td><td>4091  </td><td>2.0   </td><td>68.54 </td><td>13.9  </td><td>40.6  </td><td> 60   </td><td> 58073</td></tr>\n",
       "\t<tr><th scope=row>Hawaii</th><td>  868 </td><td>4963  </td><td>1.9   </td><td>73.60 </td><td> 6.2  </td><td>61.9  </td><td>  0   </td><td>  6425</td></tr>\n",
       "\t<tr><th scope=row>Idaho</th><td>  813 </td><td>4119  </td><td>0.6   </td><td>71.87 </td><td> 5.3  </td><td>59.5  </td><td>126   </td><td> 82677</td></tr>\n",
       "\t<tr><th scope=row>Illinois</th><td>11197 </td><td>5107  </td><td>0.9   </td><td>70.14 </td><td>10.3  </td><td>52.6  </td><td>127   </td><td> 55748</td></tr>\n",
       "\t<tr><th scope=row>Indiana</th><td> 5313 </td><td>4458  </td><td>0.7   </td><td>70.88 </td><td> 7.1  </td><td>52.9  </td><td>122   </td><td> 36097</td></tr>\n",
       "\t<tr><th scope=row>Iowa</th><td> 2861 </td><td>4628  </td><td>0.5   </td><td>72.56 </td><td> 2.3  </td><td>59.0  </td><td>140   </td><td> 55941</td></tr>\n",
       "\t<tr><th scope=row>Kansas</th><td> 2280 </td><td>4669  </td><td>0.6   </td><td>72.58 </td><td> 4.5  </td><td>59.9  </td><td>114   </td><td> 81787</td></tr>\n",
       "\t<tr><th scope=row>Kentucky</th><td> 3387 </td><td>3712  </td><td>1.6   </td><td>70.10 </td><td>10.6  </td><td>38.5  </td><td> 95   </td><td> 39650</td></tr>\n",
       "\t<tr><th scope=row>Louisiana</th><td> 3806 </td><td>3545  </td><td>2.8   </td><td>68.76 </td><td>13.2  </td><td>42.2  </td><td> 12   </td><td> 44930</td></tr>\n",
       "\t<tr><th scope=row>Maine</th><td> 1058 </td><td>3694  </td><td>0.7   </td><td>70.39 </td><td> 2.7  </td><td>54.7  </td><td>161   </td><td> 30920</td></tr>\n",
       "\t<tr><th scope=row>Maryland</th><td> 4122 </td><td>5299  </td><td>0.9   </td><td>70.22 </td><td> 8.5  </td><td>52.3  </td><td>101   </td><td>  9891</td></tr>\n",
       "\t<tr><th scope=row>Massachusetts</th><td> 5814 </td><td>4755  </td><td>1.1   </td><td>71.83 </td><td> 3.3  </td><td>58.5  </td><td>103   </td><td>  7826</td></tr>\n",
       "\t<tr><th scope=row>Michigan</th><td> 9111 </td><td>4751  </td><td>0.9   </td><td>70.63 </td><td>11.1  </td><td>52.8  </td><td>125   </td><td> 56817</td></tr>\n",
       "\t<tr><th scope=row>Minnesota</th><td> 3921 </td><td>4675  </td><td>0.6   </td><td>72.96 </td><td> 2.3  </td><td>57.6  </td><td>160   </td><td> 79289</td></tr>\n",
       "\t<tr><th scope=row>Mississippi</th><td> 2341 </td><td>3098  </td><td>2.4   </td><td>68.09 </td><td>12.5  </td><td>41.0  </td><td> 50   </td><td> 47296</td></tr>\n",
       "\t<tr><th scope=row>Missouri</th><td> 4767 </td><td>4254  </td><td>0.8   </td><td>70.69 </td><td> 9.3  </td><td>48.8  </td><td>108   </td><td> 68995</td></tr>\n",
       "\t<tr><th scope=row>Montana</th><td>  746 </td><td>4347  </td><td>0.6   </td><td>70.56 </td><td> 5.0  </td><td>59.2  </td><td>155   </td><td>145587</td></tr>\n",
       "\t<tr><th scope=row>Nebraska</th><td> 1544 </td><td>4508  </td><td>0.6   </td><td>72.60 </td><td> 2.9  </td><td>59.3  </td><td>139   </td><td> 76483</td></tr>\n",
       "\t<tr><th scope=row>Nevada</th><td>  590 </td><td>5149  </td><td>0.5   </td><td>69.03 </td><td>11.5  </td><td>65.2  </td><td>188   </td><td>109889</td></tr>\n",
       "\t<tr><th scope=row>New Hampshire</th><td>  812 </td><td>4281  </td><td>0.7   </td><td>71.23 </td><td> 3.3  </td><td>57.6  </td><td>174   </td><td>  9027</td></tr>\n",
       "\t<tr><th scope=row>New Jersey</th><td> 7333 </td><td>5237  </td><td>1.1   </td><td>70.93 </td><td> 5.2  </td><td>52.5  </td><td>115   </td><td>  7521</td></tr>\n",
       "\t<tr><th scope=row>New Mexico</th><td> 1144 </td><td>3601  </td><td>2.2   </td><td>70.32 </td><td> 9.7  </td><td>55.2  </td><td>120   </td><td>121412</td></tr>\n",
       "\t<tr><th scope=row>New York</th><td>18076 </td><td>4903  </td><td>1.4   </td><td>70.55 </td><td>10.9  </td><td>52.7  </td><td> 82   </td><td> 47831</td></tr>\n",
       "\t<tr><th scope=row>North Carolina</th><td> 5441 </td><td>3875  </td><td>1.8   </td><td>69.21 </td><td>11.1  </td><td>38.5  </td><td> 80   </td><td> 48798</td></tr>\n",
       "\t<tr><th scope=row>North Dakota</th><td>  637 </td><td>5087  </td><td>0.8   </td><td>72.78 </td><td> 1.4  </td><td>50.3  </td><td>186   </td><td> 69273</td></tr>\n",
       "\t<tr><th scope=row>Ohio</th><td>10735 </td><td>4561  </td><td>0.8   </td><td>70.82 </td><td> 7.4  </td><td>53.2  </td><td>124   </td><td> 40975</td></tr>\n",
       "\t<tr><th scope=row>Oklahoma</th><td> 2715 </td><td>3983  </td><td>1.1   </td><td>71.42 </td><td> 6.4  </td><td>51.6  </td><td> 82   </td><td> 68782</td></tr>\n",
       "\t<tr><th scope=row>Oregon</th><td> 2284 </td><td>4660  </td><td>0.6   </td><td>72.13 </td><td> 4.2  </td><td>60.0  </td><td> 44   </td><td> 96184</td></tr>\n",
       "\t<tr><th scope=row>Pennsylvania</th><td>11860 </td><td>4449  </td><td>1.0   </td><td>70.43 </td><td> 6.1  </td><td>50.2  </td><td>126   </td><td> 44966</td></tr>\n",
       "\t<tr><th scope=row>Rhode Island</th><td>  931 </td><td>4558  </td><td>1.3   </td><td>71.90 </td><td> 2.4  </td><td>46.4  </td><td>127   </td><td>  1049</td></tr>\n",
       "\t<tr><th scope=row>South Carolina</th><td> 2816 </td><td>3635  </td><td>2.3   </td><td>67.96 </td><td>11.6  </td><td>37.8  </td><td> 65   </td><td> 30225</td></tr>\n",
       "\t<tr><th scope=row>South Dakota</th><td>  681 </td><td>4167  </td><td>0.5   </td><td>72.08 </td><td> 1.7  </td><td>53.3  </td><td>172   </td><td> 75955</td></tr>\n",
       "\t<tr><th scope=row>Tennessee</th><td> 4173 </td><td>3821  </td><td>1.7   </td><td>70.11 </td><td>11.0  </td><td>41.8  </td><td> 70   </td><td> 41328</td></tr>\n",
       "\t<tr><th scope=row>Texas</th><td>12237 </td><td>4188  </td><td>2.2   </td><td>70.90 </td><td>12.2  </td><td>47.4  </td><td> 35   </td><td>262134</td></tr>\n",
       "\t<tr><th scope=row>Utah</th><td> 1203 </td><td>4022  </td><td>0.6   </td><td>72.90 </td><td> 4.5  </td><td>67.3  </td><td>137   </td><td> 82096</td></tr>\n",
       "\t<tr><th scope=row>Vermont</th><td>  472 </td><td>3907  </td><td>0.6   </td><td>71.64 </td><td> 5.5  </td><td>57.1  </td><td>168   </td><td>  9267</td></tr>\n",
       "\t<tr><th scope=row>Virginia</th><td> 4981 </td><td>4701  </td><td>1.4   </td><td>70.08 </td><td> 9.5  </td><td>47.8  </td><td> 85   </td><td> 39780</td></tr>\n",
       "\t<tr><th scope=row>Washington</th><td> 3559 </td><td>4864  </td><td>0.6   </td><td>71.72 </td><td> 4.3  </td><td>63.5  </td><td> 32   </td><td> 66570</td></tr>\n",
       "\t<tr><th scope=row>West Virginia</th><td> 1799 </td><td>3617  </td><td>1.4   </td><td>69.48 </td><td> 6.7  </td><td>41.6  </td><td>100   </td><td> 24070</td></tr>\n",
       "\t<tr><th scope=row>Wisconsin</th><td> 4589 </td><td>4468  </td><td>0.7   </td><td>72.48 </td><td> 3.0  </td><td>54.5  </td><td>149   </td><td> 54464</td></tr>\n",
       "\t<tr><th scope=row>Wyoming</th><td>  376 </td><td>4566  </td><td>0.6   </td><td>70.29 </td><td> 6.9  </td><td>62.9  </td><td>173   </td><td> 97203</td></tr>\n",
       "</tbody>\n",
       "</table>\n"
      ],
      "text/latex": [
       "\\begin{tabular}{r|llllllll}\n",
       "  & Population & Income & Illiteracy & Life Exp & Murder & HS Grad & Frost & Area\\\\\n",
       "\\hline\n",
       "\tAlabama &  3615  & 3624   & 2.1    & 69.05  & 15.1   & 41.3   &  20    &  50708\\\\\n",
       "\tAlaska &   365  & 6315   & 1.5    & 69.31  & 11.3   & 66.7   & 152    & 566432\\\\\n",
       "\tArizona &  2212  & 4530   & 1.8    & 70.55  &  7.8   & 58.1   &  15    & 113417\\\\\n",
       "\tArkansas &  2110  & 3378   & 1.9    & 70.66  & 10.1   & 39.9   &  65    &  51945\\\\\n",
       "\tCalifornia & 21198  & 5114   & 1.1    & 71.71  & 10.3   & 62.6   &  20    & 156361\\\\\n",
       "\tColorado &  2541  & 4884   & 0.7    & 72.06  &  6.8   & 63.9   & 166    & 103766\\\\\n",
       "\tConnecticut &  3100  & 5348   & 1.1    & 72.48  &  3.1   & 56.0   & 139    &   4862\\\\\n",
       "\tDelaware &   579  & 4809   & 0.9    & 70.06  &  6.2   & 54.6   & 103    &   1982\\\\\n",
       "\tFlorida &  8277  & 4815   & 1.3    & 70.66  & 10.7   & 52.6   &  11    &  54090\\\\\n",
       "\tGeorgia &  4931  & 4091   & 2.0    & 68.54  & 13.9   & 40.6   &  60    &  58073\\\\\n",
       "\tHawaii &   868  & 4963   & 1.9    & 73.60  &  6.2   & 61.9   &   0    &   6425\\\\\n",
       "\tIdaho &   813  & 4119   & 0.6    & 71.87  &  5.3   & 59.5   & 126    &  82677\\\\\n",
       "\tIllinois & 11197  & 5107   & 0.9    & 70.14  & 10.3   & 52.6   & 127    &  55748\\\\\n",
       "\tIndiana &  5313  & 4458   & 0.7    & 70.88  &  7.1   & 52.9   & 122    &  36097\\\\\n",
       "\tIowa &  2861  & 4628   & 0.5    & 72.56  &  2.3   & 59.0   & 140    &  55941\\\\\n",
       "\tKansas &  2280  & 4669   & 0.6    & 72.58  &  4.5   & 59.9   & 114    &  81787\\\\\n",
       "\tKentucky &  3387  & 3712   & 1.6    & 70.10  & 10.6   & 38.5   &  95    &  39650\\\\\n",
       "\tLouisiana &  3806  & 3545   & 2.8    & 68.76  & 13.2   & 42.2   &  12    &  44930\\\\\n",
       "\tMaine &  1058  & 3694   & 0.7    & 70.39  &  2.7   & 54.7   & 161    &  30920\\\\\n",
       "\tMaryland &  4122  & 5299   & 0.9    & 70.22  &  8.5   & 52.3   & 101    &   9891\\\\\n",
       "\tMassachusetts &  5814  & 4755   & 1.1    & 71.83  &  3.3   & 58.5   & 103    &   7826\\\\\n",
       "\tMichigan &  9111  & 4751   & 0.9    & 70.63  & 11.1   & 52.8   & 125    &  56817\\\\\n",
       "\tMinnesota &  3921  & 4675   & 0.6    & 72.96  &  2.3   & 57.6   & 160    &  79289\\\\\n",
       "\tMississippi &  2341  & 3098   & 2.4    & 68.09  & 12.5   & 41.0   &  50    &  47296\\\\\n",
       "\tMissouri &  4767  & 4254   & 0.8    & 70.69  &  9.3   & 48.8   & 108    &  68995\\\\\n",
       "\tMontana &   746  & 4347   & 0.6    & 70.56  &  5.0   & 59.2   & 155    & 145587\\\\\n",
       "\tNebraska &  1544  & 4508   & 0.6    & 72.60  &  2.9   & 59.3   & 139    &  76483\\\\\n",
       "\tNevada &   590  & 5149   & 0.5    & 69.03  & 11.5   & 65.2   & 188    & 109889\\\\\n",
       "\tNew Hampshire &   812  & 4281   & 0.7    & 71.23  &  3.3   & 57.6   & 174    &   9027\\\\\n",
       "\tNew Jersey &  7333  & 5237   & 1.1    & 70.93  &  5.2   & 52.5   & 115    &   7521\\\\\n",
       "\tNew Mexico &  1144  & 3601   & 2.2    & 70.32  &  9.7   & 55.2   & 120    & 121412\\\\\n",
       "\tNew York & 18076  & 4903   & 1.4    & 70.55  & 10.9   & 52.7   &  82    &  47831\\\\\n",
       "\tNorth Carolina &  5441  & 3875   & 1.8    & 69.21  & 11.1   & 38.5   &  80    &  48798\\\\\n",
       "\tNorth Dakota &   637  & 5087   & 0.8    & 72.78  &  1.4   & 50.3   & 186    &  69273\\\\\n",
       "\tOhio & 10735  & 4561   & 0.8    & 70.82  &  7.4   & 53.2   & 124    &  40975\\\\\n",
       "\tOklahoma &  2715  & 3983   & 1.1    & 71.42  &  6.4   & 51.6   &  82    &  68782\\\\\n",
       "\tOregon &  2284  & 4660   & 0.6    & 72.13  &  4.2   & 60.0   &  44    &  96184\\\\\n",
       "\tPennsylvania & 11860  & 4449   & 1.0    & 70.43  &  6.1   & 50.2   & 126    &  44966\\\\\n",
       "\tRhode Island &   931  & 4558   & 1.3    & 71.90  &  2.4   & 46.4   & 127    &   1049\\\\\n",
       "\tSouth Carolina &  2816  & 3635   & 2.3    & 67.96  & 11.6   & 37.8   &  65    &  30225\\\\\n",
       "\tSouth Dakota &   681  & 4167   & 0.5    & 72.08  &  1.7   & 53.3   & 172    &  75955\\\\\n",
       "\tTennessee &  4173  & 3821   & 1.7    & 70.11  & 11.0   & 41.8   &  70    &  41328\\\\\n",
       "\tTexas & 12237  & 4188   & 2.2    & 70.90  & 12.2   & 47.4   &  35    & 262134\\\\\n",
       "\tUtah &  1203  & 4022   & 0.6    & 72.90  &  4.5   & 67.3   & 137    &  82096\\\\\n",
       "\tVermont &   472  & 3907   & 0.6    & 71.64  &  5.5   & 57.1   & 168    &   9267\\\\\n",
       "\tVirginia &  4981  & 4701   & 1.4    & 70.08  &  9.5   & 47.8   &  85    &  39780\\\\\n",
       "\tWashington &  3559  & 4864   & 0.6    & 71.72  &  4.3   & 63.5   &  32    &  66570\\\\\n",
       "\tWest Virginia &  1799  & 3617   & 1.4    & 69.48  &  6.7   & 41.6   & 100    &  24070\\\\\n",
       "\tWisconsin &  4589  & 4468   & 0.7    & 72.48  &  3.0   & 54.5   & 149    &  54464\\\\\n",
       "\tWyoming &   376  & 4566   & 0.6    & 70.29  &  6.9   & 62.9   & 173    &  97203\\\\\n",
       "\\end{tabular}\n"
      ],
      "text/markdown": [
       "\n",
       "| <!--/--> | Population | Income | Illiteracy | Life Exp | Murder | HS Grad | Frost | Area |\n",
       "|---|---|---|---|---|---|---|---|---|\n",
       "| Alabama |  3615  | 3624   | 2.1    | 69.05  | 15.1   | 41.3   |  20    |  50708 |\n",
       "| Alaska |   365  | 6315   | 1.5    | 69.31  | 11.3   | 66.7   | 152    | 566432 |\n",
       "| Arizona |  2212  | 4530   | 1.8    | 70.55  |  7.8   | 58.1   |  15    | 113417 |\n",
       "| Arkansas |  2110  | 3378   | 1.9    | 70.66  | 10.1   | 39.9   |  65    |  51945 |\n",
       "| California | 21198  | 5114   | 1.1    | 71.71  | 10.3   | 62.6   |  20    | 156361 |\n",
       "| Colorado |  2541  | 4884   | 0.7    | 72.06  |  6.8   | 63.9   | 166    | 103766 |\n",
       "| Connecticut |  3100  | 5348   | 1.1    | 72.48  |  3.1   | 56.0   | 139    |   4862 |\n",
       "| Delaware |   579  | 4809   | 0.9    | 70.06  |  6.2   | 54.6   | 103    |   1982 |\n",
       "| Florida |  8277  | 4815   | 1.3    | 70.66  | 10.7   | 52.6   |  11    |  54090 |\n",
       "| Georgia |  4931  | 4091   | 2.0    | 68.54  | 13.9   | 40.6   |  60    |  58073 |\n",
       "| Hawaii |   868  | 4963   | 1.9    | 73.60  |  6.2   | 61.9   |   0    |   6425 |\n",
       "| Idaho |   813  | 4119   | 0.6    | 71.87  |  5.3   | 59.5   | 126    |  82677 |\n",
       "| Illinois | 11197  | 5107   | 0.9    | 70.14  | 10.3   | 52.6   | 127    |  55748 |\n",
       "| Indiana |  5313  | 4458   | 0.7    | 70.88  |  7.1   | 52.9   | 122    |  36097 |\n",
       "| Iowa |  2861  | 4628   | 0.5    | 72.56  |  2.3   | 59.0   | 140    |  55941 |\n",
       "| Kansas |  2280  | 4669   | 0.6    | 72.58  |  4.5   | 59.9   | 114    |  81787 |\n",
       "| Kentucky |  3387  | 3712   | 1.6    | 70.10  | 10.6   | 38.5   |  95    |  39650 |\n",
       "| Louisiana |  3806  | 3545   | 2.8    | 68.76  | 13.2   | 42.2   |  12    |  44930 |\n",
       "| Maine |  1058  | 3694   | 0.7    | 70.39  |  2.7   | 54.7   | 161    |  30920 |\n",
       "| Maryland |  4122  | 5299   | 0.9    | 70.22  |  8.5   | 52.3   | 101    |   9891 |\n",
       "| Massachusetts |  5814  | 4755   | 1.1    | 71.83  |  3.3   | 58.5   | 103    |   7826 |\n",
       "| Michigan |  9111  | 4751   | 0.9    | 70.63  | 11.1   | 52.8   | 125    |  56817 |\n",
       "| Minnesota |  3921  | 4675   | 0.6    | 72.96  |  2.3   | 57.6   | 160    |  79289 |\n",
       "| Mississippi |  2341  | 3098   | 2.4    | 68.09  | 12.5   | 41.0   |  50    |  47296 |\n",
       "| Missouri |  4767  | 4254   | 0.8    | 70.69  |  9.3   | 48.8   | 108    |  68995 |\n",
       "| Montana |   746  | 4347   | 0.6    | 70.56  |  5.0   | 59.2   | 155    | 145587 |\n",
       "| Nebraska |  1544  | 4508   | 0.6    | 72.60  |  2.9   | 59.3   | 139    |  76483 |\n",
       "| Nevada |   590  | 5149   | 0.5    | 69.03  | 11.5   | 65.2   | 188    | 109889 |\n",
       "| New Hampshire |   812  | 4281   | 0.7    | 71.23  |  3.3   | 57.6   | 174    |   9027 |\n",
       "| New Jersey |  7333  | 5237   | 1.1    | 70.93  |  5.2   | 52.5   | 115    |   7521 |\n",
       "| New Mexico |  1144  | 3601   | 2.2    | 70.32  |  9.7   | 55.2   | 120    | 121412 |\n",
       "| New York | 18076  | 4903   | 1.4    | 70.55  | 10.9   | 52.7   |  82    |  47831 |\n",
       "| North Carolina |  5441  | 3875   | 1.8    | 69.21  | 11.1   | 38.5   |  80    |  48798 |\n",
       "| North Dakota |   637  | 5087   | 0.8    | 72.78  |  1.4   | 50.3   | 186    |  69273 |\n",
       "| Ohio | 10735  | 4561   | 0.8    | 70.82  |  7.4   | 53.2   | 124    |  40975 |\n",
       "| Oklahoma |  2715  | 3983   | 1.1    | 71.42  |  6.4   | 51.6   |  82    |  68782 |\n",
       "| Oregon |  2284  | 4660   | 0.6    | 72.13  |  4.2   | 60.0   |  44    |  96184 |\n",
       "| Pennsylvania | 11860  | 4449   | 1.0    | 70.43  |  6.1   | 50.2   | 126    |  44966 |\n",
       "| Rhode Island |   931  | 4558   | 1.3    | 71.90  |  2.4   | 46.4   | 127    |   1049 |\n",
       "| South Carolina |  2816  | 3635   | 2.3    | 67.96  | 11.6   | 37.8   |  65    |  30225 |\n",
       "| South Dakota |   681  | 4167   | 0.5    | 72.08  |  1.7   | 53.3   | 172    |  75955 |\n",
       "| Tennessee |  4173  | 3821   | 1.7    | 70.11  | 11.0   | 41.8   |  70    |  41328 |\n",
       "| Texas | 12237  | 4188   | 2.2    | 70.90  | 12.2   | 47.4   |  35    | 262134 |\n",
       "| Utah |  1203  | 4022   | 0.6    | 72.90  |  4.5   | 67.3   | 137    |  82096 |\n",
       "| Vermont |   472  | 3907   | 0.6    | 71.64  |  5.5   | 57.1   | 168    |   9267 |\n",
       "| Virginia |  4981  | 4701   | 1.4    | 70.08  |  9.5   | 47.8   |  85    |  39780 |\n",
       "| Washington |  3559  | 4864   | 0.6    | 71.72  |  4.3   | 63.5   |  32    |  66570 |\n",
       "| West Virginia |  1799  | 3617   | 1.4    | 69.48  |  6.7   | 41.6   | 100    |  24070 |\n",
       "| Wisconsin |  4589  | 4468   | 0.7    | 72.48  |  3.0   | 54.5   | 149    |  54464 |\n",
       "| Wyoming |   376  | 4566   | 0.6    | 70.29  |  6.9   | 62.9   | 173    |  97203 |\n",
       "\n"
      ],
      "text/plain": [
       "               Population Income Illiteracy Life Exp Murder HS Grad Frost\n",
       "Alabama         3615      3624   2.1        69.05    15.1   41.3     20  \n",
       "Alaska           365      6315   1.5        69.31    11.3   66.7    152  \n",
       "Arizona         2212      4530   1.8        70.55     7.8   58.1     15  \n",
       "Arkansas        2110      3378   1.9        70.66    10.1   39.9     65  \n",
       "California     21198      5114   1.1        71.71    10.3   62.6     20  \n",
       "Colorado        2541      4884   0.7        72.06     6.8   63.9    166  \n",
       "Connecticut     3100      5348   1.1        72.48     3.1   56.0    139  \n",
       "Delaware         579      4809   0.9        70.06     6.2   54.6    103  \n",
       "Florida         8277      4815   1.3        70.66    10.7   52.6     11  \n",
       "Georgia         4931      4091   2.0        68.54    13.9   40.6     60  \n",
       "Hawaii           868      4963   1.9        73.60     6.2   61.9      0  \n",
       "Idaho            813      4119   0.6        71.87     5.3   59.5    126  \n",
       "Illinois       11197      5107   0.9        70.14    10.3   52.6    127  \n",
       "Indiana         5313      4458   0.7        70.88     7.1   52.9    122  \n",
       "Iowa            2861      4628   0.5        72.56     2.3   59.0    140  \n",
       "Kansas          2280      4669   0.6        72.58     4.5   59.9    114  \n",
       "Kentucky        3387      3712   1.6        70.10    10.6   38.5     95  \n",
       "Louisiana       3806      3545   2.8        68.76    13.2   42.2     12  \n",
       "Maine           1058      3694   0.7        70.39     2.7   54.7    161  \n",
       "Maryland        4122      5299   0.9        70.22     8.5   52.3    101  \n",
       "Massachusetts   5814      4755   1.1        71.83     3.3   58.5    103  \n",
       "Michigan        9111      4751   0.9        70.63    11.1   52.8    125  \n",
       "Minnesota       3921      4675   0.6        72.96     2.3   57.6    160  \n",
       "Mississippi     2341      3098   2.4        68.09    12.5   41.0     50  \n",
       "Missouri        4767      4254   0.8        70.69     9.3   48.8    108  \n",
       "Montana          746      4347   0.6        70.56     5.0   59.2    155  \n",
       "Nebraska        1544      4508   0.6        72.60     2.9   59.3    139  \n",
       "Nevada           590      5149   0.5        69.03    11.5   65.2    188  \n",
       "New Hampshire    812      4281   0.7        71.23     3.3   57.6    174  \n",
       "New Jersey      7333      5237   1.1        70.93     5.2   52.5    115  \n",
       "New Mexico      1144      3601   2.2        70.32     9.7   55.2    120  \n",
       "New York       18076      4903   1.4        70.55    10.9   52.7     82  \n",
       "North Carolina  5441      3875   1.8        69.21    11.1   38.5     80  \n",
       "North Dakota     637      5087   0.8        72.78     1.4   50.3    186  \n",
       "Ohio           10735      4561   0.8        70.82     7.4   53.2    124  \n",
       "Oklahoma        2715      3983   1.1        71.42     6.4   51.6     82  \n",
       "Oregon          2284      4660   0.6        72.13     4.2   60.0     44  \n",
       "Pennsylvania   11860      4449   1.0        70.43     6.1   50.2    126  \n",
       "Rhode Island     931      4558   1.3        71.90     2.4   46.4    127  \n",
       "South Carolina  2816      3635   2.3        67.96    11.6   37.8     65  \n",
       "South Dakota     681      4167   0.5        72.08     1.7   53.3    172  \n",
       "Tennessee       4173      3821   1.7        70.11    11.0   41.8     70  \n",
       "Texas          12237      4188   2.2        70.90    12.2   47.4     35  \n",
       "Utah            1203      4022   0.6        72.90     4.5   67.3    137  \n",
       "Vermont          472      3907   0.6        71.64     5.5   57.1    168  \n",
       "Virginia        4981      4701   1.4        70.08     9.5   47.8     85  \n",
       "Washington      3559      4864   0.6        71.72     4.3   63.5     32  \n",
       "West Virginia   1799      3617   1.4        69.48     6.7   41.6    100  \n",
       "Wisconsin       4589      4468   0.7        72.48     3.0   54.5    149  \n",
       "Wyoming          376      4566   0.6        70.29     6.9   62.9    173  \n",
       "               Area  \n",
       "Alabama         50708\n",
       "Alaska         566432\n",
       "Arizona        113417\n",
       "Arkansas        51945\n",
       "California     156361\n",
       "Colorado       103766\n",
       "Connecticut      4862\n",
       "Delaware         1982\n",
       "Florida         54090\n",
       "Georgia         58073\n",
       "Hawaii           6425\n",
       "Idaho           82677\n",
       "Illinois        55748\n",
       "Indiana         36097\n",
       "Iowa            55941\n",
       "Kansas          81787\n",
       "Kentucky        39650\n",
       "Louisiana       44930\n",
       "Maine           30920\n",
       "Maryland         9891\n",
       "Massachusetts    7826\n",
       "Michigan        56817\n",
       "Minnesota       79289\n",
       "Mississippi     47296\n",
       "Missouri        68995\n",
       "Montana        145587\n",
       "Nebraska        76483\n",
       "Nevada         109889\n",
       "New Hampshire    9027\n",
       "New Jersey       7521\n",
       "New Mexico     121412\n",
       "New York        47831\n",
       "North Carolina  48798\n",
       "North Dakota    69273\n",
       "Ohio            40975\n",
       "Oklahoma        68782\n",
       "Oregon          96184\n",
       "Pennsylvania    44966\n",
       "Rhode Island     1049\n",
       "South Carolina  30225\n",
       "South Dakota    75955\n",
       "Tennessee       41328\n",
       "Texas          262134\n",
       "Utah            82096\n",
       "Vermont          9267\n",
       "Virginia        39780\n",
       "Washington      66570\n",
       "West Virginia   24070\n",
       "Wisconsin       54464\n",
       "Wyoming         97203"
      ]
     },
     "metadata": {},
     "output_type": "display_data"
    }
   ],
   "source": [
    "state.x77 # built-in df"
   ]
  },
  {
   "cell_type": "code",
   "execution_count": 144,
   "metadata": {},
   "outputs": [
    {
     "data": {
      "text/html": [
       "<table>\n",
       "<thead><tr><th></th><th scope=col>1940</th><th scope=col>1945</th><th scope=col>1950</th><th scope=col>1955</th><th scope=col>1960</th></tr></thead>\n",
       "<tbody>\n",
       "\t<tr><th scope=row>Food and Tobacco</th><td>22.200</td><td>44.500</td><td>59.60 </td><td>73.2  </td><td>86.80 </td></tr>\n",
       "\t<tr><th scope=row>Household Operation</th><td>10.500</td><td>15.500</td><td>29.00 </td><td>36.5  </td><td>46.20 </td></tr>\n",
       "\t<tr><th scope=row>Medical and Health</th><td> 3.530</td><td> 5.760</td><td> 9.71 </td><td>14.0  </td><td>21.10 </td></tr>\n",
       "\t<tr><th scope=row>Personal Care</th><td> 1.040</td><td> 1.980</td><td> 2.45 </td><td> 3.4  </td><td> 5.40 </td></tr>\n",
       "\t<tr><th scope=row>Private Education</th><td> 0.341</td><td> 0.974</td><td> 1.80 </td><td> 2.6  </td><td> 3.64 </td></tr>\n",
       "</tbody>\n",
       "</table>\n"
      ],
      "text/latex": [
       "\\begin{tabular}{r|lllll}\n",
       "  & 1940 & 1945 & 1950 & 1955 & 1960\\\\\n",
       "\\hline\n",
       "\tFood and Tobacco & 22.200 & 44.500 & 59.60  & 73.2   & 86.80 \\\\\n",
       "\tHousehold Operation & 10.500 & 15.500 & 29.00  & 36.5   & 46.20 \\\\\n",
       "\tMedical and Health &  3.530 &  5.760 &  9.71  & 14.0   & 21.10 \\\\\n",
       "\tPersonal Care &  1.040 &  1.980 &  2.45  &  3.4   &  5.40 \\\\\n",
       "\tPrivate Education &  0.341 &  0.974 &  1.80  &  2.6   &  3.64 \\\\\n",
       "\\end{tabular}\n"
      ],
      "text/markdown": [
       "\n",
       "| <!--/--> | 1940 | 1945 | 1950 | 1955 | 1960 |\n",
       "|---|---|---|---|---|---|\n",
       "| Food and Tobacco | 22.200 | 44.500 | 59.60  | 73.2   | 86.80  |\n",
       "| Household Operation | 10.500 | 15.500 | 29.00  | 36.5   | 46.20  |\n",
       "| Medical and Health |  3.530 |  5.760 |  9.71  | 14.0   | 21.10  |\n",
       "| Personal Care |  1.040 |  1.980 |  2.45  |  3.4   |  5.40  |\n",
       "| Private Education |  0.341 |  0.974 |  1.80  |  2.6   |  3.64  |\n",
       "\n"
      ],
      "text/plain": [
       "                    1940   1945   1950  1955 1960 \n",
       "Food and Tobacco    22.200 44.500 59.60 73.2 86.80\n",
       "Household Operation 10.500 15.500 29.00 36.5 46.20\n",
       "Medical and Health   3.530  5.760  9.71 14.0 21.10\n",
       "Personal Care        1.040  1.980  2.45  3.4  5.40\n",
       "Private Education    0.341  0.974  1.80  2.6  3.64"
      ]
     },
     "metadata": {},
     "output_type": "display_data"
    }
   ],
   "source": [
    "USPersonalExpenditure"
   ]
  },
  {
   "cell_type": "code",
   "execution_count": 145,
   "metadata": {},
   "outputs": [],
   "source": [
    "# Mengetahui daftar built-in df\n",
    "data()"
   ]
  },
  {
   "cell_type": "code",
   "execution_count": 146,
   "metadata": {},
   "outputs": [
    {
     "data": {
      "text/html": [
       "<table>\n",
       "<thead><tr><th></th><th scope=col>Population</th><th scope=col>Income</th><th scope=col>Illiteracy</th><th scope=col>Life Exp</th><th scope=col>Murder</th><th scope=col>HS Grad</th><th scope=col>Frost</th><th scope=col>Area</th></tr></thead>\n",
       "<tbody>\n",
       "\t<tr><th scope=row>Alabama</th><td> 3615 </td><td>3624  </td><td>2.1   </td><td>69.05 </td><td>15.1  </td><td>41.3  </td><td> 20   </td><td> 50708</td></tr>\n",
       "\t<tr><th scope=row>Alaska</th><td>  365 </td><td>6315  </td><td>1.5   </td><td>69.31 </td><td>11.3  </td><td>66.7  </td><td>152   </td><td>566432</td></tr>\n",
       "\t<tr><th scope=row>Arizona</th><td> 2212 </td><td>4530  </td><td>1.8   </td><td>70.55 </td><td> 7.8  </td><td>58.1  </td><td> 15   </td><td>113417</td></tr>\n",
       "\t<tr><th scope=row>Arkansas</th><td> 2110 </td><td>3378  </td><td>1.9   </td><td>70.66 </td><td>10.1  </td><td>39.9  </td><td> 65   </td><td> 51945</td></tr>\n",
       "\t<tr><th scope=row>California</th><td>21198 </td><td>5114  </td><td>1.1   </td><td>71.71 </td><td>10.3  </td><td>62.6  </td><td> 20   </td><td>156361</td></tr>\n",
       "\t<tr><th scope=row>Colorado</th><td> 2541 </td><td>4884  </td><td>0.7   </td><td>72.06 </td><td> 6.8  </td><td>63.9  </td><td>166   </td><td>103766</td></tr>\n",
       "</tbody>\n",
       "</table>\n"
      ],
      "text/latex": [
       "\\begin{tabular}{r|llllllll}\n",
       "  & Population & Income & Illiteracy & Life Exp & Murder & HS Grad & Frost & Area\\\\\n",
       "\\hline\n",
       "\tAlabama &  3615  & 3624   & 2.1    & 69.05  & 15.1   & 41.3   &  20    &  50708\\\\\n",
       "\tAlaska &   365  & 6315   & 1.5    & 69.31  & 11.3   & 66.7   & 152    & 566432\\\\\n",
       "\tArizona &  2212  & 4530   & 1.8    & 70.55  &  7.8   & 58.1   &  15    & 113417\\\\\n",
       "\tArkansas &  2110  & 3378   & 1.9    & 70.66  & 10.1   & 39.9   &  65    &  51945\\\\\n",
       "\tCalifornia & 21198  & 5114   & 1.1    & 71.71  & 10.3   & 62.6   &  20    & 156361\\\\\n",
       "\tColorado &  2541  & 4884   & 0.7    & 72.06  &  6.8   & 63.9   & 166    & 103766\\\\\n",
       "\\end{tabular}\n"
      ],
      "text/markdown": [
       "\n",
       "| <!--/--> | Population | Income | Illiteracy | Life Exp | Murder | HS Grad | Frost | Area |\n",
       "|---|---|---|---|---|---|---|---|---|\n",
       "| Alabama |  3615  | 3624   | 2.1    | 69.05  | 15.1   | 41.3   |  20    |  50708 |\n",
       "| Alaska |   365  | 6315   | 1.5    | 69.31  | 11.3   | 66.7   | 152    | 566432 |\n",
       "| Arizona |  2212  | 4530   | 1.8    | 70.55  |  7.8   | 58.1   |  15    | 113417 |\n",
       "| Arkansas |  2110  | 3378   | 1.9    | 70.66  | 10.1   | 39.9   |  65    |  51945 |\n",
       "| California | 21198  | 5114   | 1.1    | 71.71  | 10.3   | 62.6   |  20    | 156361 |\n",
       "| Colorado |  2541  | 4884   | 0.7    | 72.06  |  6.8   | 63.9   | 166    | 103766 |\n",
       "\n"
      ],
      "text/plain": [
       "           Population Income Illiteracy Life Exp Murder HS Grad Frost Area  \n",
       "Alabama     3615      3624   2.1        69.05    15.1   41.3     20    50708\n",
       "Alaska       365      6315   1.5        69.31    11.3   66.7    152   566432\n",
       "Arizona     2212      4530   1.8        70.55     7.8   58.1     15   113417\n",
       "Arkansas    2110      3378   1.9        70.66    10.1   39.9     65    51945\n",
       "California 21198      5114   1.1        71.71    10.3   62.6     20   156361\n",
       "Colorado    2541      4884   0.7        72.06     6.8   63.9    166   103766"
      ]
     },
     "metadata": {},
     "output_type": "display_data"
    }
   ],
   "source": [
    "head(state.x77) # 6 baris pertama"
   ]
  },
  {
   "cell_type": "code",
   "execution_count": 147,
   "metadata": {},
   "outputs": [
    {
     "data": {
      "text/html": [
       "<table>\n",
       "<thead><tr><th></th><th scope=col>Population</th><th scope=col>Income</th><th scope=col>Illiteracy</th><th scope=col>Life Exp</th><th scope=col>Murder</th><th scope=col>HS Grad</th><th scope=col>Frost</th><th scope=col>Area</th></tr></thead>\n",
       "<tbody>\n",
       "\t<tr><th scope=row>Vermont</th><td> 472 </td><td>3907 </td><td>0.6  </td><td>71.64</td><td>5.5  </td><td>57.1 </td><td>168  </td><td> 9267</td></tr>\n",
       "\t<tr><th scope=row>Virginia</th><td>4981 </td><td>4701 </td><td>1.4  </td><td>70.08</td><td>9.5  </td><td>47.8 </td><td> 85  </td><td>39780</td></tr>\n",
       "\t<tr><th scope=row>Washington</th><td>3559 </td><td>4864 </td><td>0.6  </td><td>71.72</td><td>4.3  </td><td>63.5 </td><td> 32  </td><td>66570</td></tr>\n",
       "\t<tr><th scope=row>West Virginia</th><td>1799 </td><td>3617 </td><td>1.4  </td><td>69.48</td><td>6.7  </td><td>41.6 </td><td>100  </td><td>24070</td></tr>\n",
       "\t<tr><th scope=row>Wisconsin</th><td>4589 </td><td>4468 </td><td>0.7  </td><td>72.48</td><td>3.0  </td><td>54.5 </td><td>149  </td><td>54464</td></tr>\n",
       "\t<tr><th scope=row>Wyoming</th><td> 376 </td><td>4566 </td><td>0.6  </td><td>70.29</td><td>6.9  </td><td>62.9 </td><td>173  </td><td>97203</td></tr>\n",
       "</tbody>\n",
       "</table>\n"
      ],
      "text/latex": [
       "\\begin{tabular}{r|llllllll}\n",
       "  & Population & Income & Illiteracy & Life Exp & Murder & HS Grad & Frost & Area\\\\\n",
       "\\hline\n",
       "\tVermont &  472  & 3907  & 0.6   & 71.64 & 5.5   & 57.1  & 168   &  9267\\\\\n",
       "\tVirginia & 4981  & 4701  & 1.4   & 70.08 & 9.5   & 47.8  &  85   & 39780\\\\\n",
       "\tWashington & 3559  & 4864  & 0.6   & 71.72 & 4.3   & 63.5  &  32   & 66570\\\\\n",
       "\tWest Virginia & 1799  & 3617  & 1.4   & 69.48 & 6.7   & 41.6  & 100   & 24070\\\\\n",
       "\tWisconsin & 4589  & 4468  & 0.7   & 72.48 & 3.0   & 54.5  & 149   & 54464\\\\\n",
       "\tWyoming &  376  & 4566  & 0.6   & 70.29 & 6.9   & 62.9  & 173   & 97203\\\\\n",
       "\\end{tabular}\n"
      ],
      "text/markdown": [
       "\n",
       "| <!--/--> | Population | Income | Illiteracy | Life Exp | Murder | HS Grad | Frost | Area |\n",
       "|---|---|---|---|---|---|---|---|---|\n",
       "| Vermont |  472  | 3907  | 0.6   | 71.64 | 5.5   | 57.1  | 168   |  9267 |\n",
       "| Virginia | 4981  | 4701  | 1.4   | 70.08 | 9.5   | 47.8  |  85   | 39780 |\n",
       "| Washington | 3559  | 4864  | 0.6   | 71.72 | 4.3   | 63.5  |  32   | 66570 |\n",
       "| West Virginia | 1799  | 3617  | 1.4   | 69.48 | 6.7   | 41.6  | 100   | 24070 |\n",
       "| Wisconsin | 4589  | 4468  | 0.7   | 72.48 | 3.0   | 54.5  | 149   | 54464 |\n",
       "| Wyoming |  376  | 4566  | 0.6   | 70.29 | 6.9   | 62.9  | 173   | 97203 |\n",
       "\n"
      ],
      "text/plain": [
       "              Population Income Illiteracy Life Exp Murder HS Grad Frost Area \n",
       "Vermont        472       3907   0.6        71.64    5.5    57.1    168    9267\n",
       "Virginia      4981       4701   1.4        70.08    9.5    47.8     85   39780\n",
       "Washington    3559       4864   0.6        71.72    4.3    63.5     32   66570\n",
       "West Virginia 1799       3617   1.4        69.48    6.7    41.6    100   24070\n",
       "Wisconsin     4589       4468   0.7        72.48    3.0    54.5    149   54464\n",
       "Wyoming        376       4566   0.6        70.29    6.9    62.9    173   97203"
      ]
     },
     "metadata": {},
     "output_type": "display_data"
    }
   ],
   "source": [
    "tail(state.x77) # 6 baris terakhir"
   ]
  },
  {
   "cell_type": "code",
   "execution_count": 148,
   "metadata": {},
   "outputs": [
    {
     "name": "stdout",
     "output_type": "stream",
     "text": [
      " num [1:50, 1:8] 3615 365 2212 2110 21198 ...\n",
      " - attr(*, \"dimnames\")=List of 2\n",
      "  ..$ : chr [1:50] \"Alabama\" \"Alaska\" \"Arizona\" \"Arkansas\" ...\n",
      "  ..$ : chr [1:8] \"Population\" \"Income\" \"Illiteracy\" \"Life Exp\" ...\n"
     ]
    }
   ],
   "source": [
    "str(state.x77) # struktur dari df"
   ]
  },
  {
   "cell_type": "code",
   "execution_count": 149,
   "metadata": {},
   "outputs": [
    {
     "data": {
      "text/plain": [
       "   Population        Income       Illiteracy       Life Exp    \n",
       " Min.   :  365   Min.   :3098   Min.   :0.500   Min.   :67.96  \n",
       " 1st Qu.: 1080   1st Qu.:3993   1st Qu.:0.625   1st Qu.:70.12  \n",
       " Median : 2838   Median :4519   Median :0.950   Median :70.67  \n",
       " Mean   : 4246   Mean   :4436   Mean   :1.170   Mean   :70.88  \n",
       " 3rd Qu.: 4968   3rd Qu.:4814   3rd Qu.:1.575   3rd Qu.:71.89  \n",
       " Max.   :21198   Max.   :6315   Max.   :2.800   Max.   :73.60  \n",
       "     Murder          HS Grad          Frost             Area       \n",
       " Min.   : 1.400   Min.   :37.80   Min.   :  0.00   Min.   :  1049  \n",
       " 1st Qu.: 4.350   1st Qu.:48.05   1st Qu.: 66.25   1st Qu.: 36985  \n",
       " Median : 6.850   Median :53.25   Median :114.50   Median : 54277  \n",
       " Mean   : 7.378   Mean   :53.11   Mean   :104.46   Mean   : 70736  \n",
       " 3rd Qu.:10.675   3rd Qu.:59.15   3rd Qu.:139.75   3rd Qu.: 81162  \n",
       " Max.   :15.100   Max.   :67.30   Max.   :188.00   Max.   :566432  "
      ]
     },
     "metadata": {},
     "output_type": "display_data"
    }
   ],
   "source": [
    "summary(state.x77) # sari statistik dari df berdasarkan kolom"
   ]
  },
  {
   "cell_type": "code",
   "execution_count": 150,
   "metadata": {},
   "outputs": [],
   "source": [
    "# mendefinisikan df\n",
    "nama <- c('Agus', 'Sugio', 'Bayu', 'Atmo', 'Roy')\n",
    "umur <- c(42,35,37,28,27)\n",
    "kawin <- c(F,F,T,F,T)"
   ]
  },
  {
   "cell_type": "code",
   "execution_count": 151,
   "metadata": {},
   "outputs": [
    {
     "data": {
      "text/html": [
       "<table>\n",
       "<thead><tr><th scope=col>nama</th><th scope=col>umur</th><th scope=col>kawin</th></tr></thead>\n",
       "<tbody>\n",
       "\t<tr><td>Agus </td><td>42   </td><td>FALSE</td></tr>\n",
       "\t<tr><td>Sugio</td><td>35   </td><td>FALSE</td></tr>\n",
       "\t<tr><td>Bayu </td><td>37   </td><td> TRUE</td></tr>\n",
       "\t<tr><td>Atmo </td><td>28   </td><td>FALSE</td></tr>\n",
       "\t<tr><td>Roy  </td><td>27   </td><td> TRUE</td></tr>\n",
       "</tbody>\n",
       "</table>\n"
      ],
      "text/latex": [
       "\\begin{tabular}{r|lll}\n",
       " nama & umur & kawin\\\\\n",
       "\\hline\n",
       "\t Agus  & 42    & FALSE\\\\\n",
       "\t Sugio & 35    & FALSE\\\\\n",
       "\t Bayu  & 37    &  TRUE\\\\\n",
       "\t Atmo  & 28    & FALSE\\\\\n",
       "\t Roy   & 27    &  TRUE\\\\\n",
       "\\end{tabular}\n"
      ],
      "text/markdown": [
       "\n",
       "| nama | umur | kawin |\n",
       "|---|---|---|\n",
       "| Agus  | 42    | FALSE |\n",
       "| Sugio | 35    | FALSE |\n",
       "| Bayu  | 37    |  TRUE |\n",
       "| Atmo  | 28    | FALSE |\n",
       "| Roy   | 27    |  TRUE |\n",
       "\n"
      ],
      "text/plain": [
       "  nama  umur kawin\n",
       "1 Agus  42   FALSE\n",
       "2 Sugio 35   FALSE\n",
       "3 Bayu  37    TRUE\n",
       "4 Atmo  28   FALSE\n",
       "5 Roy   27    TRUE"
      ]
     },
     "metadata": {},
     "output_type": "display_data"
    }
   ],
   "source": [
    "data.frame(nama, umur, kawin)"
   ]
  },
  {
   "cell_type": "code",
   "execution_count": 152,
   "metadata": {},
   "outputs": [
    {
     "data": {
      "text/html": [
       "<table>\n",
       "<thead><tr><th scope=col>nama</th><th scope=col>umur</th><th scope=col>kawin</th></tr></thead>\n",
       "<tbody>\n",
       "\t<tr><td>Agus </td><td>42   </td><td>FALSE</td></tr>\n",
       "\t<tr><td>Sugio</td><td>35   </td><td>FALSE</td></tr>\n",
       "\t<tr><td>Bayu </td><td>37   </td><td> TRUE</td></tr>\n",
       "\t<tr><td>Atmo </td><td>28   </td><td>FALSE</td></tr>\n",
       "\t<tr><td>Roy  </td><td>27   </td><td> TRUE</td></tr>\n",
       "</tbody>\n",
       "</table>\n"
      ],
      "text/latex": [
       "\\begin{tabular}{r|lll}\n",
       " nama & umur & kawin\\\\\n",
       "\\hline\n",
       "\t Agus  & 42    & FALSE\\\\\n",
       "\t Sugio & 35    & FALSE\\\\\n",
       "\t Bayu  & 37    &  TRUE\\\\\n",
       "\t Atmo  & 28    & FALSE\\\\\n",
       "\t Roy   & 27    &  TRUE\\\\\n",
       "\\end{tabular}\n"
      ],
      "text/markdown": [
       "\n",
       "| nama | umur | kawin |\n",
       "|---|---|---|\n",
       "| Agus  | 42    | FALSE |\n",
       "| Sugio | 35    | FALSE |\n",
       "| Bayu  | 37    |  TRUE |\n",
       "| Atmo  | 28    | FALSE |\n",
       "| Roy   | 27    |  TRUE |\n",
       "\n"
      ],
      "text/plain": [
       "  nama  umur kawin\n",
       "1 Agus  42   FALSE\n",
       "2 Sugio 35   FALSE\n",
       "3 Bayu  37    TRUE\n",
       "4 Atmo  28   FALSE\n",
       "5 Roy   27    TRUE"
      ]
     },
     "metadata": {},
     "output_type": "display_data"
    }
   ],
   "source": [
    "df <- data.frame(nama, umur, kawin)\n",
    "df"
   ]
  },
  {
   "cell_type": "code",
   "execution_count": 153,
   "metadata": {},
   "outputs": [
    {
     "name": "stdout",
     "output_type": "stream",
     "text": [
      "'data.frame':\t5 obs. of  3 variables:\n",
      " $ nama : Factor w/ 5 levels \"Agus\",\"Atmo\",..: 1 5 3 2 4\n",
      " $ umur : num  42 35 37 28 27\n",
      " $ kawin: logi  FALSE FALSE TRUE FALSE TRUE\n"
     ]
    }
   ],
   "source": [
    "str(df)"
   ]
  },
  {
   "cell_type": "code",
   "execution_count": 154,
   "metadata": {},
   "outputs": [
    {
     "data": {
      "text/plain": [
       "    nama        umur        kawin        \n",
       " Agus :1   Min.   :27.0   Mode :logical  \n",
       " Atmo :1   1st Qu.:28.0   FALSE:3        \n",
       " Bayu :1   Median :35.0   TRUE :2        \n",
       " Roy  :1   Mean   :33.8                  \n",
       " Sugio:1   3rd Qu.:37.0                  \n",
       "           Max.   :42.0                  "
      ]
     },
     "metadata": {},
     "output_type": "display_data"
    }
   ],
   "source": [
    "summary(df)"
   ]
  },
  {
   "cell_type": "markdown",
   "metadata": {},
   "source": [
    "## Seleksi dan pengindeksan Data Frame"
   ]
  },
  {
   "cell_type": "code",
   "execution_count": 155,
   "metadata": {},
   "outputs": [
    {
     "data": {
      "text/html": [
       "<table>\n",
       "<thead><tr><th scope=col>nama</th><th scope=col>umur</th><th scope=col>kawin</th></tr></thead>\n",
       "<tbody>\n",
       "\t<tr><td>Agus </td><td>42   </td><td>FALSE</td></tr>\n",
       "\t<tr><td>Sugio</td><td>35   </td><td>FALSE</td></tr>\n",
       "\t<tr><td>Bayu </td><td>37   </td><td> TRUE</td></tr>\n",
       "\t<tr><td>Atmo </td><td>28   </td><td>FALSE</td></tr>\n",
       "\t<tr><td>Roy  </td><td>27   </td><td> TRUE</td></tr>\n",
       "</tbody>\n",
       "</table>\n"
      ],
      "text/latex": [
       "\\begin{tabular}{r|lll}\n",
       " nama & umur & kawin\\\\\n",
       "\\hline\n",
       "\t Agus  & 42    & FALSE\\\\\n",
       "\t Sugio & 35    & FALSE\\\\\n",
       "\t Bayu  & 37    &  TRUE\\\\\n",
       "\t Atmo  & 28    & FALSE\\\\\n",
       "\t Roy   & 27    &  TRUE\\\\\n",
       "\\end{tabular}\n"
      ],
      "text/markdown": [
       "\n",
       "| nama | umur | kawin |\n",
       "|---|---|---|\n",
       "| Agus  | 42    | FALSE |\n",
       "| Sugio | 35    | FALSE |\n",
       "| Bayu  | 37    |  TRUE |\n",
       "| Atmo  | 28    | FALSE |\n",
       "| Roy   | 27    |  TRUE |\n",
       "\n"
      ],
      "text/plain": [
       "  nama  umur kawin\n",
       "1 Agus  42   FALSE\n",
       "2 Sugio 35   FALSE\n",
       "3 Bayu  37    TRUE\n",
       "4 Atmo  28   FALSE\n",
       "5 Roy   27    TRUE"
      ]
     },
     "metadata": {},
     "output_type": "display_data"
    }
   ],
   "source": [
    "df"
   ]
  },
  {
   "cell_type": "code",
   "execution_count": 156,
   "metadata": {},
   "outputs": [
    {
     "data": {
      "text/html": [
       "<table>\n",
       "<thead><tr><th></th><th scope=col>nama</th><th scope=col>umur</th><th scope=col>kawin</th></tr></thead>\n",
       "<tbody>\n",
       "\t<tr><th scope=row>3</th><td>Bayu</td><td>37  </td><td>TRUE</td></tr>\n",
       "</tbody>\n",
       "</table>\n"
      ],
      "text/latex": [
       "\\begin{tabular}{r|lll}\n",
       "  & nama & umur & kawin\\\\\n",
       "\\hline\n",
       "\t3 & Bayu & 37   & TRUE\\\\\n",
       "\\end{tabular}\n"
      ],
      "text/markdown": [
       "\n",
       "| <!--/--> | nama | umur | kawin |\n",
       "|---|---|---|---|\n",
       "| 3 | Bayu | 37   | TRUE |\n",
       "\n"
      ],
      "text/plain": [
       "  nama umur kawin\n",
       "3 Bayu 37   TRUE "
      ]
     },
     "metadata": {},
     "output_type": "display_data"
    }
   ],
   "source": [
    "df[3, ] # ambil baris ketiga"
   ]
  },
  {
   "cell_type": "code",
   "execution_count": 157,
   "metadata": {},
   "outputs": [
    {
     "data": {
      "text/html": [
       "<ol class=list-inline>\n",
       "\t<li>Agus</li>\n",
       "\t<li>Sugio</li>\n",
       "\t<li>Bayu</li>\n",
       "\t<li>Atmo</li>\n",
       "\t<li>Roy</li>\n",
       "</ol>\n",
       "\n",
       "<details>\n",
       "\t<summary style=display:list-item;cursor:pointer>\n",
       "\t\t<strong>Levels</strong>:\n",
       "\t</summary>\n",
       "\t<ol class=list-inline>\n",
       "\t\t<li>'Agus'</li>\n",
       "\t\t<li>'Atmo'</li>\n",
       "\t\t<li>'Bayu'</li>\n",
       "\t\t<li>'Roy'</li>\n",
       "\t\t<li>'Sugio'</li>\n",
       "\t</ol>\n",
       "</details>"
      ],
      "text/latex": [
       "\\begin{enumerate*}\n",
       "\\item Agus\n",
       "\\item Sugio\n",
       "\\item Bayu\n",
       "\\item Atmo\n",
       "\\item Roy\n",
       "\\end{enumerate*}\n",
       "\n",
       "\\emph{Levels}: \\begin{enumerate*}\n",
       "\\item 'Agus'\n",
       "\\item 'Atmo'\n",
       "\\item 'Bayu'\n",
       "\\item 'Roy'\n",
       "\\item 'Sugio'\n",
       "\\end{enumerate*}\n"
      ],
      "text/markdown": [
       "1. Agus\n",
       "2. Sugio\n",
       "3. Bayu\n",
       "4. Atmo\n",
       "5. Roy\n",
       "\n",
       "\n",
       "\n",
       "**Levels**: 1. 'Agus'\n",
       "2. 'Atmo'\n",
       "3. 'Bayu'\n",
       "4. 'Roy'\n",
       "5. 'Sugio'\n",
       "\n",
       "\n"
      ],
      "text/plain": [
       "[1] Agus  Sugio Bayu  Atmo  Roy  \n",
       "Levels: Agus Atmo Bayu Roy Sugio"
      ]
     },
     "metadata": {},
     "output_type": "display_data"
    }
   ],
   "source": [
    "df[,1]"
   ]
  },
  {
   "cell_type": "code",
   "execution_count": 158,
   "metadata": {},
   "outputs": [
    {
     "data": {
      "text/html": [
       "<ol class=list-inline>\n",
       "\t<li>Agus</li>\n",
       "\t<li>Sugio</li>\n",
       "\t<li>Bayu</li>\n",
       "\t<li>Atmo</li>\n",
       "\t<li>Roy</li>\n",
       "</ol>\n",
       "\n",
       "<details>\n",
       "\t<summary style=display:list-item;cursor:pointer>\n",
       "\t\t<strong>Levels</strong>:\n",
       "\t</summary>\n",
       "\t<ol class=list-inline>\n",
       "\t\t<li>'Agus'</li>\n",
       "\t\t<li>'Atmo'</li>\n",
       "\t\t<li>'Bayu'</li>\n",
       "\t\t<li>'Roy'</li>\n",
       "\t\t<li>'Sugio'</li>\n",
       "\t</ol>\n",
       "</details>"
      ],
      "text/latex": [
       "\\begin{enumerate*}\n",
       "\\item Agus\n",
       "\\item Sugio\n",
       "\\item Bayu\n",
       "\\item Atmo\n",
       "\\item Roy\n",
       "\\end{enumerate*}\n",
       "\n",
       "\\emph{Levels}: \\begin{enumerate*}\n",
       "\\item 'Agus'\n",
       "\\item 'Atmo'\n",
       "\\item 'Bayu'\n",
       "\\item 'Roy'\n",
       "\\item 'Sugio'\n",
       "\\end{enumerate*}\n"
      ],
      "text/markdown": [
       "1. Agus\n",
       "2. Sugio\n",
       "3. Bayu\n",
       "4. Atmo\n",
       "5. Roy\n",
       "\n",
       "\n",
       "\n",
       "**Levels**: 1. 'Agus'\n",
       "2. 'Atmo'\n",
       "3. 'Bayu'\n",
       "4. 'Roy'\n",
       "5. 'Sugio'\n",
       "\n",
       "\n"
      ],
      "text/plain": [
       "[1] Agus  Sugio Bayu  Atmo  Roy  \n",
       "Levels: Agus Atmo Bayu Roy Sugio"
      ]
     },
     "metadata": {},
     "output_type": "display_data"
    }
   ],
   "source": [
    "df[,'nama']"
   ]
  },
  {
   "cell_type": "code",
   "execution_count": 159,
   "metadata": {},
   "outputs": [
    {
     "data": {
      "text/html": [
       "<table>\n",
       "<thead><tr><th scope=col>nama</th><th scope=col>umur</th></tr></thead>\n",
       "<tbody>\n",
       "\t<tr><td>Agus </td><td>42   </td></tr>\n",
       "\t<tr><td>Sugio</td><td>35   </td></tr>\n",
       "\t<tr><td>Bayu </td><td>37   </td></tr>\n",
       "\t<tr><td>Atmo </td><td>28   </td></tr>\n",
       "</tbody>\n",
       "</table>\n"
      ],
      "text/latex": [
       "\\begin{tabular}{r|ll}\n",
       " nama & umur\\\\\n",
       "\\hline\n",
       "\t Agus  & 42   \\\\\n",
       "\t Sugio & 35   \\\\\n",
       "\t Bayu  & 37   \\\\\n",
       "\t Atmo  & 28   \\\\\n",
       "\\end{tabular}\n"
      ],
      "text/markdown": [
       "\n",
       "| nama | umur |\n",
       "|---|---|\n",
       "| Agus  | 42    |\n",
       "| Sugio | 35    |\n",
       "| Bayu  | 37    |\n",
       "| Atmo  | 28    |\n",
       "\n"
      ],
      "text/plain": [
       "  nama  umur\n",
       "1 Agus  42  \n",
       "2 Sugio 35  \n",
       "3 Bayu  37  \n",
       "4 Atmo  28  "
      ]
     },
     "metadata": {},
     "output_type": "display_data"
    }
   ],
   "source": [
    "df[1:4, c('nama', 'umur')]"
   ]
  },
  {
   "cell_type": "code",
   "execution_count": 160,
   "metadata": {},
   "outputs": [
    {
     "data": {
      "text/html": [
       "<ol class=list-inline>\n",
       "\t<li>42</li>\n",
       "\t<li>35</li>\n",
       "\t<li>37</li>\n",
       "\t<li>28</li>\n",
       "\t<li>27</li>\n",
       "</ol>\n"
      ],
      "text/latex": [
       "\\begin{enumerate*}\n",
       "\\item 42\n",
       "\\item 35\n",
       "\\item 37\n",
       "\\item 28\n",
       "\\item 27\n",
       "\\end{enumerate*}\n"
      ],
      "text/markdown": [
       "1. 42\n",
       "2. 35\n",
       "3. 37\n",
       "4. 28\n",
       "5. 27\n",
       "\n",
       "\n"
      ],
      "text/plain": [
       "[1] 42 35 37 28 27"
      ]
     },
     "metadata": {},
     "output_type": "display_data"
    }
   ],
   "source": [
    "df$umur"
   ]
  },
  {
   "cell_type": "code",
   "execution_count": 161,
   "metadata": {},
   "outputs": [
    {
     "data": {
      "text/html": [
       "<ol class=list-inline>\n",
       "\t<li>42</li>\n",
       "\t<li>35</li>\n",
       "\t<li>37</li>\n",
       "\t<li>28</li>\n",
       "\t<li>27</li>\n",
       "</ol>\n"
      ],
      "text/latex": [
       "\\begin{enumerate*}\n",
       "\\item 42\n",
       "\\item 35\n",
       "\\item 37\n",
       "\\item 28\n",
       "\\item 27\n",
       "\\end{enumerate*}\n"
      ],
      "text/markdown": [
       "1. 42\n",
       "2. 35\n",
       "3. 37\n",
       "4. 28\n",
       "5. 27\n",
       "\n",
       "\n"
      ],
      "text/plain": [
       "[1] 42 35 37 28 27"
      ]
     },
     "metadata": {},
     "output_type": "display_data"
    }
   ],
   "source": [
    "df[,'umur']"
   ]
  },
  {
   "cell_type": "code",
   "execution_count": 162,
   "metadata": {},
   "outputs": [
    {
     "data": {
      "text/html": [
       "<table>\n",
       "<thead><tr><th scope=col>nama</th><th scope=col>umur</th><th scope=col>kawin</th></tr></thead>\n",
       "<tbody>\n",
       "\t<tr><td>Agus </td><td>42   </td><td>FALSE</td></tr>\n",
       "\t<tr><td>Sugio</td><td>35   </td><td>FALSE</td></tr>\n",
       "\t<tr><td>Bayu </td><td>37   </td><td> TRUE</td></tr>\n",
       "\t<tr><td>Atmo </td><td>28   </td><td>FALSE</td></tr>\n",
       "\t<tr><td>Roy  </td><td>27   </td><td> TRUE</td></tr>\n",
       "</tbody>\n",
       "</table>\n"
      ],
      "text/latex": [
       "\\begin{tabular}{r|lll}\n",
       " nama & umur & kawin\\\\\n",
       "\\hline\n",
       "\t Agus  & 42    & FALSE\\\\\n",
       "\t Sugio & 35    & FALSE\\\\\n",
       "\t Bayu  & 37    &  TRUE\\\\\n",
       "\t Atmo  & 28    & FALSE\\\\\n",
       "\t Roy   & 27    &  TRUE\\\\\n",
       "\\end{tabular}\n"
      ],
      "text/markdown": [
       "\n",
       "| nama | umur | kawin |\n",
       "|---|---|---|\n",
       "| Agus  | 42    | FALSE |\n",
       "| Sugio | 35    | FALSE |\n",
       "| Bayu  | 37    |  TRUE |\n",
       "| Atmo  | 28    | FALSE |\n",
       "| Roy   | 27    |  TRUE |\n",
       "\n"
      ],
      "text/plain": [
       "  nama  umur kawin\n",
       "1 Agus  42   FALSE\n",
       "2 Sugio 35   FALSE\n",
       "3 Bayu  37    TRUE\n",
       "4 Atmo  28   FALSE\n",
       "5 Roy   27    TRUE"
      ]
     },
     "metadata": {},
     "output_type": "display_data"
    }
   ],
   "source": [
    "# fungsi subset\n",
    "df"
   ]
  },
  {
   "cell_type": "code",
   "execution_count": 163,
   "metadata": {},
   "outputs": [
    {
     "data": {
      "text/html": [
       "<table>\n",
       "<thead><tr><th></th><th scope=col>nama</th><th scope=col>umur</th><th scope=col>kawin</th></tr></thead>\n",
       "<tbody>\n",
       "\t<tr><th scope=row>3</th><td>Bayu</td><td>37  </td><td>TRUE</td></tr>\n",
       "\t<tr><th scope=row>5</th><td>Roy </td><td>27  </td><td>TRUE</td></tr>\n",
       "</tbody>\n",
       "</table>\n"
      ],
      "text/latex": [
       "\\begin{tabular}{r|lll}\n",
       "  & nama & umur & kawin\\\\\n",
       "\\hline\n",
       "\t3 & Bayu & 37   & TRUE\\\\\n",
       "\t5 & Roy  & 27   & TRUE\\\\\n",
       "\\end{tabular}\n"
      ],
      "text/markdown": [
       "\n",
       "| <!--/--> | nama | umur | kawin |\n",
       "|---|---|---|---|\n",
       "| 3 | Bayu | 37   | TRUE |\n",
       "| 5 | Roy  | 27   | TRUE |\n",
       "\n"
      ],
      "text/plain": [
       "  nama umur kawin\n",
       "3 Bayu 37   TRUE \n",
       "5 Roy  27   TRUE "
      ]
     },
     "metadata": {},
     "output_type": "display_data"
    }
   ],
   "source": [
    "subset(df,subset = kawin == T) "
   ]
  },
  {
   "cell_type": "code",
   "execution_count": 164,
   "metadata": {},
   "outputs": [
    {
     "data": {
      "text/html": [
       "<table>\n",
       "<thead><tr><th scope=col>nama</th><th scope=col>umur</th><th scope=col>kawin</th></tr></thead>\n",
       "<tbody>\n",
       "\t<tr><td>Agus </td><td>42   </td><td>FALSE</td></tr>\n",
       "\t<tr><td>Sugio</td><td>35   </td><td>FALSE</td></tr>\n",
       "\t<tr><td>Bayu </td><td>37   </td><td> TRUE</td></tr>\n",
       "</tbody>\n",
       "</table>\n"
      ],
      "text/latex": [
       "\\begin{tabular}{r|lll}\n",
       " nama & umur & kawin\\\\\n",
       "\\hline\n",
       "\t Agus  & 42    & FALSE\\\\\n",
       "\t Sugio & 35    & FALSE\\\\\n",
       "\t Bayu  & 37    &  TRUE\\\\\n",
       "\\end{tabular}\n"
      ],
      "text/markdown": [
       "\n",
       "| nama | umur | kawin |\n",
       "|---|---|---|\n",
       "| Agus  | 42    | FALSE |\n",
       "| Sugio | 35    | FALSE |\n",
       "| Bayu  | 37    |  TRUE |\n",
       "\n"
      ],
      "text/plain": [
       "  nama  umur kawin\n",
       "1 Agus  42   FALSE\n",
       "2 Sugio 35   FALSE\n",
       "3 Bayu  37    TRUE"
      ]
     },
     "metadata": {},
     "output_type": "display_data"
    }
   ],
   "source": [
    "subset(df, subset = umur > 30)"
   ]
  },
  {
   "cell_type": "code",
   "execution_count": 165,
   "metadata": {},
   "outputs": [
    {
     "data": {
      "text/html": [
       "<ol class=list-inline>\n",
       "\t<li>5</li>\n",
       "\t<li>4</li>\n",
       "\t<li>2</li>\n",
       "\t<li>3</li>\n",
       "\t<li>1</li>\n",
       "</ol>\n"
      ],
      "text/latex": [
       "\\begin{enumerate*}\n",
       "\\item 5\n",
       "\\item 4\n",
       "\\item 2\n",
       "\\item 3\n",
       "\\item 1\n",
       "\\end{enumerate*}\n"
      ],
      "text/markdown": [
       "1. 5\n",
       "2. 4\n",
       "3. 2\n",
       "4. 3\n",
       "5. 1\n",
       "\n",
       "\n"
      ],
      "text/plain": [
       "[1] 5 4 2 3 1"
      ]
     },
     "metadata": {},
     "output_type": "display_data"
    }
   ],
   "source": [
    "# Mengurutkan dataframe\n",
    "urut.umur <- order(df['umur'])\n",
    "urut.umur"
   ]
  },
  {
   "cell_type": "code",
   "execution_count": 166,
   "metadata": {},
   "outputs": [
    {
     "data": {
      "text/html": [
       "<table>\n",
       "<thead><tr><th></th><th scope=col>nama</th><th scope=col>umur</th><th scope=col>kawin</th></tr></thead>\n",
       "<tbody>\n",
       "\t<tr><th scope=row>5</th><td>Roy  </td><td>27   </td><td> TRUE</td></tr>\n",
       "\t<tr><th scope=row>4</th><td>Atmo </td><td>28   </td><td>FALSE</td></tr>\n",
       "\t<tr><th scope=row>2</th><td>Sugio</td><td>35   </td><td>FALSE</td></tr>\n",
       "\t<tr><th scope=row>3</th><td>Bayu </td><td>37   </td><td> TRUE</td></tr>\n",
       "\t<tr><th scope=row>1</th><td>Agus </td><td>42   </td><td>FALSE</td></tr>\n",
       "</tbody>\n",
       "</table>\n"
      ],
      "text/latex": [
       "\\begin{tabular}{r|lll}\n",
       "  & nama & umur & kawin\\\\\n",
       "\\hline\n",
       "\t5 & Roy   & 27    &  TRUE\\\\\n",
       "\t4 & Atmo  & 28    & FALSE\\\\\n",
       "\t2 & Sugio & 35    & FALSE\\\\\n",
       "\t3 & Bayu  & 37    &  TRUE\\\\\n",
       "\t1 & Agus  & 42    & FALSE\\\\\n",
       "\\end{tabular}\n"
      ],
      "text/markdown": [
       "\n",
       "| <!--/--> | nama | umur | kawin |\n",
       "|---|---|---|---|\n",
       "| 5 | Roy   | 27    |  TRUE |\n",
       "| 4 | Atmo  | 28    | FALSE |\n",
       "| 2 | Sugio | 35    | FALSE |\n",
       "| 3 | Bayu  | 37    |  TRUE |\n",
       "| 1 | Agus  | 42    | FALSE |\n",
       "\n"
      ],
      "text/plain": [
       "  nama  umur kawin\n",
       "5 Roy   27    TRUE\n",
       "4 Atmo  28   FALSE\n",
       "2 Sugio 35   FALSE\n",
       "3 Bayu  37    TRUE\n",
       "1 Agus  42   FALSE"
      ]
     },
     "metadata": {},
     "output_type": "display_data"
    }
   ],
   "source": [
    "df[urut.umur,]"
   ]
  },
  {
   "cell_type": "code",
   "execution_count": 167,
   "metadata": {},
   "outputs": [
    {
     "data": {
      "text/html": [
       "<ol class=list-inline>\n",
       "\t<li>1</li>\n",
       "\t<li>3</li>\n",
       "\t<li>2</li>\n",
       "\t<li>4</li>\n",
       "\t<li>5</li>\n",
       "</ol>\n"
      ],
      "text/latex": [
       "\\begin{enumerate*}\n",
       "\\item 1\n",
       "\\item 3\n",
       "\\item 2\n",
       "\\item 4\n",
       "\\item 5\n",
       "\\end{enumerate*}\n"
      ],
      "text/markdown": [
       "1. 1\n",
       "2. 3\n",
       "3. 2\n",
       "4. 4\n",
       "5. 5\n",
       "\n",
       "\n"
      ],
      "text/plain": [
       "[1] 1 3 2 4 5"
      ]
     },
     "metadata": {},
     "output_type": "display_data"
    }
   ],
   "source": [
    "umur.terbalik <- order(-df['umur'])\n",
    "umur.terbalik"
   ]
  },
  {
   "cell_type": "code",
   "execution_count": 168,
   "metadata": {},
   "outputs": [
    {
     "data": {
      "text/html": [
       "<table>\n",
       "<thead><tr><th></th><th scope=col>nama</th><th scope=col>umur</th><th scope=col>kawin</th></tr></thead>\n",
       "<tbody>\n",
       "\t<tr><th scope=row>1</th><td>Agus </td><td>42   </td><td>FALSE</td></tr>\n",
       "\t<tr><th scope=row>3</th><td>Bayu </td><td>37   </td><td> TRUE</td></tr>\n",
       "\t<tr><th scope=row>2</th><td>Sugio</td><td>35   </td><td>FALSE</td></tr>\n",
       "\t<tr><th scope=row>4</th><td>Atmo </td><td>28   </td><td>FALSE</td></tr>\n",
       "\t<tr><th scope=row>5</th><td>Roy  </td><td>27   </td><td> TRUE</td></tr>\n",
       "</tbody>\n",
       "</table>\n"
      ],
      "text/latex": [
       "\\begin{tabular}{r|lll}\n",
       "  & nama & umur & kawin\\\\\n",
       "\\hline\n",
       "\t1 & Agus  & 42    & FALSE\\\\\n",
       "\t3 & Bayu  & 37    &  TRUE\\\\\n",
       "\t2 & Sugio & 35    & FALSE\\\\\n",
       "\t4 & Atmo  & 28    & FALSE\\\\\n",
       "\t5 & Roy   & 27    &  TRUE\\\\\n",
       "\\end{tabular}\n"
      ],
      "text/markdown": [
       "\n",
       "| <!--/--> | nama | umur | kawin |\n",
       "|---|---|---|---|\n",
       "| 1 | Agus  | 42    | FALSE |\n",
       "| 3 | Bayu  | 37    |  TRUE |\n",
       "| 2 | Sugio | 35    | FALSE |\n",
       "| 4 | Atmo  | 28    | FALSE |\n",
       "| 5 | Roy   | 27    |  TRUE |\n",
       "\n"
      ],
      "text/plain": [
       "  nama  umur kawin\n",
       "1 Agus  42   FALSE\n",
       "3 Bayu  37    TRUE\n",
       "2 Sugio 35   FALSE\n",
       "4 Atmo  28   FALSE\n",
       "5 Roy   27    TRUE"
      ]
     },
     "metadata": {},
     "output_type": "display_data"
    }
   ],
   "source": [
    "df[umur.terbalik,]"
   ]
  },
  {
   "cell_type": "code",
   "execution_count": 169,
   "metadata": {},
   "outputs": [
    {
     "data": {
      "text/html": [
       "<table>\n",
       "<thead><tr><th></th><th scope=col>nama</th><th scope=col>umur</th><th scope=col>kawin</th></tr></thead>\n",
       "<tbody>\n",
       "\t<tr><th scope=row>5</th><td>Roy  </td><td>27   </td><td> TRUE</td></tr>\n",
       "\t<tr><th scope=row>4</th><td>Atmo </td><td>28   </td><td>FALSE</td></tr>\n",
       "\t<tr><th scope=row>2</th><td>Sugio</td><td>35   </td><td>FALSE</td></tr>\n",
       "\t<tr><th scope=row>3</th><td>Bayu </td><td>37   </td><td> TRUE</td></tr>\n",
       "\t<tr><th scope=row>1</th><td>Agus </td><td>42   </td><td>FALSE</td></tr>\n",
       "</tbody>\n",
       "</table>\n"
      ],
      "text/latex": [
       "\\begin{tabular}{r|lll}\n",
       "  & nama & umur & kawin\\\\\n",
       "\\hline\n",
       "\t5 & Roy   & 27    &  TRUE\\\\\n",
       "\t4 & Atmo  & 28    & FALSE\\\\\n",
       "\t2 & Sugio & 35    & FALSE\\\\\n",
       "\t3 & Bayu  & 37    &  TRUE\\\\\n",
       "\t1 & Agus  & 42    & FALSE\\\\\n",
       "\\end{tabular}\n"
      ],
      "text/markdown": [
       "\n",
       "| <!--/--> | nama | umur | kawin |\n",
       "|---|---|---|---|\n",
       "| 5 | Roy   | 27    |  TRUE |\n",
       "| 4 | Atmo  | 28    | FALSE |\n",
       "| 2 | Sugio | 35    | FALSE |\n",
       "| 3 | Bayu  | 37    |  TRUE |\n",
       "| 1 | Agus  | 42    | FALSE |\n",
       "\n"
      ],
      "text/plain": [
       "  nama  umur kawin\n",
       "5 Roy   27    TRUE\n",
       "4 Atmo  28   FALSE\n",
       "2 Sugio 35   FALSE\n",
       "3 Bayu  37    TRUE\n",
       "1 Agus  42   FALSE"
      ]
     },
     "metadata": {},
     "output_type": "display_data"
    }
   ],
   "source": [
    "urut.umur <- order(df$umur)\n",
    "df[urut.umur, ]"
   ]
  },
  {
   "cell_type": "markdown",
   "metadata": {},
   "source": [
    "## Operasi - operasi data frame"
   ]
  },
  {
   "cell_type": "markdown",
   "metadata": {},
   "source": [
    "### Mendefinisikan data frame"
   ]
  },
  {
   "cell_type": "code",
   "execution_count": 170,
   "metadata": {},
   "outputs": [
    {
     "name": "stdout",
     "output_type": "stream",
     "text": [
      " [1]  1  2  3  4  5  6  7  8  9 10\n",
      " [1] \"a\" \"b\" \"c\" \"d\" \"e\" \"f\" \"g\" \"h\" \"i\" \"j\"\n"
     ]
    }
   ],
   "source": [
    "c1 <- 1:10\n",
    "c2 <- letters[1:10]\n",
    "print(c1)\n",
    "print(c2)"
   ]
  },
  {
   "cell_type": "code",
   "execution_count": 171,
   "metadata": {},
   "outputs": [
    {
     "data": {
      "text/html": [
       "<table>\n",
       "<thead><tr><th scope=col>c1</th><th scope=col>c2</th></tr></thead>\n",
       "<tbody>\n",
       "\t<tr><td> 1</td><td>a </td></tr>\n",
       "\t<tr><td> 2</td><td>b </td></tr>\n",
       "\t<tr><td> 3</td><td>c </td></tr>\n",
       "\t<tr><td> 4</td><td>d </td></tr>\n",
       "\t<tr><td> 5</td><td>e </td></tr>\n",
       "\t<tr><td> 6</td><td>f </td></tr>\n",
       "\t<tr><td> 7</td><td>g </td></tr>\n",
       "\t<tr><td> 8</td><td>h </td></tr>\n",
       "\t<tr><td> 9</td><td>i </td></tr>\n",
       "\t<tr><td>10</td><td>j </td></tr>\n",
       "</tbody>\n",
       "</table>\n"
      ],
      "text/latex": [
       "\\begin{tabular}{r|ll}\n",
       " c1 & c2\\\\\n",
       "\\hline\n",
       "\t  1 & a \\\\\n",
       "\t  2 & b \\\\\n",
       "\t  3 & c \\\\\n",
       "\t  4 & d \\\\\n",
       "\t  5 & e \\\\\n",
       "\t  6 & f \\\\\n",
       "\t  7 & g \\\\\n",
       "\t  8 & h \\\\\n",
       "\t  9 & i \\\\\n",
       "\t 10 & j \\\\\n",
       "\\end{tabular}\n"
      ],
      "text/markdown": [
       "\n",
       "| c1 | c2 |\n",
       "|---|---|\n",
       "|  1 | a  |\n",
       "|  2 | b  |\n",
       "|  3 | c  |\n",
       "|  4 | d  |\n",
       "|  5 | e  |\n",
       "|  6 | f  |\n",
       "|  7 | g  |\n",
       "|  8 | h  |\n",
       "|  9 | i  |\n",
       "| 10 | j  |\n",
       "\n"
      ],
      "text/plain": [
       "   c1 c2\n",
       "1   1 a \n",
       "2   2 b \n",
       "3   3 c \n",
       "4   4 d \n",
       "5   5 e \n",
       "6   6 f \n",
       "7   7 g \n",
       "8   8 h \n",
       "9   9 i \n",
       "10 10 j "
      ]
     },
     "metadata": {},
     "output_type": "display_data"
    }
   ],
   "source": [
    "df <- data.frame(c1,c2)\n",
    "df"
   ]
  },
  {
   "cell_type": "code",
   "execution_count": 172,
   "metadata": {},
   "outputs": [
    {
     "data": {
      "text/html": [
       "<table>\n",
       "<thead><tr><th scope=col>kolom1</th><th scope=col>kolom2</th></tr></thead>\n",
       "<tbody>\n",
       "\t<tr><td> 1</td><td>a </td></tr>\n",
       "\t<tr><td> 2</td><td>b </td></tr>\n",
       "\t<tr><td> 3</td><td>c </td></tr>\n",
       "\t<tr><td> 4</td><td>d </td></tr>\n",
       "\t<tr><td> 5</td><td>e </td></tr>\n",
       "\t<tr><td> 6</td><td>f </td></tr>\n",
       "\t<tr><td> 7</td><td>g </td></tr>\n",
       "\t<tr><td> 8</td><td>h </td></tr>\n",
       "\t<tr><td> 9</td><td>i </td></tr>\n",
       "\t<tr><td>10</td><td>j </td></tr>\n",
       "</tbody>\n",
       "</table>\n"
      ],
      "text/latex": [
       "\\begin{tabular}{r|ll}\n",
       " kolom1 & kolom2\\\\\n",
       "\\hline\n",
       "\t  1 & a \\\\\n",
       "\t  2 & b \\\\\n",
       "\t  3 & c \\\\\n",
       "\t  4 & d \\\\\n",
       "\t  5 & e \\\\\n",
       "\t  6 & f \\\\\n",
       "\t  7 & g \\\\\n",
       "\t  8 & h \\\\\n",
       "\t  9 & i \\\\\n",
       "\t 10 & j \\\\\n",
       "\\end{tabular}\n"
      ],
      "text/markdown": [
       "\n",
       "| kolom1 | kolom2 |\n",
       "|---|---|\n",
       "|  1 | a  |\n",
       "|  2 | b  |\n",
       "|  3 | c  |\n",
       "|  4 | d  |\n",
       "|  5 | e  |\n",
       "|  6 | f  |\n",
       "|  7 | g  |\n",
       "|  8 | h  |\n",
       "|  9 | i  |\n",
       "| 10 | j  |\n",
       "\n"
      ],
      "text/plain": [
       "   kolom1 kolom2\n",
       "1   1     a     \n",
       "2   2     b     \n",
       "3   3     c     \n",
       "4   4     d     \n",
       "5   5     e     \n",
       "6   6     f     \n",
       "7   7     g     \n",
       "8   8     h     \n",
       "9   9     i     \n",
       "10 10     j     "
      ]
     },
     "metadata": {},
     "output_type": "display_data"
    }
   ],
   "source": [
    "df <- data.frame(kolom1 = c1, kolom2 = c2) # nama kolom bisa kita ubah sesuka kita!\n",
    "df"
   ]
  },
  {
   "cell_type": "markdown",
   "metadata": {},
   "source": [
    "### Mendapatkan info tentang data frame"
   ]
  },
  {
   "cell_type": "code",
   "execution_count": 173,
   "metadata": {},
   "outputs": [
    {
     "data": {
      "text/html": [
       "10"
      ],
      "text/latex": [
       "10"
      ],
      "text/markdown": [
       "10"
      ],
      "text/plain": [
       "[1] 10"
      ]
     },
     "metadata": {},
     "output_type": "display_data"
    }
   ],
   "source": [
    "nrow(df) # jumlah baris"
   ]
  },
  {
   "cell_type": "code",
   "execution_count": 174,
   "metadata": {},
   "outputs": [
    {
     "data": {
      "text/html": [
       "2"
      ],
      "text/latex": [
       "2"
      ],
      "text/markdown": [
       "2"
      ],
      "text/plain": [
       "[1] 2"
      ]
     },
     "metadata": {},
     "output_type": "display_data"
    }
   ],
   "source": [
    "ncol(df) # jumlah kolom"
   ]
  },
  {
   "cell_type": "code",
   "execution_count": 175,
   "metadata": {},
   "outputs": [
    {
     "data": {
      "text/html": [
       "<ol class=list-inline>\n",
       "\t<li>'kolom1'</li>\n",
       "\t<li>'kolom2'</li>\n",
       "</ol>\n"
      ],
      "text/latex": [
       "\\begin{enumerate*}\n",
       "\\item 'kolom1'\n",
       "\\item 'kolom2'\n",
       "\\end{enumerate*}\n"
      ],
      "text/markdown": [
       "1. 'kolom1'\n",
       "2. 'kolom2'\n",
       "\n",
       "\n"
      ],
      "text/plain": [
       "[1] \"kolom1\" \"kolom2\""
      ]
     },
     "metadata": {},
     "output_type": "display_data"
    }
   ],
   "source": [
    "colnames(df)  # nama kolom"
   ]
  },
  {
   "cell_type": "code",
   "execution_count": 176,
   "metadata": {},
   "outputs": [
    {
     "data": {
      "text/html": [
       "<ol class=list-inline>\n",
       "\t<li>'1'</li>\n",
       "\t<li>'2'</li>\n",
       "\t<li>'3'</li>\n",
       "\t<li>'4'</li>\n",
       "\t<li>'5'</li>\n",
       "\t<li>'6'</li>\n",
       "\t<li>'7'</li>\n",
       "\t<li>'8'</li>\n",
       "\t<li>'9'</li>\n",
       "\t<li>'10'</li>\n",
       "</ol>\n"
      ],
      "text/latex": [
       "\\begin{enumerate*}\n",
       "\\item '1'\n",
       "\\item '2'\n",
       "\\item '3'\n",
       "\\item '4'\n",
       "\\item '5'\n",
       "\\item '6'\n",
       "\\item '7'\n",
       "\\item '8'\n",
       "\\item '9'\n",
       "\\item '10'\n",
       "\\end{enumerate*}\n"
      ],
      "text/markdown": [
       "1. '1'\n",
       "2. '2'\n",
       "3. '3'\n",
       "4. '4'\n",
       "5. '5'\n",
       "6. '6'\n",
       "7. '7'\n",
       "8. '8'\n",
       "9. '9'\n",
       "10. '10'\n",
       "\n",
       "\n"
      ],
      "text/plain": [
       " [1] \"1\"  \"2\"  \"3\"  \"4\"  \"5\"  \"6\"  \"7\"  \"8\"  \"9\"  \"10\""
      ]
     },
     "metadata": {},
     "output_type": "display_data"
    }
   ],
   "source": [
    "rownames(df) # nama baris"
   ]
  },
  {
   "cell_type": "code",
   "execution_count": 177,
   "metadata": {},
   "outputs": [
    {
     "name": "stdout",
     "output_type": "stream",
     "text": [
      "'data.frame':\t10 obs. of  2 variables:\n",
      " $ kolom1: int  1 2 3 4 5 6 7 8 9 10\n",
      " $ kolom2: Factor w/ 10 levels \"a\",\"b\",\"c\",\"d\",..: 1 2 3 4 5 6 7 8 9 10\n"
     ]
    }
   ],
   "source": [
    "str(df) # struktur data frame"
   ]
  },
  {
   "cell_type": "code",
   "execution_count": 178,
   "metadata": {},
   "outputs": [
    {
     "data": {
      "text/plain": [
       "     kolom1          kolom2 \n",
       " Min.   : 1.00   a      :1  \n",
       " 1st Qu.: 3.25   b      :1  \n",
       " Median : 5.50   c      :1  \n",
       " Mean   : 5.50   d      :1  \n",
       " 3rd Qu.: 7.75   e      :1  \n",
       " Max.   :10.00   f      :1  \n",
       "                 (Other):4  "
      ]
     },
     "metadata": {},
     "output_type": "display_data"
    }
   ],
   "source": [
    "summary(df) # sari statistik"
   ]
  },
  {
   "cell_type": "markdown",
   "metadata": {},
   "source": [
    "### Referensi sel"
   ]
  },
  {
   "cell_type": "code",
   "execution_count": 179,
   "metadata": {},
   "outputs": [
    {
     "data": {
      "text/html": [
       "<table>\n",
       "<thead><tr><th scope=col>kolom1</th><th scope=col>kolom2</th></tr></thead>\n",
       "<tbody>\n",
       "\t<tr><td> 1</td><td>a </td></tr>\n",
       "\t<tr><td> 2</td><td>b </td></tr>\n",
       "\t<tr><td> 3</td><td>c </td></tr>\n",
       "\t<tr><td> 4</td><td>d </td></tr>\n",
       "\t<tr><td> 5</td><td>e </td></tr>\n",
       "\t<tr><td> 6</td><td>f </td></tr>\n",
       "\t<tr><td> 7</td><td>g </td></tr>\n",
       "\t<tr><td> 8</td><td>h </td></tr>\n",
       "\t<tr><td> 9</td><td>i </td></tr>\n",
       "\t<tr><td>10</td><td>j </td></tr>\n",
       "</tbody>\n",
       "</table>\n"
      ],
      "text/latex": [
       "\\begin{tabular}{r|ll}\n",
       " kolom1 & kolom2\\\\\n",
       "\\hline\n",
       "\t  1 & a \\\\\n",
       "\t  2 & b \\\\\n",
       "\t  3 & c \\\\\n",
       "\t  4 & d \\\\\n",
       "\t  5 & e \\\\\n",
       "\t  6 & f \\\\\n",
       "\t  7 & g \\\\\n",
       "\t  8 & h \\\\\n",
       "\t  9 & i \\\\\n",
       "\t 10 & j \\\\\n",
       "\\end{tabular}\n"
      ],
      "text/markdown": [
       "\n",
       "| kolom1 | kolom2 |\n",
       "|---|---|\n",
       "|  1 | a  |\n",
       "|  2 | b  |\n",
       "|  3 | c  |\n",
       "|  4 | d  |\n",
       "|  5 | e  |\n",
       "|  6 | f  |\n",
       "|  7 | g  |\n",
       "|  8 | h  |\n",
       "|  9 | i  |\n",
       "| 10 | j  |\n",
       "\n"
      ],
      "text/plain": [
       "   kolom1 kolom2\n",
       "1   1     a     \n",
       "2   2     b     \n",
       "3   3     c     \n",
       "4   4     d     \n",
       "5   5     e     \n",
       "6   6     f     \n",
       "7   7     g     \n",
       "8   8     h     \n",
       "9   9     i     \n",
       "10 10     j     "
      ]
     },
     "metadata": {},
     "output_type": "display_data"
    }
   ],
   "source": [
    "df"
   ]
  },
  {
   "cell_type": "code",
   "execution_count": 180,
   "metadata": {},
   "outputs": [
    {
     "data": {
      "text/html": [
       "5"
      ],
      "text/latex": [
       "5"
      ],
      "text/markdown": [
       "5"
      ],
      "text/plain": [
       "[1] 5"
      ]
     },
     "metadata": {},
     "output_type": "display_data"
    }
   ],
   "source": [
    "df[5,1]"
   ]
  },
  {
   "cell_type": "code",
   "execution_count": 181,
   "metadata": {},
   "outputs": [
    {
     "data": {
      "text/html": [
       "5"
      ],
      "text/latex": [
       "5"
      ],
      "text/markdown": [
       "5"
      ],
      "text/plain": [
       "[1] 5"
      ]
     },
     "metadata": {},
     "output_type": "display_data"
    }
   ],
   "source": [
    "df[[5,1]]"
   ]
  },
  {
   "cell_type": "code",
   "execution_count": 182,
   "metadata": {},
   "outputs": [
    {
     "data": {
      "text/html": [
       "1"
      ],
      "text/latex": [
       "1"
      ],
      "text/markdown": [
       "1"
      ],
      "text/plain": [
       "[1] 1"
      ]
     },
     "metadata": {},
     "output_type": "display_data"
    }
   ],
   "source": [
    "df[1,'kolom1']"
   ]
  },
  {
   "cell_type": "code",
   "execution_count": 183,
   "metadata": {},
   "outputs": [
    {
     "data": {
      "text/html": [
       "5"
      ],
      "text/latex": [
       "5"
      ],
      "text/markdown": [
       "5"
      ],
      "text/plain": [
       "[1] 5"
      ]
     },
     "metadata": {},
     "output_type": "display_data"
    }
   ],
   "source": [
    "df[5, 'kolom1']"
   ]
  },
  {
   "cell_type": "code",
   "execution_count": 184,
   "metadata": {},
   "outputs": [
    {
     "data": {
      "text/html": [
       "5"
      ],
      "text/latex": [
       "5"
      ],
      "text/markdown": [
       "5"
      ],
      "text/plain": [
       "[1] 5"
      ]
     },
     "metadata": {},
     "output_type": "display_data"
    }
   ],
   "source": [
    "df[[5,'kolom1']]"
   ]
  },
  {
   "cell_type": "code",
   "execution_count": 185,
   "metadata": {},
   "outputs": [
    {
     "data": {
      "text/html": [
       "<table>\n",
       "<thead><tr><th scope=col>kolom1</th><th scope=col>kolom2</th></tr></thead>\n",
       "<tbody>\n",
       "\t<tr><td>   1</td><td>a   </td></tr>\n",
       "\t<tr><td>   2</td><td>b   </td></tr>\n",
       "\t<tr><td>   3</td><td>c   </td></tr>\n",
       "\t<tr><td>   4</td><td>d   </td></tr>\n",
       "\t<tr><td>   5</td><td>e   </td></tr>\n",
       "\t<tr><td>   6</td><td>f   </td></tr>\n",
       "\t<tr><td>   7</td><td>g   </td></tr>\n",
       "\t<tr><td>-999</td><td>h   </td></tr>\n",
       "\t<tr><td>   9</td><td>i   </td></tr>\n",
       "\t<tr><td>  10</td><td>j   </td></tr>\n",
       "</tbody>\n",
       "</table>\n"
      ],
      "text/latex": [
       "\\begin{tabular}{r|ll}\n",
       " kolom1 & kolom2\\\\\n",
       "\\hline\n",
       "\t    1 & a   \\\\\n",
       "\t    2 & b   \\\\\n",
       "\t    3 & c   \\\\\n",
       "\t    4 & d   \\\\\n",
       "\t    5 & e   \\\\\n",
       "\t    6 & f   \\\\\n",
       "\t    7 & g   \\\\\n",
       "\t -999 & h   \\\\\n",
       "\t    9 & i   \\\\\n",
       "\t   10 & j   \\\\\n",
       "\\end{tabular}\n"
      ],
      "text/markdown": [
       "\n",
       "| kolom1 | kolom2 |\n",
       "|---|---|\n",
       "|    1 | a    |\n",
       "|    2 | b    |\n",
       "|    3 | c    |\n",
       "|    4 | d    |\n",
       "|    5 | e    |\n",
       "|    6 | f    |\n",
       "|    7 | g    |\n",
       "| -999 | h    |\n",
       "|    9 | i    |\n",
       "|   10 | j    |\n",
       "\n"
      ],
      "text/plain": [
       "   kolom1 kolom2\n",
       "1     1   a     \n",
       "2     2   b     \n",
       "3     3   c     \n",
       "4     4   d     \n",
       "5     5   e     \n",
       "6     6   f     \n",
       "7     7   g     \n",
       "8  -999   h     \n",
       "9     9   i     \n",
       "10   10   j     "
      ]
     },
     "metadata": {},
     "output_type": "display_data"
    }
   ],
   "source": [
    "df[8,'kolom1'] <- -999 # mengubah nilai\n",
    "df"
   ]
  },
  {
   "cell_type": "code",
   "execution_count": 186,
   "metadata": {},
   "outputs": [
    {
     "data": {
      "text/html": [
       "<table>\n",
       "<thead><tr><th scope=col>kolom1</th><th scope=col>kolom2</th></tr></thead>\n",
       "<tbody>\n",
       "\t<tr><td> 1</td><td>a </td></tr>\n",
       "\t<tr><td> 2</td><td>b </td></tr>\n",
       "\t<tr><td> 3</td><td>c </td></tr>\n",
       "\t<tr><td> 4</td><td>d </td></tr>\n",
       "\t<tr><td> 5</td><td>e </td></tr>\n",
       "\t<tr><td> 6</td><td>f </td></tr>\n",
       "\t<tr><td> 7</td><td>g </td></tr>\n",
       "\t<tr><td> 8</td><td>h </td></tr>\n",
       "\t<tr><td> 9</td><td>i </td></tr>\n",
       "\t<tr><td>10</td><td>j </td></tr>\n",
       "</tbody>\n",
       "</table>\n"
      ],
      "text/latex": [
       "\\begin{tabular}{r|ll}\n",
       " kolom1 & kolom2\\\\\n",
       "\\hline\n",
       "\t  1 & a \\\\\n",
       "\t  2 & b \\\\\n",
       "\t  3 & c \\\\\n",
       "\t  4 & d \\\\\n",
       "\t  5 & e \\\\\n",
       "\t  6 & f \\\\\n",
       "\t  7 & g \\\\\n",
       "\t  8 & h \\\\\n",
       "\t  9 & i \\\\\n",
       "\t 10 & j \\\\\n",
       "\\end{tabular}\n"
      ],
      "text/markdown": [
       "\n",
       "| kolom1 | kolom2 |\n",
       "|---|---|\n",
       "|  1 | a  |\n",
       "|  2 | b  |\n",
       "|  3 | c  |\n",
       "|  4 | d  |\n",
       "|  5 | e  |\n",
       "|  6 | f  |\n",
       "|  7 | g  |\n",
       "|  8 | h  |\n",
       "|  9 | i  |\n",
       "| 10 | j  |\n",
       "\n"
      ],
      "text/plain": [
       "   kolom1 kolom2\n",
       "1   1     a     \n",
       "2   2     b     \n",
       "3   3     c     \n",
       "4   4     d     \n",
       "5   5     e     \n",
       "6   6     f     \n",
       "7   7     g     \n",
       "8   8     h     \n",
       "9   9     i     \n",
       "10 10     j     "
      ]
     },
     "metadata": {},
     "output_type": "display_data"
    }
   ],
   "source": [
    "df[[8,'kolom1']] <- 8\n",
    "df"
   ]
  },
  {
   "cell_type": "markdown",
   "metadata": {},
   "source": [
    "### Referensi baris dan kolom"
   ]
  },
  {
   "cell_type": "code",
   "execution_count": 187,
   "metadata": {},
   "outputs": [
    {
     "data": {
      "text/html": [
       "<table>\n",
       "<thead><tr><th></th><th scope=col>kolom1</th><th scope=col>kolom2</th></tr></thead>\n",
       "<tbody>\n",
       "\t<tr><th scope=row>2</th><td>2</td><td>b</td></tr>\n",
       "</tbody>\n",
       "</table>\n"
      ],
      "text/latex": [
       "\\begin{tabular}{r|ll}\n",
       "  & kolom1 & kolom2\\\\\n",
       "\\hline\n",
       "\t2 & 2 & b\\\\\n",
       "\\end{tabular}\n"
      ],
      "text/markdown": [
       "\n",
       "| <!--/--> | kolom1 | kolom2 |\n",
       "|---|---|---|\n",
       "| 2 | 2 | b |\n",
       "\n"
      ],
      "text/plain": [
       "  kolom1 kolom2\n",
       "2 2      b     "
      ]
     },
     "metadata": {},
     "output_type": "display_data"
    }
   ],
   "source": [
    "df[2,]"
   ]
  },
  {
   "cell_type": "code",
   "execution_count": 188,
   "metadata": {},
   "outputs": [
    {
     "data": {
      "text/html": [
       "<table>\n",
       "<thead><tr><th scope=col>kolom1</th><th scope=col>kolom2</th></tr></thead>\n",
       "<tbody>\n",
       "\t<tr><td>1</td><td>a</td></tr>\n",
       "\t<tr><td>2</td><td>b</td></tr>\n",
       "\t<tr><td>3</td><td>c</td></tr>\n",
       "</tbody>\n",
       "</table>\n"
      ],
      "text/latex": [
       "\\begin{tabular}{r|ll}\n",
       " kolom1 & kolom2\\\\\n",
       "\\hline\n",
       "\t 1 & a\\\\\n",
       "\t 2 & b\\\\\n",
       "\t 3 & c\\\\\n",
       "\\end{tabular}\n"
      ],
      "text/markdown": [
       "\n",
       "| kolom1 | kolom2 |\n",
       "|---|---|\n",
       "| 1 | a |\n",
       "| 2 | b |\n",
       "| 3 | c |\n",
       "\n"
      ],
      "text/plain": [
       "  kolom1 kolom2\n",
       "1 1      a     \n",
       "2 2      b     \n",
       "3 3      c     "
      ]
     },
     "metadata": {},
     "output_type": "display_data"
    }
   ],
   "source": [
    "df[1:3,]"
   ]
  },
  {
   "cell_type": "code",
   "execution_count": 189,
   "metadata": {},
   "outputs": [
    {
     "data": {
      "text/html": [
       "<table>\n",
       "<thead><tr><th></th><th scope=col>mpg</th><th scope=col>cyl</th><th scope=col>disp</th><th scope=col>hp</th><th scope=col>drat</th><th scope=col>wt</th><th scope=col>qsec</th><th scope=col>vs</th><th scope=col>am</th><th scope=col>gear</th><th scope=col>carb</th></tr></thead>\n",
       "<tbody>\n",
       "\t<tr><th scope=row>Mazda RX4</th><td>21.0 </td><td>6    </td><td>160  </td><td>110  </td><td>3.90 </td><td>2.620</td><td>16.46</td><td>0    </td><td>1    </td><td>4    </td><td>4    </td></tr>\n",
       "\t<tr><th scope=row>Mazda RX4 Wag</th><td>21.0 </td><td>6    </td><td>160  </td><td>110  </td><td>3.90 </td><td>2.875</td><td>17.02</td><td>0    </td><td>1    </td><td>4    </td><td>4    </td></tr>\n",
       "\t<tr><th scope=row>Datsun 710</th><td>22.8 </td><td>4    </td><td>108  </td><td> 93  </td><td>3.85 </td><td>2.320</td><td>18.61</td><td>1    </td><td>1    </td><td>4    </td><td>1    </td></tr>\n",
       "\t<tr><th scope=row>Hornet 4 Drive</th><td>21.4 </td><td>6    </td><td>258  </td><td>110  </td><td>3.08 </td><td>3.215</td><td>19.44</td><td>1    </td><td>0    </td><td>3    </td><td>1    </td></tr>\n",
       "\t<tr><th scope=row>Hornet Sportabout</th><td>18.7 </td><td>8    </td><td>360  </td><td>175  </td><td>3.15 </td><td>3.440</td><td>17.02</td><td>0    </td><td>0    </td><td>3    </td><td>2    </td></tr>\n",
       "\t<tr><th scope=row>Valiant</th><td>18.1 </td><td>6    </td><td>225  </td><td>105  </td><td>2.76 </td><td>3.460</td><td>20.22</td><td>1    </td><td>0    </td><td>3    </td><td>1    </td></tr>\n",
       "</tbody>\n",
       "</table>\n"
      ],
      "text/latex": [
       "\\begin{tabular}{r|lllllllllll}\n",
       "  & mpg & cyl & disp & hp & drat & wt & qsec & vs & am & gear & carb\\\\\n",
       "\\hline\n",
       "\tMazda RX4 & 21.0  & 6     & 160   & 110   & 3.90  & 2.620 & 16.46 & 0     & 1     & 4     & 4    \\\\\n",
       "\tMazda RX4 Wag & 21.0  & 6     & 160   & 110   & 3.90  & 2.875 & 17.02 & 0     & 1     & 4     & 4    \\\\\n",
       "\tDatsun 710 & 22.8  & 4     & 108   &  93   & 3.85  & 2.320 & 18.61 & 1     & 1     & 4     & 1    \\\\\n",
       "\tHornet 4 Drive & 21.4  & 6     & 258   & 110   & 3.08  & 3.215 & 19.44 & 1     & 0     & 3     & 1    \\\\\n",
       "\tHornet Sportabout & 18.7  & 8     & 360   & 175   & 3.15  & 3.440 & 17.02 & 0     & 0     & 3     & 2    \\\\\n",
       "\tValiant & 18.1  & 6     & 225   & 105   & 2.76  & 3.460 & 20.22 & 1     & 0     & 3     & 1    \\\\\n",
       "\\end{tabular}\n"
      ],
      "text/markdown": [
       "\n",
       "| <!--/--> | mpg | cyl | disp | hp | drat | wt | qsec | vs | am | gear | carb |\n",
       "|---|---|---|---|---|---|---|---|---|---|---|---|\n",
       "| Mazda RX4 | 21.0  | 6     | 160   | 110   | 3.90  | 2.620 | 16.46 | 0     | 1     | 4     | 4     |\n",
       "| Mazda RX4 Wag | 21.0  | 6     | 160   | 110   | 3.90  | 2.875 | 17.02 | 0     | 1     | 4     | 4     |\n",
       "| Datsun 710 | 22.8  | 4     | 108   |  93   | 3.85  | 2.320 | 18.61 | 1     | 1     | 4     | 1     |\n",
       "| Hornet 4 Drive | 21.4  | 6     | 258   | 110   | 3.08  | 3.215 | 19.44 | 1     | 0     | 3     | 1     |\n",
       "| Hornet Sportabout | 18.7  | 8     | 360   | 175   | 3.15  | 3.440 | 17.02 | 0     | 0     | 3     | 2     |\n",
       "| Valiant | 18.1  | 6     | 225   | 105   | 2.76  | 3.460 | 20.22 | 1     | 0     | 3     | 1     |\n",
       "\n"
      ],
      "text/plain": [
       "                  mpg  cyl disp hp  drat wt    qsec  vs am gear carb\n",
       "Mazda RX4         21.0 6   160  110 3.90 2.620 16.46 0  1  4    4   \n",
       "Mazda RX4 Wag     21.0 6   160  110 3.90 2.875 17.02 0  1  4    4   \n",
       "Datsun 710        22.8 4   108   93 3.85 2.320 18.61 1  1  4    1   \n",
       "Hornet 4 Drive    21.4 6   258  110 3.08 3.215 19.44 1  0  3    1   \n",
       "Hornet Sportabout 18.7 8   360  175 3.15 3.440 17.02 0  0  3    2   \n",
       "Valiant           18.1 6   225  105 2.76 3.460 20.22 1  0  3    1   "
      ]
     },
     "metadata": {},
     "output_type": "display_data"
    }
   ],
   "source": [
    "head(mtcars)"
   ]
  },
  {
   "cell_type": "code",
   "execution_count": 190,
   "metadata": {},
   "outputs": [
    {
     "data": {
      "text/html": [
       "<ol class=list-inline>\n",
       "\t<li>21</li>\n",
       "\t<li>21</li>\n",
       "\t<li>22.8</li>\n",
       "\t<li>21.4</li>\n",
       "\t<li>18.7</li>\n",
       "\t<li>18.1</li>\n",
       "\t<li>14.3</li>\n",
       "\t<li>24.4</li>\n",
       "\t<li>22.8</li>\n",
       "\t<li>19.2</li>\n",
       "\t<li>17.8</li>\n",
       "\t<li>16.4</li>\n",
       "\t<li>17.3</li>\n",
       "\t<li>15.2</li>\n",
       "\t<li>10.4</li>\n",
       "\t<li>10.4</li>\n",
       "\t<li>14.7</li>\n",
       "\t<li>32.4</li>\n",
       "\t<li>30.4</li>\n",
       "\t<li>33.9</li>\n",
       "\t<li>21.5</li>\n",
       "\t<li>15.5</li>\n",
       "\t<li>15.2</li>\n",
       "\t<li>13.3</li>\n",
       "\t<li>19.2</li>\n",
       "\t<li>27.3</li>\n",
       "\t<li>26</li>\n",
       "\t<li>30.4</li>\n",
       "\t<li>15.8</li>\n",
       "\t<li>19.7</li>\n",
       "\t<li>15</li>\n",
       "\t<li>21.4</li>\n",
       "</ol>\n"
      ],
      "text/latex": [
       "\\begin{enumerate*}\n",
       "\\item 21\n",
       "\\item 21\n",
       "\\item 22.8\n",
       "\\item 21.4\n",
       "\\item 18.7\n",
       "\\item 18.1\n",
       "\\item 14.3\n",
       "\\item 24.4\n",
       "\\item 22.8\n",
       "\\item 19.2\n",
       "\\item 17.8\n",
       "\\item 16.4\n",
       "\\item 17.3\n",
       "\\item 15.2\n",
       "\\item 10.4\n",
       "\\item 10.4\n",
       "\\item 14.7\n",
       "\\item 32.4\n",
       "\\item 30.4\n",
       "\\item 33.9\n",
       "\\item 21.5\n",
       "\\item 15.5\n",
       "\\item 15.2\n",
       "\\item 13.3\n",
       "\\item 19.2\n",
       "\\item 27.3\n",
       "\\item 26\n",
       "\\item 30.4\n",
       "\\item 15.8\n",
       "\\item 19.7\n",
       "\\item 15\n",
       "\\item 21.4\n",
       "\\end{enumerate*}\n"
      ],
      "text/markdown": [
       "1. 21\n",
       "2. 21\n",
       "3. 22.8\n",
       "4. 21.4\n",
       "5. 18.7\n",
       "6. 18.1\n",
       "7. 14.3\n",
       "8. 24.4\n",
       "9. 22.8\n",
       "10. 19.2\n",
       "11. 17.8\n",
       "12. 16.4\n",
       "13. 17.3\n",
       "14. 15.2\n",
       "15. 10.4\n",
       "16. 10.4\n",
       "17. 14.7\n",
       "18. 32.4\n",
       "19. 30.4\n",
       "20. 33.9\n",
       "21. 21.5\n",
       "22. 15.5\n",
       "23. 15.2\n",
       "24. 13.3\n",
       "25. 19.2\n",
       "26. 27.3\n",
       "27. 26\n",
       "28. 30.4\n",
       "29. 15.8\n",
       "30. 19.7\n",
       "31. 15\n",
       "32. 21.4\n",
       "\n",
       "\n"
      ],
      "text/plain": [
       " [1] 21.0 21.0 22.8 21.4 18.7 18.1 14.3 24.4 22.8 19.2 17.8 16.4 17.3 15.2 10.4\n",
       "[16] 10.4 14.7 32.4 30.4 33.9 21.5 15.5 15.2 13.3 19.2 27.3 26.0 30.4 15.8 19.7\n",
       "[31] 15.0 21.4"
      ]
     },
     "metadata": {},
     "output_type": "display_data"
    }
   ],
   "source": [
    "mtcars$mpg"
   ]
  },
  {
   "cell_type": "code",
   "execution_count": 191,
   "metadata": {},
   "outputs": [
    {
     "data": {
      "text/html": [
       "<ol class=list-inline>\n",
       "\t<li>21</li>\n",
       "\t<li>21</li>\n",
       "\t<li>22.8</li>\n",
       "\t<li>21.4</li>\n",
       "\t<li>18.7</li>\n",
       "\t<li>18.1</li>\n",
       "\t<li>14.3</li>\n",
       "\t<li>24.4</li>\n",
       "\t<li>22.8</li>\n",
       "\t<li>19.2</li>\n",
       "\t<li>17.8</li>\n",
       "\t<li>16.4</li>\n",
       "\t<li>17.3</li>\n",
       "\t<li>15.2</li>\n",
       "\t<li>10.4</li>\n",
       "\t<li>10.4</li>\n",
       "\t<li>14.7</li>\n",
       "\t<li>32.4</li>\n",
       "\t<li>30.4</li>\n",
       "\t<li>33.9</li>\n",
       "\t<li>21.5</li>\n",
       "\t<li>15.5</li>\n",
       "\t<li>15.2</li>\n",
       "\t<li>13.3</li>\n",
       "\t<li>19.2</li>\n",
       "\t<li>27.3</li>\n",
       "\t<li>26</li>\n",
       "\t<li>30.4</li>\n",
       "\t<li>15.8</li>\n",
       "\t<li>19.7</li>\n",
       "\t<li>15</li>\n",
       "\t<li>21.4</li>\n",
       "</ol>\n"
      ],
      "text/latex": [
       "\\begin{enumerate*}\n",
       "\\item 21\n",
       "\\item 21\n",
       "\\item 22.8\n",
       "\\item 21.4\n",
       "\\item 18.7\n",
       "\\item 18.1\n",
       "\\item 14.3\n",
       "\\item 24.4\n",
       "\\item 22.8\n",
       "\\item 19.2\n",
       "\\item 17.8\n",
       "\\item 16.4\n",
       "\\item 17.3\n",
       "\\item 15.2\n",
       "\\item 10.4\n",
       "\\item 10.4\n",
       "\\item 14.7\n",
       "\\item 32.4\n",
       "\\item 30.4\n",
       "\\item 33.9\n",
       "\\item 21.5\n",
       "\\item 15.5\n",
       "\\item 15.2\n",
       "\\item 13.3\n",
       "\\item 19.2\n",
       "\\item 27.3\n",
       "\\item 26\n",
       "\\item 30.4\n",
       "\\item 15.8\n",
       "\\item 19.7\n",
       "\\item 15\n",
       "\\item 21.4\n",
       "\\end{enumerate*}\n"
      ],
      "text/markdown": [
       "1. 21\n",
       "2. 21\n",
       "3. 22.8\n",
       "4. 21.4\n",
       "5. 18.7\n",
       "6. 18.1\n",
       "7. 14.3\n",
       "8. 24.4\n",
       "9. 22.8\n",
       "10. 19.2\n",
       "11. 17.8\n",
       "12. 16.4\n",
       "13. 17.3\n",
       "14. 15.2\n",
       "15. 10.4\n",
       "16. 10.4\n",
       "17. 14.7\n",
       "18. 32.4\n",
       "19. 30.4\n",
       "20. 33.9\n",
       "21. 21.5\n",
       "22. 15.5\n",
       "23. 15.2\n",
       "24. 13.3\n",
       "25. 19.2\n",
       "26. 27.3\n",
       "27. 26\n",
       "28. 30.4\n",
       "29. 15.8\n",
       "30. 19.7\n",
       "31. 15\n",
       "32. 21.4\n",
       "\n",
       "\n"
      ],
      "text/plain": [
       " [1] 21.0 21.0 22.8 21.4 18.7 18.1 14.3 24.4 22.8 19.2 17.8 16.4 17.3 15.2 10.4\n",
       "[16] 10.4 14.7 32.4 30.4 33.9 21.5 15.5 15.2 13.3 19.2 27.3 26.0 30.4 15.8 19.7\n",
       "[31] 15.0 21.4"
      ]
     },
     "metadata": {},
     "output_type": "display_data"
    }
   ],
   "source": [
    "mtcars[,1]"
   ]
  },
  {
   "cell_type": "code",
   "execution_count": 192,
   "metadata": {},
   "outputs": [
    {
     "data": {
      "text/html": [
       "<ol class=list-inline>\n",
       "\t<li>21</li>\n",
       "\t<li>21</li>\n",
       "\t<li>22.8</li>\n",
       "\t<li>21.4</li>\n",
       "\t<li>18.7</li>\n",
       "\t<li>18.1</li>\n",
       "\t<li>14.3</li>\n",
       "\t<li>24.4</li>\n",
       "\t<li>22.8</li>\n",
       "\t<li>19.2</li>\n",
       "\t<li>17.8</li>\n",
       "\t<li>16.4</li>\n",
       "\t<li>17.3</li>\n",
       "\t<li>15.2</li>\n",
       "\t<li>10.4</li>\n",
       "\t<li>10.4</li>\n",
       "\t<li>14.7</li>\n",
       "\t<li>32.4</li>\n",
       "\t<li>30.4</li>\n",
       "\t<li>33.9</li>\n",
       "\t<li>21.5</li>\n",
       "\t<li>15.5</li>\n",
       "\t<li>15.2</li>\n",
       "\t<li>13.3</li>\n",
       "\t<li>19.2</li>\n",
       "\t<li>27.3</li>\n",
       "\t<li>26</li>\n",
       "\t<li>30.4</li>\n",
       "\t<li>15.8</li>\n",
       "\t<li>19.7</li>\n",
       "\t<li>15</li>\n",
       "\t<li>21.4</li>\n",
       "</ol>\n"
      ],
      "text/latex": [
       "\\begin{enumerate*}\n",
       "\\item 21\n",
       "\\item 21\n",
       "\\item 22.8\n",
       "\\item 21.4\n",
       "\\item 18.7\n",
       "\\item 18.1\n",
       "\\item 14.3\n",
       "\\item 24.4\n",
       "\\item 22.8\n",
       "\\item 19.2\n",
       "\\item 17.8\n",
       "\\item 16.4\n",
       "\\item 17.3\n",
       "\\item 15.2\n",
       "\\item 10.4\n",
       "\\item 10.4\n",
       "\\item 14.7\n",
       "\\item 32.4\n",
       "\\item 30.4\n",
       "\\item 33.9\n",
       "\\item 21.5\n",
       "\\item 15.5\n",
       "\\item 15.2\n",
       "\\item 13.3\n",
       "\\item 19.2\n",
       "\\item 27.3\n",
       "\\item 26\n",
       "\\item 30.4\n",
       "\\item 15.8\n",
       "\\item 19.7\n",
       "\\item 15\n",
       "\\item 21.4\n",
       "\\end{enumerate*}\n"
      ],
      "text/markdown": [
       "1. 21\n",
       "2. 21\n",
       "3. 22.8\n",
       "4. 21.4\n",
       "5. 18.7\n",
       "6. 18.1\n",
       "7. 14.3\n",
       "8. 24.4\n",
       "9. 22.8\n",
       "10. 19.2\n",
       "11. 17.8\n",
       "12. 16.4\n",
       "13. 17.3\n",
       "14. 15.2\n",
       "15. 10.4\n",
       "16. 10.4\n",
       "17. 14.7\n",
       "18. 32.4\n",
       "19. 30.4\n",
       "20. 33.9\n",
       "21. 21.5\n",
       "22. 15.5\n",
       "23. 15.2\n",
       "24. 13.3\n",
       "25. 19.2\n",
       "26. 27.3\n",
       "27. 26\n",
       "28. 30.4\n",
       "29. 15.8\n",
       "30. 19.7\n",
       "31. 15\n",
       "32. 21.4\n",
       "\n",
       "\n"
      ],
      "text/plain": [
       " [1] 21.0 21.0 22.8 21.4 18.7 18.1 14.3 24.4 22.8 19.2 17.8 16.4 17.3 15.2 10.4\n",
       "[16] 10.4 14.7 32.4 30.4 33.9 21.5 15.5 15.2 13.3 19.2 27.3 26.0 30.4 15.8 19.7\n",
       "[31] 15.0 21.4"
      ]
     },
     "metadata": {},
     "output_type": "display_data"
    }
   ],
   "source": [
    "mtcars[,'mpg']"
   ]
  },
  {
   "cell_type": "code",
   "execution_count": 193,
   "metadata": {},
   "outputs": [
    {
     "data": {
      "text/html": [
       "<ol class=list-inline>\n",
       "\t<li>21</li>\n",
       "\t<li>21</li>\n",
       "\t<li>22.8</li>\n",
       "\t<li>21.4</li>\n",
       "\t<li>18.7</li>\n",
       "\t<li>18.1</li>\n",
       "\t<li>14.3</li>\n",
       "\t<li>24.4</li>\n",
       "\t<li>22.8</li>\n",
       "\t<li>19.2</li>\n",
       "\t<li>17.8</li>\n",
       "\t<li>16.4</li>\n",
       "\t<li>17.3</li>\n",
       "\t<li>15.2</li>\n",
       "\t<li>10.4</li>\n",
       "\t<li>10.4</li>\n",
       "\t<li>14.7</li>\n",
       "\t<li>32.4</li>\n",
       "\t<li>30.4</li>\n",
       "\t<li>33.9</li>\n",
       "\t<li>21.5</li>\n",
       "\t<li>15.5</li>\n",
       "\t<li>15.2</li>\n",
       "\t<li>13.3</li>\n",
       "\t<li>19.2</li>\n",
       "\t<li>27.3</li>\n",
       "\t<li>26</li>\n",
       "\t<li>30.4</li>\n",
       "\t<li>15.8</li>\n",
       "\t<li>19.7</li>\n",
       "\t<li>15</li>\n",
       "\t<li>21.4</li>\n",
       "</ol>\n"
      ],
      "text/latex": [
       "\\begin{enumerate*}\n",
       "\\item 21\n",
       "\\item 21\n",
       "\\item 22.8\n",
       "\\item 21.4\n",
       "\\item 18.7\n",
       "\\item 18.1\n",
       "\\item 14.3\n",
       "\\item 24.4\n",
       "\\item 22.8\n",
       "\\item 19.2\n",
       "\\item 17.8\n",
       "\\item 16.4\n",
       "\\item 17.3\n",
       "\\item 15.2\n",
       "\\item 10.4\n",
       "\\item 10.4\n",
       "\\item 14.7\n",
       "\\item 32.4\n",
       "\\item 30.4\n",
       "\\item 33.9\n",
       "\\item 21.5\n",
       "\\item 15.5\n",
       "\\item 15.2\n",
       "\\item 13.3\n",
       "\\item 19.2\n",
       "\\item 27.3\n",
       "\\item 26\n",
       "\\item 30.4\n",
       "\\item 15.8\n",
       "\\item 19.7\n",
       "\\item 15\n",
       "\\item 21.4\n",
       "\\end{enumerate*}\n"
      ],
      "text/markdown": [
       "1. 21\n",
       "2. 21\n",
       "3. 22.8\n",
       "4. 21.4\n",
       "5. 18.7\n",
       "6. 18.1\n",
       "7. 14.3\n",
       "8. 24.4\n",
       "9. 22.8\n",
       "10. 19.2\n",
       "11. 17.8\n",
       "12. 16.4\n",
       "13. 17.3\n",
       "14. 15.2\n",
       "15. 10.4\n",
       "16. 10.4\n",
       "17. 14.7\n",
       "18. 32.4\n",
       "19. 30.4\n",
       "20. 33.9\n",
       "21. 21.5\n",
       "22. 15.5\n",
       "23. 15.2\n",
       "24. 13.3\n",
       "25. 19.2\n",
       "26. 27.3\n",
       "27. 26\n",
       "28. 30.4\n",
       "29. 15.8\n",
       "30. 19.7\n",
       "31. 15\n",
       "32. 21.4\n",
       "\n",
       "\n"
      ],
      "text/plain": [
       " [1] 21.0 21.0 22.8 21.4 18.7 18.1 14.3 24.4 22.8 19.2 17.8 16.4 17.3 15.2 10.4\n",
       "[16] 10.4 14.7 32.4 30.4 33.9 21.5 15.5 15.2 13.3 19.2 27.3 26.0 30.4 15.8 19.7\n",
       "[31] 15.0 21.4"
      ]
     },
     "metadata": {},
     "output_type": "display_data"
    }
   ],
   "source": [
    "mtcars[['mpg']]"
   ]
  },
  {
   "cell_type": "code",
   "execution_count": 194,
   "metadata": {},
   "outputs": [
    {
     "data": {
      "text/html": [
       "<table>\n",
       "<thead><tr><th></th><th scope=col>mpg</th></tr></thead>\n",
       "<tbody>\n",
       "\t<tr><th scope=row>Mazda RX4</th><td>21.0</td></tr>\n",
       "\t<tr><th scope=row>Mazda RX4 Wag</th><td>21.0</td></tr>\n",
       "\t<tr><th scope=row>Datsun 710</th><td>22.8</td></tr>\n",
       "\t<tr><th scope=row>Hornet 4 Drive</th><td>21.4</td></tr>\n",
       "\t<tr><th scope=row>Hornet Sportabout</th><td>18.7</td></tr>\n",
       "\t<tr><th scope=row>Valiant</th><td>18.1</td></tr>\n",
       "\t<tr><th scope=row>Duster 360</th><td>14.3</td></tr>\n",
       "\t<tr><th scope=row>Merc 240D</th><td>24.4</td></tr>\n",
       "\t<tr><th scope=row>Merc 230</th><td>22.8</td></tr>\n",
       "\t<tr><th scope=row>Merc 280</th><td>19.2</td></tr>\n",
       "\t<tr><th scope=row>Merc 280C</th><td>17.8</td></tr>\n",
       "\t<tr><th scope=row>Merc 450SE</th><td>16.4</td></tr>\n",
       "\t<tr><th scope=row>Merc 450SL</th><td>17.3</td></tr>\n",
       "\t<tr><th scope=row>Merc 450SLC</th><td>15.2</td></tr>\n",
       "\t<tr><th scope=row>Cadillac Fleetwood</th><td>10.4</td></tr>\n",
       "\t<tr><th scope=row>Lincoln Continental</th><td>10.4</td></tr>\n",
       "\t<tr><th scope=row>Chrysler Imperial</th><td>14.7</td></tr>\n",
       "\t<tr><th scope=row>Fiat 128</th><td>32.4</td></tr>\n",
       "\t<tr><th scope=row>Honda Civic</th><td>30.4</td></tr>\n",
       "\t<tr><th scope=row>Toyota Corolla</th><td>33.9</td></tr>\n",
       "\t<tr><th scope=row>Toyota Corona</th><td>21.5</td></tr>\n",
       "\t<tr><th scope=row>Dodge Challenger</th><td>15.5</td></tr>\n",
       "\t<tr><th scope=row>AMC Javelin</th><td>15.2</td></tr>\n",
       "\t<tr><th scope=row>Camaro Z28</th><td>13.3</td></tr>\n",
       "\t<tr><th scope=row>Pontiac Firebird</th><td>19.2</td></tr>\n",
       "\t<tr><th scope=row>Fiat X1-9</th><td>27.3</td></tr>\n",
       "\t<tr><th scope=row>Porsche 914-2</th><td>26.0</td></tr>\n",
       "\t<tr><th scope=row>Lotus Europa</th><td>30.4</td></tr>\n",
       "\t<tr><th scope=row>Ford Pantera L</th><td>15.8</td></tr>\n",
       "\t<tr><th scope=row>Ferrari Dino</th><td>19.7</td></tr>\n",
       "\t<tr><th scope=row>Maserati Bora</th><td>15.0</td></tr>\n",
       "\t<tr><th scope=row>Volvo 142E</th><td>21.4</td></tr>\n",
       "</tbody>\n",
       "</table>\n"
      ],
      "text/latex": [
       "\\begin{tabular}{r|l}\n",
       "  & mpg\\\\\n",
       "\\hline\n",
       "\tMazda RX4 & 21.0\\\\\n",
       "\tMazda RX4 Wag & 21.0\\\\\n",
       "\tDatsun 710 & 22.8\\\\\n",
       "\tHornet 4 Drive & 21.4\\\\\n",
       "\tHornet Sportabout & 18.7\\\\\n",
       "\tValiant & 18.1\\\\\n",
       "\tDuster 360 & 14.3\\\\\n",
       "\tMerc 240D & 24.4\\\\\n",
       "\tMerc 230 & 22.8\\\\\n",
       "\tMerc 280 & 19.2\\\\\n",
       "\tMerc 280C & 17.8\\\\\n",
       "\tMerc 450SE & 16.4\\\\\n",
       "\tMerc 450SL & 17.3\\\\\n",
       "\tMerc 450SLC & 15.2\\\\\n",
       "\tCadillac Fleetwood & 10.4\\\\\n",
       "\tLincoln Continental & 10.4\\\\\n",
       "\tChrysler Imperial & 14.7\\\\\n",
       "\tFiat 128 & 32.4\\\\\n",
       "\tHonda Civic & 30.4\\\\\n",
       "\tToyota Corolla & 33.9\\\\\n",
       "\tToyota Corona & 21.5\\\\\n",
       "\tDodge Challenger & 15.5\\\\\n",
       "\tAMC Javelin & 15.2\\\\\n",
       "\tCamaro Z28 & 13.3\\\\\n",
       "\tPontiac Firebird & 19.2\\\\\n",
       "\tFiat X1-9 & 27.3\\\\\n",
       "\tPorsche 914-2 & 26.0\\\\\n",
       "\tLotus Europa & 30.4\\\\\n",
       "\tFord Pantera L & 15.8\\\\\n",
       "\tFerrari Dino & 19.7\\\\\n",
       "\tMaserati Bora & 15.0\\\\\n",
       "\tVolvo 142E & 21.4\\\\\n",
       "\\end{tabular}\n"
      ],
      "text/markdown": [
       "\n",
       "| <!--/--> | mpg |\n",
       "|---|---|\n",
       "| Mazda RX4 | 21.0 |\n",
       "| Mazda RX4 Wag | 21.0 |\n",
       "| Datsun 710 | 22.8 |\n",
       "| Hornet 4 Drive | 21.4 |\n",
       "| Hornet Sportabout | 18.7 |\n",
       "| Valiant | 18.1 |\n",
       "| Duster 360 | 14.3 |\n",
       "| Merc 240D | 24.4 |\n",
       "| Merc 230 | 22.8 |\n",
       "| Merc 280 | 19.2 |\n",
       "| Merc 280C | 17.8 |\n",
       "| Merc 450SE | 16.4 |\n",
       "| Merc 450SL | 17.3 |\n",
       "| Merc 450SLC | 15.2 |\n",
       "| Cadillac Fleetwood | 10.4 |\n",
       "| Lincoln Continental | 10.4 |\n",
       "| Chrysler Imperial | 14.7 |\n",
       "| Fiat 128 | 32.4 |\n",
       "| Honda Civic | 30.4 |\n",
       "| Toyota Corolla | 33.9 |\n",
       "| Toyota Corona | 21.5 |\n",
       "| Dodge Challenger | 15.5 |\n",
       "| AMC Javelin | 15.2 |\n",
       "| Camaro Z28 | 13.3 |\n",
       "| Pontiac Firebird | 19.2 |\n",
       "| Fiat X1-9 | 27.3 |\n",
       "| Porsche 914-2 | 26.0 |\n",
       "| Lotus Europa | 30.4 |\n",
       "| Ford Pantera L | 15.8 |\n",
       "| Ferrari Dino | 19.7 |\n",
       "| Maserati Bora | 15.0 |\n",
       "| Volvo 142E | 21.4 |\n",
       "\n"
      ],
      "text/plain": [
       "                    mpg \n",
       "Mazda RX4           21.0\n",
       "Mazda RX4 Wag       21.0\n",
       "Datsun 710          22.8\n",
       "Hornet 4 Drive      21.4\n",
       "Hornet Sportabout   18.7\n",
       "Valiant             18.1\n",
       "Duster 360          14.3\n",
       "Merc 240D           24.4\n",
       "Merc 230            22.8\n",
       "Merc 280            19.2\n",
       "Merc 280C           17.8\n",
       "Merc 450SE          16.4\n",
       "Merc 450SL          17.3\n",
       "Merc 450SLC         15.2\n",
       "Cadillac Fleetwood  10.4\n",
       "Lincoln Continental 10.4\n",
       "Chrysler Imperial   14.7\n",
       "Fiat 128            32.4\n",
       "Honda Civic         30.4\n",
       "Toyota Corolla      33.9\n",
       "Toyota Corona       21.5\n",
       "Dodge Challenger    15.5\n",
       "AMC Javelin         15.2\n",
       "Camaro Z28          13.3\n",
       "Pontiac Firebird    19.2\n",
       "Fiat X1-9           27.3\n",
       "Porsche 914-2       26.0\n",
       "Lotus Europa        30.4\n",
       "Ford Pantera L      15.8\n",
       "Ferrari Dino        19.7\n",
       "Maserati Bora       15.0\n",
       "Volvo 142E          21.4"
      ]
     },
     "metadata": {},
     "output_type": "display_data"
    }
   ],
   "source": [
    "mtcars[1] # indeks lokasi kolom:1, cara ini mereferensi kolom mpg sbg data frame"
   ]
  },
  {
   "cell_type": "code",
   "execution_count": 195,
   "metadata": {},
   "outputs": [
    {
     "data": {
      "text/html": [
       "<table>\n",
       "<thead><tr><th></th><th scope=col>mpg</th><th scope=col>cyl</th><th scope=col>disp</th><th scope=col>hp</th><th scope=col>drat</th><th scope=col>wt</th><th scope=col>qsec</th><th scope=col>vs</th><th scope=col>am</th><th scope=col>gear</th><th scope=col>carb</th></tr></thead>\n",
       "<tbody>\n",
       "\t<tr><th scope=row>Mazda RX4</th><td>21.0 </td><td>6    </td><td>160  </td><td>110  </td><td>3.90 </td><td>2.620</td><td>16.46</td><td>0    </td><td>1    </td><td>4    </td><td>4    </td></tr>\n",
       "\t<tr><th scope=row>Mazda RX4 Wag</th><td>21.0 </td><td>6    </td><td>160  </td><td>110  </td><td>3.90 </td><td>2.875</td><td>17.02</td><td>0    </td><td>1    </td><td>4    </td><td>4    </td></tr>\n",
       "\t<tr><th scope=row>Datsun 710</th><td>22.8 </td><td>4    </td><td>108  </td><td> 93  </td><td>3.85 </td><td>2.320</td><td>18.61</td><td>1    </td><td>1    </td><td>4    </td><td>1    </td></tr>\n",
       "\t<tr><th scope=row>Hornet 4 Drive</th><td>21.4 </td><td>6    </td><td>258  </td><td>110  </td><td>3.08 </td><td>3.215</td><td>19.44</td><td>1    </td><td>0    </td><td>3    </td><td>1    </td></tr>\n",
       "\t<tr><th scope=row>Hornet Sportabout</th><td>18.7 </td><td>8    </td><td>360  </td><td>175  </td><td>3.15 </td><td>3.440</td><td>17.02</td><td>0    </td><td>0    </td><td>3    </td><td>2    </td></tr>\n",
       "\t<tr><th scope=row>Valiant</th><td>18.1 </td><td>6    </td><td>225  </td><td>105  </td><td>2.76 </td><td>3.460</td><td>20.22</td><td>1    </td><td>0    </td><td>3    </td><td>1    </td></tr>\n",
       "</tbody>\n",
       "</table>\n"
      ],
      "text/latex": [
       "\\begin{tabular}{r|lllllllllll}\n",
       "  & mpg & cyl & disp & hp & drat & wt & qsec & vs & am & gear & carb\\\\\n",
       "\\hline\n",
       "\tMazda RX4 & 21.0  & 6     & 160   & 110   & 3.90  & 2.620 & 16.46 & 0     & 1     & 4     & 4    \\\\\n",
       "\tMazda RX4 Wag & 21.0  & 6     & 160   & 110   & 3.90  & 2.875 & 17.02 & 0     & 1     & 4     & 4    \\\\\n",
       "\tDatsun 710 & 22.8  & 4     & 108   &  93   & 3.85  & 2.320 & 18.61 & 1     & 1     & 4     & 1    \\\\\n",
       "\tHornet 4 Drive & 21.4  & 6     & 258   & 110   & 3.08  & 3.215 & 19.44 & 1     & 0     & 3     & 1    \\\\\n",
       "\tHornet Sportabout & 18.7  & 8     & 360   & 175   & 3.15  & 3.440 & 17.02 & 0     & 0     & 3     & 2    \\\\\n",
       "\tValiant & 18.1  & 6     & 225   & 105   & 2.76  & 3.460 & 20.22 & 1     & 0     & 3     & 1    \\\\\n",
       "\\end{tabular}\n"
      ],
      "text/markdown": [
       "\n",
       "| <!--/--> | mpg | cyl | disp | hp | drat | wt | qsec | vs | am | gear | carb |\n",
       "|---|---|---|---|---|---|---|---|---|---|---|---|\n",
       "| Mazda RX4 | 21.0  | 6     | 160   | 110   | 3.90  | 2.620 | 16.46 | 0     | 1     | 4     | 4     |\n",
       "| Mazda RX4 Wag | 21.0  | 6     | 160   | 110   | 3.90  | 2.875 | 17.02 | 0     | 1     | 4     | 4     |\n",
       "| Datsun 710 | 22.8  | 4     | 108   |  93   | 3.85  | 2.320 | 18.61 | 1     | 1     | 4     | 1     |\n",
       "| Hornet 4 Drive | 21.4  | 6     | 258   | 110   | 3.08  | 3.215 | 19.44 | 1     | 0     | 3     | 1     |\n",
       "| Hornet Sportabout | 18.7  | 8     | 360   | 175   | 3.15  | 3.440 | 17.02 | 0     | 0     | 3     | 2     |\n",
       "| Valiant | 18.1  | 6     | 225   | 105   | 2.76  | 3.460 | 20.22 | 1     | 0     | 3     | 1     |\n",
       "\n"
      ],
      "text/plain": [
       "                  mpg  cyl disp hp  drat wt    qsec  vs am gear carb\n",
       "Mazda RX4         21.0 6   160  110 3.90 2.620 16.46 0  1  4    4   \n",
       "Mazda RX4 Wag     21.0 6   160  110 3.90 2.875 17.02 0  1  4    4   \n",
       "Datsun 710        22.8 4   108   93 3.85 2.320 18.61 1  1  4    1   \n",
       "Hornet 4 Drive    21.4 6   258  110 3.08 3.215 19.44 1  0  3    1   \n",
       "Hornet Sportabout 18.7 8   360  175 3.15 3.440 17.02 0  0  3    2   \n",
       "Valiant           18.1 6   225  105 2.76 3.460 20.22 1  0  3    1   "
      ]
     },
     "metadata": {},
     "output_type": "display_data"
    }
   ],
   "source": [
    "head(mtcars)"
   ]
  },
  {
   "cell_type": "code",
   "execution_count": 196,
   "metadata": {},
   "outputs": [
    {
     "data": {
      "text/html": [
       "<table>\n",
       "<thead><tr><th></th><th scope=col>mpg</th><th scope=col>cyl</th></tr></thead>\n",
       "<tbody>\n",
       "\t<tr><th scope=row>Mazda RX4</th><td>21.0</td><td>6   </td></tr>\n",
       "\t<tr><th scope=row>Mazda RX4 Wag</th><td>21.0</td><td>6   </td></tr>\n",
       "\t<tr><th scope=row>Datsun 710</th><td>22.8</td><td>4   </td></tr>\n",
       "\t<tr><th scope=row>Hornet 4 Drive</th><td>21.4</td><td>6   </td></tr>\n",
       "\t<tr><th scope=row>Hornet Sportabout</th><td>18.7</td><td>8   </td></tr>\n",
       "\t<tr><th scope=row>Valiant</th><td>18.1</td><td>6   </td></tr>\n",
       "\t<tr><th scope=row>Duster 360</th><td>14.3</td><td>8   </td></tr>\n",
       "\t<tr><th scope=row>Merc 240D</th><td>24.4</td><td>4   </td></tr>\n",
       "\t<tr><th scope=row>Merc 230</th><td>22.8</td><td>4   </td></tr>\n",
       "\t<tr><th scope=row>Merc 280</th><td>19.2</td><td>6   </td></tr>\n",
       "\t<tr><th scope=row>Merc 280C</th><td>17.8</td><td>6   </td></tr>\n",
       "\t<tr><th scope=row>Merc 450SE</th><td>16.4</td><td>8   </td></tr>\n",
       "\t<tr><th scope=row>Merc 450SL</th><td>17.3</td><td>8   </td></tr>\n",
       "\t<tr><th scope=row>Merc 450SLC</th><td>15.2</td><td>8   </td></tr>\n",
       "\t<tr><th scope=row>Cadillac Fleetwood</th><td>10.4</td><td>8   </td></tr>\n",
       "\t<tr><th scope=row>Lincoln Continental</th><td>10.4</td><td>8   </td></tr>\n",
       "\t<tr><th scope=row>Chrysler Imperial</th><td>14.7</td><td>8   </td></tr>\n",
       "\t<tr><th scope=row>Fiat 128</th><td>32.4</td><td>4   </td></tr>\n",
       "\t<tr><th scope=row>Honda Civic</th><td>30.4</td><td>4   </td></tr>\n",
       "\t<tr><th scope=row>Toyota Corolla</th><td>33.9</td><td>4   </td></tr>\n",
       "\t<tr><th scope=row>Toyota Corona</th><td>21.5</td><td>4   </td></tr>\n",
       "\t<tr><th scope=row>Dodge Challenger</th><td>15.5</td><td>8   </td></tr>\n",
       "\t<tr><th scope=row>AMC Javelin</th><td>15.2</td><td>8   </td></tr>\n",
       "\t<tr><th scope=row>Camaro Z28</th><td>13.3</td><td>8   </td></tr>\n",
       "\t<tr><th scope=row>Pontiac Firebird</th><td>19.2</td><td>8   </td></tr>\n",
       "\t<tr><th scope=row>Fiat X1-9</th><td>27.3</td><td>4   </td></tr>\n",
       "\t<tr><th scope=row>Porsche 914-2</th><td>26.0</td><td>4   </td></tr>\n",
       "\t<tr><th scope=row>Lotus Europa</th><td>30.4</td><td>4   </td></tr>\n",
       "\t<tr><th scope=row>Ford Pantera L</th><td>15.8</td><td>8   </td></tr>\n",
       "\t<tr><th scope=row>Ferrari Dino</th><td>19.7</td><td>6   </td></tr>\n",
       "\t<tr><th scope=row>Maserati Bora</th><td>15.0</td><td>8   </td></tr>\n",
       "\t<tr><th scope=row>Volvo 142E</th><td>21.4</td><td>4   </td></tr>\n",
       "</tbody>\n",
       "</table>\n"
      ],
      "text/latex": [
       "\\begin{tabular}{r|ll}\n",
       "  & mpg & cyl\\\\\n",
       "\\hline\n",
       "\tMazda RX4 & 21.0 & 6   \\\\\n",
       "\tMazda RX4 Wag & 21.0 & 6   \\\\\n",
       "\tDatsun 710 & 22.8 & 4   \\\\\n",
       "\tHornet 4 Drive & 21.4 & 6   \\\\\n",
       "\tHornet Sportabout & 18.7 & 8   \\\\\n",
       "\tValiant & 18.1 & 6   \\\\\n",
       "\tDuster 360 & 14.3 & 8   \\\\\n",
       "\tMerc 240D & 24.4 & 4   \\\\\n",
       "\tMerc 230 & 22.8 & 4   \\\\\n",
       "\tMerc 280 & 19.2 & 6   \\\\\n",
       "\tMerc 280C & 17.8 & 6   \\\\\n",
       "\tMerc 450SE & 16.4 & 8   \\\\\n",
       "\tMerc 450SL & 17.3 & 8   \\\\\n",
       "\tMerc 450SLC & 15.2 & 8   \\\\\n",
       "\tCadillac Fleetwood & 10.4 & 8   \\\\\n",
       "\tLincoln Continental & 10.4 & 8   \\\\\n",
       "\tChrysler Imperial & 14.7 & 8   \\\\\n",
       "\tFiat 128 & 32.4 & 4   \\\\\n",
       "\tHonda Civic & 30.4 & 4   \\\\\n",
       "\tToyota Corolla & 33.9 & 4   \\\\\n",
       "\tToyota Corona & 21.5 & 4   \\\\\n",
       "\tDodge Challenger & 15.5 & 8   \\\\\n",
       "\tAMC Javelin & 15.2 & 8   \\\\\n",
       "\tCamaro Z28 & 13.3 & 8   \\\\\n",
       "\tPontiac Firebird & 19.2 & 8   \\\\\n",
       "\tFiat X1-9 & 27.3 & 4   \\\\\n",
       "\tPorsche 914-2 & 26.0 & 4   \\\\\n",
       "\tLotus Europa & 30.4 & 4   \\\\\n",
       "\tFord Pantera L & 15.8 & 8   \\\\\n",
       "\tFerrari Dino & 19.7 & 6   \\\\\n",
       "\tMaserati Bora & 15.0 & 8   \\\\\n",
       "\tVolvo 142E & 21.4 & 4   \\\\\n",
       "\\end{tabular}\n"
      ],
      "text/markdown": [
       "\n",
       "| <!--/--> | mpg | cyl |\n",
       "|---|---|---|\n",
       "| Mazda RX4 | 21.0 | 6    |\n",
       "| Mazda RX4 Wag | 21.0 | 6    |\n",
       "| Datsun 710 | 22.8 | 4    |\n",
       "| Hornet 4 Drive | 21.4 | 6    |\n",
       "| Hornet Sportabout | 18.7 | 8    |\n",
       "| Valiant | 18.1 | 6    |\n",
       "| Duster 360 | 14.3 | 8    |\n",
       "| Merc 240D | 24.4 | 4    |\n",
       "| Merc 230 | 22.8 | 4    |\n",
       "| Merc 280 | 19.2 | 6    |\n",
       "| Merc 280C | 17.8 | 6    |\n",
       "| Merc 450SE | 16.4 | 8    |\n",
       "| Merc 450SL | 17.3 | 8    |\n",
       "| Merc 450SLC | 15.2 | 8    |\n",
       "| Cadillac Fleetwood | 10.4 | 8    |\n",
       "| Lincoln Continental | 10.4 | 8    |\n",
       "| Chrysler Imperial | 14.7 | 8    |\n",
       "| Fiat 128 | 32.4 | 4    |\n",
       "| Honda Civic | 30.4 | 4    |\n",
       "| Toyota Corolla | 33.9 | 4    |\n",
       "| Toyota Corona | 21.5 | 4    |\n",
       "| Dodge Challenger | 15.5 | 8    |\n",
       "| AMC Javelin | 15.2 | 8    |\n",
       "| Camaro Z28 | 13.3 | 8    |\n",
       "| Pontiac Firebird | 19.2 | 8    |\n",
       "| Fiat X1-9 | 27.3 | 4    |\n",
       "| Porsche 914-2 | 26.0 | 4    |\n",
       "| Lotus Europa | 30.4 | 4    |\n",
       "| Ford Pantera L | 15.8 | 8    |\n",
       "| Ferrari Dino | 19.7 | 6    |\n",
       "| Maserati Bora | 15.0 | 8    |\n",
       "| Volvo 142E | 21.4 | 4    |\n",
       "\n"
      ],
      "text/plain": [
       "                    mpg  cyl\n",
       "Mazda RX4           21.0 6  \n",
       "Mazda RX4 Wag       21.0 6  \n",
       "Datsun 710          22.8 4  \n",
       "Hornet 4 Drive      21.4 6  \n",
       "Hornet Sportabout   18.7 8  \n",
       "Valiant             18.1 6  \n",
       "Duster 360          14.3 8  \n",
       "Merc 240D           24.4 4  \n",
       "Merc 230            22.8 4  \n",
       "Merc 280            19.2 6  \n",
       "Merc 280C           17.8 6  \n",
       "Merc 450SE          16.4 8  \n",
       "Merc 450SL          17.3 8  \n",
       "Merc 450SLC         15.2 8  \n",
       "Cadillac Fleetwood  10.4 8  \n",
       "Lincoln Continental 10.4 8  \n",
       "Chrysler Imperial   14.7 8  \n",
       "Fiat 128            32.4 4  \n",
       "Honda Civic         30.4 4  \n",
       "Toyota Corolla      33.9 4  \n",
       "Toyota Corona       21.5 4  \n",
       "Dodge Challenger    15.5 8  \n",
       "AMC Javelin         15.2 8  \n",
       "Camaro Z28          13.3 8  \n",
       "Pontiac Firebird    19.2 8  \n",
       "Fiat X1-9           27.3 4  \n",
       "Porsche 914-2       26.0 4  \n",
       "Lotus Europa        30.4 4  \n",
       "Ford Pantera L      15.8 8  \n",
       "Ferrari Dino        19.7 6  \n",
       "Maserati Bora       15.0 8  \n",
       "Volvo 142E          21.4 4  "
      ]
     },
     "metadata": {},
     "output_type": "display_data"
    }
   ],
   "source": [
    "mtcars[c('mpg', 'cyl')]"
   ]
  },
  {
   "cell_type": "markdown",
   "metadata": {},
   "source": [
    "### Menambahkan baris dan kolom"
   ]
  },
  {
   "cell_type": "code",
   "execution_count": 197,
   "metadata": {},
   "outputs": [
    {
     "data": {
      "text/html": [
       "<table>\n",
       "<thead><tr><th scope=col>kol1</th><th scope=col>kol2</th></tr></thead>\n",
       "<tbody>\n",
       "\t<tr><td>10</td><td>a </td></tr>\n",
       "\t<tr><td>20</td><td>b </td></tr>\n",
       "\t<tr><td>30</td><td>c </td></tr>\n",
       "\t<tr><td>40</td><td>d </td></tr>\n",
       "\t<tr><td>50</td><td>e </td></tr>\n",
       "</tbody>\n",
       "</table>\n"
      ],
      "text/latex": [
       "\\begin{tabular}{r|ll}\n",
       " kol1 & kol2\\\\\n",
       "\\hline\n",
       "\t 10 & a \\\\\n",
       "\t 20 & b \\\\\n",
       "\t 30 & c \\\\\n",
       "\t 40 & d \\\\\n",
       "\t 50 & e \\\\\n",
       "\\end{tabular}\n"
      ],
      "text/markdown": [
       "\n",
       "| kol1 | kol2 |\n",
       "|---|---|\n",
       "| 10 | a  |\n",
       "| 20 | b  |\n",
       "| 30 | c  |\n",
       "| 40 | d  |\n",
       "| 50 | e  |\n",
       "\n"
      ],
      "text/plain": [
       "  kol1 kol2\n",
       "1 10   a   \n",
       "2 20   b   \n",
       "3 30   c   \n",
       "4 40   d   \n",
       "5 50   e   "
      ]
     },
     "metadata": {},
     "output_type": "display_data"
    }
   ],
   "source": [
    "c1 <- c(10,20,30,40,50)\n",
    "c2 <- letters[c(1:5)]\n",
    "df <- data.frame(kol1=c1,kol2=c2)\n",
    "df"
   ]
  },
  {
   "cell_type": "code",
   "execution_count": 198,
   "metadata": {},
   "outputs": [
    {
     "data": {
      "text/html": [
       "<table>\n",
       "<thead><tr><th scope=col>kol1</th><th scope=col>kol2</th></tr></thead>\n",
       "<tbody>\n",
       "\t<tr><td>128        </td><td>Meteorologi</td></tr>\n",
       "</tbody>\n",
       "</table>\n"
      ],
      "text/latex": [
       "\\begin{tabular}{r|ll}\n",
       " kol1 & kol2\\\\\n",
       "\\hline\n",
       "\t 128         & Meteorologi\\\\\n",
       "\\end{tabular}\n"
      ],
      "text/markdown": [
       "\n",
       "| kol1 | kol2 |\n",
       "|---|---|\n",
       "| 128         | Meteorologi |\n",
       "\n"
      ],
      "text/plain": [
       "  kol1 kol2       \n",
       "1 128  Meteorologi"
      ]
     },
     "metadata": {},
     "output_type": "display_data"
    }
   ],
   "source": [
    "df1 <- data.frame(kol1=128,kol2='Meteorologi')\n",
    "df1"
   ]
  },
  {
   "cell_type": "code",
   "execution_count": 199,
   "metadata": {},
   "outputs": [
    {
     "data": {
      "text/html": [
       "<table>\n",
       "<thead><tr><th scope=col>kol1</th><th scope=col>kol2</th></tr></thead>\n",
       "<tbody>\n",
       "\t<tr><td> 10        </td><td>a          </td></tr>\n",
       "\t<tr><td> 20        </td><td>b          </td></tr>\n",
       "\t<tr><td> 30        </td><td>c          </td></tr>\n",
       "\t<tr><td> 40        </td><td>d          </td></tr>\n",
       "\t<tr><td> 50        </td><td>e          </td></tr>\n",
       "\t<tr><td>128        </td><td>Meteorologi</td></tr>\n",
       "</tbody>\n",
       "</table>\n"
      ],
      "text/latex": [
       "\\begin{tabular}{r|ll}\n",
       " kol1 & kol2\\\\\n",
       "\\hline\n",
       "\t  10         & a          \\\\\n",
       "\t  20         & b          \\\\\n",
       "\t  30         & c          \\\\\n",
       "\t  40         & d          \\\\\n",
       "\t  50         & e          \\\\\n",
       "\t 128         & Meteorologi\\\\\n",
       "\\end{tabular}\n"
      ],
      "text/markdown": [
       "\n",
       "| kol1 | kol2 |\n",
       "|---|---|\n",
       "|  10         | a           |\n",
       "|  20         | b           |\n",
       "|  30         | c           |\n",
       "|  40         | d           |\n",
       "|  50         | e           |\n",
       "| 128         | Meteorologi |\n",
       "\n"
      ],
      "text/plain": [
       "  kol1 kol2       \n",
       "1  10  a          \n",
       "2  20  b          \n",
       "3  30  c          \n",
       "4  40  d          \n",
       "5  50  e          \n",
       "6 128  Meteorologi"
      ]
     },
     "metadata": {},
     "output_type": "display_data"
    }
   ],
   "source": [
    "# menambahkan df1 ke df\n",
    "df <- rbind(df,df1)\n",
    "df"
   ]
  },
  {
   "cell_type": "code",
   "execution_count": 200,
   "metadata": {},
   "outputs": [
    {
     "data": {
      "text/html": [
       "<ol class=list-inline>\n",
       "\t<li>11</li>\n",
       "\t<li>12</li>\n",
       "\t<li>13</li>\n",
       "\t<li>14</li>\n",
       "\t<li>15</li>\n",
       "\t<li>16</li>\n",
       "</ol>\n"
      ],
      "text/latex": [
       "\\begin{enumerate*}\n",
       "\\item 11\n",
       "\\item 12\n",
       "\\item 13\n",
       "\\item 14\n",
       "\\item 15\n",
       "\\item 16\n",
       "\\end{enumerate*}\n"
      ],
      "text/markdown": [
       "1. 11\n",
       "2. 12\n",
       "3. 13\n",
       "4. 14\n",
       "5. 15\n",
       "6. 16\n",
       "\n",
       "\n"
      ],
      "text/plain": [
       "[1] 11 12 13 14 15 16"
      ]
     },
     "metadata": {},
     "output_type": "display_data"
    }
   ],
   "source": [
    "c3 <- c(11:16)\n",
    "c3"
   ]
  },
  {
   "cell_type": "code",
   "execution_count": 201,
   "metadata": {},
   "outputs": [
    {
     "data": {
      "text/html": [
       "<table>\n",
       "<thead><tr><th scope=col>kol1</th><th scope=col>kol2</th><th scope=col>kol3</th></tr></thead>\n",
       "<tbody>\n",
       "\t<tr><td> 10        </td><td>a          </td><td>11         </td></tr>\n",
       "\t<tr><td> 20        </td><td>b          </td><td>12         </td></tr>\n",
       "\t<tr><td> 30        </td><td>c          </td><td>13         </td></tr>\n",
       "\t<tr><td> 40        </td><td>d          </td><td>14         </td></tr>\n",
       "\t<tr><td> 50        </td><td>e          </td><td>15         </td></tr>\n",
       "\t<tr><td>128        </td><td>Meteorologi</td><td>16         </td></tr>\n",
       "</tbody>\n",
       "</table>\n"
      ],
      "text/latex": [
       "\\begin{tabular}{r|lll}\n",
       " kol1 & kol2 & kol3\\\\\n",
       "\\hline\n",
       "\t  10         & a           & 11         \\\\\n",
       "\t  20         & b           & 12         \\\\\n",
       "\t  30         & c           & 13         \\\\\n",
       "\t  40         & d           & 14         \\\\\n",
       "\t  50         & e           & 15         \\\\\n",
       "\t 128         & Meteorologi & 16         \\\\\n",
       "\\end{tabular}\n"
      ],
      "text/markdown": [
       "\n",
       "| kol1 | kol2 | kol3 |\n",
       "|---|---|---|\n",
       "|  10         | a           | 11          |\n",
       "|  20         | b           | 12          |\n",
       "|  30         | c           | 13          |\n",
       "|  40         | d           | 14          |\n",
       "|  50         | e           | 15          |\n",
       "| 128         | Meteorologi | 16          |\n",
       "\n"
      ],
      "text/plain": [
       "  kol1 kol2        kol3\n",
       "1  10  a           11  \n",
       "2  20  b           12  \n",
       "3  30  c           13  \n",
       "4  40  d           14  \n",
       "5  50  e           15  \n",
       "6 128  Meteorologi 16  "
      ]
     },
     "metadata": {},
     "output_type": "display_data"
    }
   ],
   "source": [
    "# menambahkan kolom ke df\n",
    "df <- cbind(df,kol3=c3)\n",
    "df"
   ]
  },
  {
   "cell_type": "code",
   "execution_count": 202,
   "metadata": {},
   "outputs": [
    {
     "data": {
      "text/html": [
       "<table>\n",
       "<thead><tr><th scope=col>kol1</th><th scope=col>kol2</th><th scope=col>kol3</th><th scope=col>kol4</th></tr></thead>\n",
       "<tbody>\n",
       "\t<tr><td> 10        </td><td>a          </td><td>11         </td><td>20         </td></tr>\n",
       "\t<tr><td> 20        </td><td>b          </td><td>12         </td><td>25         </td></tr>\n",
       "\t<tr><td> 30        </td><td>c          </td><td>13         </td><td>30         </td></tr>\n",
       "\t<tr><td> 40        </td><td>d          </td><td>14         </td><td>35         </td></tr>\n",
       "\t<tr><td> 50        </td><td>e          </td><td>15         </td><td>40         </td></tr>\n",
       "\t<tr><td>128        </td><td>Meteorologi</td><td>16         </td><td>45         </td></tr>\n",
       "</tbody>\n",
       "</table>\n"
      ],
      "text/latex": [
       "\\begin{tabular}{r|llll}\n",
       " kol1 & kol2 & kol3 & kol4\\\\\n",
       "\\hline\n",
       "\t  10         & a           & 11          & 20         \\\\\n",
       "\t  20         & b           & 12          & 25         \\\\\n",
       "\t  30         & c           & 13          & 30         \\\\\n",
       "\t  40         & d           & 14          & 35         \\\\\n",
       "\t  50         & e           & 15          & 40         \\\\\n",
       "\t 128         & Meteorologi & 16          & 45         \\\\\n",
       "\\end{tabular}\n"
      ],
      "text/markdown": [
       "\n",
       "| kol1 | kol2 | kol3 | kol4 |\n",
       "|---|---|---|---|\n",
       "|  10         | a           | 11          | 20          |\n",
       "|  20         | b           | 12          | 25          |\n",
       "|  30         | c           | 13          | 30          |\n",
       "|  40         | d           | 14          | 35          |\n",
       "|  50         | e           | 15          | 40          |\n",
       "| 128         | Meteorologi | 16          | 45          |\n",
       "\n"
      ],
      "text/plain": [
       "  kol1 kol2        kol3 kol4\n",
       "1  10  a           11   20  \n",
       "2  20  b           12   25  \n",
       "3  30  c           13   30  \n",
       "4  40  d           14   35  \n",
       "5  50  e           15   40  \n",
       "6 128  Meteorologi 16   45  "
      ]
     },
     "metadata": {},
     "output_type": "display_data"
    }
   ],
   "source": [
    "df$kol4 <- c(20,25,30,35,40,45)\n",
    "df"
   ]
  },
  {
   "cell_type": "code",
   "execution_count": 203,
   "metadata": {},
   "outputs": [
    {
     "data": {
      "text/html": [
       "<table>\n",
       "<thead><tr><th scope=col>kol1</th><th scope=col>kol2</th><th scope=col>kol3</th><th scope=col>kol4</th><th scope=col>kol5</th></tr></thead>\n",
       "<tbody>\n",
       "\t<tr><td> 10        </td><td>a          </td><td>11         </td><td>20         </td><td> 20        </td></tr>\n",
       "\t<tr><td> 20        </td><td>b          </td><td>12         </td><td>25         </td><td> 40        </td></tr>\n",
       "\t<tr><td> 30        </td><td>c          </td><td>13         </td><td>30         </td><td> 60        </td></tr>\n",
       "\t<tr><td> 40        </td><td>d          </td><td>14         </td><td>35         </td><td> 80        </td></tr>\n",
       "\t<tr><td> 50        </td><td>e          </td><td>15         </td><td>40         </td><td>100        </td></tr>\n",
       "\t<tr><td>128        </td><td>Meteorologi</td><td>16         </td><td>45         </td><td>256        </td></tr>\n",
       "</tbody>\n",
       "</table>\n"
      ],
      "text/latex": [
       "\\begin{tabular}{r|lllll}\n",
       " kol1 & kol2 & kol3 & kol4 & kol5\\\\\n",
       "\\hline\n",
       "\t  10         & a           & 11          & 20          &  20        \\\\\n",
       "\t  20         & b           & 12          & 25          &  40        \\\\\n",
       "\t  30         & c           & 13          & 30          &  60        \\\\\n",
       "\t  40         & d           & 14          & 35          &  80        \\\\\n",
       "\t  50         & e           & 15          & 40          & 100        \\\\\n",
       "\t 128         & Meteorologi & 16          & 45          & 256        \\\\\n",
       "\\end{tabular}\n"
      ],
      "text/markdown": [
       "\n",
       "| kol1 | kol2 | kol3 | kol4 | kol5 |\n",
       "|---|---|---|---|---|\n",
       "|  10         | a           | 11          | 20          |  20         |\n",
       "|  20         | b           | 12          | 25          |  40         |\n",
       "|  30         | c           | 13          | 30          |  60         |\n",
       "|  40         | d           | 14          | 35          |  80         |\n",
       "|  50         | e           | 15          | 40          | 100         |\n",
       "| 128         | Meteorologi | 16          | 45          | 256         |\n",
       "\n"
      ],
      "text/plain": [
       "  kol1 kol2        kol3 kol4 kol5\n",
       "1  10  a           11   20    20 \n",
       "2  20  b           12   25    40 \n",
       "3  30  c           13   30    60 \n",
       "4  40  d           14   35    80 \n",
       "5  50  e           15   40   100 \n",
       "6 128  Meteorologi 16   45   256 "
      ]
     },
     "metadata": {},
     "output_type": "display_data"
    }
   ],
   "source": [
    "df$kol5 <- df$kol1 * 2\n",
    "df"
   ]
  },
  {
   "cell_type": "markdown",
   "metadata": {},
   "source": [
    "### Mengatur penamaan kolom"
   ]
  },
  {
   "cell_type": "code",
   "execution_count": 204,
   "metadata": {},
   "outputs": [
    {
     "data": {
      "text/html": [
       "<ol class=list-inline>\n",
       "\t<li>'kol1'</li>\n",
       "\t<li>'kol2'</li>\n",
       "\t<li>'kol3'</li>\n",
       "\t<li>'kol4'</li>\n",
       "\t<li>'kol5'</li>\n",
       "</ol>\n"
      ],
      "text/latex": [
       "\\begin{enumerate*}\n",
       "\\item 'kol1'\n",
       "\\item 'kol2'\n",
       "\\item 'kol3'\n",
       "\\item 'kol4'\n",
       "\\item 'kol5'\n",
       "\\end{enumerate*}\n"
      ],
      "text/markdown": [
       "1. 'kol1'\n",
       "2. 'kol2'\n",
       "3. 'kol3'\n",
       "4. 'kol4'\n",
       "5. 'kol5'\n",
       "\n",
       "\n"
      ],
      "text/plain": [
       "[1] \"kol1\" \"kol2\" \"kol3\" \"kol4\" \"kol5\""
      ]
     },
     "metadata": {},
     "output_type": "display_data"
    }
   ],
   "source": [
    "colnames(df) # mengetahui nama kolom"
   ]
  },
  {
   "cell_type": "code",
   "execution_count": 205,
   "metadata": {},
   "outputs": [
    {
     "data": {
      "text/html": [
       "<table>\n",
       "<thead><tr><th scope=col>A</th><th scope=col>B</th><th scope=col>C</th><th scope=col>D</th><th scope=col>E</th></tr></thead>\n",
       "<tbody>\n",
       "\t<tr><td> 10        </td><td>a          </td><td>11         </td><td>20         </td><td> 20        </td></tr>\n",
       "\t<tr><td> 20        </td><td>b          </td><td>12         </td><td>25         </td><td> 40        </td></tr>\n",
       "\t<tr><td> 30        </td><td>c          </td><td>13         </td><td>30         </td><td> 60        </td></tr>\n",
       "\t<tr><td> 40        </td><td>d          </td><td>14         </td><td>35         </td><td> 80        </td></tr>\n",
       "\t<tr><td> 50        </td><td>e          </td><td>15         </td><td>40         </td><td>100        </td></tr>\n",
       "\t<tr><td>128        </td><td>Meteorologi</td><td>16         </td><td>45         </td><td>256        </td></tr>\n",
       "</tbody>\n",
       "</table>\n"
      ],
      "text/latex": [
       "\\begin{tabular}{r|lllll}\n",
       " A & B & C & D & E\\\\\n",
       "\\hline\n",
       "\t  10         & a           & 11          & 20          &  20        \\\\\n",
       "\t  20         & b           & 12          & 25          &  40        \\\\\n",
       "\t  30         & c           & 13          & 30          &  60        \\\\\n",
       "\t  40         & d           & 14          & 35          &  80        \\\\\n",
       "\t  50         & e           & 15          & 40          & 100        \\\\\n",
       "\t 128         & Meteorologi & 16          & 45          & 256        \\\\\n",
       "\\end{tabular}\n"
      ],
      "text/markdown": [
       "\n",
       "| A | B | C | D | E |\n",
       "|---|---|---|---|---|\n",
       "|  10         | a           | 11          | 20          |  20         |\n",
       "|  20         | b           | 12          | 25          |  40         |\n",
       "|  30         | c           | 13          | 30          |  60         |\n",
       "|  40         | d           | 14          | 35          |  80         |\n",
       "|  50         | e           | 15          | 40          | 100         |\n",
       "| 128         | Meteorologi | 16          | 45          | 256         |\n",
       "\n"
      ],
      "text/plain": [
       "  A   B           C  D  E  \n",
       "1  10 a           11 20  20\n",
       "2  20 b           12 25  40\n",
       "3  30 c           13 30  60\n",
       "4  40 d           14 35  80\n",
       "5  50 e           15 40 100\n",
       "6 128 Meteorologi 16 45 256"
      ]
     },
     "metadata": {},
     "output_type": "display_data"
    }
   ],
   "source": [
    "colnames(df) <- c('A', 'B', 'C', 'D', 'E') # penamaan ulang nama kolom\n",
    "df"
   ]
  },
  {
   "cell_type": "code",
   "execution_count": 206,
   "metadata": {},
   "outputs": [
    {
     "data": {
      "text/html": [
       "<table>\n",
       "<thead><tr><th scope=col>X</th><th scope=col>B</th><th scope=col>C</th><th scope=col>D</th><th scope=col>E</th></tr></thead>\n",
       "<tbody>\n",
       "\t<tr><td> 10        </td><td>a          </td><td>11         </td><td>20         </td><td> 20        </td></tr>\n",
       "\t<tr><td> 20        </td><td>b          </td><td>12         </td><td>25         </td><td> 40        </td></tr>\n",
       "\t<tr><td> 30        </td><td>c          </td><td>13         </td><td>30         </td><td> 60        </td></tr>\n",
       "\t<tr><td> 40        </td><td>d          </td><td>14         </td><td>35         </td><td> 80        </td></tr>\n",
       "\t<tr><td> 50        </td><td>e          </td><td>15         </td><td>40         </td><td>100        </td></tr>\n",
       "\t<tr><td>128        </td><td>Meteorologi</td><td>16         </td><td>45         </td><td>256        </td></tr>\n",
       "</tbody>\n",
       "</table>\n"
      ],
      "text/latex": [
       "\\begin{tabular}{r|lllll}\n",
       " X & B & C & D & E\\\\\n",
       "\\hline\n",
       "\t  10         & a           & 11          & 20          &  20        \\\\\n",
       "\t  20         & b           & 12          & 25          &  40        \\\\\n",
       "\t  30         & c           & 13          & 30          &  60        \\\\\n",
       "\t  40         & d           & 14          & 35          &  80        \\\\\n",
       "\t  50         & e           & 15          & 40          & 100        \\\\\n",
       "\t 128         & Meteorologi & 16          & 45          & 256        \\\\\n",
       "\\end{tabular}\n"
      ],
      "text/markdown": [
       "\n",
       "| X | B | C | D | E |\n",
       "|---|---|---|---|---|\n",
       "|  10         | a           | 11          | 20          |  20         |\n",
       "|  20         | b           | 12          | 25          |  40         |\n",
       "|  30         | c           | 13          | 30          |  60         |\n",
       "|  40         | d           | 14          | 35          |  80         |\n",
       "|  50         | e           | 15          | 40          | 100         |\n",
       "| 128         | Meteorologi | 16          | 45          | 256         |\n",
       "\n"
      ],
      "text/plain": [
       "  X   B           C  D  E  \n",
       "1  10 a           11 20  20\n",
       "2  20 b           12 25  40\n",
       "3  30 c           13 30  60\n",
       "4  40 d           14 35  80\n",
       "5  50 e           15 40 100\n",
       "6 128 Meteorologi 16 45 256"
      ]
     },
     "metadata": {},
     "output_type": "display_data"
    }
   ],
   "source": [
    "colnames(df)[1] <- 'X' # penamaan ulang kolom secara individual\n",
    "df"
   ]
  },
  {
   "cell_type": "code",
   "execution_count": 207,
   "metadata": {},
   "outputs": [
    {
     "data": {
      "text/html": [
       "<table>\n",
       "<thead><tr><th scope=col>X</th><th scope=col>Y</th><th scope=col>Z</th><th scope=col>D</th><th scope=col>E</th></tr></thead>\n",
       "<tbody>\n",
       "\t<tr><td> 10        </td><td>a          </td><td>11         </td><td>20         </td><td> 20        </td></tr>\n",
       "\t<tr><td> 20        </td><td>b          </td><td>12         </td><td>25         </td><td> 40        </td></tr>\n",
       "\t<tr><td> 30        </td><td>c          </td><td>13         </td><td>30         </td><td> 60        </td></tr>\n",
       "\t<tr><td> 40        </td><td>d          </td><td>14         </td><td>35         </td><td> 80        </td></tr>\n",
       "\t<tr><td> 50        </td><td>e          </td><td>15         </td><td>40         </td><td>100        </td></tr>\n",
       "\t<tr><td>128        </td><td>Meteorologi</td><td>16         </td><td>45         </td><td>256        </td></tr>\n",
       "</tbody>\n",
       "</table>\n"
      ],
      "text/latex": [
       "\\begin{tabular}{r|lllll}\n",
       " X & Y & Z & D & E\\\\\n",
       "\\hline\n",
       "\t  10         & a           & 11          & 20          &  20        \\\\\n",
       "\t  20         & b           & 12          & 25          &  40        \\\\\n",
       "\t  30         & c           & 13          & 30          &  60        \\\\\n",
       "\t  40         & d           & 14          & 35          &  80        \\\\\n",
       "\t  50         & e           & 15          & 40          & 100        \\\\\n",
       "\t 128         & Meteorologi & 16          & 45          & 256        \\\\\n",
       "\\end{tabular}\n"
      ],
      "text/markdown": [
       "\n",
       "| X | Y | Z | D | E |\n",
       "|---|---|---|---|---|\n",
       "|  10         | a           | 11          | 20          |  20         |\n",
       "|  20         | b           | 12          | 25          |  40         |\n",
       "|  30         | c           | 13          | 30          |  60         |\n",
       "|  40         | d           | 14          | 35          |  80         |\n",
       "|  50         | e           | 15          | 40          | 100         |\n",
       "| 128         | Meteorologi | 16          | 45          | 256         |\n",
       "\n"
      ],
      "text/plain": [
       "  X   Y           Z  D  E  \n",
       "1  10 a           11 20  20\n",
       "2  20 b           12 25  40\n",
       "3  30 c           13 30  60\n",
       "4  40 d           14 35  80\n",
       "5  50 e           15 40 100\n",
       "6 128 Meteorologi 16 45 256"
      ]
     },
     "metadata": {},
     "output_type": "display_data"
    }
   ],
   "source": [
    "colnames(df)[c(2,3)] <- c('Y','Z')\n",
    "df"
   ]
  },
  {
   "cell_type": "markdown",
   "metadata": {},
   "source": [
    "### Menyeleksi banyak baris dan kolom"
   ]
  },
  {
   "cell_type": "code",
   "execution_count": 208,
   "metadata": {},
   "outputs": [
    {
     "data": {
      "text/html": [
       "<table>\n",
       "<thead><tr><th scope=col>X</th><th scope=col>Y</th><th scope=col>Z</th><th scope=col>D</th><th scope=col>E</th></tr></thead>\n",
       "<tbody>\n",
       "\t<tr><td>10</td><td>a </td><td>11</td><td>20</td><td>20</td></tr>\n",
       "\t<tr><td>20</td><td>b </td><td>12</td><td>25</td><td>40</td></tr>\n",
       "\t<tr><td>30</td><td>c </td><td>13</td><td>30</td><td>60</td></tr>\n",
       "</tbody>\n",
       "</table>\n"
      ],
      "text/latex": [
       "\\begin{tabular}{r|lllll}\n",
       " X & Y & Z & D & E\\\\\n",
       "\\hline\n",
       "\t 10 & a  & 11 & 20 & 20\\\\\n",
       "\t 20 & b  & 12 & 25 & 40\\\\\n",
       "\t 30 & c  & 13 & 30 & 60\\\\\n",
       "\\end{tabular}\n"
      ],
      "text/markdown": [
       "\n",
       "| X | Y | Z | D | E |\n",
       "|---|---|---|---|---|\n",
       "| 10 | a  | 11 | 20 | 20 |\n",
       "| 20 | b  | 12 | 25 | 40 |\n",
       "| 30 | c  | 13 | 30 | 60 |\n",
       "\n"
      ],
      "text/plain": [
       "  X  Y Z  D  E \n",
       "1 10 a 11 20 20\n",
       "2 20 b 12 25 40\n",
       "3 30 c 13 30 60"
      ]
     },
     "metadata": {},
     "output_type": "display_data"
    }
   ],
   "source": [
    "df[1:3,]"
   ]
  },
  {
   "cell_type": "code",
   "execution_count": 209,
   "metadata": {},
   "outputs": [
    {
     "data": {
      "text/html": [
       "<table>\n",
       "<thead><tr><th></th><th scope=col>X</th><th scope=col>Y</th><th scope=col>Z</th><th scope=col>D</th><th scope=col>E</th></tr></thead>\n",
       "<tbody>\n",
       "\t<tr><th scope=row>1</th><td> 10        </td><td>a          </td><td>11         </td><td>20         </td><td> 20        </td></tr>\n",
       "\t<tr><th scope=row>2</th><td> 20        </td><td>b          </td><td>12         </td><td>25         </td><td> 40        </td></tr>\n",
       "\t<tr><th scope=row>4</th><td> 40        </td><td>d          </td><td>14         </td><td>35         </td><td> 80        </td></tr>\n",
       "\t<tr><th scope=row>5</th><td> 50        </td><td>e          </td><td>15         </td><td>40         </td><td>100        </td></tr>\n",
       "\t<tr><th scope=row>6</th><td>128        </td><td>Meteorologi</td><td>16         </td><td>45         </td><td>256        </td></tr>\n",
       "</tbody>\n",
       "</table>\n"
      ],
      "text/latex": [
       "\\begin{tabular}{r|lllll}\n",
       "  & X & Y & Z & D & E\\\\\n",
       "\\hline\n",
       "\t1 &  10         & a           & 11          & 20          &  20        \\\\\n",
       "\t2 &  20         & b           & 12          & 25          &  40        \\\\\n",
       "\t4 &  40         & d           & 14          & 35          &  80        \\\\\n",
       "\t5 &  50         & e           & 15          & 40          & 100        \\\\\n",
       "\t6 & 128         & Meteorologi & 16          & 45          & 256        \\\\\n",
       "\\end{tabular}\n"
      ],
      "text/markdown": [
       "\n",
       "| <!--/--> | X | Y | Z | D | E |\n",
       "|---|---|---|---|---|---|\n",
       "| 1 |  10         | a           | 11          | 20          |  20         |\n",
       "| 2 |  20         | b           | 12          | 25          |  40         |\n",
       "| 4 |  40         | d           | 14          | 35          |  80         |\n",
       "| 5 |  50         | e           | 15          | 40          | 100         |\n",
       "| 6 | 128         | Meteorologi | 16          | 45          | 256         |\n",
       "\n"
      ],
      "text/plain": [
       "  X   Y           Z  D  E  \n",
       "1  10 a           11 20  20\n",
       "2  20 b           12 25  40\n",
       "4  40 d           14 35  80\n",
       "5  50 e           15 40 100\n",
       "6 128 Meteorologi 16 45 256"
      ]
     },
     "metadata": {},
     "output_type": "display_data"
    }
   ],
   "source": [
    "# menyeleksi seluruh baris, kecuali no 3\n",
    "df[-3,]"
   ]
  },
  {
   "cell_type": "code",
   "execution_count": 210,
   "metadata": {},
   "outputs": [
    {
     "data": {
      "text/html": [
       "<table>\n",
       "<thead><tr><th></th><th scope=col>mpg</th><th scope=col>cyl</th><th scope=col>disp</th><th scope=col>hp</th><th scope=col>drat</th><th scope=col>wt</th><th scope=col>qsec</th><th scope=col>vs</th><th scope=col>am</th><th scope=col>gear</th><th scope=col>carb</th></tr></thead>\n",
       "<tbody>\n",
       "\t<tr><th scope=row>Mazda RX4</th><td>21.0 </td><td>6    </td><td>160  </td><td>110  </td><td>3.90 </td><td>2.620</td><td>16.46</td><td>0    </td><td>1    </td><td>4    </td><td>4    </td></tr>\n",
       "\t<tr><th scope=row>Mazda RX4 Wag</th><td>21.0 </td><td>6    </td><td>160  </td><td>110  </td><td>3.90 </td><td>2.875</td><td>17.02</td><td>0    </td><td>1    </td><td>4    </td><td>4    </td></tr>\n",
       "\t<tr><th scope=row>Datsun 710</th><td>22.8 </td><td>4    </td><td>108  </td><td> 93  </td><td>3.85 </td><td>2.320</td><td>18.61</td><td>1    </td><td>1    </td><td>4    </td><td>1    </td></tr>\n",
       "\t<tr><th scope=row>Hornet 4 Drive</th><td>21.4 </td><td>6    </td><td>258  </td><td>110  </td><td>3.08 </td><td>3.215</td><td>19.44</td><td>1    </td><td>0    </td><td>3    </td><td>1    </td></tr>\n",
       "\t<tr><th scope=row>Hornet Sportabout</th><td>18.7 </td><td>8    </td><td>360  </td><td>175  </td><td>3.15 </td><td>3.440</td><td>17.02</td><td>0    </td><td>0    </td><td>3    </td><td>2    </td></tr>\n",
       "\t<tr><th scope=row>Valiant</th><td>18.1 </td><td>6    </td><td>225  </td><td>105  </td><td>2.76 </td><td>3.460</td><td>20.22</td><td>1    </td><td>0    </td><td>3    </td><td>1    </td></tr>\n",
       "</tbody>\n",
       "</table>\n"
      ],
      "text/latex": [
       "\\begin{tabular}{r|lllllllllll}\n",
       "  & mpg & cyl & disp & hp & drat & wt & qsec & vs & am & gear & carb\\\\\n",
       "\\hline\n",
       "\tMazda RX4 & 21.0  & 6     & 160   & 110   & 3.90  & 2.620 & 16.46 & 0     & 1     & 4     & 4    \\\\\n",
       "\tMazda RX4 Wag & 21.0  & 6     & 160   & 110   & 3.90  & 2.875 & 17.02 & 0     & 1     & 4     & 4    \\\\\n",
       "\tDatsun 710 & 22.8  & 4     & 108   &  93   & 3.85  & 2.320 & 18.61 & 1     & 1     & 4     & 1    \\\\\n",
       "\tHornet 4 Drive & 21.4  & 6     & 258   & 110   & 3.08  & 3.215 & 19.44 & 1     & 0     & 3     & 1    \\\\\n",
       "\tHornet Sportabout & 18.7  & 8     & 360   & 175   & 3.15  & 3.440 & 17.02 & 0     & 0     & 3     & 2    \\\\\n",
       "\tValiant & 18.1  & 6     & 225   & 105   & 2.76  & 3.460 & 20.22 & 1     & 0     & 3     & 1    \\\\\n",
       "\\end{tabular}\n"
      ],
      "text/markdown": [
       "\n",
       "| <!--/--> | mpg | cyl | disp | hp | drat | wt | qsec | vs | am | gear | carb |\n",
       "|---|---|---|---|---|---|---|---|---|---|---|---|\n",
       "| Mazda RX4 | 21.0  | 6     | 160   | 110   | 3.90  | 2.620 | 16.46 | 0     | 1     | 4     | 4     |\n",
       "| Mazda RX4 Wag | 21.0  | 6     | 160   | 110   | 3.90  | 2.875 | 17.02 | 0     | 1     | 4     | 4     |\n",
       "| Datsun 710 | 22.8  | 4     | 108   |  93   | 3.85  | 2.320 | 18.61 | 1     | 1     | 4     | 1     |\n",
       "| Hornet 4 Drive | 21.4  | 6     | 258   | 110   | 3.08  | 3.215 | 19.44 | 1     | 0     | 3     | 1     |\n",
       "| Hornet Sportabout | 18.7  | 8     | 360   | 175   | 3.15  | 3.440 | 17.02 | 0     | 0     | 3     | 2     |\n",
       "| Valiant | 18.1  | 6     | 225   | 105   | 2.76  | 3.460 | 20.22 | 1     | 0     | 3     | 1     |\n",
       "\n"
      ],
      "text/plain": [
       "                  mpg  cyl disp hp  drat wt    qsec  vs am gear carb\n",
       "Mazda RX4         21.0 6   160  110 3.90 2.620 16.46 0  1  4    4   \n",
       "Mazda RX4 Wag     21.0 6   160  110 3.90 2.875 17.02 0  1  4    4   \n",
       "Datsun 710        22.8 4   108   93 3.85 2.320 18.61 1  1  4    1   \n",
       "Hornet 4 Drive    21.4 6   258  110 3.08 3.215 19.44 1  0  3    1   \n",
       "Hornet Sportabout 18.7 8   360  175 3.15 3.440 17.02 0  0  3    2   \n",
       "Valiant           18.1 6   225  105 2.76 3.460 20.22 1  0  3    1   "
      ]
     },
     "metadata": {},
     "output_type": "display_data"
    }
   ],
   "source": [
    "# penyeleksian kondisional\n",
    "head(mtcars)"
   ]
  },
  {
   "cell_type": "code",
   "execution_count": 211,
   "metadata": {},
   "outputs": [
    {
     "data": {
      "text/html": [
       "<table>\n",
       "<thead><tr><th></th><th scope=col>mpg</th><th scope=col>cyl</th><th scope=col>disp</th><th scope=col>hp</th><th scope=col>drat</th><th scope=col>wt</th><th scope=col>qsec</th><th scope=col>vs</th><th scope=col>am</th><th scope=col>gear</th><th scope=col>carb</th></tr></thead>\n",
       "<tbody>\n",
       "\t<tr><th scope=row>Mazda RX4</th><td>21.0 </td><td>6    </td><td>160.0</td><td>110  </td><td>3.90 </td><td>2.620</td><td>16.46</td><td>0    </td><td>1    </td><td>4    </td><td>4    </td></tr>\n",
       "\t<tr><th scope=row>Mazda RX4 Wag</th><td>21.0 </td><td>6    </td><td>160.0</td><td>110  </td><td>3.90 </td><td>2.875</td><td>17.02</td><td>0    </td><td>1    </td><td>4    </td><td>4    </td></tr>\n",
       "\t<tr><th scope=row>Datsun 710</th><td>22.8 </td><td>4    </td><td>108.0</td><td> 93  </td><td>3.85 </td><td>2.320</td><td>18.61</td><td>1    </td><td>1    </td><td>4    </td><td>1    </td></tr>\n",
       "\t<tr><th scope=row>Hornet 4 Drive</th><td>21.4 </td><td>6    </td><td>258.0</td><td>110  </td><td>3.08 </td><td>3.215</td><td>19.44</td><td>1    </td><td>0    </td><td>3    </td><td>1    </td></tr>\n",
       "\t<tr><th scope=row>Merc 240D</th><td>24.4 </td><td>4    </td><td>146.7</td><td> 62  </td><td>3.69 </td><td>3.190</td><td>20.00</td><td>1    </td><td>0    </td><td>4    </td><td>2    </td></tr>\n",
       "\t<tr><th scope=row>Merc 230</th><td>22.8 </td><td>4    </td><td>140.8</td><td> 95  </td><td>3.92 </td><td>3.150</td><td>22.90</td><td>1    </td><td>0    </td><td>4    </td><td>2    </td></tr>\n",
       "\t<tr><th scope=row>Fiat 128</th><td>32.4 </td><td>4    </td><td> 78.7</td><td> 66  </td><td>4.08 </td><td>2.200</td><td>19.47</td><td>1    </td><td>1    </td><td>4    </td><td>1    </td></tr>\n",
       "\t<tr><th scope=row>Honda Civic</th><td>30.4 </td><td>4    </td><td> 75.7</td><td> 52  </td><td>4.93 </td><td>1.615</td><td>18.52</td><td>1    </td><td>1    </td><td>4    </td><td>2    </td></tr>\n",
       "\t<tr><th scope=row>Toyota Corolla</th><td>33.9 </td><td>4    </td><td> 71.1</td><td> 65  </td><td>4.22 </td><td>1.835</td><td>19.90</td><td>1    </td><td>1    </td><td>4    </td><td>1    </td></tr>\n",
       "\t<tr><th scope=row>Toyota Corona</th><td>21.5 </td><td>4    </td><td>120.1</td><td> 97  </td><td>3.70 </td><td>2.465</td><td>20.01</td><td>1    </td><td>0    </td><td>3    </td><td>1    </td></tr>\n",
       "\t<tr><th scope=row>Fiat X1-9</th><td>27.3 </td><td>4    </td><td> 79.0</td><td> 66  </td><td>4.08 </td><td>1.935</td><td>18.90</td><td>1    </td><td>1    </td><td>4    </td><td>1    </td></tr>\n",
       "\t<tr><th scope=row>Porsche 914-2</th><td>26.0 </td><td>4    </td><td>120.3</td><td> 91  </td><td>4.43 </td><td>2.140</td><td>16.70</td><td>0    </td><td>1    </td><td>5    </td><td>2    </td></tr>\n",
       "\t<tr><th scope=row>Lotus Europa</th><td>30.4 </td><td>4    </td><td> 95.1</td><td>113  </td><td>3.77 </td><td>1.513</td><td>16.90</td><td>1    </td><td>1    </td><td>5    </td><td>2    </td></tr>\n",
       "\t<tr><th scope=row>Volvo 142E</th><td>21.4 </td><td>4    </td><td>121.0</td><td>109  </td><td>4.11 </td><td>2.780</td><td>18.60</td><td>1    </td><td>1    </td><td>4    </td><td>2    </td></tr>\n",
       "</tbody>\n",
       "</table>\n"
      ],
      "text/latex": [
       "\\begin{tabular}{r|lllllllllll}\n",
       "  & mpg & cyl & disp & hp & drat & wt & qsec & vs & am & gear & carb\\\\\n",
       "\\hline\n",
       "\tMazda RX4 & 21.0  & 6     & 160.0 & 110   & 3.90  & 2.620 & 16.46 & 0     & 1     & 4     & 4    \\\\\n",
       "\tMazda RX4 Wag & 21.0  & 6     & 160.0 & 110   & 3.90  & 2.875 & 17.02 & 0     & 1     & 4     & 4    \\\\\n",
       "\tDatsun 710 & 22.8  & 4     & 108.0 &  93   & 3.85  & 2.320 & 18.61 & 1     & 1     & 4     & 1    \\\\\n",
       "\tHornet 4 Drive & 21.4  & 6     & 258.0 & 110   & 3.08  & 3.215 & 19.44 & 1     & 0     & 3     & 1    \\\\\n",
       "\tMerc 240D & 24.4  & 4     & 146.7 &  62   & 3.69  & 3.190 & 20.00 & 1     & 0     & 4     & 2    \\\\\n",
       "\tMerc 230 & 22.8  & 4     & 140.8 &  95   & 3.92  & 3.150 & 22.90 & 1     & 0     & 4     & 2    \\\\\n",
       "\tFiat 128 & 32.4  & 4     &  78.7 &  66   & 4.08  & 2.200 & 19.47 & 1     & 1     & 4     & 1    \\\\\n",
       "\tHonda Civic & 30.4  & 4     &  75.7 &  52   & 4.93  & 1.615 & 18.52 & 1     & 1     & 4     & 2    \\\\\n",
       "\tToyota Corolla & 33.9  & 4     &  71.1 &  65   & 4.22  & 1.835 & 19.90 & 1     & 1     & 4     & 1    \\\\\n",
       "\tToyota Corona & 21.5  & 4     & 120.1 &  97   & 3.70  & 2.465 & 20.01 & 1     & 0     & 3     & 1    \\\\\n",
       "\tFiat X1-9 & 27.3  & 4     &  79.0 &  66   & 4.08  & 1.935 & 18.90 & 1     & 1     & 4     & 1    \\\\\n",
       "\tPorsche 914-2 & 26.0  & 4     & 120.3 &  91   & 4.43  & 2.140 & 16.70 & 0     & 1     & 5     & 2    \\\\\n",
       "\tLotus Europa & 30.4  & 4     &  95.1 & 113   & 3.77  & 1.513 & 16.90 & 1     & 1     & 5     & 2    \\\\\n",
       "\tVolvo 142E & 21.4  & 4     & 121.0 & 109   & 4.11  & 2.780 & 18.60 & 1     & 1     & 4     & 2    \\\\\n",
       "\\end{tabular}\n"
      ],
      "text/markdown": [
       "\n",
       "| <!--/--> | mpg | cyl | disp | hp | drat | wt | qsec | vs | am | gear | carb |\n",
       "|---|---|---|---|---|---|---|---|---|---|---|---|\n",
       "| Mazda RX4 | 21.0  | 6     | 160.0 | 110   | 3.90  | 2.620 | 16.46 | 0     | 1     | 4     | 4     |\n",
       "| Mazda RX4 Wag | 21.0  | 6     | 160.0 | 110   | 3.90  | 2.875 | 17.02 | 0     | 1     | 4     | 4     |\n",
       "| Datsun 710 | 22.8  | 4     | 108.0 |  93   | 3.85  | 2.320 | 18.61 | 1     | 1     | 4     | 1     |\n",
       "| Hornet 4 Drive | 21.4  | 6     | 258.0 | 110   | 3.08  | 3.215 | 19.44 | 1     | 0     | 3     | 1     |\n",
       "| Merc 240D | 24.4  | 4     | 146.7 |  62   | 3.69  | 3.190 | 20.00 | 1     | 0     | 4     | 2     |\n",
       "| Merc 230 | 22.8  | 4     | 140.8 |  95   | 3.92  | 3.150 | 22.90 | 1     | 0     | 4     | 2     |\n",
       "| Fiat 128 | 32.4  | 4     |  78.7 |  66   | 4.08  | 2.200 | 19.47 | 1     | 1     | 4     | 1     |\n",
       "| Honda Civic | 30.4  | 4     |  75.7 |  52   | 4.93  | 1.615 | 18.52 | 1     | 1     | 4     | 2     |\n",
       "| Toyota Corolla | 33.9  | 4     |  71.1 |  65   | 4.22  | 1.835 | 19.90 | 1     | 1     | 4     | 1     |\n",
       "| Toyota Corona | 21.5  | 4     | 120.1 |  97   | 3.70  | 2.465 | 20.01 | 1     | 0     | 3     | 1     |\n",
       "| Fiat X1-9 | 27.3  | 4     |  79.0 |  66   | 4.08  | 1.935 | 18.90 | 1     | 1     | 4     | 1     |\n",
       "| Porsche 914-2 | 26.0  | 4     | 120.3 |  91   | 4.43  | 2.140 | 16.70 | 0     | 1     | 5     | 2     |\n",
       "| Lotus Europa | 30.4  | 4     |  95.1 | 113   | 3.77  | 1.513 | 16.90 | 1     | 1     | 5     | 2     |\n",
       "| Volvo 142E | 21.4  | 4     | 121.0 | 109   | 4.11  | 2.780 | 18.60 | 1     | 1     | 4     | 2     |\n",
       "\n"
      ],
      "text/plain": [
       "               mpg  cyl disp  hp  drat wt    qsec  vs am gear carb\n",
       "Mazda RX4      21.0 6   160.0 110 3.90 2.620 16.46 0  1  4    4   \n",
       "Mazda RX4 Wag  21.0 6   160.0 110 3.90 2.875 17.02 0  1  4    4   \n",
       "Datsun 710     22.8 4   108.0  93 3.85 2.320 18.61 1  1  4    1   \n",
       "Hornet 4 Drive 21.4 6   258.0 110 3.08 3.215 19.44 1  0  3    1   \n",
       "Merc 240D      24.4 4   146.7  62 3.69 3.190 20.00 1  0  4    2   \n",
       "Merc 230       22.8 4   140.8  95 3.92 3.150 22.90 1  0  4    2   \n",
       "Fiat 128       32.4 4    78.7  66 4.08 2.200 19.47 1  1  4    1   \n",
       "Honda Civic    30.4 4    75.7  52 4.93 1.615 18.52 1  1  4    2   \n",
       "Toyota Corolla 33.9 4    71.1  65 4.22 1.835 19.90 1  1  4    1   \n",
       "Toyota Corona  21.5 4   120.1  97 3.70 2.465 20.01 1  0  3    1   \n",
       "Fiat X1-9      27.3 4    79.0  66 4.08 1.935 18.90 1  1  4    1   \n",
       "Porsche 914-2  26.0 4   120.3  91 4.43 2.140 16.70 0  1  5    2   \n",
       "Lotus Europa   30.4 4    95.1 113 3.77 1.513 16.90 1  1  5    2   \n",
       "Volvo 142E     21.4 4   121.0 109 4.11 2.780 18.60 1  1  4    2   "
      ]
     },
     "metadata": {},
     "output_type": "display_data"
    }
   ],
   "source": [
    "mtcars[mtcars$mpg > 20,]"
   ]
  },
  {
   "cell_type": "code",
   "execution_count": 212,
   "metadata": {},
   "outputs": [
    {
     "data": {
      "text/html": [
       "<table>\n",
       "<thead><tr><th></th><th scope=col>mpg</th><th scope=col>cyl</th><th scope=col>disp</th><th scope=col>hp</th><th scope=col>drat</th><th scope=col>wt</th><th scope=col>qsec</th><th scope=col>vs</th><th scope=col>am</th><th scope=col>gear</th><th scope=col>carb</th></tr></thead>\n",
       "<tbody>\n",
       "\t<tr><th scope=row>Mazda RX4</th><td>21.0 </td><td>6    </td><td>160  </td><td>110  </td><td>3.90 </td><td>2.620</td><td>16.46</td><td>0    </td><td>1    </td><td>4    </td><td>4    </td></tr>\n",
       "\t<tr><th scope=row>Mazda RX4 Wag</th><td>21.0 </td><td>6    </td><td>160  </td><td>110  </td><td>3.90 </td><td>2.875</td><td>17.02</td><td>0    </td><td>1    </td><td>4    </td><td>4    </td></tr>\n",
       "\t<tr><th scope=row>Hornet 4 Drive</th><td>21.4 </td><td>6    </td><td>258  </td><td>110  </td><td>3.08 </td><td>3.215</td><td>19.44</td><td>1    </td><td>0    </td><td>3    </td><td>1    </td></tr>\n",
       "</tbody>\n",
       "</table>\n"
      ],
      "text/latex": [
       "\\begin{tabular}{r|lllllllllll}\n",
       "  & mpg & cyl & disp & hp & drat & wt & qsec & vs & am & gear & carb\\\\\n",
       "\\hline\n",
       "\tMazda RX4 & 21.0  & 6     & 160   & 110   & 3.90  & 2.620 & 16.46 & 0     & 1     & 4     & 4    \\\\\n",
       "\tMazda RX4 Wag & 21.0  & 6     & 160   & 110   & 3.90  & 2.875 & 17.02 & 0     & 1     & 4     & 4    \\\\\n",
       "\tHornet 4 Drive & 21.4  & 6     & 258   & 110   & 3.08  & 3.215 & 19.44 & 1     & 0     & 3     & 1    \\\\\n",
       "\\end{tabular}\n"
      ],
      "text/markdown": [
       "\n",
       "| <!--/--> | mpg | cyl | disp | hp | drat | wt | qsec | vs | am | gear | carb |\n",
       "|---|---|---|---|---|---|---|---|---|---|---|---|\n",
       "| Mazda RX4 | 21.0  | 6     | 160   | 110   | 3.90  | 2.620 | 16.46 | 0     | 1     | 4     | 4     |\n",
       "| Mazda RX4 Wag | 21.0  | 6     | 160   | 110   | 3.90  | 2.875 | 17.02 | 0     | 1     | 4     | 4     |\n",
       "| Hornet 4 Drive | 21.4  | 6     | 258   | 110   | 3.08  | 3.215 | 19.44 | 1     | 0     | 3     | 1     |\n",
       "\n"
      ],
      "text/plain": [
       "               mpg  cyl disp hp  drat wt    qsec  vs am gear carb\n",
       "Mazda RX4      21.0 6   160  110 3.90 2.620 16.46 0  1  4    4   \n",
       "Mazda RX4 Wag  21.0 6   160  110 3.90 2.875 17.02 0  1  4    4   \n",
       "Hornet 4 Drive 21.4 6   258  110 3.08 3.215 19.44 1  0  3    1   "
      ]
     },
     "metadata": {},
     "output_type": "display_data"
    }
   ],
   "source": [
    "mtcars[mtcars$mpg > 20 & mtcars$cyl == 6,]"
   ]
  },
  {
   "cell_type": "code",
   "execution_count": 213,
   "metadata": {},
   "outputs": [
    {
     "data": {
      "text/html": [
       "<table>\n",
       "<thead><tr><th></th><th scope=col>mpg</th><th scope=col>cyl</th><th scope=col>hp</th></tr></thead>\n",
       "<tbody>\n",
       "\t<tr><th scope=row>Mazda RX4</th><td>21.0</td><td>6   </td><td>110 </td></tr>\n",
       "\t<tr><th scope=row>Mazda RX4 Wag</th><td>21.0</td><td>6   </td><td>110 </td></tr>\n",
       "\t<tr><th scope=row>Hornet 4 Drive</th><td>21.4</td><td>6   </td><td>110 </td></tr>\n",
       "</tbody>\n",
       "</table>\n"
      ],
      "text/latex": [
       "\\begin{tabular}{r|lll}\n",
       "  & mpg & cyl & hp\\\\\n",
       "\\hline\n",
       "\tMazda RX4 & 21.0 & 6    & 110 \\\\\n",
       "\tMazda RX4 Wag & 21.0 & 6    & 110 \\\\\n",
       "\tHornet 4 Drive & 21.4 & 6    & 110 \\\\\n",
       "\\end{tabular}\n"
      ],
      "text/markdown": [
       "\n",
       "| <!--/--> | mpg | cyl | hp |\n",
       "|---|---|---|---|\n",
       "| Mazda RX4 | 21.0 | 6    | 110  |\n",
       "| Mazda RX4 Wag | 21.0 | 6    | 110  |\n",
       "| Hornet 4 Drive | 21.4 | 6    | 110  |\n",
       "\n"
      ],
      "text/plain": [
       "               mpg  cyl hp \n",
       "Mazda RX4      21.0 6   110\n",
       "Mazda RX4 Wag  21.0 6   110\n",
       "Hornet 4 Drive 21.4 6   110"
      ]
     },
     "metadata": {},
     "output_type": "display_data"
    }
   ],
   "source": [
    "mtcars[mtcars$mpg > 20 & mtcars$cyl == 6, c('mpg', 'cyl','hp')]"
   ]
  },
  {
   "cell_type": "code",
   "execution_count": 214,
   "metadata": {},
   "outputs": [
    {
     "data": {
      "text/html": [
       "<table>\n",
       "<thead><tr><th></th><th scope=col>mpg</th><th scope=col>cyl</th><th scope=col>disp</th><th scope=col>hp</th><th scope=col>drat</th><th scope=col>wt</th><th scope=col>qsec</th><th scope=col>vs</th><th scope=col>am</th><th scope=col>gear</th><th scope=col>carb</th></tr></thead>\n",
       "<tbody>\n",
       "\t<tr><th scope=row>Mazda RX4</th><td>21.0 </td><td>6    </td><td>160  </td><td>110  </td><td>3.90 </td><td>2.620</td><td>16.46</td><td>0    </td><td>1    </td><td>4    </td><td>4    </td></tr>\n",
       "\t<tr><th scope=row>Mazda RX4 Wag</th><td>21.0 </td><td>6    </td><td>160  </td><td>110  </td><td>3.90 </td><td>2.875</td><td>17.02</td><td>0    </td><td>1    </td><td>4    </td><td>4    </td></tr>\n",
       "\t<tr><th scope=row>Hornet 4 Drive</th><td>21.4 </td><td>6    </td><td>258  </td><td>110  </td><td>3.08 </td><td>3.215</td><td>19.44</td><td>1    </td><td>0    </td><td>3    </td><td>1    </td></tr>\n",
       "</tbody>\n",
       "</table>\n"
      ],
      "text/latex": [
       "\\begin{tabular}{r|lllllllllll}\n",
       "  & mpg & cyl & disp & hp & drat & wt & qsec & vs & am & gear & carb\\\\\n",
       "\\hline\n",
       "\tMazda RX4 & 21.0  & 6     & 160   & 110   & 3.90  & 2.620 & 16.46 & 0     & 1     & 4     & 4    \\\\\n",
       "\tMazda RX4 Wag & 21.0  & 6     & 160   & 110   & 3.90  & 2.875 & 17.02 & 0     & 1     & 4     & 4    \\\\\n",
       "\tHornet 4 Drive & 21.4  & 6     & 258   & 110   & 3.08  & 3.215 & 19.44 & 1     & 0     & 3     & 1    \\\\\n",
       "\\end{tabular}\n"
      ],
      "text/markdown": [
       "\n",
       "| <!--/--> | mpg | cyl | disp | hp | drat | wt | qsec | vs | am | gear | carb |\n",
       "|---|---|---|---|---|---|---|---|---|---|---|---|\n",
       "| Mazda RX4 | 21.0  | 6     | 160   | 110   | 3.90  | 2.620 | 16.46 | 0     | 1     | 4     | 4     |\n",
       "| Mazda RX4 Wag | 21.0  | 6     | 160   | 110   | 3.90  | 2.875 | 17.02 | 0     | 1     | 4     | 4     |\n",
       "| Hornet 4 Drive | 21.4  | 6     | 258   | 110   | 3.08  | 3.215 | 19.44 | 1     | 0     | 3     | 1     |\n",
       "\n"
      ],
      "text/plain": [
       "               mpg  cyl disp hp  drat wt    qsec  vs am gear carb\n",
       "Mazda RX4      21.0 6   160  110 3.90 2.620 16.46 0  1  4    4   \n",
       "Mazda RX4 Wag  21.0 6   160  110 3.90 2.875 17.02 0  1  4    4   \n",
       "Hornet 4 Drive 21.4 6   258  110 3.08 3.215 19.44 1  0  3    1   "
      ]
     },
     "metadata": {},
     "output_type": "display_data"
    }
   ],
   "source": [
    "subset(mtcars, mpg > 20 & cyl == 6) # pakai built-in subset function"
   ]
  },
  {
   "cell_type": "code",
   "execution_count": 215,
   "metadata": {},
   "outputs": [
    {
     "data": {
      "text/html": [
       "<table>\n",
       "<thead><tr><th scope=col>X</th><th scope=col>Y</th><th scope=col>Z</th></tr></thead>\n",
       "<tbody>\n",
       "\t<tr><td> 10        </td><td>a          </td><td>11         </td></tr>\n",
       "\t<tr><td> 20        </td><td>b          </td><td>12         </td></tr>\n",
       "\t<tr><td> 30        </td><td>c          </td><td>13         </td></tr>\n",
       "\t<tr><td> 40        </td><td>d          </td><td>14         </td></tr>\n",
       "\t<tr><td> 50        </td><td>e          </td><td>15         </td></tr>\n",
       "\t<tr><td>128        </td><td>Meteorologi</td><td>16         </td></tr>\n",
       "</tbody>\n",
       "</table>\n"
      ],
      "text/latex": [
       "\\begin{tabular}{r|lll}\n",
       " X & Y & Z\\\\\n",
       "\\hline\n",
       "\t  10         & a           & 11         \\\\\n",
       "\t  20         & b           & 12         \\\\\n",
       "\t  30         & c           & 13         \\\\\n",
       "\t  40         & d           & 14         \\\\\n",
       "\t  50         & e           & 15         \\\\\n",
       "\t 128         & Meteorologi & 16         \\\\\n",
       "\\end{tabular}\n"
      ],
      "text/markdown": [
       "\n",
       "| X | Y | Z |\n",
       "|---|---|---|\n",
       "|  10         | a           | 11          |\n",
       "|  20         | b           | 12          |\n",
       "|  30         | c           | 13          |\n",
       "|  40         | d           | 14          |\n",
       "|  50         | e           | 15          |\n",
       "| 128         | Meteorologi | 16          |\n",
       "\n"
      ],
      "text/plain": [
       "  X   Y           Z \n",
       "1  10 a           11\n",
       "2  20 b           12\n",
       "3  30 c           13\n",
       "4  40 d           14\n",
       "5  50 e           15\n",
       "6 128 Meteorologi 16"
      ]
     },
     "metadata": {},
     "output_type": "display_data"
    }
   ],
   "source": [
    "df[,1:3]"
   ]
  },
  {
   "cell_type": "code",
   "execution_count": 216,
   "metadata": {},
   "outputs": [
    {
     "data": {
      "text/html": [
       "<table>\n",
       "<thead><tr><th scope=col>Z</th><th scope=col>E</th></tr></thead>\n",
       "<tbody>\n",
       "\t<tr><td>11 </td><td> 20</td></tr>\n",
       "\t<tr><td>12 </td><td> 40</td></tr>\n",
       "\t<tr><td>13 </td><td> 60</td></tr>\n",
       "\t<tr><td>14 </td><td> 80</td></tr>\n",
       "\t<tr><td>15 </td><td>100</td></tr>\n",
       "\t<tr><td>16 </td><td>256</td></tr>\n",
       "</tbody>\n",
       "</table>\n"
      ],
      "text/latex": [
       "\\begin{tabular}{r|ll}\n",
       " Z & E\\\\\n",
       "\\hline\n",
       "\t 11  &  20\\\\\n",
       "\t 12  &  40\\\\\n",
       "\t 13  &  60\\\\\n",
       "\t 14  &  80\\\\\n",
       "\t 15  & 100\\\\\n",
       "\t 16  & 256\\\\\n",
       "\\end{tabular}\n"
      ],
      "text/markdown": [
       "\n",
       "| Z | E |\n",
       "|---|---|\n",
       "| 11  |  20 |\n",
       "| 12  |  40 |\n",
       "| 13  |  60 |\n",
       "| 14  |  80 |\n",
       "| 15  | 100 |\n",
       "| 16  | 256 |\n",
       "\n"
      ],
      "text/plain": [
       "  Z  E  \n",
       "1 11  20\n",
       "2 12  40\n",
       "3 13  60\n",
       "4 14  80\n",
       "5 15 100\n",
       "6 16 256"
      ]
     },
     "metadata": {},
     "output_type": "display_data"
    }
   ],
   "source": [
    "df[,c(3,5)]"
   ]
  },
  {
   "cell_type": "code",
   "execution_count": 217,
   "metadata": {},
   "outputs": [
    {
     "data": {
      "text/html": [
       "<table>\n",
       "<thead><tr><th scope=col>Z</th><th scope=col>E</th></tr></thead>\n",
       "<tbody>\n",
       "\t<tr><td>11 </td><td> 20</td></tr>\n",
       "\t<tr><td>12 </td><td> 40</td></tr>\n",
       "\t<tr><td>13 </td><td> 60</td></tr>\n",
       "\t<tr><td>14 </td><td> 80</td></tr>\n",
       "\t<tr><td>15 </td><td>100</td></tr>\n",
       "\t<tr><td>16 </td><td>256</td></tr>\n",
       "</tbody>\n",
       "</table>\n"
      ],
      "text/latex": [
       "\\begin{tabular}{r|ll}\n",
       " Z & E\\\\\n",
       "\\hline\n",
       "\t 11  &  20\\\\\n",
       "\t 12  &  40\\\\\n",
       "\t 13  &  60\\\\\n",
       "\t 14  &  80\\\\\n",
       "\t 15  & 100\\\\\n",
       "\t 16  & 256\\\\\n",
       "\\end{tabular}\n"
      ],
      "text/markdown": [
       "\n",
       "| Z | E |\n",
       "|---|---|\n",
       "| 11  |  20 |\n",
       "| 12  |  40 |\n",
       "| 13  |  60 |\n",
       "| 14  |  80 |\n",
       "| 15  | 100 |\n",
       "| 16  | 256 |\n",
       "\n"
      ],
      "text/plain": [
       "  Z  E  \n",
       "1 11  20\n",
       "2 12  40\n",
       "3 13  60\n",
       "4 14  80\n",
       "5 15 100\n",
       "6 16 256"
      ]
     },
     "metadata": {},
     "output_type": "display_data"
    }
   ],
   "source": [
    "df[,c('Z', 'E')]"
   ]
  },
  {
   "cell_type": "markdown",
   "metadata": {},
   "source": [
    "### Menangani data kosong"
   ]
  },
  {
   "cell_type": "code",
   "execution_count": 218,
   "metadata": {},
   "outputs": [
    {
     "data": {
      "text/html": [
       "<table>\n",
       "<thead><tr><th scope=col>X</th><th scope=col>Y</th><th scope=col>Z</th><th scope=col>D</th><th scope=col>E</th></tr></thead>\n",
       "<tbody>\n",
       "\t<tr><td> 10        </td><td>a          </td><td>11         </td><td>20         </td><td> 20        </td></tr>\n",
       "\t<tr><td> 20        </td><td>b          </td><td>12         </td><td>25         </td><td> 40        </td></tr>\n",
       "\t<tr><td> 30        </td><td>c          </td><td>13         </td><td>30         </td><td> 60        </td></tr>\n",
       "\t<tr><td> 40        </td><td>d          </td><td>14         </td><td>35         </td><td> 80        </td></tr>\n",
       "\t<tr><td> 50        </td><td>e          </td><td>15         </td><td>40         </td><td>100        </td></tr>\n",
       "\t<tr><td>128        </td><td>Meteorologi</td><td>16         </td><td>45         </td><td>256        </td></tr>\n",
       "</tbody>\n",
       "</table>\n"
      ],
      "text/latex": [
       "\\begin{tabular}{r|lllll}\n",
       " X & Y & Z & D & E\\\\\n",
       "\\hline\n",
       "\t  10         & a           & 11          & 20          &  20        \\\\\n",
       "\t  20         & b           & 12          & 25          &  40        \\\\\n",
       "\t  30         & c           & 13          & 30          &  60        \\\\\n",
       "\t  40         & d           & 14          & 35          &  80        \\\\\n",
       "\t  50         & e           & 15          & 40          & 100        \\\\\n",
       "\t 128         & Meteorologi & 16          & 45          & 256        \\\\\n",
       "\\end{tabular}\n"
      ],
      "text/markdown": [
       "\n",
       "| X | Y | Z | D | E |\n",
       "|---|---|---|---|---|\n",
       "|  10         | a           | 11          | 20          |  20         |\n",
       "|  20         | b           | 12          | 25          |  40         |\n",
       "|  30         | c           | 13          | 30          |  60         |\n",
       "|  40         | d           | 14          | 35          |  80         |\n",
       "|  50         | e           | 15          | 40          | 100         |\n",
       "| 128         | Meteorologi | 16          | 45          | 256         |\n",
       "\n"
      ],
      "text/plain": [
       "  X   Y           Z  D  E  \n",
       "1  10 a           11 20  20\n",
       "2  20 b           12 25  40\n",
       "3  30 c           13 30  60\n",
       "4  40 d           14 35  80\n",
       "5  50 e           15 40 100\n",
       "6 128 Meteorologi 16 45 256"
      ]
     },
     "metadata": {},
     "output_type": "display_data"
    }
   ],
   "source": [
    "df"
   ]
  },
  {
   "cell_type": "code",
   "execution_count": 219,
   "metadata": {},
   "outputs": [
    {
     "data": {
      "text/html": [
       "<table>\n",
       "<thead><tr><th scope=col>X</th><th scope=col>Y</th><th scope=col>Z</th><th scope=col>D</th><th scope=col>E</th></tr></thead>\n",
       "<tbody>\n",
       "\t<tr><td>FALSE</td><td>FALSE</td><td>FALSE</td><td>FALSE</td><td>FALSE</td></tr>\n",
       "\t<tr><td>FALSE</td><td>FALSE</td><td>FALSE</td><td>FALSE</td><td>FALSE</td></tr>\n",
       "\t<tr><td>FALSE</td><td>FALSE</td><td>FALSE</td><td>FALSE</td><td>FALSE</td></tr>\n",
       "\t<tr><td>FALSE</td><td>FALSE</td><td>FALSE</td><td>FALSE</td><td>FALSE</td></tr>\n",
       "\t<tr><td>FALSE</td><td>FALSE</td><td>FALSE</td><td>FALSE</td><td>FALSE</td></tr>\n",
       "\t<tr><td>FALSE</td><td>FALSE</td><td>FALSE</td><td>FALSE</td><td>FALSE</td></tr>\n",
       "</tbody>\n",
       "</table>\n"
      ],
      "text/latex": [
       "\\begin{tabular}{lllll}\n",
       " X & Y & Z & D & E\\\\\n",
       "\\hline\n",
       "\t FALSE & FALSE & FALSE & FALSE & FALSE\\\\\n",
       "\t FALSE & FALSE & FALSE & FALSE & FALSE\\\\\n",
       "\t FALSE & FALSE & FALSE & FALSE & FALSE\\\\\n",
       "\t FALSE & FALSE & FALSE & FALSE & FALSE\\\\\n",
       "\t FALSE & FALSE & FALSE & FALSE & FALSE\\\\\n",
       "\t FALSE & FALSE & FALSE & FALSE & FALSE\\\\\n",
       "\\end{tabular}\n"
      ],
      "text/markdown": [
       "\n",
       "| X | Y | Z | D | E |\n",
       "|---|---|---|---|---|\n",
       "| FALSE | FALSE | FALSE | FALSE | FALSE |\n",
       "| FALSE | FALSE | FALSE | FALSE | FALSE |\n",
       "| FALSE | FALSE | FALSE | FALSE | FALSE |\n",
       "| FALSE | FALSE | FALSE | FALSE | FALSE |\n",
       "| FALSE | FALSE | FALSE | FALSE | FALSE |\n",
       "| FALSE | FALSE | FALSE | FALSE | FALSE |\n",
       "\n"
      ],
      "text/plain": [
       "     X     Y     Z     D     E    \n",
       "[1,] FALSE FALSE FALSE FALSE FALSE\n",
       "[2,] FALSE FALSE FALSE FALSE FALSE\n",
       "[3,] FALSE FALSE FALSE FALSE FALSE\n",
       "[4,] FALSE FALSE FALSE FALSE FALSE\n",
       "[5,] FALSE FALSE FALSE FALSE FALSE\n",
       "[6,] FALSE FALSE FALSE FALSE FALSE"
      ]
     },
     "metadata": {},
     "output_type": "display_data"
    }
   ],
   "source": [
    "is.na(df) # cek data kosong"
   ]
  },
  {
   "cell_type": "code",
   "execution_count": 220,
   "metadata": {},
   "outputs": [
    {
     "data": {
      "text/html": [
       "FALSE"
      ],
      "text/latex": [
       "FALSE"
      ],
      "text/markdown": [
       "FALSE"
      ],
      "text/plain": [
       "[1] FALSE"
      ]
     },
     "metadata": {},
     "output_type": "display_data"
    }
   ],
   "source": [
    "any(is.na(df))"
   ]
  },
  {
   "cell_type": "code",
   "execution_count": 221,
   "metadata": {},
   "outputs": [
    {
     "data": {
      "text/html": [
       "FALSE"
      ],
      "text/latex": [
       "FALSE"
      ],
      "text/markdown": [
       "FALSE"
      ],
      "text/plain": [
       "[1] FALSE"
      ]
     },
     "metadata": {},
     "output_type": "display_data"
    }
   ],
   "source": [
    "any(is.na(df$X))"
   ]
  },
  {
   "cell_type": "code",
   "execution_count": 222,
   "metadata": {},
   "outputs": [
    {
     "ename": "ERROR",
     "evalue": "Error in any(is.na(df)) <- 0.5: could not find function \"any<-\"\n",
     "output_type": "error",
     "traceback": [
      "Error in any(is.na(df)) <- 0.5: could not find function \"any<-\"\nTraceback:\n"
     ]
    }
   ],
   "source": [
    "# Membuat na jadi 0\n",
    "any(is.na(df)) <- 0.5 # error karena ga ada na"
   ]
  },
  {
   "cell_type": "code",
   "execution_count": 224,
   "metadata": {},
   "outputs": [
    {
     "ename": "ERROR",
     "evalue": "Error in any(is.na(df$D)) <- mean(df$D): could not find function \"any<-\"\n",
     "output_type": "error",
     "traceback": [
      "Error in any(is.na(df$D)) <- mean(df$D): could not find function \"any<-\"\nTraceback:\n"
     ]
    }
   ],
   "source": [
    "any(is.na(df$D)) <- mean(df$D)  # error karena ga ada na"
   ]
  },
  {
   "cell_type": "markdown",
   "metadata": {},
   "source": [
    "# List"
   ]
  },
  {
   "cell_type": "markdown",
   "metadata": {},
   "source": [
    "Kumpulan berbagai macam tipe data di R"
   ]
  },
  {
   "cell_type": "code",
   "execution_count": 225,
   "metadata": {},
   "outputs": [],
   "source": [
    "v <- c(1,2,3,4,5)\n",
    "M <- matrix(1:10, nrow=2)\n",
    "c1 <- c('Ignatius', 'Laynez', 'Faber', 'Xaverius', 'Kanisius')\n",
    "c2 <- c(42,37,28,45,43)"
   ]
  },
  {
   "cell_type": "code",
   "execution_count": 226,
   "metadata": {},
   "outputs": [
    {
     "data": {
      "text/html": [
       "<table>\n",
       "<thead><tr><th scope=col>Nama</th><th scope=col>ID</th></tr></thead>\n",
       "<tbody>\n",
       "\t<tr><td>Ignatius</td><td>42      </td></tr>\n",
       "\t<tr><td>Laynez  </td><td>37      </td></tr>\n",
       "\t<tr><td>Faber   </td><td>28      </td></tr>\n",
       "\t<tr><td>Xaverius</td><td>45      </td></tr>\n",
       "\t<tr><td>Kanisius</td><td>43      </td></tr>\n",
       "</tbody>\n",
       "</table>\n"
      ],
      "text/latex": [
       "\\begin{tabular}{r|ll}\n",
       " Nama & ID\\\\\n",
       "\\hline\n",
       "\t Ignatius & 42      \\\\\n",
       "\t Laynez   & 37      \\\\\n",
       "\t Faber    & 28      \\\\\n",
       "\t Xaverius & 45      \\\\\n",
       "\t Kanisius & 43      \\\\\n",
       "\\end{tabular}\n"
      ],
      "text/markdown": [
       "\n",
       "| Nama | ID |\n",
       "|---|---|\n",
       "| Ignatius | 42       |\n",
       "| Laynez   | 37       |\n",
       "| Faber    | 28       |\n",
       "| Xaverius | 45       |\n",
       "| Kanisius | 43       |\n",
       "\n"
      ],
      "text/plain": [
       "  Nama     ID\n",
       "1 Ignatius 42\n",
       "2 Laynez   37\n",
       "3 Faber    28\n",
       "4 Xaverius 45\n",
       "5 Kanisius 43"
      ]
     },
     "metadata": {},
     "output_type": "display_data"
    }
   ],
   "source": [
    "df <- data.frame(Nama = c1, ID = c2)\n",
    "df"
   ]
  },
  {
   "cell_type": "code",
   "execution_count": 227,
   "metadata": {},
   "outputs": [
    {
     "data": {
      "text/html": [
       "<ol>\n",
       "\t<li><ol class=list-inline>\n",
       "\t<li>1</li>\n",
       "\t<li>2</li>\n",
       "\t<li>3</li>\n",
       "\t<li>4</li>\n",
       "\t<li>5</li>\n",
       "</ol>\n",
       "</li>\n",
       "\t<li><table>\n",
       "<tbody>\n",
       "\t<tr><td>1 </td><td>3 </td><td>5 </td><td>7 </td><td> 9</td></tr>\n",
       "\t<tr><td>2 </td><td>4 </td><td>6 </td><td>8 </td><td>10</td></tr>\n",
       "</tbody>\n",
       "</table>\n",
       "</li>\n",
       "\t<li><table>\n",
       "<thead><tr><th scope=col>Nama</th><th scope=col>ID</th></tr></thead>\n",
       "<tbody>\n",
       "\t<tr><td>Ignatius</td><td>42      </td></tr>\n",
       "\t<tr><td>Laynez  </td><td>37      </td></tr>\n",
       "\t<tr><td>Faber   </td><td>28      </td></tr>\n",
       "\t<tr><td>Xaverius</td><td>45      </td></tr>\n",
       "\t<tr><td>Kanisius</td><td>43      </td></tr>\n",
       "</tbody>\n",
       "</table>\n",
       "</li>\n",
       "</ol>\n"
      ],
      "text/latex": [
       "\\begin{enumerate}\n",
       "\\item \\begin{enumerate*}\n",
       "\\item 1\n",
       "\\item 2\n",
       "\\item 3\n",
       "\\item 4\n",
       "\\item 5\n",
       "\\end{enumerate*}\n",
       "\n",
       "\\item \\begin{tabular}{lllll}\n",
       "\t 1  & 3  & 5  & 7  &  9\\\\\n",
       "\t 2  & 4  & 6  & 8  & 10\\\\\n",
       "\\end{tabular}\n",
       "\n",
       "\\item \\begin{tabular}{r|ll}\n",
       " Nama & ID\\\\\n",
       "\\hline\n",
       "\t Ignatius & 42      \\\\\n",
       "\t Laynez   & 37      \\\\\n",
       "\t Faber    & 28      \\\\\n",
       "\t Xaverius & 45      \\\\\n",
       "\t Kanisius & 43      \\\\\n",
       "\\end{tabular}\n",
       "\n",
       "\\end{enumerate}\n"
      ],
      "text/markdown": [
       "1. 1. 1\n",
       "2. 2\n",
       "3. 3\n",
       "4. 4\n",
       "5. 5\n",
       "\n",
       "\n",
       "\n",
       "2. \n",
       "| 1  | 3  | 5  | 7  |  9 |\n",
       "| 2  | 4  | 6  | 8  | 10 |\n",
       "\n",
       "\n",
       "3. \n",
       "| Nama | ID |\n",
       "|---|---|\n",
       "| Ignatius | 42       |\n",
       "| Laynez   | 37       |\n",
       "| Faber    | 28       |\n",
       "| Xaverius | 45       |\n",
       "| Kanisius | 43       |\n",
       "\n",
       "\n",
       "\n",
       "\n"
      ],
      "text/plain": [
       "[[1]]\n",
       "[1] 1 2 3 4 5\n",
       "\n",
       "[[2]]\n",
       "     [,1] [,2] [,3] [,4] [,5]\n",
       "[1,]    1    3    5    7    9\n",
       "[2,]    2    4    6    8   10\n",
       "\n",
       "[[3]]\n",
       "      Nama ID\n",
       "1 Ignatius 42\n",
       "2   Laynez 37\n",
       "3    Faber 28\n",
       "4 Xaverius 45\n",
       "5 Kanisius 43\n"
      ]
     },
     "metadata": {},
     "output_type": "display_data"
    }
   ],
   "source": [
    "# Pendefinisian list\n",
    "l <- list(v,M,df)\n",
    "l"
   ]
  },
  {
   "cell_type": "code",
   "execution_count": 228,
   "metadata": {},
   "outputs": [
    {
     "data": {
      "text/html": [
       "<dl>\n",
       "\t<dt>$sampel_vektor</dt>\n",
       "\t\t<dd><ol class=list-inline>\n",
       "\t<li>1</li>\n",
       "\t<li>2</li>\n",
       "\t<li>3</li>\n",
       "\t<li>4</li>\n",
       "\t<li>5</li>\n",
       "</ol>\n",
       "</dd>\n",
       "\t<dt>$sampel_matriks</dt>\n",
       "\t\t<dd><table>\n",
       "<tbody>\n",
       "\t<tr><td>1 </td><td>3 </td><td>5 </td><td>7 </td><td> 9</td></tr>\n",
       "\t<tr><td>2 </td><td>4 </td><td>6 </td><td>8 </td><td>10</td></tr>\n",
       "</tbody>\n",
       "</table>\n",
       "</dd>\n",
       "\t<dt>$sample_data_frame</dt>\n",
       "\t\t<dd><table>\n",
       "<thead><tr><th scope=col>Nama</th><th scope=col>ID</th></tr></thead>\n",
       "<tbody>\n",
       "\t<tr><td>Ignatius</td><td>42      </td></tr>\n",
       "\t<tr><td>Laynez  </td><td>37      </td></tr>\n",
       "\t<tr><td>Faber   </td><td>28      </td></tr>\n",
       "\t<tr><td>Xaverius</td><td>45      </td></tr>\n",
       "\t<tr><td>Kanisius</td><td>43      </td></tr>\n",
       "</tbody>\n",
       "</table>\n",
       "</dd>\n",
       "</dl>\n"
      ],
      "text/latex": [
       "\\begin{description}\n",
       "\\item[\\$sampel\\_vektor] \\begin{enumerate*}\n",
       "\\item 1\n",
       "\\item 2\n",
       "\\item 3\n",
       "\\item 4\n",
       "\\item 5\n",
       "\\end{enumerate*}\n",
       "\n",
       "\\item[\\$sampel\\_matriks] \\begin{tabular}{lllll}\n",
       "\t 1  & 3  & 5  & 7  &  9\\\\\n",
       "\t 2  & 4  & 6  & 8  & 10\\\\\n",
       "\\end{tabular}\n",
       "\n",
       "\\item[\\$sample\\_data\\_frame] \\begin{tabular}{r|ll}\n",
       " Nama & ID\\\\\n",
       "\\hline\n",
       "\t Ignatius & 42      \\\\\n",
       "\t Laynez   & 37      \\\\\n",
       "\t Faber    & 28      \\\\\n",
       "\t Xaverius & 45      \\\\\n",
       "\t Kanisius & 43      \\\\\n",
       "\\end{tabular}\n",
       "\n",
       "\\end{description}\n"
      ],
      "text/markdown": [
       "$sampel_vektor\n",
       ":   1. 1\n",
       "2. 2\n",
       "3. 3\n",
       "4. 4\n",
       "5. 5\n",
       "\n",
       "\n",
       "\n",
       "$sampel_matriks\n",
       ":   \n",
       "| 1  | 3  | 5  | 7  |  9 |\n",
       "| 2  | 4  | 6  | 8  | 10 |\n",
       "\n",
       "\n",
       "$sample_data_frame\n",
       ":   \n",
       "| Nama | ID |\n",
       "|---|---|\n",
       "| Ignatius | 42       |\n",
       "| Laynez   | 37       |\n",
       "| Faber    | 28       |\n",
       "| Xaverius | 45       |\n",
       "| Kanisius | 43       |\n",
       "\n",
       "\n",
       "\n",
       "\n"
      ],
      "text/plain": [
       "$sampel_vektor\n",
       "[1] 1 2 3 4 5\n",
       "\n",
       "$sampel_matriks\n",
       "     [,1] [,2] [,3] [,4] [,5]\n",
       "[1,]    1    3    5    7    9\n",
       "[2,]    2    4    6    8   10\n",
       "\n",
       "$sample_data_frame\n",
       "      Nama ID\n",
       "1 Ignatius 42\n",
       "2   Laynez 37\n",
       "3    Faber 28\n",
       "4 Xaverius 45\n",
       "5 Kanisius 43\n"
      ]
     },
     "metadata": {},
     "output_type": "display_data"
    }
   ],
   "source": [
    "# penamaaan ulang indeks list\n",
    "\n",
    "l2 <- list(sampel_vektor = v, sampel_matriks = M, sample_data_frame = df)\n",
    "l2"
   ]
  },
  {
   "cell_type": "code",
   "execution_count": 230,
   "metadata": {},
   "outputs": [
    {
     "data": {
      "text/html": [
       "<strong>$sampel_vektor</strong> = <ol class=list-inline>\n",
       "\t<li>1</li>\n",
       "\t<li>2</li>\n",
       "\t<li>3</li>\n",
       "\t<li>4</li>\n",
       "\t<li>5</li>\n",
       "</ol>\n"
      ],
      "text/latex": [
       "\\textbf{\\$sampel\\_vektor} = \\begin{enumerate*}\n",
       "\\item 1\n",
       "\\item 2\n",
       "\\item 3\n",
       "\\item 4\n",
       "\\item 5\n",
       "\\end{enumerate*}\n"
      ],
      "text/markdown": [
       "**$sampel_vektor** = 1. 1\n",
       "2. 2\n",
       "3. 3\n",
       "4. 4\n",
       "5. 5\n",
       "\n",
       "\n"
      ],
      "text/plain": [
       "$sampel_vektor\n",
       "[1] 1 2 3 4 5\n"
      ]
     },
     "metadata": {},
     "output_type": "display_data"
    }
   ],
   "source": [
    "l2[1]"
   ]
  },
  {
   "cell_type": "code",
   "execution_count": 231,
   "metadata": {},
   "outputs": [
    {
     "data": {
      "text/html": [
       "<strong>$sampel_vektor</strong> = <ol class=list-inline>\n",
       "\t<li>1</li>\n",
       "\t<li>2</li>\n",
       "\t<li>3</li>\n",
       "\t<li>4</li>\n",
       "\t<li>5</li>\n",
       "</ol>\n"
      ],
      "text/latex": [
       "\\textbf{\\$sampel\\_vektor} = \\begin{enumerate*}\n",
       "\\item 1\n",
       "\\item 2\n",
       "\\item 3\n",
       "\\item 4\n",
       "\\item 5\n",
       "\\end{enumerate*}\n"
      ],
      "text/markdown": [
       "**$sampel_vektor** = 1. 1\n",
       "2. 2\n",
       "3. 3\n",
       "4. 4\n",
       "5. 5\n",
       "\n",
       "\n"
      ],
      "text/plain": [
       "$sampel_vektor\n",
       "[1] 1 2 3 4 5\n"
      ]
     },
     "metadata": {},
     "output_type": "display_data"
    }
   ],
   "source": [
    "l2['sampel_vektor']"
   ]
  },
  {
   "cell_type": "code",
   "execution_count": 232,
   "metadata": {},
   "outputs": [
    {
     "data": {
      "text/html": [
       "<ol class=list-inline>\n",
       "\t<li>1</li>\n",
       "\t<li>2</li>\n",
       "\t<li>3</li>\n",
       "\t<li>4</li>\n",
       "\t<li>5</li>\n",
       "</ol>\n"
      ],
      "text/latex": [
       "\\begin{enumerate*}\n",
       "\\item 1\n",
       "\\item 2\n",
       "\\item 3\n",
       "\\item 4\n",
       "\\item 5\n",
       "\\end{enumerate*}\n"
      ],
      "text/markdown": [
       "1. 1\n",
       "2. 2\n",
       "3. 3\n",
       "4. 4\n",
       "5. 5\n",
       "\n",
       "\n"
      ],
      "text/plain": [
       "[1] 1 2 3 4 5"
      ]
     },
     "metadata": {},
     "output_type": "display_data"
    }
   ],
   "source": [
    "l2$sampel_vektor"
   ]
  },
  {
   "cell_type": "code",
   "execution_count": 233,
   "metadata": {},
   "outputs": [
    {
     "data": {
      "text/html": [
       "<ol class=list-inline>\n",
       "\t<li>1</li>\n",
       "\t<li>2</li>\n",
       "\t<li>3</li>\n",
       "\t<li>4</li>\n",
       "\t<li>5</li>\n",
       "</ol>\n"
      ],
      "text/latex": [
       "\\begin{enumerate*}\n",
       "\\item 1\n",
       "\\item 2\n",
       "\\item 3\n",
       "\\item 4\n",
       "\\item 5\n",
       "\\end{enumerate*}\n"
      ],
      "text/markdown": [
       "1. 1\n",
       "2. 2\n",
       "3. 3\n",
       "4. 4\n",
       "5. 5\n",
       "\n",
       "\n"
      ],
      "text/plain": [
       "[1] 1 2 3 4 5"
      ]
     },
     "metadata": {},
     "output_type": "display_data"
    }
   ],
   "source": [
    "l2[['sampel_vektor']]"
   ]
  },
  {
   "cell_type": "code",
   "execution_count": 236,
   "metadata": {},
   "outputs": [
    {
     "name": "stdout",
     "output_type": "stream",
     "text": [
      "[1] \"list\"\n",
      "[1] \"list\"\n"
     ]
    }
   ],
   "source": [
    "print(class(l2['sampel_vektor']))\n",
    "print(class(l2[1]))"
   ]
  },
  {
   "cell_type": "code",
   "execution_count": 239,
   "metadata": {},
   "outputs": [
    {
     "name": "stdout",
     "output_type": "stream",
     "text": [
      "[1] \"numeric\"\n",
      "[1] \"numeric\"\n"
     ]
    }
   ],
   "source": [
    "print(class(l2$sampel_vektor))\n",
    "print(class(l2[['sampel_vektor']]))"
   ]
  },
  {
   "cell_type": "code",
   "execution_count": 241,
   "metadata": {},
   "outputs": [
    {
     "data": {
      "text/html": [
       "<dl>\n",
       "\t<dt>[[1]]</dt>\n",
       "\t\t<dd><ol class=list-inline>\n",
       "\t<li>1</li>\n",
       "\t<li>2</li>\n",
       "\t<li>3</li>\n",
       "\t<li>4</li>\n",
       "\t<li>5</li>\n",
       "</ol>\n",
       "</dd>\n",
       "\t<dt>[[2]]</dt>\n",
       "\t\t<dd><table>\n",
       "<tbody>\n",
       "\t<tr><td>1 </td><td>3 </td><td>5 </td><td>7 </td><td> 9</td></tr>\n",
       "\t<tr><td>2 </td><td>4 </td><td>6 </td><td>8 </td><td>10</td></tr>\n",
       "</tbody>\n",
       "</table>\n",
       "</dd>\n",
       "\t<dt>[[3]]</dt>\n",
       "\t\t<dd><table>\n",
       "<thead><tr><th scope=col>Nama</th><th scope=col>ID</th></tr></thead>\n",
       "<tbody>\n",
       "\t<tr><td>Ignatius</td><td>42      </td></tr>\n",
       "\t<tr><td>Laynez  </td><td>37      </td></tr>\n",
       "\t<tr><td>Faber   </td><td>28      </td></tr>\n",
       "\t<tr><td>Xaverius</td><td>45      </td></tr>\n",
       "\t<tr><td>Kanisius</td><td>43      </td></tr>\n",
       "</tbody>\n",
       "</table>\n",
       "</dd>\n",
       "\t<dt>$sampel_vektor</dt>\n",
       "\t\t<dd><ol class=list-inline>\n",
       "\t<li>1</li>\n",
       "\t<li>2</li>\n",
       "\t<li>3</li>\n",
       "\t<li>4</li>\n",
       "\t<li>5</li>\n",
       "</ol>\n",
       "</dd>\n",
       "\t<dt>$sampel_matriks</dt>\n",
       "\t\t<dd><table>\n",
       "<tbody>\n",
       "\t<tr><td>1 </td><td>3 </td><td>5 </td><td>7 </td><td> 9</td></tr>\n",
       "\t<tr><td>2 </td><td>4 </td><td>6 </td><td>8 </td><td>10</td></tr>\n",
       "</tbody>\n",
       "</table>\n",
       "</dd>\n",
       "\t<dt>$sample_data_frame</dt>\n",
       "\t\t<dd><table>\n",
       "<thead><tr><th scope=col>Nama</th><th scope=col>ID</th></tr></thead>\n",
       "<tbody>\n",
       "\t<tr><td>Ignatius</td><td>42      </td></tr>\n",
       "\t<tr><td>Laynez  </td><td>37      </td></tr>\n",
       "\t<tr><td>Faber   </td><td>28      </td></tr>\n",
       "\t<tr><td>Xaverius</td><td>45      </td></tr>\n",
       "\t<tr><td>Kanisius</td><td>43      </td></tr>\n",
       "</tbody>\n",
       "</table>\n",
       "</dd>\n",
       "</dl>\n"
      ],
      "text/latex": [
       "\\begin{description}\n",
       "\\item[{[[1]]}] \\begin{enumerate*}\n",
       "\\item 1\n",
       "\\item 2\n",
       "\\item 3\n",
       "\\item 4\n",
       "\\item 5\n",
       "\\end{enumerate*}\n",
       "\n",
       "\\item[{[[2]]}] \\begin{tabular}{lllll}\n",
       "\t 1  & 3  & 5  & 7  &  9\\\\\n",
       "\t 2  & 4  & 6  & 8  & 10\\\\\n",
       "\\end{tabular}\n",
       "\n",
       "\\item[{[[3]]}] \\begin{tabular}{r|ll}\n",
       " Nama & ID\\\\\n",
       "\\hline\n",
       "\t Ignatius & 42      \\\\\n",
       "\t Laynez   & 37      \\\\\n",
       "\t Faber    & 28      \\\\\n",
       "\t Xaverius & 45      \\\\\n",
       "\t Kanisius & 43      \\\\\n",
       "\\end{tabular}\n",
       "\n",
       "\\item[\\$sampel\\_vektor] \\begin{enumerate*}\n",
       "\\item 1\n",
       "\\item 2\n",
       "\\item 3\n",
       "\\item 4\n",
       "\\item 5\n",
       "\\end{enumerate*}\n",
       "\n",
       "\\item[\\$sampel\\_matriks] \\begin{tabular}{lllll}\n",
       "\t 1  & 3  & 5  & 7  &  9\\\\\n",
       "\t 2  & 4  & 6  & 8  & 10\\\\\n",
       "\\end{tabular}\n",
       "\n",
       "\\item[\\$sample\\_data\\_frame] \\begin{tabular}{r|ll}\n",
       " Nama & ID\\\\\n",
       "\\hline\n",
       "\t Ignatius & 42      \\\\\n",
       "\t Laynez   & 37      \\\\\n",
       "\t Faber    & 28      \\\\\n",
       "\t Xaverius & 45      \\\\\n",
       "\t Kanisius & 43      \\\\\n",
       "\\end{tabular}\n",
       "\n",
       "\\end{description}\n"
      ],
      "text/markdown": [
       "[[1]]\n",
       ":   1. 1\n",
       "2. 2\n",
       "3. 3\n",
       "4. 4\n",
       "5. 5\n",
       "\n",
       "\n",
       "\n",
       "[[2]]\n",
       ":   \n",
       "| 1  | 3  | 5  | 7  |  9 |\n",
       "| 2  | 4  | 6  | 8  | 10 |\n",
       "\n",
       "\n",
       "[[3]]\n",
       ":   \n",
       "| Nama | ID |\n",
       "|---|---|\n",
       "| Ignatius | 42       |\n",
       "| Laynez   | 37       |\n",
       "| Faber    | 28       |\n",
       "| Xaverius | 45       |\n",
       "| Kanisius | 43       |\n",
       "\n",
       "\n",
       "$sampel_vektor\n",
       ":   1. 1\n",
       "2. 2\n",
       "3. 3\n",
       "4. 4\n",
       "5. 5\n",
       "\n",
       "\n",
       "\n",
       "$sampel_matriks\n",
       ":   \n",
       "| 1  | 3  | 5  | 7  |  9 |\n",
       "| 2  | 4  | 6  | 8  | 10 |\n",
       "\n",
       "\n",
       "$sample_data_frame\n",
       ":   \n",
       "| Nama | ID |\n",
       "|---|---|\n",
       "| Ignatius | 42       |\n",
       "| Laynez   | 37       |\n",
       "| Faber    | 28       |\n",
       "| Xaverius | 45       |\n",
       "| Kanisius | 43       |\n",
       "\n",
       "\n",
       "\n",
       "\n"
      ],
      "text/plain": [
       "[[1]]\n",
       "[1] 1 2 3 4 5\n",
       "\n",
       "[[2]]\n",
       "     [,1] [,2] [,3] [,4] [,5]\n",
       "[1,]    1    3    5    7    9\n",
       "[2,]    2    4    6    8   10\n",
       "\n",
       "[[3]]\n",
       "      Nama ID\n",
       "1 Ignatius 42\n",
       "2   Laynez 37\n",
       "3    Faber 28\n",
       "4 Xaverius 45\n",
       "5 Kanisius 43\n",
       "\n",
       "$sampel_vektor\n",
       "[1] 1 2 3 4 5\n",
       "\n",
       "$sampel_matriks\n",
       "     [,1] [,2] [,3] [,4] [,5]\n",
       "[1,]    1    3    5    7    9\n",
       "[2,]    2    4    6    8   10\n",
       "\n",
       "$sample_data_frame\n",
       "      Nama ID\n",
       "1 Ignatius 42\n",
       "2   Laynez 37\n",
       "3    Faber 28\n",
       "4 Xaverius 45\n",
       "5 Kanisius 43\n"
      ]
     },
     "metadata": {},
     "output_type": "display_data"
    }
   ],
   "source": [
    "# Mengombinasikan dua list\n",
    "l3 <- c(l,l2)\n",
    "l3"
   ]
  },
  {
   "cell_type": "code",
   "execution_count": 242,
   "metadata": {},
   "outputs": [
    {
     "name": "stdout",
     "output_type": "stream",
     "text": [
      "List of 3\n",
      " $ sampel_vektor    : num [1:5] 1 2 3 4 5\n",
      " $ sampel_matriks   : int [1:2, 1:5] 1 2 3 4 5 6 7 8 9 10\n",
      " $ sample_data_frame:'data.frame':\t5 obs. of  2 variables:\n",
      "  ..$ Nama: Factor w/ 5 levels \"Faber\",\"Ignatius\",..: 2 4 1 5 3\n",
      "  ..$ ID  : num [1:5] 42 37 28 45 43\n"
     ]
    }
   ],
   "source": [
    "str(l2)"
   ]
  },
  {
   "cell_type": "code",
   "execution_count": 243,
   "metadata": {},
   "outputs": [
    {
     "data": {
      "text/plain": [
       "                  Length Class      Mode   \n",
       "sampel_vektor      5     -none-     numeric\n",
       "sampel_matriks    10     -none-     numeric\n",
       "sample_data_frame  2     data.frame list   "
      ]
     },
     "metadata": {},
     "output_type": "display_data"
    }
   ],
   "source": [
    "summary(l2)"
   ]
  },
  {
   "cell_type": "markdown",
   "metadata": {},
   "source": [
    "# Penanganan data tabular"
   ]
  },
  {
   "cell_type": "markdown",
   "metadata": {},
   "source": [
    "## Penanganan data csv"
   ]
  },
  {
   "cell_type": "code",
   "execution_count": 245,
   "metadata": {},
   "outputs": [
    {
     "data": {
      "text/html": [
       "'/home/ronggolawe/coding_repo/statdasWebinaR'"
      ],
      "text/latex": [
       "'/home/ronggolawe/coding\\_repo/statdasWebinaR'"
      ],
      "text/markdown": [
       "'/home/ronggolawe/coding_repo/statdasWebinaR'"
      ],
      "text/plain": [
       "[1] \"/home/ronggolawe/coding_repo/statdasWebinaR\""
      ]
     },
     "metadata": {},
     "output_type": "display_data"
    }
   ],
   "source": [
    "getwd() # tahu di mana posisi kita saat ini"
   ]
  },
  {
   "cell_type": "code",
   "execution_count": 246,
   "metadata": {},
   "outputs": [],
   "source": [
    "setwd(\"/home//ronggolawe/coding_repo/statdasWebinaR/\") # mengatur posisi kita"
   ]
  },
  {
   "cell_type": "code",
   "execution_count": 247,
   "metadata": {},
   "outputs": [
    {
     "data": {
      "text/html": [
       "'/home/ronggolawe/coding_repo/statdasWebinaR'"
      ],
      "text/latex": [
       "'/home/ronggolawe/coding\\_repo/statdasWebinaR'"
      ],
      "text/markdown": [
       "'/home/ronggolawe/coding_repo/statdasWebinaR'"
      ],
      "text/plain": [
       "[1] \"/home/ronggolawe/coding_repo/statdasWebinaR\""
      ]
     },
     "metadata": {},
     "output_type": "display_data"
    }
   ],
   "source": [
    "getwd()"
   ]
  },
  {
   "cell_type": "code",
   "execution_count": 2,
   "metadata": {},
   "outputs": [
    {
     "data": {
      "text/html": [
       "<table>\n",
       "<thead><tr><th scope=col>ID</th><th scope=col>NAMA</th><th scope=col>Gaji</th><th scope=col>Jurusan</th></tr></thead>\n",
       "<tbody>\n",
       "\t<tr><td>1                 </td><td>Petrus            </td><td> 1000000          </td><td>Teologi           </td></tr>\n",
       "\t<tr><td>2                 </td><td>Matius            </td><td> 2000000          </td><td>Filsafat          </td></tr>\n",
       "\t<tr><td>3                 </td><td>Markus            </td><td> 5000000          </td><td>Meteorologi       </td></tr>\n",
       "\t<tr><td>4                 </td><td>Barnabas          </td><td>10000000          </td><td>Teknik Informatika</td></tr>\n",
       "\t<tr><td>5                 </td><td>Thomas            </td><td>20000000          </td><td>Sistem Informasi  </td></tr>\n",
       "\t<tr><td>6                 </td><td>Ignatius          </td><td>  500000          </td><td>Pendidikan Agama  </td></tr>\n",
       "\t<tr><td>7                 </td><td>Aisyah            </td><td>25000000          </td><td>Teknik Elektro    </td></tr>\n",
       "\t<tr><td>8                 </td><td>Supriyanto        </td><td> 1500000          </td><td>Ilmu Perpustakaan </td></tr>\n",
       "</tbody>\n",
       "</table>\n"
      ],
      "text/latex": [
       "\\begin{tabular}{r|llll}\n",
       " ID & NAMA & Gaji & Jurusan\\\\\n",
       "\\hline\n",
       "\t 1                  & Petrus             &  1000000           & Teologi           \\\\\n",
       "\t 2                  & Matius             &  2000000           & Filsafat          \\\\\n",
       "\t 3                  & Markus             &  5000000           & Meteorologi       \\\\\n",
       "\t 4                  & Barnabas           & 10000000           & Teknik Informatika\\\\\n",
       "\t 5                  & Thomas             & 20000000           & Sistem Informasi  \\\\\n",
       "\t 6                  & Ignatius           &   500000           & Pendidikan Agama  \\\\\n",
       "\t 7                  & Aisyah             & 25000000           & Teknik Elektro    \\\\\n",
       "\t 8                  & Supriyanto         &  1500000           & Ilmu Perpustakaan \\\\\n",
       "\\end{tabular}\n"
      ],
      "text/markdown": [
       "\n",
       "| ID | NAMA | Gaji | Jurusan |\n",
       "|---|---|---|---|\n",
       "| 1                  | Petrus             |  1000000           | Teologi            |\n",
       "| 2                  | Matius             |  2000000           | Filsafat           |\n",
       "| 3                  | Markus             |  5000000           | Meteorologi        |\n",
       "| 4                  | Barnabas           | 10000000           | Teknik Informatika |\n",
       "| 5                  | Thomas             | 20000000           | Sistem Informasi   |\n",
       "| 6                  | Ignatius           |   500000           | Pendidikan Agama   |\n",
       "| 7                  | Aisyah             | 25000000           | Teknik Elektro     |\n",
       "| 8                  | Supriyanto         |  1500000           | Ilmu Perpustakaan  |\n",
       "\n"
      ],
      "text/plain": [
       "  ID NAMA       Gaji     Jurusan           \n",
       "1 1  Petrus      1000000 Teologi           \n",
       "2 2  Matius      2000000 Filsafat          \n",
       "3 3  Markus      5000000 Meteorologi       \n",
       "4 4  Barnabas   10000000 Teknik Informatika\n",
       "5 5  Thomas     20000000 Sistem Informasi  \n",
       "6 6  Ignatius     500000 Pendidikan Agama  \n",
       "7 7  Aisyah     25000000 Teknik Elektro    \n",
       "8 8  Supriyanto  1500000 Ilmu Perpustakaan "
      ]
     },
     "metadata": {},
     "output_type": "display_data"
    }
   ],
   "source": [
    "# Membaca csv\n",
    "data <- read.csv(\"gaji.csv\")\n",
    "data"
   ]
  },
  {
   "cell_type": "code",
   "execution_count": 3,
   "metadata": {},
   "outputs": [
    {
     "data": {
      "text/html": [
       "<table>\n",
       "<thead><tr><th></th><th scope=col>mpg</th><th scope=col>cyl</th><th scope=col>disp</th><th scope=col>hp</th><th scope=col>drat</th><th scope=col>wt</th><th scope=col>qsec</th><th scope=col>vs</th><th scope=col>am</th><th scope=col>gear</th><th scope=col>carb</th></tr></thead>\n",
       "<tbody>\n",
       "\t<tr><th scope=row>Mazda RX4</th><td>21.0 </td><td>6    </td><td>160  </td><td>110  </td><td>3.90 </td><td>2.620</td><td>16.46</td><td>0    </td><td>1    </td><td>4    </td><td>4    </td></tr>\n",
       "\t<tr><th scope=row>Mazda RX4 Wag</th><td>21.0 </td><td>6    </td><td>160  </td><td>110  </td><td>3.90 </td><td>2.875</td><td>17.02</td><td>0    </td><td>1    </td><td>4    </td><td>4    </td></tr>\n",
       "\t<tr><th scope=row>Datsun 710</th><td>22.8 </td><td>4    </td><td>108  </td><td> 93  </td><td>3.85 </td><td>2.320</td><td>18.61</td><td>1    </td><td>1    </td><td>4    </td><td>1    </td></tr>\n",
       "\t<tr><th scope=row>Hornet 4 Drive</th><td>21.4 </td><td>6    </td><td>258  </td><td>110  </td><td>3.08 </td><td>3.215</td><td>19.44</td><td>1    </td><td>0    </td><td>3    </td><td>1    </td></tr>\n",
       "\t<tr><th scope=row>Hornet Sportabout</th><td>18.7 </td><td>8    </td><td>360  </td><td>175  </td><td>3.15 </td><td>3.440</td><td>17.02</td><td>0    </td><td>0    </td><td>3    </td><td>2    </td></tr>\n",
       "\t<tr><th scope=row>Valiant</th><td>18.1 </td><td>6    </td><td>225  </td><td>105  </td><td>2.76 </td><td>3.460</td><td>20.22</td><td>1    </td><td>0    </td><td>3    </td><td>1    </td></tr>\n",
       "</tbody>\n",
       "</table>\n"
      ],
      "text/latex": [
       "\\begin{tabular}{r|lllllllllll}\n",
       "  & mpg & cyl & disp & hp & drat & wt & qsec & vs & am & gear & carb\\\\\n",
       "\\hline\n",
       "\tMazda RX4 & 21.0  & 6     & 160   & 110   & 3.90  & 2.620 & 16.46 & 0     & 1     & 4     & 4    \\\\\n",
       "\tMazda RX4 Wag & 21.0  & 6     & 160   & 110   & 3.90  & 2.875 & 17.02 & 0     & 1     & 4     & 4    \\\\\n",
       "\tDatsun 710 & 22.8  & 4     & 108   &  93   & 3.85  & 2.320 & 18.61 & 1     & 1     & 4     & 1    \\\\\n",
       "\tHornet 4 Drive & 21.4  & 6     & 258   & 110   & 3.08  & 3.215 & 19.44 & 1     & 0     & 3     & 1    \\\\\n",
       "\tHornet Sportabout & 18.7  & 8     & 360   & 175   & 3.15  & 3.440 & 17.02 & 0     & 0     & 3     & 2    \\\\\n",
       "\tValiant & 18.1  & 6     & 225   & 105   & 2.76  & 3.460 & 20.22 & 1     & 0     & 3     & 1    \\\\\n",
       "\\end{tabular}\n"
      ],
      "text/markdown": [
       "\n",
       "| <!--/--> | mpg | cyl | disp | hp | drat | wt | qsec | vs | am | gear | carb |\n",
       "|---|---|---|---|---|---|---|---|---|---|---|---|\n",
       "| Mazda RX4 | 21.0  | 6     | 160   | 110   | 3.90  | 2.620 | 16.46 | 0     | 1     | 4     | 4     |\n",
       "| Mazda RX4 Wag | 21.0  | 6     | 160   | 110   | 3.90  | 2.875 | 17.02 | 0     | 1     | 4     | 4     |\n",
       "| Datsun 710 | 22.8  | 4     | 108   |  93   | 3.85  | 2.320 | 18.61 | 1     | 1     | 4     | 1     |\n",
       "| Hornet 4 Drive | 21.4  | 6     | 258   | 110   | 3.08  | 3.215 | 19.44 | 1     | 0     | 3     | 1     |\n",
       "| Hornet Sportabout | 18.7  | 8     | 360   | 175   | 3.15  | 3.440 | 17.02 | 0     | 0     | 3     | 2     |\n",
       "| Valiant | 18.1  | 6     | 225   | 105   | 2.76  | 3.460 | 20.22 | 1     | 0     | 3     | 1     |\n",
       "\n"
      ],
      "text/plain": [
       "                  mpg  cyl disp hp  drat wt    qsec  vs am gear carb\n",
       "Mazda RX4         21.0 6   160  110 3.90 2.620 16.46 0  1  4    4   \n",
       "Mazda RX4 Wag     21.0 6   160  110 3.90 2.875 17.02 0  1  4    4   \n",
       "Datsun 710        22.8 4   108   93 3.85 2.320 18.61 1  1  4    1   \n",
       "Hornet 4 Drive    21.4 6   258  110 3.08 3.215 19.44 1  0  3    1   \n",
       "Hornet Sportabout 18.7 8   360  175 3.15 3.440 17.02 0  0  3    2   \n",
       "Valiant           18.1 6   225  105 2.76 3.460 20.22 1  0  3    1   "
      ]
     },
     "metadata": {},
     "output_type": "display_data"
    }
   ],
   "source": [
    "# menuliskan csv\n",
    "head(mtcars)"
   ]
  },
  {
   "cell_type": "code",
   "execution_count": 4,
   "metadata": {},
   "outputs": [],
   "source": [
    "write.csv(mtcars, file = \"tes.csv\")"
   ]
  },
  {
   "cell_type": "code",
   "execution_count": 6,
   "metadata": {},
   "outputs": [
    {
     "data": {
      "text/html": [
       "'data.frame'"
      ],
      "text/latex": [
       "'data.frame'"
      ],
      "text/markdown": [
       "'data.frame'"
      ],
      "text/plain": [
       "[1] \"data.frame\""
      ]
     },
     "metadata": {},
     "output_type": "display_data"
    }
   ],
   "source": [
    "class(data)"
   ]
  },
  {
   "cell_type": "code",
   "execution_count": 10,
   "metadata": {},
   "outputs": [
    {
     "data": {
      "text/html": [
       "<table>\n",
       "<thead><tr><th scope=col>c1</th><th scope=col>c2</th></tr></thead>\n",
       "<tbody>\n",
       "\t<tr><td>10</td><td>A </td></tr>\n",
       "\t<tr><td>20</td><td>B </td></tr>\n",
       "\t<tr><td>30</td><td>C </td></tr>\n",
       "\t<tr><td>40</td><td>D </td></tr>\n",
       "\t<tr><td>50</td><td>E </td></tr>\n",
       "</tbody>\n",
       "</table>\n"
      ],
      "text/latex": [
       "\\begin{tabular}{r|ll}\n",
       " c1 & c2\\\\\n",
       "\\hline\n",
       "\t 10 & A \\\\\n",
       "\t 20 & B \\\\\n",
       "\t 30 & C \\\\\n",
       "\t 40 & D \\\\\n",
       "\t 50 & E \\\\\n",
       "\\end{tabular}\n"
      ],
      "text/markdown": [
       "\n",
       "| c1 | c2 |\n",
       "|---|---|\n",
       "| 10 | A  |\n",
       "| 20 | B  |\n",
       "| 30 | C  |\n",
       "| 40 | D  |\n",
       "| 50 | E  |\n",
       "\n"
      ],
      "text/plain": [
       "  c1 c2\n",
       "1 10 A \n",
       "2 20 B \n",
       "3 30 C \n",
       "4 40 D \n",
       "5 50 E "
      ]
     },
     "metadata": {},
     "output_type": "display_data"
    }
   ],
   "source": [
    "# menuliskan csv dari data frame\n",
    "c1 <- c(10,20,30,40,50)\n",
    "c2 <- c('A', 'B', 'C', 'D', 'E')\n",
    "df <- data.frame(c1,c2)\n",
    "df"
   ]
  },
  {
   "cell_type": "code",
   "execution_count": 11,
   "metadata": {},
   "outputs": [],
   "source": [
    "write.csv(df, file = 'tes2.csv')"
   ]
  },
  {
   "cell_type": "code",
   "execution_count": 12,
   "metadata": {},
   "outputs": [],
   "source": [
    "help(read.csv)"
   ]
  },
  {
   "cell_type": "markdown",
   "metadata": {},
   "source": [
    "## Penanganan data excel"
   ]
  },
  {
   "cell_type": "code",
   "execution_count": null,
   "metadata": {},
   "outputs": [],
   "source": [
    "insta"
   ]
  }
 ],
 "metadata": {
  "kernelspec": {
   "display_name": "R",
   "language": "R",
   "name": "ir"
  },
  "language_info": {
   "codemirror_mode": "r",
   "file_extension": ".r",
   "mimetype": "text/x-r-source",
   "name": "R",
   "pygments_lexer": "r",
   "version": "3.6.1"
  }
 },
 "nbformat": 4,
 "nbformat_minor": 4
}
