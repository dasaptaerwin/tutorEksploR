{
 "cells": [
  {
   "cell_type": "markdown",
   "metadata": {},
   "source": [
    "&copy; 2020<br><br>\n",
    "Sandy Hardian Susanto Herho dan Dasapta Erwin Irawan"
   ]
  },
  {
   "cell_type": "markdown",
   "metadata": {},
   "source": [
    "# Dasar - dasar pemrograman"
   ]
  },
  {
   "cell_type": "markdown",
   "metadata": {},
   "source": [
    "## Aritmatika"
   ]
  },
  {
   "cell_type": "code",
   "execution_count": 1,
   "metadata": {},
   "outputs": [
    {
     "data": {
      "text/html": [
       "3"
      ],
      "text/latex": [
       "3"
      ],
      "text/markdown": [
       "3"
      ],
      "text/plain": [
       "[1] 3"
      ]
     },
     "metadata": {},
     "output_type": "display_data"
    }
   ],
   "source": [
    "1 + 2"
   ]
  },
  {
   "cell_type": "code",
   "execution_count": 2,
   "metadata": {},
   "outputs": [
    {
     "data": {
      "text/html": [
       "2"
      ],
      "text/latex": [
       "2"
      ],
      "text/markdown": [
       "2"
      ],
      "text/plain": [
       "[1] 2"
      ]
     },
     "metadata": {},
     "output_type": "display_data"
    }
   ],
   "source": [
    "5 - 3"
   ]
  },
  {
   "cell_type": "code",
   "execution_count": 3,
   "metadata": {},
   "outputs": [
    {
     "data": {
      "text/html": [
       "9.2"
      ],
      "text/latex": [
       "9.2"
      ],
      "text/markdown": [
       "9.2"
      ],
      "text/plain": [
       "[1] 9.2"
      ]
     },
     "metadata": {},
     "output_type": "display_data"
    }
   ],
   "source": [
    "5.25 + 3.95"
   ]
  },
  {
   "cell_type": "code",
   "execution_count": 4,
   "metadata": {},
   "outputs": [
    {
     "data": {
      "text/html": [
       "6"
      ],
      "text/latex": [
       "6"
      ],
      "text/markdown": [
       "6"
      ],
      "text/plain": [
       "[1] 6"
      ]
     },
     "metadata": {},
     "output_type": "display_data"
    }
   ],
   "source": [
    "3 * 2"
   ]
  },
  {
   "cell_type": "code",
   "execution_count": 5,
   "metadata": {},
   "outputs": [
    {
     "data": {
      "text/html": [
       "7.5"
      ],
      "text/latex": [
       "7.5"
      ],
      "text/markdown": [
       "7.5"
      ],
      "text/plain": [
       "[1] 7.5"
      ]
     },
     "metadata": {},
     "output_type": "display_data"
    }
   ],
   "source": [
    "15 / 2"
   ]
  },
  {
   "cell_type": "code",
   "execution_count": 6,
   "metadata": {},
   "outputs": [
    {
     "data": {
      "text/html": [
       "8"
      ],
      "text/latex": [
       "8"
      ],
      "text/markdown": [
       "8"
      ],
      "text/plain": [
       "[1] 8"
      ]
     },
     "metadata": {},
     "output_type": "display_data"
    }
   ],
   "source": [
    "2 ^ 3"
   ]
  },
  {
   "cell_type": "code",
   "execution_count": 7,
   "metadata": {},
   "outputs": [
    {
     "data": {
      "text/html": [
       "7.5"
      ],
      "text/latex": [
       "7.5"
      ],
      "text/markdown": [
       "7.5"
      ],
      "text/plain": [
       "[1] 7.5"
      ]
     },
     "metadata": {},
     "output_type": "display_data"
    }
   ],
   "source": [
    "# operator modulus\n",
    "\n",
    "15/2 "
   ]
  },
  {
   "cell_type": "code",
   "execution_count": 8,
   "metadata": {},
   "outputs": [
    {
     "data": {
      "text/html": [
       "1"
      ],
      "text/latex": [
       "1"
      ],
      "text/markdown": [
       "1"
      ],
      "text/plain": [
       "[1] 1"
      ]
     },
     "metadata": {},
     "output_type": "display_data"
    }
   ],
   "source": [
    "15 %% 2"
   ]
  },
  {
   "cell_type": "code",
   "execution_count": 9,
   "metadata": {},
   "outputs": [
    {
     "data": {
      "text/html": [
       "325"
      ],
      "text/latex": [
       "325"
      ],
      "text/markdown": [
       "325"
      ],
      "text/plain": [
       "[1] 325"
      ]
     },
     "metadata": {},
     "output_type": "display_data"
    }
   ],
   "source": [
    "# urutan operasi\n",
    "15 * 20 + 50 / 2"
   ]
  },
  {
   "cell_type": "code",
   "execution_count": 10,
   "metadata": {},
   "outputs": [
    {
     "data": {
      "text/html": [
       "325"
      ],
      "text/latex": [
       "325"
      ],
      "text/markdown": [
       "325"
      ],
      "text/plain": [
       "[1] 325"
      ]
     },
     "metadata": {},
     "output_type": "display_data"
    }
   ],
   "source": [
    "15 * 20 + (50 / 2)"
   ]
  },
  {
   "cell_type": "code",
   "execution_count": 11,
   "metadata": {},
   "outputs": [
    {
     "data": {
      "text/html": [
       "525"
      ],
      "text/latex": [
       "525"
      ],
      "text/markdown": [
       "525"
      ],
      "text/plain": [
       "[1] 525"
      ]
     },
     "metadata": {},
     "output_type": "display_data"
    }
   ],
   "source": [
    "15 * (20 + 50) / 2"
   ]
  },
  {
   "cell_type": "markdown",
   "metadata": {},
   "source": [
    "## Variabel"
   ]
  },
  {
   "cell_type": "code",
   "execution_count": 12,
   "metadata": {},
   "outputs": [],
   "source": [
    "# komentar\n",
    "v <- 10"
   ]
  },
  {
   "cell_type": "code",
   "execution_count": 13,
   "metadata": {},
   "outputs": [
    {
     "name": "stdout",
     "output_type": "stream",
     "text": [
      "[1] 10\n"
     ]
    }
   ],
   "source": [
    "print(v)"
   ]
  },
  {
   "cell_type": "code",
   "execution_count": 14,
   "metadata": {},
   "outputs": [
    {
     "data": {
      "text/html": [
       "10"
      ],
      "text/latex": [
       "10"
      ],
      "text/markdown": [
       "10"
      ],
      "text/plain": [
       "[1] 10"
      ]
     },
     "metadata": {},
     "output_type": "display_data"
    }
   ],
   "source": [
    "v"
   ]
  },
  {
   "cell_type": "code",
   "execution_count": 15,
   "metadata": {},
   "outputs": [],
   "source": [
    "uang <- 100000"
   ]
  },
  {
   "cell_type": "code",
   "execution_count": 16,
   "metadata": {},
   "outputs": [
    {
     "data": {
      "text/html": [
       "1e+05"
      ],
      "text/latex": [
       "1e+05"
      ],
      "text/markdown": [
       "1e+05"
      ],
      "text/plain": [
       "[1] 1e+05"
      ]
     },
     "metadata": {},
     "output_type": "display_data"
    }
   ],
   "source": [
    "uang"
   ]
  },
  {
   "cell_type": "code",
   "execution_count": 17,
   "metadata": {},
   "outputs": [
    {
     "data": {
      "text/html": [
       "2e+05"
      ],
      "text/latex": [
       "2e+05"
      ],
      "text/markdown": [
       "2e+05"
      ],
      "text/plain": [
       "[1] 2e+05"
      ]
     },
     "metadata": {},
     "output_type": "display_data"
    }
   ],
   "source": [
    "tiket.bioskop <- 2e5 # paling sering digunakan di komunitas R\n",
    "tiket.bioskop"
   ]
  },
  {
   "cell_type": "code",
   "execution_count": 18,
   "metadata": {},
   "outputs": [
    {
     "data": {
      "text/html": [
       "205000"
      ],
      "text/latex": [
       "205000"
      ],
      "text/markdown": [
       "205000"
      ],
      "text/plain": [
       "[1] 205000"
      ]
     },
     "metadata": {},
     "output_type": "display_data"
    }
   ],
   "source": [
    "tiketBioskop <- 2.05e5\n",
    "tiketBioskop"
   ]
  },
  {
   "cell_type": "code",
   "execution_count": 19,
   "metadata": {},
   "outputs": [
    {
     "data": {
      "text/html": [
       "210000"
      ],
      "text/latex": [
       "210000"
      ],
      "text/markdown": [
       "210000"
      ],
      "text/plain": [
       "[1] 210000"
      ]
     },
     "metadata": {},
     "output_type": "display_data"
    }
   ],
   "source": [
    "tiket_bioskop <-2.1e5\n",
    "tiket_bioskop"
   ]
  },
  {
   "cell_type": "code",
   "execution_count": 20,
   "metadata": {},
   "outputs": [
    {
     "data": {
      "text/html": [
       "50000"
      ],
      "text/latex": [
       "50000"
      ],
      "text/markdown": [
       "50000"
      ],
      "text/plain": [
       "[1] 50000"
      ]
     },
     "metadata": {},
     "output_type": "display_data"
    }
   ],
   "source": [
    "popcorn <- 5e4\n",
    "popcorn"
   ]
  },
  {
   "cell_type": "code",
   "execution_count": 21,
   "metadata": {},
   "outputs": [
    {
     "name": "stdout",
     "output_type": "stream",
     "text": [
      "[1] 270000\n"
     ]
    }
   ],
   "source": [
    "tiket.bioskop <- tiket.bioskop + popcorn + 2e4\n",
    "print(tiket.bioskop)"
   ]
  },
  {
   "cell_type": "markdown",
   "metadata": {},
   "source": [
    "## Tipe - tipe data"
   ]
  },
  {
   "cell_type": "markdown",
   "metadata": {},
   "source": [
    "### Numerik"
   ]
  },
  {
   "cell_type": "code",
   "execution_count": 22,
   "metadata": {},
   "outputs": [
    {
     "data": {
      "text/html": [
       "2"
      ],
      "text/latex": [
       "2"
      ],
      "text/markdown": [
       "2"
      ],
      "text/plain": [
       "[1] 2"
      ]
     },
     "metadata": {},
     "output_type": "display_data"
    }
   ],
   "source": [
    "b <- 2\n",
    "b"
   ]
  },
  {
   "cell_type": "code",
   "execution_count": 23,
   "metadata": {},
   "outputs": [
    {
     "data": {
      "text/html": [
       "3.5"
      ],
      "text/latex": [
       "3.5"
      ],
      "text/markdown": [
       "3.5"
      ],
      "text/plain": [
       "[1] 3.5"
      ]
     },
     "metadata": {},
     "output_type": "display_data"
    }
   ],
   "source": [
    "d <- 3.5\n",
    "d"
   ]
  },
  {
   "cell_type": "code",
   "execution_count": 24,
   "metadata": {},
   "outputs": [
    {
     "data": {
      "text/html": [
       "'numeric'"
      ],
      "text/latex": [
       "'numeric'"
      ],
      "text/markdown": [
       "'numeric'"
      ],
      "text/plain": [
       "[1] \"numeric\""
      ]
     },
     "metadata": {},
     "output_type": "display_data"
    }
   ],
   "source": [
    "class(d)"
   ]
  },
  {
   "cell_type": "code",
   "execution_count": 25,
   "metadata": {},
   "outputs": [
    {
     "data": {
      "text/html": [
       "'numeric'"
      ],
      "text/latex": [
       "'numeric'"
      ],
      "text/markdown": [
       "'numeric'"
      ],
      "text/plain": [
       "[1] \"numeric\""
      ]
     },
     "metadata": {},
     "output_type": "display_data"
    }
   ],
   "source": [
    "class(b)"
   ]
  },
  {
   "cell_type": "markdown",
   "metadata": {},
   "source": [
    "Integer dan float di R dianggap sebagai tipe data numerik"
   ]
  },
  {
   "cell_type": "markdown",
   "metadata": {},
   "source": [
    "### Logical"
   ]
  },
  {
   "cell_type": "code",
   "execution_count": 26,
   "metadata": {},
   "outputs": [
    {
     "data": {
      "text/html": [
       "TRUE"
      ],
      "text/latex": [
       "TRUE"
      ],
      "text/markdown": [
       "TRUE"
      ],
      "text/plain": [
       "[1] TRUE"
      ]
     },
     "metadata": {},
     "output_type": "display_data"
    }
   ],
   "source": [
    "TRUE"
   ]
  },
  {
   "cell_type": "code",
   "execution_count": 27,
   "metadata": {},
   "outputs": [
    {
     "data": {
      "text/html": [
       "FALSE"
      ],
      "text/latex": [
       "FALSE"
      ],
      "text/markdown": [
       "FALSE"
      ],
      "text/plain": [
       "[1] FALSE"
      ]
     },
     "metadata": {},
     "output_type": "display_data"
    }
   ],
   "source": [
    "FALSE"
   ]
  },
  {
   "cell_type": "code",
   "execution_count": 28,
   "metadata": {},
   "outputs": [
    {
     "data": {
      "text/html": [
       "TRUE"
      ],
      "text/latex": [
       "TRUE"
      ],
      "text/markdown": [
       "TRUE"
      ],
      "text/plain": [
       "[1] TRUE"
      ]
     },
     "metadata": {},
     "output_type": "display_data"
    }
   ],
   "source": [
    "T"
   ]
  },
  {
   "cell_type": "code",
   "execution_count": 29,
   "metadata": {},
   "outputs": [
    {
     "data": {
      "text/html": [
       "FALSE"
      ],
      "text/latex": [
       "FALSE"
      ],
      "text/markdown": [
       "FALSE"
      ],
      "text/plain": [
       "[1] FALSE"
      ]
     },
     "metadata": {},
     "output_type": "display_data"
    }
   ],
   "source": [
    "F"
   ]
  },
  {
   "cell_type": "code",
   "execution_count": 30,
   "metadata": {},
   "outputs": [
    {
     "data": {
      "text/html": [
       "TRUE"
      ],
      "text/latex": [
       "TRUE"
      ],
      "text/markdown": [
       "TRUE"
      ],
      "text/plain": [
       "[1] TRUE"
      ]
     },
     "metadata": {},
     "output_type": "display_data"
    }
   ],
   "source": [
    "a <- TRUE\n",
    "a"
   ]
  },
  {
   "cell_type": "code",
   "execution_count": 31,
   "metadata": {},
   "outputs": [
    {
     "data": {
      "text/html": [
       "'logical'"
      ],
      "text/latex": [
       "'logical'"
      ],
      "text/markdown": [
       "'logical'"
      ],
      "text/plain": [
       "[1] \"logical\""
      ]
     },
     "metadata": {},
     "output_type": "display_data"
    }
   ],
   "source": [
    "class(a)"
   ]
  },
  {
   "cell_type": "markdown",
   "metadata": {},
   "source": [
    "### Character"
   ]
  },
  {
   "cell_type": "code",
   "execution_count": 32,
   "metadata": {},
   "outputs": [
    {
     "data": {
      "text/html": [
       "'Halo'"
      ],
      "text/latex": [
       "'Halo'"
      ],
      "text/markdown": [
       "'Halo'"
      ],
      "text/plain": [
       "[1] \"Halo\""
      ]
     },
     "metadata": {},
     "output_type": "display_data"
    }
   ],
   "source": [
    "\"Halo\""
   ]
  },
  {
   "cell_type": "code",
   "execution_count": 33,
   "metadata": {},
   "outputs": [
    {
     "data": {
      "text/html": [
       "'Halo'"
      ],
      "text/latex": [
       "'Halo'"
      ],
      "text/markdown": [
       "'Halo'"
      ],
      "text/plain": [
       "[1] \"Halo\""
      ]
     },
     "metadata": {},
     "output_type": "display_data"
    }
   ],
   "source": [
    "'Halo'"
   ]
  },
  {
   "cell_type": "code",
   "execution_count": 34,
   "metadata": {},
   "outputs": [
    {
     "name": "stdout",
     "output_type": "stream",
     "text": [
      "[1] \"Hello world!\"\n"
     ]
    }
   ],
   "source": [
    "txt <- \"Hello world!\"\n",
    "print(txt)"
   ]
  },
  {
   "cell_type": "code",
   "execution_count": 35,
   "metadata": {},
   "outputs": [
    {
     "data": {
      "text/html": [
       "'character'"
      ],
      "text/latex": [
       "'character'"
      ],
      "text/markdown": [
       "'character'"
      ],
      "text/plain": [
       "[1] \"character\""
      ]
     },
     "metadata": {},
     "output_type": "display_data"
    }
   ],
   "source": [
    "class(txt)"
   ]
  },
  {
   "cell_type": "markdown",
   "metadata": {},
   "source": [
    "## Vektor"
   ]
  },
  {
   "cell_type": "code",
   "execution_count": 36,
   "metadata": {},
   "outputs": [],
   "source": [
    "num <- c(1,2,3,4,5)"
   ]
  },
  {
   "cell_type": "code",
   "execution_count": 37,
   "metadata": {},
   "outputs": [
    {
     "data": {
      "text/html": [
       "'numeric'"
      ],
      "text/latex": [
       "'numeric'"
      ],
      "text/markdown": [
       "'numeric'"
      ],
      "text/plain": [
       "[1] \"numeric\""
      ]
     },
     "metadata": {},
     "output_type": "display_data"
    }
   ],
   "source": [
    "class(num)"
   ]
  },
  {
   "cell_type": "code",
   "execution_count": 38,
   "metadata": {},
   "outputs": [
    {
     "data": {
      "text/html": [
       "<ol class=list-inline>\n",
       "\t<li>'a'</li>\n",
       "\t<li>'b'</li>\n",
       "\t<li>'c'</li>\n",
       "</ol>\n"
      ],
      "text/latex": [
       "\\begin{enumerate*}\n",
       "\\item 'a'\n",
       "\\item 'b'\n",
       "\\item 'c'\n",
       "\\end{enumerate*}\n"
      ],
      "text/markdown": [
       "1. 'a'\n",
       "2. 'b'\n",
       "3. 'c'\n",
       "\n",
       "\n"
      ],
      "text/plain": [
       "[1] \"a\" \"b\" \"c\""
      ]
     },
     "metadata": {},
     "output_type": "display_data"
    }
   ],
   "source": [
    "txt <- c('a', 'b', 'c')\n",
    "txt"
   ]
  },
  {
   "cell_type": "code",
   "execution_count": 39,
   "metadata": {},
   "outputs": [
    {
     "data": {
      "text/html": [
       "'character'"
      ],
      "text/latex": [
       "'character'"
      ],
      "text/markdown": [
       "'character'"
      ],
      "text/plain": [
       "[1] \"character\""
      ]
     },
     "metadata": {},
     "output_type": "display_data"
    }
   ],
   "source": [
    "class(txt)"
   ]
  },
  {
   "cell_type": "code",
   "execution_count": 40,
   "metadata": {},
   "outputs": [
    {
     "data": {
      "text/html": [
       "<ol class=list-inline>\n",
       "\t<li>TRUE</li>\n",
       "\t<li>FALSE</li>\n",
       "</ol>\n"
      ],
      "text/latex": [
       "\\begin{enumerate*}\n",
       "\\item TRUE\n",
       "\\item FALSE\n",
       "\\end{enumerate*}\n"
      ],
      "text/markdown": [
       "1. TRUE\n",
       "2. FALSE\n",
       "\n",
       "\n"
      ],
      "text/plain": [
       "[1]  TRUE FALSE"
      ]
     },
     "metadata": {},
     "output_type": "display_data"
    }
   ],
   "source": [
    "l <- c(T,F)\n",
    "l"
   ]
  },
  {
   "cell_type": "code",
   "execution_count": 41,
   "metadata": {},
   "outputs": [
    {
     "data": {
      "text/html": [
       "'logical'"
      ],
      "text/latex": [
       "'logical'"
      ],
      "text/markdown": [
       "'logical'"
      ],
      "text/plain": [
       "[1] \"logical\""
      ]
     },
     "metadata": {},
     "output_type": "display_data"
    }
   ],
   "source": [
    "class(l)"
   ]
  },
  {
   "cell_type": "code",
   "execution_count": 42,
   "metadata": {},
   "outputs": [
    {
     "data": {
      "text/html": [
       "<ol class=list-inline>\n",
       "\t<li>1</li>\n",
       "\t<li>10</li>\n",
       "\t<li>20</li>\n",
       "</ol>\n"
      ],
      "text/latex": [
       "\\begin{enumerate*}\n",
       "\\item 1\n",
       "\\item 10\n",
       "\\item 20\n",
       "\\end{enumerate*}\n"
      ],
      "text/markdown": [
       "1. 1\n",
       "2. 10\n",
       "3. 20\n",
       "\n",
       "\n"
      ],
      "text/plain": [
       "[1]  1 10 20"
      ]
     },
     "metadata": {},
     "output_type": "display_data"
    }
   ],
   "source": [
    "v1 <- c(TRUE, 10, 20)\n",
    "v1"
   ]
  },
  {
   "cell_type": "code",
   "execution_count": 43,
   "metadata": {},
   "outputs": [
    {
     "data": {
      "text/html": [
       "'numeric'"
      ],
      "text/latex": [
       "'numeric'"
      ],
      "text/markdown": [
       "'numeric'"
      ],
      "text/plain": [
       "[1] \"numeric\""
      ]
     },
     "metadata": {},
     "output_type": "display_data"
    }
   ],
   "source": [
    "class(v1) # logical dikonversi menjadi numeric"
   ]
  },
  {
   "cell_type": "code",
   "execution_count": 44,
   "metadata": {},
   "outputs": [
    {
     "data": {
      "text/html": [
       "<ol class=list-inline>\n",
       "\t<li>'a'</li>\n",
       "\t<li>'b'</li>\n",
       "\t<li>'20'</li>\n",
       "</ol>\n"
      ],
      "text/latex": [
       "\\begin{enumerate*}\n",
       "\\item 'a'\n",
       "\\item 'b'\n",
       "\\item '20'\n",
       "\\end{enumerate*}\n"
      ],
      "text/markdown": [
       "1. 'a'\n",
       "2. 'b'\n",
       "3. '20'\n",
       "\n",
       "\n"
      ],
      "text/plain": [
       "[1] \"a\"  \"b\"  \"20\""
      ]
     },
     "metadata": {},
     "output_type": "display_data"
    }
   ],
   "source": [
    "v2 <- c('a', 'b', 20)\n",
    "v2"
   ]
  },
  {
   "cell_type": "code",
   "execution_count": 45,
   "metadata": {},
   "outputs": [
    {
     "data": {
      "text/html": [
       "'character'"
      ],
      "text/latex": [
       "'character'"
      ],
      "text/markdown": [
       "'character'"
      ],
      "text/plain": [
       "[1] \"character\""
      ]
     },
     "metadata": {},
     "output_type": "display_data"
    }
   ],
   "source": [
    "class(v2) # numeric dikonversi menjadi character"
   ]
  },
  {
   "cell_type": "code",
   "execution_count": 46,
   "metadata": {},
   "outputs": [
    {
     "data": {
      "text/html": [
       "<ol class=list-inline>\n",
       "\t<li>'TRUE'</li>\n",
       "\t<li>'128'</li>\n",
       "\t<li>'Meteorologi'</li>\n",
       "</ol>\n"
      ],
      "text/latex": [
       "\\begin{enumerate*}\n",
       "\\item 'TRUE'\n",
       "\\item '128'\n",
       "\\item 'Meteorologi'\n",
       "\\end{enumerate*}\n"
      ],
      "text/markdown": [
       "1. 'TRUE'\n",
       "2. '128'\n",
       "3. 'Meteorologi'\n",
       "\n",
       "\n"
      ],
      "text/plain": [
       "[1] \"TRUE\"        \"128\"         \"Meteorologi\""
      ]
     },
     "metadata": {},
     "output_type": "display_data"
    }
   ],
   "source": [
    "v3 <- c(TRUE, 128, 'Meteorologi')\n",
    "v3"
   ]
  },
  {
   "cell_type": "code",
   "execution_count": 47,
   "metadata": {},
   "outputs": [
    {
     "data": {
      "text/html": [
       "'character'"
      ],
      "text/latex": [
       "'character'"
      ],
      "text/markdown": [
       "'character'"
      ],
      "text/plain": [
       "[1] \"character\""
      ]
     },
     "metadata": {},
     "output_type": "display_data"
    }
   ],
   "source": [
    "class(v3) # logical & numeric dikonversi menjadi character"
   ]
  },
  {
   "cell_type": "code",
   "execution_count": 48,
   "metadata": {},
   "outputs": [
    {
     "data": {
      "text/html": [
       "<ol class=list-inline>\n",
       "\t<li>1</li>\n",
       "\t<li>2</li>\n",
       "\t<li>3</li>\n",
       "\t<li>4</li>\n",
       "\t<li>5</li>\n",
       "\t<li>6</li>\n",
       "\t<li>7</li>\n",
       "</ol>\n"
      ],
      "text/latex": [
       "\\begin{enumerate*}\n",
       "\\item 1\n",
       "\\item 2\n",
       "\\item 3\n",
       "\\item 4\n",
       "\\item 5\n",
       "\\item 6\n",
       "\\item 7\n",
       "\\end{enumerate*}\n"
      ],
      "text/markdown": [
       "1. 1\n",
       "2. 2\n",
       "3. 3\n",
       "4. 4\n",
       "5. 5\n",
       "6. 6\n",
       "7. 7\n",
       "\n",
       "\n"
      ],
      "text/plain": [
       "[1] 1 2 3 4 5 6 7"
      ]
     },
     "metadata": {},
     "output_type": "display_data"
    }
   ],
   "source": [
    "# names : metode penamaaan vektor (metode 1) \n",
    "hari <- c(1,2,3,4,5,6,7)\n",
    "hari"
   ]
  },
  {
   "cell_type": "code",
   "execution_count": 49,
   "metadata": {},
   "outputs": [],
   "source": [
    "names(hari) <- c('sen', 'sel', 'rab', 'kam', 'jum', 'sab', 'min')"
   ]
  },
  {
   "cell_type": "code",
   "execution_count": 50,
   "metadata": {},
   "outputs": [
    {
     "data": {
      "text/html": [
       "<dl class=dl-horizontal>\n",
       "\t<dt>sen</dt>\n",
       "\t\t<dd>1</dd>\n",
       "\t<dt>sel</dt>\n",
       "\t\t<dd>2</dd>\n",
       "\t<dt>rab</dt>\n",
       "\t\t<dd>3</dd>\n",
       "\t<dt>kam</dt>\n",
       "\t\t<dd>4</dd>\n",
       "\t<dt>jum</dt>\n",
       "\t\t<dd>5</dd>\n",
       "\t<dt>sab</dt>\n",
       "\t\t<dd>6</dd>\n",
       "\t<dt>min</dt>\n",
       "\t\t<dd>7</dd>\n",
       "</dl>\n"
      ],
      "text/latex": [
       "\\begin{description*}\n",
       "\\item[sen] 1\n",
       "\\item[sel] 2\n",
       "\\item[rab] 3\n",
       "\\item[kam] 4\n",
       "\\item[jum] 5\n",
       "\\item[sab] 6\n",
       "\\item[min] 7\n",
       "\\end{description*}\n"
      ],
      "text/markdown": [
       "sen\n",
       ":   1sel\n",
       ":   2rab\n",
       ":   3kam\n",
       ":   4jum\n",
       ":   5sab\n",
       ":   6min\n",
       ":   7\n",
       "\n"
      ],
      "text/plain": [
       "sen sel rab kam jum sab min \n",
       "  1   2   3   4   5   6   7 "
      ]
     },
     "metadata": {},
     "output_type": "display_data"
    }
   ],
   "source": [
    "hari"
   ]
  },
  {
   "cell_type": "code",
   "execution_count": 51,
   "metadata": {},
   "outputs": [
    {
     "data": {
      "text/html": [
       "<dl class=dl-horizontal>\n",
       "\t<dt>sen</dt>\n",
       "\t\t<dd>1</dd>\n",
       "\t<dt>sel</dt>\n",
       "\t\t<dd>2</dd>\n",
       "\t<dt>rab</dt>\n",
       "\t\t<dd>3</dd>\n",
       "\t<dt>kam</dt>\n",
       "\t\t<dd>4</dd>\n",
       "\t<dt>jum</dt>\n",
       "\t\t<dd>5</dd>\n",
       "\t<dt>sab</dt>\n",
       "\t\t<dd>6</dd>\n",
       "\t<dt>min</dt>\n",
       "\t\t<dd>7</dd>\n",
       "</dl>\n"
      ],
      "text/latex": [
       "\\begin{description*}\n",
       "\\item[sen] 1\n",
       "\\item[sel] 2\n",
       "\\item[rab] 3\n",
       "\\item[kam] 4\n",
       "\\item[jum] 5\n",
       "\\item[sab] 6\n",
       "\\item[min] 7\n",
       "\\end{description*}\n"
      ],
      "text/markdown": [
       "sen\n",
       ":   1sel\n",
       ":   2rab\n",
       ":   3kam\n",
       ":   4jum\n",
       ":   5sab\n",
       ":   6min\n",
       ":   7\n",
       "\n"
      ],
      "text/plain": [
       "sen sel rab kam jum sab min \n",
       "  1   2   3   4   5   6   7 "
      ]
     },
     "metadata": {},
     "output_type": "display_data"
    }
   ],
   "source": [
    "# names : metode penamaaan vektor (metode 2)\n",
    "b <-  c('sen', 'sel', 'rab', 'kam', 'jum', 'sab', 'min')\n",
    "names(hari) <- b\n",
    "hari"
   ]
  },
  {
   "cell_type": "code",
   "execution_count": 52,
   "metadata": {},
   "outputs": [
    {
     "data": {
      "text/html": [
       "<strong>sen:</strong> 1"
      ],
      "text/latex": [
       "\\textbf{sen:} 1"
      ],
      "text/markdown": [
       "**sen:** 1"
      ],
      "text/plain": [
       "sen \n",
       "  1 "
      ]
     },
     "metadata": {},
     "output_type": "display_data"
    }
   ],
   "source": [
    "hari['sen']"
   ]
  },
  {
   "cell_type": "code",
   "execution_count": 53,
   "metadata": {},
   "outputs": [
    {
     "data": {
      "text/html": [
       "<strong>sen:</strong> 1"
      ],
      "text/latex": [
       "\\textbf{sen:} 1"
      ],
      "text/markdown": [
       "**sen:** 1"
      ],
      "text/plain": [
       "sen \n",
       "  1 "
      ]
     },
     "metadata": {},
     "output_type": "display_data"
    }
   ],
   "source": [
    "hari[1]"
   ]
  },
  {
   "cell_type": "markdown",
   "metadata": {},
   "source": [
    "## Operasi - operasi vektor"
   ]
  },
  {
   "cell_type": "code",
   "execution_count": 54,
   "metadata": {},
   "outputs": [],
   "source": [
    "v1 <- c(1,2,3,4,5)\n",
    "v2 <- c(6,7,8,9,10)"
   ]
  },
  {
   "cell_type": "code",
   "execution_count": 55,
   "metadata": {},
   "outputs": [
    {
     "data": {
      "text/html": [
       "<ol class=list-inline>\n",
       "\t<li>7</li>\n",
       "\t<li>9</li>\n",
       "\t<li>11</li>\n",
       "\t<li>13</li>\n",
       "\t<li>15</li>\n",
       "</ol>\n"
      ],
      "text/latex": [
       "\\begin{enumerate*}\n",
       "\\item 7\n",
       "\\item 9\n",
       "\\item 11\n",
       "\\item 13\n",
       "\\item 15\n",
       "\\end{enumerate*}\n"
      ],
      "text/markdown": [
       "1. 7\n",
       "2. 9\n",
       "3. 11\n",
       "4. 13\n",
       "5. 15\n",
       "\n",
       "\n"
      ],
      "text/plain": [
       "[1]  7  9 11 13 15"
      ]
     },
     "metadata": {},
     "output_type": "display_data"
    }
   ],
   "source": [
    "v1 + v2 # element-by-element"
   ]
  },
  {
   "cell_type": "code",
   "execution_count": 56,
   "metadata": {},
   "outputs": [
    {
     "data": {
      "text/html": [
       "<ol class=list-inline>\n",
       "\t<li>-5</li>\n",
       "\t<li>-5</li>\n",
       "\t<li>-5</li>\n",
       "\t<li>-5</li>\n",
       "\t<li>-5</li>\n",
       "</ol>\n"
      ],
      "text/latex": [
       "\\begin{enumerate*}\n",
       "\\item -5\n",
       "\\item -5\n",
       "\\item -5\n",
       "\\item -5\n",
       "\\item -5\n",
       "\\end{enumerate*}\n"
      ],
      "text/markdown": [
       "1. -5\n",
       "2. -5\n",
       "3. -5\n",
       "4. -5\n",
       "5. -5\n",
       "\n",
       "\n"
      ],
      "text/plain": [
       "[1] -5 -5 -5 -5 -5"
      ]
     },
     "metadata": {},
     "output_type": "display_data"
    }
   ],
   "source": [
    "v1 - v2"
   ]
  },
  {
   "cell_type": "code",
   "execution_count": 57,
   "metadata": {},
   "outputs": [
    {
     "data": {
      "text/html": [
       "<ol class=list-inline>\n",
       "\t<li>6</li>\n",
       "\t<li>14</li>\n",
       "\t<li>24</li>\n",
       "\t<li>36</li>\n",
       "\t<li>50</li>\n",
       "</ol>\n"
      ],
      "text/latex": [
       "\\begin{enumerate*}\n",
       "\\item 6\n",
       "\\item 14\n",
       "\\item 24\n",
       "\\item 36\n",
       "\\item 50\n",
       "\\end{enumerate*}\n"
      ],
      "text/markdown": [
       "1. 6\n",
       "2. 14\n",
       "3. 24\n",
       "4. 36\n",
       "5. 50\n",
       "\n",
       "\n"
      ],
      "text/plain": [
       "[1]  6 14 24 36 50"
      ]
     },
     "metadata": {},
     "output_type": "display_data"
    }
   ],
   "source": [
    "v1 * v2"
   ]
  },
  {
   "cell_type": "code",
   "execution_count": 58,
   "metadata": {},
   "outputs": [
    {
     "data": {
      "text/html": [
       "<ol class=list-inline>\n",
       "\t<li>1</li>\n",
       "\t<li>1</li>\n",
       "\t<li>1</li>\n",
       "\t<li>1</li>\n",
       "\t<li>1</li>\n",
       "</ol>\n"
      ],
      "text/latex": [
       "\\begin{enumerate*}\n",
       "\\item 1\n",
       "\\item 1\n",
       "\\item 1\n",
       "\\item 1\n",
       "\\item 1\n",
       "\\end{enumerate*}\n"
      ],
      "text/markdown": [
       "1. 1\n",
       "2. 1\n",
       "3. 1\n",
       "4. 1\n",
       "5. 1\n",
       "\n",
       "\n"
      ],
      "text/plain": [
       "[1] 1 1 1 1 1"
      ]
     },
     "metadata": {},
     "output_type": "display_data"
    }
   ],
   "source": [
    "v2 / v2"
   ]
  },
  {
   "cell_type": "code",
   "execution_count": 59,
   "metadata": {},
   "outputs": [
    {
     "data": {
      "text/html": [
       "15"
      ],
      "text/latex": [
       "15"
      ],
      "text/markdown": [
       "15"
      ],
      "text/plain": [
       "[1] 15"
      ]
     },
     "metadata": {},
     "output_type": "display_data"
    }
   ],
   "source": [
    "sum(v1) # jumlah seluruh v1"
   ]
  },
  {
   "cell_type": "code",
   "execution_count": 60,
   "metadata": {},
   "outputs": [
    {
     "data": {
      "text/html": [
       "3"
      ],
      "text/latex": [
       "3"
      ],
      "text/markdown": [
       "3"
      ],
      "text/plain": [
       "[1] 3"
      ]
     },
     "metadata": {},
     "output_type": "display_data"
    }
   ],
   "source": [
    "mean(v1) # rata2 v1"
   ]
  },
  {
   "cell_type": "code",
   "execution_count": 61,
   "metadata": {},
   "outputs": [
    {
     "data": {
      "text/html": [
       "1.58113883008419"
      ],
      "text/latex": [
       "1.58113883008419"
      ],
      "text/markdown": [
       "1.58113883008419"
      ],
      "text/plain": [
       "[1] 1.581139"
      ]
     },
     "metadata": {},
     "output_type": "display_data"
    }
   ],
   "source": [
    "sd(v1) # std v1"
   ]
  },
  {
   "cell_type": "code",
   "execution_count": 62,
   "metadata": {},
   "outputs": [
    {
     "data": {
      "text/html": [
       "10"
      ],
      "text/latex": [
       "10"
      ],
      "text/markdown": [
       "10"
      ],
      "text/plain": [
       "[1] 10"
      ]
     },
     "metadata": {},
     "output_type": "display_data"
    }
   ],
   "source": [
    "max(v2)"
   ]
  },
  {
   "cell_type": "code",
   "execution_count": 63,
   "metadata": {},
   "outputs": [
    {
     "data": {
      "text/html": [
       "6"
      ],
      "text/latex": [
       "6"
      ],
      "text/markdown": [
       "6"
      ],
      "text/plain": [
       "[1] 6"
      ]
     },
     "metadata": {},
     "output_type": "display_data"
    }
   ],
   "source": [
    "min(v2)"
   ]
  },
  {
   "cell_type": "code",
   "execution_count": 64,
   "metadata": {},
   "outputs": [
    {
     "data": {
      "text/html": [
       "120"
      ],
      "text/latex": [
       "120"
      ],
      "text/markdown": [
       "120"
      ],
      "text/plain": [
       "[1] 120"
      ]
     },
     "metadata": {},
     "output_type": "display_data"
    }
   ],
   "source": [
    "prod(v1) # mengalikan seluruh elemen di vektor "
   ]
  },
  {
   "cell_type": "code",
   "execution_count": 65,
   "metadata": {},
   "outputs": [
    {
     "data": {
      "text/html": [
       "30240"
      ],
      "text/latex": [
       "30240"
      ],
      "text/markdown": [
       "30240"
      ],
      "text/plain": [
       "[1] 30240"
      ]
     },
     "metadata": {},
     "output_type": "display_data"
    }
   ],
   "source": [
    "prod(v2)"
   ]
  },
  {
   "cell_type": "code",
   "execution_count": 66,
   "metadata": {},
   "outputs": [
    {
     "name": "stdout",
     "output_type": "stream",
     "text": [
      "[1] 15\n"
     ]
    }
   ],
   "source": [
    "b <- sum(v1)\n",
    "print(b)"
   ]
  },
  {
   "cell_type": "markdown",
   "metadata": {},
   "source": [
    "## Operator - operator perbandingan"
   ]
  },
  {
   "cell_type": "code",
   "execution_count": 67,
   "metadata": {},
   "outputs": [
    {
     "data": {
      "text/html": [
       "FALSE"
      ],
      "text/latex": [
       "FALSE"
      ],
      "text/markdown": [
       "FALSE"
      ],
      "text/plain": [
       "[1] FALSE"
      ]
     },
     "metadata": {},
     "output_type": "display_data"
    }
   ],
   "source": [
    "4 > 5"
   ]
  },
  {
   "cell_type": "code",
   "execution_count": 68,
   "metadata": {},
   "outputs": [
    {
     "data": {
      "text/html": [
       "TRUE"
      ],
      "text/latex": [
       "TRUE"
      ],
      "text/markdown": [
       "TRUE"
      ],
      "text/plain": [
       "[1] TRUE"
      ]
     },
     "metadata": {},
     "output_type": "display_data"
    }
   ],
   "source": [
    "7 > 4"
   ]
  },
  {
   "cell_type": "code",
   "execution_count": 69,
   "metadata": {},
   "outputs": [
    {
     "data": {
      "text/html": [
       "TRUE"
      ],
      "text/latex": [
       "TRUE"
      ],
      "text/markdown": [
       "TRUE"
      ],
      "text/plain": [
       "[1] TRUE"
      ]
     },
     "metadata": {},
     "output_type": "display_data"
    }
   ],
   "source": [
    "10 >= 5"
   ]
  },
  {
   "cell_type": "code",
   "execution_count": 70,
   "metadata": {},
   "outputs": [
    {
     "data": {
      "text/html": [
       "FALSE"
      ],
      "text/latex": [
       "FALSE"
      ],
      "text/markdown": [
       "FALSE"
      ],
      "text/plain": [
       "[1] FALSE"
      ]
     },
     "metadata": {},
     "output_type": "display_data"
    }
   ],
   "source": [
    "7 <= 5"
   ]
  },
  {
   "cell_type": "code",
   "execution_count": 71,
   "metadata": {},
   "outputs": [
    {
     "data": {
      "text/html": [
       "TRUE"
      ],
      "text/latex": [
       "TRUE"
      ],
      "text/markdown": [
       "TRUE"
      ],
      "text/plain": [
       "[1] TRUE"
      ]
     },
     "metadata": {},
     "output_type": "display_data"
    }
   ],
   "source": [
    "8 == 8"
   ]
  },
  {
   "cell_type": "code",
   "execution_count": 72,
   "metadata": {},
   "outputs": [
    {
     "data": {
      "text/html": [
       "TRUE"
      ],
      "text/latex": [
       "TRUE"
      ],
      "text/markdown": [
       "TRUE"
      ],
      "text/plain": [
       "[1] TRUE"
      ]
     },
     "metadata": {},
     "output_type": "display_data"
    }
   ],
   "source": [
    "7 != 15"
   ]
  },
  {
   "cell_type": "code",
   "execution_count": 73,
   "metadata": {},
   "outputs": [
    {
     "data": {
      "text/html": [
       "FALSE"
      ],
      "text/latex": [
       "FALSE"
      ],
      "text/markdown": [
       "FALSE"
      ],
      "text/plain": [
       "[1] FALSE"
      ]
     },
     "metadata": {},
     "output_type": "display_data"
    }
   ],
   "source": [
    "7 != 7"
   ]
  },
  {
   "cell_type": "code",
   "execution_count": 74,
   "metadata": {},
   "outputs": [
    {
     "data": {
      "text/html": [
       "<ol class=list-inline>\n",
       "\t<li>TRUE</li>\n",
       "\t<li>FALSE</li>\n",
       "\t<li>FALSE</li>\n",
       "\t<li>FALSE</li>\n",
       "\t<li>FALSE</li>\n",
       "</ol>\n"
      ],
      "text/latex": [
       "\\begin{enumerate*}\n",
       "\\item TRUE\n",
       "\\item FALSE\n",
       "\\item FALSE\n",
       "\\item FALSE\n",
       "\\item FALSE\n",
       "\\end{enumerate*}\n"
      ],
      "text/markdown": [
       "1. TRUE\n",
       "2. FALSE\n",
       "3. FALSE\n",
       "4. FALSE\n",
       "5. FALSE\n",
       "\n",
       "\n"
      ],
      "text/plain": [
       "[1]  TRUE FALSE FALSE FALSE FALSE"
      ]
     },
     "metadata": {},
     "output_type": "display_data"
    }
   ],
   "source": [
    "# Operator perbandingan pada vektor\n",
    "v <- c(1,2,3,4,5)\n",
    "v < 2"
   ]
  },
  {
   "cell_type": "code",
   "execution_count": 75,
   "metadata": {},
   "outputs": [
    {
     "data": {
      "text/html": [
       "<ol class=list-inline>\n",
       "\t<li>FALSE</li>\n",
       "\t<li>FALSE</li>\n",
       "\t<li>TRUE</li>\n",
       "\t<li>FALSE</li>\n",
       "\t<li>FALSE</li>\n",
       "</ol>\n"
      ],
      "text/latex": [
       "\\begin{enumerate*}\n",
       "\\item FALSE\n",
       "\\item FALSE\n",
       "\\item TRUE\n",
       "\\item FALSE\n",
       "\\item FALSE\n",
       "\\end{enumerate*}\n"
      ],
      "text/markdown": [
       "1. FALSE\n",
       "2. FALSE\n",
       "3. TRUE\n",
       "4. FALSE\n",
       "5. FALSE\n",
       "\n",
       "\n"
      ],
      "text/plain": [
       "[1] FALSE FALSE  TRUE FALSE FALSE"
      ]
     },
     "metadata": {},
     "output_type": "display_data"
    }
   ],
   "source": [
    "v == 3"
   ]
  },
  {
   "cell_type": "code",
   "execution_count": 76,
   "metadata": {},
   "outputs": [
    {
     "data": {
      "text/html": [
       "<ol class=list-inline>\n",
       "\t<li>10</li>\n",
       "\t<li>20</li>\n",
       "\t<li>30</li>\n",
       "\t<li>40</li>\n",
       "\t<li>50</li>\n",
       "</ol>\n"
      ],
      "text/latex": [
       "\\begin{enumerate*}\n",
       "\\item 10\n",
       "\\item 20\n",
       "\\item 30\n",
       "\\item 40\n",
       "\\item 50\n",
       "\\end{enumerate*}\n"
      ],
      "text/markdown": [
       "1. 10\n",
       "2. 20\n",
       "3. 30\n",
       "4. 40\n",
       "5. 50\n",
       "\n",
       "\n"
      ],
      "text/plain": [
       "[1] 10 20 30 40 50"
      ]
     },
     "metadata": {},
     "output_type": "display_data"
    }
   ],
   "source": [
    "v2 <- c(10,20,30,40,50)\n",
    "v2"
   ]
  },
  {
   "cell_type": "code",
   "execution_count": 77,
   "metadata": {},
   "outputs": [
    {
     "data": {
      "text/html": [
       "<ol class=list-inline>\n",
       "\t<li>TRUE</li>\n",
       "\t<li>TRUE</li>\n",
       "\t<li>TRUE</li>\n",
       "\t<li>TRUE</li>\n",
       "\t<li>TRUE</li>\n",
       "</ol>\n"
      ],
      "text/latex": [
       "\\begin{enumerate*}\n",
       "\\item TRUE\n",
       "\\item TRUE\n",
       "\\item TRUE\n",
       "\\item TRUE\n",
       "\\item TRUE\n",
       "\\end{enumerate*}\n"
      ],
      "text/markdown": [
       "1. TRUE\n",
       "2. TRUE\n",
       "3. TRUE\n",
       "4. TRUE\n",
       "5. TRUE\n",
       "\n",
       "\n"
      ],
      "text/plain": [
       "[1] TRUE TRUE TRUE TRUE TRUE"
      ]
     },
     "metadata": {},
     "output_type": "display_data"
    }
   ],
   "source": [
    "v < v2"
   ]
  },
  {
   "cell_type": "markdown",
   "metadata": {},
   "source": [
    "## Pengindeksan dan pemotongan vektor"
   ]
  },
  {
   "cell_type": "code",
   "execution_count": 78,
   "metadata": {},
   "outputs": [],
   "source": [
    "v1 <- c(10,20,30,40,50)\n",
    "v2 <- c('a', 'b', 'c', 'd', 'e')"
   ]
  },
  {
   "cell_type": "code",
   "execution_count": 79,
   "metadata": {},
   "outputs": [
    {
     "data": {
      "text/html": [
       "20"
      ],
      "text/latex": [
       "20"
      ],
      "text/markdown": [
       "20"
      ],
      "text/plain": [
       "[1] 20"
      ]
     },
     "metadata": {},
     "output_type": "display_data"
    }
   ],
   "source": [
    "v1[2] # pengindeksan dimulai dari 1"
   ]
  },
  {
   "cell_type": "code",
   "execution_count": 80,
   "metadata": {},
   "outputs": [
    {
     "data": {
      "text/html": [
       "50"
      ],
      "text/latex": [
       "50"
      ],
      "text/markdown": [
       "50"
      ],
      "text/plain": [
       "[1] 50"
      ]
     },
     "metadata": {},
     "output_type": "display_data"
    }
   ],
   "source": [
    "v1[5]"
   ]
  },
  {
   "cell_type": "code",
   "execution_count": 81,
   "metadata": {},
   "outputs": [
    {
     "data": {
      "text/html": [
       "<ol class=list-inline>\n",
       "\t<li>'c'</li>\n",
       "\t<li>'d'</li>\n",
       "\t<li>'e'</li>\n",
       "</ol>\n"
      ],
      "text/latex": [
       "\\begin{enumerate*}\n",
       "\\item 'c'\n",
       "\\item 'd'\n",
       "\\item 'e'\n",
       "\\end{enumerate*}\n"
      ],
      "text/markdown": [
       "1. 'c'\n",
       "2. 'd'\n",
       "3. 'e'\n",
       "\n",
       "\n"
      ],
      "text/plain": [
       "[1] \"c\" \"d\" \"e\""
      ]
     },
     "metadata": {},
     "output_type": "display_data"
    }
   ],
   "source": [
    "v2[c(3,4,5)]"
   ]
  },
  {
   "cell_type": "code",
   "execution_count": 82,
   "metadata": {},
   "outputs": [
    {
     "data": {
      "text/html": [
       "<ol class=list-inline>\n",
       "\t<li>7</li>\n",
       "\t<li>8</li>\n",
       "\t<li>9</li>\n",
       "\t<li>10</li>\n",
       "</ol>\n"
      ],
      "text/latex": [
       "\\begin{enumerate*}\n",
       "\\item 7\n",
       "\\item 8\n",
       "\\item 9\n",
       "\\item 10\n",
       "\\end{enumerate*}\n"
      ],
      "text/markdown": [
       "1. 7\n",
       "2. 8\n",
       "3. 9\n",
       "4. 10\n",
       "\n",
       "\n"
      ],
      "text/plain": [
       "[1]  7  8  9 10"
      ]
     },
     "metadata": {},
     "output_type": "display_data"
    }
   ],
   "source": [
    "v3 <- c(1,2,3,4,5,6,7,8,9,10)\n",
    "v3[7:10]"
   ]
  },
  {
   "cell_type": "code",
   "execution_count": 83,
   "metadata": {},
   "outputs": [
    {
     "data": {
      "text/html": [
       "<ol class=list-inline>\n",
       "\t<li>3</li>\n",
       "\t<li>4</li>\n",
       "\t<li>5</li>\n",
       "</ol>\n"
      ],
      "text/latex": [
       "\\begin{enumerate*}\n",
       "\\item 3\n",
       "\\item 4\n",
       "\\item 5\n",
       "\\end{enumerate*}\n"
      ],
      "text/markdown": [
       "1. 3\n",
       "2. 4\n",
       "3. 5\n",
       "\n",
       "\n"
      ],
      "text/plain": [
       "[1] 3 4 5"
      ]
     },
     "metadata": {},
     "output_type": "display_data"
    }
   ],
   "source": [
    "v3[3:5]"
   ]
  },
  {
   "cell_type": "code",
   "execution_count": 84,
   "metadata": {},
   "outputs": [
    {
     "data": {
      "text/html": [
       "<dl class=dl-horizontal>\n",
       "\t<dt>I</dt>\n",
       "\t\t<dd>1</dd>\n",
       "\t<dt>G</dt>\n",
       "\t\t<dd>2</dd>\n",
       "\t<dt>D</dt>\n",
       "\t\t<dd>3</dd>\n",
       "\t<dt>O</dt>\n",
       "\t\t<dd>4</dd>\n",
       "\t<dt>R</dt>\n",
       "\t\t<dd>5</dd>\n",
       "\t<dt>E</dt>\n",
       "\t\t<dd>6</dd>\n",
       "</dl>\n"
      ],
      "text/latex": [
       "\\begin{description*}\n",
       "\\item[I] 1\n",
       "\\item[G] 2\n",
       "\\item[D] 3\n",
       "\\item[O] 4\n",
       "\\item[R] 5\n",
       "\\item[E] 6\n",
       "\\end{description*}\n"
      ],
      "text/markdown": [
       "I\n",
       ":   1G\n",
       ":   2D\n",
       ":   3O\n",
       ":   4R\n",
       ":   5E\n",
       ":   6\n",
       "\n"
      ],
      "text/plain": [
       "I G D O R E \n",
       "1 2 3 4 5 6 "
      ]
     },
     "metadata": {},
     "output_type": "display_data"
    }
   ],
   "source": [
    "b <- c(1,2,3,4,5,6)\n",
    "names(b) <- c('I', 'G', 'D', 'O', 'R', 'E')\n",
    "b"
   ]
  },
  {
   "cell_type": "code",
   "execution_count": 85,
   "metadata": {},
   "outputs": [
    {
     "data": {
      "text/html": [
       "<strong>G:</strong> 2"
      ],
      "text/latex": [
       "\\textbf{G:} 2"
      ],
      "text/markdown": [
       "**G:** 2"
      ],
      "text/plain": [
       "G \n",
       "2 "
      ]
     },
     "metadata": {},
     "output_type": "display_data"
    }
   ],
   "source": [
    "b[2]"
   ]
  },
  {
   "cell_type": "code",
   "execution_count": 86,
   "metadata": {},
   "outputs": [
    {
     "data": {
      "text/html": [
       "<strong>G:</strong> 2"
      ],
      "text/latex": [
       "\\textbf{G:} 2"
      ],
      "text/markdown": [
       "**G:** 2"
      ],
      "text/plain": [
       "G \n",
       "2 "
      ]
     },
     "metadata": {},
     "output_type": "display_data"
    }
   ],
   "source": [
    "b['G']"
   ]
  },
  {
   "cell_type": "code",
   "execution_count": 87,
   "metadata": {},
   "outputs": [
    {
     "data": {
      "text/html": [
       "<dl class=dl-horizontal>\n",
       "\t<dt>G</dt>\n",
       "\t\t<dd>2</dd>\n",
       "\t<dt>D</dt>\n",
       "\t\t<dd>3</dd>\n",
       "</dl>\n"
      ],
      "text/latex": [
       "\\begin{description*}\n",
       "\\item[G] 2\n",
       "\\item[D] 3\n",
       "\\end{description*}\n"
      ],
      "text/markdown": [
       "G\n",
       ":   2D\n",
       ":   3\n",
       "\n"
      ],
      "text/plain": [
       "G D \n",
       "2 3 "
      ]
     },
     "metadata": {},
     "output_type": "display_data"
    }
   ],
   "source": [
    "b[c(2,3)]"
   ]
  },
  {
   "cell_type": "code",
   "execution_count": 88,
   "metadata": {},
   "outputs": [
    {
     "data": {
      "text/html": [
       "<dl class=dl-horizontal>\n",
       "\t<dt>G</dt>\n",
       "\t\t<dd>2</dd>\n",
       "\t<dt>D</dt>\n",
       "\t\t<dd>3</dd>\n",
       "</dl>\n"
      ],
      "text/latex": [
       "\\begin{description*}\n",
       "\\item[G] 2\n",
       "\\item[D] 3\n",
       "\\end{description*}\n"
      ],
      "text/markdown": [
       "G\n",
       ":   2D\n",
       ":   3\n",
       "\n"
      ],
      "text/plain": [
       "G D \n",
       "2 3 "
      ]
     },
     "metadata": {},
     "output_type": "display_data"
    }
   ],
   "source": [
    "b[c('G', 'D')]"
   ]
  },
  {
   "cell_type": "code",
   "execution_count": 89,
   "metadata": {},
   "outputs": [
    {
     "data": {
      "text/html": [
       "<dl class=dl-horizontal>\n",
       "\t<dt>I</dt>\n",
       "\t\t<dd>1</dd>\n",
       "\t<dt>G</dt>\n",
       "\t\t<dd>2</dd>\n",
       "\t<dt>D</dt>\n",
       "\t\t<dd>3</dd>\n",
       "\t<dt>O</dt>\n",
       "\t\t<dd>4</dd>\n",
       "\t<dt>R</dt>\n",
       "\t\t<dd>5</dd>\n",
       "\t<dt>E</dt>\n",
       "\t\t<dd>6</dd>\n",
       "</dl>\n"
      ],
      "text/latex": [
       "\\begin{description*}\n",
       "\\item[I] 1\n",
       "\\item[G] 2\n",
       "\\item[D] 3\n",
       "\\item[O] 4\n",
       "\\item[R] 5\n",
       "\\item[E] 6\n",
       "\\end{description*}\n"
      ],
      "text/markdown": [
       "I\n",
       ":   1G\n",
       ":   2D\n",
       ":   3O\n",
       ":   4R\n",
       ":   5E\n",
       ":   6\n",
       "\n"
      ],
      "text/plain": [
       "I G D O R E \n",
       "1 2 3 4 5 6 "
      ]
     },
     "metadata": {},
     "output_type": "display_data"
    }
   ],
   "source": [
    "# Operator perbandingan\n",
    "b"
   ]
  },
  {
   "cell_type": "code",
   "execution_count": 90,
   "metadata": {},
   "outputs": [
    {
     "data": {
      "text/html": [
       "<dl class=dl-horizontal>\n",
       "\t<dt>O</dt>\n",
       "\t\t<dd>4</dd>\n",
       "\t<dt>R</dt>\n",
       "\t\t<dd>5</dd>\n",
       "\t<dt>E</dt>\n",
       "\t\t<dd>6</dd>\n",
       "</dl>\n"
      ],
      "text/latex": [
       "\\begin{description*}\n",
       "\\item[O] 4\n",
       "\\item[R] 5\n",
       "\\item[E] 6\n",
       "\\end{description*}\n"
      ],
      "text/markdown": [
       "O\n",
       ":   4R\n",
       ":   5E\n",
       ":   6\n",
       "\n"
      ],
      "text/plain": [
       "O R E \n",
       "4 5 6 "
      ]
     },
     "metadata": {},
     "output_type": "display_data"
    }
   ],
   "source": [
    "b[b>3]"
   ]
  },
  {
   "cell_type": "code",
   "execution_count": 91,
   "metadata": {},
   "outputs": [],
   "source": [
    "e <-  b > 3"
   ]
  },
  {
   "cell_type": "code",
   "execution_count": 92,
   "metadata": {},
   "outputs": [
    {
     "data": {
      "text/html": [
       "<dl class=dl-horizontal>\n",
       "\t<dt>O</dt>\n",
       "\t\t<dd>4</dd>\n",
       "\t<dt>R</dt>\n",
       "\t\t<dd>5</dd>\n",
       "\t<dt>E</dt>\n",
       "\t\t<dd>6</dd>\n",
       "</dl>\n"
      ],
      "text/latex": [
       "\\begin{description*}\n",
       "\\item[O] 4\n",
       "\\item[R] 5\n",
       "\\item[E] 6\n",
       "\\end{description*}\n"
      ],
      "text/markdown": [
       "O\n",
       ":   4R\n",
       ":   5E\n",
       ":   6\n",
       "\n"
      ],
      "text/plain": [
       "O R E \n",
       "4 5 6 "
      ]
     },
     "metadata": {},
     "output_type": "display_data"
    }
   ],
   "source": [
    "b[e]"
   ]
  },
  {
   "cell_type": "markdown",
   "metadata": {},
   "source": [
    "# Matriks"
   ]
  },
  {
   "cell_type": "markdown",
   "metadata": {},
   "source": [
    "## Mendefinisikan matriks"
   ]
  },
  {
   "cell_type": "code",
   "execution_count": 93,
   "metadata": {},
   "outputs": [
    {
     "data": {
      "text/html": [
       "<ol class=list-inline>\n",
       "\t<li>1</li>\n",
       "\t<li>2</li>\n",
       "\t<li>3</li>\n",
       "\t<li>4</li>\n",
       "\t<li>5</li>\n",
       "\t<li>6</li>\n",
       "\t<li>7</li>\n",
       "\t<li>8</li>\n",
       "\t<li>9</li>\n",
       "\t<li>10</li>\n",
       "</ol>\n"
      ],
      "text/latex": [
       "\\begin{enumerate*}\n",
       "\\item 1\n",
       "\\item 2\n",
       "\\item 3\n",
       "\\item 4\n",
       "\\item 5\n",
       "\\item 6\n",
       "\\item 7\n",
       "\\item 8\n",
       "\\item 9\n",
       "\\item 10\n",
       "\\end{enumerate*}\n"
      ],
      "text/markdown": [
       "1. 1\n",
       "2. 2\n",
       "3. 3\n",
       "4. 4\n",
       "5. 5\n",
       "6. 6\n",
       "7. 7\n",
       "8. 8\n",
       "9. 9\n",
       "10. 10\n",
       "\n",
       "\n"
      ],
      "text/plain": [
       " [1]  1  2  3  4  5  6  7  8  9 10"
      ]
     },
     "metadata": {},
     "output_type": "display_data"
    }
   ],
   "source": [
    "b <- 1:10\n",
    "b"
   ]
  },
  {
   "cell_type": "code",
   "execution_count": 94,
   "metadata": {},
   "outputs": [
    {
     "data": {
      "text/html": [
       "<table>\n",
       "<tbody>\n",
       "\t<tr><td> 1</td></tr>\n",
       "\t<tr><td> 2</td></tr>\n",
       "\t<tr><td> 3</td></tr>\n",
       "\t<tr><td> 4</td></tr>\n",
       "\t<tr><td> 5</td></tr>\n",
       "\t<tr><td> 6</td></tr>\n",
       "\t<tr><td> 7</td></tr>\n",
       "\t<tr><td> 8</td></tr>\n",
       "\t<tr><td> 9</td></tr>\n",
       "\t<tr><td>10</td></tr>\n",
       "</tbody>\n",
       "</table>\n"
      ],
      "text/latex": [
       "\\begin{tabular}{l}\n",
       "\t  1\\\\\n",
       "\t  2\\\\\n",
       "\t  3\\\\\n",
       "\t  4\\\\\n",
       "\t  5\\\\\n",
       "\t  6\\\\\n",
       "\t  7\\\\\n",
       "\t  8\\\\\n",
       "\t  9\\\\\n",
       "\t 10\\\\\n",
       "\\end{tabular}\n"
      ],
      "text/markdown": [
       "\n",
       "|  1 |\n",
       "|  2 |\n",
       "|  3 |\n",
       "|  4 |\n",
       "|  5 |\n",
       "|  6 |\n",
       "|  7 |\n",
       "|  8 |\n",
       "|  9 |\n",
       "| 10 |\n",
       "\n"
      ],
      "text/plain": [
       "      [,1]\n",
       " [1,]  1  \n",
       " [2,]  2  \n",
       " [3,]  3  \n",
       " [4,]  4  \n",
       " [5,]  5  \n",
       " [6,]  6  \n",
       " [7,]  7  \n",
       " [8,]  8  \n",
       " [9,]  9  \n",
       "[10,] 10  "
      ]
     },
     "metadata": {},
     "output_type": "display_data"
    }
   ],
   "source": [
    "matrix(b) # 10 x 1"
   ]
  },
  {
   "cell_type": "code",
   "execution_count": 95,
   "metadata": {},
   "outputs": [
    {
     "data": {
      "text/html": [
       "<table>\n",
       "<tbody>\n",
       "\t<tr><td>1 </td><td>3 </td><td>5 </td><td>7 </td><td> 9</td></tr>\n",
       "\t<tr><td>2 </td><td>4 </td><td>6 </td><td>8 </td><td>10</td></tr>\n",
       "</tbody>\n",
       "</table>\n"
      ],
      "text/latex": [
       "\\begin{tabular}{lllll}\n",
       "\t 1  & 3  & 5  & 7  &  9\\\\\n",
       "\t 2  & 4  & 6  & 8  & 10\\\\\n",
       "\\end{tabular}\n"
      ],
      "text/markdown": [
       "\n",
       "| 1  | 3  | 5  | 7  |  9 |\n",
       "| 2  | 4  | 6  | 8  | 10 |\n",
       "\n"
      ],
      "text/plain": [
       "     [,1] [,2] [,3] [,4] [,5]\n",
       "[1,] 1    3    5    7     9  \n",
       "[2,] 2    4    6    8    10  "
      ]
     },
     "metadata": {},
     "output_type": "display_data"
    }
   ],
   "source": [
    "matrix(b, nrow=2, ncol= 5) # by column"
   ]
  },
  {
   "cell_type": "code",
   "execution_count": 96,
   "metadata": {},
   "outputs": [
    {
     "data": {
      "text/html": [
       "<table>\n",
       "<tbody>\n",
       "\t<tr><td>1 </td><td>2 </td><td>3 </td><td>4 </td><td> 5</td></tr>\n",
       "\t<tr><td>6 </td><td>7 </td><td>8 </td><td>9 </td><td>10</td></tr>\n",
       "</tbody>\n",
       "</table>\n"
      ],
      "text/latex": [
       "\\begin{tabular}{lllll}\n",
       "\t 1  & 2  & 3  & 4  &  5\\\\\n",
       "\t 6  & 7  & 8  & 9  & 10\\\\\n",
       "\\end{tabular}\n"
      ],
      "text/markdown": [
       "\n",
       "| 1  | 2  | 3  | 4  |  5 |\n",
       "| 6  | 7  | 8  | 9  | 10 |\n",
       "\n"
      ],
      "text/plain": [
       "     [,1] [,2] [,3] [,4] [,5]\n",
       "[1,] 1    2    3    4     5  \n",
       "[2,] 6    7    8    9    10  "
      ]
     },
     "metadata": {},
     "output_type": "display_data"
    }
   ],
   "source": [
    "matrix(b, nrow=2, ncol= 5, byrow = T) # by row"
   ]
  },
  {
   "cell_type": "code",
   "execution_count": 97,
   "metadata": {},
   "outputs": [
    {
     "data": {
      "text/html": [
       "<table>\n",
       "<tbody>\n",
       "\t<tr><td> 1</td><td> 2</td><td> 3</td></tr>\n",
       "\t<tr><td> 4</td><td> 5</td><td> 6</td></tr>\n",
       "\t<tr><td> 7</td><td> 8</td><td> 9</td></tr>\n",
       "\t<tr><td>10</td><td>11</td><td>12</td></tr>\n",
       "</tbody>\n",
       "</table>\n"
      ],
      "text/latex": [
       "\\begin{tabular}{lll}\n",
       "\t  1 &  2 &  3\\\\\n",
       "\t  4 &  5 &  6\\\\\n",
       "\t  7 &  8 &  9\\\\\n",
       "\t 10 & 11 & 12\\\\\n",
       "\\end{tabular}\n"
      ],
      "text/markdown": [
       "\n",
       "|  1 |  2 |  3 |\n",
       "|  4 |  5 |  6 |\n",
       "|  7 |  8 |  9 |\n",
       "| 10 | 11 | 12 |\n",
       "\n"
      ],
      "text/plain": [
       "     [,1] [,2] [,3]\n",
       "[1,]  1    2    3  \n",
       "[2,]  4    5    6  \n",
       "[3,]  7    8    9  \n",
       "[4,] 10   11   12  "
      ]
     },
     "metadata": {},
     "output_type": "display_data"
    }
   ],
   "source": [
    "matrix(1:12, nrow = 4, byrow=TRUE) # 4 x 3 by row"
   ]
  },
  {
   "cell_type": "code",
   "execution_count": 98,
   "metadata": {},
   "outputs": [],
   "source": [
    "# Mendefinisikan matriks dari vektor\n",
    "fb <- c(250,255,260,263,265) # bayangkan sebagai harga saham\n",
    "ms <- c(455,460,465,479, 470)"
   ]
  },
  {
   "cell_type": "code",
   "execution_count": 99,
   "metadata": {},
   "outputs": [
    {
     "data": {
      "text/html": [
       "<ol class=list-inline>\n",
       "\t<li>250</li>\n",
       "\t<li>255</li>\n",
       "\t<li>260</li>\n",
       "\t<li>263</li>\n",
       "\t<li>265</li>\n",
       "\t<li>455</li>\n",
       "\t<li>460</li>\n",
       "\t<li>465</li>\n",
       "\t<li>479</li>\n",
       "\t<li>470</li>\n",
       "</ol>\n"
      ],
      "text/latex": [
       "\\begin{enumerate*}\n",
       "\\item 250\n",
       "\\item 255\n",
       "\\item 260\n",
       "\\item 263\n",
       "\\item 265\n",
       "\\item 455\n",
       "\\item 460\n",
       "\\item 465\n",
       "\\item 479\n",
       "\\item 470\n",
       "\\end{enumerate*}\n"
      ],
      "text/markdown": [
       "1. 250\n",
       "2. 255\n",
       "3. 260\n",
       "4. 263\n",
       "5. 265\n",
       "6. 455\n",
       "7. 460\n",
       "8. 465\n",
       "9. 479\n",
       "10. 470\n",
       "\n",
       "\n"
      ],
      "text/plain": [
       " [1] 250 255 260 263 265 455 460 465 479 470"
      ]
     },
     "metadata": {},
     "output_type": "display_data"
    }
   ],
   "source": [
    "saham <- c(fb, ms)\n",
    "saham"
   ]
  },
  {
   "cell_type": "code",
   "execution_count": 100,
   "metadata": {},
   "outputs": [
    {
     "data": {
      "text/html": [
       "<table>\n",
       "<tbody>\n",
       "\t<tr><td>250</td><td>255</td><td>260</td><td>263</td><td>265</td></tr>\n",
       "\t<tr><td>455</td><td>460</td><td>465</td><td>479</td><td>470</td></tr>\n",
       "</tbody>\n",
       "</table>\n"
      ],
      "text/latex": [
       "\\begin{tabular}{lllll}\n",
       "\t 250 & 255 & 260 & 263 & 265\\\\\n",
       "\t 455 & 460 & 465 & 479 & 470\\\\\n",
       "\\end{tabular}\n"
      ],
      "text/markdown": [
       "\n",
       "| 250 | 255 | 260 | 263 | 265 |\n",
       "| 455 | 460 | 465 | 479 | 470 |\n",
       "\n"
      ],
      "text/plain": [
       "     [,1] [,2] [,3] [,4] [,5]\n",
       "[1,] 250  255  260  263  265 \n",
       "[2,] 455  460  465  479  470 "
      ]
     },
     "metadata": {},
     "output_type": "display_data"
    }
   ],
   "source": [
    "matriks.saham <- matrix(saham, nrow=2, byrow=T)\n",
    "matriks.saham"
   ]
  },
  {
   "cell_type": "code",
   "execution_count": 101,
   "metadata": {},
   "outputs": [],
   "source": [
    "# Menamakan baris dan kolom"
   ]
  },
  {
   "cell_type": "code",
   "execution_count": 102,
   "metadata": {},
   "outputs": [],
   "source": [
    "hari <- c('sen', 'sel', 'rab', 'kam', 'jum')\n",
    "perusahaan <- c('fb', 'ms')"
   ]
  },
  {
   "cell_type": "code",
   "execution_count": 103,
   "metadata": {},
   "outputs": [],
   "source": [
    "colnames(matriks.saham) <- hari\n",
    "rownames(matriks.saham) <- perusahaan"
   ]
  },
  {
   "cell_type": "code",
   "execution_count": 104,
   "metadata": {},
   "outputs": [
    {
     "data": {
      "text/html": [
       "<table>\n",
       "<thead><tr><th></th><th scope=col>sen</th><th scope=col>sel</th><th scope=col>rab</th><th scope=col>kam</th><th scope=col>jum</th></tr></thead>\n",
       "<tbody>\n",
       "\t<tr><th scope=row>fb</th><td>250</td><td>255</td><td>260</td><td>263</td><td>265</td></tr>\n",
       "\t<tr><th scope=row>ms</th><td>455</td><td>460</td><td>465</td><td>479</td><td>470</td></tr>\n",
       "</tbody>\n",
       "</table>\n"
      ],
      "text/latex": [
       "\\begin{tabular}{r|lllll}\n",
       "  & sen & sel & rab & kam & jum\\\\\n",
       "\\hline\n",
       "\tfb & 250 & 255 & 260 & 263 & 265\\\\\n",
       "\tms & 455 & 460 & 465 & 479 & 470\\\\\n",
       "\\end{tabular}\n"
      ],
      "text/markdown": [
       "\n",
       "| <!--/--> | sen | sel | rab | kam | jum |\n",
       "|---|---|---|---|---|---|\n",
       "| fb | 250 | 255 | 260 | 263 | 265 |\n",
       "| ms | 455 | 460 | 465 | 479 | 470 |\n",
       "\n"
      ],
      "text/plain": [
       "   sen sel rab kam jum\n",
       "fb 250 255 260 263 265\n",
       "ms 455 460 465 479 470"
      ]
     },
     "metadata": {},
     "output_type": "display_data"
    }
   ],
   "source": [
    "matriks.saham"
   ]
  },
  {
   "cell_type": "markdown",
   "metadata": {},
   "source": [
    "## Aritmatika matriks"
   ]
  },
  {
   "cell_type": "code",
   "execution_count": 105,
   "metadata": {},
   "outputs": [
    {
     "data": {
      "text/html": [
       "<table>\n",
       "<tbody>\n",
       "\t<tr><td> 1</td><td> 2</td><td> 3</td><td> 4</td><td> 5</td></tr>\n",
       "\t<tr><td> 6</td><td> 7</td><td> 8</td><td> 9</td><td>10</td></tr>\n",
       "\t<tr><td>11</td><td>12</td><td>13</td><td>14</td><td>15</td></tr>\n",
       "\t<tr><td>16</td><td>17</td><td>18</td><td>19</td><td>20</td></tr>\n",
       "\t<tr><td>21</td><td>22</td><td>23</td><td>24</td><td>25</td></tr>\n",
       "</tbody>\n",
       "</table>\n"
      ],
      "text/latex": [
       "\\begin{tabular}{lllll}\n",
       "\t  1 &  2 &  3 &  4 &  5\\\\\n",
       "\t  6 &  7 &  8 &  9 & 10\\\\\n",
       "\t 11 & 12 & 13 & 14 & 15\\\\\n",
       "\t 16 & 17 & 18 & 19 & 20\\\\\n",
       "\t 21 & 22 & 23 & 24 & 25\\\\\n",
       "\\end{tabular}\n"
      ],
      "text/markdown": [
       "\n",
       "|  1 |  2 |  3 |  4 |  5 |\n",
       "|  6 |  7 |  8 |  9 | 10 |\n",
       "| 11 | 12 | 13 | 14 | 15 |\n",
       "| 16 | 17 | 18 | 19 | 20 |\n",
       "| 21 | 22 | 23 | 24 | 25 |\n",
       "\n"
      ],
      "text/plain": [
       "     [,1] [,2] [,3] [,4] [,5]\n",
       "[1,]  1    2    3    4    5  \n",
       "[2,]  6    7    8    9   10  \n",
       "[3,] 11   12   13   14   15  \n",
       "[4,] 16   17   18   19   20  \n",
       "[5,] 21   22   23   24   25  "
      ]
     },
     "metadata": {},
     "output_type": "display_data"
    }
   ],
   "source": [
    "mat <- matrix(1:25, nrow=5, byrow=T)\n",
    "mat"
   ]
  },
  {
   "cell_type": "code",
   "execution_count": 106,
   "metadata": {},
   "outputs": [
    {
     "data": {
      "text/html": [
       "<table>\n",
       "<tbody>\n",
       "\t<tr><td>  1</td><td>  4</td><td>  9</td><td> 16</td><td> 25</td></tr>\n",
       "\t<tr><td> 36</td><td> 49</td><td> 64</td><td> 81</td><td>100</td></tr>\n",
       "\t<tr><td>121</td><td>144</td><td>169</td><td>196</td><td>225</td></tr>\n",
       "\t<tr><td>256</td><td>289</td><td>324</td><td>361</td><td>400</td></tr>\n",
       "\t<tr><td>441</td><td>484</td><td>529</td><td>576</td><td>625</td></tr>\n",
       "</tbody>\n",
       "</table>\n"
      ],
      "text/latex": [
       "\\begin{tabular}{lllll}\n",
       "\t   1 &   4 &   9 &  16 &  25\\\\\n",
       "\t  36 &  49 &  64 &  81 & 100\\\\\n",
       "\t 121 & 144 & 169 & 196 & 225\\\\\n",
       "\t 256 & 289 & 324 & 361 & 400\\\\\n",
       "\t 441 & 484 & 529 & 576 & 625\\\\\n",
       "\\end{tabular}\n"
      ],
      "text/markdown": [
       "\n",
       "|   1 |   4 |   9 |  16 |  25 |\n",
       "|  36 |  49 |  64 |  81 | 100 |\n",
       "| 121 | 144 | 169 | 196 | 225 |\n",
       "| 256 | 289 | 324 | 361 | 400 |\n",
       "| 441 | 484 | 529 | 576 | 625 |\n",
       "\n"
      ],
      "text/plain": [
       "     [,1] [,2] [,3] [,4] [,5]\n",
       "[1,]   1    4    9   16   25 \n",
       "[2,]  36   49   64   81  100 \n",
       "[3,] 121  144  169  196  225 \n",
       "[4,] 256  289  324  361  400 \n",
       "[5,] 441  484  529  576  625 "
      ]
     },
     "metadata": {},
     "output_type": "display_data"
    }
   ],
   "source": [
    "mat * mat # element-by-element"
   ]
  },
  {
   "cell_type": "code",
   "execution_count": 107,
   "metadata": {},
   "outputs": [
    {
     "data": {
      "text/html": [
       "<table>\n",
       "<tbody>\n",
       "\t<tr><td>1</td><td>1</td><td>1</td><td>1</td><td>1</td></tr>\n",
       "\t<tr><td>1</td><td>1</td><td>1</td><td>1</td><td>1</td></tr>\n",
       "\t<tr><td>1</td><td>1</td><td>1</td><td>1</td><td>1</td></tr>\n",
       "\t<tr><td>1</td><td>1</td><td>1</td><td>1</td><td>1</td></tr>\n",
       "\t<tr><td>1</td><td>1</td><td>1</td><td>1</td><td>1</td></tr>\n",
       "</tbody>\n",
       "</table>\n"
      ],
      "text/latex": [
       "\\begin{tabular}{lllll}\n",
       "\t 1 & 1 & 1 & 1 & 1\\\\\n",
       "\t 1 & 1 & 1 & 1 & 1\\\\\n",
       "\t 1 & 1 & 1 & 1 & 1\\\\\n",
       "\t 1 & 1 & 1 & 1 & 1\\\\\n",
       "\t 1 & 1 & 1 & 1 & 1\\\\\n",
       "\\end{tabular}\n"
      ],
      "text/markdown": [
       "\n",
       "| 1 | 1 | 1 | 1 | 1 |\n",
       "| 1 | 1 | 1 | 1 | 1 |\n",
       "| 1 | 1 | 1 | 1 | 1 |\n",
       "| 1 | 1 | 1 | 1 | 1 |\n",
       "| 1 | 1 | 1 | 1 | 1 |\n",
       "\n"
      ],
      "text/plain": [
       "     [,1] [,2] [,3] [,4] [,5]\n",
       "[1,] 1    1    1    1    1   \n",
       "[2,] 1    1    1    1    1   \n",
       "[3,] 1    1    1    1    1   \n",
       "[4,] 1    1    1    1    1   \n",
       "[5,] 1    1    1    1    1   "
      ]
     },
     "metadata": {},
     "output_type": "display_data"
    }
   ],
   "source": [
    "mat / mat"
   ]
  },
  {
   "cell_type": "code",
   "execution_count": 108,
   "metadata": {},
   "outputs": [
    {
     "data": {
      "text/html": [
       "<table>\n",
       "<tbody>\n",
       "\t<tr><td>  1</td><td>  4</td><td>  9</td><td> 16</td><td> 25</td></tr>\n",
       "\t<tr><td> 36</td><td> 49</td><td> 64</td><td> 81</td><td>100</td></tr>\n",
       "\t<tr><td>121</td><td>144</td><td>169</td><td>196</td><td>225</td></tr>\n",
       "\t<tr><td>256</td><td>289</td><td>324</td><td>361</td><td>400</td></tr>\n",
       "\t<tr><td>441</td><td>484</td><td>529</td><td>576</td><td>625</td></tr>\n",
       "</tbody>\n",
       "</table>\n"
      ],
      "text/latex": [
       "\\begin{tabular}{lllll}\n",
       "\t   1 &   4 &   9 &  16 &  25\\\\\n",
       "\t  36 &  49 &  64 &  81 & 100\\\\\n",
       "\t 121 & 144 & 169 & 196 & 225\\\\\n",
       "\t 256 & 289 & 324 & 361 & 400\\\\\n",
       "\t 441 & 484 & 529 & 576 & 625\\\\\n",
       "\\end{tabular}\n"
      ],
      "text/markdown": [
       "\n",
       "|   1 |   4 |   9 |  16 |  25 |\n",
       "|  36 |  49 |  64 |  81 | 100 |\n",
       "| 121 | 144 | 169 | 196 | 225 |\n",
       "| 256 | 289 | 324 | 361 | 400 |\n",
       "| 441 | 484 | 529 | 576 | 625 |\n",
       "\n"
      ],
      "text/plain": [
       "     [,1] [,2] [,3] [,4] [,5]\n",
       "[1,]   1    4    9   16   25 \n",
       "[2,]  36   49   64   81  100 \n",
       "[3,] 121  144  169  196  225 \n",
       "[4,] 256  289  324  361  400 \n",
       "[5,] 441  484  529  576  625 "
      ]
     },
     "metadata": {},
     "output_type": "display_data"
    }
   ],
   "source": [
    "mat^2"
   ]
  },
  {
   "cell_type": "code",
   "execution_count": 109,
   "metadata": {},
   "outputs": [
    {
     "data": {
      "text/html": [
       "<table>\n",
       "<tbody>\n",
       "\t<tr><td>1.00000000</td><td>0.50000000</td><td>0.33333333</td><td>0.25000000</td><td>0.20000000</td></tr>\n",
       "\t<tr><td>0.16666667</td><td>0.14285714</td><td>0.12500000</td><td>0.11111111</td><td>0.10000000</td></tr>\n",
       "\t<tr><td>0.09090909</td><td>0.08333333</td><td>0.07692308</td><td>0.07142857</td><td>0.06666667</td></tr>\n",
       "\t<tr><td>0.06250000</td><td>0.05882353</td><td>0.05555556</td><td>0.05263158</td><td>0.05000000</td></tr>\n",
       "\t<tr><td>0.04761905</td><td>0.04545455</td><td>0.04347826</td><td>0.04166667</td><td>0.04000000</td></tr>\n",
       "</tbody>\n",
       "</table>\n"
      ],
      "text/latex": [
       "\\begin{tabular}{lllll}\n",
       "\t 1.00000000 & 0.50000000 & 0.33333333 & 0.25000000 & 0.20000000\\\\\n",
       "\t 0.16666667 & 0.14285714 & 0.12500000 & 0.11111111 & 0.10000000\\\\\n",
       "\t 0.09090909 & 0.08333333 & 0.07692308 & 0.07142857 & 0.06666667\\\\\n",
       "\t 0.06250000 & 0.05882353 & 0.05555556 & 0.05263158 & 0.05000000\\\\\n",
       "\t 0.04761905 & 0.04545455 & 0.04347826 & 0.04166667 & 0.04000000\\\\\n",
       "\\end{tabular}\n"
      ],
      "text/markdown": [
       "\n",
       "| 1.00000000 | 0.50000000 | 0.33333333 | 0.25000000 | 0.20000000 |\n",
       "| 0.16666667 | 0.14285714 | 0.12500000 | 0.11111111 | 0.10000000 |\n",
       "| 0.09090909 | 0.08333333 | 0.07692308 | 0.07142857 | 0.06666667 |\n",
       "| 0.06250000 | 0.05882353 | 0.05555556 | 0.05263158 | 0.05000000 |\n",
       "| 0.04761905 | 0.04545455 | 0.04347826 | 0.04166667 | 0.04000000 |\n",
       "\n"
      ],
      "text/plain": [
       "     [,1]       [,2]       [,3]       [,4]       [,5]      \n",
       "[1,] 1.00000000 0.50000000 0.33333333 0.25000000 0.20000000\n",
       "[2,] 0.16666667 0.14285714 0.12500000 0.11111111 0.10000000\n",
       "[3,] 0.09090909 0.08333333 0.07692308 0.07142857 0.06666667\n",
       "[4,] 0.06250000 0.05882353 0.05555556 0.05263158 0.05000000\n",
       "[5,] 0.04761905 0.04545455 0.04347826 0.04166667 0.04000000"
      ]
     },
     "metadata": {},
     "output_type": "display_data"
    }
   ],
   "source": [
    "1 / mat"
   ]
  },
  {
   "cell_type": "code",
   "execution_count": 110,
   "metadata": {},
   "outputs": [],
   "source": [
    "# Operator perbandingan di matriks"
   ]
  },
  {
   "cell_type": "code",
   "execution_count": 111,
   "metadata": {},
   "outputs": [
    {
     "data": {
      "text/html": [
       "<table>\n",
       "<tbody>\n",
       "\t<tr><td>FALSE</td><td>FALSE</td><td>FALSE</td><td>FALSE</td><td>FALSE</td></tr>\n",
       "\t<tr><td>FALSE</td><td>FALSE</td><td>FALSE</td><td>FALSE</td><td>FALSE</td></tr>\n",
       "\t<tr><td> TRUE</td><td> TRUE</td><td> TRUE</td><td> TRUE</td><td> TRUE</td></tr>\n",
       "\t<tr><td> TRUE</td><td> TRUE</td><td> TRUE</td><td> TRUE</td><td> TRUE</td></tr>\n",
       "\t<tr><td> TRUE</td><td> TRUE</td><td> TRUE</td><td> TRUE</td><td> TRUE</td></tr>\n",
       "</tbody>\n",
       "</table>\n"
      ],
      "text/latex": [
       "\\begin{tabular}{lllll}\n",
       "\t FALSE & FALSE & FALSE & FALSE & FALSE\\\\\n",
       "\t FALSE & FALSE & FALSE & FALSE & FALSE\\\\\n",
       "\t  TRUE &  TRUE &  TRUE &  TRUE &  TRUE\\\\\n",
       "\t  TRUE &  TRUE &  TRUE &  TRUE &  TRUE\\\\\n",
       "\t  TRUE &  TRUE &  TRUE &  TRUE &  TRUE\\\\\n",
       "\\end{tabular}\n"
      ],
      "text/markdown": [
       "\n",
       "| FALSE | FALSE | FALSE | FALSE | FALSE |\n",
       "| FALSE | FALSE | FALSE | FALSE | FALSE |\n",
       "|  TRUE |  TRUE |  TRUE |  TRUE |  TRUE |\n",
       "|  TRUE |  TRUE |  TRUE |  TRUE |  TRUE |\n",
       "|  TRUE |  TRUE |  TRUE |  TRUE |  TRUE |\n",
       "\n"
      ],
      "text/plain": [
       "     [,1]  [,2]  [,3]  [,4]  [,5] \n",
       "[1,] FALSE FALSE FALSE FALSE FALSE\n",
       "[2,] FALSE FALSE FALSE FALSE FALSE\n",
       "[3,]  TRUE  TRUE  TRUE  TRUE  TRUE\n",
       "[4,]  TRUE  TRUE  TRUE  TRUE  TRUE\n",
       "[5,]  TRUE  TRUE  TRUE  TRUE  TRUE"
      ]
     },
     "metadata": {},
     "output_type": "display_data"
    }
   ],
   "source": [
    "mat > 10"
   ]
  },
  {
   "cell_type": "code",
   "execution_count": 112,
   "metadata": {},
   "outputs": [
    {
     "data": {
      "text/html": [
       "<ol class=list-inline>\n",
       "\t<li>11</li>\n",
       "\t<li>16</li>\n",
       "\t<li>21</li>\n",
       "\t<li>12</li>\n",
       "\t<li>17</li>\n",
       "\t<li>22</li>\n",
       "\t<li>13</li>\n",
       "\t<li>18</li>\n",
       "\t<li>23</li>\n",
       "\t<li>14</li>\n",
       "\t<li>19</li>\n",
       "\t<li>24</li>\n",
       "\t<li>15</li>\n",
       "\t<li>20</li>\n",
       "\t<li>25</li>\n",
       "</ol>\n"
      ],
      "text/latex": [
       "\\begin{enumerate*}\n",
       "\\item 11\n",
       "\\item 16\n",
       "\\item 21\n",
       "\\item 12\n",
       "\\item 17\n",
       "\\item 22\n",
       "\\item 13\n",
       "\\item 18\n",
       "\\item 23\n",
       "\\item 14\n",
       "\\item 19\n",
       "\\item 24\n",
       "\\item 15\n",
       "\\item 20\n",
       "\\item 25\n",
       "\\end{enumerate*}\n"
      ],
      "text/markdown": [
       "1. 11\n",
       "2. 16\n",
       "3. 21\n",
       "4. 12\n",
       "5. 17\n",
       "6. 22\n",
       "7. 13\n",
       "8. 18\n",
       "9. 23\n",
       "10. 14\n",
       "11. 19\n",
       "12. 24\n",
       "13. 15\n",
       "14. 20\n",
       "15. 25\n",
       "\n",
       "\n"
      ],
      "text/plain": [
       " [1] 11 16 21 12 17 22 13 18 23 14 19 24 15 20 25"
      ]
     },
     "metadata": {},
     "output_type": "display_data"
    }
   ],
   "source": [
    "mat[mat > 10]"
   ]
  },
  {
   "cell_type": "code",
   "execution_count": 113,
   "metadata": {},
   "outputs": [
    {
     "data": {
      "text/html": [
       "<table>\n",
       "<tbody>\n",
       "\t<tr><td> 1</td><td> 2</td><td> 3</td><td> 4</td><td> 5</td></tr>\n",
       "\t<tr><td> 6</td><td> 7</td><td> 8</td><td> 9</td><td>10</td></tr>\n",
       "\t<tr><td>11</td><td>12</td><td>13</td><td>14</td><td>15</td></tr>\n",
       "\t<tr><td>16</td><td>17</td><td>18</td><td>19</td><td>20</td></tr>\n",
       "\t<tr><td>21</td><td>22</td><td>23</td><td>24</td><td>25</td></tr>\n",
       "</tbody>\n",
       "</table>\n"
      ],
      "text/latex": [
       "\\begin{tabular}{lllll}\n",
       "\t  1 &  2 &  3 &  4 &  5\\\\\n",
       "\t  6 &  7 &  8 &  9 & 10\\\\\n",
       "\t 11 & 12 & 13 & 14 & 15\\\\\n",
       "\t 16 & 17 & 18 & 19 & 20\\\\\n",
       "\t 21 & 22 & 23 & 24 & 25\\\\\n",
       "\\end{tabular}\n"
      ],
      "text/markdown": [
       "\n",
       "|  1 |  2 |  3 |  4 |  5 |\n",
       "|  6 |  7 |  8 |  9 | 10 |\n",
       "| 11 | 12 | 13 | 14 | 15 |\n",
       "| 16 | 17 | 18 | 19 | 20 |\n",
       "| 21 | 22 | 23 | 24 | 25 |\n",
       "\n"
      ],
      "text/plain": [
       "     [,1] [,2] [,3] [,4] [,5]\n",
       "[1,]  1    2    3    4    5  \n",
       "[2,]  6    7    8    9   10  \n",
       "[3,] 11   12   13   14   15  \n",
       "[4,] 16   17   18   19   20  \n",
       "[5,] 21   22   23   24   25  "
      ]
     },
     "metadata": {},
     "output_type": "display_data"
    }
   ],
   "source": [
    "mat"
   ]
  },
  {
   "cell_type": "code",
   "execution_count": 114,
   "metadata": {},
   "outputs": [
    {
     "data": {
      "text/html": [
       "<table>\n",
       "<tbody>\n",
       "\t<tr><td> 215</td><td> 230</td><td> 245</td><td> 260</td><td> 275</td></tr>\n",
       "\t<tr><td> 490</td><td> 530</td><td> 570</td><td> 610</td><td> 650</td></tr>\n",
       "\t<tr><td> 765</td><td> 830</td><td> 895</td><td> 960</td><td>1025</td></tr>\n",
       "\t<tr><td>1040</td><td>1130</td><td>1220</td><td>1310</td><td>1400</td></tr>\n",
       "\t<tr><td>1315</td><td>1430</td><td>1545</td><td>1660</td><td>1775</td></tr>\n",
       "</tbody>\n",
       "</table>\n"
      ],
      "text/latex": [
       "\\begin{tabular}{lllll}\n",
       "\t  215 &  230 &  245 &  260 &  275\\\\\n",
       "\t  490 &  530 &  570 &  610 &  650\\\\\n",
       "\t  765 &  830 &  895 &  960 & 1025\\\\\n",
       "\t 1040 & 1130 & 1220 & 1310 & 1400\\\\\n",
       "\t 1315 & 1430 & 1545 & 1660 & 1775\\\\\n",
       "\\end{tabular}\n"
      ],
      "text/markdown": [
       "\n",
       "|  215 |  230 |  245 |  260 |  275 |\n",
       "|  490 |  530 |  570 |  610 |  650 |\n",
       "|  765 |  830 |  895 |  960 | 1025 |\n",
       "| 1040 | 1130 | 1220 | 1310 | 1400 |\n",
       "| 1315 | 1430 | 1545 | 1660 | 1775 |\n",
       "\n"
      ],
      "text/plain": [
       "     [,1] [,2] [,3] [,4] [,5]\n",
       "[1,]  215  230  245  260  275\n",
       "[2,]  490  530  570  610  650\n",
       "[3,]  765  830  895  960 1025\n",
       "[4,] 1040 1130 1220 1310 1400\n",
       "[5,] 1315 1430 1545 1660 1775"
      ]
     },
     "metadata": {},
     "output_type": "display_data"
    }
   ],
   "source": [
    "# Perkalian matriks\n",
    "mat %*% mat"
   ]
  },
  {
   "cell_type": "markdown",
   "metadata": {},
   "source": [
    "## Operasi - operasi di matriks"
   ]
  },
  {
   "cell_type": "code",
   "execution_count": 115,
   "metadata": {},
   "outputs": [
    {
     "data": {
      "text/html": [
       "<table>\n",
       "<thead><tr><th></th><th scope=col>sen</th><th scope=col>sel</th><th scope=col>rab</th><th scope=col>kam</th><th scope=col>jum</th></tr></thead>\n",
       "<tbody>\n",
       "\t<tr><th scope=row>fb</th><td>250</td><td>255</td><td>260</td><td>263</td><td>265</td></tr>\n",
       "\t<tr><th scope=row>ms</th><td>455</td><td>460</td><td>465</td><td>479</td><td>470</td></tr>\n",
       "</tbody>\n",
       "</table>\n"
      ],
      "text/latex": [
       "\\begin{tabular}{r|lllll}\n",
       "  & sen & sel & rab & kam & jum\\\\\n",
       "\\hline\n",
       "\tfb & 250 & 255 & 260 & 263 & 265\\\\\n",
       "\tms & 455 & 460 & 465 & 479 & 470\\\\\n",
       "\\end{tabular}\n"
      ],
      "text/markdown": [
       "\n",
       "| <!--/--> | sen | sel | rab | kam | jum |\n",
       "|---|---|---|---|---|---|\n",
       "| fb | 250 | 255 | 260 | 263 | 265 |\n",
       "| ms | 455 | 460 | 465 | 479 | 470 |\n",
       "\n"
      ],
      "text/plain": [
       "   sen sel rab kam jum\n",
       "fb 250 255 260 263 265\n",
       "ms 455 460 465 479 470"
      ]
     },
     "metadata": {},
     "output_type": "display_data"
    }
   ],
   "source": [
    "# Mendefinisikan matriks dari vektor\n",
    "fb <- c(250,255,260,263,265)\n",
    "ms <- c(455,460,465,479, 470)\n",
    "saham <- c(fb, ms)\n",
    "matriks.saham <- matrix(saham, nrow=2, byrow=T)\n",
    "colnames(matriks.saham) <- c('sen', 'sel', 'rab', 'kam', 'jum')\n",
    "rownames(matriks.saham) <-  c('fb', 'ms')\n",
    "matriks.saham"
   ]
  },
  {
   "cell_type": "code",
   "execution_count": 116,
   "metadata": {},
   "outputs": [
    {
     "data": {
      "text/html": [
       "<dl class=dl-horizontal>\n",
       "\t<dt>sen</dt>\n",
       "\t\t<dd>705</dd>\n",
       "\t<dt>sel</dt>\n",
       "\t\t<dd>715</dd>\n",
       "\t<dt>rab</dt>\n",
       "\t\t<dd>725</dd>\n",
       "\t<dt>kam</dt>\n",
       "\t\t<dd>742</dd>\n",
       "\t<dt>jum</dt>\n",
       "\t\t<dd>735</dd>\n",
       "</dl>\n"
      ],
      "text/latex": [
       "\\begin{description*}\n",
       "\\item[sen] 705\n",
       "\\item[sel] 715\n",
       "\\item[rab] 725\n",
       "\\item[kam] 742\n",
       "\\item[jum] 735\n",
       "\\end{description*}\n"
      ],
      "text/markdown": [
       "sen\n",
       ":   705sel\n",
       ":   715rab\n",
       ":   725kam\n",
       ":   742jum\n",
       ":   735\n",
       "\n"
      ],
      "text/plain": [
       "sen sel rab kam jum \n",
       "705 715 725 742 735 "
      ]
     },
     "metadata": {},
     "output_type": "display_data"
    }
   ],
   "source": [
    "colSums(matriks.saham) # penjumlahan pada kolom"
   ]
  },
  {
   "cell_type": "code",
   "execution_count": 117,
   "metadata": {},
   "outputs": [
    {
     "data": {
      "text/html": [
       "<dl class=dl-horizontal>\n",
       "\t<dt>fb</dt>\n",
       "\t\t<dd>1293</dd>\n",
       "\t<dt>ms</dt>\n",
       "\t\t<dd>2329</dd>\n",
       "</dl>\n"
      ],
      "text/latex": [
       "\\begin{description*}\n",
       "\\item[fb] 1293\n",
       "\\item[ms] 2329\n",
       "\\end{description*}\n"
      ],
      "text/markdown": [
       "fb\n",
       ":   1293ms\n",
       ":   2329\n",
       "\n"
      ],
      "text/plain": [
       "  fb   ms \n",
       "1293 2329 "
      ]
     },
     "metadata": {},
     "output_type": "display_data"
    }
   ],
   "source": [
    "rowSums(matriks.saham)"
   ]
  },
  {
   "cell_type": "code",
   "execution_count": 118,
   "metadata": {},
   "outputs": [
    {
     "data": {
      "text/html": [
       "<dl class=dl-horizontal>\n",
       "\t<dt>fb</dt>\n",
       "\t\t<dd>258.6</dd>\n",
       "\t<dt>ms</dt>\n",
       "\t\t<dd>465.8</dd>\n",
       "</dl>\n"
      ],
      "text/latex": [
       "\\begin{description*}\n",
       "\\item[fb] 258.6\n",
       "\\item[ms] 465.8\n",
       "\\end{description*}\n"
      ],
      "text/markdown": [
       "fb\n",
       ":   258.6ms\n",
       ":   465.8\n",
       "\n"
      ],
      "text/plain": [
       "   fb    ms \n",
       "258.6 465.8 "
      ]
     },
     "metadata": {},
     "output_type": "display_data"
    }
   ],
   "source": [
    "rowMeans(matriks.saham)"
   ]
  },
  {
   "cell_type": "code",
   "execution_count": 119,
   "metadata": {},
   "outputs": [
    {
     "data": {
      "text/html": [
       "<dl class=dl-horizontal>\n",
       "\t<dt>sen</dt>\n",
       "\t\t<dd>352.5</dd>\n",
       "\t<dt>sel</dt>\n",
       "\t\t<dd>357.5</dd>\n",
       "\t<dt>rab</dt>\n",
       "\t\t<dd>362.5</dd>\n",
       "\t<dt>kam</dt>\n",
       "\t\t<dd>371</dd>\n",
       "\t<dt>jum</dt>\n",
       "\t\t<dd>367.5</dd>\n",
       "</dl>\n"
      ],
      "text/latex": [
       "\\begin{description*}\n",
       "\\item[sen] 352.5\n",
       "\\item[sel] 357.5\n",
       "\\item[rab] 362.5\n",
       "\\item[kam] 371\n",
       "\\item[jum] 367.5\n",
       "\\end{description*}\n"
      ],
      "text/markdown": [
       "sen\n",
       ":   352.5sel\n",
       ":   357.5rab\n",
       ":   362.5kam\n",
       ":   371jum\n",
       ":   367.5\n",
       "\n"
      ],
      "text/plain": [
       "  sen   sel   rab   kam   jum \n",
       "352.5 357.5 362.5 371.0 367.5 "
      ]
     },
     "metadata": {},
     "output_type": "display_data"
    }
   ],
   "source": [
    "colMeans(matriks.saham)"
   ]
  },
  {
   "cell_type": "code",
   "execution_count": 120,
   "metadata": {},
   "outputs": [],
   "source": [
    "# Menambahkan kolom dan baris ke matriks"
   ]
  },
  {
   "cell_type": "code",
   "execution_count": 121,
   "metadata": {},
   "outputs": [
    {
     "data": {
      "text/html": [
       "<table>\n",
       "<thead><tr><th></th><th scope=col>sen</th><th scope=col>sel</th><th scope=col>rab</th><th scope=col>kam</th><th scope=col>jum</th></tr></thead>\n",
       "<tbody>\n",
       "\t<tr><th scope=row>fb</th><td>250</td><td>255</td><td>260</td><td>263</td><td>265</td></tr>\n",
       "\t<tr><th scope=row>ms</th><td>455</td><td>460</td><td>465</td><td>479</td><td>470</td></tr>\n",
       "\t<tr><th scope=row>google</th><td>175</td><td>180</td><td>185</td><td>195</td><td>190</td></tr>\n",
       "</tbody>\n",
       "</table>\n"
      ],
      "text/latex": [
       "\\begin{tabular}{r|lllll}\n",
       "  & sen & sel & rab & kam & jum\\\\\n",
       "\\hline\n",
       "\tfb & 250 & 255 & 260 & 263 & 265\\\\\n",
       "\tms & 455 & 460 & 465 & 479 & 470\\\\\n",
       "\tgoogle & 175 & 180 & 185 & 195 & 190\\\\\n",
       "\\end{tabular}\n"
      ],
      "text/markdown": [
       "\n",
       "| <!--/--> | sen | sel | rab | kam | jum |\n",
       "|---|---|---|---|---|---|\n",
       "| fb | 250 | 255 | 260 | 263 | 265 |\n",
       "| ms | 455 | 460 | 465 | 479 | 470 |\n",
       "| google | 175 | 180 | 185 | 195 | 190 |\n",
       "\n"
      ],
      "text/plain": [
       "       sen sel rab kam jum\n",
       "fb     250 255 260 263 265\n",
       "ms     455 460 465 479 470\n",
       "google 175 180 185 195 190"
      ]
     },
     "metadata": {},
     "output_type": "display_data"
    }
   ],
   "source": [
    "google <- c(175,180,185,195,190)\n",
    "saham.int <- rbind(matriks.saham, google)\n",
    "saham.int"
   ]
  },
  {
   "cell_type": "code",
   "execution_count": 122,
   "metadata": {},
   "outputs": [
    {
     "data": {
      "text/html": [
       "<dl class=dl-horizontal>\n",
       "\t<dt>fb</dt>\n",
       "\t\t<dd>258.6</dd>\n",
       "\t<dt>ms</dt>\n",
       "\t\t<dd>465.8</dd>\n",
       "\t<dt>google</dt>\n",
       "\t\t<dd>185</dd>\n",
       "</dl>\n"
      ],
      "text/latex": [
       "\\begin{description*}\n",
       "\\item[fb] 258.6\n",
       "\\item[ms] 465.8\n",
       "\\item[google] 185\n",
       "\\end{description*}\n"
      ],
      "text/markdown": [
       "fb\n",
       ":   258.6ms\n",
       ":   465.8google\n",
       ":   185\n",
       "\n"
      ],
      "text/plain": [
       "    fb     ms google \n",
       " 258.6  465.8  185.0 "
      ]
     },
     "metadata": {},
     "output_type": "display_data"
    }
   ],
   "source": [
    "# Menambahkan kolom ke matriks\n",
    "rata2 <- rowMeans(saham.int)\n",
    "rata2"
   ]
  },
  {
   "cell_type": "code",
   "execution_count": 123,
   "metadata": {},
   "outputs": [
    {
     "data": {
      "text/html": [
       "<table>\n",
       "<thead><tr><th></th><th scope=col>sen</th><th scope=col>sel</th><th scope=col>rab</th><th scope=col>kam</th><th scope=col>jum</th><th scope=col>rata2</th></tr></thead>\n",
       "<tbody>\n",
       "\t<tr><th scope=row>fb</th><td>250  </td><td>255  </td><td>260  </td><td>263  </td><td>265  </td><td>258.6</td></tr>\n",
       "\t<tr><th scope=row>ms</th><td>455  </td><td>460  </td><td>465  </td><td>479  </td><td>470  </td><td>465.8</td></tr>\n",
       "\t<tr><th scope=row>google</th><td>175  </td><td>180  </td><td>185  </td><td>195  </td><td>190  </td><td>185.0</td></tr>\n",
       "</tbody>\n",
       "</table>\n"
      ],
      "text/latex": [
       "\\begin{tabular}{r|llllll}\n",
       "  & sen & sel & rab & kam & jum & rata2\\\\\n",
       "\\hline\n",
       "\tfb & 250   & 255   & 260   & 263   & 265   & 258.6\\\\\n",
       "\tms & 455   & 460   & 465   & 479   & 470   & 465.8\\\\\n",
       "\tgoogle & 175   & 180   & 185   & 195   & 190   & 185.0\\\\\n",
       "\\end{tabular}\n"
      ],
      "text/markdown": [
       "\n",
       "| <!--/--> | sen | sel | rab | kam | jum | rata2 |\n",
       "|---|---|---|---|---|---|---|\n",
       "| fb | 250   | 255   | 260   | 263   | 265   | 258.6 |\n",
       "| ms | 455   | 460   | 465   | 479   | 470   | 465.8 |\n",
       "| google | 175   | 180   | 185   | 195   | 190   | 185.0 |\n",
       "\n"
      ],
      "text/plain": [
       "       sen sel rab kam jum rata2\n",
       "fb     250 255 260 263 265 258.6\n",
       "ms     455 460 465 479 470 465.8\n",
       "google 175 180 185 195 190 185.0"
      ]
     },
     "metadata": {},
     "output_type": "display_data"
    }
   ],
   "source": [
    "saham.int <- cbind(saham.int, rata2)\n",
    "saham.int"
   ]
  },
  {
   "cell_type": "markdown",
   "metadata": {},
   "source": [
    "## Seleksi dan pengindeksan matriks"
   ]
  },
  {
   "cell_type": "code",
   "execution_count": 124,
   "metadata": {},
   "outputs": [
    {
     "data": {
      "text/html": [
       "<ol class=list-inline>\n",
       "\t<li>10</li>\n",
       "\t<li>20</li>\n",
       "\t<li>30</li>\n",
       "\t<li>40</li>\n",
       "\t<li>50</li>\n",
       "</ol>\n"
      ],
      "text/latex": [
       "\\begin{enumerate*}\n",
       "\\item 10\n",
       "\\item 20\n",
       "\\item 30\n",
       "\\item 40\n",
       "\\item 50\n",
       "\\end{enumerate*}\n"
      ],
      "text/markdown": [
       "1. 10\n",
       "2. 20\n",
       "3. 30\n",
       "4. 40\n",
       "5. 50\n",
       "\n",
       "\n"
      ],
      "text/plain": [
       "[1] 10 20 30 40 50"
      ]
     },
     "metadata": {},
     "output_type": "display_data"
    }
   ],
   "source": [
    "v <- c(10,20,30,40,50)\n",
    "v"
   ]
  },
  {
   "cell_type": "code",
   "execution_count": 125,
   "metadata": {},
   "outputs": [
    {
     "data": {
      "text/html": [
       "30"
      ],
      "text/latex": [
       "30"
      ],
      "text/markdown": [
       "30"
      ],
      "text/plain": [
       "[1] 30"
      ]
     },
     "metadata": {},
     "output_type": "display_data"
    }
   ],
   "source": [
    "v[3]"
   ]
  },
  {
   "cell_type": "code",
   "execution_count": 126,
   "metadata": {},
   "outputs": [
    {
     "data": {
      "text/html": [
       "<table>\n",
       "<tbody>\n",
       "\t<tr><td> 1</td><td> 2</td><td> 3</td><td> 4</td><td> 5</td></tr>\n",
       "\t<tr><td> 6</td><td> 7</td><td> 8</td><td> 9</td><td>10</td></tr>\n",
       "\t<tr><td>11</td><td>12</td><td>13</td><td>14</td><td>15</td></tr>\n",
       "\t<tr><td>16</td><td>17</td><td>18</td><td>19</td><td>20</td></tr>\n",
       "\t<tr><td>21</td><td>22</td><td>23</td><td>24</td><td>25</td></tr>\n",
       "</tbody>\n",
       "</table>\n"
      ],
      "text/latex": [
       "\\begin{tabular}{lllll}\n",
       "\t  1 &  2 &  3 &  4 &  5\\\\\n",
       "\t  6 &  7 &  8 &  9 & 10\\\\\n",
       "\t 11 & 12 & 13 & 14 & 15\\\\\n",
       "\t 16 & 17 & 18 & 19 & 20\\\\\n",
       "\t 21 & 22 & 23 & 24 & 25\\\\\n",
       "\\end{tabular}\n"
      ],
      "text/markdown": [
       "\n",
       "|  1 |  2 |  3 |  4 |  5 |\n",
       "|  6 |  7 |  8 |  9 | 10 |\n",
       "| 11 | 12 | 13 | 14 | 15 |\n",
       "| 16 | 17 | 18 | 19 | 20 |\n",
       "| 21 | 22 | 23 | 24 | 25 |\n",
       "\n"
      ],
      "text/plain": [
       "     [,1] [,2] [,3] [,4] [,5]\n",
       "[1,]  1    2    3    4    5  \n",
       "[2,]  6    7    8    9   10  \n",
       "[3,] 11   12   13   14   15  \n",
       "[4,] 16   17   18   19   20  \n",
       "[5,] 21   22   23   24   25  "
      ]
     },
     "metadata": {},
     "output_type": "display_data"
    }
   ],
   "source": [
    "mat <- matrix(1:25, nrow=5, byrow=T)\n",
    "mat"
   ]
  },
  {
   "cell_type": "code",
   "execution_count": 127,
   "metadata": {},
   "outputs": [
    {
     "data": {
      "text/html": [
       "<ol class=list-inline>\n",
       "\t<li>1</li>\n",
       "\t<li>2</li>\n",
       "\t<li>3</li>\n",
       "\t<li>4</li>\n",
       "\t<li>5</li>\n",
       "</ol>\n"
      ],
      "text/latex": [
       "\\begin{enumerate*}\n",
       "\\item 1\n",
       "\\item 2\n",
       "\\item 3\n",
       "\\item 4\n",
       "\\item 5\n",
       "\\end{enumerate*}\n"
      ],
      "text/markdown": [
       "1. 1\n",
       "2. 2\n",
       "3. 3\n",
       "4. 4\n",
       "5. 5\n",
       "\n",
       "\n"
      ],
      "text/plain": [
       "[1] 1 2 3 4 5"
      ]
     },
     "metadata": {},
     "output_type": "display_data"
    }
   ],
   "source": [
    "mat[1,] # baris 1, seluruh kolom"
   ]
  },
  {
   "cell_type": "code",
   "execution_count": 128,
   "metadata": {},
   "outputs": [
    {
     "data": {
      "text/html": [
       "8"
      ],
      "text/latex": [
       "8"
      ],
      "text/markdown": [
       "8"
      ],
      "text/plain": [
       "[1] 8"
      ]
     },
     "metadata": {},
     "output_type": "display_data"
    }
   ],
   "source": [
    "mat[2,3]"
   ]
  },
  {
   "cell_type": "code",
   "execution_count": 129,
   "metadata": {},
   "outputs": [
    {
     "data": {
      "text/html": [
       "14"
      ],
      "text/latex": [
       "14"
      ],
      "text/markdown": [
       "14"
      ],
      "text/plain": [
       "[1] 14"
      ]
     },
     "metadata": {},
     "output_type": "display_data"
    }
   ],
   "source": [
    "mat[3,4]"
   ]
  },
  {
   "cell_type": "code",
   "execution_count": 130,
   "metadata": {},
   "outputs": [
    {
     "data": {
      "text/html": [
       "<ol class=list-inline>\n",
       "\t<li>3</li>\n",
       "\t<li>8</li>\n",
       "\t<li>13</li>\n",
       "\t<li>18</li>\n",
       "\t<li>23</li>\n",
       "</ol>\n"
      ],
      "text/latex": [
       "\\begin{enumerate*}\n",
       "\\item 3\n",
       "\\item 8\n",
       "\\item 13\n",
       "\\item 18\n",
       "\\item 23\n",
       "\\end{enumerate*}\n"
      ],
      "text/markdown": [
       "1. 3\n",
       "2. 8\n",
       "3. 13\n",
       "4. 18\n",
       "5. 23\n",
       "\n",
       "\n"
      ],
      "text/plain": [
       "[1]  3  8 13 18 23"
      ]
     },
     "metadata": {},
     "output_type": "display_data"
    }
   ],
   "source": [
    "mat[,3]"
   ]
  },
  {
   "cell_type": "code",
   "execution_count": 131,
   "metadata": {},
   "outputs": [
    {
     "data": {
      "text/html": [
       "<table>\n",
       "<tbody>\n",
       "\t<tr><td> 1</td><td> 2</td><td> 3</td><td> 4</td><td> 5</td></tr>\n",
       "\t<tr><td> 6</td><td> 7</td><td> 8</td><td> 9</td><td>10</td></tr>\n",
       "\t<tr><td>11</td><td>12</td><td>13</td><td>14</td><td>15</td></tr>\n",
       "\t<tr><td>16</td><td>17</td><td>18</td><td>19</td><td>20</td></tr>\n",
       "\t<tr><td>21</td><td>22</td><td>23</td><td>24</td><td>25</td></tr>\n",
       "</tbody>\n",
       "</table>\n"
      ],
      "text/latex": [
       "\\begin{tabular}{lllll}\n",
       "\t  1 &  2 &  3 &  4 &  5\\\\\n",
       "\t  6 &  7 &  8 &  9 & 10\\\\\n",
       "\t 11 & 12 & 13 & 14 & 15\\\\\n",
       "\t 16 & 17 & 18 & 19 & 20\\\\\n",
       "\t 21 & 22 & 23 & 24 & 25\\\\\n",
       "\\end{tabular}\n"
      ],
      "text/markdown": [
       "\n",
       "|  1 |  2 |  3 |  4 |  5 |\n",
       "|  6 |  7 |  8 |  9 | 10 |\n",
       "| 11 | 12 | 13 | 14 | 15 |\n",
       "| 16 | 17 | 18 | 19 | 20 |\n",
       "| 21 | 22 | 23 | 24 | 25 |\n",
       "\n"
      ],
      "text/plain": [
       "     [,1] [,2] [,3] [,4] [,5]\n",
       "[1,]  1    2    3    4    5  \n",
       "[2,]  6    7    8    9   10  \n",
       "[3,] 11   12   13   14   15  \n",
       "[4,] 16   17   18   19   20  \n",
       "[5,] 21   22   23   24   25  "
      ]
     },
     "metadata": {},
     "output_type": "display_data"
    }
   ],
   "source": [
    "mat"
   ]
  },
  {
   "cell_type": "code",
   "execution_count": 132,
   "metadata": {},
   "outputs": [
    {
     "data": {
      "text/html": [
       "<ol class=list-inline>\n",
       "\t<li>5</li>\n",
       "\t<li>10</li>\n",
       "\t<li>15</li>\n",
       "\t<li>20</li>\n",
       "\t<li>25</li>\n",
       "</ol>\n"
      ],
      "text/latex": [
       "\\begin{enumerate*}\n",
       "\\item 5\n",
       "\\item 10\n",
       "\\item 15\n",
       "\\item 20\n",
       "\\item 25\n",
       "\\end{enumerate*}\n"
      ],
      "text/markdown": [
       "1. 5\n",
       "2. 10\n",
       "3. 15\n",
       "4. 20\n",
       "5. 25\n",
       "\n",
       "\n"
      ],
      "text/plain": [
       "[1]  5 10 15 20 25"
      ]
     },
     "metadata": {},
     "output_type": "display_data"
    }
   ],
   "source": [
    "mat[,5]"
   ]
  },
  {
   "cell_type": "code",
   "execution_count": 133,
   "metadata": {},
   "outputs": [
    {
     "data": {
      "text/html": [
       "<table>\n",
       "<tbody>\n",
       "\t<tr><td> 1</td><td> 2</td><td> 3</td><td> 4</td><td> 5</td></tr>\n",
       "\t<tr><td> 6</td><td> 7</td><td> 8</td><td> 9</td><td>10</td></tr>\n",
       "\t<tr><td>11</td><td>12</td><td>13</td><td>14</td><td>15</td></tr>\n",
       "</tbody>\n",
       "</table>\n"
      ],
      "text/latex": [
       "\\begin{tabular}{lllll}\n",
       "\t  1 &  2 &  3 &  4 &  5\\\\\n",
       "\t  6 &  7 &  8 &  9 & 10\\\\\n",
       "\t 11 & 12 & 13 & 14 & 15\\\\\n",
       "\\end{tabular}\n"
      ],
      "text/markdown": [
       "\n",
       "|  1 |  2 |  3 |  4 |  5 |\n",
       "|  6 |  7 |  8 |  9 | 10 |\n",
       "| 11 | 12 | 13 | 14 | 15 |\n",
       "\n"
      ],
      "text/plain": [
       "     [,1] [,2] [,3] [,4] [,5]\n",
       "[1,]  1    2    3    4    5  \n",
       "[2,]  6    7    8    9   10  \n",
       "[3,] 11   12   13   14   15  "
      ]
     },
     "metadata": {},
     "output_type": "display_data"
    }
   ],
   "source": [
    "mat[1:3,] # baris 1 sampai 3"
   ]
  },
  {
   "cell_type": "code",
   "execution_count": 134,
   "metadata": {},
   "outputs": [
    {
     "data": {
      "text/html": [
       "<table>\n",
       "<tbody>\n",
       "\t<tr><td> 4</td><td> 5</td></tr>\n",
       "\t<tr><td> 9</td><td>10</td></tr>\n",
       "\t<tr><td>14</td><td>15</td></tr>\n",
       "\t<tr><td>19</td><td>20</td></tr>\n",
       "\t<tr><td>24</td><td>25</td></tr>\n",
       "</tbody>\n",
       "</table>\n"
      ],
      "text/latex": [
       "\\begin{tabular}{ll}\n",
       "\t  4 &  5\\\\\n",
       "\t  9 & 10\\\\\n",
       "\t 14 & 15\\\\\n",
       "\t 19 & 20\\\\\n",
       "\t 24 & 25\\\\\n",
       "\\end{tabular}\n"
      ],
      "text/markdown": [
       "\n",
       "|  4 |  5 |\n",
       "|  9 | 10 |\n",
       "| 14 | 15 |\n",
       "| 19 | 20 |\n",
       "| 24 | 25 |\n",
       "\n"
      ],
      "text/plain": [
       "     [,1] [,2]\n",
       "[1,]  4    5  \n",
       "[2,]  9   10  \n",
       "[3,] 14   15  \n",
       "[4,] 19   20  \n",
       "[5,] 24   25  "
      ]
     },
     "metadata": {},
     "output_type": "display_data"
    }
   ],
   "source": [
    "mat[,4:5] # kolom 4 hingga 5"
   ]
  },
  {
   "cell_type": "code",
   "execution_count": 135,
   "metadata": {},
   "outputs": [
    {
     "data": {
      "text/html": [
       "<table>\n",
       "<tbody>\n",
       "\t<tr><td>1</td><td>2</td><td>3</td></tr>\n",
       "\t<tr><td>6</td><td>7</td><td>8</td></tr>\n",
       "</tbody>\n",
       "</table>\n"
      ],
      "text/latex": [
       "\\begin{tabular}{lll}\n",
       "\t 1 & 2 & 3\\\\\n",
       "\t 6 & 7 & 8\\\\\n",
       "\\end{tabular}\n"
      ],
      "text/markdown": [
       "\n",
       "| 1 | 2 | 3 |\n",
       "| 6 | 7 | 8 |\n",
       "\n"
      ],
      "text/plain": [
       "     [,1] [,2] [,3]\n",
       "[1,] 1    2    3   \n",
       "[2,] 6    7    8   "
      ]
     },
     "metadata": {},
     "output_type": "display_data"
    }
   ],
   "source": [
    "mat[1:2, 1:3] # baris 1 sampai 2, kolom 1 sampai 3"
   ]
  },
  {
   "cell_type": "code",
   "execution_count": 136,
   "metadata": {},
   "outputs": [
    {
     "data": {
      "text/html": [
       "<table>\n",
       "<tbody>\n",
       "\t<tr><td> 1</td><td> 2</td><td> 3</td><td> 4</td><td> 5</td></tr>\n",
       "\t<tr><td> 6</td><td> 7</td><td> 8</td><td> 9</td><td>10</td></tr>\n",
       "\t<tr><td>11</td><td>12</td><td>13</td><td>14</td><td>15</td></tr>\n",
       "\t<tr><td>16</td><td>17</td><td>18</td><td>19</td><td>20</td></tr>\n",
       "\t<tr><td>21</td><td>22</td><td>23</td><td>24</td><td>25</td></tr>\n",
       "</tbody>\n",
       "</table>\n"
      ],
      "text/latex": [
       "\\begin{tabular}{lllll}\n",
       "\t  1 &  2 &  3 &  4 &  5\\\\\n",
       "\t  6 &  7 &  8 &  9 & 10\\\\\n",
       "\t 11 & 12 & 13 & 14 & 15\\\\\n",
       "\t 16 & 17 & 18 & 19 & 20\\\\\n",
       "\t 21 & 22 & 23 & 24 & 25\\\\\n",
       "\\end{tabular}\n"
      ],
      "text/markdown": [
       "\n",
       "|  1 |  2 |  3 |  4 |  5 |\n",
       "|  6 |  7 |  8 |  9 | 10 |\n",
       "| 11 | 12 | 13 | 14 | 15 |\n",
       "| 16 | 17 | 18 | 19 | 20 |\n",
       "| 21 | 22 | 23 | 24 | 25 |\n",
       "\n"
      ],
      "text/plain": [
       "     [,1] [,2] [,3] [,4] [,5]\n",
       "[1,]  1    2    3    4    5  \n",
       "[2,]  6    7    8    9   10  \n",
       "[3,] 11   12   13   14   15  \n",
       "[4,] 16   17   18   19   20  \n",
       "[5,] 21   22   23   24   25  "
      ]
     },
     "metadata": {},
     "output_type": "display_data"
    }
   ],
   "source": [
    "mat"
   ]
  },
  {
   "cell_type": "code",
   "execution_count": 137,
   "metadata": {},
   "outputs": [
    {
     "data": {
      "text/html": [
       "<table>\n",
       "<tbody>\n",
       "\t<tr><td>13</td><td>14</td><td>15</td></tr>\n",
       "\t<tr><td>18</td><td>19</td><td>20</td></tr>\n",
       "\t<tr><td>23</td><td>24</td><td>25</td></tr>\n",
       "</tbody>\n",
       "</table>\n"
      ],
      "text/latex": [
       "\\begin{tabular}{lll}\n",
       "\t 13 & 14 & 15\\\\\n",
       "\t 18 & 19 & 20\\\\\n",
       "\t 23 & 24 & 25\\\\\n",
       "\\end{tabular}\n"
      ],
      "text/markdown": [
       "\n",
       "| 13 | 14 | 15 |\n",
       "| 18 | 19 | 20 |\n",
       "| 23 | 24 | 25 |\n",
       "\n"
      ],
      "text/plain": [
       "     [,1] [,2] [,3]\n",
       "[1,] 13   14   15  \n",
       "[2,] 18   19   20  \n",
       "[3,] 23   24   25  "
      ]
     },
     "metadata": {},
     "output_type": "display_data"
    }
   ],
   "source": [
    "mat[3:5, 3:5]"
   ]
  },
  {
   "cell_type": "markdown",
   "metadata": {},
   "source": [
    "## Fungsi `factor`"
   ]
  },
  {
   "cell_type": "code",
   "execution_count": 138,
   "metadata": {},
   "outputs": [],
   "source": [
    "vek.warna <- c('merah', 'hijau', 'biru', 'merah', 'merah', 'hijau', 'biru')"
   ]
  },
  {
   "cell_type": "code",
   "execution_count": 139,
   "metadata": {},
   "outputs": [
    {
     "data": {
      "text/html": [
       "<ol class=list-inline>\n",
       "\t<li>'merah'</li>\n",
       "\t<li>'hijau'</li>\n",
       "\t<li>'biru'</li>\n",
       "\t<li>'merah'</li>\n",
       "\t<li>'merah'</li>\n",
       "\t<li>'hijau'</li>\n",
       "\t<li>'biru'</li>\n",
       "</ol>\n"
      ],
      "text/latex": [
       "\\begin{enumerate*}\n",
       "\\item 'merah'\n",
       "\\item 'hijau'\n",
       "\\item 'biru'\n",
       "\\item 'merah'\n",
       "\\item 'merah'\n",
       "\\item 'hijau'\n",
       "\\item 'biru'\n",
       "\\end{enumerate*}\n"
      ],
      "text/markdown": [
       "1. 'merah'\n",
       "2. 'hijau'\n",
       "3. 'biru'\n",
       "4. 'merah'\n",
       "5. 'merah'\n",
       "6. 'hijau'\n",
       "7. 'biru'\n",
       "\n",
       "\n"
      ],
      "text/plain": [
       "[1] \"merah\" \"hijau\" \"biru\"  \"merah\" \"merah\" \"hijau\" \"biru\" "
      ]
     },
     "metadata": {},
     "output_type": "display_data"
    }
   ],
   "source": [
    "vek.warna"
   ]
  },
  {
   "cell_type": "code",
   "execution_count": 140,
   "metadata": {},
   "outputs": [
    {
     "data": {
      "text/html": [
       "<ol class=list-inline>\n",
       "\t<li>merah</li>\n",
       "\t<li>hijau</li>\n",
       "\t<li>biru</li>\n",
       "\t<li>merah</li>\n",
       "\t<li>merah</li>\n",
       "\t<li>hijau</li>\n",
       "\t<li>biru</li>\n",
       "</ol>\n",
       "\n",
       "<details>\n",
       "\t<summary style=display:list-item;cursor:pointer>\n",
       "\t\t<strong>Levels</strong>:\n",
       "\t</summary>\n",
       "\t<ol class=list-inline>\n",
       "\t\t<li>'merah'</li>\n",
       "\t\t<li>'hijau'</li>\n",
       "\t\t<li>'biru'</li>\n",
       "\t</ol>\n",
       "</details>"
      ],
      "text/latex": [
       "\\begin{enumerate*}\n",
       "\\item merah\n",
       "\\item hijau\n",
       "\\item biru\n",
       "\\item merah\n",
       "\\item merah\n",
       "\\item hijau\n",
       "\\item biru\n",
       "\\end{enumerate*}\n",
       "\n",
       "\\emph{Levels}: \\begin{enumerate*}\n",
       "\\item 'merah'\n",
       "\\item 'hijau'\n",
       "\\item 'biru'\n",
       "\\end{enumerate*}\n"
      ],
      "text/markdown": [
       "1. merah\n",
       "2. hijau\n",
       "3. biru\n",
       "4. merah\n",
       "5. merah\n",
       "6. hijau\n",
       "7. biru\n",
       "\n",
       "\n",
       "\n",
       "**Levels**: 1. 'merah'\n",
       "2. 'hijau'\n",
       "3. 'biru'\n",
       "\n",
       "\n"
      ],
      "text/plain": [
       "[1] merah hijau biru  merah merah hijau biru \n",
       "Levels: merah < hijau < biru"
      ]
     },
     "metadata": {},
     "output_type": "display_data"
    }
   ],
   "source": [
    "fact.warna <- factor(vek.warna, ordered=T, levels=c('merah', 'hijau', 'biru'))\n",
    "fact.warna"
   ]
  },
  {
   "cell_type": "code",
   "execution_count": 141,
   "metadata": {},
   "outputs": [
    {
     "data": {
      "text/html": [
       "<dl class=dl-horizontal>\n",
       "\t<dt>merah</dt>\n",
       "\t\t<dd>3</dd>\n",
       "\t<dt>hijau</dt>\n",
       "\t\t<dd>2</dd>\n",
       "\t<dt>biru</dt>\n",
       "\t\t<dd>2</dd>\n",
       "</dl>\n"
      ],
      "text/latex": [
       "\\begin{description*}\n",
       "\\item[merah] 3\n",
       "\\item[hijau] 2\n",
       "\\item[biru] 2\n",
       "\\end{description*}\n"
      ],
      "text/markdown": [
       "merah\n",
       ":   3hijau\n",
       ":   2biru\n",
       ":   2\n",
       "\n"
      ],
      "text/plain": [
       "merah hijau  biru \n",
       "    3     2     2 "
      ]
     },
     "metadata": {},
     "output_type": "display_data"
    }
   ],
   "source": [
    "summary(fact.warna)"
   ]
  },
  {
   "cell_type": "code",
   "execution_count": 142,
   "metadata": {},
   "outputs": [
    {
     "data": {
      "text/plain": [
       "   Length     Class      Mode \n",
       "        7 character character "
      ]
     },
     "metadata": {},
     "output_type": "display_data"
    }
   ],
   "source": [
    "summary(vek.warna)"
   ]
  },
  {
   "cell_type": "markdown",
   "metadata": {},
   "source": [
    "# Data Frame"
   ]
  },
  {
   "cell_type": "markdown",
   "metadata": {},
   "source": [
    "## Pengenalan"
   ]
  },
  {
   "cell_type": "markdown",
   "metadata": {},
   "source": [
    "Kita banyak menggunakan data frame di dalam kegiatan analisis data, karena matriks hanya mampu menampung tipe data yang seragam."
   ]
  },
  {
   "cell_type": "code",
   "execution_count": 143,
   "metadata": {},
   "outputs": [
    {
     "data": {
      "text/html": [
       "<table>\n",
       "<thead><tr><th></th><th scope=col>Population</th><th scope=col>Income</th><th scope=col>Illiteracy</th><th scope=col>Life Exp</th><th scope=col>Murder</th><th scope=col>HS Grad</th><th scope=col>Frost</th><th scope=col>Area</th></tr></thead>\n",
       "<tbody>\n",
       "\t<tr><th scope=row>Alabama</th><td> 3615 </td><td>3624  </td><td>2.1   </td><td>69.05 </td><td>15.1  </td><td>41.3  </td><td> 20   </td><td> 50708</td></tr>\n",
       "\t<tr><th scope=row>Alaska</th><td>  365 </td><td>6315  </td><td>1.5   </td><td>69.31 </td><td>11.3  </td><td>66.7  </td><td>152   </td><td>566432</td></tr>\n",
       "\t<tr><th scope=row>Arizona</th><td> 2212 </td><td>4530  </td><td>1.8   </td><td>70.55 </td><td> 7.8  </td><td>58.1  </td><td> 15   </td><td>113417</td></tr>\n",
       "\t<tr><th scope=row>Arkansas</th><td> 2110 </td><td>3378  </td><td>1.9   </td><td>70.66 </td><td>10.1  </td><td>39.9  </td><td> 65   </td><td> 51945</td></tr>\n",
       "\t<tr><th scope=row>California</th><td>21198 </td><td>5114  </td><td>1.1   </td><td>71.71 </td><td>10.3  </td><td>62.6  </td><td> 20   </td><td>156361</td></tr>\n",
       "\t<tr><th scope=row>Colorado</th><td> 2541 </td><td>4884  </td><td>0.7   </td><td>72.06 </td><td> 6.8  </td><td>63.9  </td><td>166   </td><td>103766</td></tr>\n",
       "\t<tr><th scope=row>Connecticut</th><td> 3100 </td><td>5348  </td><td>1.1   </td><td>72.48 </td><td> 3.1  </td><td>56.0  </td><td>139   </td><td>  4862</td></tr>\n",
       "\t<tr><th scope=row>Delaware</th><td>  579 </td><td>4809  </td><td>0.9   </td><td>70.06 </td><td> 6.2  </td><td>54.6  </td><td>103   </td><td>  1982</td></tr>\n",
       "\t<tr><th scope=row>Florida</th><td> 8277 </td><td>4815  </td><td>1.3   </td><td>70.66 </td><td>10.7  </td><td>52.6  </td><td> 11   </td><td> 54090</td></tr>\n",
       "\t<tr><th scope=row>Georgia</th><td> 4931 </td><td>4091  </td><td>2.0   </td><td>68.54 </td><td>13.9  </td><td>40.6  </td><td> 60   </td><td> 58073</td></tr>\n",
       "\t<tr><th scope=row>Hawaii</th><td>  868 </td><td>4963  </td><td>1.9   </td><td>73.60 </td><td> 6.2  </td><td>61.9  </td><td>  0   </td><td>  6425</td></tr>\n",
       "\t<tr><th scope=row>Idaho</th><td>  813 </td><td>4119  </td><td>0.6   </td><td>71.87 </td><td> 5.3  </td><td>59.5  </td><td>126   </td><td> 82677</td></tr>\n",
       "\t<tr><th scope=row>Illinois</th><td>11197 </td><td>5107  </td><td>0.9   </td><td>70.14 </td><td>10.3  </td><td>52.6  </td><td>127   </td><td> 55748</td></tr>\n",
       "\t<tr><th scope=row>Indiana</th><td> 5313 </td><td>4458  </td><td>0.7   </td><td>70.88 </td><td> 7.1  </td><td>52.9  </td><td>122   </td><td> 36097</td></tr>\n",
       "\t<tr><th scope=row>Iowa</th><td> 2861 </td><td>4628  </td><td>0.5   </td><td>72.56 </td><td> 2.3  </td><td>59.0  </td><td>140   </td><td> 55941</td></tr>\n",
       "\t<tr><th scope=row>Kansas</th><td> 2280 </td><td>4669  </td><td>0.6   </td><td>72.58 </td><td> 4.5  </td><td>59.9  </td><td>114   </td><td> 81787</td></tr>\n",
       "\t<tr><th scope=row>Kentucky</th><td> 3387 </td><td>3712  </td><td>1.6   </td><td>70.10 </td><td>10.6  </td><td>38.5  </td><td> 95   </td><td> 39650</td></tr>\n",
       "\t<tr><th scope=row>Louisiana</th><td> 3806 </td><td>3545  </td><td>2.8   </td><td>68.76 </td><td>13.2  </td><td>42.2  </td><td> 12   </td><td> 44930</td></tr>\n",
       "\t<tr><th scope=row>Maine</th><td> 1058 </td><td>3694  </td><td>0.7   </td><td>70.39 </td><td> 2.7  </td><td>54.7  </td><td>161   </td><td> 30920</td></tr>\n",
       "\t<tr><th scope=row>Maryland</th><td> 4122 </td><td>5299  </td><td>0.9   </td><td>70.22 </td><td> 8.5  </td><td>52.3  </td><td>101   </td><td>  9891</td></tr>\n",
       "\t<tr><th scope=row>Massachusetts</th><td> 5814 </td><td>4755  </td><td>1.1   </td><td>71.83 </td><td> 3.3  </td><td>58.5  </td><td>103   </td><td>  7826</td></tr>\n",
       "\t<tr><th scope=row>Michigan</th><td> 9111 </td><td>4751  </td><td>0.9   </td><td>70.63 </td><td>11.1  </td><td>52.8  </td><td>125   </td><td> 56817</td></tr>\n",
       "\t<tr><th scope=row>Minnesota</th><td> 3921 </td><td>4675  </td><td>0.6   </td><td>72.96 </td><td> 2.3  </td><td>57.6  </td><td>160   </td><td> 79289</td></tr>\n",
       "\t<tr><th scope=row>Mississippi</th><td> 2341 </td><td>3098  </td><td>2.4   </td><td>68.09 </td><td>12.5  </td><td>41.0  </td><td> 50   </td><td> 47296</td></tr>\n",
       "\t<tr><th scope=row>Missouri</th><td> 4767 </td><td>4254  </td><td>0.8   </td><td>70.69 </td><td> 9.3  </td><td>48.8  </td><td>108   </td><td> 68995</td></tr>\n",
       "\t<tr><th scope=row>Montana</th><td>  746 </td><td>4347  </td><td>0.6   </td><td>70.56 </td><td> 5.0  </td><td>59.2  </td><td>155   </td><td>145587</td></tr>\n",
       "\t<tr><th scope=row>Nebraska</th><td> 1544 </td><td>4508  </td><td>0.6   </td><td>72.60 </td><td> 2.9  </td><td>59.3  </td><td>139   </td><td> 76483</td></tr>\n",
       "\t<tr><th scope=row>Nevada</th><td>  590 </td><td>5149  </td><td>0.5   </td><td>69.03 </td><td>11.5  </td><td>65.2  </td><td>188   </td><td>109889</td></tr>\n",
       "\t<tr><th scope=row>New Hampshire</th><td>  812 </td><td>4281  </td><td>0.7   </td><td>71.23 </td><td> 3.3  </td><td>57.6  </td><td>174   </td><td>  9027</td></tr>\n",
       "\t<tr><th scope=row>New Jersey</th><td> 7333 </td><td>5237  </td><td>1.1   </td><td>70.93 </td><td> 5.2  </td><td>52.5  </td><td>115   </td><td>  7521</td></tr>\n",
       "\t<tr><th scope=row>New Mexico</th><td> 1144 </td><td>3601  </td><td>2.2   </td><td>70.32 </td><td> 9.7  </td><td>55.2  </td><td>120   </td><td>121412</td></tr>\n",
       "\t<tr><th scope=row>New York</th><td>18076 </td><td>4903  </td><td>1.4   </td><td>70.55 </td><td>10.9  </td><td>52.7  </td><td> 82   </td><td> 47831</td></tr>\n",
       "\t<tr><th scope=row>North Carolina</th><td> 5441 </td><td>3875  </td><td>1.8   </td><td>69.21 </td><td>11.1  </td><td>38.5  </td><td> 80   </td><td> 48798</td></tr>\n",
       "\t<tr><th scope=row>North Dakota</th><td>  637 </td><td>5087  </td><td>0.8   </td><td>72.78 </td><td> 1.4  </td><td>50.3  </td><td>186   </td><td> 69273</td></tr>\n",
       "\t<tr><th scope=row>Ohio</th><td>10735 </td><td>4561  </td><td>0.8   </td><td>70.82 </td><td> 7.4  </td><td>53.2  </td><td>124   </td><td> 40975</td></tr>\n",
       "\t<tr><th scope=row>Oklahoma</th><td> 2715 </td><td>3983  </td><td>1.1   </td><td>71.42 </td><td> 6.4  </td><td>51.6  </td><td> 82   </td><td> 68782</td></tr>\n",
       "\t<tr><th scope=row>Oregon</th><td> 2284 </td><td>4660  </td><td>0.6   </td><td>72.13 </td><td> 4.2  </td><td>60.0  </td><td> 44   </td><td> 96184</td></tr>\n",
       "\t<tr><th scope=row>Pennsylvania</th><td>11860 </td><td>4449  </td><td>1.0   </td><td>70.43 </td><td> 6.1  </td><td>50.2  </td><td>126   </td><td> 44966</td></tr>\n",
       "\t<tr><th scope=row>Rhode Island</th><td>  931 </td><td>4558  </td><td>1.3   </td><td>71.90 </td><td> 2.4  </td><td>46.4  </td><td>127   </td><td>  1049</td></tr>\n",
       "\t<tr><th scope=row>South Carolina</th><td> 2816 </td><td>3635  </td><td>2.3   </td><td>67.96 </td><td>11.6  </td><td>37.8  </td><td> 65   </td><td> 30225</td></tr>\n",
       "\t<tr><th scope=row>South Dakota</th><td>  681 </td><td>4167  </td><td>0.5   </td><td>72.08 </td><td> 1.7  </td><td>53.3  </td><td>172   </td><td> 75955</td></tr>\n",
       "\t<tr><th scope=row>Tennessee</th><td> 4173 </td><td>3821  </td><td>1.7   </td><td>70.11 </td><td>11.0  </td><td>41.8  </td><td> 70   </td><td> 41328</td></tr>\n",
       "\t<tr><th scope=row>Texas</th><td>12237 </td><td>4188  </td><td>2.2   </td><td>70.90 </td><td>12.2  </td><td>47.4  </td><td> 35   </td><td>262134</td></tr>\n",
       "\t<tr><th scope=row>Utah</th><td> 1203 </td><td>4022  </td><td>0.6   </td><td>72.90 </td><td> 4.5  </td><td>67.3  </td><td>137   </td><td> 82096</td></tr>\n",
       "\t<tr><th scope=row>Vermont</th><td>  472 </td><td>3907  </td><td>0.6   </td><td>71.64 </td><td> 5.5  </td><td>57.1  </td><td>168   </td><td>  9267</td></tr>\n",
       "\t<tr><th scope=row>Virginia</th><td> 4981 </td><td>4701  </td><td>1.4   </td><td>70.08 </td><td> 9.5  </td><td>47.8  </td><td> 85   </td><td> 39780</td></tr>\n",
       "\t<tr><th scope=row>Washington</th><td> 3559 </td><td>4864  </td><td>0.6   </td><td>71.72 </td><td> 4.3  </td><td>63.5  </td><td> 32   </td><td> 66570</td></tr>\n",
       "\t<tr><th scope=row>West Virginia</th><td> 1799 </td><td>3617  </td><td>1.4   </td><td>69.48 </td><td> 6.7  </td><td>41.6  </td><td>100   </td><td> 24070</td></tr>\n",
       "\t<tr><th scope=row>Wisconsin</th><td> 4589 </td><td>4468  </td><td>0.7   </td><td>72.48 </td><td> 3.0  </td><td>54.5  </td><td>149   </td><td> 54464</td></tr>\n",
       "\t<tr><th scope=row>Wyoming</th><td>  376 </td><td>4566  </td><td>0.6   </td><td>70.29 </td><td> 6.9  </td><td>62.9  </td><td>173   </td><td> 97203</td></tr>\n",
       "</tbody>\n",
       "</table>\n"
      ],
      "text/latex": [
       "\\begin{tabular}{r|llllllll}\n",
       "  & Population & Income & Illiteracy & Life Exp & Murder & HS Grad & Frost & Area\\\\\n",
       "\\hline\n",
       "\tAlabama &  3615  & 3624   & 2.1    & 69.05  & 15.1   & 41.3   &  20    &  50708\\\\\n",
       "\tAlaska &   365  & 6315   & 1.5    & 69.31  & 11.3   & 66.7   & 152    & 566432\\\\\n",
       "\tArizona &  2212  & 4530   & 1.8    & 70.55  &  7.8   & 58.1   &  15    & 113417\\\\\n",
       "\tArkansas &  2110  & 3378   & 1.9    & 70.66  & 10.1   & 39.9   &  65    &  51945\\\\\n",
       "\tCalifornia & 21198  & 5114   & 1.1    & 71.71  & 10.3   & 62.6   &  20    & 156361\\\\\n",
       "\tColorado &  2541  & 4884   & 0.7    & 72.06  &  6.8   & 63.9   & 166    & 103766\\\\\n",
       "\tConnecticut &  3100  & 5348   & 1.1    & 72.48  &  3.1   & 56.0   & 139    &   4862\\\\\n",
       "\tDelaware &   579  & 4809   & 0.9    & 70.06  &  6.2   & 54.6   & 103    &   1982\\\\\n",
       "\tFlorida &  8277  & 4815   & 1.3    & 70.66  & 10.7   & 52.6   &  11    &  54090\\\\\n",
       "\tGeorgia &  4931  & 4091   & 2.0    & 68.54  & 13.9   & 40.6   &  60    &  58073\\\\\n",
       "\tHawaii &   868  & 4963   & 1.9    & 73.60  &  6.2   & 61.9   &   0    &   6425\\\\\n",
       "\tIdaho &   813  & 4119   & 0.6    & 71.87  &  5.3   & 59.5   & 126    &  82677\\\\\n",
       "\tIllinois & 11197  & 5107   & 0.9    & 70.14  & 10.3   & 52.6   & 127    &  55748\\\\\n",
       "\tIndiana &  5313  & 4458   & 0.7    & 70.88  &  7.1   & 52.9   & 122    &  36097\\\\\n",
       "\tIowa &  2861  & 4628   & 0.5    & 72.56  &  2.3   & 59.0   & 140    &  55941\\\\\n",
       "\tKansas &  2280  & 4669   & 0.6    & 72.58  &  4.5   & 59.9   & 114    &  81787\\\\\n",
       "\tKentucky &  3387  & 3712   & 1.6    & 70.10  & 10.6   & 38.5   &  95    &  39650\\\\\n",
       "\tLouisiana &  3806  & 3545   & 2.8    & 68.76  & 13.2   & 42.2   &  12    &  44930\\\\\n",
       "\tMaine &  1058  & 3694   & 0.7    & 70.39  &  2.7   & 54.7   & 161    &  30920\\\\\n",
       "\tMaryland &  4122  & 5299   & 0.9    & 70.22  &  8.5   & 52.3   & 101    &   9891\\\\\n",
       "\tMassachusetts &  5814  & 4755   & 1.1    & 71.83  &  3.3   & 58.5   & 103    &   7826\\\\\n",
       "\tMichigan &  9111  & 4751   & 0.9    & 70.63  & 11.1   & 52.8   & 125    &  56817\\\\\n",
       "\tMinnesota &  3921  & 4675   & 0.6    & 72.96  &  2.3   & 57.6   & 160    &  79289\\\\\n",
       "\tMississippi &  2341  & 3098   & 2.4    & 68.09  & 12.5   & 41.0   &  50    &  47296\\\\\n",
       "\tMissouri &  4767  & 4254   & 0.8    & 70.69  &  9.3   & 48.8   & 108    &  68995\\\\\n",
       "\tMontana &   746  & 4347   & 0.6    & 70.56  &  5.0   & 59.2   & 155    & 145587\\\\\n",
       "\tNebraska &  1544  & 4508   & 0.6    & 72.60  &  2.9   & 59.3   & 139    &  76483\\\\\n",
       "\tNevada &   590  & 5149   & 0.5    & 69.03  & 11.5   & 65.2   & 188    & 109889\\\\\n",
       "\tNew Hampshire &   812  & 4281   & 0.7    & 71.23  &  3.3   & 57.6   & 174    &   9027\\\\\n",
       "\tNew Jersey &  7333  & 5237   & 1.1    & 70.93  &  5.2   & 52.5   & 115    &   7521\\\\\n",
       "\tNew Mexico &  1144  & 3601   & 2.2    & 70.32  &  9.7   & 55.2   & 120    & 121412\\\\\n",
       "\tNew York & 18076  & 4903   & 1.4    & 70.55  & 10.9   & 52.7   &  82    &  47831\\\\\n",
       "\tNorth Carolina &  5441  & 3875   & 1.8    & 69.21  & 11.1   & 38.5   &  80    &  48798\\\\\n",
       "\tNorth Dakota &   637  & 5087   & 0.8    & 72.78  &  1.4   & 50.3   & 186    &  69273\\\\\n",
       "\tOhio & 10735  & 4561   & 0.8    & 70.82  &  7.4   & 53.2   & 124    &  40975\\\\\n",
       "\tOklahoma &  2715  & 3983   & 1.1    & 71.42  &  6.4   & 51.6   &  82    &  68782\\\\\n",
       "\tOregon &  2284  & 4660   & 0.6    & 72.13  &  4.2   & 60.0   &  44    &  96184\\\\\n",
       "\tPennsylvania & 11860  & 4449   & 1.0    & 70.43  &  6.1   & 50.2   & 126    &  44966\\\\\n",
       "\tRhode Island &   931  & 4558   & 1.3    & 71.90  &  2.4   & 46.4   & 127    &   1049\\\\\n",
       "\tSouth Carolina &  2816  & 3635   & 2.3    & 67.96  & 11.6   & 37.8   &  65    &  30225\\\\\n",
       "\tSouth Dakota &   681  & 4167   & 0.5    & 72.08  &  1.7   & 53.3   & 172    &  75955\\\\\n",
       "\tTennessee &  4173  & 3821   & 1.7    & 70.11  & 11.0   & 41.8   &  70    &  41328\\\\\n",
       "\tTexas & 12237  & 4188   & 2.2    & 70.90  & 12.2   & 47.4   &  35    & 262134\\\\\n",
       "\tUtah &  1203  & 4022   & 0.6    & 72.90  &  4.5   & 67.3   & 137    &  82096\\\\\n",
       "\tVermont &   472  & 3907   & 0.6    & 71.64  &  5.5   & 57.1   & 168    &   9267\\\\\n",
       "\tVirginia &  4981  & 4701   & 1.4    & 70.08  &  9.5   & 47.8   &  85    &  39780\\\\\n",
       "\tWashington &  3559  & 4864   & 0.6    & 71.72  &  4.3   & 63.5   &  32    &  66570\\\\\n",
       "\tWest Virginia &  1799  & 3617   & 1.4    & 69.48  &  6.7   & 41.6   & 100    &  24070\\\\\n",
       "\tWisconsin &  4589  & 4468   & 0.7    & 72.48  &  3.0   & 54.5   & 149    &  54464\\\\\n",
       "\tWyoming &   376  & 4566   & 0.6    & 70.29  &  6.9   & 62.9   & 173    &  97203\\\\\n",
       "\\end{tabular}\n"
      ],
      "text/markdown": [
       "\n",
       "| <!--/--> | Population | Income | Illiteracy | Life Exp | Murder | HS Grad | Frost | Area |\n",
       "|---|---|---|---|---|---|---|---|---|\n",
       "| Alabama |  3615  | 3624   | 2.1    | 69.05  | 15.1   | 41.3   |  20    |  50708 |\n",
       "| Alaska |   365  | 6315   | 1.5    | 69.31  | 11.3   | 66.7   | 152    | 566432 |\n",
       "| Arizona |  2212  | 4530   | 1.8    | 70.55  |  7.8   | 58.1   |  15    | 113417 |\n",
       "| Arkansas |  2110  | 3378   | 1.9    | 70.66  | 10.1   | 39.9   |  65    |  51945 |\n",
       "| California | 21198  | 5114   | 1.1    | 71.71  | 10.3   | 62.6   |  20    | 156361 |\n",
       "| Colorado |  2541  | 4884   | 0.7    | 72.06  |  6.8   | 63.9   | 166    | 103766 |\n",
       "| Connecticut |  3100  | 5348   | 1.1    | 72.48  |  3.1   | 56.0   | 139    |   4862 |\n",
       "| Delaware |   579  | 4809   | 0.9    | 70.06  |  6.2   | 54.6   | 103    |   1982 |\n",
       "| Florida |  8277  | 4815   | 1.3    | 70.66  | 10.7   | 52.6   |  11    |  54090 |\n",
       "| Georgia |  4931  | 4091   | 2.0    | 68.54  | 13.9   | 40.6   |  60    |  58073 |\n",
       "| Hawaii |   868  | 4963   | 1.9    | 73.60  |  6.2   | 61.9   |   0    |   6425 |\n",
       "| Idaho |   813  | 4119   | 0.6    | 71.87  |  5.3   | 59.5   | 126    |  82677 |\n",
       "| Illinois | 11197  | 5107   | 0.9    | 70.14  | 10.3   | 52.6   | 127    |  55748 |\n",
       "| Indiana |  5313  | 4458   | 0.7    | 70.88  |  7.1   | 52.9   | 122    |  36097 |\n",
       "| Iowa |  2861  | 4628   | 0.5    | 72.56  |  2.3   | 59.0   | 140    |  55941 |\n",
       "| Kansas |  2280  | 4669   | 0.6    | 72.58  |  4.5   | 59.9   | 114    |  81787 |\n",
       "| Kentucky |  3387  | 3712   | 1.6    | 70.10  | 10.6   | 38.5   |  95    |  39650 |\n",
       "| Louisiana |  3806  | 3545   | 2.8    | 68.76  | 13.2   | 42.2   |  12    |  44930 |\n",
       "| Maine |  1058  | 3694   | 0.7    | 70.39  |  2.7   | 54.7   | 161    |  30920 |\n",
       "| Maryland |  4122  | 5299   | 0.9    | 70.22  |  8.5   | 52.3   | 101    |   9891 |\n",
       "| Massachusetts |  5814  | 4755   | 1.1    | 71.83  |  3.3   | 58.5   | 103    |   7826 |\n",
       "| Michigan |  9111  | 4751   | 0.9    | 70.63  | 11.1   | 52.8   | 125    |  56817 |\n",
       "| Minnesota |  3921  | 4675   | 0.6    | 72.96  |  2.3   | 57.6   | 160    |  79289 |\n",
       "| Mississippi |  2341  | 3098   | 2.4    | 68.09  | 12.5   | 41.0   |  50    |  47296 |\n",
       "| Missouri |  4767  | 4254   | 0.8    | 70.69  |  9.3   | 48.8   | 108    |  68995 |\n",
       "| Montana |   746  | 4347   | 0.6    | 70.56  |  5.0   | 59.2   | 155    | 145587 |\n",
       "| Nebraska |  1544  | 4508   | 0.6    | 72.60  |  2.9   | 59.3   | 139    |  76483 |\n",
       "| Nevada |   590  | 5149   | 0.5    | 69.03  | 11.5   | 65.2   | 188    | 109889 |\n",
       "| New Hampshire |   812  | 4281   | 0.7    | 71.23  |  3.3   | 57.6   | 174    |   9027 |\n",
       "| New Jersey |  7333  | 5237   | 1.1    | 70.93  |  5.2   | 52.5   | 115    |   7521 |\n",
       "| New Mexico |  1144  | 3601   | 2.2    | 70.32  |  9.7   | 55.2   | 120    | 121412 |\n",
       "| New York | 18076  | 4903   | 1.4    | 70.55  | 10.9   | 52.7   |  82    |  47831 |\n",
       "| North Carolina |  5441  | 3875   | 1.8    | 69.21  | 11.1   | 38.5   |  80    |  48798 |\n",
       "| North Dakota |   637  | 5087   | 0.8    | 72.78  |  1.4   | 50.3   | 186    |  69273 |\n",
       "| Ohio | 10735  | 4561   | 0.8    | 70.82  |  7.4   | 53.2   | 124    |  40975 |\n",
       "| Oklahoma |  2715  | 3983   | 1.1    | 71.42  |  6.4   | 51.6   |  82    |  68782 |\n",
       "| Oregon |  2284  | 4660   | 0.6    | 72.13  |  4.2   | 60.0   |  44    |  96184 |\n",
       "| Pennsylvania | 11860  | 4449   | 1.0    | 70.43  |  6.1   | 50.2   | 126    |  44966 |\n",
       "| Rhode Island |   931  | 4558   | 1.3    | 71.90  |  2.4   | 46.4   | 127    |   1049 |\n",
       "| South Carolina |  2816  | 3635   | 2.3    | 67.96  | 11.6   | 37.8   |  65    |  30225 |\n",
       "| South Dakota |   681  | 4167   | 0.5    | 72.08  |  1.7   | 53.3   | 172    |  75955 |\n",
       "| Tennessee |  4173  | 3821   | 1.7    | 70.11  | 11.0   | 41.8   |  70    |  41328 |\n",
       "| Texas | 12237  | 4188   | 2.2    | 70.90  | 12.2   | 47.4   |  35    | 262134 |\n",
       "| Utah |  1203  | 4022   | 0.6    | 72.90  |  4.5   | 67.3   | 137    |  82096 |\n",
       "| Vermont |   472  | 3907   | 0.6    | 71.64  |  5.5   | 57.1   | 168    |   9267 |\n",
       "| Virginia |  4981  | 4701   | 1.4    | 70.08  |  9.5   | 47.8   |  85    |  39780 |\n",
       "| Washington |  3559  | 4864   | 0.6    | 71.72  |  4.3   | 63.5   |  32    |  66570 |\n",
       "| West Virginia |  1799  | 3617   | 1.4    | 69.48  |  6.7   | 41.6   | 100    |  24070 |\n",
       "| Wisconsin |  4589  | 4468   | 0.7    | 72.48  |  3.0   | 54.5   | 149    |  54464 |\n",
       "| Wyoming |   376  | 4566   | 0.6    | 70.29  |  6.9   | 62.9   | 173    |  97203 |\n",
       "\n"
      ],
      "text/plain": [
       "               Population Income Illiteracy Life Exp Murder HS Grad Frost\n",
       "Alabama         3615      3624   2.1        69.05    15.1   41.3     20  \n",
       "Alaska           365      6315   1.5        69.31    11.3   66.7    152  \n",
       "Arizona         2212      4530   1.8        70.55     7.8   58.1     15  \n",
       "Arkansas        2110      3378   1.9        70.66    10.1   39.9     65  \n",
       "California     21198      5114   1.1        71.71    10.3   62.6     20  \n",
       "Colorado        2541      4884   0.7        72.06     6.8   63.9    166  \n",
       "Connecticut     3100      5348   1.1        72.48     3.1   56.0    139  \n",
       "Delaware         579      4809   0.9        70.06     6.2   54.6    103  \n",
       "Florida         8277      4815   1.3        70.66    10.7   52.6     11  \n",
       "Georgia         4931      4091   2.0        68.54    13.9   40.6     60  \n",
       "Hawaii           868      4963   1.9        73.60     6.2   61.9      0  \n",
       "Idaho            813      4119   0.6        71.87     5.3   59.5    126  \n",
       "Illinois       11197      5107   0.9        70.14    10.3   52.6    127  \n",
       "Indiana         5313      4458   0.7        70.88     7.1   52.9    122  \n",
       "Iowa            2861      4628   0.5        72.56     2.3   59.0    140  \n",
       "Kansas          2280      4669   0.6        72.58     4.5   59.9    114  \n",
       "Kentucky        3387      3712   1.6        70.10    10.6   38.5     95  \n",
       "Louisiana       3806      3545   2.8        68.76    13.2   42.2     12  \n",
       "Maine           1058      3694   0.7        70.39     2.7   54.7    161  \n",
       "Maryland        4122      5299   0.9        70.22     8.5   52.3    101  \n",
       "Massachusetts   5814      4755   1.1        71.83     3.3   58.5    103  \n",
       "Michigan        9111      4751   0.9        70.63    11.1   52.8    125  \n",
       "Minnesota       3921      4675   0.6        72.96     2.3   57.6    160  \n",
       "Mississippi     2341      3098   2.4        68.09    12.5   41.0     50  \n",
       "Missouri        4767      4254   0.8        70.69     9.3   48.8    108  \n",
       "Montana          746      4347   0.6        70.56     5.0   59.2    155  \n",
       "Nebraska        1544      4508   0.6        72.60     2.9   59.3    139  \n",
       "Nevada           590      5149   0.5        69.03    11.5   65.2    188  \n",
       "New Hampshire    812      4281   0.7        71.23     3.3   57.6    174  \n",
       "New Jersey      7333      5237   1.1        70.93     5.2   52.5    115  \n",
       "New Mexico      1144      3601   2.2        70.32     9.7   55.2    120  \n",
       "New York       18076      4903   1.4        70.55    10.9   52.7     82  \n",
       "North Carolina  5441      3875   1.8        69.21    11.1   38.5     80  \n",
       "North Dakota     637      5087   0.8        72.78     1.4   50.3    186  \n",
       "Ohio           10735      4561   0.8        70.82     7.4   53.2    124  \n",
       "Oklahoma        2715      3983   1.1        71.42     6.4   51.6     82  \n",
       "Oregon          2284      4660   0.6        72.13     4.2   60.0     44  \n",
       "Pennsylvania   11860      4449   1.0        70.43     6.1   50.2    126  \n",
       "Rhode Island     931      4558   1.3        71.90     2.4   46.4    127  \n",
       "South Carolina  2816      3635   2.3        67.96    11.6   37.8     65  \n",
       "South Dakota     681      4167   0.5        72.08     1.7   53.3    172  \n",
       "Tennessee       4173      3821   1.7        70.11    11.0   41.8     70  \n",
       "Texas          12237      4188   2.2        70.90    12.2   47.4     35  \n",
       "Utah            1203      4022   0.6        72.90     4.5   67.3    137  \n",
       "Vermont          472      3907   0.6        71.64     5.5   57.1    168  \n",
       "Virginia        4981      4701   1.4        70.08     9.5   47.8     85  \n",
       "Washington      3559      4864   0.6        71.72     4.3   63.5     32  \n",
       "West Virginia   1799      3617   1.4        69.48     6.7   41.6    100  \n",
       "Wisconsin       4589      4468   0.7        72.48     3.0   54.5    149  \n",
       "Wyoming          376      4566   0.6        70.29     6.9   62.9    173  \n",
       "               Area  \n",
       "Alabama         50708\n",
       "Alaska         566432\n",
       "Arizona        113417\n",
       "Arkansas        51945\n",
       "California     156361\n",
       "Colorado       103766\n",
       "Connecticut      4862\n",
       "Delaware         1982\n",
       "Florida         54090\n",
       "Georgia         58073\n",
       "Hawaii           6425\n",
       "Idaho           82677\n",
       "Illinois        55748\n",
       "Indiana         36097\n",
       "Iowa            55941\n",
       "Kansas          81787\n",
       "Kentucky        39650\n",
       "Louisiana       44930\n",
       "Maine           30920\n",
       "Maryland         9891\n",
       "Massachusetts    7826\n",
       "Michigan        56817\n",
       "Minnesota       79289\n",
       "Mississippi     47296\n",
       "Missouri        68995\n",
       "Montana        145587\n",
       "Nebraska        76483\n",
       "Nevada         109889\n",
       "New Hampshire    9027\n",
       "New Jersey       7521\n",
       "New Mexico     121412\n",
       "New York        47831\n",
       "North Carolina  48798\n",
       "North Dakota    69273\n",
       "Ohio            40975\n",
       "Oklahoma        68782\n",
       "Oregon          96184\n",
       "Pennsylvania    44966\n",
       "Rhode Island     1049\n",
       "South Carolina  30225\n",
       "South Dakota    75955\n",
       "Tennessee       41328\n",
       "Texas          262134\n",
       "Utah            82096\n",
       "Vermont          9267\n",
       "Virginia        39780\n",
       "Washington      66570\n",
       "West Virginia   24070\n",
       "Wisconsin       54464\n",
       "Wyoming         97203"
      ]
     },
     "metadata": {},
     "output_type": "display_data"
    }
   ],
   "source": [
    "state.x77 # built-in df"
   ]
  },
  {
   "cell_type": "code",
   "execution_count": 144,
   "metadata": {},
   "outputs": [
    {
     "data": {
      "text/html": [
       "<table>\n",
       "<thead><tr><th></th><th scope=col>1940</th><th scope=col>1945</th><th scope=col>1950</th><th scope=col>1955</th><th scope=col>1960</th></tr></thead>\n",
       "<tbody>\n",
       "\t<tr><th scope=row>Food and Tobacco</th><td>22.200</td><td>44.500</td><td>59.60 </td><td>73.2  </td><td>86.80 </td></tr>\n",
       "\t<tr><th scope=row>Household Operation</th><td>10.500</td><td>15.500</td><td>29.00 </td><td>36.5  </td><td>46.20 </td></tr>\n",
       "\t<tr><th scope=row>Medical and Health</th><td> 3.530</td><td> 5.760</td><td> 9.71 </td><td>14.0  </td><td>21.10 </td></tr>\n",
       "\t<tr><th scope=row>Personal Care</th><td> 1.040</td><td> 1.980</td><td> 2.45 </td><td> 3.4  </td><td> 5.40 </td></tr>\n",
       "\t<tr><th scope=row>Private Education</th><td> 0.341</td><td> 0.974</td><td> 1.80 </td><td> 2.6  </td><td> 3.64 </td></tr>\n",
       "</tbody>\n",
       "</table>\n"
      ],
      "text/latex": [
       "\\begin{tabular}{r|lllll}\n",
       "  & 1940 & 1945 & 1950 & 1955 & 1960\\\\\n",
       "\\hline\n",
       "\tFood and Tobacco & 22.200 & 44.500 & 59.60  & 73.2   & 86.80 \\\\\n",
       "\tHousehold Operation & 10.500 & 15.500 & 29.00  & 36.5   & 46.20 \\\\\n",
       "\tMedical and Health &  3.530 &  5.760 &  9.71  & 14.0   & 21.10 \\\\\n",
       "\tPersonal Care &  1.040 &  1.980 &  2.45  &  3.4   &  5.40 \\\\\n",
       "\tPrivate Education &  0.341 &  0.974 &  1.80  &  2.6   &  3.64 \\\\\n",
       "\\end{tabular}\n"
      ],
      "text/markdown": [
       "\n",
       "| <!--/--> | 1940 | 1945 | 1950 | 1955 | 1960 |\n",
       "|---|---|---|---|---|---|\n",
       "| Food and Tobacco | 22.200 | 44.500 | 59.60  | 73.2   | 86.80  |\n",
       "| Household Operation | 10.500 | 15.500 | 29.00  | 36.5   | 46.20  |\n",
       "| Medical and Health |  3.530 |  5.760 |  9.71  | 14.0   | 21.10  |\n",
       "| Personal Care |  1.040 |  1.980 |  2.45  |  3.4   |  5.40  |\n",
       "| Private Education |  0.341 |  0.974 |  1.80  |  2.6   |  3.64  |\n",
       "\n"
      ],
      "text/plain": [
       "                    1940   1945   1950  1955 1960 \n",
       "Food and Tobacco    22.200 44.500 59.60 73.2 86.80\n",
       "Household Operation 10.500 15.500 29.00 36.5 46.20\n",
       "Medical and Health   3.530  5.760  9.71 14.0 21.10\n",
       "Personal Care        1.040  1.980  2.45  3.4  5.40\n",
       "Private Education    0.341  0.974  1.80  2.6  3.64"
      ]
     },
     "metadata": {},
     "output_type": "display_data"
    }
   ],
   "source": [
    "USPersonalExpenditure"
   ]
  },
  {
   "cell_type": "code",
   "execution_count": 145,
   "metadata": {},
   "outputs": [],
   "source": [
    "# Mengetahui daftar built-in df\n",
    "data()"
   ]
  },
  {
   "cell_type": "code",
   "execution_count": 146,
   "metadata": {},
   "outputs": [
    {
     "data": {
      "text/html": [
       "<table>\n",
       "<thead><tr><th></th><th scope=col>Population</th><th scope=col>Income</th><th scope=col>Illiteracy</th><th scope=col>Life Exp</th><th scope=col>Murder</th><th scope=col>HS Grad</th><th scope=col>Frost</th><th scope=col>Area</th></tr></thead>\n",
       "<tbody>\n",
       "\t<tr><th scope=row>Alabama</th><td> 3615 </td><td>3624  </td><td>2.1   </td><td>69.05 </td><td>15.1  </td><td>41.3  </td><td> 20   </td><td> 50708</td></tr>\n",
       "\t<tr><th scope=row>Alaska</th><td>  365 </td><td>6315  </td><td>1.5   </td><td>69.31 </td><td>11.3  </td><td>66.7  </td><td>152   </td><td>566432</td></tr>\n",
       "\t<tr><th scope=row>Arizona</th><td> 2212 </td><td>4530  </td><td>1.8   </td><td>70.55 </td><td> 7.8  </td><td>58.1  </td><td> 15   </td><td>113417</td></tr>\n",
       "\t<tr><th scope=row>Arkansas</th><td> 2110 </td><td>3378  </td><td>1.9   </td><td>70.66 </td><td>10.1  </td><td>39.9  </td><td> 65   </td><td> 51945</td></tr>\n",
       "\t<tr><th scope=row>California</th><td>21198 </td><td>5114  </td><td>1.1   </td><td>71.71 </td><td>10.3  </td><td>62.6  </td><td> 20   </td><td>156361</td></tr>\n",
       "\t<tr><th scope=row>Colorado</th><td> 2541 </td><td>4884  </td><td>0.7   </td><td>72.06 </td><td> 6.8  </td><td>63.9  </td><td>166   </td><td>103766</td></tr>\n",
       "</tbody>\n",
       "</table>\n"
      ],
      "text/latex": [
       "\\begin{tabular}{r|llllllll}\n",
       "  & Population & Income & Illiteracy & Life Exp & Murder & HS Grad & Frost & Area\\\\\n",
       "\\hline\n",
       "\tAlabama &  3615  & 3624   & 2.1    & 69.05  & 15.1   & 41.3   &  20    &  50708\\\\\n",
       "\tAlaska &   365  & 6315   & 1.5    & 69.31  & 11.3   & 66.7   & 152    & 566432\\\\\n",
       "\tArizona &  2212  & 4530   & 1.8    & 70.55  &  7.8   & 58.1   &  15    & 113417\\\\\n",
       "\tArkansas &  2110  & 3378   & 1.9    & 70.66  & 10.1   & 39.9   &  65    &  51945\\\\\n",
       "\tCalifornia & 21198  & 5114   & 1.1    & 71.71  & 10.3   & 62.6   &  20    & 156361\\\\\n",
       "\tColorado &  2541  & 4884   & 0.7    & 72.06  &  6.8   & 63.9   & 166    & 103766\\\\\n",
       "\\end{tabular}\n"
      ],
      "text/markdown": [
       "\n",
       "| <!--/--> | Population | Income | Illiteracy | Life Exp | Murder | HS Grad | Frost | Area |\n",
       "|---|---|---|---|---|---|---|---|---|\n",
       "| Alabama |  3615  | 3624   | 2.1    | 69.05  | 15.1   | 41.3   |  20    |  50708 |\n",
       "| Alaska |   365  | 6315   | 1.5    | 69.31  | 11.3   | 66.7   | 152    | 566432 |\n",
       "| Arizona |  2212  | 4530   | 1.8    | 70.55  |  7.8   | 58.1   |  15    | 113417 |\n",
       "| Arkansas |  2110  | 3378   | 1.9    | 70.66  | 10.1   | 39.9   |  65    |  51945 |\n",
       "| California | 21198  | 5114   | 1.1    | 71.71  | 10.3   | 62.6   |  20    | 156361 |\n",
       "| Colorado |  2541  | 4884   | 0.7    | 72.06  |  6.8   | 63.9   | 166    | 103766 |\n",
       "\n"
      ],
      "text/plain": [
       "           Population Income Illiteracy Life Exp Murder HS Grad Frost Area  \n",
       "Alabama     3615      3624   2.1        69.05    15.1   41.3     20    50708\n",
       "Alaska       365      6315   1.5        69.31    11.3   66.7    152   566432\n",
       "Arizona     2212      4530   1.8        70.55     7.8   58.1     15   113417\n",
       "Arkansas    2110      3378   1.9        70.66    10.1   39.9     65    51945\n",
       "California 21198      5114   1.1        71.71    10.3   62.6     20   156361\n",
       "Colorado    2541      4884   0.7        72.06     6.8   63.9    166   103766"
      ]
     },
     "metadata": {},
     "output_type": "display_data"
    }
   ],
   "source": [
    "head(state.x77) # 6 baris pertama"
   ]
  },
  {
   "cell_type": "code",
   "execution_count": 147,
   "metadata": {},
   "outputs": [
    {
     "data": {
      "text/html": [
       "<table>\n",
       "<thead><tr><th></th><th scope=col>Population</th><th scope=col>Income</th><th scope=col>Illiteracy</th><th scope=col>Life Exp</th><th scope=col>Murder</th><th scope=col>HS Grad</th><th scope=col>Frost</th><th scope=col>Area</th></tr></thead>\n",
       "<tbody>\n",
       "\t<tr><th scope=row>Vermont</th><td> 472 </td><td>3907 </td><td>0.6  </td><td>71.64</td><td>5.5  </td><td>57.1 </td><td>168  </td><td> 9267</td></tr>\n",
       "\t<tr><th scope=row>Virginia</th><td>4981 </td><td>4701 </td><td>1.4  </td><td>70.08</td><td>9.5  </td><td>47.8 </td><td> 85  </td><td>39780</td></tr>\n",
       "\t<tr><th scope=row>Washington</th><td>3559 </td><td>4864 </td><td>0.6  </td><td>71.72</td><td>4.3  </td><td>63.5 </td><td> 32  </td><td>66570</td></tr>\n",
       "\t<tr><th scope=row>West Virginia</th><td>1799 </td><td>3617 </td><td>1.4  </td><td>69.48</td><td>6.7  </td><td>41.6 </td><td>100  </td><td>24070</td></tr>\n",
       "\t<tr><th scope=row>Wisconsin</th><td>4589 </td><td>4468 </td><td>0.7  </td><td>72.48</td><td>3.0  </td><td>54.5 </td><td>149  </td><td>54464</td></tr>\n",
       "\t<tr><th scope=row>Wyoming</th><td> 376 </td><td>4566 </td><td>0.6  </td><td>70.29</td><td>6.9  </td><td>62.9 </td><td>173  </td><td>97203</td></tr>\n",
       "</tbody>\n",
       "</table>\n"
      ],
      "text/latex": [
       "\\begin{tabular}{r|llllllll}\n",
       "  & Population & Income & Illiteracy & Life Exp & Murder & HS Grad & Frost & Area\\\\\n",
       "\\hline\n",
       "\tVermont &  472  & 3907  & 0.6   & 71.64 & 5.5   & 57.1  & 168   &  9267\\\\\n",
       "\tVirginia & 4981  & 4701  & 1.4   & 70.08 & 9.5   & 47.8  &  85   & 39780\\\\\n",
       "\tWashington & 3559  & 4864  & 0.6   & 71.72 & 4.3   & 63.5  &  32   & 66570\\\\\n",
       "\tWest Virginia & 1799  & 3617  & 1.4   & 69.48 & 6.7   & 41.6  & 100   & 24070\\\\\n",
       "\tWisconsin & 4589  & 4468  & 0.7   & 72.48 & 3.0   & 54.5  & 149   & 54464\\\\\n",
       "\tWyoming &  376  & 4566  & 0.6   & 70.29 & 6.9   & 62.9  & 173   & 97203\\\\\n",
       "\\end{tabular}\n"
      ],
      "text/markdown": [
       "\n",
       "| <!--/--> | Population | Income | Illiteracy | Life Exp | Murder | HS Grad | Frost | Area |\n",
       "|---|---|---|---|---|---|---|---|---|\n",
       "| Vermont |  472  | 3907  | 0.6   | 71.64 | 5.5   | 57.1  | 168   |  9267 |\n",
       "| Virginia | 4981  | 4701  | 1.4   | 70.08 | 9.5   | 47.8  |  85   | 39780 |\n",
       "| Washington | 3559  | 4864  | 0.6   | 71.72 | 4.3   | 63.5  |  32   | 66570 |\n",
       "| West Virginia | 1799  | 3617  | 1.4   | 69.48 | 6.7   | 41.6  | 100   | 24070 |\n",
       "| Wisconsin | 4589  | 4468  | 0.7   | 72.48 | 3.0   | 54.5  | 149   | 54464 |\n",
       "| Wyoming |  376  | 4566  | 0.6   | 70.29 | 6.9   | 62.9  | 173   | 97203 |\n",
       "\n"
      ],
      "text/plain": [
       "              Population Income Illiteracy Life Exp Murder HS Grad Frost Area \n",
       "Vermont        472       3907   0.6        71.64    5.5    57.1    168    9267\n",
       "Virginia      4981       4701   1.4        70.08    9.5    47.8     85   39780\n",
       "Washington    3559       4864   0.6        71.72    4.3    63.5     32   66570\n",
       "West Virginia 1799       3617   1.4        69.48    6.7    41.6    100   24070\n",
       "Wisconsin     4589       4468   0.7        72.48    3.0    54.5    149   54464\n",
       "Wyoming        376       4566   0.6        70.29    6.9    62.9    173   97203"
      ]
     },
     "metadata": {},
     "output_type": "display_data"
    }
   ],
   "source": [
    "tail(state.x77) # 6 baris terakhir"
   ]
  },
  {
   "cell_type": "code",
   "execution_count": 148,
   "metadata": {},
   "outputs": [
    {
     "name": "stdout",
     "output_type": "stream",
     "text": [
      " num [1:50, 1:8] 3615 365 2212 2110 21198 ...\n",
      " - attr(*, \"dimnames\")=List of 2\n",
      "  ..$ : chr [1:50] \"Alabama\" \"Alaska\" \"Arizona\" \"Arkansas\" ...\n",
      "  ..$ : chr [1:8] \"Population\" \"Income\" \"Illiteracy\" \"Life Exp\" ...\n"
     ]
    }
   ],
   "source": [
    "str(state.x77) # struktur dari df"
   ]
  },
  {
   "cell_type": "code",
   "execution_count": 149,
   "metadata": {},
   "outputs": [
    {
     "data": {
      "text/plain": [
       "   Population        Income       Illiteracy       Life Exp    \n",
       " Min.   :  365   Min.   :3098   Min.   :0.500   Min.   :67.96  \n",
       " 1st Qu.: 1080   1st Qu.:3993   1st Qu.:0.625   1st Qu.:70.12  \n",
       " Median : 2838   Median :4519   Median :0.950   Median :70.67  \n",
       " Mean   : 4246   Mean   :4436   Mean   :1.170   Mean   :70.88  \n",
       " 3rd Qu.: 4968   3rd Qu.:4814   3rd Qu.:1.575   3rd Qu.:71.89  \n",
       " Max.   :21198   Max.   :6315   Max.   :2.800   Max.   :73.60  \n",
       "     Murder          HS Grad          Frost             Area       \n",
       " Min.   : 1.400   Min.   :37.80   Min.   :  0.00   Min.   :  1049  \n",
       " 1st Qu.: 4.350   1st Qu.:48.05   1st Qu.: 66.25   1st Qu.: 36985  \n",
       " Median : 6.850   Median :53.25   Median :114.50   Median : 54277  \n",
       " Mean   : 7.378   Mean   :53.11   Mean   :104.46   Mean   : 70736  \n",
       " 3rd Qu.:10.675   3rd Qu.:59.15   3rd Qu.:139.75   3rd Qu.: 81162  \n",
       " Max.   :15.100   Max.   :67.30   Max.   :188.00   Max.   :566432  "
      ]
     },
     "metadata": {},
     "output_type": "display_data"
    }
   ],
   "source": [
    "summary(state.x77) # sari statistik dari df berdasarkan kolom"
   ]
  },
  {
   "cell_type": "code",
   "execution_count": 150,
   "metadata": {},
   "outputs": [],
   "source": [
    "# mendefinisikan df\n",
    "nama <- c('Agus', 'Sugio', 'Bayu', 'Atmo', 'Roy')\n",
    "umur <- c(42,35,37,28,27)\n",
    "kawin <- c(F,F,T,F,T)"
   ]
  },
  {
   "cell_type": "code",
   "execution_count": 151,
   "metadata": {},
   "outputs": [
    {
     "data": {
      "text/html": [
       "<table>\n",
       "<thead><tr><th scope=col>nama</th><th scope=col>umur</th><th scope=col>kawin</th></tr></thead>\n",
       "<tbody>\n",
       "\t<tr><td>Agus </td><td>42   </td><td>FALSE</td></tr>\n",
       "\t<tr><td>Sugio</td><td>35   </td><td>FALSE</td></tr>\n",
       "\t<tr><td>Bayu </td><td>37   </td><td> TRUE</td></tr>\n",
       "\t<tr><td>Atmo </td><td>28   </td><td>FALSE</td></tr>\n",
       "\t<tr><td>Roy  </td><td>27   </td><td> TRUE</td></tr>\n",
       "</tbody>\n",
       "</table>\n"
      ],
      "text/latex": [
       "\\begin{tabular}{r|lll}\n",
       " nama & umur & kawin\\\\\n",
       "\\hline\n",
       "\t Agus  & 42    & FALSE\\\\\n",
       "\t Sugio & 35    & FALSE\\\\\n",
       "\t Bayu  & 37    &  TRUE\\\\\n",
       "\t Atmo  & 28    & FALSE\\\\\n",
       "\t Roy   & 27    &  TRUE\\\\\n",
       "\\end{tabular}\n"
      ],
      "text/markdown": [
       "\n",
       "| nama | umur | kawin |\n",
       "|---|---|---|\n",
       "| Agus  | 42    | FALSE |\n",
       "| Sugio | 35    | FALSE |\n",
       "| Bayu  | 37    |  TRUE |\n",
       "| Atmo  | 28    | FALSE |\n",
       "| Roy   | 27    |  TRUE |\n",
       "\n"
      ],
      "text/plain": [
       "  nama  umur kawin\n",
       "1 Agus  42   FALSE\n",
       "2 Sugio 35   FALSE\n",
       "3 Bayu  37    TRUE\n",
       "4 Atmo  28   FALSE\n",
       "5 Roy   27    TRUE"
      ]
     },
     "metadata": {},
     "output_type": "display_data"
    }
   ],
   "source": [
    "data.frame(nama, umur, kawin)"
   ]
  },
  {
   "cell_type": "code",
   "execution_count": 152,
   "metadata": {},
   "outputs": [
    {
     "data": {
      "text/html": [
       "<table>\n",
       "<thead><tr><th scope=col>nama</th><th scope=col>umur</th><th scope=col>kawin</th></tr></thead>\n",
       "<tbody>\n",
       "\t<tr><td>Agus </td><td>42   </td><td>FALSE</td></tr>\n",
       "\t<tr><td>Sugio</td><td>35   </td><td>FALSE</td></tr>\n",
       "\t<tr><td>Bayu </td><td>37   </td><td> TRUE</td></tr>\n",
       "\t<tr><td>Atmo </td><td>28   </td><td>FALSE</td></tr>\n",
       "\t<tr><td>Roy  </td><td>27   </td><td> TRUE</td></tr>\n",
       "</tbody>\n",
       "</table>\n"
      ],
      "text/latex": [
       "\\begin{tabular}{r|lll}\n",
       " nama & umur & kawin\\\\\n",
       "\\hline\n",
       "\t Agus  & 42    & FALSE\\\\\n",
       "\t Sugio & 35    & FALSE\\\\\n",
       "\t Bayu  & 37    &  TRUE\\\\\n",
       "\t Atmo  & 28    & FALSE\\\\\n",
       "\t Roy   & 27    &  TRUE\\\\\n",
       "\\end{tabular}\n"
      ],
      "text/markdown": [
       "\n",
       "| nama | umur | kawin |\n",
       "|---|---|---|\n",
       "| Agus  | 42    | FALSE |\n",
       "| Sugio | 35    | FALSE |\n",
       "| Bayu  | 37    |  TRUE |\n",
       "| Atmo  | 28    | FALSE |\n",
       "| Roy   | 27    |  TRUE |\n",
       "\n"
      ],
      "text/plain": [
       "  nama  umur kawin\n",
       "1 Agus  42   FALSE\n",
       "2 Sugio 35   FALSE\n",
       "3 Bayu  37    TRUE\n",
       "4 Atmo  28   FALSE\n",
       "5 Roy   27    TRUE"
      ]
     },
     "metadata": {},
     "output_type": "display_data"
    }
   ],
   "source": [
    "df <- data.frame(nama, umur, kawin)\n",
    "df"
   ]
  },
  {
   "cell_type": "code",
   "execution_count": 153,
   "metadata": {},
   "outputs": [
    {
     "name": "stdout",
     "output_type": "stream",
     "text": [
      "'data.frame':\t5 obs. of  3 variables:\n",
      " $ nama : Factor w/ 5 levels \"Agus\",\"Atmo\",..: 1 5 3 2 4\n",
      " $ umur : num  42 35 37 28 27\n",
      " $ kawin: logi  FALSE FALSE TRUE FALSE TRUE\n"
     ]
    }
   ],
   "source": [
    "str(df)"
   ]
  },
  {
   "cell_type": "code",
   "execution_count": 154,
   "metadata": {},
   "outputs": [
    {
     "data": {
      "text/plain": [
       "    nama        umur        kawin        \n",
       " Agus :1   Min.   :27.0   Mode :logical  \n",
       " Atmo :1   1st Qu.:28.0   FALSE:3        \n",
       " Bayu :1   Median :35.0   TRUE :2        \n",
       " Roy  :1   Mean   :33.8                  \n",
       " Sugio:1   3rd Qu.:37.0                  \n",
       "           Max.   :42.0                  "
      ]
     },
     "metadata": {},
     "output_type": "display_data"
    }
   ],
   "source": [
    "summary(df)"
   ]
  },
  {
   "cell_type": "markdown",
   "metadata": {},
   "source": [
    "## Seleksi dan pengindeksan Data Frame"
   ]
  },
  {
   "cell_type": "code",
   "execution_count": 155,
   "metadata": {},
   "outputs": [
    {
     "data": {
      "text/html": [
       "<table>\n",
       "<thead><tr><th scope=col>nama</th><th scope=col>umur</th><th scope=col>kawin</th></tr></thead>\n",
       "<tbody>\n",
       "\t<tr><td>Agus </td><td>42   </td><td>FALSE</td></tr>\n",
       "\t<tr><td>Sugio</td><td>35   </td><td>FALSE</td></tr>\n",
       "\t<tr><td>Bayu </td><td>37   </td><td> TRUE</td></tr>\n",
       "\t<tr><td>Atmo </td><td>28   </td><td>FALSE</td></tr>\n",
       "\t<tr><td>Roy  </td><td>27   </td><td> TRUE</td></tr>\n",
       "</tbody>\n",
       "</table>\n"
      ],
      "text/latex": [
       "\\begin{tabular}{r|lll}\n",
       " nama & umur & kawin\\\\\n",
       "\\hline\n",
       "\t Agus  & 42    & FALSE\\\\\n",
       "\t Sugio & 35    & FALSE\\\\\n",
       "\t Bayu  & 37    &  TRUE\\\\\n",
       "\t Atmo  & 28    & FALSE\\\\\n",
       "\t Roy   & 27    &  TRUE\\\\\n",
       "\\end{tabular}\n"
      ],
      "text/markdown": [
       "\n",
       "| nama | umur | kawin |\n",
       "|---|---|---|\n",
       "| Agus  | 42    | FALSE |\n",
       "| Sugio | 35    | FALSE |\n",
       "| Bayu  | 37    |  TRUE |\n",
       "| Atmo  | 28    | FALSE |\n",
       "| Roy   | 27    |  TRUE |\n",
       "\n"
      ],
      "text/plain": [
       "  nama  umur kawin\n",
       "1 Agus  42   FALSE\n",
       "2 Sugio 35   FALSE\n",
       "3 Bayu  37    TRUE\n",
       "4 Atmo  28   FALSE\n",
       "5 Roy   27    TRUE"
      ]
     },
     "metadata": {},
     "output_type": "display_data"
    }
   ],
   "source": [
    "df"
   ]
  },
  {
   "cell_type": "code",
   "execution_count": 156,
   "metadata": {},
   "outputs": [
    {
     "data": {
      "text/html": [
       "<table>\n",
       "<thead><tr><th></th><th scope=col>nama</th><th scope=col>umur</th><th scope=col>kawin</th></tr></thead>\n",
       "<tbody>\n",
       "\t<tr><th scope=row>3</th><td>Bayu</td><td>37  </td><td>TRUE</td></tr>\n",
       "</tbody>\n",
       "</table>\n"
      ],
      "text/latex": [
       "\\begin{tabular}{r|lll}\n",
       "  & nama & umur & kawin\\\\\n",
       "\\hline\n",
       "\t3 & Bayu & 37   & TRUE\\\\\n",
       "\\end{tabular}\n"
      ],
      "text/markdown": [
       "\n",
       "| <!--/--> | nama | umur | kawin |\n",
       "|---|---|---|---|\n",
       "| 3 | Bayu | 37   | TRUE |\n",
       "\n"
      ],
      "text/plain": [
       "  nama umur kawin\n",
       "3 Bayu 37   TRUE "
      ]
     },
     "metadata": {},
     "output_type": "display_data"
    }
   ],
   "source": [
    "df[3, ] # ambil baris ketiga"
   ]
  },
  {
   "cell_type": "code",
   "execution_count": 157,
   "metadata": {},
   "outputs": [
    {
     "data": {
      "text/html": [
       "<ol class=list-inline>\n",
       "\t<li>Agus</li>\n",
       "\t<li>Sugio</li>\n",
       "\t<li>Bayu</li>\n",
       "\t<li>Atmo</li>\n",
       "\t<li>Roy</li>\n",
       "</ol>\n",
       "\n",
       "<details>\n",
       "\t<summary style=display:list-item;cursor:pointer>\n",
       "\t\t<strong>Levels</strong>:\n",
       "\t</summary>\n",
       "\t<ol class=list-inline>\n",
       "\t\t<li>'Agus'</li>\n",
       "\t\t<li>'Atmo'</li>\n",
       "\t\t<li>'Bayu'</li>\n",
       "\t\t<li>'Roy'</li>\n",
       "\t\t<li>'Sugio'</li>\n",
       "\t</ol>\n",
       "</details>"
      ],
      "text/latex": [
       "\\begin{enumerate*}\n",
       "\\item Agus\n",
       "\\item Sugio\n",
       "\\item Bayu\n",
       "\\item Atmo\n",
       "\\item Roy\n",
       "\\end{enumerate*}\n",
       "\n",
       "\\emph{Levels}: \\begin{enumerate*}\n",
       "\\item 'Agus'\n",
       "\\item 'Atmo'\n",
       "\\item 'Bayu'\n",
       "\\item 'Roy'\n",
       "\\item 'Sugio'\n",
       "\\end{enumerate*}\n"
      ],
      "text/markdown": [
       "1. Agus\n",
       "2. Sugio\n",
       "3. Bayu\n",
       "4. Atmo\n",
       "5. Roy\n",
       "\n",
       "\n",
       "\n",
       "**Levels**: 1. 'Agus'\n",
       "2. 'Atmo'\n",
       "3. 'Bayu'\n",
       "4. 'Roy'\n",
       "5. 'Sugio'\n",
       "\n",
       "\n"
      ],
      "text/plain": [
       "[1] Agus  Sugio Bayu  Atmo  Roy  \n",
       "Levels: Agus Atmo Bayu Roy Sugio"
      ]
     },
     "metadata": {},
     "output_type": "display_data"
    }
   ],
   "source": [
    "df[,1]"
   ]
  },
  {
   "cell_type": "code",
   "execution_count": 158,
   "metadata": {},
   "outputs": [
    {
     "data": {
      "text/html": [
       "<ol class=list-inline>\n",
       "\t<li>Agus</li>\n",
       "\t<li>Sugio</li>\n",
       "\t<li>Bayu</li>\n",
       "\t<li>Atmo</li>\n",
       "\t<li>Roy</li>\n",
       "</ol>\n",
       "\n",
       "<details>\n",
       "\t<summary style=display:list-item;cursor:pointer>\n",
       "\t\t<strong>Levels</strong>:\n",
       "\t</summary>\n",
       "\t<ol class=list-inline>\n",
       "\t\t<li>'Agus'</li>\n",
       "\t\t<li>'Atmo'</li>\n",
       "\t\t<li>'Bayu'</li>\n",
       "\t\t<li>'Roy'</li>\n",
       "\t\t<li>'Sugio'</li>\n",
       "\t</ol>\n",
       "</details>"
      ],
      "text/latex": [
       "\\begin{enumerate*}\n",
       "\\item Agus\n",
       "\\item Sugio\n",
       "\\item Bayu\n",
       "\\item Atmo\n",
       "\\item Roy\n",
       "\\end{enumerate*}\n",
       "\n",
       "\\emph{Levels}: \\begin{enumerate*}\n",
       "\\item 'Agus'\n",
       "\\item 'Atmo'\n",
       "\\item 'Bayu'\n",
       "\\item 'Roy'\n",
       "\\item 'Sugio'\n",
       "\\end{enumerate*}\n"
      ],
      "text/markdown": [
       "1. Agus\n",
       "2. Sugio\n",
       "3. Bayu\n",
       "4. Atmo\n",
       "5. Roy\n",
       "\n",
       "\n",
       "\n",
       "**Levels**: 1. 'Agus'\n",
       "2. 'Atmo'\n",
       "3. 'Bayu'\n",
       "4. 'Roy'\n",
       "5. 'Sugio'\n",
       "\n",
       "\n"
      ],
      "text/plain": [
       "[1] Agus  Sugio Bayu  Atmo  Roy  \n",
       "Levels: Agus Atmo Bayu Roy Sugio"
      ]
     },
     "metadata": {},
     "output_type": "display_data"
    }
   ],
   "source": [
    "df[,'nama']"
   ]
  },
  {
   "cell_type": "code",
   "execution_count": 159,
   "metadata": {},
   "outputs": [
    {
     "data": {
      "text/html": [
       "<table>\n",
       "<thead><tr><th scope=col>nama</th><th scope=col>umur</th></tr></thead>\n",
       "<tbody>\n",
       "\t<tr><td>Agus </td><td>42   </td></tr>\n",
       "\t<tr><td>Sugio</td><td>35   </td></tr>\n",
       "\t<tr><td>Bayu </td><td>37   </td></tr>\n",
       "\t<tr><td>Atmo </td><td>28   </td></tr>\n",
       "</tbody>\n",
       "</table>\n"
      ],
      "text/latex": [
       "\\begin{tabular}{r|ll}\n",
       " nama & umur\\\\\n",
       "\\hline\n",
       "\t Agus  & 42   \\\\\n",
       "\t Sugio & 35   \\\\\n",
       "\t Bayu  & 37   \\\\\n",
       "\t Atmo  & 28   \\\\\n",
       "\\end{tabular}\n"
      ],
      "text/markdown": [
       "\n",
       "| nama | umur |\n",
       "|---|---|\n",
       "| Agus  | 42    |\n",
       "| Sugio | 35    |\n",
       "| Bayu  | 37    |\n",
       "| Atmo  | 28    |\n",
       "\n"
      ],
      "text/plain": [
       "  nama  umur\n",
       "1 Agus  42  \n",
       "2 Sugio 35  \n",
       "3 Bayu  37  \n",
       "4 Atmo  28  "
      ]
     },
     "metadata": {},
     "output_type": "display_data"
    }
   ],
   "source": [
    "df[1:4, c('nama', 'umur')]"
   ]
  },
  {
   "cell_type": "code",
   "execution_count": 160,
   "metadata": {},
   "outputs": [
    {
     "data": {
      "text/html": [
       "<ol class=list-inline>\n",
       "\t<li>42</li>\n",
       "\t<li>35</li>\n",
       "\t<li>37</li>\n",
       "\t<li>28</li>\n",
       "\t<li>27</li>\n",
       "</ol>\n"
      ],
      "text/latex": [
       "\\begin{enumerate*}\n",
       "\\item 42\n",
       "\\item 35\n",
       "\\item 37\n",
       "\\item 28\n",
       "\\item 27\n",
       "\\end{enumerate*}\n"
      ],
      "text/markdown": [
       "1. 42\n",
       "2. 35\n",
       "3. 37\n",
       "4. 28\n",
       "5. 27\n",
       "\n",
       "\n"
      ],
      "text/plain": [
       "[1] 42 35 37 28 27"
      ]
     },
     "metadata": {},
     "output_type": "display_data"
    }
   ],
   "source": [
    "df$umur"
   ]
  },
  {
   "cell_type": "code",
   "execution_count": 161,
   "metadata": {},
   "outputs": [
    {
     "data": {
      "text/html": [
       "<ol class=list-inline>\n",
       "\t<li>42</li>\n",
       "\t<li>35</li>\n",
       "\t<li>37</li>\n",
       "\t<li>28</li>\n",
       "\t<li>27</li>\n",
       "</ol>\n"
      ],
      "text/latex": [
       "\\begin{enumerate*}\n",
       "\\item 42\n",
       "\\item 35\n",
       "\\item 37\n",
       "\\item 28\n",
       "\\item 27\n",
       "\\end{enumerate*}\n"
      ],
      "text/markdown": [
       "1. 42\n",
       "2. 35\n",
       "3. 37\n",
       "4. 28\n",
       "5. 27\n",
       "\n",
       "\n"
      ],
      "text/plain": [
       "[1] 42 35 37 28 27"
      ]
     },
     "metadata": {},
     "output_type": "display_data"
    }
   ],
   "source": [
    "df[,'umur']"
   ]
  },
  {
   "cell_type": "code",
   "execution_count": 162,
   "metadata": {},
   "outputs": [
    {
     "data": {
      "text/html": [
       "<table>\n",
       "<thead><tr><th scope=col>nama</th><th scope=col>umur</th><th scope=col>kawin</th></tr></thead>\n",
       "<tbody>\n",
       "\t<tr><td>Agus </td><td>42   </td><td>FALSE</td></tr>\n",
       "\t<tr><td>Sugio</td><td>35   </td><td>FALSE</td></tr>\n",
       "\t<tr><td>Bayu </td><td>37   </td><td> TRUE</td></tr>\n",
       "\t<tr><td>Atmo </td><td>28   </td><td>FALSE</td></tr>\n",
       "\t<tr><td>Roy  </td><td>27   </td><td> TRUE</td></tr>\n",
       "</tbody>\n",
       "</table>\n"
      ],
      "text/latex": [
       "\\begin{tabular}{r|lll}\n",
       " nama & umur & kawin\\\\\n",
       "\\hline\n",
       "\t Agus  & 42    & FALSE\\\\\n",
       "\t Sugio & 35    & FALSE\\\\\n",
       "\t Bayu  & 37    &  TRUE\\\\\n",
       "\t Atmo  & 28    & FALSE\\\\\n",
       "\t Roy   & 27    &  TRUE\\\\\n",
       "\\end{tabular}\n"
      ],
      "text/markdown": [
       "\n",
       "| nama | umur | kawin |\n",
       "|---|---|---|\n",
       "| Agus  | 42    | FALSE |\n",
       "| Sugio | 35    | FALSE |\n",
       "| Bayu  | 37    |  TRUE |\n",
       "| Atmo  | 28    | FALSE |\n",
       "| Roy   | 27    |  TRUE |\n",
       "\n"
      ],
      "text/plain": [
       "  nama  umur kawin\n",
       "1 Agus  42   FALSE\n",
       "2 Sugio 35   FALSE\n",
       "3 Bayu  37    TRUE\n",
       "4 Atmo  28   FALSE\n",
       "5 Roy   27    TRUE"
      ]
     },
     "metadata": {},
     "output_type": "display_data"
    }
   ],
   "source": [
    "# fungsi subset\n",
    "df"
   ]
  },
  {
   "cell_type": "code",
   "execution_count": 163,
   "metadata": {},
   "outputs": [
    {
     "data": {
      "text/html": [
       "<table>\n",
       "<thead><tr><th></th><th scope=col>nama</th><th scope=col>umur</th><th scope=col>kawin</th></tr></thead>\n",
       "<tbody>\n",
       "\t<tr><th scope=row>3</th><td>Bayu</td><td>37  </td><td>TRUE</td></tr>\n",
       "\t<tr><th scope=row>5</th><td>Roy </td><td>27  </td><td>TRUE</td></tr>\n",
       "</tbody>\n",
       "</table>\n"
      ],
      "text/latex": [
       "\\begin{tabular}{r|lll}\n",
       "  & nama & umur & kawin\\\\\n",
       "\\hline\n",
       "\t3 & Bayu & 37   & TRUE\\\\\n",
       "\t5 & Roy  & 27   & TRUE\\\\\n",
       "\\end{tabular}\n"
      ],
      "text/markdown": [
       "\n",
       "| <!--/--> | nama | umur | kawin |\n",
       "|---|---|---|---|\n",
       "| 3 | Bayu | 37   | TRUE |\n",
       "| 5 | Roy  | 27   | TRUE |\n",
       "\n"
      ],
      "text/plain": [
       "  nama umur kawin\n",
       "3 Bayu 37   TRUE \n",
       "5 Roy  27   TRUE "
      ]
     },
     "metadata": {},
     "output_type": "display_data"
    }
   ],
   "source": [
    "subset(df,subset = kawin == T) "
   ]
  },
  {
   "cell_type": "code",
   "execution_count": 164,
   "metadata": {},
   "outputs": [
    {
     "data": {
      "text/html": [
       "<table>\n",
       "<thead><tr><th scope=col>nama</th><th scope=col>umur</th><th scope=col>kawin</th></tr></thead>\n",
       "<tbody>\n",
       "\t<tr><td>Agus </td><td>42   </td><td>FALSE</td></tr>\n",
       "\t<tr><td>Sugio</td><td>35   </td><td>FALSE</td></tr>\n",
       "\t<tr><td>Bayu </td><td>37   </td><td> TRUE</td></tr>\n",
       "</tbody>\n",
       "</table>\n"
      ],
      "text/latex": [
       "\\begin{tabular}{r|lll}\n",
       " nama & umur & kawin\\\\\n",
       "\\hline\n",
       "\t Agus  & 42    & FALSE\\\\\n",
       "\t Sugio & 35    & FALSE\\\\\n",
       "\t Bayu  & 37    &  TRUE\\\\\n",
       "\\end{tabular}\n"
      ],
      "text/markdown": [
       "\n",
       "| nama | umur | kawin |\n",
       "|---|---|---|\n",
       "| Agus  | 42    | FALSE |\n",
       "| Sugio | 35    | FALSE |\n",
       "| Bayu  | 37    |  TRUE |\n",
       "\n"
      ],
      "text/plain": [
       "  nama  umur kawin\n",
       "1 Agus  42   FALSE\n",
       "2 Sugio 35   FALSE\n",
       "3 Bayu  37    TRUE"
      ]
     },
     "metadata": {},
     "output_type": "display_data"
    }
   ],
   "source": [
    "subset(df, subset = umur > 30)"
   ]
  },
  {
   "cell_type": "code",
   "execution_count": 165,
   "metadata": {},
   "outputs": [
    {
     "data": {
      "text/html": [
       "<ol class=list-inline>\n",
       "\t<li>5</li>\n",
       "\t<li>4</li>\n",
       "\t<li>2</li>\n",
       "\t<li>3</li>\n",
       "\t<li>1</li>\n",
       "</ol>\n"
      ],
      "text/latex": [
       "\\begin{enumerate*}\n",
       "\\item 5\n",
       "\\item 4\n",
       "\\item 2\n",
       "\\item 3\n",
       "\\item 1\n",
       "\\end{enumerate*}\n"
      ],
      "text/markdown": [
       "1. 5\n",
       "2. 4\n",
       "3. 2\n",
       "4. 3\n",
       "5. 1\n",
       "\n",
       "\n"
      ],
      "text/plain": [
       "[1] 5 4 2 3 1"
      ]
     },
     "metadata": {},
     "output_type": "display_data"
    }
   ],
   "source": [
    "# Mengurutkan dataframe\n",
    "urut.umur <- order(df['umur'])\n",
    "urut.umur"
   ]
  },
  {
   "cell_type": "code",
   "execution_count": 166,
   "metadata": {},
   "outputs": [
    {
     "data": {
      "text/html": [
       "<table>\n",
       "<thead><tr><th></th><th scope=col>nama</th><th scope=col>umur</th><th scope=col>kawin</th></tr></thead>\n",
       "<tbody>\n",
       "\t<tr><th scope=row>5</th><td>Roy  </td><td>27   </td><td> TRUE</td></tr>\n",
       "\t<tr><th scope=row>4</th><td>Atmo </td><td>28   </td><td>FALSE</td></tr>\n",
       "\t<tr><th scope=row>2</th><td>Sugio</td><td>35   </td><td>FALSE</td></tr>\n",
       "\t<tr><th scope=row>3</th><td>Bayu </td><td>37   </td><td> TRUE</td></tr>\n",
       "\t<tr><th scope=row>1</th><td>Agus </td><td>42   </td><td>FALSE</td></tr>\n",
       "</tbody>\n",
       "</table>\n"
      ],
      "text/latex": [
       "\\begin{tabular}{r|lll}\n",
       "  & nama & umur & kawin\\\\\n",
       "\\hline\n",
       "\t5 & Roy   & 27    &  TRUE\\\\\n",
       "\t4 & Atmo  & 28    & FALSE\\\\\n",
       "\t2 & Sugio & 35    & FALSE\\\\\n",
       "\t3 & Bayu  & 37    &  TRUE\\\\\n",
       "\t1 & Agus  & 42    & FALSE\\\\\n",
       "\\end{tabular}\n"
      ],
      "text/markdown": [
       "\n",
       "| <!--/--> | nama | umur | kawin |\n",
       "|---|---|---|---|\n",
       "| 5 | Roy   | 27    |  TRUE |\n",
       "| 4 | Atmo  | 28    | FALSE |\n",
       "| 2 | Sugio | 35    | FALSE |\n",
       "| 3 | Bayu  | 37    |  TRUE |\n",
       "| 1 | Agus  | 42    | FALSE |\n",
       "\n"
      ],
      "text/plain": [
       "  nama  umur kawin\n",
       "5 Roy   27    TRUE\n",
       "4 Atmo  28   FALSE\n",
       "2 Sugio 35   FALSE\n",
       "3 Bayu  37    TRUE\n",
       "1 Agus  42   FALSE"
      ]
     },
     "metadata": {},
     "output_type": "display_data"
    }
   ],
   "source": [
    "df[urut.umur,]"
   ]
  },
  {
   "cell_type": "code",
   "execution_count": 167,
   "metadata": {},
   "outputs": [
    {
     "data": {
      "text/html": [
       "<ol class=list-inline>\n",
       "\t<li>1</li>\n",
       "\t<li>3</li>\n",
       "\t<li>2</li>\n",
       "\t<li>4</li>\n",
       "\t<li>5</li>\n",
       "</ol>\n"
      ],
      "text/latex": [
       "\\begin{enumerate*}\n",
       "\\item 1\n",
       "\\item 3\n",
       "\\item 2\n",
       "\\item 4\n",
       "\\item 5\n",
       "\\end{enumerate*}\n"
      ],
      "text/markdown": [
       "1. 1\n",
       "2. 3\n",
       "3. 2\n",
       "4. 4\n",
       "5. 5\n",
       "\n",
       "\n"
      ],
      "text/plain": [
       "[1] 1 3 2 4 5"
      ]
     },
     "metadata": {},
     "output_type": "display_data"
    }
   ],
   "source": [
    "umur.terbalik <- order(-df['umur'])\n",
    "umur.terbalik"
   ]
  },
  {
   "cell_type": "code",
   "execution_count": 168,
   "metadata": {},
   "outputs": [
    {
     "data": {
      "text/html": [
       "<table>\n",
       "<thead><tr><th></th><th scope=col>nama</th><th scope=col>umur</th><th scope=col>kawin</th></tr></thead>\n",
       "<tbody>\n",
       "\t<tr><th scope=row>1</th><td>Agus </td><td>42   </td><td>FALSE</td></tr>\n",
       "\t<tr><th scope=row>3</th><td>Bayu </td><td>37   </td><td> TRUE</td></tr>\n",
       "\t<tr><th scope=row>2</th><td>Sugio</td><td>35   </td><td>FALSE</td></tr>\n",
       "\t<tr><th scope=row>4</th><td>Atmo </td><td>28   </td><td>FALSE</td></tr>\n",
       "\t<tr><th scope=row>5</th><td>Roy  </td><td>27   </td><td> TRUE</td></tr>\n",
       "</tbody>\n",
       "</table>\n"
      ],
      "text/latex": [
       "\\begin{tabular}{r|lll}\n",
       "  & nama & umur & kawin\\\\\n",
       "\\hline\n",
       "\t1 & Agus  & 42    & FALSE\\\\\n",
       "\t3 & Bayu  & 37    &  TRUE\\\\\n",
       "\t2 & Sugio & 35    & FALSE\\\\\n",
       "\t4 & Atmo  & 28    & FALSE\\\\\n",
       "\t5 & Roy   & 27    &  TRUE\\\\\n",
       "\\end{tabular}\n"
      ],
      "text/markdown": [
       "\n",
       "| <!--/--> | nama | umur | kawin |\n",
       "|---|---|---|---|\n",
       "| 1 | Agus  | 42    | FALSE |\n",
       "| 3 | Bayu  | 37    |  TRUE |\n",
       "| 2 | Sugio | 35    | FALSE |\n",
       "| 4 | Atmo  | 28    | FALSE |\n",
       "| 5 | Roy   | 27    |  TRUE |\n",
       "\n"
      ],
      "text/plain": [
       "  nama  umur kawin\n",
       "1 Agus  42   FALSE\n",
       "3 Bayu  37    TRUE\n",
       "2 Sugio 35   FALSE\n",
       "4 Atmo  28   FALSE\n",
       "5 Roy   27    TRUE"
      ]
     },
     "metadata": {},
     "output_type": "display_data"
    }
   ],
   "source": [
    "df[umur.terbalik,]"
   ]
  },
  {
   "cell_type": "code",
   "execution_count": 169,
   "metadata": {},
   "outputs": [
    {
     "data": {
      "text/html": [
       "<table>\n",
       "<thead><tr><th></th><th scope=col>nama</th><th scope=col>umur</th><th scope=col>kawin</th></tr></thead>\n",
       "<tbody>\n",
       "\t<tr><th scope=row>5</th><td>Roy  </td><td>27   </td><td> TRUE</td></tr>\n",
       "\t<tr><th scope=row>4</th><td>Atmo </td><td>28   </td><td>FALSE</td></tr>\n",
       "\t<tr><th scope=row>2</th><td>Sugio</td><td>35   </td><td>FALSE</td></tr>\n",
       "\t<tr><th scope=row>3</th><td>Bayu </td><td>37   </td><td> TRUE</td></tr>\n",
       "\t<tr><th scope=row>1</th><td>Agus </td><td>42   </td><td>FALSE</td></tr>\n",
       "</tbody>\n",
       "</table>\n"
      ],
      "text/latex": [
       "\\begin{tabular}{r|lll}\n",
       "  & nama & umur & kawin\\\\\n",
       "\\hline\n",
       "\t5 & Roy   & 27    &  TRUE\\\\\n",
       "\t4 & Atmo  & 28    & FALSE\\\\\n",
       "\t2 & Sugio & 35    & FALSE\\\\\n",
       "\t3 & Bayu  & 37    &  TRUE\\\\\n",
       "\t1 & Agus  & 42    & FALSE\\\\\n",
       "\\end{tabular}\n"
      ],
      "text/markdown": [
       "\n",
       "| <!--/--> | nama | umur | kawin |\n",
       "|---|---|---|---|\n",
       "| 5 | Roy   | 27    |  TRUE |\n",
       "| 4 | Atmo  | 28    | FALSE |\n",
       "| 2 | Sugio | 35    | FALSE |\n",
       "| 3 | Bayu  | 37    |  TRUE |\n",
       "| 1 | Agus  | 42    | FALSE |\n",
       "\n"
      ],
      "text/plain": [
       "  nama  umur kawin\n",
       "5 Roy   27    TRUE\n",
       "4 Atmo  28   FALSE\n",
       "2 Sugio 35   FALSE\n",
       "3 Bayu  37    TRUE\n",
       "1 Agus  42   FALSE"
      ]
     },
     "metadata": {},
     "output_type": "display_data"
    }
   ],
   "source": [
    "urut.umur <- order(df$umur)\n",
    "df[urut.umur, ]"
   ]
  },
  {
   "cell_type": "markdown",
   "metadata": {},
   "source": [
    "## Operasi - operasi data frame"
   ]
  },
  {
   "cell_type": "markdown",
   "metadata": {},
   "source": [
    "### Mendefinisikan data frame"
   ]
  },
  {
   "cell_type": "code",
   "execution_count": 170,
   "metadata": {},
   "outputs": [
    {
     "name": "stdout",
     "output_type": "stream",
     "text": [
      " [1]  1  2  3  4  5  6  7  8  9 10\n",
      " [1] \"a\" \"b\" \"c\" \"d\" \"e\" \"f\" \"g\" \"h\" \"i\" \"j\"\n"
     ]
    }
   ],
   "source": [
    "c1 <- 1:10\n",
    "c2 <- letters[1:10]\n",
    "print(c1)\n",
    "print(c2)"
   ]
  },
  {
   "cell_type": "code",
   "execution_count": 171,
   "metadata": {},
   "outputs": [
    {
     "data": {
      "text/html": [
       "<table>\n",
       "<thead><tr><th scope=col>c1</th><th scope=col>c2</th></tr></thead>\n",
       "<tbody>\n",
       "\t<tr><td> 1</td><td>a </td></tr>\n",
       "\t<tr><td> 2</td><td>b </td></tr>\n",
       "\t<tr><td> 3</td><td>c </td></tr>\n",
       "\t<tr><td> 4</td><td>d </td></tr>\n",
       "\t<tr><td> 5</td><td>e </td></tr>\n",
       "\t<tr><td> 6</td><td>f </td></tr>\n",
       "\t<tr><td> 7</td><td>g </td></tr>\n",
       "\t<tr><td> 8</td><td>h </td></tr>\n",
       "\t<tr><td> 9</td><td>i </td></tr>\n",
       "\t<tr><td>10</td><td>j </td></tr>\n",
       "</tbody>\n",
       "</table>\n"
      ],
      "text/latex": [
       "\\begin{tabular}{r|ll}\n",
       " c1 & c2\\\\\n",
       "\\hline\n",
       "\t  1 & a \\\\\n",
       "\t  2 & b \\\\\n",
       "\t  3 & c \\\\\n",
       "\t  4 & d \\\\\n",
       "\t  5 & e \\\\\n",
       "\t  6 & f \\\\\n",
       "\t  7 & g \\\\\n",
       "\t  8 & h \\\\\n",
       "\t  9 & i \\\\\n",
       "\t 10 & j \\\\\n",
       "\\end{tabular}\n"
      ],
      "text/markdown": [
       "\n",
       "| c1 | c2 |\n",
       "|---|---|\n",
       "|  1 | a  |\n",
       "|  2 | b  |\n",
       "|  3 | c  |\n",
       "|  4 | d  |\n",
       "|  5 | e  |\n",
       "|  6 | f  |\n",
       "|  7 | g  |\n",
       "|  8 | h  |\n",
       "|  9 | i  |\n",
       "| 10 | j  |\n",
       "\n"
      ],
      "text/plain": [
       "   c1 c2\n",
       "1   1 a \n",
       "2   2 b \n",
       "3   3 c \n",
       "4   4 d \n",
       "5   5 e \n",
       "6   6 f \n",
       "7   7 g \n",
       "8   8 h \n",
       "9   9 i \n",
       "10 10 j "
      ]
     },
     "metadata": {},
     "output_type": "display_data"
    }
   ],
   "source": [
    "df <- data.frame(c1,c2)\n",
    "df"
   ]
  },
  {
   "cell_type": "code",
   "execution_count": 172,
   "metadata": {},
   "outputs": [
    {
     "data": {
      "text/html": [
       "<table>\n",
       "<thead><tr><th scope=col>kolom1</th><th scope=col>kolom2</th></tr></thead>\n",
       "<tbody>\n",
       "\t<tr><td> 1</td><td>a </td></tr>\n",
       "\t<tr><td> 2</td><td>b </td></tr>\n",
       "\t<tr><td> 3</td><td>c </td></tr>\n",
       "\t<tr><td> 4</td><td>d </td></tr>\n",
       "\t<tr><td> 5</td><td>e </td></tr>\n",
       "\t<tr><td> 6</td><td>f </td></tr>\n",
       "\t<tr><td> 7</td><td>g </td></tr>\n",
       "\t<tr><td> 8</td><td>h </td></tr>\n",
       "\t<tr><td> 9</td><td>i </td></tr>\n",
       "\t<tr><td>10</td><td>j </td></tr>\n",
       "</tbody>\n",
       "</table>\n"
      ],
      "text/latex": [
       "\\begin{tabular}{r|ll}\n",
       " kolom1 & kolom2\\\\\n",
       "\\hline\n",
       "\t  1 & a \\\\\n",
       "\t  2 & b \\\\\n",
       "\t  3 & c \\\\\n",
       "\t  4 & d \\\\\n",
       "\t  5 & e \\\\\n",
       "\t  6 & f \\\\\n",
       "\t  7 & g \\\\\n",
       "\t  8 & h \\\\\n",
       "\t  9 & i \\\\\n",
       "\t 10 & j \\\\\n",
       "\\end{tabular}\n"
      ],
      "text/markdown": [
       "\n",
       "| kolom1 | kolom2 |\n",
       "|---|---|\n",
       "|  1 | a  |\n",
       "|  2 | b  |\n",
       "|  3 | c  |\n",
       "|  4 | d  |\n",
       "|  5 | e  |\n",
       "|  6 | f  |\n",
       "|  7 | g  |\n",
       "|  8 | h  |\n",
       "|  9 | i  |\n",
       "| 10 | j  |\n",
       "\n"
      ],
      "text/plain": [
       "   kolom1 kolom2\n",
       "1   1     a     \n",
       "2   2     b     \n",
       "3   3     c     \n",
       "4   4     d     \n",
       "5   5     e     \n",
       "6   6     f     \n",
       "7   7     g     \n",
       "8   8     h     \n",
       "9   9     i     \n",
       "10 10     j     "
      ]
     },
     "metadata": {},
     "output_type": "display_data"
    }
   ],
   "source": [
    "df <- data.frame(kolom1 = c1, kolom2 = c2) # nama kolom bisa kita ubah sesuka kita!\n",
    "df"
   ]
  },
  {
   "cell_type": "markdown",
   "metadata": {},
   "source": [
    "### Mendapatkan info tentang data frame"
   ]
  },
  {
   "cell_type": "code",
   "execution_count": 173,
   "metadata": {},
   "outputs": [
    {
     "data": {
      "text/html": [
       "10"
      ],
      "text/latex": [
       "10"
      ],
      "text/markdown": [
       "10"
      ],
      "text/plain": [
       "[1] 10"
      ]
     },
     "metadata": {},
     "output_type": "display_data"
    }
   ],
   "source": [
    "nrow(df) # jumlah baris"
   ]
  },
  {
   "cell_type": "code",
   "execution_count": 174,
   "metadata": {},
   "outputs": [
    {
     "data": {
      "text/html": [
       "2"
      ],
      "text/latex": [
       "2"
      ],
      "text/markdown": [
       "2"
      ],
      "text/plain": [
       "[1] 2"
      ]
     },
     "metadata": {},
     "output_type": "display_data"
    }
   ],
   "source": [
    "ncol(df) # jumlah kolom"
   ]
  },
  {
   "cell_type": "code",
   "execution_count": 175,
   "metadata": {},
   "outputs": [
    {
     "data": {
      "text/html": [
       "<ol class=list-inline>\n",
       "\t<li>'kolom1'</li>\n",
       "\t<li>'kolom2'</li>\n",
       "</ol>\n"
      ],
      "text/latex": [
       "\\begin{enumerate*}\n",
       "\\item 'kolom1'\n",
       "\\item 'kolom2'\n",
       "\\end{enumerate*}\n"
      ],
      "text/markdown": [
       "1. 'kolom1'\n",
       "2. 'kolom2'\n",
       "\n",
       "\n"
      ],
      "text/plain": [
       "[1] \"kolom1\" \"kolom2\""
      ]
     },
     "metadata": {},
     "output_type": "display_data"
    }
   ],
   "source": [
    "colnames(df)  # nama kolom"
   ]
  },
  {
   "cell_type": "code",
   "execution_count": 176,
   "metadata": {},
   "outputs": [
    {
     "data": {
      "text/html": [
       "<ol class=list-inline>\n",
       "\t<li>'1'</li>\n",
       "\t<li>'2'</li>\n",
       "\t<li>'3'</li>\n",
       "\t<li>'4'</li>\n",
       "\t<li>'5'</li>\n",
       "\t<li>'6'</li>\n",
       "\t<li>'7'</li>\n",
       "\t<li>'8'</li>\n",
       "\t<li>'9'</li>\n",
       "\t<li>'10'</li>\n",
       "</ol>\n"
      ],
      "text/latex": [
       "\\begin{enumerate*}\n",
       "\\item '1'\n",
       "\\item '2'\n",
       "\\item '3'\n",
       "\\item '4'\n",
       "\\item '5'\n",
       "\\item '6'\n",
       "\\item '7'\n",
       "\\item '8'\n",
       "\\item '9'\n",
       "\\item '10'\n",
       "\\end{enumerate*}\n"
      ],
      "text/markdown": [
       "1. '1'\n",
       "2. '2'\n",
       "3. '3'\n",
       "4. '4'\n",
       "5. '5'\n",
       "6. '6'\n",
       "7. '7'\n",
       "8. '8'\n",
       "9. '9'\n",
       "10. '10'\n",
       "\n",
       "\n"
      ],
      "text/plain": [
       " [1] \"1\"  \"2\"  \"3\"  \"4\"  \"5\"  \"6\"  \"7\"  \"8\"  \"9\"  \"10\""
      ]
     },
     "metadata": {},
     "output_type": "display_data"
    }
   ],
   "source": [
    "rownames(df) # nama baris"
   ]
  },
  {
   "cell_type": "code",
   "execution_count": 177,
   "metadata": {},
   "outputs": [
    {
     "name": "stdout",
     "output_type": "stream",
     "text": [
      "'data.frame':\t10 obs. of  2 variables:\n",
      " $ kolom1: int  1 2 3 4 5 6 7 8 9 10\n",
      " $ kolom2: Factor w/ 10 levels \"a\",\"b\",\"c\",\"d\",..: 1 2 3 4 5 6 7 8 9 10\n"
     ]
    }
   ],
   "source": [
    "str(df) # struktur data frame"
   ]
  },
  {
   "cell_type": "code",
   "execution_count": 178,
   "metadata": {},
   "outputs": [
    {
     "data": {
      "text/plain": [
       "     kolom1          kolom2 \n",
       " Min.   : 1.00   a      :1  \n",
       " 1st Qu.: 3.25   b      :1  \n",
       " Median : 5.50   c      :1  \n",
       " Mean   : 5.50   d      :1  \n",
       " 3rd Qu.: 7.75   e      :1  \n",
       " Max.   :10.00   f      :1  \n",
       "                 (Other):4  "
      ]
     },
     "metadata": {},
     "output_type": "display_data"
    }
   ],
   "source": [
    "summary(df) # sari statistik"
   ]
  },
  {
   "cell_type": "markdown",
   "metadata": {},
   "source": [
    "### Referensi sel"
   ]
  },
  {
   "cell_type": "code",
   "execution_count": 179,
   "metadata": {},
   "outputs": [
    {
     "data": {
      "text/html": [
       "<table>\n",
       "<thead><tr><th scope=col>kolom1</th><th scope=col>kolom2</th></tr></thead>\n",
       "<tbody>\n",
       "\t<tr><td> 1</td><td>a </td></tr>\n",
       "\t<tr><td> 2</td><td>b </td></tr>\n",
       "\t<tr><td> 3</td><td>c </td></tr>\n",
       "\t<tr><td> 4</td><td>d </td></tr>\n",
       "\t<tr><td> 5</td><td>e </td></tr>\n",
       "\t<tr><td> 6</td><td>f </td></tr>\n",
       "\t<tr><td> 7</td><td>g </td></tr>\n",
       "\t<tr><td> 8</td><td>h </td></tr>\n",
       "\t<tr><td> 9</td><td>i </td></tr>\n",
       "\t<tr><td>10</td><td>j </td></tr>\n",
       "</tbody>\n",
       "</table>\n"
      ],
      "text/latex": [
       "\\begin{tabular}{r|ll}\n",
       " kolom1 & kolom2\\\\\n",
       "\\hline\n",
       "\t  1 & a \\\\\n",
       "\t  2 & b \\\\\n",
       "\t  3 & c \\\\\n",
       "\t  4 & d \\\\\n",
       "\t  5 & e \\\\\n",
       "\t  6 & f \\\\\n",
       "\t  7 & g \\\\\n",
       "\t  8 & h \\\\\n",
       "\t  9 & i \\\\\n",
       "\t 10 & j \\\\\n",
       "\\end{tabular}\n"
      ],
      "text/markdown": [
       "\n",
       "| kolom1 | kolom2 |\n",
       "|---|---|\n",
       "|  1 | a  |\n",
       "|  2 | b  |\n",
       "|  3 | c  |\n",
       "|  4 | d  |\n",
       "|  5 | e  |\n",
       "|  6 | f  |\n",
       "|  7 | g  |\n",
       "|  8 | h  |\n",
       "|  9 | i  |\n",
       "| 10 | j  |\n",
       "\n"
      ],
      "text/plain": [
       "   kolom1 kolom2\n",
       "1   1     a     \n",
       "2   2     b     \n",
       "3   3     c     \n",
       "4   4     d     \n",
       "5   5     e     \n",
       "6   6     f     \n",
       "7   7     g     \n",
       "8   8     h     \n",
       "9   9     i     \n",
       "10 10     j     "
      ]
     },
     "metadata": {},
     "output_type": "display_data"
    }
   ],
   "source": [
    "df"
   ]
  },
  {
   "cell_type": "code",
   "execution_count": 180,
   "metadata": {},
   "outputs": [
    {
     "data": {
      "text/html": [
       "5"
      ],
      "text/latex": [
       "5"
      ],
      "text/markdown": [
       "5"
      ],
      "text/plain": [
       "[1] 5"
      ]
     },
     "metadata": {},
     "output_type": "display_data"
    }
   ],
   "source": [
    "df[5,1]"
   ]
  },
  {
   "cell_type": "code",
   "execution_count": 181,
   "metadata": {},
   "outputs": [
    {
     "data": {
      "text/html": [
       "5"
      ],
      "text/latex": [
       "5"
      ],
      "text/markdown": [
       "5"
      ],
      "text/plain": [
       "[1] 5"
      ]
     },
     "metadata": {},
     "output_type": "display_data"
    }
   ],
   "source": [
    "df[[5,1]]"
   ]
  },
  {
   "cell_type": "code",
   "execution_count": 182,
   "metadata": {},
   "outputs": [
    {
     "data": {
      "text/html": [
       "1"
      ],
      "text/latex": [
       "1"
      ],
      "text/markdown": [
       "1"
      ],
      "text/plain": [
       "[1] 1"
      ]
     },
     "metadata": {},
     "output_type": "display_data"
    }
   ],
   "source": [
    "df[1,'kolom1']"
   ]
  },
  {
   "cell_type": "code",
   "execution_count": 183,
   "metadata": {},
   "outputs": [
    {
     "data": {
      "text/html": [
       "5"
      ],
      "text/latex": [
       "5"
      ],
      "text/markdown": [
       "5"
      ],
      "text/plain": [
       "[1] 5"
      ]
     },
     "metadata": {},
     "output_type": "display_data"
    }
   ],
   "source": [
    "df[5, 'kolom1']"
   ]
  },
  {
   "cell_type": "code",
   "execution_count": 184,
   "metadata": {},
   "outputs": [
    {
     "data": {
      "text/html": [
       "5"
      ],
      "text/latex": [
       "5"
      ],
      "text/markdown": [
       "5"
      ],
      "text/plain": [
       "[1] 5"
      ]
     },
     "metadata": {},
     "output_type": "display_data"
    }
   ],
   "source": [
    "df[[5,'kolom1']]"
   ]
  },
  {
   "cell_type": "code",
   "execution_count": 185,
   "metadata": {},
   "outputs": [
    {
     "data": {
      "text/html": [
       "<table>\n",
       "<thead><tr><th scope=col>kolom1</th><th scope=col>kolom2</th></tr></thead>\n",
       "<tbody>\n",
       "\t<tr><td>   1</td><td>a   </td></tr>\n",
       "\t<tr><td>   2</td><td>b   </td></tr>\n",
       "\t<tr><td>   3</td><td>c   </td></tr>\n",
       "\t<tr><td>   4</td><td>d   </td></tr>\n",
       "\t<tr><td>   5</td><td>e   </td></tr>\n",
       "\t<tr><td>   6</td><td>f   </td></tr>\n",
       "\t<tr><td>   7</td><td>g   </td></tr>\n",
       "\t<tr><td>-999</td><td>h   </td></tr>\n",
       "\t<tr><td>   9</td><td>i   </td></tr>\n",
       "\t<tr><td>  10</td><td>j   </td></tr>\n",
       "</tbody>\n",
       "</table>\n"
      ],
      "text/latex": [
       "\\begin{tabular}{r|ll}\n",
       " kolom1 & kolom2\\\\\n",
       "\\hline\n",
       "\t    1 & a   \\\\\n",
       "\t    2 & b   \\\\\n",
       "\t    3 & c   \\\\\n",
       "\t    4 & d   \\\\\n",
       "\t    5 & e   \\\\\n",
       "\t    6 & f   \\\\\n",
       "\t    7 & g   \\\\\n",
       "\t -999 & h   \\\\\n",
       "\t    9 & i   \\\\\n",
       "\t   10 & j   \\\\\n",
       "\\end{tabular}\n"
      ],
      "text/markdown": [
       "\n",
       "| kolom1 | kolom2 |\n",
       "|---|---|\n",
       "|    1 | a    |\n",
       "|    2 | b    |\n",
       "|    3 | c    |\n",
       "|    4 | d    |\n",
       "|    5 | e    |\n",
       "|    6 | f    |\n",
       "|    7 | g    |\n",
       "| -999 | h    |\n",
       "|    9 | i    |\n",
       "|   10 | j    |\n",
       "\n"
      ],
      "text/plain": [
       "   kolom1 kolom2\n",
       "1     1   a     \n",
       "2     2   b     \n",
       "3     3   c     \n",
       "4     4   d     \n",
       "5     5   e     \n",
       "6     6   f     \n",
       "7     7   g     \n",
       "8  -999   h     \n",
       "9     9   i     \n",
       "10   10   j     "
      ]
     },
     "metadata": {},
     "output_type": "display_data"
    }
   ],
   "source": [
    "df[8,'kolom1'] <- -999 # mengubah nilai\n",
    "df"
   ]
  },
  {
   "cell_type": "code",
   "execution_count": 186,
   "metadata": {},
   "outputs": [
    {
     "data": {
      "text/html": [
       "<table>\n",
       "<thead><tr><th scope=col>kolom1</th><th scope=col>kolom2</th></tr></thead>\n",
       "<tbody>\n",
       "\t<tr><td> 1</td><td>a </td></tr>\n",
       "\t<tr><td> 2</td><td>b </td></tr>\n",
       "\t<tr><td> 3</td><td>c </td></tr>\n",
       "\t<tr><td> 4</td><td>d </td></tr>\n",
       "\t<tr><td> 5</td><td>e </td></tr>\n",
       "\t<tr><td> 6</td><td>f </td></tr>\n",
       "\t<tr><td> 7</td><td>g </td></tr>\n",
       "\t<tr><td> 8</td><td>h </td></tr>\n",
       "\t<tr><td> 9</td><td>i </td></tr>\n",
       "\t<tr><td>10</td><td>j </td></tr>\n",
       "</tbody>\n",
       "</table>\n"
      ],
      "text/latex": [
       "\\begin{tabular}{r|ll}\n",
       " kolom1 & kolom2\\\\\n",
       "\\hline\n",
       "\t  1 & a \\\\\n",
       "\t  2 & b \\\\\n",
       "\t  3 & c \\\\\n",
       "\t  4 & d \\\\\n",
       "\t  5 & e \\\\\n",
       "\t  6 & f \\\\\n",
       "\t  7 & g \\\\\n",
       "\t  8 & h \\\\\n",
       "\t  9 & i \\\\\n",
       "\t 10 & j \\\\\n",
       "\\end{tabular}\n"
      ],
      "text/markdown": [
       "\n",
       "| kolom1 | kolom2 |\n",
       "|---|---|\n",
       "|  1 | a  |\n",
       "|  2 | b  |\n",
       "|  3 | c  |\n",
       "|  4 | d  |\n",
       "|  5 | e  |\n",
       "|  6 | f  |\n",
       "|  7 | g  |\n",
       "|  8 | h  |\n",
       "|  9 | i  |\n",
       "| 10 | j  |\n",
       "\n"
      ],
      "text/plain": [
       "   kolom1 kolom2\n",
       "1   1     a     \n",
       "2   2     b     \n",
       "3   3     c     \n",
       "4   4     d     \n",
       "5   5     e     \n",
       "6   6     f     \n",
       "7   7     g     \n",
       "8   8     h     \n",
       "9   9     i     \n",
       "10 10     j     "
      ]
     },
     "metadata": {},
     "output_type": "display_data"
    }
   ],
   "source": [
    "df[[8,'kolom1']] <- 8\n",
    "df"
   ]
  },
  {
   "cell_type": "markdown",
   "metadata": {},
   "source": [
    "### Referensi baris dan kolom"
   ]
  },
  {
   "cell_type": "code",
   "execution_count": 187,
   "metadata": {},
   "outputs": [
    {
     "data": {
      "text/html": [
       "<table>\n",
       "<thead><tr><th></th><th scope=col>kolom1</th><th scope=col>kolom2</th></tr></thead>\n",
       "<tbody>\n",
       "\t<tr><th scope=row>2</th><td>2</td><td>b</td></tr>\n",
       "</tbody>\n",
       "</table>\n"
      ],
      "text/latex": [
       "\\begin{tabular}{r|ll}\n",
       "  & kolom1 & kolom2\\\\\n",
       "\\hline\n",
       "\t2 & 2 & b\\\\\n",
       "\\end{tabular}\n"
      ],
      "text/markdown": [
       "\n",
       "| <!--/--> | kolom1 | kolom2 |\n",
       "|---|---|---|\n",
       "| 2 | 2 | b |\n",
       "\n"
      ],
      "text/plain": [
       "  kolom1 kolom2\n",
       "2 2      b     "
      ]
     },
     "metadata": {},
     "output_type": "display_data"
    }
   ],
   "source": [
    "df[2,]"
   ]
  },
  {
   "cell_type": "code",
   "execution_count": 188,
   "metadata": {},
   "outputs": [
    {
     "data": {
      "text/html": [
       "<table>\n",
       "<thead><tr><th scope=col>kolom1</th><th scope=col>kolom2</th></tr></thead>\n",
       "<tbody>\n",
       "\t<tr><td>1</td><td>a</td></tr>\n",
       "\t<tr><td>2</td><td>b</td></tr>\n",
       "\t<tr><td>3</td><td>c</td></tr>\n",
       "</tbody>\n",
       "</table>\n"
      ],
      "text/latex": [
       "\\begin{tabular}{r|ll}\n",
       " kolom1 & kolom2\\\\\n",
       "\\hline\n",
       "\t 1 & a\\\\\n",
       "\t 2 & b\\\\\n",
       "\t 3 & c\\\\\n",
       "\\end{tabular}\n"
      ],
      "text/markdown": [
       "\n",
       "| kolom1 | kolom2 |\n",
       "|---|---|\n",
       "| 1 | a |\n",
       "| 2 | b |\n",
       "| 3 | c |\n",
       "\n"
      ],
      "text/plain": [
       "  kolom1 kolom2\n",
       "1 1      a     \n",
       "2 2      b     \n",
       "3 3      c     "
      ]
     },
     "metadata": {},
     "output_type": "display_data"
    }
   ],
   "source": [
    "df[1:3,]"
   ]
  },
  {
   "cell_type": "code",
   "execution_count": 189,
   "metadata": {},
   "outputs": [
    {
     "data": {
      "text/html": [
       "<table>\n",
       "<thead><tr><th></th><th scope=col>mpg</th><th scope=col>cyl</th><th scope=col>disp</th><th scope=col>hp</th><th scope=col>drat</th><th scope=col>wt</th><th scope=col>qsec</th><th scope=col>vs</th><th scope=col>am</th><th scope=col>gear</th><th scope=col>carb</th></tr></thead>\n",
       "<tbody>\n",
       "\t<tr><th scope=row>Mazda RX4</th><td>21.0 </td><td>6    </td><td>160  </td><td>110  </td><td>3.90 </td><td>2.620</td><td>16.46</td><td>0    </td><td>1    </td><td>4    </td><td>4    </td></tr>\n",
       "\t<tr><th scope=row>Mazda RX4 Wag</th><td>21.0 </td><td>6    </td><td>160  </td><td>110  </td><td>3.90 </td><td>2.875</td><td>17.02</td><td>0    </td><td>1    </td><td>4    </td><td>4    </td></tr>\n",
       "\t<tr><th scope=row>Datsun 710</th><td>22.8 </td><td>4    </td><td>108  </td><td> 93  </td><td>3.85 </td><td>2.320</td><td>18.61</td><td>1    </td><td>1    </td><td>4    </td><td>1    </td></tr>\n",
       "\t<tr><th scope=row>Hornet 4 Drive</th><td>21.4 </td><td>6    </td><td>258  </td><td>110  </td><td>3.08 </td><td>3.215</td><td>19.44</td><td>1    </td><td>0    </td><td>3    </td><td>1    </td></tr>\n",
       "\t<tr><th scope=row>Hornet Sportabout</th><td>18.7 </td><td>8    </td><td>360  </td><td>175  </td><td>3.15 </td><td>3.440</td><td>17.02</td><td>0    </td><td>0    </td><td>3    </td><td>2    </td></tr>\n",
       "\t<tr><th scope=row>Valiant</th><td>18.1 </td><td>6    </td><td>225  </td><td>105  </td><td>2.76 </td><td>3.460</td><td>20.22</td><td>1    </td><td>0    </td><td>3    </td><td>1    </td></tr>\n",
       "</tbody>\n",
       "</table>\n"
      ],
      "text/latex": [
       "\\begin{tabular}{r|lllllllllll}\n",
       "  & mpg & cyl & disp & hp & drat & wt & qsec & vs & am & gear & carb\\\\\n",
       "\\hline\n",
       "\tMazda RX4 & 21.0  & 6     & 160   & 110   & 3.90  & 2.620 & 16.46 & 0     & 1     & 4     & 4    \\\\\n",
       "\tMazda RX4 Wag & 21.0  & 6     & 160   & 110   & 3.90  & 2.875 & 17.02 & 0     & 1     & 4     & 4    \\\\\n",
       "\tDatsun 710 & 22.8  & 4     & 108   &  93   & 3.85  & 2.320 & 18.61 & 1     & 1     & 4     & 1    \\\\\n",
       "\tHornet 4 Drive & 21.4  & 6     & 258   & 110   & 3.08  & 3.215 & 19.44 & 1     & 0     & 3     & 1    \\\\\n",
       "\tHornet Sportabout & 18.7  & 8     & 360   & 175   & 3.15  & 3.440 & 17.02 & 0     & 0     & 3     & 2    \\\\\n",
       "\tValiant & 18.1  & 6     & 225   & 105   & 2.76  & 3.460 & 20.22 & 1     & 0     & 3     & 1    \\\\\n",
       "\\end{tabular}\n"
      ],
      "text/markdown": [
       "\n",
       "| <!--/--> | mpg | cyl | disp | hp | drat | wt | qsec | vs | am | gear | carb |\n",
       "|---|---|---|---|---|---|---|---|---|---|---|---|\n",
       "| Mazda RX4 | 21.0  | 6     | 160   | 110   | 3.90  | 2.620 | 16.46 | 0     | 1     | 4     | 4     |\n",
       "| Mazda RX4 Wag | 21.0  | 6     | 160   | 110   | 3.90  | 2.875 | 17.02 | 0     | 1     | 4     | 4     |\n",
       "| Datsun 710 | 22.8  | 4     | 108   |  93   | 3.85  | 2.320 | 18.61 | 1     | 1     | 4     | 1     |\n",
       "| Hornet 4 Drive | 21.4  | 6     | 258   | 110   | 3.08  | 3.215 | 19.44 | 1     | 0     | 3     | 1     |\n",
       "| Hornet Sportabout | 18.7  | 8     | 360   | 175   | 3.15  | 3.440 | 17.02 | 0     | 0     | 3     | 2     |\n",
       "| Valiant | 18.1  | 6     | 225   | 105   | 2.76  | 3.460 | 20.22 | 1     | 0     | 3     | 1     |\n",
       "\n"
      ],
      "text/plain": [
       "                  mpg  cyl disp hp  drat wt    qsec  vs am gear carb\n",
       "Mazda RX4         21.0 6   160  110 3.90 2.620 16.46 0  1  4    4   \n",
       "Mazda RX4 Wag     21.0 6   160  110 3.90 2.875 17.02 0  1  4    4   \n",
       "Datsun 710        22.8 4   108   93 3.85 2.320 18.61 1  1  4    1   \n",
       "Hornet 4 Drive    21.4 6   258  110 3.08 3.215 19.44 1  0  3    1   \n",
       "Hornet Sportabout 18.7 8   360  175 3.15 3.440 17.02 0  0  3    2   \n",
       "Valiant           18.1 6   225  105 2.76 3.460 20.22 1  0  3    1   "
      ]
     },
     "metadata": {},
     "output_type": "display_data"
    }
   ],
   "source": [
    "head(mtcars)"
   ]
  },
  {
   "cell_type": "code",
   "execution_count": 190,
   "metadata": {},
   "outputs": [
    {
     "data": {
      "text/html": [
       "<ol class=list-inline>\n",
       "\t<li>21</li>\n",
       "\t<li>21</li>\n",
       "\t<li>22.8</li>\n",
       "\t<li>21.4</li>\n",
       "\t<li>18.7</li>\n",
       "\t<li>18.1</li>\n",
       "\t<li>14.3</li>\n",
       "\t<li>24.4</li>\n",
       "\t<li>22.8</li>\n",
       "\t<li>19.2</li>\n",
       "\t<li>17.8</li>\n",
       "\t<li>16.4</li>\n",
       "\t<li>17.3</li>\n",
       "\t<li>15.2</li>\n",
       "\t<li>10.4</li>\n",
       "\t<li>10.4</li>\n",
       "\t<li>14.7</li>\n",
       "\t<li>32.4</li>\n",
       "\t<li>30.4</li>\n",
       "\t<li>33.9</li>\n",
       "\t<li>21.5</li>\n",
       "\t<li>15.5</li>\n",
       "\t<li>15.2</li>\n",
       "\t<li>13.3</li>\n",
       "\t<li>19.2</li>\n",
       "\t<li>27.3</li>\n",
       "\t<li>26</li>\n",
       "\t<li>30.4</li>\n",
       "\t<li>15.8</li>\n",
       "\t<li>19.7</li>\n",
       "\t<li>15</li>\n",
       "\t<li>21.4</li>\n",
       "</ol>\n"
      ],
      "text/latex": [
       "\\begin{enumerate*}\n",
       "\\item 21\n",
       "\\item 21\n",
       "\\item 22.8\n",
       "\\item 21.4\n",
       "\\item 18.7\n",
       "\\item 18.1\n",
       "\\item 14.3\n",
       "\\item 24.4\n",
       "\\item 22.8\n",
       "\\item 19.2\n",
       "\\item 17.8\n",
       "\\item 16.4\n",
       "\\item 17.3\n",
       "\\item 15.2\n",
       "\\item 10.4\n",
       "\\item 10.4\n",
       "\\item 14.7\n",
       "\\item 32.4\n",
       "\\item 30.4\n",
       "\\item 33.9\n",
       "\\item 21.5\n",
       "\\item 15.5\n",
       "\\item 15.2\n",
       "\\item 13.3\n",
       "\\item 19.2\n",
       "\\item 27.3\n",
       "\\item 26\n",
       "\\item 30.4\n",
       "\\item 15.8\n",
       "\\item 19.7\n",
       "\\item 15\n",
       "\\item 21.4\n",
       "\\end{enumerate*}\n"
      ],
      "text/markdown": [
       "1. 21\n",
       "2. 21\n",
       "3. 22.8\n",
       "4. 21.4\n",
       "5. 18.7\n",
       "6. 18.1\n",
       "7. 14.3\n",
       "8. 24.4\n",
       "9. 22.8\n",
       "10. 19.2\n",
       "11. 17.8\n",
       "12. 16.4\n",
       "13. 17.3\n",
       "14. 15.2\n",
       "15. 10.4\n",
       "16. 10.4\n",
       "17. 14.7\n",
       "18. 32.4\n",
       "19. 30.4\n",
       "20. 33.9\n",
       "21. 21.5\n",
       "22. 15.5\n",
       "23. 15.2\n",
       "24. 13.3\n",
       "25. 19.2\n",
       "26. 27.3\n",
       "27. 26\n",
       "28. 30.4\n",
       "29. 15.8\n",
       "30. 19.7\n",
       "31. 15\n",
       "32. 21.4\n",
       "\n",
       "\n"
      ],
      "text/plain": [
       " [1] 21.0 21.0 22.8 21.4 18.7 18.1 14.3 24.4 22.8 19.2 17.8 16.4 17.3 15.2 10.4\n",
       "[16] 10.4 14.7 32.4 30.4 33.9 21.5 15.5 15.2 13.3 19.2 27.3 26.0 30.4 15.8 19.7\n",
       "[31] 15.0 21.4"
      ]
     },
     "metadata": {},
     "output_type": "display_data"
    }
   ],
   "source": [
    "mtcars$mpg"
   ]
  },
  {
   "cell_type": "code",
   "execution_count": 191,
   "metadata": {},
   "outputs": [
    {
     "data": {
      "text/html": [
       "<ol class=list-inline>\n",
       "\t<li>21</li>\n",
       "\t<li>21</li>\n",
       "\t<li>22.8</li>\n",
       "\t<li>21.4</li>\n",
       "\t<li>18.7</li>\n",
       "\t<li>18.1</li>\n",
       "\t<li>14.3</li>\n",
       "\t<li>24.4</li>\n",
       "\t<li>22.8</li>\n",
       "\t<li>19.2</li>\n",
       "\t<li>17.8</li>\n",
       "\t<li>16.4</li>\n",
       "\t<li>17.3</li>\n",
       "\t<li>15.2</li>\n",
       "\t<li>10.4</li>\n",
       "\t<li>10.4</li>\n",
       "\t<li>14.7</li>\n",
       "\t<li>32.4</li>\n",
       "\t<li>30.4</li>\n",
       "\t<li>33.9</li>\n",
       "\t<li>21.5</li>\n",
       "\t<li>15.5</li>\n",
       "\t<li>15.2</li>\n",
       "\t<li>13.3</li>\n",
       "\t<li>19.2</li>\n",
       "\t<li>27.3</li>\n",
       "\t<li>26</li>\n",
       "\t<li>30.4</li>\n",
       "\t<li>15.8</li>\n",
       "\t<li>19.7</li>\n",
       "\t<li>15</li>\n",
       "\t<li>21.4</li>\n",
       "</ol>\n"
      ],
      "text/latex": [
       "\\begin{enumerate*}\n",
       "\\item 21\n",
       "\\item 21\n",
       "\\item 22.8\n",
       "\\item 21.4\n",
       "\\item 18.7\n",
       "\\item 18.1\n",
       "\\item 14.3\n",
       "\\item 24.4\n",
       "\\item 22.8\n",
       "\\item 19.2\n",
       "\\item 17.8\n",
       "\\item 16.4\n",
       "\\item 17.3\n",
       "\\item 15.2\n",
       "\\item 10.4\n",
       "\\item 10.4\n",
       "\\item 14.7\n",
       "\\item 32.4\n",
       "\\item 30.4\n",
       "\\item 33.9\n",
       "\\item 21.5\n",
       "\\item 15.5\n",
       "\\item 15.2\n",
       "\\item 13.3\n",
       "\\item 19.2\n",
       "\\item 27.3\n",
       "\\item 26\n",
       "\\item 30.4\n",
       "\\item 15.8\n",
       "\\item 19.7\n",
       "\\item 15\n",
       "\\item 21.4\n",
       "\\end{enumerate*}\n"
      ],
      "text/markdown": [
       "1. 21\n",
       "2. 21\n",
       "3. 22.8\n",
       "4. 21.4\n",
       "5. 18.7\n",
       "6. 18.1\n",
       "7. 14.3\n",
       "8. 24.4\n",
       "9. 22.8\n",
       "10. 19.2\n",
       "11. 17.8\n",
       "12. 16.4\n",
       "13. 17.3\n",
       "14. 15.2\n",
       "15. 10.4\n",
       "16. 10.4\n",
       "17. 14.7\n",
       "18. 32.4\n",
       "19. 30.4\n",
       "20. 33.9\n",
       "21. 21.5\n",
       "22. 15.5\n",
       "23. 15.2\n",
       "24. 13.3\n",
       "25. 19.2\n",
       "26. 27.3\n",
       "27. 26\n",
       "28. 30.4\n",
       "29. 15.8\n",
       "30. 19.7\n",
       "31. 15\n",
       "32. 21.4\n",
       "\n",
       "\n"
      ],
      "text/plain": [
       " [1] 21.0 21.0 22.8 21.4 18.7 18.1 14.3 24.4 22.8 19.2 17.8 16.4 17.3 15.2 10.4\n",
       "[16] 10.4 14.7 32.4 30.4 33.9 21.5 15.5 15.2 13.3 19.2 27.3 26.0 30.4 15.8 19.7\n",
       "[31] 15.0 21.4"
      ]
     },
     "metadata": {},
     "output_type": "display_data"
    }
   ],
   "source": [
    "mtcars[,1]"
   ]
  },
  {
   "cell_type": "code",
   "execution_count": 192,
   "metadata": {},
   "outputs": [
    {
     "data": {
      "text/html": [
       "<ol class=list-inline>\n",
       "\t<li>21</li>\n",
       "\t<li>21</li>\n",
       "\t<li>22.8</li>\n",
       "\t<li>21.4</li>\n",
       "\t<li>18.7</li>\n",
       "\t<li>18.1</li>\n",
       "\t<li>14.3</li>\n",
       "\t<li>24.4</li>\n",
       "\t<li>22.8</li>\n",
       "\t<li>19.2</li>\n",
       "\t<li>17.8</li>\n",
       "\t<li>16.4</li>\n",
       "\t<li>17.3</li>\n",
       "\t<li>15.2</li>\n",
       "\t<li>10.4</li>\n",
       "\t<li>10.4</li>\n",
       "\t<li>14.7</li>\n",
       "\t<li>32.4</li>\n",
       "\t<li>30.4</li>\n",
       "\t<li>33.9</li>\n",
       "\t<li>21.5</li>\n",
       "\t<li>15.5</li>\n",
       "\t<li>15.2</li>\n",
       "\t<li>13.3</li>\n",
       "\t<li>19.2</li>\n",
       "\t<li>27.3</li>\n",
       "\t<li>26</li>\n",
       "\t<li>30.4</li>\n",
       "\t<li>15.8</li>\n",
       "\t<li>19.7</li>\n",
       "\t<li>15</li>\n",
       "\t<li>21.4</li>\n",
       "</ol>\n"
      ],
      "text/latex": [
       "\\begin{enumerate*}\n",
       "\\item 21\n",
       "\\item 21\n",
       "\\item 22.8\n",
       "\\item 21.4\n",
       "\\item 18.7\n",
       "\\item 18.1\n",
       "\\item 14.3\n",
       "\\item 24.4\n",
       "\\item 22.8\n",
       "\\item 19.2\n",
       "\\item 17.8\n",
       "\\item 16.4\n",
       "\\item 17.3\n",
       "\\item 15.2\n",
       "\\item 10.4\n",
       "\\item 10.4\n",
       "\\item 14.7\n",
       "\\item 32.4\n",
       "\\item 30.4\n",
       "\\item 33.9\n",
       "\\item 21.5\n",
       "\\item 15.5\n",
       "\\item 15.2\n",
       "\\item 13.3\n",
       "\\item 19.2\n",
       "\\item 27.3\n",
       "\\item 26\n",
       "\\item 30.4\n",
       "\\item 15.8\n",
       "\\item 19.7\n",
       "\\item 15\n",
       "\\item 21.4\n",
       "\\end{enumerate*}\n"
      ],
      "text/markdown": [
       "1. 21\n",
       "2. 21\n",
       "3. 22.8\n",
       "4. 21.4\n",
       "5. 18.7\n",
       "6. 18.1\n",
       "7. 14.3\n",
       "8. 24.4\n",
       "9. 22.8\n",
       "10. 19.2\n",
       "11. 17.8\n",
       "12. 16.4\n",
       "13. 17.3\n",
       "14. 15.2\n",
       "15. 10.4\n",
       "16. 10.4\n",
       "17. 14.7\n",
       "18. 32.4\n",
       "19. 30.4\n",
       "20. 33.9\n",
       "21. 21.5\n",
       "22. 15.5\n",
       "23. 15.2\n",
       "24. 13.3\n",
       "25. 19.2\n",
       "26. 27.3\n",
       "27. 26\n",
       "28. 30.4\n",
       "29. 15.8\n",
       "30. 19.7\n",
       "31. 15\n",
       "32. 21.4\n",
       "\n",
       "\n"
      ],
      "text/plain": [
       " [1] 21.0 21.0 22.8 21.4 18.7 18.1 14.3 24.4 22.8 19.2 17.8 16.4 17.3 15.2 10.4\n",
       "[16] 10.4 14.7 32.4 30.4 33.9 21.5 15.5 15.2 13.3 19.2 27.3 26.0 30.4 15.8 19.7\n",
       "[31] 15.0 21.4"
      ]
     },
     "metadata": {},
     "output_type": "display_data"
    }
   ],
   "source": [
    "mtcars[,'mpg']"
   ]
  },
  {
   "cell_type": "code",
   "execution_count": 193,
   "metadata": {},
   "outputs": [
    {
     "data": {
      "text/html": [
       "<ol class=list-inline>\n",
       "\t<li>21</li>\n",
       "\t<li>21</li>\n",
       "\t<li>22.8</li>\n",
       "\t<li>21.4</li>\n",
       "\t<li>18.7</li>\n",
       "\t<li>18.1</li>\n",
       "\t<li>14.3</li>\n",
       "\t<li>24.4</li>\n",
       "\t<li>22.8</li>\n",
       "\t<li>19.2</li>\n",
       "\t<li>17.8</li>\n",
       "\t<li>16.4</li>\n",
       "\t<li>17.3</li>\n",
       "\t<li>15.2</li>\n",
       "\t<li>10.4</li>\n",
       "\t<li>10.4</li>\n",
       "\t<li>14.7</li>\n",
       "\t<li>32.4</li>\n",
       "\t<li>30.4</li>\n",
       "\t<li>33.9</li>\n",
       "\t<li>21.5</li>\n",
       "\t<li>15.5</li>\n",
       "\t<li>15.2</li>\n",
       "\t<li>13.3</li>\n",
       "\t<li>19.2</li>\n",
       "\t<li>27.3</li>\n",
       "\t<li>26</li>\n",
       "\t<li>30.4</li>\n",
       "\t<li>15.8</li>\n",
       "\t<li>19.7</li>\n",
       "\t<li>15</li>\n",
       "\t<li>21.4</li>\n",
       "</ol>\n"
      ],
      "text/latex": [
       "\\begin{enumerate*}\n",
       "\\item 21\n",
       "\\item 21\n",
       "\\item 22.8\n",
       "\\item 21.4\n",
       "\\item 18.7\n",
       "\\item 18.1\n",
       "\\item 14.3\n",
       "\\item 24.4\n",
       "\\item 22.8\n",
       "\\item 19.2\n",
       "\\item 17.8\n",
       "\\item 16.4\n",
       "\\item 17.3\n",
       "\\item 15.2\n",
       "\\item 10.4\n",
       "\\item 10.4\n",
       "\\item 14.7\n",
       "\\item 32.4\n",
       "\\item 30.4\n",
       "\\item 33.9\n",
       "\\item 21.5\n",
       "\\item 15.5\n",
       "\\item 15.2\n",
       "\\item 13.3\n",
       "\\item 19.2\n",
       "\\item 27.3\n",
       "\\item 26\n",
       "\\item 30.4\n",
       "\\item 15.8\n",
       "\\item 19.7\n",
       "\\item 15\n",
       "\\item 21.4\n",
       "\\end{enumerate*}\n"
      ],
      "text/markdown": [
       "1. 21\n",
       "2. 21\n",
       "3. 22.8\n",
       "4. 21.4\n",
       "5. 18.7\n",
       "6. 18.1\n",
       "7. 14.3\n",
       "8. 24.4\n",
       "9. 22.8\n",
       "10. 19.2\n",
       "11. 17.8\n",
       "12. 16.4\n",
       "13. 17.3\n",
       "14. 15.2\n",
       "15. 10.4\n",
       "16. 10.4\n",
       "17. 14.7\n",
       "18. 32.4\n",
       "19. 30.4\n",
       "20. 33.9\n",
       "21. 21.5\n",
       "22. 15.5\n",
       "23. 15.2\n",
       "24. 13.3\n",
       "25. 19.2\n",
       "26. 27.3\n",
       "27. 26\n",
       "28. 30.4\n",
       "29. 15.8\n",
       "30. 19.7\n",
       "31. 15\n",
       "32. 21.4\n",
       "\n",
       "\n"
      ],
      "text/plain": [
       " [1] 21.0 21.0 22.8 21.4 18.7 18.1 14.3 24.4 22.8 19.2 17.8 16.4 17.3 15.2 10.4\n",
       "[16] 10.4 14.7 32.4 30.4 33.9 21.5 15.5 15.2 13.3 19.2 27.3 26.0 30.4 15.8 19.7\n",
       "[31] 15.0 21.4"
      ]
     },
     "metadata": {},
     "output_type": "display_data"
    }
   ],
   "source": [
    "mtcars[['mpg']]"
   ]
  },
  {
   "cell_type": "code",
   "execution_count": 194,
   "metadata": {},
   "outputs": [
    {
     "data": {
      "text/html": [
       "<table>\n",
       "<thead><tr><th></th><th scope=col>mpg</th></tr></thead>\n",
       "<tbody>\n",
       "\t<tr><th scope=row>Mazda RX4</th><td>21.0</td></tr>\n",
       "\t<tr><th scope=row>Mazda RX4 Wag</th><td>21.0</td></tr>\n",
       "\t<tr><th scope=row>Datsun 710</th><td>22.8</td></tr>\n",
       "\t<tr><th scope=row>Hornet 4 Drive</th><td>21.4</td></tr>\n",
       "\t<tr><th scope=row>Hornet Sportabout</th><td>18.7</td></tr>\n",
       "\t<tr><th scope=row>Valiant</th><td>18.1</td></tr>\n",
       "\t<tr><th scope=row>Duster 360</th><td>14.3</td></tr>\n",
       "\t<tr><th scope=row>Merc 240D</th><td>24.4</td></tr>\n",
       "\t<tr><th scope=row>Merc 230</th><td>22.8</td></tr>\n",
       "\t<tr><th scope=row>Merc 280</th><td>19.2</td></tr>\n",
       "\t<tr><th scope=row>Merc 280C</th><td>17.8</td></tr>\n",
       "\t<tr><th scope=row>Merc 450SE</th><td>16.4</td></tr>\n",
       "\t<tr><th scope=row>Merc 450SL</th><td>17.3</td></tr>\n",
       "\t<tr><th scope=row>Merc 450SLC</th><td>15.2</td></tr>\n",
       "\t<tr><th scope=row>Cadillac Fleetwood</th><td>10.4</td></tr>\n",
       "\t<tr><th scope=row>Lincoln Continental</th><td>10.4</td></tr>\n",
       "\t<tr><th scope=row>Chrysler Imperial</th><td>14.7</td></tr>\n",
       "\t<tr><th scope=row>Fiat 128</th><td>32.4</td></tr>\n",
       "\t<tr><th scope=row>Honda Civic</th><td>30.4</td></tr>\n",
       "\t<tr><th scope=row>Toyota Corolla</th><td>33.9</td></tr>\n",
       "\t<tr><th scope=row>Toyota Corona</th><td>21.5</td></tr>\n",
       "\t<tr><th scope=row>Dodge Challenger</th><td>15.5</td></tr>\n",
       "\t<tr><th scope=row>AMC Javelin</th><td>15.2</td></tr>\n",
       "\t<tr><th scope=row>Camaro Z28</th><td>13.3</td></tr>\n",
       "\t<tr><th scope=row>Pontiac Firebird</th><td>19.2</td></tr>\n",
       "\t<tr><th scope=row>Fiat X1-9</th><td>27.3</td></tr>\n",
       "\t<tr><th scope=row>Porsche 914-2</th><td>26.0</td></tr>\n",
       "\t<tr><th scope=row>Lotus Europa</th><td>30.4</td></tr>\n",
       "\t<tr><th scope=row>Ford Pantera L</th><td>15.8</td></tr>\n",
       "\t<tr><th scope=row>Ferrari Dino</th><td>19.7</td></tr>\n",
       "\t<tr><th scope=row>Maserati Bora</th><td>15.0</td></tr>\n",
       "\t<tr><th scope=row>Volvo 142E</th><td>21.4</td></tr>\n",
       "</tbody>\n",
       "</table>\n"
      ],
      "text/latex": [
       "\\begin{tabular}{r|l}\n",
       "  & mpg\\\\\n",
       "\\hline\n",
       "\tMazda RX4 & 21.0\\\\\n",
       "\tMazda RX4 Wag & 21.0\\\\\n",
       "\tDatsun 710 & 22.8\\\\\n",
       "\tHornet 4 Drive & 21.4\\\\\n",
       "\tHornet Sportabout & 18.7\\\\\n",
       "\tValiant & 18.1\\\\\n",
       "\tDuster 360 & 14.3\\\\\n",
       "\tMerc 240D & 24.4\\\\\n",
       "\tMerc 230 & 22.8\\\\\n",
       "\tMerc 280 & 19.2\\\\\n",
       "\tMerc 280C & 17.8\\\\\n",
       "\tMerc 450SE & 16.4\\\\\n",
       "\tMerc 450SL & 17.3\\\\\n",
       "\tMerc 450SLC & 15.2\\\\\n",
       "\tCadillac Fleetwood & 10.4\\\\\n",
       "\tLincoln Continental & 10.4\\\\\n",
       "\tChrysler Imperial & 14.7\\\\\n",
       "\tFiat 128 & 32.4\\\\\n",
       "\tHonda Civic & 30.4\\\\\n",
       "\tToyota Corolla & 33.9\\\\\n",
       "\tToyota Corona & 21.5\\\\\n",
       "\tDodge Challenger & 15.5\\\\\n",
       "\tAMC Javelin & 15.2\\\\\n",
       "\tCamaro Z28 & 13.3\\\\\n",
       "\tPontiac Firebird & 19.2\\\\\n",
       "\tFiat X1-9 & 27.3\\\\\n",
       "\tPorsche 914-2 & 26.0\\\\\n",
       "\tLotus Europa & 30.4\\\\\n",
       "\tFord Pantera L & 15.8\\\\\n",
       "\tFerrari Dino & 19.7\\\\\n",
       "\tMaserati Bora & 15.0\\\\\n",
       "\tVolvo 142E & 21.4\\\\\n",
       "\\end{tabular}\n"
      ],
      "text/markdown": [
       "\n",
       "| <!--/--> | mpg |\n",
       "|---|---|\n",
       "| Mazda RX4 | 21.0 |\n",
       "| Mazda RX4 Wag | 21.0 |\n",
       "| Datsun 710 | 22.8 |\n",
       "| Hornet 4 Drive | 21.4 |\n",
       "| Hornet Sportabout | 18.7 |\n",
       "| Valiant | 18.1 |\n",
       "| Duster 360 | 14.3 |\n",
       "| Merc 240D | 24.4 |\n",
       "| Merc 230 | 22.8 |\n",
       "| Merc 280 | 19.2 |\n",
       "| Merc 280C | 17.8 |\n",
       "| Merc 450SE | 16.4 |\n",
       "| Merc 450SL | 17.3 |\n",
       "| Merc 450SLC | 15.2 |\n",
       "| Cadillac Fleetwood | 10.4 |\n",
       "| Lincoln Continental | 10.4 |\n",
       "| Chrysler Imperial | 14.7 |\n",
       "| Fiat 128 | 32.4 |\n",
       "| Honda Civic | 30.4 |\n",
       "| Toyota Corolla | 33.9 |\n",
       "| Toyota Corona | 21.5 |\n",
       "| Dodge Challenger | 15.5 |\n",
       "| AMC Javelin | 15.2 |\n",
       "| Camaro Z28 | 13.3 |\n",
       "| Pontiac Firebird | 19.2 |\n",
       "| Fiat X1-9 | 27.3 |\n",
       "| Porsche 914-2 | 26.0 |\n",
       "| Lotus Europa | 30.4 |\n",
       "| Ford Pantera L | 15.8 |\n",
       "| Ferrari Dino | 19.7 |\n",
       "| Maserati Bora | 15.0 |\n",
       "| Volvo 142E | 21.4 |\n",
       "\n"
      ],
      "text/plain": [
       "                    mpg \n",
       "Mazda RX4           21.0\n",
       "Mazda RX4 Wag       21.0\n",
       "Datsun 710          22.8\n",
       "Hornet 4 Drive      21.4\n",
       "Hornet Sportabout   18.7\n",
       "Valiant             18.1\n",
       "Duster 360          14.3\n",
       "Merc 240D           24.4\n",
       "Merc 230            22.8\n",
       "Merc 280            19.2\n",
       "Merc 280C           17.8\n",
       "Merc 450SE          16.4\n",
       "Merc 450SL          17.3\n",
       "Merc 450SLC         15.2\n",
       "Cadillac Fleetwood  10.4\n",
       "Lincoln Continental 10.4\n",
       "Chrysler Imperial   14.7\n",
       "Fiat 128            32.4\n",
       "Honda Civic         30.4\n",
       "Toyota Corolla      33.9\n",
       "Toyota Corona       21.5\n",
       "Dodge Challenger    15.5\n",
       "AMC Javelin         15.2\n",
       "Camaro Z28          13.3\n",
       "Pontiac Firebird    19.2\n",
       "Fiat X1-9           27.3\n",
       "Porsche 914-2       26.0\n",
       "Lotus Europa        30.4\n",
       "Ford Pantera L      15.8\n",
       "Ferrari Dino        19.7\n",
       "Maserati Bora       15.0\n",
       "Volvo 142E          21.4"
      ]
     },
     "metadata": {},
     "output_type": "display_data"
    }
   ],
   "source": [
    "mtcars[1] # indeks lokasi kolom:1, cara ini mereferensi kolom mpg sbg data frame"
   ]
  },
  {
   "cell_type": "code",
   "execution_count": 195,
   "metadata": {},
   "outputs": [
    {
     "data": {
      "text/html": [
       "<table>\n",
       "<thead><tr><th></th><th scope=col>mpg</th><th scope=col>cyl</th><th scope=col>disp</th><th scope=col>hp</th><th scope=col>drat</th><th scope=col>wt</th><th scope=col>qsec</th><th scope=col>vs</th><th scope=col>am</th><th scope=col>gear</th><th scope=col>carb</th></tr></thead>\n",
       "<tbody>\n",
       "\t<tr><th scope=row>Mazda RX4</th><td>21.0 </td><td>6    </td><td>160  </td><td>110  </td><td>3.90 </td><td>2.620</td><td>16.46</td><td>0    </td><td>1    </td><td>4    </td><td>4    </td></tr>\n",
       "\t<tr><th scope=row>Mazda RX4 Wag</th><td>21.0 </td><td>6    </td><td>160  </td><td>110  </td><td>3.90 </td><td>2.875</td><td>17.02</td><td>0    </td><td>1    </td><td>4    </td><td>4    </td></tr>\n",
       "\t<tr><th scope=row>Datsun 710</th><td>22.8 </td><td>4    </td><td>108  </td><td> 93  </td><td>3.85 </td><td>2.320</td><td>18.61</td><td>1    </td><td>1    </td><td>4    </td><td>1    </td></tr>\n",
       "\t<tr><th scope=row>Hornet 4 Drive</th><td>21.4 </td><td>6    </td><td>258  </td><td>110  </td><td>3.08 </td><td>3.215</td><td>19.44</td><td>1    </td><td>0    </td><td>3    </td><td>1    </td></tr>\n",
       "\t<tr><th scope=row>Hornet Sportabout</th><td>18.7 </td><td>8    </td><td>360  </td><td>175  </td><td>3.15 </td><td>3.440</td><td>17.02</td><td>0    </td><td>0    </td><td>3    </td><td>2    </td></tr>\n",
       "\t<tr><th scope=row>Valiant</th><td>18.1 </td><td>6    </td><td>225  </td><td>105  </td><td>2.76 </td><td>3.460</td><td>20.22</td><td>1    </td><td>0    </td><td>3    </td><td>1    </td></tr>\n",
       "</tbody>\n",
       "</table>\n"
      ],
      "text/latex": [
       "\\begin{tabular}{r|lllllllllll}\n",
       "  & mpg & cyl & disp & hp & drat & wt & qsec & vs & am & gear & carb\\\\\n",
       "\\hline\n",
       "\tMazda RX4 & 21.0  & 6     & 160   & 110   & 3.90  & 2.620 & 16.46 & 0     & 1     & 4     & 4    \\\\\n",
       "\tMazda RX4 Wag & 21.0  & 6     & 160   & 110   & 3.90  & 2.875 & 17.02 & 0     & 1     & 4     & 4    \\\\\n",
       "\tDatsun 710 & 22.8  & 4     & 108   &  93   & 3.85  & 2.320 & 18.61 & 1     & 1     & 4     & 1    \\\\\n",
       "\tHornet 4 Drive & 21.4  & 6     & 258   & 110   & 3.08  & 3.215 & 19.44 & 1     & 0     & 3     & 1    \\\\\n",
       "\tHornet Sportabout & 18.7  & 8     & 360   & 175   & 3.15  & 3.440 & 17.02 & 0     & 0     & 3     & 2    \\\\\n",
       "\tValiant & 18.1  & 6     & 225   & 105   & 2.76  & 3.460 & 20.22 & 1     & 0     & 3     & 1    \\\\\n",
       "\\end{tabular}\n"
      ],
      "text/markdown": [
       "\n",
       "| <!--/--> | mpg | cyl | disp | hp | drat | wt | qsec | vs | am | gear | carb |\n",
       "|---|---|---|---|---|---|---|---|---|---|---|---|\n",
       "| Mazda RX4 | 21.0  | 6     | 160   | 110   | 3.90  | 2.620 | 16.46 | 0     | 1     | 4     | 4     |\n",
       "| Mazda RX4 Wag | 21.0  | 6     | 160   | 110   | 3.90  | 2.875 | 17.02 | 0     | 1     | 4     | 4     |\n",
       "| Datsun 710 | 22.8  | 4     | 108   |  93   | 3.85  | 2.320 | 18.61 | 1     | 1     | 4     | 1     |\n",
       "| Hornet 4 Drive | 21.4  | 6     | 258   | 110   | 3.08  | 3.215 | 19.44 | 1     | 0     | 3     | 1     |\n",
       "| Hornet Sportabout | 18.7  | 8     | 360   | 175   | 3.15  | 3.440 | 17.02 | 0     | 0     | 3     | 2     |\n",
       "| Valiant | 18.1  | 6     | 225   | 105   | 2.76  | 3.460 | 20.22 | 1     | 0     | 3     | 1     |\n",
       "\n"
      ],
      "text/plain": [
       "                  mpg  cyl disp hp  drat wt    qsec  vs am gear carb\n",
       "Mazda RX4         21.0 6   160  110 3.90 2.620 16.46 0  1  4    4   \n",
       "Mazda RX4 Wag     21.0 6   160  110 3.90 2.875 17.02 0  1  4    4   \n",
       "Datsun 710        22.8 4   108   93 3.85 2.320 18.61 1  1  4    1   \n",
       "Hornet 4 Drive    21.4 6   258  110 3.08 3.215 19.44 1  0  3    1   \n",
       "Hornet Sportabout 18.7 8   360  175 3.15 3.440 17.02 0  0  3    2   \n",
       "Valiant           18.1 6   225  105 2.76 3.460 20.22 1  0  3    1   "
      ]
     },
     "metadata": {},
     "output_type": "display_data"
    }
   ],
   "source": [
    "head(mtcars)"
   ]
  },
  {
   "cell_type": "code",
   "execution_count": 196,
   "metadata": {},
   "outputs": [
    {
     "data": {
      "text/html": [
       "<table>\n",
       "<thead><tr><th></th><th scope=col>mpg</th><th scope=col>cyl</th></tr></thead>\n",
       "<tbody>\n",
       "\t<tr><th scope=row>Mazda RX4</th><td>21.0</td><td>6   </td></tr>\n",
       "\t<tr><th scope=row>Mazda RX4 Wag</th><td>21.0</td><td>6   </td></tr>\n",
       "\t<tr><th scope=row>Datsun 710</th><td>22.8</td><td>4   </td></tr>\n",
       "\t<tr><th scope=row>Hornet 4 Drive</th><td>21.4</td><td>6   </td></tr>\n",
       "\t<tr><th scope=row>Hornet Sportabout</th><td>18.7</td><td>8   </td></tr>\n",
       "\t<tr><th scope=row>Valiant</th><td>18.1</td><td>6   </td></tr>\n",
       "\t<tr><th scope=row>Duster 360</th><td>14.3</td><td>8   </td></tr>\n",
       "\t<tr><th scope=row>Merc 240D</th><td>24.4</td><td>4   </td></tr>\n",
       "\t<tr><th scope=row>Merc 230</th><td>22.8</td><td>4   </td></tr>\n",
       "\t<tr><th scope=row>Merc 280</th><td>19.2</td><td>6   </td></tr>\n",
       "\t<tr><th scope=row>Merc 280C</th><td>17.8</td><td>6   </td></tr>\n",
       "\t<tr><th scope=row>Merc 450SE</th><td>16.4</td><td>8   </td></tr>\n",
       "\t<tr><th scope=row>Merc 450SL</th><td>17.3</td><td>8   </td></tr>\n",
       "\t<tr><th scope=row>Merc 450SLC</th><td>15.2</td><td>8   </td></tr>\n",
       "\t<tr><th scope=row>Cadillac Fleetwood</th><td>10.4</td><td>8   </td></tr>\n",
       "\t<tr><th scope=row>Lincoln Continental</th><td>10.4</td><td>8   </td></tr>\n",
       "\t<tr><th scope=row>Chrysler Imperial</th><td>14.7</td><td>8   </td></tr>\n",
       "\t<tr><th scope=row>Fiat 128</th><td>32.4</td><td>4   </td></tr>\n",
       "\t<tr><th scope=row>Honda Civic</th><td>30.4</td><td>4   </td></tr>\n",
       "\t<tr><th scope=row>Toyota Corolla</th><td>33.9</td><td>4   </td></tr>\n",
       "\t<tr><th scope=row>Toyota Corona</th><td>21.5</td><td>4   </td></tr>\n",
       "\t<tr><th scope=row>Dodge Challenger</th><td>15.5</td><td>8   </td></tr>\n",
       "\t<tr><th scope=row>AMC Javelin</th><td>15.2</td><td>8   </td></tr>\n",
       "\t<tr><th scope=row>Camaro Z28</th><td>13.3</td><td>8   </td></tr>\n",
       "\t<tr><th scope=row>Pontiac Firebird</th><td>19.2</td><td>8   </td></tr>\n",
       "\t<tr><th scope=row>Fiat X1-9</th><td>27.3</td><td>4   </td></tr>\n",
       "\t<tr><th scope=row>Porsche 914-2</th><td>26.0</td><td>4   </td></tr>\n",
       "\t<tr><th scope=row>Lotus Europa</th><td>30.4</td><td>4   </td></tr>\n",
       "\t<tr><th scope=row>Ford Pantera L</th><td>15.8</td><td>8   </td></tr>\n",
       "\t<tr><th scope=row>Ferrari Dino</th><td>19.7</td><td>6   </td></tr>\n",
       "\t<tr><th scope=row>Maserati Bora</th><td>15.0</td><td>8   </td></tr>\n",
       "\t<tr><th scope=row>Volvo 142E</th><td>21.4</td><td>4   </td></tr>\n",
       "</tbody>\n",
       "</table>\n"
      ],
      "text/latex": [
       "\\begin{tabular}{r|ll}\n",
       "  & mpg & cyl\\\\\n",
       "\\hline\n",
       "\tMazda RX4 & 21.0 & 6   \\\\\n",
       "\tMazda RX4 Wag & 21.0 & 6   \\\\\n",
       "\tDatsun 710 & 22.8 & 4   \\\\\n",
       "\tHornet 4 Drive & 21.4 & 6   \\\\\n",
       "\tHornet Sportabout & 18.7 & 8   \\\\\n",
       "\tValiant & 18.1 & 6   \\\\\n",
       "\tDuster 360 & 14.3 & 8   \\\\\n",
       "\tMerc 240D & 24.4 & 4   \\\\\n",
       "\tMerc 230 & 22.8 & 4   \\\\\n",
       "\tMerc 280 & 19.2 & 6   \\\\\n",
       "\tMerc 280C & 17.8 & 6   \\\\\n",
       "\tMerc 450SE & 16.4 & 8   \\\\\n",
       "\tMerc 450SL & 17.3 & 8   \\\\\n",
       "\tMerc 450SLC & 15.2 & 8   \\\\\n",
       "\tCadillac Fleetwood & 10.4 & 8   \\\\\n",
       "\tLincoln Continental & 10.4 & 8   \\\\\n",
       "\tChrysler Imperial & 14.7 & 8   \\\\\n",
       "\tFiat 128 & 32.4 & 4   \\\\\n",
       "\tHonda Civic & 30.4 & 4   \\\\\n",
       "\tToyota Corolla & 33.9 & 4   \\\\\n",
       "\tToyota Corona & 21.5 & 4   \\\\\n",
       "\tDodge Challenger & 15.5 & 8   \\\\\n",
       "\tAMC Javelin & 15.2 & 8   \\\\\n",
       "\tCamaro Z28 & 13.3 & 8   \\\\\n",
       "\tPontiac Firebird & 19.2 & 8   \\\\\n",
       "\tFiat X1-9 & 27.3 & 4   \\\\\n",
       "\tPorsche 914-2 & 26.0 & 4   \\\\\n",
       "\tLotus Europa & 30.4 & 4   \\\\\n",
       "\tFord Pantera L & 15.8 & 8   \\\\\n",
       "\tFerrari Dino & 19.7 & 6   \\\\\n",
       "\tMaserati Bora & 15.0 & 8   \\\\\n",
       "\tVolvo 142E & 21.4 & 4   \\\\\n",
       "\\end{tabular}\n"
      ],
      "text/markdown": [
       "\n",
       "| <!--/--> | mpg | cyl |\n",
       "|---|---|---|\n",
       "| Mazda RX4 | 21.0 | 6    |\n",
       "| Mazda RX4 Wag | 21.0 | 6    |\n",
       "| Datsun 710 | 22.8 | 4    |\n",
       "| Hornet 4 Drive | 21.4 | 6    |\n",
       "| Hornet Sportabout | 18.7 | 8    |\n",
       "| Valiant | 18.1 | 6    |\n",
       "| Duster 360 | 14.3 | 8    |\n",
       "| Merc 240D | 24.4 | 4    |\n",
       "| Merc 230 | 22.8 | 4    |\n",
       "| Merc 280 | 19.2 | 6    |\n",
       "| Merc 280C | 17.8 | 6    |\n",
       "| Merc 450SE | 16.4 | 8    |\n",
       "| Merc 450SL | 17.3 | 8    |\n",
       "| Merc 450SLC | 15.2 | 8    |\n",
       "| Cadillac Fleetwood | 10.4 | 8    |\n",
       "| Lincoln Continental | 10.4 | 8    |\n",
       "| Chrysler Imperial | 14.7 | 8    |\n",
       "| Fiat 128 | 32.4 | 4    |\n",
       "| Honda Civic | 30.4 | 4    |\n",
       "| Toyota Corolla | 33.9 | 4    |\n",
       "| Toyota Corona | 21.5 | 4    |\n",
       "| Dodge Challenger | 15.5 | 8    |\n",
       "| AMC Javelin | 15.2 | 8    |\n",
       "| Camaro Z28 | 13.3 | 8    |\n",
       "| Pontiac Firebird | 19.2 | 8    |\n",
       "| Fiat X1-9 | 27.3 | 4    |\n",
       "| Porsche 914-2 | 26.0 | 4    |\n",
       "| Lotus Europa | 30.4 | 4    |\n",
       "| Ford Pantera L | 15.8 | 8    |\n",
       "| Ferrari Dino | 19.7 | 6    |\n",
       "| Maserati Bora | 15.0 | 8    |\n",
       "| Volvo 142E | 21.4 | 4    |\n",
       "\n"
      ],
      "text/plain": [
       "                    mpg  cyl\n",
       "Mazda RX4           21.0 6  \n",
       "Mazda RX4 Wag       21.0 6  \n",
       "Datsun 710          22.8 4  \n",
       "Hornet 4 Drive      21.4 6  \n",
       "Hornet Sportabout   18.7 8  \n",
       "Valiant             18.1 6  \n",
       "Duster 360          14.3 8  \n",
       "Merc 240D           24.4 4  \n",
       "Merc 230            22.8 4  \n",
       "Merc 280            19.2 6  \n",
       "Merc 280C           17.8 6  \n",
       "Merc 450SE          16.4 8  \n",
       "Merc 450SL          17.3 8  \n",
       "Merc 450SLC         15.2 8  \n",
       "Cadillac Fleetwood  10.4 8  \n",
       "Lincoln Continental 10.4 8  \n",
       "Chrysler Imperial   14.7 8  \n",
       "Fiat 128            32.4 4  \n",
       "Honda Civic         30.4 4  \n",
       "Toyota Corolla      33.9 4  \n",
       "Toyota Corona       21.5 4  \n",
       "Dodge Challenger    15.5 8  \n",
       "AMC Javelin         15.2 8  \n",
       "Camaro Z28          13.3 8  \n",
       "Pontiac Firebird    19.2 8  \n",
       "Fiat X1-9           27.3 4  \n",
       "Porsche 914-2       26.0 4  \n",
       "Lotus Europa        30.4 4  \n",
       "Ford Pantera L      15.8 8  \n",
       "Ferrari Dino        19.7 6  \n",
       "Maserati Bora       15.0 8  \n",
       "Volvo 142E          21.4 4  "
      ]
     },
     "metadata": {},
     "output_type": "display_data"
    }
   ],
   "source": [
    "mtcars[c('mpg', 'cyl')]"
   ]
  },
  {
   "cell_type": "markdown",
   "metadata": {},
   "source": [
    "### Menambahkan baris dan kolom"
   ]
  },
  {
   "cell_type": "code",
   "execution_count": 197,
   "metadata": {},
   "outputs": [
    {
     "data": {
      "text/html": [
       "<table>\n",
       "<thead><tr><th scope=col>kol1</th><th scope=col>kol2</th></tr></thead>\n",
       "<tbody>\n",
       "\t<tr><td>10</td><td>a </td></tr>\n",
       "\t<tr><td>20</td><td>b </td></tr>\n",
       "\t<tr><td>30</td><td>c </td></tr>\n",
       "\t<tr><td>40</td><td>d </td></tr>\n",
       "\t<tr><td>50</td><td>e </td></tr>\n",
       "</tbody>\n",
       "</table>\n"
      ],
      "text/latex": [
       "\\begin{tabular}{r|ll}\n",
       " kol1 & kol2\\\\\n",
       "\\hline\n",
       "\t 10 & a \\\\\n",
       "\t 20 & b \\\\\n",
       "\t 30 & c \\\\\n",
       "\t 40 & d \\\\\n",
       "\t 50 & e \\\\\n",
       "\\end{tabular}\n"
      ],
      "text/markdown": [
       "\n",
       "| kol1 | kol2 |\n",
       "|---|---|\n",
       "| 10 | a  |\n",
       "| 20 | b  |\n",
       "| 30 | c  |\n",
       "| 40 | d  |\n",
       "| 50 | e  |\n",
       "\n"
      ],
      "text/plain": [
       "  kol1 kol2\n",
       "1 10   a   \n",
       "2 20   b   \n",
       "3 30   c   \n",
       "4 40   d   \n",
       "5 50   e   "
      ]
     },
     "metadata": {},
     "output_type": "display_data"
    }
   ],
   "source": [
    "c1 <- c(10,20,30,40,50)\n",
    "c2 <- letters[c(1:5)]\n",
    "df <- data.frame(kol1=c1,kol2=c2)\n",
    "df"
   ]
  },
  {
   "cell_type": "code",
   "execution_count": 198,
   "metadata": {},
   "outputs": [
    {
     "data": {
      "text/html": [
       "<table>\n",
       "<thead><tr><th scope=col>kol1</th><th scope=col>kol2</th></tr></thead>\n",
       "<tbody>\n",
       "\t<tr><td>128        </td><td>Meteorologi</td></tr>\n",
       "</tbody>\n",
       "</table>\n"
      ],
      "text/latex": [
       "\\begin{tabular}{r|ll}\n",
       " kol1 & kol2\\\\\n",
       "\\hline\n",
       "\t 128         & Meteorologi\\\\\n",
       "\\end{tabular}\n"
      ],
      "text/markdown": [
       "\n",
       "| kol1 | kol2 |\n",
       "|---|---|\n",
       "| 128         | Meteorologi |\n",
       "\n"
      ],
      "text/plain": [
       "  kol1 kol2       \n",
       "1 128  Meteorologi"
      ]
     },
     "metadata": {},
     "output_type": "display_data"
    }
   ],
   "source": [
    "df1 <- data.frame(kol1=128,kol2='Meteorologi')\n",
    "df1"
   ]
  },
  {
   "cell_type": "code",
   "execution_count": 199,
   "metadata": {},
   "outputs": [
    {
     "data": {
      "text/html": [
       "<table>\n",
       "<thead><tr><th scope=col>kol1</th><th scope=col>kol2</th></tr></thead>\n",
       "<tbody>\n",
       "\t<tr><td> 10        </td><td>a          </td></tr>\n",
       "\t<tr><td> 20        </td><td>b          </td></tr>\n",
       "\t<tr><td> 30        </td><td>c          </td></tr>\n",
       "\t<tr><td> 40        </td><td>d          </td></tr>\n",
       "\t<tr><td> 50        </td><td>e          </td></tr>\n",
       "\t<tr><td>128        </td><td>Meteorologi</td></tr>\n",
       "</tbody>\n",
       "</table>\n"
      ],
      "text/latex": [
       "\\begin{tabular}{r|ll}\n",
       " kol1 & kol2\\\\\n",
       "\\hline\n",
       "\t  10         & a          \\\\\n",
       "\t  20         & b          \\\\\n",
       "\t  30         & c          \\\\\n",
       "\t  40         & d          \\\\\n",
       "\t  50         & e          \\\\\n",
       "\t 128         & Meteorologi\\\\\n",
       "\\end{tabular}\n"
      ],
      "text/markdown": [
       "\n",
       "| kol1 | kol2 |\n",
       "|---|---|\n",
       "|  10         | a           |\n",
       "|  20         | b           |\n",
       "|  30         | c           |\n",
       "|  40         | d           |\n",
       "|  50         | e           |\n",
       "| 128         | Meteorologi |\n",
       "\n"
      ],
      "text/plain": [
       "  kol1 kol2       \n",
       "1  10  a          \n",
       "2  20  b          \n",
       "3  30  c          \n",
       "4  40  d          \n",
       "5  50  e          \n",
       "6 128  Meteorologi"
      ]
     },
     "metadata": {},
     "output_type": "display_data"
    }
   ],
   "source": [
    "# menambahkan df1 ke df\n",
    "df <- rbind(df,df1)\n",
    "df"
   ]
  },
  {
   "cell_type": "code",
   "execution_count": 200,
   "metadata": {},
   "outputs": [
    {
     "data": {
      "text/html": [
       "<ol class=list-inline>\n",
       "\t<li>11</li>\n",
       "\t<li>12</li>\n",
       "\t<li>13</li>\n",
       "\t<li>14</li>\n",
       "\t<li>15</li>\n",
       "\t<li>16</li>\n",
       "</ol>\n"
      ],
      "text/latex": [
       "\\begin{enumerate*}\n",
       "\\item 11\n",
       "\\item 12\n",
       "\\item 13\n",
       "\\item 14\n",
       "\\item 15\n",
       "\\item 16\n",
       "\\end{enumerate*}\n"
      ],
      "text/markdown": [
       "1. 11\n",
       "2. 12\n",
       "3. 13\n",
       "4. 14\n",
       "5. 15\n",
       "6. 16\n",
       "\n",
       "\n"
      ],
      "text/plain": [
       "[1] 11 12 13 14 15 16"
      ]
     },
     "metadata": {},
     "output_type": "display_data"
    }
   ],
   "source": [
    "c3 <- c(11:16)\n",
    "c3"
   ]
  },
  {
   "cell_type": "code",
   "execution_count": 201,
   "metadata": {},
   "outputs": [
    {
     "data": {
      "text/html": [
       "<table>\n",
       "<thead><tr><th scope=col>kol1</th><th scope=col>kol2</th><th scope=col>kol3</th></tr></thead>\n",
       "<tbody>\n",
       "\t<tr><td> 10        </td><td>a          </td><td>11         </td></tr>\n",
       "\t<tr><td> 20        </td><td>b          </td><td>12         </td></tr>\n",
       "\t<tr><td> 30        </td><td>c          </td><td>13         </td></tr>\n",
       "\t<tr><td> 40        </td><td>d          </td><td>14         </td></tr>\n",
       "\t<tr><td> 50        </td><td>e          </td><td>15         </td></tr>\n",
       "\t<tr><td>128        </td><td>Meteorologi</td><td>16         </td></tr>\n",
       "</tbody>\n",
       "</table>\n"
      ],
      "text/latex": [
       "\\begin{tabular}{r|lll}\n",
       " kol1 & kol2 & kol3\\\\\n",
       "\\hline\n",
       "\t  10         & a           & 11         \\\\\n",
       "\t  20         & b           & 12         \\\\\n",
       "\t  30         & c           & 13         \\\\\n",
       "\t  40         & d           & 14         \\\\\n",
       "\t  50         & e           & 15         \\\\\n",
       "\t 128         & Meteorologi & 16         \\\\\n",
       "\\end{tabular}\n"
      ],
      "text/markdown": [
       "\n",
       "| kol1 | kol2 | kol3 |\n",
       "|---|---|---|\n",
       "|  10         | a           | 11          |\n",
       "|  20         | b           | 12          |\n",
       "|  30         | c           | 13          |\n",
       "|  40         | d           | 14          |\n",
       "|  50         | e           | 15          |\n",
       "| 128         | Meteorologi | 16          |\n",
       "\n"
      ],
      "text/plain": [
       "  kol1 kol2        kol3\n",
       "1  10  a           11  \n",
       "2  20  b           12  \n",
       "3  30  c           13  \n",
       "4  40  d           14  \n",
       "5  50  e           15  \n",
       "6 128  Meteorologi 16  "
      ]
     },
     "metadata": {},
     "output_type": "display_data"
    }
   ],
   "source": [
    "# menambahkan kolom ke df\n",
    "df <- cbind(df,kol3=c3)\n",
    "df"
   ]
  },
  {
   "cell_type": "code",
   "execution_count": 202,
   "metadata": {},
   "outputs": [
    {
     "data": {
      "text/html": [
       "<table>\n",
       "<thead><tr><th scope=col>kol1</th><th scope=col>kol2</th><th scope=col>kol3</th><th scope=col>kol4</th></tr></thead>\n",
       "<tbody>\n",
       "\t<tr><td> 10        </td><td>a          </td><td>11         </td><td>20         </td></tr>\n",
       "\t<tr><td> 20        </td><td>b          </td><td>12         </td><td>25         </td></tr>\n",
       "\t<tr><td> 30        </td><td>c          </td><td>13         </td><td>30         </td></tr>\n",
       "\t<tr><td> 40        </td><td>d          </td><td>14         </td><td>35         </td></tr>\n",
       "\t<tr><td> 50        </td><td>e          </td><td>15         </td><td>40         </td></tr>\n",
       "\t<tr><td>128        </td><td>Meteorologi</td><td>16         </td><td>45         </td></tr>\n",
       "</tbody>\n",
       "</table>\n"
      ],
      "text/latex": [
       "\\begin{tabular}{r|llll}\n",
       " kol1 & kol2 & kol3 & kol4\\\\\n",
       "\\hline\n",
       "\t  10         & a           & 11          & 20         \\\\\n",
       "\t  20         & b           & 12          & 25         \\\\\n",
       "\t  30         & c           & 13          & 30         \\\\\n",
       "\t  40         & d           & 14          & 35         \\\\\n",
       "\t  50         & e           & 15          & 40         \\\\\n",
       "\t 128         & Meteorologi & 16          & 45         \\\\\n",
       "\\end{tabular}\n"
      ],
      "text/markdown": [
       "\n",
       "| kol1 | kol2 | kol3 | kol4 |\n",
       "|---|---|---|---|\n",
       "|  10         | a           | 11          | 20          |\n",
       "|  20         | b           | 12          | 25          |\n",
       "|  30         | c           | 13          | 30          |\n",
       "|  40         | d           | 14          | 35          |\n",
       "|  50         | e           | 15          | 40          |\n",
       "| 128         | Meteorologi | 16          | 45          |\n",
       "\n"
      ],
      "text/plain": [
       "  kol1 kol2        kol3 kol4\n",
       "1  10  a           11   20  \n",
       "2  20  b           12   25  \n",
       "3  30  c           13   30  \n",
       "4  40  d           14   35  \n",
       "5  50  e           15   40  \n",
       "6 128  Meteorologi 16   45  "
      ]
     },
     "metadata": {},
     "output_type": "display_data"
    }
   ],
   "source": [
    "df$kol4 <- c(20,25,30,35,40,45)\n",
    "df"
   ]
  },
  {
   "cell_type": "code",
   "execution_count": 203,
   "metadata": {},
   "outputs": [
    {
     "data": {
      "text/html": [
       "<table>\n",
       "<thead><tr><th scope=col>kol1</th><th scope=col>kol2</th><th scope=col>kol3</th><th scope=col>kol4</th><th scope=col>kol5</th></tr></thead>\n",
       "<tbody>\n",
       "\t<tr><td> 10        </td><td>a          </td><td>11         </td><td>20         </td><td> 20        </td></tr>\n",
       "\t<tr><td> 20        </td><td>b          </td><td>12         </td><td>25         </td><td> 40        </td></tr>\n",
       "\t<tr><td> 30        </td><td>c          </td><td>13         </td><td>30         </td><td> 60        </td></tr>\n",
       "\t<tr><td> 40        </td><td>d          </td><td>14         </td><td>35         </td><td> 80        </td></tr>\n",
       "\t<tr><td> 50        </td><td>e          </td><td>15         </td><td>40         </td><td>100        </td></tr>\n",
       "\t<tr><td>128        </td><td>Meteorologi</td><td>16         </td><td>45         </td><td>256        </td></tr>\n",
       "</tbody>\n",
       "</table>\n"
      ],
      "text/latex": [
       "\\begin{tabular}{r|lllll}\n",
       " kol1 & kol2 & kol3 & kol4 & kol5\\\\\n",
       "\\hline\n",
       "\t  10         & a           & 11          & 20          &  20        \\\\\n",
       "\t  20         & b           & 12          & 25          &  40        \\\\\n",
       "\t  30         & c           & 13          & 30          &  60        \\\\\n",
       "\t  40         & d           & 14          & 35          &  80        \\\\\n",
       "\t  50         & e           & 15          & 40          & 100        \\\\\n",
       "\t 128         & Meteorologi & 16          & 45          & 256        \\\\\n",
       "\\end{tabular}\n"
      ],
      "text/markdown": [
       "\n",
       "| kol1 | kol2 | kol3 | kol4 | kol5 |\n",
       "|---|---|---|---|---|\n",
       "|  10         | a           | 11          | 20          |  20         |\n",
       "|  20         | b           | 12          | 25          |  40         |\n",
       "|  30         | c           | 13          | 30          |  60         |\n",
       "|  40         | d           | 14          | 35          |  80         |\n",
       "|  50         | e           | 15          | 40          | 100         |\n",
       "| 128         | Meteorologi | 16          | 45          | 256         |\n",
       "\n"
      ],
      "text/plain": [
       "  kol1 kol2        kol3 kol4 kol5\n",
       "1  10  a           11   20    20 \n",
       "2  20  b           12   25    40 \n",
       "3  30  c           13   30    60 \n",
       "4  40  d           14   35    80 \n",
       "5  50  e           15   40   100 \n",
       "6 128  Meteorologi 16   45   256 "
      ]
     },
     "metadata": {},
     "output_type": "display_data"
    }
   ],
   "source": [
    "df$kol5 <- df$kol1 * 2\n",
    "df"
   ]
  },
  {
   "cell_type": "markdown",
   "metadata": {},
   "source": [
    "### Mengatur penamaan kolom"
   ]
  },
  {
   "cell_type": "code",
   "execution_count": 204,
   "metadata": {},
   "outputs": [
    {
     "data": {
      "text/html": [
       "<ol class=list-inline>\n",
       "\t<li>'kol1'</li>\n",
       "\t<li>'kol2'</li>\n",
       "\t<li>'kol3'</li>\n",
       "\t<li>'kol4'</li>\n",
       "\t<li>'kol5'</li>\n",
       "</ol>\n"
      ],
      "text/latex": [
       "\\begin{enumerate*}\n",
       "\\item 'kol1'\n",
       "\\item 'kol2'\n",
       "\\item 'kol3'\n",
       "\\item 'kol4'\n",
       "\\item 'kol5'\n",
       "\\end{enumerate*}\n"
      ],
      "text/markdown": [
       "1. 'kol1'\n",
       "2. 'kol2'\n",
       "3. 'kol3'\n",
       "4. 'kol4'\n",
       "5. 'kol5'\n",
       "\n",
       "\n"
      ],
      "text/plain": [
       "[1] \"kol1\" \"kol2\" \"kol3\" \"kol4\" \"kol5\""
      ]
     },
     "metadata": {},
     "output_type": "display_data"
    }
   ],
   "source": [
    "colnames(df) # mengetahui nama kolom"
   ]
  },
  {
   "cell_type": "code",
   "execution_count": 205,
   "metadata": {},
   "outputs": [
    {
     "data": {
      "text/html": [
       "<table>\n",
       "<thead><tr><th scope=col>A</th><th scope=col>B</th><th scope=col>C</th><th scope=col>D</th><th scope=col>E</th></tr></thead>\n",
       "<tbody>\n",
       "\t<tr><td> 10        </td><td>a          </td><td>11         </td><td>20         </td><td> 20        </td></tr>\n",
       "\t<tr><td> 20        </td><td>b          </td><td>12         </td><td>25         </td><td> 40        </td></tr>\n",
       "\t<tr><td> 30        </td><td>c          </td><td>13         </td><td>30         </td><td> 60        </td></tr>\n",
       "\t<tr><td> 40        </td><td>d          </td><td>14         </td><td>35         </td><td> 80        </td></tr>\n",
       "\t<tr><td> 50        </td><td>e          </td><td>15         </td><td>40         </td><td>100        </td></tr>\n",
       "\t<tr><td>128        </td><td>Meteorologi</td><td>16         </td><td>45         </td><td>256        </td></tr>\n",
       "</tbody>\n",
       "</table>\n"
      ],
      "text/latex": [
       "\\begin{tabular}{r|lllll}\n",
       " A & B & C & D & E\\\\\n",
       "\\hline\n",
       "\t  10         & a           & 11          & 20          &  20        \\\\\n",
       "\t  20         & b           & 12          & 25          &  40        \\\\\n",
       "\t  30         & c           & 13          & 30          &  60        \\\\\n",
       "\t  40         & d           & 14          & 35          &  80        \\\\\n",
       "\t  50         & e           & 15          & 40          & 100        \\\\\n",
       "\t 128         & Meteorologi & 16          & 45          & 256        \\\\\n",
       "\\end{tabular}\n"
      ],
      "text/markdown": [
       "\n",
       "| A | B | C | D | E |\n",
       "|---|---|---|---|---|\n",
       "|  10         | a           | 11          | 20          |  20         |\n",
       "|  20         | b           | 12          | 25          |  40         |\n",
       "|  30         | c           | 13          | 30          |  60         |\n",
       "|  40         | d           | 14          | 35          |  80         |\n",
       "|  50         | e           | 15          | 40          | 100         |\n",
       "| 128         | Meteorologi | 16          | 45          | 256         |\n",
       "\n"
      ],
      "text/plain": [
       "  A   B           C  D  E  \n",
       "1  10 a           11 20  20\n",
       "2  20 b           12 25  40\n",
       "3  30 c           13 30  60\n",
       "4  40 d           14 35  80\n",
       "5  50 e           15 40 100\n",
       "6 128 Meteorologi 16 45 256"
      ]
     },
     "metadata": {},
     "output_type": "display_data"
    }
   ],
   "source": [
    "colnames(df) <- c('A', 'B', 'C', 'D', 'E') # penamaan ulang nama kolom\n",
    "df"
   ]
  },
  {
   "cell_type": "code",
   "execution_count": 206,
   "metadata": {},
   "outputs": [
    {
     "data": {
      "text/html": [
       "<table>\n",
       "<thead><tr><th scope=col>X</th><th scope=col>B</th><th scope=col>C</th><th scope=col>D</th><th scope=col>E</th></tr></thead>\n",
       "<tbody>\n",
       "\t<tr><td> 10        </td><td>a          </td><td>11         </td><td>20         </td><td> 20        </td></tr>\n",
       "\t<tr><td> 20        </td><td>b          </td><td>12         </td><td>25         </td><td> 40        </td></tr>\n",
       "\t<tr><td> 30        </td><td>c          </td><td>13         </td><td>30         </td><td> 60        </td></tr>\n",
       "\t<tr><td> 40        </td><td>d          </td><td>14         </td><td>35         </td><td> 80        </td></tr>\n",
       "\t<tr><td> 50        </td><td>e          </td><td>15         </td><td>40         </td><td>100        </td></tr>\n",
       "\t<tr><td>128        </td><td>Meteorologi</td><td>16         </td><td>45         </td><td>256        </td></tr>\n",
       "</tbody>\n",
       "</table>\n"
      ],
      "text/latex": [
       "\\begin{tabular}{r|lllll}\n",
       " X & B & C & D & E\\\\\n",
       "\\hline\n",
       "\t  10         & a           & 11          & 20          &  20        \\\\\n",
       "\t  20         & b           & 12          & 25          &  40        \\\\\n",
       "\t  30         & c           & 13          & 30          &  60        \\\\\n",
       "\t  40         & d           & 14          & 35          &  80        \\\\\n",
       "\t  50         & e           & 15          & 40          & 100        \\\\\n",
       "\t 128         & Meteorologi & 16          & 45          & 256        \\\\\n",
       "\\end{tabular}\n"
      ],
      "text/markdown": [
       "\n",
       "| X | B | C | D | E |\n",
       "|---|---|---|---|---|\n",
       "|  10         | a           | 11          | 20          |  20         |\n",
       "|  20         | b           | 12          | 25          |  40         |\n",
       "|  30         | c           | 13          | 30          |  60         |\n",
       "|  40         | d           | 14          | 35          |  80         |\n",
       "|  50         | e           | 15          | 40          | 100         |\n",
       "| 128         | Meteorologi | 16          | 45          | 256         |\n",
       "\n"
      ],
      "text/plain": [
       "  X   B           C  D  E  \n",
       "1  10 a           11 20  20\n",
       "2  20 b           12 25  40\n",
       "3  30 c           13 30  60\n",
       "4  40 d           14 35  80\n",
       "5  50 e           15 40 100\n",
       "6 128 Meteorologi 16 45 256"
      ]
     },
     "metadata": {},
     "output_type": "display_data"
    }
   ],
   "source": [
    "colnames(df)[1] <- 'X' # penamaan ulang kolom secara individual\n",
    "df"
   ]
  },
  {
   "cell_type": "code",
   "execution_count": 207,
   "metadata": {},
   "outputs": [
    {
     "data": {
      "text/html": [
       "<table>\n",
       "<thead><tr><th scope=col>X</th><th scope=col>Y</th><th scope=col>Z</th><th scope=col>D</th><th scope=col>E</th></tr></thead>\n",
       "<tbody>\n",
       "\t<tr><td> 10        </td><td>a          </td><td>11         </td><td>20         </td><td> 20        </td></tr>\n",
       "\t<tr><td> 20        </td><td>b          </td><td>12         </td><td>25         </td><td> 40        </td></tr>\n",
       "\t<tr><td> 30        </td><td>c          </td><td>13         </td><td>30         </td><td> 60        </td></tr>\n",
       "\t<tr><td> 40        </td><td>d          </td><td>14         </td><td>35         </td><td> 80        </td></tr>\n",
       "\t<tr><td> 50        </td><td>e          </td><td>15         </td><td>40         </td><td>100        </td></tr>\n",
       "\t<tr><td>128        </td><td>Meteorologi</td><td>16         </td><td>45         </td><td>256        </td></tr>\n",
       "</tbody>\n",
       "</table>\n"
      ],
      "text/latex": [
       "\\begin{tabular}{r|lllll}\n",
       " X & Y & Z & D & E\\\\\n",
       "\\hline\n",
       "\t  10         & a           & 11          & 20          &  20        \\\\\n",
       "\t  20         & b           & 12          & 25          &  40        \\\\\n",
       "\t  30         & c           & 13          & 30          &  60        \\\\\n",
       "\t  40         & d           & 14          & 35          &  80        \\\\\n",
       "\t  50         & e           & 15          & 40          & 100        \\\\\n",
       "\t 128         & Meteorologi & 16          & 45          & 256        \\\\\n",
       "\\end{tabular}\n"
      ],
      "text/markdown": [
       "\n",
       "| X | Y | Z | D | E |\n",
       "|---|---|---|---|---|\n",
       "|  10         | a           | 11          | 20          |  20         |\n",
       "|  20         | b           | 12          | 25          |  40         |\n",
       "|  30         | c           | 13          | 30          |  60         |\n",
       "|  40         | d           | 14          | 35          |  80         |\n",
       "|  50         | e           | 15          | 40          | 100         |\n",
       "| 128         | Meteorologi | 16          | 45          | 256         |\n",
       "\n"
      ],
      "text/plain": [
       "  X   Y           Z  D  E  \n",
       "1  10 a           11 20  20\n",
       "2  20 b           12 25  40\n",
       "3  30 c           13 30  60\n",
       "4  40 d           14 35  80\n",
       "5  50 e           15 40 100\n",
       "6 128 Meteorologi 16 45 256"
      ]
     },
     "metadata": {},
     "output_type": "display_data"
    }
   ],
   "source": [
    "colnames(df)[c(2,3)] <- c('Y','Z')\n",
    "df"
   ]
  },
  {
   "cell_type": "markdown",
   "metadata": {},
   "source": [
    "### Menyeleksi banyak baris dan kolom"
   ]
  },
  {
   "cell_type": "code",
   "execution_count": 208,
   "metadata": {},
   "outputs": [
    {
     "data": {
      "text/html": [
       "<table>\n",
       "<thead><tr><th scope=col>X</th><th scope=col>Y</th><th scope=col>Z</th><th scope=col>D</th><th scope=col>E</th></tr></thead>\n",
       "<tbody>\n",
       "\t<tr><td>10</td><td>a </td><td>11</td><td>20</td><td>20</td></tr>\n",
       "\t<tr><td>20</td><td>b </td><td>12</td><td>25</td><td>40</td></tr>\n",
       "\t<tr><td>30</td><td>c </td><td>13</td><td>30</td><td>60</td></tr>\n",
       "</tbody>\n",
       "</table>\n"
      ],
      "text/latex": [
       "\\begin{tabular}{r|lllll}\n",
       " X & Y & Z & D & E\\\\\n",
       "\\hline\n",
       "\t 10 & a  & 11 & 20 & 20\\\\\n",
       "\t 20 & b  & 12 & 25 & 40\\\\\n",
       "\t 30 & c  & 13 & 30 & 60\\\\\n",
       "\\end{tabular}\n"
      ],
      "text/markdown": [
       "\n",
       "| X | Y | Z | D | E |\n",
       "|---|---|---|---|---|\n",
       "| 10 | a  | 11 | 20 | 20 |\n",
       "| 20 | b  | 12 | 25 | 40 |\n",
       "| 30 | c  | 13 | 30 | 60 |\n",
       "\n"
      ],
      "text/plain": [
       "  X  Y Z  D  E \n",
       "1 10 a 11 20 20\n",
       "2 20 b 12 25 40\n",
       "3 30 c 13 30 60"
      ]
     },
     "metadata": {},
     "output_type": "display_data"
    }
   ],
   "source": [
    "df[1:3,]"
   ]
  },
  {
   "cell_type": "code",
   "execution_count": 209,
   "metadata": {},
   "outputs": [
    {
     "data": {
      "text/html": [
       "<table>\n",
       "<thead><tr><th></th><th scope=col>X</th><th scope=col>Y</th><th scope=col>Z</th><th scope=col>D</th><th scope=col>E</th></tr></thead>\n",
       "<tbody>\n",
       "\t<tr><th scope=row>1</th><td> 10        </td><td>a          </td><td>11         </td><td>20         </td><td> 20        </td></tr>\n",
       "\t<tr><th scope=row>2</th><td> 20        </td><td>b          </td><td>12         </td><td>25         </td><td> 40        </td></tr>\n",
       "\t<tr><th scope=row>4</th><td> 40        </td><td>d          </td><td>14         </td><td>35         </td><td> 80        </td></tr>\n",
       "\t<tr><th scope=row>5</th><td> 50        </td><td>e          </td><td>15         </td><td>40         </td><td>100        </td></tr>\n",
       "\t<tr><th scope=row>6</th><td>128        </td><td>Meteorologi</td><td>16         </td><td>45         </td><td>256        </td></tr>\n",
       "</tbody>\n",
       "</table>\n"
      ],
      "text/latex": [
       "\\begin{tabular}{r|lllll}\n",
       "  & X & Y & Z & D & E\\\\\n",
       "\\hline\n",
       "\t1 &  10         & a           & 11          & 20          &  20        \\\\\n",
       "\t2 &  20         & b           & 12          & 25          &  40        \\\\\n",
       "\t4 &  40         & d           & 14          & 35          &  80        \\\\\n",
       "\t5 &  50         & e           & 15          & 40          & 100        \\\\\n",
       "\t6 & 128         & Meteorologi & 16          & 45          & 256        \\\\\n",
       "\\end{tabular}\n"
      ],
      "text/markdown": [
       "\n",
       "| <!--/--> | X | Y | Z | D | E |\n",
       "|---|---|---|---|---|---|\n",
       "| 1 |  10         | a           | 11          | 20          |  20         |\n",
       "| 2 |  20         | b           | 12          | 25          |  40         |\n",
       "| 4 |  40         | d           | 14          | 35          |  80         |\n",
       "| 5 |  50         | e           | 15          | 40          | 100         |\n",
       "| 6 | 128         | Meteorologi | 16          | 45          | 256         |\n",
       "\n"
      ],
      "text/plain": [
       "  X   Y           Z  D  E  \n",
       "1  10 a           11 20  20\n",
       "2  20 b           12 25  40\n",
       "4  40 d           14 35  80\n",
       "5  50 e           15 40 100\n",
       "6 128 Meteorologi 16 45 256"
      ]
     },
     "metadata": {},
     "output_type": "display_data"
    }
   ],
   "source": [
    "# menyeleksi seluruh baris, kecuali no 3\n",
    "df[-3,]"
   ]
  },
  {
   "cell_type": "code",
   "execution_count": 210,
   "metadata": {},
   "outputs": [
    {
     "data": {
      "text/html": [
       "<table>\n",
       "<thead><tr><th></th><th scope=col>mpg</th><th scope=col>cyl</th><th scope=col>disp</th><th scope=col>hp</th><th scope=col>drat</th><th scope=col>wt</th><th scope=col>qsec</th><th scope=col>vs</th><th scope=col>am</th><th scope=col>gear</th><th scope=col>carb</th></tr></thead>\n",
       "<tbody>\n",
       "\t<tr><th scope=row>Mazda RX4</th><td>21.0 </td><td>6    </td><td>160  </td><td>110  </td><td>3.90 </td><td>2.620</td><td>16.46</td><td>0    </td><td>1    </td><td>4    </td><td>4    </td></tr>\n",
       "\t<tr><th scope=row>Mazda RX4 Wag</th><td>21.0 </td><td>6    </td><td>160  </td><td>110  </td><td>3.90 </td><td>2.875</td><td>17.02</td><td>0    </td><td>1    </td><td>4    </td><td>4    </td></tr>\n",
       "\t<tr><th scope=row>Datsun 710</th><td>22.8 </td><td>4    </td><td>108  </td><td> 93  </td><td>3.85 </td><td>2.320</td><td>18.61</td><td>1    </td><td>1    </td><td>4    </td><td>1    </td></tr>\n",
       "\t<tr><th scope=row>Hornet 4 Drive</th><td>21.4 </td><td>6    </td><td>258  </td><td>110  </td><td>3.08 </td><td>3.215</td><td>19.44</td><td>1    </td><td>0    </td><td>3    </td><td>1    </td></tr>\n",
       "\t<tr><th scope=row>Hornet Sportabout</th><td>18.7 </td><td>8    </td><td>360  </td><td>175  </td><td>3.15 </td><td>3.440</td><td>17.02</td><td>0    </td><td>0    </td><td>3    </td><td>2    </td></tr>\n",
       "\t<tr><th scope=row>Valiant</th><td>18.1 </td><td>6    </td><td>225  </td><td>105  </td><td>2.76 </td><td>3.460</td><td>20.22</td><td>1    </td><td>0    </td><td>3    </td><td>1    </td></tr>\n",
       "</tbody>\n",
       "</table>\n"
      ],
      "text/latex": [
       "\\begin{tabular}{r|lllllllllll}\n",
       "  & mpg & cyl & disp & hp & drat & wt & qsec & vs & am & gear & carb\\\\\n",
       "\\hline\n",
       "\tMazda RX4 & 21.0  & 6     & 160   & 110   & 3.90  & 2.620 & 16.46 & 0     & 1     & 4     & 4    \\\\\n",
       "\tMazda RX4 Wag & 21.0  & 6     & 160   & 110   & 3.90  & 2.875 & 17.02 & 0     & 1     & 4     & 4    \\\\\n",
       "\tDatsun 710 & 22.8  & 4     & 108   &  93   & 3.85  & 2.320 & 18.61 & 1     & 1     & 4     & 1    \\\\\n",
       "\tHornet 4 Drive & 21.4  & 6     & 258   & 110   & 3.08  & 3.215 & 19.44 & 1     & 0     & 3     & 1    \\\\\n",
       "\tHornet Sportabout & 18.7  & 8     & 360   & 175   & 3.15  & 3.440 & 17.02 & 0     & 0     & 3     & 2    \\\\\n",
       "\tValiant & 18.1  & 6     & 225   & 105   & 2.76  & 3.460 & 20.22 & 1     & 0     & 3     & 1    \\\\\n",
       "\\end{tabular}\n"
      ],
      "text/markdown": [
       "\n",
       "| <!--/--> | mpg | cyl | disp | hp | drat | wt | qsec | vs | am | gear | carb |\n",
       "|---|---|---|---|---|---|---|---|---|---|---|---|\n",
       "| Mazda RX4 | 21.0  | 6     | 160   | 110   | 3.90  | 2.620 | 16.46 | 0     | 1     | 4     | 4     |\n",
       "| Mazda RX4 Wag | 21.0  | 6     | 160   | 110   | 3.90  | 2.875 | 17.02 | 0     | 1     | 4     | 4     |\n",
       "| Datsun 710 | 22.8  | 4     | 108   |  93   | 3.85  | 2.320 | 18.61 | 1     | 1     | 4     | 1     |\n",
       "| Hornet 4 Drive | 21.4  | 6     | 258   | 110   | 3.08  | 3.215 | 19.44 | 1     | 0     | 3     | 1     |\n",
       "| Hornet Sportabout | 18.7  | 8     | 360   | 175   | 3.15  | 3.440 | 17.02 | 0     | 0     | 3     | 2     |\n",
       "| Valiant | 18.1  | 6     | 225   | 105   | 2.76  | 3.460 | 20.22 | 1     | 0     | 3     | 1     |\n",
       "\n"
      ],
      "text/plain": [
       "                  mpg  cyl disp hp  drat wt    qsec  vs am gear carb\n",
       "Mazda RX4         21.0 6   160  110 3.90 2.620 16.46 0  1  4    4   \n",
       "Mazda RX4 Wag     21.0 6   160  110 3.90 2.875 17.02 0  1  4    4   \n",
       "Datsun 710        22.8 4   108   93 3.85 2.320 18.61 1  1  4    1   \n",
       "Hornet 4 Drive    21.4 6   258  110 3.08 3.215 19.44 1  0  3    1   \n",
       "Hornet Sportabout 18.7 8   360  175 3.15 3.440 17.02 0  0  3    2   \n",
       "Valiant           18.1 6   225  105 2.76 3.460 20.22 1  0  3    1   "
      ]
     },
     "metadata": {},
     "output_type": "display_data"
    }
   ],
   "source": [
    "# penyeleksian kondisional\n",
    "head(mtcars)"
   ]
  },
  {
   "cell_type": "code",
   "execution_count": 211,
   "metadata": {},
   "outputs": [
    {
     "data": {
      "text/html": [
       "<table>\n",
       "<thead><tr><th></th><th scope=col>mpg</th><th scope=col>cyl</th><th scope=col>disp</th><th scope=col>hp</th><th scope=col>drat</th><th scope=col>wt</th><th scope=col>qsec</th><th scope=col>vs</th><th scope=col>am</th><th scope=col>gear</th><th scope=col>carb</th></tr></thead>\n",
       "<tbody>\n",
       "\t<tr><th scope=row>Mazda RX4</th><td>21.0 </td><td>6    </td><td>160.0</td><td>110  </td><td>3.90 </td><td>2.620</td><td>16.46</td><td>0    </td><td>1    </td><td>4    </td><td>4    </td></tr>\n",
       "\t<tr><th scope=row>Mazda RX4 Wag</th><td>21.0 </td><td>6    </td><td>160.0</td><td>110  </td><td>3.90 </td><td>2.875</td><td>17.02</td><td>0    </td><td>1    </td><td>4    </td><td>4    </td></tr>\n",
       "\t<tr><th scope=row>Datsun 710</th><td>22.8 </td><td>4    </td><td>108.0</td><td> 93  </td><td>3.85 </td><td>2.320</td><td>18.61</td><td>1    </td><td>1    </td><td>4    </td><td>1    </td></tr>\n",
       "\t<tr><th scope=row>Hornet 4 Drive</th><td>21.4 </td><td>6    </td><td>258.0</td><td>110  </td><td>3.08 </td><td>3.215</td><td>19.44</td><td>1    </td><td>0    </td><td>3    </td><td>1    </td></tr>\n",
       "\t<tr><th scope=row>Merc 240D</th><td>24.4 </td><td>4    </td><td>146.7</td><td> 62  </td><td>3.69 </td><td>3.190</td><td>20.00</td><td>1    </td><td>0    </td><td>4    </td><td>2    </td></tr>\n",
       "\t<tr><th scope=row>Merc 230</th><td>22.8 </td><td>4    </td><td>140.8</td><td> 95  </td><td>3.92 </td><td>3.150</td><td>22.90</td><td>1    </td><td>0    </td><td>4    </td><td>2    </td></tr>\n",
       "\t<tr><th scope=row>Fiat 128</th><td>32.4 </td><td>4    </td><td> 78.7</td><td> 66  </td><td>4.08 </td><td>2.200</td><td>19.47</td><td>1    </td><td>1    </td><td>4    </td><td>1    </td></tr>\n",
       "\t<tr><th scope=row>Honda Civic</th><td>30.4 </td><td>4    </td><td> 75.7</td><td> 52  </td><td>4.93 </td><td>1.615</td><td>18.52</td><td>1    </td><td>1    </td><td>4    </td><td>2    </td></tr>\n",
       "\t<tr><th scope=row>Toyota Corolla</th><td>33.9 </td><td>4    </td><td> 71.1</td><td> 65  </td><td>4.22 </td><td>1.835</td><td>19.90</td><td>1    </td><td>1    </td><td>4    </td><td>1    </td></tr>\n",
       "\t<tr><th scope=row>Toyota Corona</th><td>21.5 </td><td>4    </td><td>120.1</td><td> 97  </td><td>3.70 </td><td>2.465</td><td>20.01</td><td>1    </td><td>0    </td><td>3    </td><td>1    </td></tr>\n",
       "\t<tr><th scope=row>Fiat X1-9</th><td>27.3 </td><td>4    </td><td> 79.0</td><td> 66  </td><td>4.08 </td><td>1.935</td><td>18.90</td><td>1    </td><td>1    </td><td>4    </td><td>1    </td></tr>\n",
       "\t<tr><th scope=row>Porsche 914-2</th><td>26.0 </td><td>4    </td><td>120.3</td><td> 91  </td><td>4.43 </td><td>2.140</td><td>16.70</td><td>0    </td><td>1    </td><td>5    </td><td>2    </td></tr>\n",
       "\t<tr><th scope=row>Lotus Europa</th><td>30.4 </td><td>4    </td><td> 95.1</td><td>113  </td><td>3.77 </td><td>1.513</td><td>16.90</td><td>1    </td><td>1    </td><td>5    </td><td>2    </td></tr>\n",
       "\t<tr><th scope=row>Volvo 142E</th><td>21.4 </td><td>4    </td><td>121.0</td><td>109  </td><td>4.11 </td><td>2.780</td><td>18.60</td><td>1    </td><td>1    </td><td>4    </td><td>2    </td></tr>\n",
       "</tbody>\n",
       "</table>\n"
      ],
      "text/latex": [
       "\\begin{tabular}{r|lllllllllll}\n",
       "  & mpg & cyl & disp & hp & drat & wt & qsec & vs & am & gear & carb\\\\\n",
       "\\hline\n",
       "\tMazda RX4 & 21.0  & 6     & 160.0 & 110   & 3.90  & 2.620 & 16.46 & 0     & 1     & 4     & 4    \\\\\n",
       "\tMazda RX4 Wag & 21.0  & 6     & 160.0 & 110   & 3.90  & 2.875 & 17.02 & 0     & 1     & 4     & 4    \\\\\n",
       "\tDatsun 710 & 22.8  & 4     & 108.0 &  93   & 3.85  & 2.320 & 18.61 & 1     & 1     & 4     & 1    \\\\\n",
       "\tHornet 4 Drive & 21.4  & 6     & 258.0 & 110   & 3.08  & 3.215 & 19.44 & 1     & 0     & 3     & 1    \\\\\n",
       "\tMerc 240D & 24.4  & 4     & 146.7 &  62   & 3.69  & 3.190 & 20.00 & 1     & 0     & 4     & 2    \\\\\n",
       "\tMerc 230 & 22.8  & 4     & 140.8 &  95   & 3.92  & 3.150 & 22.90 & 1     & 0     & 4     & 2    \\\\\n",
       "\tFiat 128 & 32.4  & 4     &  78.7 &  66   & 4.08  & 2.200 & 19.47 & 1     & 1     & 4     & 1    \\\\\n",
       "\tHonda Civic & 30.4  & 4     &  75.7 &  52   & 4.93  & 1.615 & 18.52 & 1     & 1     & 4     & 2    \\\\\n",
       "\tToyota Corolla & 33.9  & 4     &  71.1 &  65   & 4.22  & 1.835 & 19.90 & 1     & 1     & 4     & 1    \\\\\n",
       "\tToyota Corona & 21.5  & 4     & 120.1 &  97   & 3.70  & 2.465 & 20.01 & 1     & 0     & 3     & 1    \\\\\n",
       "\tFiat X1-9 & 27.3  & 4     &  79.0 &  66   & 4.08  & 1.935 & 18.90 & 1     & 1     & 4     & 1    \\\\\n",
       "\tPorsche 914-2 & 26.0  & 4     & 120.3 &  91   & 4.43  & 2.140 & 16.70 & 0     & 1     & 5     & 2    \\\\\n",
       "\tLotus Europa & 30.4  & 4     &  95.1 & 113   & 3.77  & 1.513 & 16.90 & 1     & 1     & 5     & 2    \\\\\n",
       "\tVolvo 142E & 21.4  & 4     & 121.0 & 109   & 4.11  & 2.780 & 18.60 & 1     & 1     & 4     & 2    \\\\\n",
       "\\end{tabular}\n"
      ],
      "text/markdown": [
       "\n",
       "| <!--/--> | mpg | cyl | disp | hp | drat | wt | qsec | vs | am | gear | carb |\n",
       "|---|---|---|---|---|---|---|---|---|---|---|---|\n",
       "| Mazda RX4 | 21.0  | 6     | 160.0 | 110   | 3.90  | 2.620 | 16.46 | 0     | 1     | 4     | 4     |\n",
       "| Mazda RX4 Wag | 21.0  | 6     | 160.0 | 110   | 3.90  | 2.875 | 17.02 | 0     | 1     | 4     | 4     |\n",
       "| Datsun 710 | 22.8  | 4     | 108.0 |  93   | 3.85  | 2.320 | 18.61 | 1     | 1     | 4     | 1     |\n",
       "| Hornet 4 Drive | 21.4  | 6     | 258.0 | 110   | 3.08  | 3.215 | 19.44 | 1     | 0     | 3     | 1     |\n",
       "| Merc 240D | 24.4  | 4     | 146.7 |  62   | 3.69  | 3.190 | 20.00 | 1     | 0     | 4     | 2     |\n",
       "| Merc 230 | 22.8  | 4     | 140.8 |  95   | 3.92  | 3.150 | 22.90 | 1     | 0     | 4     | 2     |\n",
       "| Fiat 128 | 32.4  | 4     |  78.7 |  66   | 4.08  | 2.200 | 19.47 | 1     | 1     | 4     | 1     |\n",
       "| Honda Civic | 30.4  | 4     |  75.7 |  52   | 4.93  | 1.615 | 18.52 | 1     | 1     | 4     | 2     |\n",
       "| Toyota Corolla | 33.9  | 4     |  71.1 |  65   | 4.22  | 1.835 | 19.90 | 1     | 1     | 4     | 1     |\n",
       "| Toyota Corona | 21.5  | 4     | 120.1 |  97   | 3.70  | 2.465 | 20.01 | 1     | 0     | 3     | 1     |\n",
       "| Fiat X1-9 | 27.3  | 4     |  79.0 |  66   | 4.08  | 1.935 | 18.90 | 1     | 1     | 4     | 1     |\n",
       "| Porsche 914-2 | 26.0  | 4     | 120.3 |  91   | 4.43  | 2.140 | 16.70 | 0     | 1     | 5     | 2     |\n",
       "| Lotus Europa | 30.4  | 4     |  95.1 | 113   | 3.77  | 1.513 | 16.90 | 1     | 1     | 5     | 2     |\n",
       "| Volvo 142E | 21.4  | 4     | 121.0 | 109   | 4.11  | 2.780 | 18.60 | 1     | 1     | 4     | 2     |\n",
       "\n"
      ],
      "text/plain": [
       "               mpg  cyl disp  hp  drat wt    qsec  vs am gear carb\n",
       "Mazda RX4      21.0 6   160.0 110 3.90 2.620 16.46 0  1  4    4   \n",
       "Mazda RX4 Wag  21.0 6   160.0 110 3.90 2.875 17.02 0  1  4    4   \n",
       "Datsun 710     22.8 4   108.0  93 3.85 2.320 18.61 1  1  4    1   \n",
       "Hornet 4 Drive 21.4 6   258.0 110 3.08 3.215 19.44 1  0  3    1   \n",
       "Merc 240D      24.4 4   146.7  62 3.69 3.190 20.00 1  0  4    2   \n",
       "Merc 230       22.8 4   140.8  95 3.92 3.150 22.90 1  0  4    2   \n",
       "Fiat 128       32.4 4    78.7  66 4.08 2.200 19.47 1  1  4    1   \n",
       "Honda Civic    30.4 4    75.7  52 4.93 1.615 18.52 1  1  4    2   \n",
       "Toyota Corolla 33.9 4    71.1  65 4.22 1.835 19.90 1  1  4    1   \n",
       "Toyota Corona  21.5 4   120.1  97 3.70 2.465 20.01 1  0  3    1   \n",
       "Fiat X1-9      27.3 4    79.0  66 4.08 1.935 18.90 1  1  4    1   \n",
       "Porsche 914-2  26.0 4   120.3  91 4.43 2.140 16.70 0  1  5    2   \n",
       "Lotus Europa   30.4 4    95.1 113 3.77 1.513 16.90 1  1  5    2   \n",
       "Volvo 142E     21.4 4   121.0 109 4.11 2.780 18.60 1  1  4    2   "
      ]
     },
     "metadata": {},
     "output_type": "display_data"
    }
   ],
   "source": [
    "mtcars[mtcars$mpg > 20,]"
   ]
  },
  {
   "cell_type": "code",
   "execution_count": 212,
   "metadata": {},
   "outputs": [
    {
     "data": {
      "text/html": [
       "<table>\n",
       "<thead><tr><th></th><th scope=col>mpg</th><th scope=col>cyl</th><th scope=col>disp</th><th scope=col>hp</th><th scope=col>drat</th><th scope=col>wt</th><th scope=col>qsec</th><th scope=col>vs</th><th scope=col>am</th><th scope=col>gear</th><th scope=col>carb</th></tr></thead>\n",
       "<tbody>\n",
       "\t<tr><th scope=row>Mazda RX4</th><td>21.0 </td><td>6    </td><td>160  </td><td>110  </td><td>3.90 </td><td>2.620</td><td>16.46</td><td>0    </td><td>1    </td><td>4    </td><td>4    </td></tr>\n",
       "\t<tr><th scope=row>Mazda RX4 Wag</th><td>21.0 </td><td>6    </td><td>160  </td><td>110  </td><td>3.90 </td><td>2.875</td><td>17.02</td><td>0    </td><td>1    </td><td>4    </td><td>4    </td></tr>\n",
       "\t<tr><th scope=row>Hornet 4 Drive</th><td>21.4 </td><td>6    </td><td>258  </td><td>110  </td><td>3.08 </td><td>3.215</td><td>19.44</td><td>1    </td><td>0    </td><td>3    </td><td>1    </td></tr>\n",
       "</tbody>\n",
       "</table>\n"
      ],
      "text/latex": [
       "\\begin{tabular}{r|lllllllllll}\n",
       "  & mpg & cyl & disp & hp & drat & wt & qsec & vs & am & gear & carb\\\\\n",
       "\\hline\n",
       "\tMazda RX4 & 21.0  & 6     & 160   & 110   & 3.90  & 2.620 & 16.46 & 0     & 1     & 4     & 4    \\\\\n",
       "\tMazda RX4 Wag & 21.0  & 6     & 160   & 110   & 3.90  & 2.875 & 17.02 & 0     & 1     & 4     & 4    \\\\\n",
       "\tHornet 4 Drive & 21.4  & 6     & 258   & 110   & 3.08  & 3.215 & 19.44 & 1     & 0     & 3     & 1    \\\\\n",
       "\\end{tabular}\n"
      ],
      "text/markdown": [
       "\n",
       "| <!--/--> | mpg | cyl | disp | hp | drat | wt | qsec | vs | am | gear | carb |\n",
       "|---|---|---|---|---|---|---|---|---|---|---|---|\n",
       "| Mazda RX4 | 21.0  | 6     | 160   | 110   | 3.90  | 2.620 | 16.46 | 0     | 1     | 4     | 4     |\n",
       "| Mazda RX4 Wag | 21.0  | 6     | 160   | 110   | 3.90  | 2.875 | 17.02 | 0     | 1     | 4     | 4     |\n",
       "| Hornet 4 Drive | 21.4  | 6     | 258   | 110   | 3.08  | 3.215 | 19.44 | 1     | 0     | 3     | 1     |\n",
       "\n"
      ],
      "text/plain": [
       "               mpg  cyl disp hp  drat wt    qsec  vs am gear carb\n",
       "Mazda RX4      21.0 6   160  110 3.90 2.620 16.46 0  1  4    4   \n",
       "Mazda RX4 Wag  21.0 6   160  110 3.90 2.875 17.02 0  1  4    4   \n",
       "Hornet 4 Drive 21.4 6   258  110 3.08 3.215 19.44 1  0  3    1   "
      ]
     },
     "metadata": {},
     "output_type": "display_data"
    }
   ],
   "source": [
    "mtcars[mtcars$mpg > 20 & mtcars$cyl == 6,]"
   ]
  },
  {
   "cell_type": "code",
   "execution_count": 213,
   "metadata": {},
   "outputs": [
    {
     "data": {
      "text/html": [
       "<table>\n",
       "<thead><tr><th></th><th scope=col>mpg</th><th scope=col>cyl</th><th scope=col>hp</th></tr></thead>\n",
       "<tbody>\n",
       "\t<tr><th scope=row>Mazda RX4</th><td>21.0</td><td>6   </td><td>110 </td></tr>\n",
       "\t<tr><th scope=row>Mazda RX4 Wag</th><td>21.0</td><td>6   </td><td>110 </td></tr>\n",
       "\t<tr><th scope=row>Hornet 4 Drive</th><td>21.4</td><td>6   </td><td>110 </td></tr>\n",
       "</tbody>\n",
       "</table>\n"
      ],
      "text/latex": [
       "\\begin{tabular}{r|lll}\n",
       "  & mpg & cyl & hp\\\\\n",
       "\\hline\n",
       "\tMazda RX4 & 21.0 & 6    & 110 \\\\\n",
       "\tMazda RX4 Wag & 21.0 & 6    & 110 \\\\\n",
       "\tHornet 4 Drive & 21.4 & 6    & 110 \\\\\n",
       "\\end{tabular}\n"
      ],
      "text/markdown": [
       "\n",
       "| <!--/--> | mpg | cyl | hp |\n",
       "|---|---|---|---|\n",
       "| Mazda RX4 | 21.0 | 6    | 110  |\n",
       "| Mazda RX4 Wag | 21.0 | 6    | 110  |\n",
       "| Hornet 4 Drive | 21.4 | 6    | 110  |\n",
       "\n"
      ],
      "text/plain": [
       "               mpg  cyl hp \n",
       "Mazda RX4      21.0 6   110\n",
       "Mazda RX4 Wag  21.0 6   110\n",
       "Hornet 4 Drive 21.4 6   110"
      ]
     },
     "metadata": {},
     "output_type": "display_data"
    }
   ],
   "source": [
    "mtcars[mtcars$mpg > 20 & mtcars$cyl == 6, c('mpg', 'cyl','hp')]"
   ]
  },
  {
   "cell_type": "code",
   "execution_count": 214,
   "metadata": {},
   "outputs": [
    {
     "data": {
      "text/html": [
       "<table>\n",
       "<thead><tr><th></th><th scope=col>mpg</th><th scope=col>cyl</th><th scope=col>disp</th><th scope=col>hp</th><th scope=col>drat</th><th scope=col>wt</th><th scope=col>qsec</th><th scope=col>vs</th><th scope=col>am</th><th scope=col>gear</th><th scope=col>carb</th></tr></thead>\n",
       "<tbody>\n",
       "\t<tr><th scope=row>Mazda RX4</th><td>21.0 </td><td>6    </td><td>160  </td><td>110  </td><td>3.90 </td><td>2.620</td><td>16.46</td><td>0    </td><td>1    </td><td>4    </td><td>4    </td></tr>\n",
       "\t<tr><th scope=row>Mazda RX4 Wag</th><td>21.0 </td><td>6    </td><td>160  </td><td>110  </td><td>3.90 </td><td>2.875</td><td>17.02</td><td>0    </td><td>1    </td><td>4    </td><td>4    </td></tr>\n",
       "\t<tr><th scope=row>Hornet 4 Drive</th><td>21.4 </td><td>6    </td><td>258  </td><td>110  </td><td>3.08 </td><td>3.215</td><td>19.44</td><td>1    </td><td>0    </td><td>3    </td><td>1    </td></tr>\n",
       "</tbody>\n",
       "</table>\n"
      ],
      "text/latex": [
       "\\begin{tabular}{r|lllllllllll}\n",
       "  & mpg & cyl & disp & hp & drat & wt & qsec & vs & am & gear & carb\\\\\n",
       "\\hline\n",
       "\tMazda RX4 & 21.0  & 6     & 160   & 110   & 3.90  & 2.620 & 16.46 & 0     & 1     & 4     & 4    \\\\\n",
       "\tMazda RX4 Wag & 21.0  & 6     & 160   & 110   & 3.90  & 2.875 & 17.02 & 0     & 1     & 4     & 4    \\\\\n",
       "\tHornet 4 Drive & 21.4  & 6     & 258   & 110   & 3.08  & 3.215 & 19.44 & 1     & 0     & 3     & 1    \\\\\n",
       "\\end{tabular}\n"
      ],
      "text/markdown": [
       "\n",
       "| <!--/--> | mpg | cyl | disp | hp | drat | wt | qsec | vs | am | gear | carb |\n",
       "|---|---|---|---|---|---|---|---|---|---|---|---|\n",
       "| Mazda RX4 | 21.0  | 6     | 160   | 110   | 3.90  | 2.620 | 16.46 | 0     | 1     | 4     | 4     |\n",
       "| Mazda RX4 Wag | 21.0  | 6     | 160   | 110   | 3.90  | 2.875 | 17.02 | 0     | 1     | 4     | 4     |\n",
       "| Hornet 4 Drive | 21.4  | 6     | 258   | 110   | 3.08  | 3.215 | 19.44 | 1     | 0     | 3     | 1     |\n",
       "\n"
      ],
      "text/plain": [
       "               mpg  cyl disp hp  drat wt    qsec  vs am gear carb\n",
       "Mazda RX4      21.0 6   160  110 3.90 2.620 16.46 0  1  4    4   \n",
       "Mazda RX4 Wag  21.0 6   160  110 3.90 2.875 17.02 0  1  4    4   \n",
       "Hornet 4 Drive 21.4 6   258  110 3.08 3.215 19.44 1  0  3    1   "
      ]
     },
     "metadata": {},
     "output_type": "display_data"
    }
   ],
   "source": [
    "subset(mtcars, mpg > 20 & cyl == 6) # pakai built-in subset function"
   ]
  },
  {
   "cell_type": "code",
   "execution_count": 215,
   "metadata": {},
   "outputs": [
    {
     "data": {
      "text/html": [
       "<table>\n",
       "<thead><tr><th scope=col>X</th><th scope=col>Y</th><th scope=col>Z</th></tr></thead>\n",
       "<tbody>\n",
       "\t<tr><td> 10        </td><td>a          </td><td>11         </td></tr>\n",
       "\t<tr><td> 20        </td><td>b          </td><td>12         </td></tr>\n",
       "\t<tr><td> 30        </td><td>c          </td><td>13         </td></tr>\n",
       "\t<tr><td> 40        </td><td>d          </td><td>14         </td></tr>\n",
       "\t<tr><td> 50        </td><td>e          </td><td>15         </td></tr>\n",
       "\t<tr><td>128        </td><td>Meteorologi</td><td>16         </td></tr>\n",
       "</tbody>\n",
       "</table>\n"
      ],
      "text/latex": [
       "\\begin{tabular}{r|lll}\n",
       " X & Y & Z\\\\\n",
       "\\hline\n",
       "\t  10         & a           & 11         \\\\\n",
       "\t  20         & b           & 12         \\\\\n",
       "\t  30         & c           & 13         \\\\\n",
       "\t  40         & d           & 14         \\\\\n",
       "\t  50         & e           & 15         \\\\\n",
       "\t 128         & Meteorologi & 16         \\\\\n",
       "\\end{tabular}\n"
      ],
      "text/markdown": [
       "\n",
       "| X | Y | Z |\n",
       "|---|---|---|\n",
       "|  10         | a           | 11          |\n",
       "|  20         | b           | 12          |\n",
       "|  30         | c           | 13          |\n",
       "|  40         | d           | 14          |\n",
       "|  50         | e           | 15          |\n",
       "| 128         | Meteorologi | 16          |\n",
       "\n"
      ],
      "text/plain": [
       "  X   Y           Z \n",
       "1  10 a           11\n",
       "2  20 b           12\n",
       "3  30 c           13\n",
       "4  40 d           14\n",
       "5  50 e           15\n",
       "6 128 Meteorologi 16"
      ]
     },
     "metadata": {},
     "output_type": "display_data"
    }
   ],
   "source": [
    "df[,1:3]"
   ]
  },
  {
   "cell_type": "code",
   "execution_count": 216,
   "metadata": {},
   "outputs": [
    {
     "data": {
      "text/html": [
       "<table>\n",
       "<thead><tr><th scope=col>Z</th><th scope=col>E</th></tr></thead>\n",
       "<tbody>\n",
       "\t<tr><td>11 </td><td> 20</td></tr>\n",
       "\t<tr><td>12 </td><td> 40</td></tr>\n",
       "\t<tr><td>13 </td><td> 60</td></tr>\n",
       "\t<tr><td>14 </td><td> 80</td></tr>\n",
       "\t<tr><td>15 </td><td>100</td></tr>\n",
       "\t<tr><td>16 </td><td>256</td></tr>\n",
       "</tbody>\n",
       "</table>\n"
      ],
      "text/latex": [
       "\\begin{tabular}{r|ll}\n",
       " Z & E\\\\\n",
       "\\hline\n",
       "\t 11  &  20\\\\\n",
       "\t 12  &  40\\\\\n",
       "\t 13  &  60\\\\\n",
       "\t 14  &  80\\\\\n",
       "\t 15  & 100\\\\\n",
       "\t 16  & 256\\\\\n",
       "\\end{tabular}\n"
      ],
      "text/markdown": [
       "\n",
       "| Z | E |\n",
       "|---|---|\n",
       "| 11  |  20 |\n",
       "| 12  |  40 |\n",
       "| 13  |  60 |\n",
       "| 14  |  80 |\n",
       "| 15  | 100 |\n",
       "| 16  | 256 |\n",
       "\n"
      ],
      "text/plain": [
       "  Z  E  \n",
       "1 11  20\n",
       "2 12  40\n",
       "3 13  60\n",
       "4 14  80\n",
       "5 15 100\n",
       "6 16 256"
      ]
     },
     "metadata": {},
     "output_type": "display_data"
    }
   ],
   "source": [
    "df[,c(3,5)]"
   ]
  },
  {
   "cell_type": "code",
   "execution_count": 217,
   "metadata": {},
   "outputs": [
    {
     "data": {
      "text/html": [
       "<table>\n",
       "<thead><tr><th scope=col>Z</th><th scope=col>E</th></tr></thead>\n",
       "<tbody>\n",
       "\t<tr><td>11 </td><td> 20</td></tr>\n",
       "\t<tr><td>12 </td><td> 40</td></tr>\n",
       "\t<tr><td>13 </td><td> 60</td></tr>\n",
       "\t<tr><td>14 </td><td> 80</td></tr>\n",
       "\t<tr><td>15 </td><td>100</td></tr>\n",
       "\t<tr><td>16 </td><td>256</td></tr>\n",
       "</tbody>\n",
       "</table>\n"
      ],
      "text/latex": [
       "\\begin{tabular}{r|ll}\n",
       " Z & E\\\\\n",
       "\\hline\n",
       "\t 11  &  20\\\\\n",
       "\t 12  &  40\\\\\n",
       "\t 13  &  60\\\\\n",
       "\t 14  &  80\\\\\n",
       "\t 15  & 100\\\\\n",
       "\t 16  & 256\\\\\n",
       "\\end{tabular}\n"
      ],
      "text/markdown": [
       "\n",
       "| Z | E |\n",
       "|---|---|\n",
       "| 11  |  20 |\n",
       "| 12  |  40 |\n",
       "| 13  |  60 |\n",
       "| 14  |  80 |\n",
       "| 15  | 100 |\n",
       "| 16  | 256 |\n",
       "\n"
      ],
      "text/plain": [
       "  Z  E  \n",
       "1 11  20\n",
       "2 12  40\n",
       "3 13  60\n",
       "4 14  80\n",
       "5 15 100\n",
       "6 16 256"
      ]
     },
     "metadata": {},
     "output_type": "display_data"
    }
   ],
   "source": [
    "df[,c('Z', 'E')]"
   ]
  },
  {
   "cell_type": "markdown",
   "metadata": {},
   "source": [
    "### Menangani data kosong"
   ]
  },
  {
   "cell_type": "code",
   "execution_count": 218,
   "metadata": {},
   "outputs": [
    {
     "data": {
      "text/html": [
       "<table>\n",
       "<thead><tr><th scope=col>X</th><th scope=col>Y</th><th scope=col>Z</th><th scope=col>D</th><th scope=col>E</th></tr></thead>\n",
       "<tbody>\n",
       "\t<tr><td> 10        </td><td>a          </td><td>11         </td><td>20         </td><td> 20        </td></tr>\n",
       "\t<tr><td> 20        </td><td>b          </td><td>12         </td><td>25         </td><td> 40        </td></tr>\n",
       "\t<tr><td> 30        </td><td>c          </td><td>13         </td><td>30         </td><td> 60        </td></tr>\n",
       "\t<tr><td> 40        </td><td>d          </td><td>14         </td><td>35         </td><td> 80        </td></tr>\n",
       "\t<tr><td> 50        </td><td>e          </td><td>15         </td><td>40         </td><td>100        </td></tr>\n",
       "\t<tr><td>128        </td><td>Meteorologi</td><td>16         </td><td>45         </td><td>256        </td></tr>\n",
       "</tbody>\n",
       "</table>\n"
      ],
      "text/latex": [
       "\\begin{tabular}{r|lllll}\n",
       " X & Y & Z & D & E\\\\\n",
       "\\hline\n",
       "\t  10         & a           & 11          & 20          &  20        \\\\\n",
       "\t  20         & b           & 12          & 25          &  40        \\\\\n",
       "\t  30         & c           & 13          & 30          &  60        \\\\\n",
       "\t  40         & d           & 14          & 35          &  80        \\\\\n",
       "\t  50         & e           & 15          & 40          & 100        \\\\\n",
       "\t 128         & Meteorologi & 16          & 45          & 256        \\\\\n",
       "\\end{tabular}\n"
      ],
      "text/markdown": [
       "\n",
       "| X | Y | Z | D | E |\n",
       "|---|---|---|---|---|\n",
       "|  10         | a           | 11          | 20          |  20         |\n",
       "|  20         | b           | 12          | 25          |  40         |\n",
       "|  30         | c           | 13          | 30          |  60         |\n",
       "|  40         | d           | 14          | 35          |  80         |\n",
       "|  50         | e           | 15          | 40          | 100         |\n",
       "| 128         | Meteorologi | 16          | 45          | 256         |\n",
       "\n"
      ],
      "text/plain": [
       "  X   Y           Z  D  E  \n",
       "1  10 a           11 20  20\n",
       "2  20 b           12 25  40\n",
       "3  30 c           13 30  60\n",
       "4  40 d           14 35  80\n",
       "5  50 e           15 40 100\n",
       "6 128 Meteorologi 16 45 256"
      ]
     },
     "metadata": {},
     "output_type": "display_data"
    }
   ],
   "source": [
    "df"
   ]
  },
  {
   "cell_type": "code",
   "execution_count": 219,
   "metadata": {},
   "outputs": [
    {
     "data": {
      "text/html": [
       "<table>\n",
       "<thead><tr><th scope=col>X</th><th scope=col>Y</th><th scope=col>Z</th><th scope=col>D</th><th scope=col>E</th></tr></thead>\n",
       "<tbody>\n",
       "\t<tr><td>FALSE</td><td>FALSE</td><td>FALSE</td><td>FALSE</td><td>FALSE</td></tr>\n",
       "\t<tr><td>FALSE</td><td>FALSE</td><td>FALSE</td><td>FALSE</td><td>FALSE</td></tr>\n",
       "\t<tr><td>FALSE</td><td>FALSE</td><td>FALSE</td><td>FALSE</td><td>FALSE</td></tr>\n",
       "\t<tr><td>FALSE</td><td>FALSE</td><td>FALSE</td><td>FALSE</td><td>FALSE</td></tr>\n",
       "\t<tr><td>FALSE</td><td>FALSE</td><td>FALSE</td><td>FALSE</td><td>FALSE</td></tr>\n",
       "\t<tr><td>FALSE</td><td>FALSE</td><td>FALSE</td><td>FALSE</td><td>FALSE</td></tr>\n",
       "</tbody>\n",
       "</table>\n"
      ],
      "text/latex": [
       "\\begin{tabular}{lllll}\n",
       " X & Y & Z & D & E\\\\\n",
       "\\hline\n",
       "\t FALSE & FALSE & FALSE & FALSE & FALSE\\\\\n",
       "\t FALSE & FALSE & FALSE & FALSE & FALSE\\\\\n",
       "\t FALSE & FALSE & FALSE & FALSE & FALSE\\\\\n",
       "\t FALSE & FALSE & FALSE & FALSE & FALSE\\\\\n",
       "\t FALSE & FALSE & FALSE & FALSE & FALSE\\\\\n",
       "\t FALSE & FALSE & FALSE & FALSE & FALSE\\\\\n",
       "\\end{tabular}\n"
      ],
      "text/markdown": [
       "\n",
       "| X | Y | Z | D | E |\n",
       "|---|---|---|---|---|\n",
       "| FALSE | FALSE | FALSE | FALSE | FALSE |\n",
       "| FALSE | FALSE | FALSE | FALSE | FALSE |\n",
       "| FALSE | FALSE | FALSE | FALSE | FALSE |\n",
       "| FALSE | FALSE | FALSE | FALSE | FALSE |\n",
       "| FALSE | FALSE | FALSE | FALSE | FALSE |\n",
       "| FALSE | FALSE | FALSE | FALSE | FALSE |\n",
       "\n"
      ],
      "text/plain": [
       "     X     Y     Z     D     E    \n",
       "[1,] FALSE FALSE FALSE FALSE FALSE\n",
       "[2,] FALSE FALSE FALSE FALSE FALSE\n",
       "[3,] FALSE FALSE FALSE FALSE FALSE\n",
       "[4,] FALSE FALSE FALSE FALSE FALSE\n",
       "[5,] FALSE FALSE FALSE FALSE FALSE\n",
       "[6,] FALSE FALSE FALSE FALSE FALSE"
      ]
     },
     "metadata": {},
     "output_type": "display_data"
    }
   ],
   "source": [
    "is.na(df) # cek data kosong"
   ]
  },
  {
   "cell_type": "code",
   "execution_count": 220,
   "metadata": {},
   "outputs": [
    {
     "data": {
      "text/html": [
       "FALSE"
      ],
      "text/latex": [
       "FALSE"
      ],
      "text/markdown": [
       "FALSE"
      ],
      "text/plain": [
       "[1] FALSE"
      ]
     },
     "metadata": {},
     "output_type": "display_data"
    }
   ],
   "source": [
    "any(is.na(df))"
   ]
  },
  {
   "cell_type": "code",
   "execution_count": 221,
   "metadata": {},
   "outputs": [
    {
     "data": {
      "text/html": [
       "FALSE"
      ],
      "text/latex": [
       "FALSE"
      ],
      "text/markdown": [
       "FALSE"
      ],
      "text/plain": [
       "[1] FALSE"
      ]
     },
     "metadata": {},
     "output_type": "display_data"
    }
   ],
   "source": [
    "any(is.na(df$X))"
   ]
  },
  {
   "cell_type": "code",
   "execution_count": 222,
   "metadata": {},
   "outputs": [
    {
     "ename": "ERROR",
     "evalue": "Error in any(is.na(df)) <- 0.5: could not find function \"any<-\"\n",
     "output_type": "error",
     "traceback": [
      "Error in any(is.na(df)) <- 0.5: could not find function \"any<-\"\nTraceback:\n"
     ]
    }
   ],
   "source": [
    "# Membuat na jadi 0\n",
    "any(is.na(df)) <- 0.5 # error karena ga ada na"
   ]
  },
  {
   "cell_type": "code",
   "execution_count": 223,
   "metadata": {},
   "outputs": [
    {
     "ename": "ERROR",
     "evalue": "Error in any(is.na(df$D)) <- mean(df$D): could not find function \"any<-\"\n",
     "output_type": "error",
     "traceback": [
      "Error in any(is.na(df$D)) <- mean(df$D): could not find function \"any<-\"\nTraceback:\n"
     ]
    }
   ],
   "source": [
    "any(is.na(df$D)) <- mean(df$D)  # error karena ga ada na"
   ]
  },
  {
   "cell_type": "markdown",
   "metadata": {},
   "source": [
    "# List"
   ]
  },
  {
   "cell_type": "markdown",
   "metadata": {},
   "source": [
    "Kumpulan berbagai macam tipe data di R"
   ]
  },
  {
   "cell_type": "code",
   "execution_count": 224,
   "metadata": {},
   "outputs": [],
   "source": [
    "v <- c(1,2,3,4,5)\n",
    "M <- matrix(1:10, nrow=2)\n",
    "c1 <- c('Ignatius', 'Laynez', 'Faber', 'Xaverius', 'Kanisius')\n",
    "c2 <- c(42,37,28,45,43)"
   ]
  },
  {
   "cell_type": "code",
   "execution_count": 225,
   "metadata": {},
   "outputs": [
    {
     "data": {
      "text/html": [
       "<table>\n",
       "<thead><tr><th scope=col>Nama</th><th scope=col>ID</th></tr></thead>\n",
       "<tbody>\n",
       "\t<tr><td>Ignatius</td><td>42      </td></tr>\n",
       "\t<tr><td>Laynez  </td><td>37      </td></tr>\n",
       "\t<tr><td>Faber   </td><td>28      </td></tr>\n",
       "\t<tr><td>Xaverius</td><td>45      </td></tr>\n",
       "\t<tr><td>Kanisius</td><td>43      </td></tr>\n",
       "</tbody>\n",
       "</table>\n"
      ],
      "text/latex": [
       "\\begin{tabular}{r|ll}\n",
       " Nama & ID\\\\\n",
       "\\hline\n",
       "\t Ignatius & 42      \\\\\n",
       "\t Laynez   & 37      \\\\\n",
       "\t Faber    & 28      \\\\\n",
       "\t Xaverius & 45      \\\\\n",
       "\t Kanisius & 43      \\\\\n",
       "\\end{tabular}\n"
      ],
      "text/markdown": [
       "\n",
       "| Nama | ID |\n",
       "|---|---|\n",
       "| Ignatius | 42       |\n",
       "| Laynez   | 37       |\n",
       "| Faber    | 28       |\n",
       "| Xaverius | 45       |\n",
       "| Kanisius | 43       |\n",
       "\n"
      ],
      "text/plain": [
       "  Nama     ID\n",
       "1 Ignatius 42\n",
       "2 Laynez   37\n",
       "3 Faber    28\n",
       "4 Xaverius 45\n",
       "5 Kanisius 43"
      ]
     },
     "metadata": {},
     "output_type": "display_data"
    }
   ],
   "source": [
    "df <- data.frame(Nama = c1, ID = c2)\n",
    "df"
   ]
  },
  {
   "cell_type": "code",
   "execution_count": 226,
   "metadata": {},
   "outputs": [
    {
     "data": {
      "text/html": [
       "<ol>\n",
       "\t<li><ol class=list-inline>\n",
       "\t<li>1</li>\n",
       "\t<li>2</li>\n",
       "\t<li>3</li>\n",
       "\t<li>4</li>\n",
       "\t<li>5</li>\n",
       "</ol>\n",
       "</li>\n",
       "\t<li><table>\n",
       "<tbody>\n",
       "\t<tr><td>1 </td><td>3 </td><td>5 </td><td>7 </td><td> 9</td></tr>\n",
       "\t<tr><td>2 </td><td>4 </td><td>6 </td><td>8 </td><td>10</td></tr>\n",
       "</tbody>\n",
       "</table>\n",
       "</li>\n",
       "\t<li><table>\n",
       "<thead><tr><th scope=col>Nama</th><th scope=col>ID</th></tr></thead>\n",
       "<tbody>\n",
       "\t<tr><td>Ignatius</td><td>42      </td></tr>\n",
       "\t<tr><td>Laynez  </td><td>37      </td></tr>\n",
       "\t<tr><td>Faber   </td><td>28      </td></tr>\n",
       "\t<tr><td>Xaverius</td><td>45      </td></tr>\n",
       "\t<tr><td>Kanisius</td><td>43      </td></tr>\n",
       "</tbody>\n",
       "</table>\n",
       "</li>\n",
       "</ol>\n"
      ],
      "text/latex": [
       "\\begin{enumerate}\n",
       "\\item \\begin{enumerate*}\n",
       "\\item 1\n",
       "\\item 2\n",
       "\\item 3\n",
       "\\item 4\n",
       "\\item 5\n",
       "\\end{enumerate*}\n",
       "\n",
       "\\item \\begin{tabular}{lllll}\n",
       "\t 1  & 3  & 5  & 7  &  9\\\\\n",
       "\t 2  & 4  & 6  & 8  & 10\\\\\n",
       "\\end{tabular}\n",
       "\n",
       "\\item \\begin{tabular}{r|ll}\n",
       " Nama & ID\\\\\n",
       "\\hline\n",
       "\t Ignatius & 42      \\\\\n",
       "\t Laynez   & 37      \\\\\n",
       "\t Faber    & 28      \\\\\n",
       "\t Xaverius & 45      \\\\\n",
       "\t Kanisius & 43      \\\\\n",
       "\\end{tabular}\n",
       "\n",
       "\\end{enumerate}\n"
      ],
      "text/markdown": [
       "1. 1. 1\n",
       "2. 2\n",
       "3. 3\n",
       "4. 4\n",
       "5. 5\n",
       "\n",
       "\n",
       "\n",
       "2. \n",
       "| 1  | 3  | 5  | 7  |  9 |\n",
       "| 2  | 4  | 6  | 8  | 10 |\n",
       "\n",
       "\n",
       "3. \n",
       "| Nama | ID |\n",
       "|---|---|\n",
       "| Ignatius | 42       |\n",
       "| Laynez   | 37       |\n",
       "| Faber    | 28       |\n",
       "| Xaverius | 45       |\n",
       "| Kanisius | 43       |\n",
       "\n",
       "\n",
       "\n",
       "\n"
      ],
      "text/plain": [
       "[[1]]\n",
       "[1] 1 2 3 4 5\n",
       "\n",
       "[[2]]\n",
       "     [,1] [,2] [,3] [,4] [,5]\n",
       "[1,]    1    3    5    7    9\n",
       "[2,]    2    4    6    8   10\n",
       "\n",
       "[[3]]\n",
       "      Nama ID\n",
       "1 Ignatius 42\n",
       "2   Laynez 37\n",
       "3    Faber 28\n",
       "4 Xaverius 45\n",
       "5 Kanisius 43\n"
      ]
     },
     "metadata": {},
     "output_type": "display_data"
    }
   ],
   "source": [
    "# Pendefinisian list\n",
    "l <- list(v,M,df)\n",
    "l"
   ]
  },
  {
   "cell_type": "code",
   "execution_count": 227,
   "metadata": {},
   "outputs": [
    {
     "data": {
      "text/html": [
       "<dl>\n",
       "\t<dt>$sampel_vektor</dt>\n",
       "\t\t<dd><ol class=list-inline>\n",
       "\t<li>1</li>\n",
       "\t<li>2</li>\n",
       "\t<li>3</li>\n",
       "\t<li>4</li>\n",
       "\t<li>5</li>\n",
       "</ol>\n",
       "</dd>\n",
       "\t<dt>$sampel_matriks</dt>\n",
       "\t\t<dd><table>\n",
       "<tbody>\n",
       "\t<tr><td>1 </td><td>3 </td><td>5 </td><td>7 </td><td> 9</td></tr>\n",
       "\t<tr><td>2 </td><td>4 </td><td>6 </td><td>8 </td><td>10</td></tr>\n",
       "</tbody>\n",
       "</table>\n",
       "</dd>\n",
       "\t<dt>$sample_data_frame</dt>\n",
       "\t\t<dd><table>\n",
       "<thead><tr><th scope=col>Nama</th><th scope=col>ID</th></tr></thead>\n",
       "<tbody>\n",
       "\t<tr><td>Ignatius</td><td>42      </td></tr>\n",
       "\t<tr><td>Laynez  </td><td>37      </td></tr>\n",
       "\t<tr><td>Faber   </td><td>28      </td></tr>\n",
       "\t<tr><td>Xaverius</td><td>45      </td></tr>\n",
       "\t<tr><td>Kanisius</td><td>43      </td></tr>\n",
       "</tbody>\n",
       "</table>\n",
       "</dd>\n",
       "</dl>\n"
      ],
      "text/latex": [
       "\\begin{description}\n",
       "\\item[\\$sampel\\_vektor] \\begin{enumerate*}\n",
       "\\item 1\n",
       "\\item 2\n",
       "\\item 3\n",
       "\\item 4\n",
       "\\item 5\n",
       "\\end{enumerate*}\n",
       "\n",
       "\\item[\\$sampel\\_matriks] \\begin{tabular}{lllll}\n",
       "\t 1  & 3  & 5  & 7  &  9\\\\\n",
       "\t 2  & 4  & 6  & 8  & 10\\\\\n",
       "\\end{tabular}\n",
       "\n",
       "\\item[\\$sample\\_data\\_frame] \\begin{tabular}{r|ll}\n",
       " Nama & ID\\\\\n",
       "\\hline\n",
       "\t Ignatius & 42      \\\\\n",
       "\t Laynez   & 37      \\\\\n",
       "\t Faber    & 28      \\\\\n",
       "\t Xaverius & 45      \\\\\n",
       "\t Kanisius & 43      \\\\\n",
       "\\end{tabular}\n",
       "\n",
       "\\end{description}\n"
      ],
      "text/markdown": [
       "$sampel_vektor\n",
       ":   1. 1\n",
       "2. 2\n",
       "3. 3\n",
       "4. 4\n",
       "5. 5\n",
       "\n",
       "\n",
       "\n",
       "$sampel_matriks\n",
       ":   \n",
       "| 1  | 3  | 5  | 7  |  9 |\n",
       "| 2  | 4  | 6  | 8  | 10 |\n",
       "\n",
       "\n",
       "$sample_data_frame\n",
       ":   \n",
       "| Nama | ID |\n",
       "|---|---|\n",
       "| Ignatius | 42       |\n",
       "| Laynez   | 37       |\n",
       "| Faber    | 28       |\n",
       "| Xaverius | 45       |\n",
       "| Kanisius | 43       |\n",
       "\n",
       "\n",
       "\n",
       "\n"
      ],
      "text/plain": [
       "$sampel_vektor\n",
       "[1] 1 2 3 4 5\n",
       "\n",
       "$sampel_matriks\n",
       "     [,1] [,2] [,3] [,4] [,5]\n",
       "[1,]    1    3    5    7    9\n",
       "[2,]    2    4    6    8   10\n",
       "\n",
       "$sample_data_frame\n",
       "      Nama ID\n",
       "1 Ignatius 42\n",
       "2   Laynez 37\n",
       "3    Faber 28\n",
       "4 Xaverius 45\n",
       "5 Kanisius 43\n"
      ]
     },
     "metadata": {},
     "output_type": "display_data"
    }
   ],
   "source": [
    "# penamaaan ulang indeks list\n",
    "\n",
    "l2 <- list(sampel_vektor = v, sampel_matriks = M, sample_data_frame = df)\n",
    "l2"
   ]
  },
  {
   "cell_type": "code",
   "execution_count": 228,
   "metadata": {},
   "outputs": [
    {
     "data": {
      "text/html": [
       "<strong>$sampel_vektor</strong> = <ol class=list-inline>\n",
       "\t<li>1</li>\n",
       "\t<li>2</li>\n",
       "\t<li>3</li>\n",
       "\t<li>4</li>\n",
       "\t<li>5</li>\n",
       "</ol>\n"
      ],
      "text/latex": [
       "\\textbf{\\$sampel\\_vektor} = \\begin{enumerate*}\n",
       "\\item 1\n",
       "\\item 2\n",
       "\\item 3\n",
       "\\item 4\n",
       "\\item 5\n",
       "\\end{enumerate*}\n"
      ],
      "text/markdown": [
       "**$sampel_vektor** = 1. 1\n",
       "2. 2\n",
       "3. 3\n",
       "4. 4\n",
       "5. 5\n",
       "\n",
       "\n"
      ],
      "text/plain": [
       "$sampel_vektor\n",
       "[1] 1 2 3 4 5\n"
      ]
     },
     "metadata": {},
     "output_type": "display_data"
    }
   ],
   "source": [
    "l2[1]"
   ]
  },
  {
   "cell_type": "code",
   "execution_count": 229,
   "metadata": {},
   "outputs": [
    {
     "data": {
      "text/html": [
       "<strong>$sampel_vektor</strong> = <ol class=list-inline>\n",
       "\t<li>1</li>\n",
       "\t<li>2</li>\n",
       "\t<li>3</li>\n",
       "\t<li>4</li>\n",
       "\t<li>5</li>\n",
       "</ol>\n"
      ],
      "text/latex": [
       "\\textbf{\\$sampel\\_vektor} = \\begin{enumerate*}\n",
       "\\item 1\n",
       "\\item 2\n",
       "\\item 3\n",
       "\\item 4\n",
       "\\item 5\n",
       "\\end{enumerate*}\n"
      ],
      "text/markdown": [
       "**$sampel_vektor** = 1. 1\n",
       "2. 2\n",
       "3. 3\n",
       "4. 4\n",
       "5. 5\n",
       "\n",
       "\n"
      ],
      "text/plain": [
       "$sampel_vektor\n",
       "[1] 1 2 3 4 5\n"
      ]
     },
     "metadata": {},
     "output_type": "display_data"
    }
   ],
   "source": [
    "l2['sampel_vektor']"
   ]
  },
  {
   "cell_type": "code",
   "execution_count": 230,
   "metadata": {},
   "outputs": [
    {
     "data": {
      "text/html": [
       "<ol class=list-inline>\n",
       "\t<li>1</li>\n",
       "\t<li>2</li>\n",
       "\t<li>3</li>\n",
       "\t<li>4</li>\n",
       "\t<li>5</li>\n",
       "</ol>\n"
      ],
      "text/latex": [
       "\\begin{enumerate*}\n",
       "\\item 1\n",
       "\\item 2\n",
       "\\item 3\n",
       "\\item 4\n",
       "\\item 5\n",
       "\\end{enumerate*}\n"
      ],
      "text/markdown": [
       "1. 1\n",
       "2. 2\n",
       "3. 3\n",
       "4. 4\n",
       "5. 5\n",
       "\n",
       "\n"
      ],
      "text/plain": [
       "[1] 1 2 3 4 5"
      ]
     },
     "metadata": {},
     "output_type": "display_data"
    }
   ],
   "source": [
    "l2$sampel_vektor"
   ]
  },
  {
   "cell_type": "code",
   "execution_count": 231,
   "metadata": {},
   "outputs": [
    {
     "data": {
      "text/html": [
       "<ol class=list-inline>\n",
       "\t<li>1</li>\n",
       "\t<li>2</li>\n",
       "\t<li>3</li>\n",
       "\t<li>4</li>\n",
       "\t<li>5</li>\n",
       "</ol>\n"
      ],
      "text/latex": [
       "\\begin{enumerate*}\n",
       "\\item 1\n",
       "\\item 2\n",
       "\\item 3\n",
       "\\item 4\n",
       "\\item 5\n",
       "\\end{enumerate*}\n"
      ],
      "text/markdown": [
       "1. 1\n",
       "2. 2\n",
       "3. 3\n",
       "4. 4\n",
       "5. 5\n",
       "\n",
       "\n"
      ],
      "text/plain": [
       "[1] 1 2 3 4 5"
      ]
     },
     "metadata": {},
     "output_type": "display_data"
    }
   ],
   "source": [
    "l2[['sampel_vektor']]"
   ]
  },
  {
   "cell_type": "code",
   "execution_count": 232,
   "metadata": {},
   "outputs": [
    {
     "name": "stdout",
     "output_type": "stream",
     "text": [
      "[1] \"list\"\n",
      "[1] \"list\"\n"
     ]
    }
   ],
   "source": [
    "print(class(l2['sampel_vektor']))\n",
    "print(class(l2[1]))"
   ]
  },
  {
   "cell_type": "code",
   "execution_count": 233,
   "metadata": {},
   "outputs": [
    {
     "name": "stdout",
     "output_type": "stream",
     "text": [
      "[1] \"numeric\"\n",
      "[1] \"numeric\"\n"
     ]
    }
   ],
   "source": [
    "print(class(l2$sampel_vektor))\n",
    "print(class(l2[['sampel_vektor']]))"
   ]
  },
  {
   "cell_type": "code",
   "execution_count": 234,
   "metadata": {},
   "outputs": [
    {
     "data": {
      "text/html": [
       "<dl>\n",
       "\t<dt>[[1]]</dt>\n",
       "\t\t<dd><ol class=list-inline>\n",
       "\t<li>1</li>\n",
       "\t<li>2</li>\n",
       "\t<li>3</li>\n",
       "\t<li>4</li>\n",
       "\t<li>5</li>\n",
       "</ol>\n",
       "</dd>\n",
       "\t<dt>[[2]]</dt>\n",
       "\t\t<dd><table>\n",
       "<tbody>\n",
       "\t<tr><td>1 </td><td>3 </td><td>5 </td><td>7 </td><td> 9</td></tr>\n",
       "\t<tr><td>2 </td><td>4 </td><td>6 </td><td>8 </td><td>10</td></tr>\n",
       "</tbody>\n",
       "</table>\n",
       "</dd>\n",
       "\t<dt>[[3]]</dt>\n",
       "\t\t<dd><table>\n",
       "<thead><tr><th scope=col>Nama</th><th scope=col>ID</th></tr></thead>\n",
       "<tbody>\n",
       "\t<tr><td>Ignatius</td><td>42      </td></tr>\n",
       "\t<tr><td>Laynez  </td><td>37      </td></tr>\n",
       "\t<tr><td>Faber   </td><td>28      </td></tr>\n",
       "\t<tr><td>Xaverius</td><td>45      </td></tr>\n",
       "\t<tr><td>Kanisius</td><td>43      </td></tr>\n",
       "</tbody>\n",
       "</table>\n",
       "</dd>\n",
       "\t<dt>$sampel_vektor</dt>\n",
       "\t\t<dd><ol class=list-inline>\n",
       "\t<li>1</li>\n",
       "\t<li>2</li>\n",
       "\t<li>3</li>\n",
       "\t<li>4</li>\n",
       "\t<li>5</li>\n",
       "</ol>\n",
       "</dd>\n",
       "\t<dt>$sampel_matriks</dt>\n",
       "\t\t<dd><table>\n",
       "<tbody>\n",
       "\t<tr><td>1 </td><td>3 </td><td>5 </td><td>7 </td><td> 9</td></tr>\n",
       "\t<tr><td>2 </td><td>4 </td><td>6 </td><td>8 </td><td>10</td></tr>\n",
       "</tbody>\n",
       "</table>\n",
       "</dd>\n",
       "\t<dt>$sample_data_frame</dt>\n",
       "\t\t<dd><table>\n",
       "<thead><tr><th scope=col>Nama</th><th scope=col>ID</th></tr></thead>\n",
       "<tbody>\n",
       "\t<tr><td>Ignatius</td><td>42      </td></tr>\n",
       "\t<tr><td>Laynez  </td><td>37      </td></tr>\n",
       "\t<tr><td>Faber   </td><td>28      </td></tr>\n",
       "\t<tr><td>Xaverius</td><td>45      </td></tr>\n",
       "\t<tr><td>Kanisius</td><td>43      </td></tr>\n",
       "</tbody>\n",
       "</table>\n",
       "</dd>\n",
       "</dl>\n"
      ],
      "text/latex": [
       "\\begin{description}\n",
       "\\item[{[[1]]}] \\begin{enumerate*}\n",
       "\\item 1\n",
       "\\item 2\n",
       "\\item 3\n",
       "\\item 4\n",
       "\\item 5\n",
       "\\end{enumerate*}\n",
       "\n",
       "\\item[{[[2]]}] \\begin{tabular}{lllll}\n",
       "\t 1  & 3  & 5  & 7  &  9\\\\\n",
       "\t 2  & 4  & 6  & 8  & 10\\\\\n",
       "\\end{tabular}\n",
       "\n",
       "\\item[{[[3]]}] \\begin{tabular}{r|ll}\n",
       " Nama & ID\\\\\n",
       "\\hline\n",
       "\t Ignatius & 42      \\\\\n",
       "\t Laynez   & 37      \\\\\n",
       "\t Faber    & 28      \\\\\n",
       "\t Xaverius & 45      \\\\\n",
       "\t Kanisius & 43      \\\\\n",
       "\\end{tabular}\n",
       "\n",
       "\\item[\\$sampel\\_vektor] \\begin{enumerate*}\n",
       "\\item 1\n",
       "\\item 2\n",
       "\\item 3\n",
       "\\item 4\n",
       "\\item 5\n",
       "\\end{enumerate*}\n",
       "\n",
       "\\item[\\$sampel\\_matriks] \\begin{tabular}{lllll}\n",
       "\t 1  & 3  & 5  & 7  &  9\\\\\n",
       "\t 2  & 4  & 6  & 8  & 10\\\\\n",
       "\\end{tabular}\n",
       "\n",
       "\\item[\\$sample\\_data\\_frame] \\begin{tabular}{r|ll}\n",
       " Nama & ID\\\\\n",
       "\\hline\n",
       "\t Ignatius & 42      \\\\\n",
       "\t Laynez   & 37      \\\\\n",
       "\t Faber    & 28      \\\\\n",
       "\t Xaverius & 45      \\\\\n",
       "\t Kanisius & 43      \\\\\n",
       "\\end{tabular}\n",
       "\n",
       "\\end{description}\n"
      ],
      "text/markdown": [
       "[[1]]\n",
       ":   1. 1\n",
       "2. 2\n",
       "3. 3\n",
       "4. 4\n",
       "5. 5\n",
       "\n",
       "\n",
       "\n",
       "[[2]]\n",
       ":   \n",
       "| 1  | 3  | 5  | 7  |  9 |\n",
       "| 2  | 4  | 6  | 8  | 10 |\n",
       "\n",
       "\n",
       "[[3]]\n",
       ":   \n",
       "| Nama | ID |\n",
       "|---|---|\n",
       "| Ignatius | 42       |\n",
       "| Laynez   | 37       |\n",
       "| Faber    | 28       |\n",
       "| Xaverius | 45       |\n",
       "| Kanisius | 43       |\n",
       "\n",
       "\n",
       "$sampel_vektor\n",
       ":   1. 1\n",
       "2. 2\n",
       "3. 3\n",
       "4. 4\n",
       "5. 5\n",
       "\n",
       "\n",
       "\n",
       "$sampel_matriks\n",
       ":   \n",
       "| 1  | 3  | 5  | 7  |  9 |\n",
       "| 2  | 4  | 6  | 8  | 10 |\n",
       "\n",
       "\n",
       "$sample_data_frame\n",
       ":   \n",
       "| Nama | ID |\n",
       "|---|---|\n",
       "| Ignatius | 42       |\n",
       "| Laynez   | 37       |\n",
       "| Faber    | 28       |\n",
       "| Xaverius | 45       |\n",
       "| Kanisius | 43       |\n",
       "\n",
       "\n",
       "\n",
       "\n"
      ],
      "text/plain": [
       "[[1]]\n",
       "[1] 1 2 3 4 5\n",
       "\n",
       "[[2]]\n",
       "     [,1] [,2] [,3] [,4] [,5]\n",
       "[1,]    1    3    5    7    9\n",
       "[2,]    2    4    6    8   10\n",
       "\n",
       "[[3]]\n",
       "      Nama ID\n",
       "1 Ignatius 42\n",
       "2   Laynez 37\n",
       "3    Faber 28\n",
       "4 Xaverius 45\n",
       "5 Kanisius 43\n",
       "\n",
       "$sampel_vektor\n",
       "[1] 1 2 3 4 5\n",
       "\n",
       "$sampel_matriks\n",
       "     [,1] [,2] [,3] [,4] [,5]\n",
       "[1,]    1    3    5    7    9\n",
       "[2,]    2    4    6    8   10\n",
       "\n",
       "$sample_data_frame\n",
       "      Nama ID\n",
       "1 Ignatius 42\n",
       "2   Laynez 37\n",
       "3    Faber 28\n",
       "4 Xaverius 45\n",
       "5 Kanisius 43\n"
      ]
     },
     "metadata": {},
     "output_type": "display_data"
    }
   ],
   "source": [
    "# Mengombinasikan dua list\n",
    "l3 <- c(l,l2)\n",
    "l3"
   ]
  },
  {
   "cell_type": "code",
   "execution_count": 235,
   "metadata": {},
   "outputs": [
    {
     "name": "stdout",
     "output_type": "stream",
     "text": [
      "List of 3\n",
      " $ sampel_vektor    : num [1:5] 1 2 3 4 5\n",
      " $ sampel_matriks   : int [1:2, 1:5] 1 2 3 4 5 6 7 8 9 10\n",
      " $ sample_data_frame:'data.frame':\t5 obs. of  2 variables:\n",
      "  ..$ Nama: Factor w/ 5 levels \"Faber\",\"Ignatius\",..: 2 4 1 5 3\n",
      "  ..$ ID  : num [1:5] 42 37 28 45 43\n"
     ]
    }
   ],
   "source": [
    "str(l2)"
   ]
  },
  {
   "cell_type": "code",
   "execution_count": 236,
   "metadata": {},
   "outputs": [
    {
     "data": {
      "text/plain": [
       "                  Length Class      Mode   \n",
       "sampel_vektor      5     -none-     numeric\n",
       "sampel_matriks    10     -none-     numeric\n",
       "sample_data_frame  2     data.frame list   "
      ]
     },
     "metadata": {},
     "output_type": "display_data"
    }
   ],
   "source": [
    "summary(l2)"
   ]
  },
  {
   "cell_type": "markdown",
   "metadata": {},
   "source": [
    "# Penanganan data tabular"
   ]
  },
  {
   "cell_type": "markdown",
   "metadata": {},
   "source": [
    "## Penanganan data csv"
   ]
  },
  {
   "cell_type": "code",
   "execution_count": 237,
   "metadata": {},
   "outputs": [
    {
     "data": {
      "text/html": [
       "'/home/ronggolawe/coding_repo/statdasWebinaR'"
      ],
      "text/latex": [
       "'/home/ronggolawe/coding\\_repo/statdasWebinaR'"
      ],
      "text/markdown": [
       "'/home/ronggolawe/coding_repo/statdasWebinaR'"
      ],
      "text/plain": [
       "[1] \"/home/ronggolawe/coding_repo/statdasWebinaR\""
      ]
     },
     "metadata": {},
     "output_type": "display_data"
    }
   ],
   "source": [
    "getwd() # tahu di mana posisi kita saat ini"
   ]
  },
  {
   "cell_type": "code",
   "execution_count": 238,
   "metadata": {},
   "outputs": [],
   "source": [
    "setwd(\"/home//ronggolawe/coding_repo/statdasWebinaR/\") # mengatur posisi kita"
   ]
  },
  {
   "cell_type": "code",
   "execution_count": 239,
   "metadata": {},
   "outputs": [
    {
     "data": {
      "text/html": [
       "'/home/ronggolawe/coding_repo/statdasWebinaR'"
      ],
      "text/latex": [
       "'/home/ronggolawe/coding\\_repo/statdasWebinaR'"
      ],
      "text/markdown": [
       "'/home/ronggolawe/coding_repo/statdasWebinaR'"
      ],
      "text/plain": [
       "[1] \"/home/ronggolawe/coding_repo/statdasWebinaR\""
      ]
     },
     "metadata": {},
     "output_type": "display_data"
    }
   ],
   "source": [
    "getwd()"
   ]
  },
  {
   "cell_type": "code",
   "execution_count": 240,
   "metadata": {},
   "outputs": [
    {
     "data": {
      "text/html": [
       "<table>\n",
       "<thead><tr><th scope=col>ID</th><th scope=col>NAMA</th><th scope=col>Gaji</th><th scope=col>Jurusan</th></tr></thead>\n",
       "<tbody>\n",
       "\t<tr><td>1                 </td><td>Petrus            </td><td> 1000000          </td><td>Teologi           </td></tr>\n",
       "\t<tr><td>2                 </td><td>Matius            </td><td> 2000000          </td><td>Filsafat          </td></tr>\n",
       "\t<tr><td>3                 </td><td>Markus            </td><td> 5000000          </td><td>Meteorologi       </td></tr>\n",
       "\t<tr><td>4                 </td><td>Barnabas          </td><td>10000000          </td><td>Teknik Informatika</td></tr>\n",
       "\t<tr><td>5                 </td><td>Thomas            </td><td>20000000          </td><td>Sistem Informasi  </td></tr>\n",
       "\t<tr><td>6                 </td><td>Ignatius          </td><td>  500000          </td><td>Pendidikan Agama  </td></tr>\n",
       "\t<tr><td>7                 </td><td>Aisyah            </td><td>25000000          </td><td>Teknik Elektro    </td></tr>\n",
       "\t<tr><td>8                 </td><td>Supriyanto        </td><td> 1500000          </td><td>Ilmu Perpustakaan </td></tr>\n",
       "</tbody>\n",
       "</table>\n"
      ],
      "text/latex": [
       "\\begin{tabular}{r|llll}\n",
       " ID & NAMA & Gaji & Jurusan\\\\\n",
       "\\hline\n",
       "\t 1                  & Petrus             &  1000000           & Teologi           \\\\\n",
       "\t 2                  & Matius             &  2000000           & Filsafat          \\\\\n",
       "\t 3                  & Markus             &  5000000           & Meteorologi       \\\\\n",
       "\t 4                  & Barnabas           & 10000000           & Teknik Informatika\\\\\n",
       "\t 5                  & Thomas             & 20000000           & Sistem Informasi  \\\\\n",
       "\t 6                  & Ignatius           &   500000           & Pendidikan Agama  \\\\\n",
       "\t 7                  & Aisyah             & 25000000           & Teknik Elektro    \\\\\n",
       "\t 8                  & Supriyanto         &  1500000           & Ilmu Perpustakaan \\\\\n",
       "\\end{tabular}\n"
      ],
      "text/markdown": [
       "\n",
       "| ID | NAMA | Gaji | Jurusan |\n",
       "|---|---|---|---|\n",
       "| 1                  | Petrus             |  1000000           | Teologi            |\n",
       "| 2                  | Matius             |  2000000           | Filsafat           |\n",
       "| 3                  | Markus             |  5000000           | Meteorologi        |\n",
       "| 4                  | Barnabas           | 10000000           | Teknik Informatika |\n",
       "| 5                  | Thomas             | 20000000           | Sistem Informasi   |\n",
       "| 6                  | Ignatius           |   500000           | Pendidikan Agama   |\n",
       "| 7                  | Aisyah             | 25000000           | Teknik Elektro     |\n",
       "| 8                  | Supriyanto         |  1500000           | Ilmu Perpustakaan  |\n",
       "\n"
      ],
      "text/plain": [
       "  ID NAMA       Gaji     Jurusan           \n",
       "1 1  Petrus      1000000 Teologi           \n",
       "2 2  Matius      2000000 Filsafat          \n",
       "3 3  Markus      5000000 Meteorologi       \n",
       "4 4  Barnabas   10000000 Teknik Informatika\n",
       "5 5  Thomas     20000000 Sistem Informasi  \n",
       "6 6  Ignatius     500000 Pendidikan Agama  \n",
       "7 7  Aisyah     25000000 Teknik Elektro    \n",
       "8 8  Supriyanto  1500000 Ilmu Perpustakaan "
      ]
     },
     "metadata": {},
     "output_type": "display_data"
    }
   ],
   "source": [
    "# Membaca csv\n",
    "data <- read.csv(\"./data/gaji.csv\")\n",
    "data"
   ]
  },
  {
   "cell_type": "code",
   "execution_count": 241,
   "metadata": {},
   "outputs": [
    {
     "data": {
      "text/html": [
       "<table>\n",
       "<thead><tr><th></th><th scope=col>mpg</th><th scope=col>cyl</th><th scope=col>disp</th><th scope=col>hp</th><th scope=col>drat</th><th scope=col>wt</th><th scope=col>qsec</th><th scope=col>vs</th><th scope=col>am</th><th scope=col>gear</th><th scope=col>carb</th></tr></thead>\n",
       "<tbody>\n",
       "\t<tr><th scope=row>Mazda RX4</th><td>21.0 </td><td>6    </td><td>160  </td><td>110  </td><td>3.90 </td><td>2.620</td><td>16.46</td><td>0    </td><td>1    </td><td>4    </td><td>4    </td></tr>\n",
       "\t<tr><th scope=row>Mazda RX4 Wag</th><td>21.0 </td><td>6    </td><td>160  </td><td>110  </td><td>3.90 </td><td>2.875</td><td>17.02</td><td>0    </td><td>1    </td><td>4    </td><td>4    </td></tr>\n",
       "\t<tr><th scope=row>Datsun 710</th><td>22.8 </td><td>4    </td><td>108  </td><td> 93  </td><td>3.85 </td><td>2.320</td><td>18.61</td><td>1    </td><td>1    </td><td>4    </td><td>1    </td></tr>\n",
       "\t<tr><th scope=row>Hornet 4 Drive</th><td>21.4 </td><td>6    </td><td>258  </td><td>110  </td><td>3.08 </td><td>3.215</td><td>19.44</td><td>1    </td><td>0    </td><td>3    </td><td>1    </td></tr>\n",
       "\t<tr><th scope=row>Hornet Sportabout</th><td>18.7 </td><td>8    </td><td>360  </td><td>175  </td><td>3.15 </td><td>3.440</td><td>17.02</td><td>0    </td><td>0    </td><td>3    </td><td>2    </td></tr>\n",
       "\t<tr><th scope=row>Valiant</th><td>18.1 </td><td>6    </td><td>225  </td><td>105  </td><td>2.76 </td><td>3.460</td><td>20.22</td><td>1    </td><td>0    </td><td>3    </td><td>1    </td></tr>\n",
       "</tbody>\n",
       "</table>\n"
      ],
      "text/latex": [
       "\\begin{tabular}{r|lllllllllll}\n",
       "  & mpg & cyl & disp & hp & drat & wt & qsec & vs & am & gear & carb\\\\\n",
       "\\hline\n",
       "\tMazda RX4 & 21.0  & 6     & 160   & 110   & 3.90  & 2.620 & 16.46 & 0     & 1     & 4     & 4    \\\\\n",
       "\tMazda RX4 Wag & 21.0  & 6     & 160   & 110   & 3.90  & 2.875 & 17.02 & 0     & 1     & 4     & 4    \\\\\n",
       "\tDatsun 710 & 22.8  & 4     & 108   &  93   & 3.85  & 2.320 & 18.61 & 1     & 1     & 4     & 1    \\\\\n",
       "\tHornet 4 Drive & 21.4  & 6     & 258   & 110   & 3.08  & 3.215 & 19.44 & 1     & 0     & 3     & 1    \\\\\n",
       "\tHornet Sportabout & 18.7  & 8     & 360   & 175   & 3.15  & 3.440 & 17.02 & 0     & 0     & 3     & 2    \\\\\n",
       "\tValiant & 18.1  & 6     & 225   & 105   & 2.76  & 3.460 & 20.22 & 1     & 0     & 3     & 1    \\\\\n",
       "\\end{tabular}\n"
      ],
      "text/markdown": [
       "\n",
       "| <!--/--> | mpg | cyl | disp | hp | drat | wt | qsec | vs | am | gear | carb |\n",
       "|---|---|---|---|---|---|---|---|---|---|---|---|\n",
       "| Mazda RX4 | 21.0  | 6     | 160   | 110   | 3.90  | 2.620 | 16.46 | 0     | 1     | 4     | 4     |\n",
       "| Mazda RX4 Wag | 21.0  | 6     | 160   | 110   | 3.90  | 2.875 | 17.02 | 0     | 1     | 4     | 4     |\n",
       "| Datsun 710 | 22.8  | 4     | 108   |  93   | 3.85  | 2.320 | 18.61 | 1     | 1     | 4     | 1     |\n",
       "| Hornet 4 Drive | 21.4  | 6     | 258   | 110   | 3.08  | 3.215 | 19.44 | 1     | 0     | 3     | 1     |\n",
       "| Hornet Sportabout | 18.7  | 8     | 360   | 175   | 3.15  | 3.440 | 17.02 | 0     | 0     | 3     | 2     |\n",
       "| Valiant | 18.1  | 6     | 225   | 105   | 2.76  | 3.460 | 20.22 | 1     | 0     | 3     | 1     |\n",
       "\n"
      ],
      "text/plain": [
       "                  mpg  cyl disp hp  drat wt    qsec  vs am gear carb\n",
       "Mazda RX4         21.0 6   160  110 3.90 2.620 16.46 0  1  4    4   \n",
       "Mazda RX4 Wag     21.0 6   160  110 3.90 2.875 17.02 0  1  4    4   \n",
       "Datsun 710        22.8 4   108   93 3.85 2.320 18.61 1  1  4    1   \n",
       "Hornet 4 Drive    21.4 6   258  110 3.08 3.215 19.44 1  0  3    1   \n",
       "Hornet Sportabout 18.7 8   360  175 3.15 3.440 17.02 0  0  3    2   \n",
       "Valiant           18.1 6   225  105 2.76 3.460 20.22 1  0  3    1   "
      ]
     },
     "metadata": {},
     "output_type": "display_data"
    }
   ],
   "source": [
    "# menuliskan csv\n",
    "head(mtcars)"
   ]
  },
  {
   "cell_type": "code",
   "execution_count": 242,
   "metadata": {},
   "outputs": [],
   "source": [
    "write.csv(mtcars, file = \"./data/tes.csv\")"
   ]
  },
  {
   "cell_type": "code",
   "execution_count": 243,
   "metadata": {},
   "outputs": [
    {
     "data": {
      "text/html": [
       "'data.frame'"
      ],
      "text/latex": [
       "'data.frame'"
      ],
      "text/markdown": [
       "'data.frame'"
      ],
      "text/plain": [
       "[1] \"data.frame\""
      ]
     },
     "metadata": {},
     "output_type": "display_data"
    }
   ],
   "source": [
    "class(data)"
   ]
  },
  {
   "cell_type": "code",
   "execution_count": 244,
   "metadata": {},
   "outputs": [
    {
     "data": {
      "text/html": [
       "<table>\n",
       "<thead><tr><th scope=col>c1</th><th scope=col>c2</th></tr></thead>\n",
       "<tbody>\n",
       "\t<tr><td>10</td><td>A </td></tr>\n",
       "\t<tr><td>20</td><td>B </td></tr>\n",
       "\t<tr><td>30</td><td>C </td></tr>\n",
       "\t<tr><td>40</td><td>D </td></tr>\n",
       "\t<tr><td>50</td><td>E </td></tr>\n",
       "</tbody>\n",
       "</table>\n"
      ],
      "text/latex": [
       "\\begin{tabular}{r|ll}\n",
       " c1 & c2\\\\\n",
       "\\hline\n",
       "\t 10 & A \\\\\n",
       "\t 20 & B \\\\\n",
       "\t 30 & C \\\\\n",
       "\t 40 & D \\\\\n",
       "\t 50 & E \\\\\n",
       "\\end{tabular}\n"
      ],
      "text/markdown": [
       "\n",
       "| c1 | c2 |\n",
       "|---|---|\n",
       "| 10 | A  |\n",
       "| 20 | B  |\n",
       "| 30 | C  |\n",
       "| 40 | D  |\n",
       "| 50 | E  |\n",
       "\n"
      ],
      "text/plain": [
       "  c1 c2\n",
       "1 10 A \n",
       "2 20 B \n",
       "3 30 C \n",
       "4 40 D \n",
       "5 50 E "
      ]
     },
     "metadata": {},
     "output_type": "display_data"
    }
   ],
   "source": [
    "# menuliskan csv dari data frame\n",
    "c1 <- c(10,20,30,40,50)\n",
    "c2 <- c('A', 'B', 'C', 'D', 'E')\n",
    "df <- data.frame(c1,c2)\n",
    "df"
   ]
  },
  {
   "cell_type": "code",
   "execution_count": 245,
   "metadata": {},
   "outputs": [],
   "source": [
    "write.csv(df, file = './data/tes2.csv')"
   ]
  },
  {
   "cell_type": "code",
   "execution_count": 246,
   "metadata": {},
   "outputs": [],
   "source": [
    "help(read.csv)"
   ]
  },
  {
   "cell_type": "markdown",
   "metadata": {},
   "source": [
    "## Penanganan data excel"
   ]
  },
  {
   "cell_type": "code",
   "execution_count": 248,
   "metadata": {},
   "outputs": [],
   "source": [
    "library(readxl) # memuat pustaka readxl"
   ]
  },
  {
   "cell_type": "code",
   "execution_count": 249,
   "metadata": {},
   "outputs": [
    {
     "data": {
      "text/html": [
       "<ol class=list-inline>\n",
       "\t<li>'Sheet1'</li>\n",
       "\t<li>'Sheet2'</li>\n",
       "</ol>\n"
      ],
      "text/latex": [
       "\\begin{enumerate*}\n",
       "\\item 'Sheet1'\n",
       "\\item 'Sheet2'\n",
       "\\end{enumerate*}\n"
      ],
      "text/markdown": [
       "1. 'Sheet1'\n",
       "2. 'Sheet2'\n",
       "\n",
       "\n"
      ],
      "text/plain": [
       "[1] \"Sheet1\" \"Sheet2\""
      ]
     },
     "metadata": {},
     "output_type": "display_data"
    }
   ],
   "source": [
    "excel_sheets(\"./data/contoh.xlsx\") "
   ]
  },
  {
   "cell_type": "code",
   "execution_count": 250,
   "metadata": {},
   "outputs": [
    {
     "data": {
      "text/html": [
       "<table>\n",
       "<thead><tr><th scope=col>No</th><th scope=col>Nama Depan</th><th scope=col>Nama Belakang</th><th scope=col>Jenis Kelamin</th><th scope=col>Negara</th><th scope=col>Usia</th><th scope=col>ID</th></tr></thead>\n",
       "<tbody>\n",
       "\t<tr><td>1              </td><td>Fernando       </td><td>Sanchez        </td><td>Pria           </td><td>Meksiko        </td><td>28             </td><td>1562           </td></tr>\n",
       "\t<tr><td>2              </td><td>Sandy          </td><td>Herho          </td><td>Pria           </td><td>Indonesia      </td><td>27             </td><td>1582           </td></tr>\n",
       "\t<tr><td>3              </td><td>Mara           </td><td>Hashimoto      </td><td>Wanita         </td><td>Jepang         </td><td>25             </td><td>2587           </td></tr>\n",
       "\t<tr><td>4              </td><td>Philip         </td><td>Gent           </td><td>Pria           </td><td>Belgia         </td><td>32             </td><td>2468           </td></tr>\n",
       "\t<tr><td>5              </td><td>Satya          </td><td>Narendra       </td><td>Pria           </td><td>India          </td><td>42             </td><td>6548           </td></tr>\n",
       "\t<tr><td>6              </td><td>Vincenza       </td><td>Welland        </td><td>Wanita         </td><td>Amerika Serikat</td><td>40             </td><td>3598           </td></tr>\n",
       "\t<tr><td>7              </td><td>Rudy           </td><td>Salim          </td><td>Pria           </td><td>Indonesia      </td><td>65             </td><td>7865           </td></tr>\n",
       "\t<tr><td>8              </td><td>Gaston         </td><td>Brumm          </td><td>Pria           </td><td>Amerika Serikat</td><td>24             </td><td>2456           </td></tr>\n",
       "\t<tr><td>9              </td><td>Etta           </td><td>Hurn           </td><td>Wanita         </td><td>Britania Raya  </td><td>34             </td><td>1785           </td></tr>\n",
       "</tbody>\n",
       "</table>\n"
      ],
      "text/latex": [
       "\\begin{tabular}{r|lllllll}\n",
       " No & Nama Depan & Nama Belakang & Jenis Kelamin & Negara & Usia & ID\\\\\n",
       "\\hline\n",
       "\t 1               & Fernando        & Sanchez         & Pria            & Meksiko         & 28              & 1562           \\\\\n",
       "\t 2               & Sandy           & Herho           & Pria            & Indonesia       & 27              & 1582           \\\\\n",
       "\t 3               & Mara            & Hashimoto       & Wanita          & Jepang          & 25              & 2587           \\\\\n",
       "\t 4               & Philip          & Gent            & Pria            & Belgia          & 32              & 2468           \\\\\n",
       "\t 5               & Satya           & Narendra        & Pria            & India           & 42              & 6548           \\\\\n",
       "\t 6               & Vincenza        & Welland         & Wanita          & Amerika Serikat & 40              & 3598           \\\\\n",
       "\t 7               & Rudy            & Salim           & Pria            & Indonesia       & 65              & 7865           \\\\\n",
       "\t 8               & Gaston          & Brumm           & Pria            & Amerika Serikat & 24              & 2456           \\\\\n",
       "\t 9               & Etta            & Hurn            & Wanita          & Britania Raya   & 34              & 1785           \\\\\n",
       "\\end{tabular}\n"
      ],
      "text/markdown": [
       "\n",
       "| No | Nama Depan | Nama Belakang | Jenis Kelamin | Negara | Usia | ID |\n",
       "|---|---|---|---|---|---|---|\n",
       "| 1               | Fernando        | Sanchez         | Pria            | Meksiko         | 28              | 1562            |\n",
       "| 2               | Sandy           | Herho           | Pria            | Indonesia       | 27              | 1582            |\n",
       "| 3               | Mara            | Hashimoto       | Wanita          | Jepang          | 25              | 2587            |\n",
       "| 4               | Philip          | Gent            | Pria            | Belgia          | 32              | 2468            |\n",
       "| 5               | Satya           | Narendra        | Pria            | India           | 42              | 6548            |\n",
       "| 6               | Vincenza        | Welland         | Wanita          | Amerika Serikat | 40              | 3598            |\n",
       "| 7               | Rudy            | Salim           | Pria            | Indonesia       | 65              | 7865            |\n",
       "| 8               | Gaston          | Brumm           | Pria            | Amerika Serikat | 24              | 2456            |\n",
       "| 9               | Etta            | Hurn            | Wanita          | Britania Raya   | 34              | 1785            |\n",
       "\n"
      ],
      "text/plain": [
       "  No Nama Depan Nama Belakang Jenis Kelamin Negara          Usia ID  \n",
       "1 1  Fernando   Sanchez       Pria          Meksiko         28   1562\n",
       "2 2  Sandy      Herho         Pria          Indonesia       27   1582\n",
       "3 3  Mara       Hashimoto     Wanita        Jepang          25   2587\n",
       "4 4  Philip     Gent          Pria          Belgia          32   2468\n",
       "5 5  Satya      Narendra      Pria          India           42   6548\n",
       "6 6  Vincenza   Welland       Wanita        Amerika Serikat 40   3598\n",
       "7 7  Rudy       Salim         Pria          Indonesia       65   7865\n",
       "8 8  Gaston     Brumm         Pria          Amerika Serikat 24   2456\n",
       "9 9  Etta       Hurn          Wanita        Britania Raya   34   1785"
      ]
     },
     "metadata": {},
     "output_type": "display_data"
    }
   ],
   "source": [
    "# membaca file excel\n",
    "df <- read_excel(\"./data/contoh.xlsx\", sheet = \"Sheet1\")\n",
    "df"
   ]
  },
  {
   "cell_type": "code",
   "execution_count": 251,
   "metadata": {},
   "outputs": [
    {
     "data": {
      "text/plain": [
       "       No     Nama Depan        Nama Belakang      Jenis Kelamin     \n",
       " Min.   :1   Length:9           Length:9           Length:9          \n",
       " 1st Qu.:3   Class :character   Class :character   Class :character  \n",
       " Median :5   Mode  :character   Mode  :character   Mode  :character  \n",
       " Mean   :5                                                           \n",
       " 3rd Qu.:7                                                           \n",
       " Max.   :9                                                           \n",
       "    Negara               Usia             ID      \n",
       " Length:9           Min.   :24.00   Min.   :1562  \n",
       " Class :character   1st Qu.:27.00   1st Qu.:1785  \n",
       " Mode  :character   Median :32.00   Median :2468  \n",
       "                    Mean   :35.22   Mean   :3383  \n",
       "                    3rd Qu.:40.00   3rd Qu.:3598  \n",
       "                    Max.   :65.00   Max.   :7865  "
      ]
     },
     "metadata": {},
     "output_type": "display_data"
    }
   ],
   "source": [
    "summary(df)"
   ]
  },
  {
   "cell_type": "code",
   "execution_count": 252,
   "metadata": {},
   "outputs": [
    {
     "name": "stdout",
     "output_type": "stream",
     "text": [
      "tibble [9 × 7] (S3: tbl_df/tbl/data.frame)\n",
      " $ No           : num [1:9] 1 2 3 4 5 6 7 8 9\n",
      " $ Nama Depan   : chr [1:9] \"Fernando\" \"Sandy\" \"Mara\" \"Philip\" ...\n",
      " $ Nama Belakang: chr [1:9] \"Sanchez\" \"Herho\" \"Hashimoto\" \"Gent\" ...\n",
      " $ Jenis Kelamin: chr [1:9] \"Pria\" \"Pria\" \"Wanita\" \"Pria\" ...\n",
      " $ Negara       : chr [1:9] \"Meksiko\" \"Indonesia\" \"Jepang\" \"Belgia\" ...\n",
      " $ Usia         : num [1:9] 28 27 25 32 42 40 65 24 34\n",
      " $ ID           : num [1:9] 1562 1582 2587 2468 6548 ...\n"
     ]
    }
   ],
   "source": [
    "str(df)"
   ]
  },
  {
   "cell_type": "code",
   "execution_count": 253,
   "metadata": {},
   "outputs": [
    {
     "data": {
      "text/html": [
       "35.2222222222222"
      ],
      "text/latex": [
       "35.2222222222222"
      ],
      "text/markdown": [
       "35.2222222222222"
      ],
      "text/plain": [
       "[1] 35.22222"
      ]
     },
     "metadata": {},
     "output_type": "display_data"
    }
   ],
   "source": [
    "mean(df$Usia)"
   ]
  },
  {
   "cell_type": "code",
   "execution_count": 254,
   "metadata": {},
   "outputs": [
    {
     "data": {
      "text/html": [
       "<table>\n",
       "<thead><tr><th scope=col>Bilangan</th><th scope=col>Kuadrat</th></tr></thead>\n",
       "<tbody>\n",
       "\t<tr><td>1 </td><td> 1</td></tr>\n",
       "\t<tr><td>2 </td><td> 4</td></tr>\n",
       "\t<tr><td>3 </td><td> 9</td></tr>\n",
       "\t<tr><td>4 </td><td>16</td></tr>\n",
       "\t<tr><td>5 </td><td>25</td></tr>\n",
       "</tbody>\n",
       "</table>\n"
      ],
      "text/latex": [
       "\\begin{tabular}{r|ll}\n",
       " Bilangan & Kuadrat\\\\\n",
       "\\hline\n",
       "\t 1  &  1\\\\\n",
       "\t 2  &  4\\\\\n",
       "\t 3  &  9\\\\\n",
       "\t 4  & 16\\\\\n",
       "\t 5  & 25\\\\\n",
       "\\end{tabular}\n"
      ],
      "text/markdown": [
       "\n",
       "| Bilangan | Kuadrat |\n",
       "|---|---|\n",
       "| 1  |  1 |\n",
       "| 2  |  4 |\n",
       "| 3  |  9 |\n",
       "| 4  | 16 |\n",
       "| 5  | 25 |\n",
       "\n"
      ],
      "text/plain": [
       "  Bilangan Kuadrat\n",
       "1 1         1     \n",
       "2 2         4     \n",
       "3 3         9     \n",
       "4 4        16     \n",
       "5 5        25     "
      ]
     },
     "metadata": {},
     "output_type": "display_data"
    }
   ],
   "source": [
    "df1 <- read_excel(\"./data/contoh.xlsx\", sheet='Sheet2')\n",
    "df1"
   ]
  },
  {
   "cell_type": "code",
   "execution_count": 255,
   "metadata": {},
   "outputs": [
    {
     "name": "stderr",
     "output_type": "stream",
     "text": [
      "Updating HTML index of packages in '.Library'\n",
      "Making 'packages.html' ... done\n"
     ]
    }
   ],
   "source": [
    "# menulis file excel\n",
    "install.packages('writexl')\n",
    "library(writexl)"
   ]
  },
  {
   "cell_type": "code",
   "execution_count": 256,
   "metadata": {},
   "outputs": [
    {
     "data": {
      "text/html": [
       "<table>\n",
       "<thead><tr><th scope=col>c1</th><th scope=col>c2</th></tr></thead>\n",
       "<tbody>\n",
       "\t<tr><td>1 </td><td> 6</td></tr>\n",
       "\t<tr><td>2 </td><td> 7</td></tr>\n",
       "\t<tr><td>3 </td><td> 8</td></tr>\n",
       "\t<tr><td>4 </td><td> 9</td></tr>\n",
       "\t<tr><td>5 </td><td>10</td></tr>\n",
       "</tbody>\n",
       "</table>\n"
      ],
      "text/latex": [
       "\\begin{tabular}{r|ll}\n",
       " c1 & c2\\\\\n",
       "\\hline\n",
       "\t 1  &  6\\\\\n",
       "\t 2  &  7\\\\\n",
       "\t 3  &  8\\\\\n",
       "\t 4  &  9\\\\\n",
       "\t 5  & 10\\\\\n",
       "\\end{tabular}\n"
      ],
      "text/markdown": [
       "\n",
       "| c1 | c2 |\n",
       "|---|---|\n",
       "| 1  |  6 |\n",
       "| 2  |  7 |\n",
       "| 3  |  8 |\n",
       "| 4  |  9 |\n",
       "| 5  | 10 |\n",
       "\n"
      ],
      "text/plain": [
       "  c1 c2\n",
       "1 1   6\n",
       "2 2   7\n",
       "3 3   8\n",
       "4 4   9\n",
       "5 5  10"
      ]
     },
     "metadata": {},
     "output_type": "display_data"
    }
   ],
   "source": [
    "c1 <- c(1:5)\n",
    "c2 <- 6:10\n",
    "df2 <- data.frame(c1,c2)\n",
    "df2"
   ]
  },
  {
   "cell_type": "code",
   "execution_count": 257,
   "metadata": {},
   "outputs": [],
   "source": [
    "write_xlsx(df2, \"./data/tes.xlsx\")"
   ]
  },
  {
   "cell_type": "markdown",
   "metadata": {},
   "source": [
    "# Konsep - konsep inti pemrograman"
   ]
  },
  {
   "cell_type": "markdown",
   "metadata": {},
   "source": [
    "## Operator - operator logika"
   ]
  },
  {
   "cell_type": "markdown",
   "metadata": {},
   "source": [
    "### `&` (AND)"
   ]
  },
  {
   "cell_type": "code",
   "execution_count": 258,
   "metadata": {},
   "outputs": [
    {
     "data": {
      "text/html": [
       "15"
      ],
      "text/latex": [
       "15"
      ],
      "text/markdown": [
       "15"
      ],
      "text/plain": [
       "[1] 15"
      ]
     },
     "metadata": {},
     "output_type": "display_data"
    }
   ],
   "source": [
    "b <- 15\n",
    "b"
   ]
  },
  {
   "cell_type": "code",
   "execution_count": 259,
   "metadata": {},
   "outputs": [
    {
     "data": {
      "text/html": [
       "TRUE"
      ],
      "text/latex": [
       "TRUE"
      ],
      "text/markdown": [
       "TRUE"
      ],
      "text/plain": [
       "[1] TRUE"
      ]
     },
     "metadata": {},
     "output_type": "display_data"
    }
   ],
   "source": [
    "b < 20"
   ]
  },
  {
   "cell_type": "code",
   "execution_count": 260,
   "metadata": {},
   "outputs": [
    {
     "data": {
      "text/html": [
       "TRUE"
      ],
      "text/latex": [
       "TRUE"
      ],
      "text/markdown": [
       "TRUE"
      ],
      "text/plain": [
       "[1] TRUE"
      ]
     },
     "metadata": {},
     "output_type": "display_data"
    }
   ],
   "source": [
    "b > 10"
   ]
  },
  {
   "cell_type": "code",
   "execution_count": 261,
   "metadata": {},
   "outputs": [
    {
     "data": {
      "text/html": [
       "TRUE"
      ],
      "text/latex": [
       "TRUE"
      ],
      "text/markdown": [
       "TRUE"
      ],
      "text/plain": [
       "[1] TRUE"
      ]
     },
     "metadata": {},
     "output_type": "display_data"
    }
   ],
   "source": [
    "b > 10 & b < 20 # TRUE & TRUE = TRUE"
   ]
  },
  {
   "cell_type": "code",
   "execution_count": 262,
   "metadata": {},
   "outputs": [
    {
     "data": {
      "text/html": [
       "FALSE"
      ],
      "text/latex": [
       "FALSE"
      ],
      "text/markdown": [
       "FALSE"
      ],
      "text/plain": [
       "[1] FALSE"
      ]
     },
     "metadata": {},
     "output_type": "display_data"
    }
   ],
   "source": [
    "b > 30 & b < 20 # FALSE & TRUE = FALSE"
   ]
  },
  {
   "cell_type": "code",
   "execution_count": 263,
   "metadata": {},
   "outputs": [
    {
     "data": {
      "text/html": [
       "TRUE"
      ],
      "text/latex": [
       "TRUE"
      ],
      "text/markdown": [
       "TRUE"
      ],
      "text/plain": [
       "[1] TRUE"
      ]
     },
     "metadata": {},
     "output_type": "display_data"
    }
   ],
   "source": [
    "(b > 5) & (b < 25) & (b == 15) # TRUE & TRUE & TRUE = TRUE"
   ]
  },
  {
   "cell_type": "code",
   "execution_count": 264,
   "metadata": {},
   "outputs": [
    {
     "data": {
      "text/html": [
       "FALSE"
      ],
      "text/latex": [
       "FALSE"
      ],
      "text/markdown": [
       "FALSE"
      ],
      "text/plain": [
       "[1] FALSE"
      ]
     },
     "metadata": {},
     "output_type": "display_data"
    }
   ],
   "source": [
    "(b < 5) & (b < 25) & (b == 15) # FALSE & TRUE & TRUE = FALSE"
   ]
  },
  {
   "cell_type": "markdown",
   "metadata": {},
   "source": [
    "### `|` (OR)"
   ]
  },
  {
   "cell_type": "code",
   "execution_count": 265,
   "metadata": {},
   "outputs": [
    {
     "data": {
      "text/html": [
       "TRUE"
      ],
      "text/latex": [
       "TRUE"
      ],
      "text/markdown": [
       "TRUE"
      ],
      "text/plain": [
       "[1] TRUE"
      ]
     },
     "metadata": {},
     "output_type": "display_data"
    }
   ],
   "source": [
    "(b==10) | (b < 25) # FALSE | TRUE = TRUE"
   ]
  },
  {
   "cell_type": "code",
   "execution_count": 266,
   "metadata": {},
   "outputs": [
    {
     "data": {
      "text/html": [
       "TRUE"
      ],
      "text/latex": [
       "TRUE"
      ],
      "text/markdown": [
       "TRUE"
      ],
      "text/plain": [
       "[1] TRUE"
      ]
     },
     "metadata": {},
     "output_type": "display_data"
    }
   ],
   "source": [
    "(b > 10) | (b < 10)"
   ]
  },
  {
   "cell_type": "code",
   "execution_count": 267,
   "metadata": {},
   "outputs": [
    {
     "data": {
      "text/html": [
       "TRUE"
      ],
      "text/latex": [
       "TRUE"
      ],
      "text/markdown": [
       "TRUE"
      ],
      "text/plain": [
       "[1] TRUE"
      ]
     },
     "metadata": {},
     "output_type": "display_data"
    }
   ],
   "source": [
    "(b > 10) | (b < 10) | (b == 12)"
   ]
  },
  {
   "cell_type": "code",
   "execution_count": 268,
   "metadata": {},
   "outputs": [
    {
     "data": {
      "text/html": [
       "TRUE"
      ],
      "text/latex": [
       "TRUE"
      ],
      "text/markdown": [
       "TRUE"
      ],
      "text/plain": [
       "[1] TRUE"
      ]
     },
     "metadata": {},
     "output_type": "display_data"
    }
   ],
   "source": [
    "TRUE | FALSE"
   ]
  },
  {
   "cell_type": "code",
   "execution_count": 269,
   "metadata": {},
   "outputs": [
    {
     "data": {
      "text/html": [
       "FALSE"
      ],
      "text/latex": [
       "FALSE"
      ],
      "text/markdown": [
       "FALSE"
      ],
      "text/plain": [
       "[1] FALSE"
      ]
     },
     "metadata": {},
     "output_type": "display_data"
    }
   ],
   "source": [
    "FALSE | FALSE"
   ]
  },
  {
   "cell_type": "markdown",
   "metadata": {},
   "source": [
    "### `!` (NOT)"
   ]
  },
  {
   "cell_type": "code",
   "execution_count": 270,
   "metadata": {},
   "outputs": [
    {
     "data": {
      "text/html": [
       "TRUE"
      ],
      "text/latex": [
       "TRUE"
      ],
      "text/markdown": [
       "TRUE"
      ],
      "text/plain": [
       "[1] TRUE"
      ]
     },
     "metadata": {},
     "output_type": "display_data"
    }
   ],
   "source": [
    "(b == 10) | (b < 25)"
   ]
  },
  {
   "cell_type": "code",
   "execution_count": 271,
   "metadata": {},
   "outputs": [
    {
     "data": {
      "text/html": [
       "FALSE"
      ],
      "text/latex": [
       "FALSE"
      ],
      "text/markdown": [
       "FALSE"
      ],
      "text/plain": [
       "[1] FALSE"
      ]
     },
     "metadata": {},
     "output_type": "display_data"
    }
   ],
   "source": [
    "!((b == 10) | (b < 25))"
   ]
  },
  {
   "cell_type": "code",
   "execution_count": 272,
   "metadata": {},
   "outputs": [
    {
     "data": {
      "text/html": [
       "FALSE"
      ],
      "text/latex": [
       "FALSE"
      ],
      "text/markdown": [
       "FALSE"
      ],
      "text/plain": [
       "[1] FALSE"
      ]
     },
     "metadata": {},
     "output_type": "display_data"
    }
   ],
   "source": [
    "!T"
   ]
  },
  {
   "cell_type": "code",
   "execution_count": 273,
   "metadata": {},
   "outputs": [
    {
     "data": {
      "text/html": [
       "FALSE"
      ],
      "text/latex": [
       "FALSE"
      ],
      "text/markdown": [
       "FALSE"
      ],
      "text/plain": [
       "[1] FALSE"
      ]
     },
     "metadata": {},
     "output_type": "display_data"
    }
   ],
   "source": [
    "!(b > 10)"
   ]
  },
  {
   "cell_type": "markdown",
   "metadata": {},
   "source": [
    "### Penerapan operator - operator logika pada data frame"
   ]
  },
  {
   "cell_type": "code",
   "execution_count": 274,
   "metadata": {},
   "outputs": [],
   "source": [
    "# Kita juga dapat menggunakan operator - operator logika pada data frame\n",
    "df <- mtcars"
   ]
  },
  {
   "cell_type": "code",
   "execution_count": 275,
   "metadata": {},
   "outputs": [
    {
     "data": {
      "text/html": [
       "<table>\n",
       "<thead><tr><th></th><th scope=col>mpg</th><th scope=col>cyl</th><th scope=col>disp</th><th scope=col>hp</th><th scope=col>drat</th><th scope=col>wt</th><th scope=col>qsec</th><th scope=col>vs</th><th scope=col>am</th><th scope=col>gear</th><th scope=col>carb</th></tr></thead>\n",
       "<tbody>\n",
       "\t<tr><th scope=row>Mazda RX4</th><td>21.0 </td><td>6    </td><td>160  </td><td>110  </td><td>3.90 </td><td>2.620</td><td>16.46</td><td>0    </td><td>1    </td><td>4    </td><td>4    </td></tr>\n",
       "\t<tr><th scope=row>Mazda RX4 Wag</th><td>21.0 </td><td>6    </td><td>160  </td><td>110  </td><td>3.90 </td><td>2.875</td><td>17.02</td><td>0    </td><td>1    </td><td>4    </td><td>4    </td></tr>\n",
       "\t<tr><th scope=row>Datsun 710</th><td>22.8 </td><td>4    </td><td>108  </td><td> 93  </td><td>3.85 </td><td>2.320</td><td>18.61</td><td>1    </td><td>1    </td><td>4    </td><td>1    </td></tr>\n",
       "\t<tr><th scope=row>Hornet 4 Drive</th><td>21.4 </td><td>6    </td><td>258  </td><td>110  </td><td>3.08 </td><td>3.215</td><td>19.44</td><td>1    </td><td>0    </td><td>3    </td><td>1    </td></tr>\n",
       "\t<tr><th scope=row>Hornet Sportabout</th><td>18.7 </td><td>8    </td><td>360  </td><td>175  </td><td>3.15 </td><td>3.440</td><td>17.02</td><td>0    </td><td>0    </td><td>3    </td><td>2    </td></tr>\n",
       "\t<tr><th scope=row>Valiant</th><td>18.1 </td><td>6    </td><td>225  </td><td>105  </td><td>2.76 </td><td>3.460</td><td>20.22</td><td>1    </td><td>0    </td><td>3    </td><td>1    </td></tr>\n",
       "</tbody>\n",
       "</table>\n"
      ],
      "text/latex": [
       "\\begin{tabular}{r|lllllllllll}\n",
       "  & mpg & cyl & disp & hp & drat & wt & qsec & vs & am & gear & carb\\\\\n",
       "\\hline\n",
       "\tMazda RX4 & 21.0  & 6     & 160   & 110   & 3.90  & 2.620 & 16.46 & 0     & 1     & 4     & 4    \\\\\n",
       "\tMazda RX4 Wag & 21.0  & 6     & 160   & 110   & 3.90  & 2.875 & 17.02 & 0     & 1     & 4     & 4    \\\\\n",
       "\tDatsun 710 & 22.8  & 4     & 108   &  93   & 3.85  & 2.320 & 18.61 & 1     & 1     & 4     & 1    \\\\\n",
       "\tHornet 4 Drive & 21.4  & 6     & 258   & 110   & 3.08  & 3.215 & 19.44 & 1     & 0     & 3     & 1    \\\\\n",
       "\tHornet Sportabout & 18.7  & 8     & 360   & 175   & 3.15  & 3.440 & 17.02 & 0     & 0     & 3     & 2    \\\\\n",
       "\tValiant & 18.1  & 6     & 225   & 105   & 2.76  & 3.460 & 20.22 & 1     & 0     & 3     & 1    \\\\\n",
       "\\end{tabular}\n"
      ],
      "text/markdown": [
       "\n",
       "| <!--/--> | mpg | cyl | disp | hp | drat | wt | qsec | vs | am | gear | carb |\n",
       "|---|---|---|---|---|---|---|---|---|---|---|---|\n",
       "| Mazda RX4 | 21.0  | 6     | 160   | 110   | 3.90  | 2.620 | 16.46 | 0     | 1     | 4     | 4     |\n",
       "| Mazda RX4 Wag | 21.0  | 6     | 160   | 110   | 3.90  | 2.875 | 17.02 | 0     | 1     | 4     | 4     |\n",
       "| Datsun 710 | 22.8  | 4     | 108   |  93   | 3.85  | 2.320 | 18.61 | 1     | 1     | 4     | 1     |\n",
       "| Hornet 4 Drive | 21.4  | 6     | 258   | 110   | 3.08  | 3.215 | 19.44 | 1     | 0     | 3     | 1     |\n",
       "| Hornet Sportabout | 18.7  | 8     | 360   | 175   | 3.15  | 3.440 | 17.02 | 0     | 0     | 3     | 2     |\n",
       "| Valiant | 18.1  | 6     | 225   | 105   | 2.76  | 3.460 | 20.22 | 1     | 0     | 3     | 1     |\n",
       "\n"
      ],
      "text/plain": [
       "                  mpg  cyl disp hp  drat wt    qsec  vs am gear carb\n",
       "Mazda RX4         21.0 6   160  110 3.90 2.620 16.46 0  1  4    4   \n",
       "Mazda RX4 Wag     21.0 6   160  110 3.90 2.875 17.02 0  1  4    4   \n",
       "Datsun 710        22.8 4   108   93 3.85 2.320 18.61 1  1  4    1   \n",
       "Hornet 4 Drive    21.4 6   258  110 3.08 3.215 19.44 1  0  3    1   \n",
       "Hornet Sportabout 18.7 8   360  175 3.15 3.440 17.02 0  0  3    2   \n",
       "Valiant           18.1 6   225  105 2.76 3.460 20.22 1  0  3    1   "
      ]
     },
     "metadata": {},
     "output_type": "display_data"
    }
   ],
   "source": [
    "head(df)"
   ]
  },
  {
   "cell_type": "code",
   "execution_count": 276,
   "metadata": {},
   "outputs": [
    {
     "data": {
      "text/html": [
       "<ol class=list-inline>\n",
       "\t<li>21</li>\n",
       "\t<li>21</li>\n",
       "\t<li>22.8</li>\n",
       "\t<li>21.4</li>\n",
       "\t<li>24.4</li>\n",
       "\t<li>22.8</li>\n",
       "\t<li>32.4</li>\n",
       "\t<li>30.4</li>\n",
       "\t<li>33.9</li>\n",
       "\t<li>21.5</li>\n",
       "\t<li>27.3</li>\n",
       "\t<li>26</li>\n",
       "\t<li>30.4</li>\n",
       "\t<li>21.4</li>\n",
       "</ol>\n"
      ],
      "text/latex": [
       "\\begin{enumerate*}\n",
       "\\item 21\n",
       "\\item 21\n",
       "\\item 22.8\n",
       "\\item 21.4\n",
       "\\item 24.4\n",
       "\\item 22.8\n",
       "\\item 32.4\n",
       "\\item 30.4\n",
       "\\item 33.9\n",
       "\\item 21.5\n",
       "\\item 27.3\n",
       "\\item 26\n",
       "\\item 30.4\n",
       "\\item 21.4\n",
       "\\end{enumerate*}\n"
      ],
      "text/markdown": [
       "1. 21\n",
       "2. 21\n",
       "3. 22.8\n",
       "4. 21.4\n",
       "5. 24.4\n",
       "6. 22.8\n",
       "7. 32.4\n",
       "8. 30.4\n",
       "9. 33.9\n",
       "10. 21.5\n",
       "11. 27.3\n",
       "12. 26\n",
       "13. 30.4\n",
       "14. 21.4\n",
       "\n",
       "\n"
      ],
      "text/plain": [
       " [1] 21.0 21.0 22.8 21.4 24.4 22.8 32.4 30.4 33.9 21.5 27.3 26.0 30.4 21.4"
      ]
     },
     "metadata": {},
     "output_type": "display_data"
    }
   ],
   "source": [
    "df[df$mpg > 20,'mpg']"
   ]
  },
  {
   "cell_type": "code",
   "execution_count": 277,
   "metadata": {},
   "outputs": [
    {
     "data": {
      "text/html": [
       "<table>\n",
       "<thead><tr><th></th><th scope=col>mpg</th><th scope=col>cyl</th><th scope=col>disp</th><th scope=col>hp</th><th scope=col>drat</th><th scope=col>wt</th><th scope=col>qsec</th><th scope=col>vs</th><th scope=col>am</th><th scope=col>gear</th><th scope=col>carb</th></tr></thead>\n",
       "<tbody>\n",
       "\t<tr><th scope=row>Mazda RX4</th><td>21.0 </td><td>6    </td><td>160.0</td><td>110  </td><td>3.90 </td><td>2.620</td><td>16.46</td><td>0    </td><td>1    </td><td>4    </td><td>4    </td></tr>\n",
       "\t<tr><th scope=row>Mazda RX4 Wag</th><td>21.0 </td><td>6    </td><td>160.0</td><td>110  </td><td>3.90 </td><td>2.875</td><td>17.02</td><td>0    </td><td>1    </td><td>4    </td><td>4    </td></tr>\n",
       "\t<tr><th scope=row>Datsun 710</th><td>22.8 </td><td>4    </td><td>108.0</td><td> 93  </td><td>3.85 </td><td>2.320</td><td>18.61</td><td>1    </td><td>1    </td><td>4    </td><td>1    </td></tr>\n",
       "\t<tr><th scope=row>Hornet 4 Drive</th><td>21.4 </td><td>6    </td><td>258.0</td><td>110  </td><td>3.08 </td><td>3.215</td><td>19.44</td><td>1    </td><td>0    </td><td>3    </td><td>1    </td></tr>\n",
       "\t<tr><th scope=row>Merc 240D</th><td>24.4 </td><td>4    </td><td>146.7</td><td> 62  </td><td>3.69 </td><td>3.190</td><td>20.00</td><td>1    </td><td>0    </td><td>4    </td><td>2    </td></tr>\n",
       "\t<tr><th scope=row>Merc 230</th><td>22.8 </td><td>4    </td><td>140.8</td><td> 95  </td><td>3.92 </td><td>3.150</td><td>22.90</td><td>1    </td><td>0    </td><td>4    </td><td>2    </td></tr>\n",
       "\t<tr><th scope=row>Fiat 128</th><td>32.4 </td><td>4    </td><td> 78.7</td><td> 66  </td><td>4.08 </td><td>2.200</td><td>19.47</td><td>1    </td><td>1    </td><td>4    </td><td>1    </td></tr>\n",
       "\t<tr><th scope=row>Honda Civic</th><td>30.4 </td><td>4    </td><td> 75.7</td><td> 52  </td><td>4.93 </td><td>1.615</td><td>18.52</td><td>1    </td><td>1    </td><td>4    </td><td>2    </td></tr>\n",
       "\t<tr><th scope=row>Toyota Corolla</th><td>33.9 </td><td>4    </td><td> 71.1</td><td> 65  </td><td>4.22 </td><td>1.835</td><td>19.90</td><td>1    </td><td>1    </td><td>4    </td><td>1    </td></tr>\n",
       "\t<tr><th scope=row>Toyota Corona</th><td>21.5 </td><td>4    </td><td>120.1</td><td> 97  </td><td>3.70 </td><td>2.465</td><td>20.01</td><td>1    </td><td>0    </td><td>3    </td><td>1    </td></tr>\n",
       "\t<tr><th scope=row>Fiat X1-9</th><td>27.3 </td><td>4    </td><td> 79.0</td><td> 66  </td><td>4.08 </td><td>1.935</td><td>18.90</td><td>1    </td><td>1    </td><td>4    </td><td>1    </td></tr>\n",
       "\t<tr><th scope=row>Porsche 914-2</th><td>26.0 </td><td>4    </td><td>120.3</td><td> 91  </td><td>4.43 </td><td>2.140</td><td>16.70</td><td>0    </td><td>1    </td><td>5    </td><td>2    </td></tr>\n",
       "\t<tr><th scope=row>Lotus Europa</th><td>30.4 </td><td>4    </td><td> 95.1</td><td>113  </td><td>3.77 </td><td>1.513</td><td>16.90</td><td>1    </td><td>1    </td><td>5    </td><td>2    </td></tr>\n",
       "\t<tr><th scope=row>Volvo 142E</th><td>21.4 </td><td>4    </td><td>121.0</td><td>109  </td><td>4.11 </td><td>2.780</td><td>18.60</td><td>1    </td><td>1    </td><td>4    </td><td>2    </td></tr>\n",
       "</tbody>\n",
       "</table>\n"
      ],
      "text/latex": [
       "\\begin{tabular}{r|lllllllllll}\n",
       "  & mpg & cyl & disp & hp & drat & wt & qsec & vs & am & gear & carb\\\\\n",
       "\\hline\n",
       "\tMazda RX4 & 21.0  & 6     & 160.0 & 110   & 3.90  & 2.620 & 16.46 & 0     & 1     & 4     & 4    \\\\\n",
       "\tMazda RX4 Wag & 21.0  & 6     & 160.0 & 110   & 3.90  & 2.875 & 17.02 & 0     & 1     & 4     & 4    \\\\\n",
       "\tDatsun 710 & 22.8  & 4     & 108.0 &  93   & 3.85  & 2.320 & 18.61 & 1     & 1     & 4     & 1    \\\\\n",
       "\tHornet 4 Drive & 21.4  & 6     & 258.0 & 110   & 3.08  & 3.215 & 19.44 & 1     & 0     & 3     & 1    \\\\\n",
       "\tMerc 240D & 24.4  & 4     & 146.7 &  62   & 3.69  & 3.190 & 20.00 & 1     & 0     & 4     & 2    \\\\\n",
       "\tMerc 230 & 22.8  & 4     & 140.8 &  95   & 3.92  & 3.150 & 22.90 & 1     & 0     & 4     & 2    \\\\\n",
       "\tFiat 128 & 32.4  & 4     &  78.7 &  66   & 4.08  & 2.200 & 19.47 & 1     & 1     & 4     & 1    \\\\\n",
       "\tHonda Civic & 30.4  & 4     &  75.7 &  52   & 4.93  & 1.615 & 18.52 & 1     & 1     & 4     & 2    \\\\\n",
       "\tToyota Corolla & 33.9  & 4     &  71.1 &  65   & 4.22  & 1.835 & 19.90 & 1     & 1     & 4     & 1    \\\\\n",
       "\tToyota Corona & 21.5  & 4     & 120.1 &  97   & 3.70  & 2.465 & 20.01 & 1     & 0     & 3     & 1    \\\\\n",
       "\tFiat X1-9 & 27.3  & 4     &  79.0 &  66   & 4.08  & 1.935 & 18.90 & 1     & 1     & 4     & 1    \\\\\n",
       "\tPorsche 914-2 & 26.0  & 4     & 120.3 &  91   & 4.43  & 2.140 & 16.70 & 0     & 1     & 5     & 2    \\\\\n",
       "\tLotus Europa & 30.4  & 4     &  95.1 & 113   & 3.77  & 1.513 & 16.90 & 1     & 1     & 5     & 2    \\\\\n",
       "\tVolvo 142E & 21.4  & 4     & 121.0 & 109   & 4.11  & 2.780 & 18.60 & 1     & 1     & 4     & 2    \\\\\n",
       "\\end{tabular}\n"
      ],
      "text/markdown": [
       "\n",
       "| <!--/--> | mpg | cyl | disp | hp | drat | wt | qsec | vs | am | gear | carb |\n",
       "|---|---|---|---|---|---|---|---|---|---|---|---|\n",
       "| Mazda RX4 | 21.0  | 6     | 160.0 | 110   | 3.90  | 2.620 | 16.46 | 0     | 1     | 4     | 4     |\n",
       "| Mazda RX4 Wag | 21.0  | 6     | 160.0 | 110   | 3.90  | 2.875 | 17.02 | 0     | 1     | 4     | 4     |\n",
       "| Datsun 710 | 22.8  | 4     | 108.0 |  93   | 3.85  | 2.320 | 18.61 | 1     | 1     | 4     | 1     |\n",
       "| Hornet 4 Drive | 21.4  | 6     | 258.0 | 110   | 3.08  | 3.215 | 19.44 | 1     | 0     | 3     | 1     |\n",
       "| Merc 240D | 24.4  | 4     | 146.7 |  62   | 3.69  | 3.190 | 20.00 | 1     | 0     | 4     | 2     |\n",
       "| Merc 230 | 22.8  | 4     | 140.8 |  95   | 3.92  | 3.150 | 22.90 | 1     | 0     | 4     | 2     |\n",
       "| Fiat 128 | 32.4  | 4     |  78.7 |  66   | 4.08  | 2.200 | 19.47 | 1     | 1     | 4     | 1     |\n",
       "| Honda Civic | 30.4  | 4     |  75.7 |  52   | 4.93  | 1.615 | 18.52 | 1     | 1     | 4     | 2     |\n",
       "| Toyota Corolla | 33.9  | 4     |  71.1 |  65   | 4.22  | 1.835 | 19.90 | 1     | 1     | 4     | 1     |\n",
       "| Toyota Corona | 21.5  | 4     | 120.1 |  97   | 3.70  | 2.465 | 20.01 | 1     | 0     | 3     | 1     |\n",
       "| Fiat X1-9 | 27.3  | 4     |  79.0 |  66   | 4.08  | 1.935 | 18.90 | 1     | 1     | 4     | 1     |\n",
       "| Porsche 914-2 | 26.0  | 4     | 120.3 |  91   | 4.43  | 2.140 | 16.70 | 0     | 1     | 5     | 2     |\n",
       "| Lotus Europa | 30.4  | 4     |  95.1 | 113   | 3.77  | 1.513 | 16.90 | 1     | 1     | 5     | 2     |\n",
       "| Volvo 142E | 21.4  | 4     | 121.0 | 109   | 4.11  | 2.780 | 18.60 | 1     | 1     | 4     | 2     |\n",
       "\n"
      ],
      "text/plain": [
       "               mpg  cyl disp  hp  drat wt    qsec  vs am gear carb\n",
       "Mazda RX4      21.0 6   160.0 110 3.90 2.620 16.46 0  1  4    4   \n",
       "Mazda RX4 Wag  21.0 6   160.0 110 3.90 2.875 17.02 0  1  4    4   \n",
       "Datsun 710     22.8 4   108.0  93 3.85 2.320 18.61 1  1  4    1   \n",
       "Hornet 4 Drive 21.4 6   258.0 110 3.08 3.215 19.44 1  0  3    1   \n",
       "Merc 240D      24.4 4   146.7  62 3.69 3.190 20.00 1  0  4    2   \n",
       "Merc 230       22.8 4   140.8  95 3.92 3.150 22.90 1  0  4    2   \n",
       "Fiat 128       32.4 4    78.7  66 4.08 2.200 19.47 1  1  4    1   \n",
       "Honda Civic    30.4 4    75.7  52 4.93 1.615 18.52 1  1  4    2   \n",
       "Toyota Corolla 33.9 4    71.1  65 4.22 1.835 19.90 1  1  4    1   \n",
       "Toyota Corona  21.5 4   120.1  97 3.70 2.465 20.01 1  0  3    1   \n",
       "Fiat X1-9      27.3 4    79.0  66 4.08 1.935 18.90 1  1  4    1   \n",
       "Porsche 914-2  26.0 4   120.3  91 4.43 2.140 16.70 0  1  5    2   \n",
       "Lotus Europa   30.4 4    95.1 113 3.77 1.513 16.90 1  1  5    2   \n",
       "Volvo 142E     21.4 4   121.0 109 4.11 2.780 18.60 1  1  4    2   "
      ]
     },
     "metadata": {},
     "output_type": "display_data"
    }
   ],
   "source": [
    "subset(df, mpg > 20)"
   ]
  },
  {
   "cell_type": "code",
   "execution_count": 278,
   "metadata": {},
   "outputs": [
    {
     "data": {
      "text/html": [
       "<table>\n",
       "<thead><tr><th></th><th scope=col>mpg</th><th scope=col>cyl</th><th scope=col>disp</th><th scope=col>hp</th><th scope=col>drat</th><th scope=col>wt</th><th scope=col>qsec</th><th scope=col>vs</th><th scope=col>am</th><th scope=col>gear</th><th scope=col>carb</th></tr></thead>\n",
       "<tbody>\n",
       "\t<tr><th scope=row>Mazda RX4</th><td>21.0 </td><td>6    </td><td>160  </td><td>110  </td><td>3.90 </td><td>2.620</td><td>16.46</td><td>0    </td><td>1    </td><td>4    </td><td>4    </td></tr>\n",
       "\t<tr><th scope=row>Mazda RX4 Wag</th><td>21.0 </td><td>6    </td><td>160  </td><td>110  </td><td>3.90 </td><td>2.875</td><td>17.02</td><td>0    </td><td>1    </td><td>4    </td><td>4    </td></tr>\n",
       "\t<tr><th scope=row>Hornet 4 Drive</th><td>21.4 </td><td>6    </td><td>258  </td><td>110  </td><td>3.08 </td><td>3.215</td><td>19.44</td><td>1    </td><td>0    </td><td>3    </td><td>1    </td></tr>\n",
       "</tbody>\n",
       "</table>\n"
      ],
      "text/latex": [
       "\\begin{tabular}{r|lllllllllll}\n",
       "  & mpg & cyl & disp & hp & drat & wt & qsec & vs & am & gear & carb\\\\\n",
       "\\hline\n",
       "\tMazda RX4 & 21.0  & 6     & 160   & 110   & 3.90  & 2.620 & 16.46 & 0     & 1     & 4     & 4    \\\\\n",
       "\tMazda RX4 Wag & 21.0  & 6     & 160   & 110   & 3.90  & 2.875 & 17.02 & 0     & 1     & 4     & 4    \\\\\n",
       "\tHornet 4 Drive & 21.4  & 6     & 258   & 110   & 3.08  & 3.215 & 19.44 & 1     & 0     & 3     & 1    \\\\\n",
       "\\end{tabular}\n"
      ],
      "text/markdown": [
       "\n",
       "| <!--/--> | mpg | cyl | disp | hp | drat | wt | qsec | vs | am | gear | carb |\n",
       "|---|---|---|---|---|---|---|---|---|---|---|---|\n",
       "| Mazda RX4 | 21.0  | 6     | 160   | 110   | 3.90  | 2.620 | 16.46 | 0     | 1     | 4     | 4     |\n",
       "| Mazda RX4 Wag | 21.0  | 6     | 160   | 110   | 3.90  | 2.875 | 17.02 | 0     | 1     | 4     | 4     |\n",
       "| Hornet 4 Drive | 21.4  | 6     | 258   | 110   | 3.08  | 3.215 | 19.44 | 1     | 0     | 3     | 1     |\n",
       "\n"
      ],
      "text/plain": [
       "               mpg  cyl disp hp  drat wt    qsec  vs am gear carb\n",
       "Mazda RX4      21.0 6   160  110 3.90 2.620 16.46 0  1  4    4   \n",
       "Mazda RX4 Wag  21.0 6   160  110 3.90 2.875 17.02 0  1  4    4   \n",
       "Hornet 4 Drive 21.4 6   258  110 3.08 3.215 19.44 1  0  3    1   "
      ]
     },
     "metadata": {},
     "output_type": "display_data"
    }
   ],
   "source": [
    "df[(df$mpg > 20) & (df$cyl > 4),]"
   ]
  },
  {
   "cell_type": "code",
   "execution_count": 279,
   "metadata": {},
   "outputs": [
    {
     "data": {
      "text/html": [
       "<table>\n",
       "<thead><tr><th></th><th scope=col>mpg</th><th scope=col>cyl</th><th scope=col>disp</th><th scope=col>hp</th><th scope=col>drat</th><th scope=col>wt</th><th scope=col>qsec</th><th scope=col>vs</th><th scope=col>am</th><th scope=col>gear</th><th scope=col>carb</th></tr></thead>\n",
       "<tbody>\n",
       "\t<tr><th scope=row>Mazda RX4</th><td>21.0 </td><td>6    </td><td>160.0</td><td>110  </td><td>3.90 </td><td>2.620</td><td>16.46</td><td>0    </td><td>1    </td><td>4    </td><td>4    </td></tr>\n",
       "\t<tr><th scope=row>Mazda RX4 Wag</th><td>21.0 </td><td>6    </td><td>160.0</td><td>110  </td><td>3.90 </td><td>2.875</td><td>17.02</td><td>0    </td><td>1    </td><td>4    </td><td>4    </td></tr>\n",
       "\t<tr><th scope=row>Datsun 710</th><td>22.8 </td><td>4    </td><td>108.0</td><td> 93  </td><td>3.85 </td><td>2.320</td><td>18.61</td><td>1    </td><td>1    </td><td>4    </td><td>1    </td></tr>\n",
       "\t<tr><th scope=row>Hornet 4 Drive</th><td>21.4 </td><td>6    </td><td>258.0</td><td>110  </td><td>3.08 </td><td>3.215</td><td>19.44</td><td>1    </td><td>0    </td><td>3    </td><td>1    </td></tr>\n",
       "\t<tr><th scope=row>Hornet Sportabout</th><td>18.7 </td><td>8    </td><td>360.0</td><td>175  </td><td>3.15 </td><td>3.440</td><td>17.02</td><td>0    </td><td>0    </td><td>3    </td><td>2    </td></tr>\n",
       "\t<tr><th scope=row>Valiant</th><td>18.1 </td><td>6    </td><td>225.0</td><td>105  </td><td>2.76 </td><td>3.460</td><td>20.22</td><td>1    </td><td>0    </td><td>3    </td><td>1    </td></tr>\n",
       "\t<tr><th scope=row>Duster 360</th><td>14.3 </td><td>8    </td><td>360.0</td><td>245  </td><td>3.21 </td><td>3.570</td><td>15.84</td><td>0    </td><td>0    </td><td>3    </td><td>4    </td></tr>\n",
       "\t<tr><th scope=row>Merc 240D</th><td>24.4 </td><td>4    </td><td>146.7</td><td> 62  </td><td>3.69 </td><td>3.190</td><td>20.00</td><td>1    </td><td>0    </td><td>4    </td><td>2    </td></tr>\n",
       "\t<tr><th scope=row>Merc 230</th><td>22.8 </td><td>4    </td><td>140.8</td><td> 95  </td><td>3.92 </td><td>3.150</td><td>22.90</td><td>1    </td><td>0    </td><td>4    </td><td>2    </td></tr>\n",
       "\t<tr><th scope=row>Merc 280</th><td>19.2 </td><td>6    </td><td>167.6</td><td>123  </td><td>3.92 </td><td>3.440</td><td>18.30</td><td>1    </td><td>0    </td><td>4    </td><td>4    </td></tr>\n",
       "\t<tr><th scope=row>Merc 280C</th><td>17.8 </td><td>6    </td><td>167.6</td><td>123  </td><td>3.92 </td><td>3.440</td><td>18.90</td><td>1    </td><td>0    </td><td>4    </td><td>4    </td></tr>\n",
       "\t<tr><th scope=row>Merc 450SE</th><td>16.4 </td><td>8    </td><td>275.8</td><td>180  </td><td>3.07 </td><td>4.070</td><td>17.40</td><td>0    </td><td>0    </td><td>3    </td><td>3    </td></tr>\n",
       "\t<tr><th scope=row>Merc 450SL</th><td>17.3 </td><td>8    </td><td>275.8</td><td>180  </td><td>3.07 </td><td>3.730</td><td>17.60</td><td>0    </td><td>0    </td><td>3    </td><td>3    </td></tr>\n",
       "\t<tr><th scope=row>Merc 450SLC</th><td>15.2 </td><td>8    </td><td>275.8</td><td>180  </td><td>3.07 </td><td>3.780</td><td>18.00</td><td>0    </td><td>0    </td><td>3    </td><td>3    </td></tr>\n",
       "\t<tr><th scope=row>Cadillac Fleetwood</th><td>10.4 </td><td>8    </td><td>472.0</td><td>205  </td><td>2.93 </td><td>5.250</td><td>17.98</td><td>0    </td><td>0    </td><td>3    </td><td>4    </td></tr>\n",
       "\t<tr><th scope=row>Lincoln Continental</th><td>10.4 </td><td>8    </td><td>460.0</td><td>215  </td><td>3.00 </td><td>5.424</td><td>17.82</td><td>0    </td><td>0    </td><td>3    </td><td>4    </td></tr>\n",
       "\t<tr><th scope=row>Chrysler Imperial</th><td>14.7 </td><td>8    </td><td>440.0</td><td>230  </td><td>3.23 </td><td>5.345</td><td>17.42</td><td>0    </td><td>0    </td><td>3    </td><td>4    </td></tr>\n",
       "\t<tr><th scope=row>Fiat 128</th><td>32.4 </td><td>4    </td><td> 78.7</td><td> 66  </td><td>4.08 </td><td>2.200</td><td>19.47</td><td>1    </td><td>1    </td><td>4    </td><td>1    </td></tr>\n",
       "\t<tr><th scope=row>Honda Civic</th><td>30.4 </td><td>4    </td><td> 75.7</td><td> 52  </td><td>4.93 </td><td>1.615</td><td>18.52</td><td>1    </td><td>1    </td><td>4    </td><td>2    </td></tr>\n",
       "\t<tr><th scope=row>Toyota Corolla</th><td>33.9 </td><td>4    </td><td> 71.1</td><td> 65  </td><td>4.22 </td><td>1.835</td><td>19.90</td><td>1    </td><td>1    </td><td>4    </td><td>1    </td></tr>\n",
       "\t<tr><th scope=row>Toyota Corona</th><td>21.5 </td><td>4    </td><td>120.1</td><td> 97  </td><td>3.70 </td><td>2.465</td><td>20.01</td><td>1    </td><td>0    </td><td>3    </td><td>1    </td></tr>\n",
       "\t<tr><th scope=row>Dodge Challenger</th><td>15.5 </td><td>8    </td><td>318.0</td><td>150  </td><td>2.76 </td><td>3.520</td><td>16.87</td><td>0    </td><td>0    </td><td>3    </td><td>2    </td></tr>\n",
       "\t<tr><th scope=row>AMC Javelin</th><td>15.2 </td><td>8    </td><td>304.0</td><td>150  </td><td>3.15 </td><td>3.435</td><td>17.30</td><td>0    </td><td>0    </td><td>3    </td><td>2    </td></tr>\n",
       "\t<tr><th scope=row>Camaro Z28</th><td>13.3 </td><td>8    </td><td>350.0</td><td>245  </td><td>3.73 </td><td>3.840</td><td>15.41</td><td>0    </td><td>0    </td><td>3    </td><td>4    </td></tr>\n",
       "\t<tr><th scope=row>Pontiac Firebird</th><td>19.2 </td><td>8    </td><td>400.0</td><td>175  </td><td>3.08 </td><td>3.845</td><td>17.05</td><td>0    </td><td>0    </td><td>3    </td><td>2    </td></tr>\n",
       "\t<tr><th scope=row>Fiat X1-9</th><td>27.3 </td><td>4    </td><td> 79.0</td><td> 66  </td><td>4.08 </td><td>1.935</td><td>18.90</td><td>1    </td><td>1    </td><td>4    </td><td>1    </td></tr>\n",
       "\t<tr><th scope=row>Porsche 914-2</th><td>26.0 </td><td>4    </td><td>120.3</td><td> 91  </td><td>4.43 </td><td>2.140</td><td>16.70</td><td>0    </td><td>1    </td><td>5    </td><td>2    </td></tr>\n",
       "\t<tr><th scope=row>Lotus Europa</th><td>30.4 </td><td>4    </td><td> 95.1</td><td>113  </td><td>3.77 </td><td>1.513</td><td>16.90</td><td>1    </td><td>1    </td><td>5    </td><td>2    </td></tr>\n",
       "\t<tr><th scope=row>Ford Pantera L</th><td>15.8 </td><td>8    </td><td>351.0</td><td>264  </td><td>4.22 </td><td>3.170</td><td>14.50</td><td>0    </td><td>1    </td><td>5    </td><td>4    </td></tr>\n",
       "\t<tr><th scope=row>Ferrari Dino</th><td>19.7 </td><td>6    </td><td>145.0</td><td>175  </td><td>3.62 </td><td>2.770</td><td>15.50</td><td>0    </td><td>1    </td><td>5    </td><td>6    </td></tr>\n",
       "\t<tr><th scope=row>Maserati Bora</th><td>15.0 </td><td>8    </td><td>301.0</td><td>335  </td><td>3.54 </td><td>3.570</td><td>14.60</td><td>0    </td><td>1    </td><td>5    </td><td>8    </td></tr>\n",
       "\t<tr><th scope=row>Volvo 142E</th><td>21.4 </td><td>4    </td><td>121.0</td><td>109  </td><td>4.11 </td><td>2.780</td><td>18.60</td><td>1    </td><td>1    </td><td>4    </td><td>2    </td></tr>\n",
       "</tbody>\n",
       "</table>\n"
      ],
      "text/latex": [
       "\\begin{tabular}{r|lllllllllll}\n",
       "  & mpg & cyl & disp & hp & drat & wt & qsec & vs & am & gear & carb\\\\\n",
       "\\hline\n",
       "\tMazda RX4 & 21.0  & 6     & 160.0 & 110   & 3.90  & 2.620 & 16.46 & 0     & 1     & 4     & 4    \\\\\n",
       "\tMazda RX4 Wag & 21.0  & 6     & 160.0 & 110   & 3.90  & 2.875 & 17.02 & 0     & 1     & 4     & 4    \\\\\n",
       "\tDatsun 710 & 22.8  & 4     & 108.0 &  93   & 3.85  & 2.320 & 18.61 & 1     & 1     & 4     & 1    \\\\\n",
       "\tHornet 4 Drive & 21.4  & 6     & 258.0 & 110   & 3.08  & 3.215 & 19.44 & 1     & 0     & 3     & 1    \\\\\n",
       "\tHornet Sportabout & 18.7  & 8     & 360.0 & 175   & 3.15  & 3.440 & 17.02 & 0     & 0     & 3     & 2    \\\\\n",
       "\tValiant & 18.1  & 6     & 225.0 & 105   & 2.76  & 3.460 & 20.22 & 1     & 0     & 3     & 1    \\\\\n",
       "\tDuster 360 & 14.3  & 8     & 360.0 & 245   & 3.21  & 3.570 & 15.84 & 0     & 0     & 3     & 4    \\\\\n",
       "\tMerc 240D & 24.4  & 4     & 146.7 &  62   & 3.69  & 3.190 & 20.00 & 1     & 0     & 4     & 2    \\\\\n",
       "\tMerc 230 & 22.8  & 4     & 140.8 &  95   & 3.92  & 3.150 & 22.90 & 1     & 0     & 4     & 2    \\\\\n",
       "\tMerc 280 & 19.2  & 6     & 167.6 & 123   & 3.92  & 3.440 & 18.30 & 1     & 0     & 4     & 4    \\\\\n",
       "\tMerc 280C & 17.8  & 6     & 167.6 & 123   & 3.92  & 3.440 & 18.90 & 1     & 0     & 4     & 4    \\\\\n",
       "\tMerc 450SE & 16.4  & 8     & 275.8 & 180   & 3.07  & 4.070 & 17.40 & 0     & 0     & 3     & 3    \\\\\n",
       "\tMerc 450SL & 17.3  & 8     & 275.8 & 180   & 3.07  & 3.730 & 17.60 & 0     & 0     & 3     & 3    \\\\\n",
       "\tMerc 450SLC & 15.2  & 8     & 275.8 & 180   & 3.07  & 3.780 & 18.00 & 0     & 0     & 3     & 3    \\\\\n",
       "\tCadillac Fleetwood & 10.4  & 8     & 472.0 & 205   & 2.93  & 5.250 & 17.98 & 0     & 0     & 3     & 4    \\\\\n",
       "\tLincoln Continental & 10.4  & 8     & 460.0 & 215   & 3.00  & 5.424 & 17.82 & 0     & 0     & 3     & 4    \\\\\n",
       "\tChrysler Imperial & 14.7  & 8     & 440.0 & 230   & 3.23  & 5.345 & 17.42 & 0     & 0     & 3     & 4    \\\\\n",
       "\tFiat 128 & 32.4  & 4     &  78.7 &  66   & 4.08  & 2.200 & 19.47 & 1     & 1     & 4     & 1    \\\\\n",
       "\tHonda Civic & 30.4  & 4     &  75.7 &  52   & 4.93  & 1.615 & 18.52 & 1     & 1     & 4     & 2    \\\\\n",
       "\tToyota Corolla & 33.9  & 4     &  71.1 &  65   & 4.22  & 1.835 & 19.90 & 1     & 1     & 4     & 1    \\\\\n",
       "\tToyota Corona & 21.5  & 4     & 120.1 &  97   & 3.70  & 2.465 & 20.01 & 1     & 0     & 3     & 1    \\\\\n",
       "\tDodge Challenger & 15.5  & 8     & 318.0 & 150   & 2.76  & 3.520 & 16.87 & 0     & 0     & 3     & 2    \\\\\n",
       "\tAMC Javelin & 15.2  & 8     & 304.0 & 150   & 3.15  & 3.435 & 17.30 & 0     & 0     & 3     & 2    \\\\\n",
       "\tCamaro Z28 & 13.3  & 8     & 350.0 & 245   & 3.73  & 3.840 & 15.41 & 0     & 0     & 3     & 4    \\\\\n",
       "\tPontiac Firebird & 19.2  & 8     & 400.0 & 175   & 3.08  & 3.845 & 17.05 & 0     & 0     & 3     & 2    \\\\\n",
       "\tFiat X1-9 & 27.3  & 4     &  79.0 &  66   & 4.08  & 1.935 & 18.90 & 1     & 1     & 4     & 1    \\\\\n",
       "\tPorsche 914-2 & 26.0  & 4     & 120.3 &  91   & 4.43  & 2.140 & 16.70 & 0     & 1     & 5     & 2    \\\\\n",
       "\tLotus Europa & 30.4  & 4     &  95.1 & 113   & 3.77  & 1.513 & 16.90 & 1     & 1     & 5     & 2    \\\\\n",
       "\tFord Pantera L & 15.8  & 8     & 351.0 & 264   & 4.22  & 3.170 & 14.50 & 0     & 1     & 5     & 4    \\\\\n",
       "\tFerrari Dino & 19.7  & 6     & 145.0 & 175   & 3.62  & 2.770 & 15.50 & 0     & 1     & 5     & 6    \\\\\n",
       "\tMaserati Bora & 15.0  & 8     & 301.0 & 335   & 3.54  & 3.570 & 14.60 & 0     & 1     & 5     & 8    \\\\\n",
       "\tVolvo 142E & 21.4  & 4     & 121.0 & 109   & 4.11  & 2.780 & 18.60 & 1     & 1     & 4     & 2    \\\\\n",
       "\\end{tabular}\n"
      ],
      "text/markdown": [
       "\n",
       "| <!--/--> | mpg | cyl | disp | hp | drat | wt | qsec | vs | am | gear | carb |\n",
       "|---|---|---|---|---|---|---|---|---|---|---|---|\n",
       "| Mazda RX4 | 21.0  | 6     | 160.0 | 110   | 3.90  | 2.620 | 16.46 | 0     | 1     | 4     | 4     |\n",
       "| Mazda RX4 Wag | 21.0  | 6     | 160.0 | 110   | 3.90  | 2.875 | 17.02 | 0     | 1     | 4     | 4     |\n",
       "| Datsun 710 | 22.8  | 4     | 108.0 |  93   | 3.85  | 2.320 | 18.61 | 1     | 1     | 4     | 1     |\n",
       "| Hornet 4 Drive | 21.4  | 6     | 258.0 | 110   | 3.08  | 3.215 | 19.44 | 1     | 0     | 3     | 1     |\n",
       "| Hornet Sportabout | 18.7  | 8     | 360.0 | 175   | 3.15  | 3.440 | 17.02 | 0     | 0     | 3     | 2     |\n",
       "| Valiant | 18.1  | 6     | 225.0 | 105   | 2.76  | 3.460 | 20.22 | 1     | 0     | 3     | 1     |\n",
       "| Duster 360 | 14.3  | 8     | 360.0 | 245   | 3.21  | 3.570 | 15.84 | 0     | 0     | 3     | 4     |\n",
       "| Merc 240D | 24.4  | 4     | 146.7 |  62   | 3.69  | 3.190 | 20.00 | 1     | 0     | 4     | 2     |\n",
       "| Merc 230 | 22.8  | 4     | 140.8 |  95   | 3.92  | 3.150 | 22.90 | 1     | 0     | 4     | 2     |\n",
       "| Merc 280 | 19.2  | 6     | 167.6 | 123   | 3.92  | 3.440 | 18.30 | 1     | 0     | 4     | 4     |\n",
       "| Merc 280C | 17.8  | 6     | 167.6 | 123   | 3.92  | 3.440 | 18.90 | 1     | 0     | 4     | 4     |\n",
       "| Merc 450SE | 16.4  | 8     | 275.8 | 180   | 3.07  | 4.070 | 17.40 | 0     | 0     | 3     | 3     |\n",
       "| Merc 450SL | 17.3  | 8     | 275.8 | 180   | 3.07  | 3.730 | 17.60 | 0     | 0     | 3     | 3     |\n",
       "| Merc 450SLC | 15.2  | 8     | 275.8 | 180   | 3.07  | 3.780 | 18.00 | 0     | 0     | 3     | 3     |\n",
       "| Cadillac Fleetwood | 10.4  | 8     | 472.0 | 205   | 2.93  | 5.250 | 17.98 | 0     | 0     | 3     | 4     |\n",
       "| Lincoln Continental | 10.4  | 8     | 460.0 | 215   | 3.00  | 5.424 | 17.82 | 0     | 0     | 3     | 4     |\n",
       "| Chrysler Imperial | 14.7  | 8     | 440.0 | 230   | 3.23  | 5.345 | 17.42 | 0     | 0     | 3     | 4     |\n",
       "| Fiat 128 | 32.4  | 4     |  78.7 |  66   | 4.08  | 2.200 | 19.47 | 1     | 1     | 4     | 1     |\n",
       "| Honda Civic | 30.4  | 4     |  75.7 |  52   | 4.93  | 1.615 | 18.52 | 1     | 1     | 4     | 2     |\n",
       "| Toyota Corolla | 33.9  | 4     |  71.1 |  65   | 4.22  | 1.835 | 19.90 | 1     | 1     | 4     | 1     |\n",
       "| Toyota Corona | 21.5  | 4     | 120.1 |  97   | 3.70  | 2.465 | 20.01 | 1     | 0     | 3     | 1     |\n",
       "| Dodge Challenger | 15.5  | 8     | 318.0 | 150   | 2.76  | 3.520 | 16.87 | 0     | 0     | 3     | 2     |\n",
       "| AMC Javelin | 15.2  | 8     | 304.0 | 150   | 3.15  | 3.435 | 17.30 | 0     | 0     | 3     | 2     |\n",
       "| Camaro Z28 | 13.3  | 8     | 350.0 | 245   | 3.73  | 3.840 | 15.41 | 0     | 0     | 3     | 4     |\n",
       "| Pontiac Firebird | 19.2  | 8     | 400.0 | 175   | 3.08  | 3.845 | 17.05 | 0     | 0     | 3     | 2     |\n",
       "| Fiat X1-9 | 27.3  | 4     |  79.0 |  66   | 4.08  | 1.935 | 18.90 | 1     | 1     | 4     | 1     |\n",
       "| Porsche 914-2 | 26.0  | 4     | 120.3 |  91   | 4.43  | 2.140 | 16.70 | 0     | 1     | 5     | 2     |\n",
       "| Lotus Europa | 30.4  | 4     |  95.1 | 113   | 3.77  | 1.513 | 16.90 | 1     | 1     | 5     | 2     |\n",
       "| Ford Pantera L | 15.8  | 8     | 351.0 | 264   | 4.22  | 3.170 | 14.50 | 0     | 1     | 5     | 4     |\n",
       "| Ferrari Dino | 19.7  | 6     | 145.0 | 175   | 3.62  | 2.770 | 15.50 | 0     | 1     | 5     | 6     |\n",
       "| Maserati Bora | 15.0  | 8     | 301.0 | 335   | 3.54  | 3.570 | 14.60 | 0     | 1     | 5     | 8     |\n",
       "| Volvo 142E | 21.4  | 4     | 121.0 | 109   | 4.11  | 2.780 | 18.60 | 1     | 1     | 4     | 2     |\n",
       "\n"
      ],
      "text/plain": [
       "                    mpg  cyl disp  hp  drat wt    qsec  vs am gear carb\n",
       "Mazda RX4           21.0 6   160.0 110 3.90 2.620 16.46 0  1  4    4   \n",
       "Mazda RX4 Wag       21.0 6   160.0 110 3.90 2.875 17.02 0  1  4    4   \n",
       "Datsun 710          22.8 4   108.0  93 3.85 2.320 18.61 1  1  4    1   \n",
       "Hornet 4 Drive      21.4 6   258.0 110 3.08 3.215 19.44 1  0  3    1   \n",
       "Hornet Sportabout   18.7 8   360.0 175 3.15 3.440 17.02 0  0  3    2   \n",
       "Valiant             18.1 6   225.0 105 2.76 3.460 20.22 1  0  3    1   \n",
       "Duster 360          14.3 8   360.0 245 3.21 3.570 15.84 0  0  3    4   \n",
       "Merc 240D           24.4 4   146.7  62 3.69 3.190 20.00 1  0  4    2   \n",
       "Merc 230            22.8 4   140.8  95 3.92 3.150 22.90 1  0  4    2   \n",
       "Merc 280            19.2 6   167.6 123 3.92 3.440 18.30 1  0  4    4   \n",
       "Merc 280C           17.8 6   167.6 123 3.92 3.440 18.90 1  0  4    4   \n",
       "Merc 450SE          16.4 8   275.8 180 3.07 4.070 17.40 0  0  3    3   \n",
       "Merc 450SL          17.3 8   275.8 180 3.07 3.730 17.60 0  0  3    3   \n",
       "Merc 450SLC         15.2 8   275.8 180 3.07 3.780 18.00 0  0  3    3   \n",
       "Cadillac Fleetwood  10.4 8   472.0 205 2.93 5.250 17.98 0  0  3    4   \n",
       "Lincoln Continental 10.4 8   460.0 215 3.00 5.424 17.82 0  0  3    4   \n",
       "Chrysler Imperial   14.7 8   440.0 230 3.23 5.345 17.42 0  0  3    4   \n",
       "Fiat 128            32.4 4    78.7  66 4.08 2.200 19.47 1  1  4    1   \n",
       "Honda Civic         30.4 4    75.7  52 4.93 1.615 18.52 1  1  4    2   \n",
       "Toyota Corolla      33.9 4    71.1  65 4.22 1.835 19.90 1  1  4    1   \n",
       "Toyota Corona       21.5 4   120.1  97 3.70 2.465 20.01 1  0  3    1   \n",
       "Dodge Challenger    15.5 8   318.0 150 2.76 3.520 16.87 0  0  3    2   \n",
       "AMC Javelin         15.2 8   304.0 150 3.15 3.435 17.30 0  0  3    2   \n",
       "Camaro Z28          13.3 8   350.0 245 3.73 3.840 15.41 0  0  3    4   \n",
       "Pontiac Firebird    19.2 8   400.0 175 3.08 3.845 17.05 0  0  3    2   \n",
       "Fiat X1-9           27.3 4    79.0  66 4.08 1.935 18.90 1  1  4    1   \n",
       "Porsche 914-2       26.0 4   120.3  91 4.43 2.140 16.70 0  1  5    2   \n",
       "Lotus Europa        30.4 4    95.1 113 3.77 1.513 16.90 1  1  5    2   \n",
       "Ford Pantera L      15.8 8   351.0 264 4.22 3.170 14.50 0  1  5    4   \n",
       "Ferrari Dino        19.7 6   145.0 175 3.62 2.770 15.50 0  1  5    6   \n",
       "Maserati Bora       15.0 8   301.0 335 3.54 3.570 14.60 0  1  5    8   \n",
       "Volvo 142E          21.4 4   121.0 109 4.11 2.780 18.60 1  1  4    2   "
      ]
     },
     "metadata": {},
     "output_type": "display_data"
    }
   ],
   "source": [
    "df[(df$mpg > 20) | (df$cyl > 4),]"
   ]
  },
  {
   "cell_type": "markdown",
   "metadata": {},
   "source": [
    "## Pernyataan `if`, `else`, dan `else if`"
   ]
  },
  {
   "cell_type": "code",
   "execution_count": 280,
   "metadata": {},
   "outputs": [
    {
     "name": "stdout",
     "output_type": "stream",
     "text": [
      "[1] \"Bener, Bro!\"\n"
     ]
    }
   ],
   "source": [
    "if (5 > 3){\n",
    "    print('Bener, Bro!')\n",
    "}"
   ]
  },
  {
   "cell_type": "code",
   "execution_count": 281,
   "metadata": {},
   "outputs": [],
   "source": [
    "if (5 < 3){\n",
    "    print('Bener, Bro!')\n",
    "}\n",
    "\n",
    "# tidak ada output karena kondisi FALSE"
   ]
  },
  {
   "cell_type": "code",
   "execution_count": 282,
   "metadata": {},
   "outputs": [
    {
     "name": "stdout",
     "output_type": "stream",
     "text": [
      "[1] \"Salah, Bro!\"\n"
     ]
    }
   ],
   "source": [
    "if (5 < 3){\n",
    "    print('Bener, Bro!')\n",
    "}else{\n",
    "    print('Salah, Bro!')\n",
    "}"
   ]
  },
  {
   "cell_type": "code",
   "execution_count": 283,
   "metadata": {},
   "outputs": [
    {
     "name": "stdout",
     "output_type": "stream",
     "text": [
      "[1] \"a lebih kecil dari b.\"\n"
     ]
    }
   ],
   "source": [
    "a <- 10\n",
    "b <- 20\n",
    "\n",
    "if (a > b){\n",
    "    print('a lebih besar dari b.')\n",
    "}else{\n",
    "    print('a lebih kecil dari b.')\n",
    "}"
   ]
  },
  {
   "cell_type": "code",
   "execution_count": 284,
   "metadata": {},
   "outputs": [
    {
     "name": "stdout",
     "output_type": "stream",
     "text": [
      "[1] \"Mantap!\"\n"
     ]
    }
   ],
   "source": [
    "minuman <- 'Coca Cola'\n",
    "\n",
    "if (minuman == 'Kopi'){\n",
    "    print('Ngopi, Bro!')\n",
    "}else if (minuman == 'Coca Cola'){\n",
    "    print('Mantap!')\n",
    "}else if (minuman == 'air putih'){\n",
    "    print('Bagus, Bro buat kesehatan.')\n",
    "}else{\n",
    "    print('Terserah mau minum apa, Bro yang penting halal.')\n",
    "}"
   ]
  },
  {
   "cell_type": "markdown",
   "metadata": {},
   "source": [
    "## Pengulangan `while`"
   ]
  },
  {
   "cell_type": "code",
   "execution_count": 285,
   "metadata": {},
   "outputs": [
    {
     "name": "stdout",
     "output_type": "stream",
     "text": [
      "[1] 0\n",
      "[1] 1\n",
      "[1] 2\n",
      "[1] 3\n",
      "[1] 4\n",
      "[1] 5\n",
      "[1] 6\n",
      "[1] 7\n",
      "[1] 8\n",
      "[1] 9\n"
     ]
    }
   ],
   "source": [
    "b <- 0\n",
    "while (b < 10){\n",
    "    print(b)\n",
    "    b = b + 1\n",
    "}"
   ]
  },
  {
   "cell_type": "code",
   "execution_count": 286,
   "metadata": {},
   "outputs": [
    {
     "name": "stdout",
     "output_type": "stream",
     "text": [
      "[1] \"b sama dengan 0\"\n",
      "[1] \"b sama dengan 1\"\n",
      "[1] \"b sama dengan 2\"\n",
      "[1] \"b sama dengan 3\"\n",
      "[1] \"b sama dengan 4\"\n",
      "[1] \"b sama dengan 5\"\n",
      "[1] \"b sama dengan 6\"\n",
      "[1] \"b sama dengan 7\"\n",
      "[1] \"b sama dengan 8\"\n",
      "[1] \"b sama dengan 9\"\n"
     ]
    }
   ],
   "source": [
    "b <- 0\n",
    "while (b < 10){\n",
    "    print(paste0('b sama dengan ',b))\n",
    "    b = b + 1\n",
    "}"
   ]
  },
  {
   "cell_type": "code",
   "execution_count": 287,
   "metadata": {},
   "outputs": [
    {
     "name": "stdout",
     "output_type": "stream",
     "text": [
      "[1] \"b sama dengan 0\"\n",
      "[1] \"b sama dengan 1\"\n",
      "[1] \"b sama dengan 2\"\n",
      "[1] \"b sama dengan 3\"\n",
      "[1] \"b sama dengan 4\"\n",
      "[1] \"b sama dengan 5\"\n",
      "[1] \"b sama dengan 6\"\n",
      "[1] \"b sama dengan 7\"\n",
      "[1] \"b sama dengan 8\"\n",
      "[1] \"b sama dengan 9\"\n",
      "[1] \"b sama dengan 10. Pengulangan selesai.\"\n"
     ]
    }
   ],
   "source": [
    "b <- 0\n",
    "while (b < 10){\n",
    "    print(paste0('b sama dengan ',b))\n",
    "    b = b + 1\n",
    "    if (b == 10){\n",
    "        print('b sama dengan 10. Pengulangan selesai.')\n",
    "    }\n",
    "}"
   ]
  },
  {
   "cell_type": "code",
   "execution_count": 288,
   "metadata": {},
   "outputs": [
    {
     "name": "stdout",
     "output_type": "stream",
     "text": [
      "[1] \"b sama dengan 0\"\n",
      "[1] \"b sama dengan 1\"\n",
      "[1] \"b sama dengan 2\"\n",
      "[1] \"b sama dengan 3\"\n",
      "[1] \"b sama dengan 4\"\n",
      "[1] \"b sama dengan 5\"\n",
      "[1] \"b sama dengan 6\"\n",
      "[1] \"b sama dengan 7\"\n",
      "[1] \"b sama dengan 8\"\n",
      "[1] \"b sama dengan 9\"\n",
      "[1] \"b sama dengan 10. Pengulangan selesai.\"\n",
      "[1] \"Yuk Belajar pemrograman R!\"\n"
     ]
    }
   ],
   "source": [
    "b <- 0\n",
    "while (b < 10){\n",
    "    print(paste0('b sama dengan ',b))\n",
    "    b = b + 1\n",
    "    if (b == 10){\n",
    "        print('b sama dengan 10. Pengulangan selesai.')\n",
    "        print('Yuk Belajar pemrograman R!')\n",
    "    }\n",
    "}"
   ]
  },
  {
   "cell_type": "code",
   "execution_count": 289,
   "metadata": {},
   "outputs": [
    {
     "name": "stdout",
     "output_type": "stream",
     "text": [
      "[1] \"b sama dengan 0\"\n",
      "[1] \"b sama dengan 1\"\n",
      "[1] \"b sama dengan 2\"\n",
      "[1] \"b sama dengan 3\"\n",
      "[1] \"b sama dengan 4\"\n",
      "[1] \"b sama dengan 5\"\n",
      "[1] \"b sama dengan 6\"\n",
      "[1] \"b sama dengan 7\"\n",
      "[1] \"b sama dengan 8\"\n",
      "[1] \"b sama dengan 9\"\n",
      "[1] \"b sama dengan 10. Pengulangan selesai.\"\n"
     ]
    }
   ],
   "source": [
    "# penggunaan break() untuk mengakhiri pengulangan\n",
    "b <- 0\n",
    "while (b < 10){\n",
    "    print(paste0('b sama dengan ',b))\n",
    "    b = b + 1\n",
    "    if (b == 10){\n",
    "        print('b sama dengan 10. Pengulangan selesai.')\n",
    "        break()\n",
    "        print('Yuk Belajar pemrograman R!')\n",
    "    }\n",
    "}"
   ]
  },
  {
   "cell_type": "code",
   "execution_count": 290,
   "metadata": {},
   "outputs": [
    {
     "name": "stdout",
     "output_type": "stream",
     "text": [
      "[1] \"b sama dengan 0\"\n",
      "[1] \"b sama dengan 1\"\n",
      "[1] \"b sama dengan 2\"\n",
      "[1] \"b sama dengan 3\"\n",
      "[1] \"b sama dengan 4\"\n",
      "[1] \"b sama dengan 5. Pengulangan selesai.\"\n"
     ]
    }
   ],
   "source": [
    "b <- 0\n",
    "while (b < 10){\n",
    "    print(paste0('b sama dengan ',b))\n",
    "    b = b + 1\n",
    "    if (b == 5){\n",
    "        print('b sama dengan 5. Pengulangan selesai.')\n",
    "        break()\n",
    "        print('Yuk Belajar pemrograman R!')\n",
    "    }\n",
    "}"
   ]
  },
  {
   "cell_type": "markdown",
   "metadata": {},
   "source": [
    "## Pengulangan `for`"
   ]
  },
  {
   "cell_type": "code",
   "execution_count": 291,
   "metadata": {},
   "outputs": [],
   "source": [
    "v <- c(1,2,3,4,5)"
   ]
  },
  {
   "cell_type": "code",
   "execution_count": 292,
   "metadata": {},
   "outputs": [
    {
     "data": {
      "text/html": [
       "<ol class=list-inline>\n",
       "\t<li>1</li>\n",
       "\t<li>2</li>\n",
       "\t<li>3</li>\n",
       "\t<li>4</li>\n",
       "\t<li>5</li>\n",
       "</ol>\n"
      ],
      "text/latex": [
       "\\begin{enumerate*}\n",
       "\\item 1\n",
       "\\item 2\n",
       "\\item 3\n",
       "\\item 4\n",
       "\\item 5\n",
       "\\end{enumerate*}\n"
      ],
      "text/markdown": [
       "1. 1\n",
       "2. 2\n",
       "3. 3\n",
       "4. 4\n",
       "5. 5\n",
       "\n",
       "\n"
      ],
      "text/plain": [
       "[1] 1 2 3 4 5"
      ]
     },
     "metadata": {},
     "output_type": "display_data"
    }
   ],
   "source": [
    "v"
   ]
  },
  {
   "cell_type": "code",
   "execution_count": 293,
   "metadata": {},
   "outputs": [
    {
     "name": "stdout",
     "output_type": "stream",
     "text": [
      "[1] 1\n",
      "[1] 2\n",
      "[1] 3\n",
      "[1] 4\n",
      "[1] 5\n"
     ]
    }
   ],
   "source": [
    "for (i in v){\n",
    "    print(i)\n",
    "}"
   ]
  },
  {
   "cell_type": "code",
   "execution_count": 294,
   "metadata": {},
   "outputs": [
    {
     "name": "stdout",
     "output_type": "stream",
     "text": [
      "[1] \"Halo\"\n",
      "[1] \"Halo\"\n",
      "[1] \"Halo\"\n",
      "[1] \"Halo\"\n",
      "[1] \"Halo\"\n"
     ]
    }
   ],
   "source": [
    "for (i in v){\n",
    "    print('Halo')\n",
    "}"
   ]
  },
  {
   "cell_type": "code",
   "execution_count": 295,
   "metadata": {},
   "outputs": [
    {
     "name": "stdout",
     "output_type": "stream",
     "text": [
      "[1] \"Apel\"\n",
      "[1] \"Jeruk\"\n",
      "[1] \"Pisang\"\n",
      "[1] \"Mangga\"\n"
     ]
    }
   ],
   "source": [
    "buah2an <- c('Apel', 'Jeruk', 'Pisang', 'Mangga')\n",
    "\n",
    "for (buah in buah2an){\n",
    "    print(buah)\n",
    "}"
   ]
  },
  {
   "cell_type": "code",
   "execution_count": 296,
   "metadata": {},
   "outputs": [
    {
     "data": {
      "text/html": [
       "<table>\n",
       "<thead><tr><th scope=col>c1</th><th scope=col>c2</th></tr></thead>\n",
       "<tbody>\n",
       "\t<tr><td>10</td><td>A </td></tr>\n",
       "\t<tr><td>20</td><td>B </td></tr>\n",
       "\t<tr><td>30</td><td>C </td></tr>\n",
       "\t<tr><td>40</td><td>D </td></tr>\n",
       "\t<tr><td>50</td><td>E </td></tr>\n",
       "</tbody>\n",
       "</table>\n"
      ],
      "text/latex": [
       "\\begin{tabular}{r|ll}\n",
       " c1 & c2\\\\\n",
       "\\hline\n",
       "\t 10 & A \\\\\n",
       "\t 20 & B \\\\\n",
       "\t 30 & C \\\\\n",
       "\t 40 & D \\\\\n",
       "\t 50 & E \\\\\n",
       "\\end{tabular}\n"
      ],
      "text/markdown": [
       "\n",
       "| c1 | c2 |\n",
       "|---|---|\n",
       "| 10 | A  |\n",
       "| 20 | B  |\n",
       "| 30 | C  |\n",
       "| 40 | D  |\n",
       "| 50 | E  |\n",
       "\n"
      ],
      "text/plain": [
       "  c1 c2\n",
       "1 10 A \n",
       "2 20 B \n",
       "3 30 C \n",
       "4 40 D \n",
       "5 50 E "
      ]
     },
     "metadata": {},
     "output_type": "display_data"
    }
   ],
   "source": [
    "# Pengulangan for pada list\n",
    "c1 <- c(10,20,30,40,50)\n",
    "c2 <- c('A', 'B', 'C', 'D', 'E')\n",
    "df <- data.frame(c1,c2)\n",
    "df"
   ]
  },
  {
   "cell_type": "code",
   "execution_count": 297,
   "metadata": {},
   "outputs": [
    {
     "data": {
      "text/html": [
       "<ol class=list-inline>\n",
       "\t<li>1</li>\n",
       "\t<li>2</li>\n",
       "\t<li>3</li>\n",
       "\t<li>4</li>\n",
       "\t<li>5</li>\n",
       "</ol>\n"
      ],
      "text/latex": [
       "\\begin{enumerate*}\n",
       "\\item 1\n",
       "\\item 2\n",
       "\\item 3\n",
       "\\item 4\n",
       "\\item 5\n",
       "\\end{enumerate*}\n"
      ],
      "text/markdown": [
       "1. 1\n",
       "2. 2\n",
       "3. 3\n",
       "4. 4\n",
       "5. 5\n",
       "\n",
       "\n"
      ],
      "text/plain": [
       "[1] 1 2 3 4 5"
      ]
     },
     "metadata": {},
     "output_type": "display_data"
    }
   ],
   "source": [
    "v"
   ]
  },
  {
   "cell_type": "code",
   "execution_count": 298,
   "metadata": {},
   "outputs": [
    {
     "data": {
      "text/html": [
       "<ol>\n",
       "\t<li><ol class=list-inline>\n",
       "\t<li>1</li>\n",
       "\t<li>2</li>\n",
       "\t<li>3</li>\n",
       "\t<li>4</li>\n",
       "\t<li>5</li>\n",
       "</ol>\n",
       "</li>\n",
       "\t<li><table>\n",
       "<thead><tr><th scope=col>c1</th><th scope=col>c2</th></tr></thead>\n",
       "<tbody>\n",
       "\t<tr><td>10</td><td>A </td></tr>\n",
       "\t<tr><td>20</td><td>B </td></tr>\n",
       "\t<tr><td>30</td><td>C </td></tr>\n",
       "\t<tr><td>40</td><td>D </td></tr>\n",
       "\t<tr><td>50</td><td>E </td></tr>\n",
       "</tbody>\n",
       "</table>\n",
       "</li>\n",
       "</ol>\n"
      ],
      "text/latex": [
       "\\begin{enumerate}\n",
       "\\item \\begin{enumerate*}\n",
       "\\item 1\n",
       "\\item 2\n",
       "\\item 3\n",
       "\\item 4\n",
       "\\item 5\n",
       "\\end{enumerate*}\n",
       "\n",
       "\\item \\begin{tabular}{r|ll}\n",
       " c1 & c2\\\\\n",
       "\\hline\n",
       "\t 10 & A \\\\\n",
       "\t 20 & B \\\\\n",
       "\t 30 & C \\\\\n",
       "\t 40 & D \\\\\n",
       "\t 50 & E \\\\\n",
       "\\end{tabular}\n",
       "\n",
       "\\end{enumerate}\n"
      ],
      "text/markdown": [
       "1. 1. 1\n",
       "2. 2\n",
       "3. 3\n",
       "4. 4\n",
       "5. 5\n",
       "\n",
       "\n",
       "\n",
       "2. \n",
       "| c1 | c2 |\n",
       "|---|---|\n",
       "| 10 | A  |\n",
       "| 20 | B  |\n",
       "| 30 | C  |\n",
       "| 40 | D  |\n",
       "| 50 | E  |\n",
       "\n",
       "\n",
       "\n",
       "\n"
      ],
      "text/plain": [
       "[[1]]\n",
       "[1] 1 2 3 4 5\n",
       "\n",
       "[[2]]\n",
       "  c1 c2\n",
       "1 10  A\n",
       "2 20  B\n",
       "3 30  C\n",
       "4 40  D\n",
       "5 50  E\n"
      ]
     },
     "metadata": {},
     "output_type": "display_data"
    }
   ],
   "source": [
    "l <- list(v,df)\n",
    "l"
   ]
  },
  {
   "cell_type": "code",
   "execution_count": 299,
   "metadata": {},
   "outputs": [
    {
     "name": "stdout",
     "output_type": "stream",
     "text": [
      "[1] 1 2 3 4 5\n",
      "  c1 c2\n",
      "1 10  A\n",
      "2 20  B\n",
      "3 30  C\n",
      "4 40  D\n",
      "5 50  E\n"
     ]
    }
   ],
   "source": [
    "for (i in l){\n",
    "    print(i)\n",
    "}"
   ]
  },
  {
   "cell_type": "code",
   "execution_count": 300,
   "metadata": {},
   "outputs": [
    {
     "data": {
      "text/html": [
       "<table>\n",
       "<tbody>\n",
       "\t<tr><td> 1</td><td> 2</td><td> 3</td><td> 4</td><td> 5</td></tr>\n",
       "\t<tr><td> 6</td><td> 7</td><td> 8</td><td> 9</td><td>10</td></tr>\n",
       "\t<tr><td>11</td><td>12</td><td>13</td><td>14</td><td>15</td></tr>\n",
       "\t<tr><td>16</td><td>17</td><td>18</td><td>19</td><td>20</td></tr>\n",
       "\t<tr><td>21</td><td>22</td><td>23</td><td>24</td><td>25</td></tr>\n",
       "</tbody>\n",
       "</table>\n"
      ],
      "text/latex": [
       "\\begin{tabular}{lllll}\n",
       "\t  1 &  2 &  3 &  4 &  5\\\\\n",
       "\t  6 &  7 &  8 &  9 & 10\\\\\n",
       "\t 11 & 12 & 13 & 14 & 15\\\\\n",
       "\t 16 & 17 & 18 & 19 & 20\\\\\n",
       "\t 21 & 22 & 23 & 24 & 25\\\\\n",
       "\\end{tabular}\n"
      ],
      "text/markdown": [
       "\n",
       "|  1 |  2 |  3 |  4 |  5 |\n",
       "|  6 |  7 |  8 |  9 | 10 |\n",
       "| 11 | 12 | 13 | 14 | 15 |\n",
       "| 16 | 17 | 18 | 19 | 20 |\n",
       "| 21 | 22 | 23 | 24 | 25 |\n",
       "\n"
      ],
      "text/plain": [
       "     [,1] [,2] [,3] [,4] [,5]\n",
       "[1,]  1    2    3    4    5  \n",
       "[2,]  6    7    8    9   10  \n",
       "[3,] 11   12   13   14   15  \n",
       "[4,] 16   17   18   19   20  \n",
       "[5,] 21   22   23   24   25  "
      ]
     },
     "metadata": {},
     "output_type": "display_data"
    }
   ],
   "source": [
    "# Pengunaan pengulangan for pada matriks\n",
    "mat <- matrix(1:25, nrow=5, byrow=T)\n",
    "mat"
   ]
  },
  {
   "cell_type": "code",
   "execution_count": 301,
   "metadata": {},
   "outputs": [
    {
     "name": "stdout",
     "output_type": "stream",
     "text": [
      "[1] 1\n",
      "[1] 6\n",
      "[1] 11\n",
      "[1] 16\n",
      "[1] 21\n",
      "[1] 2\n",
      "[1] 7\n",
      "[1] 12\n",
      "[1] 17\n",
      "[1] 22\n",
      "[1] 3\n",
      "[1] 8\n",
      "[1] 13\n",
      "[1] 18\n",
      "[1] 23\n",
      "[1] 4\n",
      "[1] 9\n",
      "[1] 14\n",
      "[1] 19\n",
      "[1] 24\n",
      "[1] 5\n",
      "[1] 10\n",
      "[1] 15\n",
      "[1] 20\n",
      "[1] 25\n"
     ]
    }
   ],
   "source": [
    "for (num in mat){\n",
    "    print(num)\n",
    "}"
   ]
  },
  {
   "cell_type": "code",
   "execution_count": 302,
   "metadata": {},
   "outputs": [
    {
     "name": "stdout",
     "output_type": "stream",
     "text": [
      "[1] 1\n",
      "[1] 4\n",
      "[1] 9\n",
      "[1] 16\n",
      "[1] 25\n"
     ]
    }
   ],
   "source": [
    "# Pengulangan for bersarang\n",
    "for (i in 1:5){\n",
    "    print(i^2)\n",
    "}"
   ]
  },
  {
   "cell_type": "code",
   "execution_count": 303,
   "metadata": {},
   "outputs": [
    {
     "name": "stdout",
     "output_type": "stream",
     "text": [
      "[1] 1\n",
      "[1] 2\n",
      "[1] 2\n",
      "[1] 4\n",
      "[1] 3\n",
      "[1] 6\n",
      "[1] 4\n",
      "[1] 8\n",
      "[1] 5\n",
      "[1] 10\n"
     ]
    }
   ],
   "source": [
    "for (i in 1:5){\n",
    "    for (j in 1:2){\n",
    "        print(i*j)\n",
    "    }\n",
    "}"
   ]
  },
  {
   "cell_type": "markdown",
   "metadata": {},
   "source": [
    "\n",
    "Proses kerjanya:\n",
    "1. $1 \\times 1$\n",
    "2. $1 \\times 2$\n",
    "3. $2 \\times 1$\n",
    "4. $2 \\times 2$\n",
    "5. $3 \\times 1$\n",
    "6. $3 \\times 2$, dst..."
   ]
  },
  {
   "cell_type": "markdown",
   "metadata": {},
   "source": [
    "## Fungsi"
   ]
  },
  {
   "cell_type": "code",
   "execution_count": 304,
   "metadata": {},
   "outputs": [],
   "source": [
    "# sintaks\n",
    "nama_fungsi <- function(arg_1,arg_2, arg_3 = 10){\n",
    "    # Kode yang hendak dieksekusi\n",
    "    hasil <- arg_1 + arg_2\n",
    "    return(hasil)\n",
    "}"
   ]
  },
  {
   "cell_type": "code",
   "execution_count": 305,
   "metadata": {},
   "outputs": [],
   "source": [
    "salam <- function(){\n",
    "    print('Halo!')\n",
    "}"
   ]
  },
  {
   "cell_type": "code",
   "execution_count": 306,
   "metadata": {},
   "outputs": [
    {
     "name": "stdout",
     "output_type": "stream",
     "text": [
      "[1] \"Halo!\"\n"
     ]
    }
   ],
   "source": [
    "salam()"
   ]
  },
  {
   "cell_type": "code",
   "execution_count": 307,
   "metadata": {},
   "outputs": [],
   "source": [
    "salam <- function(nama){\n",
    "    print(paste('Halo', nama, '!'))\n",
    "}"
   ]
  },
  {
   "cell_type": "code",
   "execution_count": 308,
   "metadata": {},
   "outputs": [
    {
     "name": "stdout",
     "output_type": "stream",
     "text": [
      "[1] \"Halo Sandy !\"\n"
     ]
    }
   ],
   "source": [
    "salam('Sandy')"
   ]
  },
  {
   "cell_type": "code",
   "execution_count": 309,
   "metadata": {},
   "outputs": [
    {
     "ename": "ERROR",
     "evalue": "Error in paste(\"Halo\", nama, \"!\"): argument \"nama\" is missing, with no default\n",
     "output_type": "error",
     "traceback": [
      "Error in paste(\"Halo\", nama, \"!\"): argument \"nama\" is missing, with no default\nTraceback:\n",
      "1. salam()",
      "2. print(paste(\"Halo\", nama, \"!\"))   # at line 2 of file <text>",
      "3. paste(\"Halo\", nama, \"!\")   # at line 2 of file <text>"
     ]
    }
   ],
   "source": [
    "salam() # error karena tidak ada nama default"
   ]
  },
  {
   "cell_type": "code",
   "execution_count": 310,
   "metadata": {},
   "outputs": [],
   "source": [
    "salam <- function(nama = 'Priska'){\n",
    "    print(paste('Halo', nama, '!'))\n",
    "}"
   ]
  },
  {
   "cell_type": "code",
   "execution_count": 311,
   "metadata": {},
   "outputs": [
    {
     "name": "stdout",
     "output_type": "stream",
     "text": [
      "[1] \"Halo Priska !\"\n"
     ]
    }
   ],
   "source": [
    "salam()"
   ]
  },
  {
   "cell_type": "code",
   "execution_count": 312,
   "metadata": {},
   "outputs": [
    {
     "name": "stdout",
     "output_type": "stream",
     "text": [
      "[1] \"Halo Sandy !\"\n"
     ]
    }
   ],
   "source": [
    "salam('Sandy')"
   ]
  },
  {
   "cell_type": "code",
   "execution_count": 313,
   "metadata": {},
   "outputs": [],
   "source": [
    "penjumlahan <- function(b1,b2){\n",
    "    print(b1 + b2)\n",
    "}"
   ]
  },
  {
   "cell_type": "code",
   "execution_count": 314,
   "metadata": {},
   "outputs": [
    {
     "name": "stdout",
     "output_type": "stream",
     "text": [
      "[1] 30\n"
     ]
    }
   ],
   "source": [
    "penjumlahan(10,20)"
   ]
  },
  {
   "cell_type": "code",
   "execution_count": 315,
   "metadata": {},
   "outputs": [],
   "source": [
    "# Harusnya pakai return \n",
    "penjumlahan <- function(b1,b2){\n",
    "    return(b1 + b2)\n",
    "}"
   ]
  },
  {
   "cell_type": "code",
   "execution_count": 316,
   "metadata": {},
   "outputs": [
    {
     "data": {
      "text/html": [
       "30"
      ],
      "text/latex": [
       "30"
      ],
      "text/markdown": [
       "30"
      ],
      "text/plain": [
       "[1] 30"
      ]
     },
     "metadata": {},
     "output_type": "display_data"
    }
   ],
   "source": [
    "x <- penjumlahan(10,20) # dapat disimpan di variabel\n",
    "x"
   ]
  },
  {
   "cell_type": "code",
   "execution_count": 317,
   "metadata": {},
   "outputs": [],
   "source": [
    "# Jangkauan variabel\n",
    "kuadrat <- function(x){\n",
    "    hasil <- x^2\n",
    "    return(hasil)\n",
    "}"
   ]
  },
  {
   "cell_type": "code",
   "execution_count": 318,
   "metadata": {},
   "outputs": [
    {
     "data": {
      "text/html": [
       "25"
      ],
      "text/latex": [
       "25"
      ],
      "text/markdown": [
       "25"
      ],
      "text/plain": [
       "[1] 25"
      ]
     },
     "metadata": {},
     "output_type": "display_data"
    }
   ],
   "source": [
    "out <- kuadrat(5)\n",
    "out"
   ]
  },
  {
   "cell_type": "code",
   "execution_count": 319,
   "metadata": {},
   "outputs": [
    {
     "ename": "ERROR",
     "evalue": "Error in eval(expr, envir, enclos): object 'hasil' not found\n",
     "output_type": "error",
     "traceback": [
      "Error in eval(expr, envir, enclos): object 'hasil' not found\nTraceback:\n"
     ]
    }
   ],
   "source": [
    "hasil # ga ada karena bersifat lokal"
   ]
  },
  {
   "cell_type": "code",
   "execution_count": 320,
   "metadata": {},
   "outputs": [],
   "source": [
    "var <- 'Variabel global'\n",
    "internet <- 'Jaringan global'\n",
    "\n",
    "jaringan <- function(internet){\n",
    "    print(var)\n",
    "    internet <- 'Jaringan lokal'\n",
    "    print(internet)\n",
    "}"
   ]
  },
  {
   "cell_type": "code",
   "execution_count": 321,
   "metadata": {},
   "outputs": [
    {
     "name": "stdout",
     "output_type": "stream",
     "text": [
      "[1] \"Variabel global\"\n",
      "[1] \"Jaringan lokal\"\n"
     ]
    }
   ],
   "source": [
    "jaringan()\n",
    "# redefinisi variabel lokal internet"
   ]
  },
  {
   "cell_type": "code",
   "execution_count": 322,
   "metadata": {},
   "outputs": [
    {
     "name": "stdout",
     "output_type": "stream",
     "text": [
      "[1] \"Jaringan global\"\n"
     ]
    }
   ],
   "source": [
    "print(internet) # di luar fungsi berlaku variabel global"
   ]
  },
  {
   "cell_type": "markdown",
   "metadata": {},
   "source": [
    "# Konsep - konsep pemrograman lanjut"
   ]
  },
  {
   "cell_type": "markdown",
   "metadata": {},
   "source": [
    "## Fitur - fitur *built-in*"
   ]
  },
  {
   "cell_type": "markdown",
   "metadata": {},
   "source": [
    "### `seq()`: Membuat sikuen"
   ]
  },
  {
   "cell_type": "code",
   "execution_count": 323,
   "metadata": {},
   "outputs": [
    {
     "data": {
      "text/html": [
       "<ol class=list-inline>\n",
       "\t<li>0</li>\n",
       "\t<li>2</li>\n",
       "\t<li>4</li>\n",
       "\t<li>6</li>\n",
       "\t<li>8</li>\n",
       "\t<li>10</li>\n",
       "</ol>\n"
      ],
      "text/latex": [
       "\\begin{enumerate*}\n",
       "\\item 0\n",
       "\\item 2\n",
       "\\item 4\n",
       "\\item 6\n",
       "\\item 8\n",
       "\\item 10\n",
       "\\end{enumerate*}\n"
      ],
      "text/markdown": [
       "1. 0\n",
       "2. 2\n",
       "3. 4\n",
       "4. 6\n",
       "5. 8\n",
       "6. 10\n",
       "\n",
       "\n"
      ],
      "text/plain": [
       "[1]  0  2  4  6  8 10"
      ]
     },
     "metadata": {},
     "output_type": "display_data"
    }
   ],
   "source": [
    "seq(0,10, by=2)"
   ]
  },
  {
   "cell_type": "code",
   "execution_count": 324,
   "metadata": {},
   "outputs": [
    {
     "data": {
      "text/html": [
       "<ol class=list-inline>\n",
       "\t<li>0</li>\n",
       "\t<li>10</li>\n",
       "\t<li>20</li>\n",
       "\t<li>30</li>\n",
       "\t<li>40</li>\n",
       "\t<li>50</li>\n",
       "\t<li>60</li>\n",
       "\t<li>70</li>\n",
       "\t<li>80</li>\n",
       "\t<li>90</li>\n",
       "\t<li>100</li>\n",
       "</ol>\n"
      ],
      "text/latex": [
       "\\begin{enumerate*}\n",
       "\\item 0\n",
       "\\item 10\n",
       "\\item 20\n",
       "\\item 30\n",
       "\\item 40\n",
       "\\item 50\n",
       "\\item 60\n",
       "\\item 70\n",
       "\\item 80\n",
       "\\item 90\n",
       "\\item 100\n",
       "\\end{enumerate*}\n"
      ],
      "text/markdown": [
       "1. 0\n",
       "2. 10\n",
       "3. 20\n",
       "4. 30\n",
       "5. 40\n",
       "6. 50\n",
       "7. 60\n",
       "8. 70\n",
       "9. 80\n",
       "10. 90\n",
       "11. 100\n",
       "\n",
       "\n"
      ],
      "text/plain": [
       " [1]   0  10  20  30  40  50  60  70  80  90 100"
      ]
     },
     "metadata": {},
     "output_type": "display_data"
    }
   ],
   "source": [
    "seq(0,100, by = 10)"
   ]
  },
  {
   "cell_type": "code",
   "execution_count": 325,
   "metadata": {},
   "outputs": [
    {
     "data": {
      "text/html": [
       "<ol class=list-inline>\n",
       "\t<li>0</li>\n",
       "\t<li>2</li>\n",
       "\t<li>4</li>\n",
       "\t<li>6</li>\n",
       "\t<li>8</li>\n",
       "\t<li>10</li>\n",
       "\t<li>12</li>\n",
       "\t<li>14</li>\n",
       "\t<li>16</li>\n",
       "\t<li>18</li>\n",
       "\t<li>20</li>\n",
       "\t<li>22</li>\n",
       "\t<li>24</li>\n",
       "\t<li>26</li>\n",
       "\t<li>28</li>\n",
       "\t<li>30</li>\n",
       "</ol>\n"
      ],
      "text/latex": [
       "\\begin{enumerate*}\n",
       "\\item 0\n",
       "\\item 2\n",
       "\\item 4\n",
       "\\item 6\n",
       "\\item 8\n",
       "\\item 10\n",
       "\\item 12\n",
       "\\item 14\n",
       "\\item 16\n",
       "\\item 18\n",
       "\\item 20\n",
       "\\item 22\n",
       "\\item 24\n",
       "\\item 26\n",
       "\\item 28\n",
       "\\item 30\n",
       "\\end{enumerate*}\n"
      ],
      "text/markdown": [
       "1. 0\n",
       "2. 2\n",
       "3. 4\n",
       "4. 6\n",
       "5. 8\n",
       "6. 10\n",
       "7. 12\n",
       "8. 14\n",
       "9. 16\n",
       "10. 18\n",
       "11. 20\n",
       "12. 22\n",
       "13. 24\n",
       "14. 26\n",
       "15. 28\n",
       "16. 30\n",
       "\n",
       "\n"
      ],
      "text/plain": [
       " [1]  0  2  4  6  8 10 12 14 16 18 20 22 24 26 28 30"
      ]
     },
     "metadata": {},
     "output_type": "display_data"
    }
   ],
   "source": [
    "seq(0,30, by = 2)"
   ]
  },
  {
   "cell_type": "markdown",
   "metadata": {},
   "source": [
    "### `sort()` : Mengurutkan vektor"
   ]
  },
  {
   "cell_type": "code",
   "execution_count": 326,
   "metadata": {},
   "outputs": [
    {
     "data": {
      "text/html": [
       "<ol class=list-inline>\n",
       "\t<li>2</li>\n",
       "\t<li>7</li>\n",
       "\t<li>1</li>\n",
       "\t<li>49</li>\n",
       "\t<li>54</li>\n",
       "\t<li>32</li>\n",
       "</ol>\n"
      ],
      "text/latex": [
       "\\begin{enumerate*}\n",
       "\\item 2\n",
       "\\item 7\n",
       "\\item 1\n",
       "\\item 49\n",
       "\\item 54\n",
       "\\item 32\n",
       "\\end{enumerate*}\n"
      ],
      "text/markdown": [
       "1. 2\n",
       "2. 7\n",
       "3. 1\n",
       "4. 49\n",
       "5. 54\n",
       "6. 32\n",
       "\n",
       "\n"
      ],
      "text/plain": [
       "[1]  2  7  1 49 54 32"
      ]
     },
     "metadata": {},
     "output_type": "display_data"
    }
   ],
   "source": [
    "v <- c(2,7,1,49,54,32)\n",
    "v"
   ]
  },
  {
   "cell_type": "code",
   "execution_count": 327,
   "metadata": {},
   "outputs": [
    {
     "data": {
      "text/html": [
       "<ol class=list-inline>\n",
       "\t<li>1</li>\n",
       "\t<li>2</li>\n",
       "\t<li>7</li>\n",
       "\t<li>32</li>\n",
       "\t<li>49</li>\n",
       "\t<li>54</li>\n",
       "</ol>\n"
      ],
      "text/latex": [
       "\\begin{enumerate*}\n",
       "\\item 1\n",
       "\\item 2\n",
       "\\item 7\n",
       "\\item 32\n",
       "\\item 49\n",
       "\\item 54\n",
       "\\end{enumerate*}\n"
      ],
      "text/markdown": [
       "1. 1\n",
       "2. 2\n",
       "3. 7\n",
       "4. 32\n",
       "5. 49\n",
       "6. 54\n",
       "\n",
       "\n"
      ],
      "text/plain": [
       "[1]  1  2  7 32 49 54"
      ]
     },
     "metadata": {},
     "output_type": "display_data"
    }
   ],
   "source": [
    "sort(v) # dari kecil ke besar"
   ]
  },
  {
   "cell_type": "code",
   "execution_count": 328,
   "metadata": {},
   "outputs": [
    {
     "data": {
      "text/html": [
       "<ol class=list-inline>\n",
       "\t<li>54</li>\n",
       "\t<li>49</li>\n",
       "\t<li>32</li>\n",
       "\t<li>7</li>\n",
       "\t<li>2</li>\n",
       "\t<li>1</li>\n",
       "</ol>\n"
      ],
      "text/latex": [
       "\\begin{enumerate*}\n",
       "\\item 54\n",
       "\\item 49\n",
       "\\item 32\n",
       "\\item 7\n",
       "\\item 2\n",
       "\\item 1\n",
       "\\end{enumerate*}\n"
      ],
      "text/markdown": [
       "1. 54\n",
       "2. 49\n",
       "3. 32\n",
       "4. 7\n",
       "5. 2\n",
       "6. 1\n",
       "\n",
       "\n"
      ],
      "text/plain": [
       "[1] 54 49 32  7  2  1"
      ]
     },
     "metadata": {},
     "output_type": "display_data"
    }
   ],
   "source": [
    "sort(v, decreasing = T) # dari besar ke kecil"
   ]
  },
  {
   "cell_type": "code",
   "execution_count": 329,
   "metadata": {},
   "outputs": [
    {
     "data": {
      "text/html": [
       "<ol class=list-inline>\n",
       "\t<li>'s'</li>\n",
       "\t<li>'a'</li>\n",
       "\t<li>'n'</li>\n",
       "\t<li>'d'</li>\n",
       "\t<li>'y'</li>\n",
       "</ol>\n"
      ],
      "text/latex": [
       "\\begin{enumerate*}\n",
       "\\item 's'\n",
       "\\item 'a'\n",
       "\\item 'n'\n",
       "\\item 'd'\n",
       "\\item 'y'\n",
       "\\end{enumerate*}\n"
      ],
      "text/markdown": [
       "1. 's'\n",
       "2. 'a'\n",
       "3. 'n'\n",
       "4. 'd'\n",
       "5. 'y'\n",
       "\n",
       "\n"
      ],
      "text/plain": [
       "[1] \"s\" \"a\" \"n\" \"d\" \"y\""
      ]
     },
     "metadata": {},
     "output_type": "display_data"
    }
   ],
   "source": [
    "nama <- c('s', 'a', 'n', 'd', 'y')\n",
    "nama"
   ]
  },
  {
   "cell_type": "code",
   "execution_count": 330,
   "metadata": {},
   "outputs": [
    {
     "data": {
      "text/html": [
       "<ol class=list-inline>\n",
       "\t<li>'a'</li>\n",
       "\t<li>'d'</li>\n",
       "\t<li>'n'</li>\n",
       "\t<li>'s'</li>\n",
       "\t<li>'y'</li>\n",
       "</ol>\n"
      ],
      "text/latex": [
       "\\begin{enumerate*}\n",
       "\\item 'a'\n",
       "\\item 'd'\n",
       "\\item 'n'\n",
       "\\item 's'\n",
       "\\item 'y'\n",
       "\\end{enumerate*}\n"
      ],
      "text/markdown": [
       "1. 'a'\n",
       "2. 'd'\n",
       "3. 'n'\n",
       "4. 's'\n",
       "5. 'y'\n",
       "\n",
       "\n"
      ],
      "text/plain": [
       "[1] \"a\" \"d\" \"n\" \"s\" \"y\""
      ]
     },
     "metadata": {},
     "output_type": "display_data"
    }
   ],
   "source": [
    "sort(nama)"
   ]
  },
  {
   "cell_type": "code",
   "execution_count": 331,
   "metadata": {},
   "outputs": [
    {
     "data": {
      "text/html": [
       "<ol class=list-inline>\n",
       "\t<li>'a'</li>\n",
       "\t<li>'d'</li>\n",
       "\t<li>'n'</li>\n",
       "\t<li>'s'</li>\n",
       "\t<li>'Y'</li>\n",
       "</ol>\n"
      ],
      "text/latex": [
       "\\begin{enumerate*}\n",
       "\\item 'a'\n",
       "\\item 'd'\n",
       "\\item 'n'\n",
       "\\item 's'\n",
       "\\item 'Y'\n",
       "\\end{enumerate*}\n"
      ],
      "text/markdown": [
       "1. 'a'\n",
       "2. 'd'\n",
       "3. 'n'\n",
       "4. 's'\n",
       "5. 'Y'\n",
       "\n",
       "\n"
      ],
      "text/plain": [
       "[1] \"a\" \"d\" \"n\" \"s\" \"Y\""
      ]
     },
     "metadata": {},
     "output_type": "display_data"
    }
   ],
   "source": [
    "nama <- c('s', 'a', 'n', 'd', 'Y')\n",
    "sort(nama)"
   ]
  },
  {
   "cell_type": "code",
   "execution_count": 332,
   "metadata": {},
   "outputs": [
    {
     "data": {
      "text/html": [
       "<ol class=list-inline>\n",
       "\t<li>'a'</li>\n",
       "\t<li>'A'</li>\n",
       "\t<li>'d'</li>\n",
       "\t<li>'n'</li>\n",
       "\t<li>'s'</li>\n",
       "\t<li>'Y'</li>\n",
       "</ol>\n"
      ],
      "text/latex": [
       "\\begin{enumerate*}\n",
       "\\item 'a'\n",
       "\\item 'A'\n",
       "\\item 'd'\n",
       "\\item 'n'\n",
       "\\item 's'\n",
       "\\item 'Y'\n",
       "\\end{enumerate*}\n"
      ],
      "text/markdown": [
       "1. 'a'\n",
       "2. 'A'\n",
       "3. 'd'\n",
       "4. 'n'\n",
       "5. 's'\n",
       "6. 'Y'\n",
       "\n",
       "\n"
      ],
      "text/plain": [
       "[1] \"a\" \"A\" \"d\" \"n\" \"s\" \"Y\""
      ]
     },
     "metadata": {},
     "output_type": "display_data"
    }
   ],
   "source": [
    "nama <- c('s', 'a', 'n', 'd', 'Y','A')\n",
    "sort(nama)"
   ]
  },
  {
   "cell_type": "markdown",
   "metadata": {},
   "source": [
    "### `rev()`: Membalikan elemen di dalam suatu objek"
   ]
  },
  {
   "cell_type": "code",
   "execution_count": 333,
   "metadata": {},
   "outputs": [
    {
     "data": {
      "text/html": [
       "<ol class=list-inline>\n",
       "\t<li>1</li>\n",
       "\t<li>2</li>\n",
       "\t<li>3</li>\n",
       "\t<li>4</li>\n",
       "\t<li>5</li>\n",
       "\t<li>6</li>\n",
       "\t<li>7</li>\n",
       "\t<li>8</li>\n",
       "\t<li>9</li>\n",
       "\t<li>10</li>\n",
       "</ol>\n"
      ],
      "text/latex": [
       "\\begin{enumerate*}\n",
       "\\item 1\n",
       "\\item 2\n",
       "\\item 3\n",
       "\\item 4\n",
       "\\item 5\n",
       "\\item 6\n",
       "\\item 7\n",
       "\\item 8\n",
       "\\item 9\n",
       "\\item 10\n",
       "\\end{enumerate*}\n"
      ],
      "text/markdown": [
       "1. 1\n",
       "2. 2\n",
       "3. 3\n",
       "4. 4\n",
       "5. 5\n",
       "6. 6\n",
       "7. 7\n",
       "8. 8\n",
       "9. 9\n",
       "10. 10\n",
       "\n",
       "\n"
      ],
      "text/plain": [
       " [1]  1  2  3  4  5  6  7  8  9 10"
      ]
     },
     "metadata": {},
     "output_type": "display_data"
    }
   ],
   "source": [
    "b <- seq(1,10)\n",
    "b"
   ]
  },
  {
   "cell_type": "code",
   "execution_count": 334,
   "metadata": {},
   "outputs": [
    {
     "data": {
      "text/html": [
       "<ol class=list-inline>\n",
       "\t<li>10</li>\n",
       "\t<li>9</li>\n",
       "\t<li>8</li>\n",
       "\t<li>7</li>\n",
       "\t<li>6</li>\n",
       "\t<li>5</li>\n",
       "\t<li>4</li>\n",
       "\t<li>3</li>\n",
       "\t<li>2</li>\n",
       "\t<li>1</li>\n",
       "</ol>\n"
      ],
      "text/latex": [
       "\\begin{enumerate*}\n",
       "\\item 10\n",
       "\\item 9\n",
       "\\item 8\n",
       "\\item 7\n",
       "\\item 6\n",
       "\\item 5\n",
       "\\item 4\n",
       "\\item 3\n",
       "\\item 2\n",
       "\\item 1\n",
       "\\end{enumerate*}\n"
      ],
      "text/markdown": [
       "1. 10\n",
       "2. 9\n",
       "3. 8\n",
       "4. 7\n",
       "5. 6\n",
       "6. 5\n",
       "7. 4\n",
       "8. 3\n",
       "9. 2\n",
       "10. 1\n",
       "\n",
       "\n"
      ],
      "text/plain": [
       " [1] 10  9  8  7  6  5  4  3  2  1"
      ]
     },
     "metadata": {},
     "output_type": "display_data"
    }
   ],
   "source": [
    "rev(b)"
   ]
  },
  {
   "cell_type": "code",
   "execution_count": 335,
   "metadata": {},
   "outputs": [
    {
     "data": {
      "text/html": [
       "<ol class=list-inline>\n",
       "\t<li>'a'</li>\n",
       "\t<li>'b'</li>\n",
       "\t<li>'e'</li>\n",
       "\t<li>'d'</li>\n",
       "</ol>\n"
      ],
      "text/latex": [
       "\\begin{enumerate*}\n",
       "\\item 'a'\n",
       "\\item 'b'\n",
       "\\item 'e'\n",
       "\\item 'd'\n",
       "\\end{enumerate*}\n"
      ],
      "text/markdown": [
       "1. 'a'\n",
       "2. 'b'\n",
       "3. 'e'\n",
       "4. 'd'\n",
       "\n",
       "\n"
      ],
      "text/plain": [
       "[1] \"a\" \"b\" \"e\" \"d\""
      ]
     },
     "metadata": {},
     "output_type": "display_data"
    }
   ],
   "source": [
    "d <- c('a','b','e','d')\n",
    "d"
   ]
  },
  {
   "cell_type": "code",
   "execution_count": 336,
   "metadata": {},
   "outputs": [
    {
     "data": {
      "text/html": [
       "<ol class=list-inline>\n",
       "\t<li>'d'</li>\n",
       "\t<li>'e'</li>\n",
       "\t<li>'b'</li>\n",
       "\t<li>'a'</li>\n",
       "</ol>\n"
      ],
      "text/latex": [
       "\\begin{enumerate*}\n",
       "\\item 'd'\n",
       "\\item 'e'\n",
       "\\item 'b'\n",
       "\\item 'a'\n",
       "\\end{enumerate*}\n"
      ],
      "text/markdown": [
       "1. 'd'\n",
       "2. 'e'\n",
       "3. 'b'\n",
       "4. 'a'\n",
       "\n",
       "\n"
      ],
      "text/plain": [
       "[1] \"d\" \"e\" \"b\" \"a\""
      ]
     },
     "metadata": {},
     "output_type": "display_data"
    }
   ],
   "source": [
    "rev(d)"
   ]
  },
  {
   "cell_type": "markdown",
   "metadata": {},
   "source": [
    "### `str()`: Menunjukkan struktur dari suatu objek\n"
   ]
  },
  {
   "cell_type": "code",
   "execution_count": 337,
   "metadata": {},
   "outputs": [
    {
     "name": "stdout",
     "output_type": "stream",
     "text": [
      " int [1:10] 1 2 3 4 5 6 7 8 9 10\n"
     ]
    }
   ],
   "source": [
    "str(b)"
   ]
  },
  {
   "cell_type": "code",
   "execution_count": 338,
   "metadata": {},
   "outputs": [
    {
     "name": "stdout",
     "output_type": "stream",
     "text": [
      "'data.frame':\t32 obs. of  11 variables:\n",
      " $ mpg : num  21 21 22.8 21.4 18.7 18.1 14.3 24.4 22.8 19.2 ...\n",
      " $ cyl : num  6 6 4 6 8 6 8 4 4 6 ...\n",
      " $ disp: num  160 160 108 258 360 ...\n",
      " $ hp  : num  110 110 93 110 175 105 245 62 95 123 ...\n",
      " $ drat: num  3.9 3.9 3.85 3.08 3.15 2.76 3.21 3.69 3.92 3.92 ...\n",
      " $ wt  : num  2.62 2.88 2.32 3.21 3.44 ...\n",
      " $ qsec: num  16.5 17 18.6 19.4 17 ...\n",
      " $ vs  : num  0 0 1 1 0 1 0 1 1 1 ...\n",
      " $ am  : num  1 1 1 0 0 0 0 0 0 0 ...\n",
      " $ gear: num  4 4 4 3 3 3 3 4 4 4 ...\n",
      " $ carb: num  4 4 1 1 2 1 4 2 2 4 ...\n"
     ]
    }
   ],
   "source": [
    "str(mtcars)"
   ]
  },
  {
   "cell_type": "code",
   "execution_count": 339,
   "metadata": {},
   "outputs": [
    {
     "data": {
      "text/plain": [
       "      mpg             cyl             disp             hp       \n",
       " Min.   :10.40   Min.   :4.000   Min.   : 71.1   Min.   : 52.0  \n",
       " 1st Qu.:15.43   1st Qu.:4.000   1st Qu.:120.8   1st Qu.: 96.5  \n",
       " Median :19.20   Median :6.000   Median :196.3   Median :123.0  \n",
       " Mean   :20.09   Mean   :6.188   Mean   :230.7   Mean   :146.7  \n",
       " 3rd Qu.:22.80   3rd Qu.:8.000   3rd Qu.:326.0   3rd Qu.:180.0  \n",
       " Max.   :33.90   Max.   :8.000   Max.   :472.0   Max.   :335.0  \n",
       "      drat             wt             qsec             vs        \n",
       " Min.   :2.760   Min.   :1.513   Min.   :14.50   Min.   :0.0000  \n",
       " 1st Qu.:3.080   1st Qu.:2.581   1st Qu.:16.89   1st Qu.:0.0000  \n",
       " Median :3.695   Median :3.325   Median :17.71   Median :0.0000  \n",
       " Mean   :3.597   Mean   :3.217   Mean   :17.85   Mean   :0.4375  \n",
       " 3rd Qu.:3.920   3rd Qu.:3.610   3rd Qu.:18.90   3rd Qu.:1.0000  \n",
       " Max.   :4.930   Max.   :5.424   Max.   :22.90   Max.   :1.0000  \n",
       "       am              gear            carb      \n",
       " Min.   :0.0000   Min.   :3.000   Min.   :1.000  \n",
       " 1st Qu.:0.0000   1st Qu.:3.000   1st Qu.:2.000  \n",
       " Median :0.0000   Median :4.000   Median :2.000  \n",
       " Mean   :0.4062   Mean   :3.688   Mean   :2.812  \n",
       " 3rd Qu.:1.0000   3rd Qu.:4.000   3rd Qu.:4.000  \n",
       " Max.   :1.0000   Max.   :5.000   Max.   :8.000  "
      ]
     },
     "metadata": {},
     "output_type": "display_data"
    }
   ],
   "source": [
    "summary(mtcars)"
   ]
  },
  {
   "cell_type": "markdown",
   "metadata": {},
   "source": [
    "### `append()`: Menggabungkan objek"
   ]
  },
  {
   "cell_type": "code",
   "execution_count": 340,
   "metadata": {},
   "outputs": [],
   "source": [
    "v1 <- seq(1,5)\n",
    "v2 <- seq(10,30, by=10)"
   ]
  },
  {
   "cell_type": "code",
   "execution_count": 341,
   "metadata": {},
   "outputs": [
    {
     "data": {
      "text/html": [
       "<ol class=list-inline>\n",
       "\t<li>1</li>\n",
       "\t<li>2</li>\n",
       "\t<li>3</li>\n",
       "\t<li>4</li>\n",
       "\t<li>5</li>\n",
       "\t<li>10</li>\n",
       "\t<li>20</li>\n",
       "\t<li>30</li>\n",
       "</ol>\n"
      ],
      "text/latex": [
       "\\begin{enumerate*}\n",
       "\\item 1\n",
       "\\item 2\n",
       "\\item 3\n",
       "\\item 4\n",
       "\\item 5\n",
       "\\item 10\n",
       "\\item 20\n",
       "\\item 30\n",
       "\\end{enumerate*}\n"
      ],
      "text/markdown": [
       "1. 1\n",
       "2. 2\n",
       "3. 3\n",
       "4. 4\n",
       "5. 5\n",
       "6. 10\n",
       "7. 20\n",
       "8. 30\n",
       "\n",
       "\n"
      ],
      "text/plain": [
       "[1]  1  2  3  4  5 10 20 30"
      ]
     },
     "metadata": {},
     "output_type": "display_data"
    }
   ],
   "source": [
    "append(v1,v2)"
   ]
  },
  {
   "cell_type": "markdown",
   "metadata": {},
   "source": [
    "### Memeriksa dan mengonversi tipe data pada objek - objek R"
   ]
  },
  {
   "cell_type": "code",
   "execution_count": 342,
   "metadata": {},
   "outputs": [
    {
     "data": {
      "text/html": [
       "<ol class=list-inline>\n",
       "\t<li>1</li>\n",
       "\t<li>2</li>\n",
       "\t<li>3</li>\n",
       "\t<li>4</li>\n",
       "\t<li>5</li>\n",
       "</ol>\n"
      ],
      "text/latex": [
       "\\begin{enumerate*}\n",
       "\\item 1\n",
       "\\item 2\n",
       "\\item 3\n",
       "\\item 4\n",
       "\\item 5\n",
       "\\end{enumerate*}\n"
      ],
      "text/markdown": [
       "1. 1\n",
       "2. 2\n",
       "3. 3\n",
       "4. 4\n",
       "5. 5\n",
       "\n",
       "\n"
      ],
      "text/plain": [
       "[1] 1 2 3 4 5"
      ]
     },
     "metadata": {},
     "output_type": "display_data"
    }
   ],
   "source": [
    "v1"
   ]
  },
  {
   "cell_type": "code",
   "execution_count": 343,
   "metadata": {},
   "outputs": [
    {
     "data": {
      "text/html": [
       "TRUE"
      ],
      "text/latex": [
       "TRUE"
      ],
      "text/markdown": [
       "TRUE"
      ],
      "text/plain": [
       "[1] TRUE"
      ]
     },
     "metadata": {},
     "output_type": "display_data"
    }
   ],
   "source": [
    "is.vector(v1)"
   ]
  },
  {
   "cell_type": "code",
   "execution_count": 344,
   "metadata": {},
   "outputs": [
    {
     "data": {
      "text/html": [
       "FALSE"
      ],
      "text/latex": [
       "FALSE"
      ],
      "text/markdown": [
       "FALSE"
      ],
      "text/plain": [
       "[1] FALSE"
      ]
     },
     "metadata": {},
     "output_type": "display_data"
    }
   ],
   "source": [
    "is.data.frame(v1)"
   ]
  },
  {
   "cell_type": "code",
   "execution_count": 345,
   "metadata": {},
   "outputs": [
    {
     "data": {
      "text/html": [
       "TRUE"
      ],
      "text/latex": [
       "TRUE"
      ],
      "text/markdown": [
       "TRUE"
      ],
      "text/plain": [
       "[1] TRUE"
      ]
     },
     "metadata": {},
     "output_type": "display_data"
    }
   ],
   "source": [
    "is.data.frame(mtcars)"
   ]
  },
  {
   "cell_type": "code",
   "execution_count": 346,
   "metadata": {},
   "outputs": [
    {
     "data": {
      "text/html": [
       "<ol>\n",
       "\t<li>1</li>\n",
       "\t<li>2</li>\n",
       "\t<li>3</li>\n",
       "\t<li>4</li>\n",
       "\t<li>5</li>\n",
       "</ol>\n"
      ],
      "text/latex": [
       "\\begin{enumerate}\n",
       "\\item 1\n",
       "\\item 2\n",
       "\\item 3\n",
       "\\item 4\n",
       "\\item 5\n",
       "\\end{enumerate}\n"
      ],
      "text/markdown": [
       "1. 1\n",
       "2. 2\n",
       "3. 3\n",
       "4. 4\n",
       "5. 5\n",
       "\n",
       "\n"
      ],
      "text/plain": [
       "[[1]]\n",
       "[1] 1\n",
       "\n",
       "[[2]]\n",
       "[1] 2\n",
       "\n",
       "[[3]]\n",
       "[1] 3\n",
       "\n",
       "[[4]]\n",
       "[1] 4\n",
       "\n",
       "[[5]]\n",
       "[1] 5\n"
      ]
     },
     "metadata": {},
     "output_type": "display_data"
    }
   ],
   "source": [
    "as.list(v1)"
   ]
  },
  {
   "cell_type": "code",
   "execution_count": 347,
   "metadata": {},
   "outputs": [
    {
     "data": {
      "text/html": [
       "<table>\n",
       "<tbody>\n",
       "\t<tr><td>1</td></tr>\n",
       "\t<tr><td>2</td></tr>\n",
       "\t<tr><td>3</td></tr>\n",
       "\t<tr><td>4</td></tr>\n",
       "\t<tr><td>5</td></tr>\n",
       "</tbody>\n",
       "</table>\n"
      ],
      "text/latex": [
       "\\begin{tabular}{l}\n",
       "\t 1\\\\\n",
       "\t 2\\\\\n",
       "\t 3\\\\\n",
       "\t 4\\\\\n",
       "\t 5\\\\\n",
       "\\end{tabular}\n"
      ],
      "text/markdown": [
       "\n",
       "| 1 |\n",
       "| 2 |\n",
       "| 3 |\n",
       "| 4 |\n",
       "| 5 |\n",
       "\n"
      ],
      "text/plain": [
       "     [,1]\n",
       "[1,] 1   \n",
       "[2,] 2   \n",
       "[3,] 3   \n",
       "[4,] 4   \n",
       "[5,] 5   "
      ]
     },
     "metadata": {},
     "output_type": "display_data"
    }
   ],
   "source": [
    "as.matrix(v1)"
   ]
  },
  {
   "cell_type": "markdown",
   "metadata": {},
   "source": [
    "## Fungsi - fungsi `apply`"
   ]
  },
  {
   "cell_type": "code",
   "execution_count": 348,
   "metadata": {},
   "outputs": [
    {
     "data": {
      "text/html": [
       "<ol class=list-inline>\n",
       "\t<li>10</li>\n",
       "\t<li>20</li>\n",
       "\t<li>30</li>\n",
       "\t<li>40</li>\n",
       "\t<li>50</li>\n",
       "</ol>\n"
      ],
      "text/latex": [
       "\\begin{enumerate*}\n",
       "\\item 10\n",
       "\\item 20\n",
       "\\item 30\n",
       "\\item 40\n",
       "\\item 50\n",
       "\\end{enumerate*}\n"
      ],
      "text/markdown": [
       "1. 10\n",
       "2. 20\n",
       "3. 30\n",
       "4. 40\n",
       "5. 50\n",
       "\n",
       "\n"
      ],
      "text/plain": [
       "[1] 10 20 30 40 50"
      ]
     },
     "metadata": {},
     "output_type": "display_data"
    }
   ],
   "source": [
    "v <- seq(10,50,by=10)\n",
    "v"
   ]
  },
  {
   "cell_type": "code",
   "execution_count": 349,
   "metadata": {},
   "outputs": [
    {
     "data": {
      "text/html": [
       "<ol class=list-inline>\n",
       "\t<li>30</li>\n",
       "\t<li>50</li>\n",
       "</ol>\n"
      ],
      "text/latex": [
       "\\begin{enumerate*}\n",
       "\\item 30\n",
       "\\item 50\n",
       "\\end{enumerate*}\n"
      ],
      "text/markdown": [
       "1. 30\n",
       "2. 50\n",
       "\n",
       "\n"
      ],
      "text/plain": [
       "[1] 30 50"
      ]
     },
     "metadata": {},
     "output_type": "display_data"
    }
   ],
   "source": [
    "sample(v,2) # mengambil dua buah sampel acak dari vektor"
   ]
  },
  {
   "cell_type": "code",
   "execution_count": 350,
   "metadata": {},
   "outputs": [
    {
     "data": {
      "text/html": [
       "<ol class=list-inline>\n",
       "\t<li>41</li>\n",
       "\t<li>73</li>\n",
       "\t<li>64</li>\n",
       "\t<li>63</li>\n",
       "\t<li>75</li>\n",
       "</ol>\n"
      ],
      "text/latex": [
       "\\begin{enumerate*}\n",
       "\\item 41\n",
       "\\item 73\n",
       "\\item 64\n",
       "\\item 63\n",
       "\\item 75\n",
       "\\end{enumerate*}\n"
      ],
      "text/markdown": [
       "1. 41\n",
       "2. 73\n",
       "3. 64\n",
       "4. 63\n",
       "5. 75\n",
       "\n",
       "\n"
      ],
      "text/plain": [
       "[1] 41 73 64 63 75"
      ]
     },
     "metadata": {},
     "output_type": "display_data"
    }
   ],
   "source": [
    "sample(1:100,5)"
   ]
  },
  {
   "cell_type": "code",
   "execution_count": 351,
   "metadata": {},
   "outputs": [
    {
     "data": {
      "text/html": [
       "<ol class=list-inline>\n",
       "\t<li>1</li>\n",
       "\t<li>2</li>\n",
       "\t<li>3</li>\n",
       "\t<li>4</li>\n",
       "\t<li>5</li>\n",
       "</ol>\n"
      ],
      "text/latex": [
       "\\begin{enumerate*}\n",
       "\\item 1\n",
       "\\item 2\n",
       "\\item 3\n",
       "\\item 4\n",
       "\\item 5\n",
       "\\end{enumerate*}\n"
      ],
      "text/markdown": [
       "1. 1\n",
       "2. 2\n",
       "3. 3\n",
       "4. 4\n",
       "5. 5\n",
       "\n",
       "\n"
      ],
      "text/plain": [
       "[1] 1 2 3 4 5"
      ]
     },
     "metadata": {},
     "output_type": "display_data"
    }
   ],
   "source": [
    "v <- 1:5\n",
    "v"
   ]
  },
  {
   "cell_type": "code",
   "execution_count": 352,
   "metadata": {},
   "outputs": [],
   "source": [
    "tambah_acak <- function(x){\n",
    "    acak <- sample(1:100,1)\n",
    "    return(x + acak)\n",
    "}"
   ]
  },
  {
   "cell_type": "code",
   "execution_count": 353,
   "metadata": {},
   "outputs": [
    {
     "data": {
      "text/html": [
       "15"
      ],
      "text/latex": [
       "15"
      ],
      "text/markdown": [
       "15"
      ],
      "text/plain": [
       "[1] 15"
      ]
     },
     "metadata": {},
     "output_type": "display_data"
    }
   ],
   "source": [
    "tambah_acak(10)"
   ]
  },
  {
   "cell_type": "code",
   "execution_count": 354,
   "metadata": {},
   "outputs": [
    {
     "data": {
      "text/html": [
       "21"
      ],
      "text/latex": [
       "21"
      ],
      "text/markdown": [
       "21"
      ],
      "text/plain": [
       "[1] 21"
      ]
     },
     "metadata": {},
     "output_type": "display_data"
    }
   ],
   "source": [
    "hasil <- tambah_acak(20)\n",
    "hasil"
   ]
  },
  {
   "cell_type": "markdown",
   "metadata": {},
   "source": [
    "### `lapply()`: dalam bentuk list"
   ]
  },
  {
   "cell_type": "code",
   "execution_count": 355,
   "metadata": {},
   "outputs": [
    {
     "data": {
      "text/html": [
       "<ol>\n",
       "\t<li>11</li>\n",
       "\t<li>77</li>\n",
       "\t<li>86</li>\n",
       "\t<li>81</li>\n",
       "\t<li>39</li>\n",
       "</ol>\n"
      ],
      "text/latex": [
       "\\begin{enumerate}\n",
       "\\item 11\n",
       "\\item 77\n",
       "\\item 86\n",
       "\\item 81\n",
       "\\item 39\n",
       "\\end{enumerate}\n"
      ],
      "text/markdown": [
       "1. 11\n",
       "2. 77\n",
       "3. 86\n",
       "4. 81\n",
       "5. 39\n",
       "\n",
       "\n"
      ],
      "text/plain": [
       "[[1]]\n",
       "[1] 11\n",
       "\n",
       "[[2]]\n",
       "[1] 77\n",
       "\n",
       "[[3]]\n",
       "[1] 86\n",
       "\n",
       "[[4]]\n",
       "[1] 81\n",
       "\n",
       "[[5]]\n",
       "[1] 39\n"
      ]
     },
     "metadata": {},
     "output_type": "display_data"
    }
   ],
   "source": [
    "lapply(v, tambah_acak)\n",
    "# outputnya dalam bentuk list"
   ]
  },
  {
   "cell_type": "markdown",
   "metadata": {},
   "source": [
    "## `sapply()`: dalam bentuk vektor"
   ]
  },
  {
   "cell_type": "code",
   "execution_count": 356,
   "metadata": {},
   "outputs": [
    {
     "data": {
      "text/html": [
       "<ol class=list-inline>\n",
       "\t<li>17</li>\n",
       "\t<li>5</li>\n",
       "\t<li>103</li>\n",
       "\t<li>6</li>\n",
       "\t<li>63</li>\n",
       "</ol>\n"
      ],
      "text/latex": [
       "\\begin{enumerate*}\n",
       "\\item 17\n",
       "\\item 5\n",
       "\\item 103\n",
       "\\item 6\n",
       "\\item 63\n",
       "\\end{enumerate*}\n"
      ],
      "text/markdown": [
       "1. 17\n",
       "2. 5\n",
       "3. 103\n",
       "4. 6\n",
       "5. 63\n",
       "\n",
       "\n"
      ],
      "text/plain": [
       "[1]  17   5 103   6  63"
      ]
     },
     "metadata": {},
     "output_type": "display_data"
    }
   ],
   "source": [
    "sapply(v,tambah_acak)"
   ]
  },
  {
   "cell_type": "code",
   "execution_count": 357,
   "metadata": {},
   "outputs": [],
   "source": [
    "v1 <- seq(5,25, by=5)\n",
    "kuadrat <- function(bil){\n",
    "    return(bil^2)\n",
    "}"
   ]
  },
  {
   "cell_type": "code",
   "execution_count": 358,
   "metadata": {},
   "outputs": [
    {
     "data": {
      "text/html": [
       "25"
      ],
      "text/latex": [
       "25"
      ],
      "text/markdown": [
       "25"
      ],
      "text/plain": [
       "[1] 25"
      ]
     },
     "metadata": {},
     "output_type": "display_data"
    }
   ],
   "source": [
    "kuadrat(5)"
   ]
  },
  {
   "cell_type": "code",
   "execution_count": 359,
   "metadata": {},
   "outputs": [
    {
     "data": {
      "text/html": [
       "<ol>\n",
       "\t<li>1</li>\n",
       "\t<li>4</li>\n",
       "\t<li>9</li>\n",
       "\t<li>16</li>\n",
       "\t<li>25</li>\n",
       "</ol>\n"
      ],
      "text/latex": [
       "\\begin{enumerate}\n",
       "\\item 1\n",
       "\\item 4\n",
       "\\item 9\n",
       "\\item 16\n",
       "\\item 25\n",
       "\\end{enumerate}\n"
      ],
      "text/markdown": [
       "1. 1\n",
       "2. 4\n",
       "3. 9\n",
       "4. 16\n",
       "5. 25\n",
       "\n",
       "\n"
      ],
      "text/plain": [
       "[[1]]\n",
       "[1] 1\n",
       "\n",
       "[[2]]\n",
       "[1] 4\n",
       "\n",
       "[[3]]\n",
       "[1] 9\n",
       "\n",
       "[[4]]\n",
       "[1] 16\n",
       "\n",
       "[[5]]\n",
       "[1] 25\n"
      ]
     },
     "metadata": {},
     "output_type": "display_data"
    }
   ],
   "source": [
    "lapply(v, kuadrat)"
   ]
  },
  {
   "cell_type": "code",
   "execution_count": 360,
   "metadata": {},
   "outputs": [
    {
     "data": {
      "text/html": [
       "<ol class=list-inline>\n",
       "\t<li>1</li>\n",
       "\t<li>4</li>\n",
       "\t<li>9</li>\n",
       "\t<li>16</li>\n",
       "\t<li>25</li>\n",
       "</ol>\n"
      ],
      "text/latex": [
       "\\begin{enumerate*}\n",
       "\\item 1\n",
       "\\item 4\n",
       "\\item 9\n",
       "\\item 16\n",
       "\\item 25\n",
       "\\end{enumerate*}\n"
      ],
      "text/markdown": [
       "1. 1\n",
       "2. 4\n",
       "3. 9\n",
       "4. 16\n",
       "5. 25\n",
       "\n",
       "\n"
      ],
      "text/plain": [
       "[1]  1  4  9 16 25"
      ]
     },
     "metadata": {},
     "output_type": "display_data"
    }
   ],
   "source": [
    "sapply(v, kuadrat)"
   ]
  },
  {
   "cell_type": "markdown",
   "metadata": {},
   "source": [
    "### Fungsi anonim"
   ]
  },
  {
   "cell_type": "code",
   "execution_count": 361,
   "metadata": {},
   "outputs": [
    {
     "data": {
      "text/html": [
       "<ol class=list-inline>\n",
       "\t<li>1</li>\n",
       "\t<li>2</li>\n",
       "\t<li>3</li>\n",
       "\t<li>4</li>\n",
       "\t<li>5</li>\n",
       "</ol>\n"
      ],
      "text/latex": [
       "\\begin{enumerate*}\n",
       "\\item 1\n",
       "\\item 2\n",
       "\\item 3\n",
       "\\item 4\n",
       "\\item 5\n",
       "\\end{enumerate*}\n"
      ],
      "text/markdown": [
       "1. 1\n",
       "2. 2\n",
       "3. 3\n",
       "4. 4\n",
       "5. 5\n",
       "\n",
       "\n"
      ],
      "text/plain": [
       "[1] 1 2 3 4 5"
      ]
     },
     "metadata": {},
     "output_type": "display_data"
    }
   ],
   "source": [
    "v"
   ]
  },
  {
   "cell_type": "code",
   "execution_count": 362,
   "metadata": {},
   "outputs": [],
   "source": [
    "kuadrat <- function(bil){\n",
    "    return(bil^2)\n",
    "}"
   ]
  },
  {
   "cell_type": "code",
   "execution_count": 363,
   "metadata": {},
   "outputs": [
    {
     "data": {
      "text/html": [
       "<ol class=list-inline>\n",
       "\t<li>1</li>\n",
       "\t<li>4</li>\n",
       "\t<li>9</li>\n",
       "\t<li>16</li>\n",
       "\t<li>25</li>\n",
       "</ol>\n"
      ],
      "text/latex": [
       "\\begin{enumerate*}\n",
       "\\item 1\n",
       "\\item 4\n",
       "\\item 9\n",
       "\\item 16\n",
       "\\item 25\n",
       "\\end{enumerate*}\n"
      ],
      "text/markdown": [
       "1. 1\n",
       "2. 4\n",
       "3. 9\n",
       "4. 16\n",
       "5. 25\n",
       "\n",
       "\n"
      ],
      "text/plain": [
       "[1]  1  4  9 16 25"
      ]
     },
     "metadata": {},
     "output_type": "display_data"
    }
   ],
   "source": [
    "sapply(v, function(bil){bil^2}) # fungsi anonim"
   ]
  },
  {
   "cell_type": "markdown",
   "metadata": {},
   "source": [
    "### Fungsi `apply` dengan banyak *input*"
   ]
  },
  {
   "cell_type": "code",
   "execution_count": 364,
   "metadata": {},
   "outputs": [
    {
     "data": {
      "text/html": [
       "<ol class=list-inline>\n",
       "\t<li>1</li>\n",
       "\t<li>2</li>\n",
       "\t<li>3</li>\n",
       "\t<li>4</li>\n",
       "\t<li>5</li>\n",
       "</ol>\n"
      ],
      "text/latex": [
       "\\begin{enumerate*}\n",
       "\\item 1\n",
       "\\item 2\n",
       "\\item 3\n",
       "\\item 4\n",
       "\\item 5\n",
       "\\end{enumerate*}\n"
      ],
      "text/markdown": [
       "1. 1\n",
       "2. 2\n",
       "3. 3\n",
       "4. 4\n",
       "5. 5\n",
       "\n",
       "\n"
      ],
      "text/plain": [
       "[1] 1 2 3 4 5"
      ]
     },
     "metadata": {},
     "output_type": "display_data"
    }
   ],
   "source": [
    "v"
   ]
  },
  {
   "cell_type": "code",
   "execution_count": 365,
   "metadata": {},
   "outputs": [],
   "source": [
    "tambah_dua_bil <- function(b1,b2){\n",
    "    return(b1+b2)\n",
    "}"
   ]
  },
  {
   "cell_type": "code",
   "execution_count": 366,
   "metadata": {},
   "outputs": [
    {
     "data": {
      "text/html": [
       "50"
      ],
      "text/latex": [
       "50"
      ],
      "text/markdown": [
       "50"
      ],
      "text/plain": [
       "[1] 50"
      ]
     },
     "metadata": {},
     "output_type": "display_data"
    }
   ],
   "source": [
    "tambah_dua_bil(20,30)"
   ]
  },
  {
   "cell_type": "code",
   "execution_count": 367,
   "metadata": {},
   "outputs": [
    {
     "ename": "ERROR",
     "evalue": "Error in FUN(X[[i]], ...): argument \"b2\" is missing, with no default\n",
     "output_type": "error",
     "traceback": [
      "Error in FUN(X[[i]], ...): argument \"b2\" is missing, with no default\nTraceback:\n",
      "1. sapply(v, tambah_dua_bil)",
      "2. lapply(X = X, FUN = FUN, ...)",
      "3. FUN(X[[i]], ...)"
     ]
    }
   ],
   "source": [
    "sapply(v, tambah_dua_bil) # error"
   ]
  },
  {
   "cell_type": "code",
   "execution_count": 368,
   "metadata": {},
   "outputs": [
    {
     "data": {
      "text/html": [
       "<ol class=list-inline>\n",
       "\t<li>11</li>\n",
       "\t<li>12</li>\n",
       "\t<li>13</li>\n",
       "\t<li>14</li>\n",
       "\t<li>15</li>\n",
       "</ol>\n"
      ],
      "text/latex": [
       "\\begin{enumerate*}\n",
       "\\item 11\n",
       "\\item 12\n",
       "\\item 13\n",
       "\\item 14\n",
       "\\item 15\n",
       "\\end{enumerate*}\n"
      ],
      "text/markdown": [
       "1. 11\n",
       "2. 12\n",
       "3. 13\n",
       "4. 14\n",
       "5. 15\n",
       "\n",
       "\n"
      ],
      "text/plain": [
       "[1] 11 12 13 14 15"
      ]
     },
     "metadata": {},
     "output_type": "display_data"
    }
   ],
   "source": [
    "sapply(v, tambah_dua_bil, b2 = 10)"
   ]
  },
  {
   "cell_type": "markdown",
   "metadata": {},
   "source": [
    "## Ekspresi regular : RegEx"
   ]
  },
  {
   "cell_type": "code",
   "execution_count": 369,
   "metadata": {},
   "outputs": [],
   "source": [
    "txt <- \"Halo semuanya! Selamat Pagi! Cuaca lagi bagus, nih buat touring.\""
   ]
  },
  {
   "cell_type": "code",
   "execution_count": 370,
   "metadata": {},
   "outputs": [
    {
     "data": {
      "text/html": [
       "'Halo semuanya! Selamat Pagi! Cuaca lagi bagus, nih buat touring.'"
      ],
      "text/latex": [
       "'Halo semuanya! Selamat Pagi! Cuaca lagi bagus, nih buat touring.'"
      ],
      "text/markdown": [
       "'Halo semuanya! Selamat Pagi! Cuaca lagi bagus, nih buat touring.'"
      ],
      "text/plain": [
       "[1] \"Halo semuanya! Selamat Pagi! Cuaca lagi bagus, nih buat touring.\""
      ]
     },
     "metadata": {},
     "output_type": "display_data"
    }
   ],
   "source": [
    "txt"
   ]
  },
  {
   "cell_type": "code",
   "execution_count": 371,
   "metadata": {},
   "outputs": [
    {
     "data": {
      "text/html": [
       "TRUE"
      ],
      "text/latex": [
       "TRUE"
      ],
      "text/markdown": [
       "TRUE"
      ],
      "text/plain": [
       "[1] TRUE"
      ]
     },
     "metadata": {},
     "output_type": "display_data"
    }
   ],
   "source": [
    "grepl(\"Halo\",txt) # kata \"Halo\" ada di txt"
   ]
  },
  {
   "cell_type": "code",
   "execution_count": 372,
   "metadata": {},
   "outputs": [
    {
     "data": {
      "text/html": [
       "FALSE"
      ],
      "text/latex": [
       "FALSE"
      ],
      "text/markdown": [
       "FALSE"
      ],
      "text/plain": [
       "[1] FALSE"
      ]
     },
     "metadata": {},
     "output_type": "display_data"
    }
   ],
   "source": [
    "grepl(\"Malam\", txt)"
   ]
  },
  {
   "cell_type": "code",
   "execution_count": 373,
   "metadata": {},
   "outputs": [
    {
     "data": {
      "text/html": [
       "FALSE"
      ],
      "text/latex": [
       "FALSE"
      ],
      "text/markdown": [
       "FALSE"
      ],
      "text/plain": [
       "[1] FALSE"
      ]
     },
     "metadata": {},
     "output_type": "display_data"
    }
   ],
   "source": [
    "grepl(\"halo\", txt) # Sifatnya case-sensitive"
   ]
  },
  {
   "cell_type": "code",
   "execution_count": 374,
   "metadata": {},
   "outputs": [
    {
     "data": {
      "text/html": [
       "<ol class=list-inline>\n",
       "\t<li>FALSE</li>\n",
       "\t<li>FALSE</li>\n",
       "\t<li>TRUE</li>\n",
       "\t<li>FALSE</li>\n",
       "\t<li>FALSE</li>\n",
       "\t<li>TRUE</li>\n",
       "</ol>\n"
      ],
      "text/latex": [
       "\\begin{enumerate*}\n",
       "\\item FALSE\n",
       "\\item FALSE\n",
       "\\item TRUE\n",
       "\\item FALSE\n",
       "\\item FALSE\n",
       "\\item TRUE\n",
       "\\end{enumerate*}\n"
      ],
      "text/markdown": [
       "1. FALSE\n",
       "2. FALSE\n",
       "3. TRUE\n",
       "4. FALSE\n",
       "5. FALSE\n",
       "6. TRUE\n",
       "\n",
       "\n"
      ],
      "text/plain": [
       "[1] FALSE FALSE  TRUE FALSE FALSE  TRUE"
      ]
     },
     "metadata": {},
     "output_type": "display_data"
    }
   ],
   "source": [
    "v <- c('a','d','k', 'l','t','k')\n",
    "grepl('k',v)"
   ]
  },
  {
   "cell_type": "code",
   "execution_count": 375,
   "metadata": {},
   "outputs": [
    {
     "data": {
      "text/html": [
       "<ol class=list-inline>\n",
       "\t<li>3</li>\n",
       "\t<li>6</li>\n",
       "</ol>\n"
      ],
      "text/latex": [
       "\\begin{enumerate*}\n",
       "\\item 3\n",
       "\\item 6\n",
       "\\end{enumerate*}\n"
      ],
      "text/markdown": [
       "1. 3\n",
       "2. 6\n",
       "\n",
       "\n"
      ],
      "text/plain": [
       "[1] 3 6"
      ]
     },
     "metadata": {},
     "output_type": "display_data"
    }
   ],
   "source": [
    "grep('k',v) # outputnya indeks"
   ]
  },
  {
   "cell_type": "code",
   "execution_count": 376,
   "metadata": {},
   "outputs": [
    {
     "data": {
      "text/html": [
       "1"
      ],
      "text/latex": [
       "1"
      ],
      "text/markdown": [
       "1"
      ],
      "text/plain": [
       "[1] 1"
      ]
     },
     "metadata": {},
     "output_type": "display_data"
    }
   ],
   "source": [
    "grep('a',v)"
   ]
  },
  {
   "cell_type": "markdown",
   "metadata": {},
   "source": [
    "## Fungsi - fungsi matematika"
   ]
  },
  {
   "cell_type": "markdown",
   "metadata": {},
   "source": [
    "### `abs()`: menghitung nilai absolut"
   ]
  },
  {
   "cell_type": "code",
   "execution_count": 377,
   "metadata": {},
   "outputs": [
    {
     "data": {
      "text/html": [
       "2"
      ],
      "text/latex": [
       "2"
      ],
      "text/markdown": [
       "2"
      ],
      "text/plain": [
       "[1] 2"
      ]
     },
     "metadata": {},
     "output_type": "display_data"
    }
   ],
   "source": [
    "abs(-2)"
   ]
  },
  {
   "cell_type": "code",
   "execution_count": 378,
   "metadata": {},
   "outputs": [
    {
     "data": {
      "text/html": [
       "<ol class=list-inline>\n",
       "\t<li>3</li>\n",
       "\t<li>5</li>\n",
       "\t<li>7</li>\n",
       "\t<li>10</li>\n",
       "</ol>\n"
      ],
      "text/latex": [
       "\\begin{enumerate*}\n",
       "\\item 3\n",
       "\\item 5\n",
       "\\item 7\n",
       "\\item 10\n",
       "\\end{enumerate*}\n"
      ],
      "text/markdown": [
       "1. 3\n",
       "2. 5\n",
       "3. 7\n",
       "4. 10\n",
       "\n",
       "\n"
      ],
      "text/plain": [
       "[1]  3  5  7 10"
      ]
     },
     "metadata": {},
     "output_type": "display_data"
    }
   ],
   "source": [
    "v <- c(-3,-5,7,10)\n",
    "abs(v)"
   ]
  },
  {
   "cell_type": "markdown",
   "metadata": {},
   "source": [
    "### `sum()`: menghitung penjumlahan seluruh elemen"
   ]
  },
  {
   "cell_type": "code",
   "execution_count": 379,
   "metadata": {},
   "outputs": [
    {
     "data": {
      "text/html": [
       "12"
      ],
      "text/latex": [
       "12"
      ],
      "text/markdown": [
       "12"
      ],
      "text/plain": [
       "[1] 12"
      ]
     },
     "metadata": {},
     "output_type": "display_data"
    }
   ],
   "source": [
    "sum(2,4,6)"
   ]
  },
  {
   "cell_type": "code",
   "execution_count": 380,
   "metadata": {},
   "outputs": [
    {
     "data": {
      "text/html": [
       "14"
      ],
      "text/latex": [
       "14"
      ],
      "text/markdown": [
       "14"
      ],
      "text/plain": [
       "[1] 14"
      ]
     },
     "metadata": {},
     "output_type": "display_data"
    }
   ],
   "source": [
    "v <- c(2,3,4,5)\n",
    "sum(v)"
   ]
  },
  {
   "cell_type": "markdown",
   "metadata": {},
   "source": [
    "### `mean()`: menghitung rata - rata aritmatika   "
   ]
  },
  {
   "cell_type": "code",
   "execution_count": 381,
   "metadata": {},
   "outputs": [
    {
     "data": {
      "text/html": [
       "3.5"
      ],
      "text/latex": [
       "3.5"
      ],
      "text/markdown": [
       "3.5"
      ],
      "text/plain": [
       "[1] 3.5"
      ]
     },
     "metadata": {},
     "output_type": "display_data"
    }
   ],
   "source": [
    "mean(v)"
   ]
  },
  {
   "cell_type": "code",
   "execution_count": 382,
   "metadata": {},
   "outputs": [
    {
     "data": {
      "text/html": [
       "3"
      ],
      "text/latex": [
       "3"
      ],
      "text/markdown": [
       "3"
      ],
      "text/plain": [
       "[1] 3"
      ]
     },
     "metadata": {},
     "output_type": "display_data"
    }
   ],
   "source": [
    "mean(3,4)"
   ]
  },
  {
   "cell_type": "markdown",
   "metadata": {},
   "source": [
    "### `round()`: membulatkan nilai"
   ]
  },
  {
   "cell_type": "code",
   "execution_count": 383,
   "metadata": {},
   "outputs": [
    {
     "data": {
      "text/html": [
       "3"
      ],
      "text/latex": [
       "3"
      ],
      "text/markdown": [
       "3"
      ],
      "text/plain": [
       "[1] 3"
      ]
     },
     "metadata": {},
     "output_type": "display_data"
    }
   ],
   "source": [
    "round(2.777645)"
   ]
  },
  {
   "cell_type": "code",
   "execution_count": 384,
   "metadata": {},
   "outputs": [
    {
     "data": {
      "text/html": [
       "2.78"
      ],
      "text/latex": [
       "2.78"
      ],
      "text/markdown": [
       "2.78"
      ],
      "text/plain": [
       "[1] 2.78"
      ]
     },
     "metadata": {},
     "output_type": "display_data"
    }
   ],
   "source": [
    "round(2.777645, digits=2)"
   ]
  },
  {
   "cell_type": "code",
   "execution_count": 385,
   "metadata": {},
   "outputs": [
    {
     "data": {
      "text/html": [
       "2.7776"
      ],
      "text/latex": [
       "2.7776"
      ],
      "text/markdown": [
       "2.7776"
      ],
      "text/plain": [
       "[1] 2.7776"
      ]
     },
     "metadata": {},
     "output_type": "display_data"
    }
   ],
   "source": [
    "round(2.777645, 4)"
   ]
  },
  {
   "cell_type": "markdown",
   "metadata": {},
   "source": [
    "## *Dates* dan *Timestemps*"
   ]
  },
  {
   "cell_type": "code",
   "execution_count": 386,
   "metadata": {},
   "outputs": [
    {
     "data": {
      "text/html": [
       "<time datetime=\"2020-06-30\">2020-06-30</time>"
      ],
      "text/latex": [
       "2020-06-30"
      ],
      "text/markdown": [
       "2020-06-30"
      ],
      "text/plain": [
       "[1] \"2020-06-30\""
      ]
     },
     "metadata": {},
     "output_type": "display_data"
    }
   ],
   "source": [
    "Sys.Date() # waktu saat ini"
   ]
  },
  {
   "cell_type": "code",
   "execution_count": 387,
   "metadata": {},
   "outputs": [
    {
     "data": {
      "text/html": [
       "<time datetime=\"2020-06-30\">2020-06-30</time>"
      ],
      "text/latex": [
       "2020-06-30"
      ],
      "text/markdown": [
       "2020-06-30"
      ],
      "text/plain": [
       "[1] \"2020-06-30\""
      ]
     },
     "metadata": {},
     "output_type": "display_data"
    }
   ],
   "source": [
    "d <- Sys.Date()\n",
    "d"
   ]
  },
  {
   "cell_type": "code",
   "execution_count": 388,
   "metadata": {},
   "outputs": [
    {
     "data": {
      "text/html": [
       "'Date'"
      ],
      "text/latex": [
       "'Date'"
      ],
      "text/markdown": [
       "'Date'"
      ],
      "text/plain": [
       "[1] \"Date\""
      ]
     },
     "metadata": {},
     "output_type": "display_data"
    }
   ],
   "source": [
    "class(d)"
   ]
  },
  {
   "cell_type": "code",
   "execution_count": 389,
   "metadata": {},
   "outputs": [
    {
     "data": {
      "text/html": [
       "'1993-03-13'"
      ],
      "text/latex": [
       "'1993-03-13'"
      ],
      "text/markdown": [
       "'1993-03-13'"
      ],
      "text/plain": [
       "[1] \"1993-03-13\""
      ]
     },
     "metadata": {},
     "output_type": "display_data"
    }
   ],
   "source": [
    "d <- '1993-03-13'\n",
    "d"
   ]
  },
  {
   "cell_type": "code",
   "execution_count": 390,
   "metadata": {},
   "outputs": [
    {
     "data": {
      "text/html": [
       "'character'"
      ],
      "text/latex": [
       "'character'"
      ],
      "text/markdown": [
       "'character'"
      ],
      "text/plain": [
       "[1] \"character\""
      ]
     },
     "metadata": {},
     "output_type": "display_data"
    }
   ],
   "source": [
    "class(d)"
   ]
  },
  {
   "cell_type": "code",
   "execution_count": 391,
   "metadata": {},
   "outputs": [
    {
     "data": {
      "text/html": [
       "<time datetime=\"1993-03-13\">1993-03-13</time>"
      ],
      "text/latex": [
       "1993-03-13"
      ],
      "text/markdown": [
       "1993-03-13"
      ],
      "text/plain": [
       "[1] \"1993-03-13\""
      ]
     },
     "metadata": {},
     "output_type": "display_data"
    }
   ],
   "source": [
    "# dikonversi menjadi date\n",
    "b.day <- as.Date(d)\n",
    "b.day"
   ]
  },
  {
   "cell_type": "code",
   "execution_count": 392,
   "metadata": {},
   "outputs": [
    {
     "data": {
      "text/html": [
       "'Date'"
      ],
      "text/latex": [
       "'Date'"
      ],
      "text/markdown": [
       "'Date'"
      ],
      "text/plain": [
       "[1] \"Date\""
      ]
     },
     "metadata": {},
     "output_type": "display_data"
    }
   ],
   "source": [
    "class(b.day)"
   ]
  },
  {
   "cell_type": "code",
   "execution_count": 393,
   "metadata": {},
   "outputs": [
    {
     "ename": "ERROR",
     "evalue": "Error in charToDate(x): character string is not in a standard unambiguous format\n",
     "output_type": "error",
     "traceback": [
      "Error in charToDate(x): character string is not in a standard unambiguous format\nTraceback:\n",
      "1. as.Date(\"Mar-13-93\")",
      "2. as.Date.character(\"Mar-13-93\")",
      "3. charToDate(x)",
      "4. stop(\"character string is not in a standard unambiguous format\")"
     ]
    }
   ],
   "source": [
    "as.Date('Mar-13-93') # format tidak sesuai"
   ]
  },
  {
   "cell_type": "code",
   "execution_count": 394,
   "metadata": {},
   "outputs": [
    {
     "data": {
      "text/html": [
       "<time datetime=\"1993-03-13\">1993-03-13</time>"
      ],
      "text/latex": [
       "1993-03-13"
      ],
      "text/markdown": [
       "1993-03-13"
      ],
      "text/plain": [
       "[1] \"1993-03-13\""
      ]
     },
     "metadata": {},
     "output_type": "display_data"
    }
   ],
   "source": [
    "as.Date('Mar-13-93', format = '%b-%d-%y')"
   ]
  },
  {
   "cell_type": "markdown",
   "metadata": {},
   "source": [
    "* `%d`: hari (desimal)\n",
    "* `%m`: bulan (desimal)\n",
    "* `%b`: bulan (singkatan)\n",
    "* `%B`: bulan (tidak disingkat)\n",
    "* `%y`: tahun (2 digit)\n",
    "* `%Y`: tahun (4 digit)"
   ]
  },
  {
   "cell_type": "code",
   "execution_count": 395,
   "metadata": {},
   "outputs": [
    {
     "data": {
      "text/html": [
       "<time datetime=\"2009-03-01\">2009-03-01</time>"
      ],
      "text/latex": [
       "2009-03-01"
      ],
      "text/markdown": [
       "2009-03-01"
      ],
      "text/plain": [
       "[1] \"2009-03-01\""
      ]
     },
     "metadata": {},
     "output_type": "display_data"
    }
   ],
   "source": [
    "as.Date('March,01,2009', format= \"%B, %d, %Y\")"
   ]
  },
  {
   "cell_type": "code",
   "execution_count": 396,
   "metadata": {},
   "outputs": [],
   "source": [
    "# POSIXct"
   ]
  },
  {
   "cell_type": "code",
   "execution_count": 397,
   "metadata": {},
   "outputs": [
    {
     "data": {
      "text/plain": [
       "[1] \"2020-06-30 11:03:05 WIB\""
      ]
     },
     "metadata": {},
     "output_type": "display_data"
    }
   ],
   "source": [
    "as.POSIXct('11:03:05', format='%H:%M:%S')"
   ]
  },
  {
   "cell_type": "code",
   "execution_count": 398,
   "metadata": {},
   "outputs": [
    {
     "data": {
      "text/plain": [
       "[1] \"2020-06-30 11:03:05 WIB\""
      ]
     },
     "metadata": {},
     "output_type": "display_data"
    }
   ],
   "source": [
    "strptime('11:03:05', format = '%H:%M:%S') # lebih banyak dipakai di pemrograman R"
   ]
  },
  {
   "cell_type": "markdown",
   "metadata": {},
   "source": [
    "# Manipulasi data"
   ]
  },
  {
   "cell_type": "markdown",
   "metadata": {},
   "source": [
    "## dplyr"
   ]
  },
  {
   "cell_type": "code",
   "execution_count": 399,
   "metadata": {},
   "outputs": [
    {
     "name": "stderr",
     "output_type": "stream",
     "text": [
      "Updating HTML index of packages in '.Library'\n",
      "Making 'packages.html' ... done\n",
      "Updating HTML index of packages in '.Library'\n",
      "Making 'packages.html' ... done\n"
     ]
    }
   ],
   "source": [
    "install.packages(\"dplyr\")\n",
    "install.packages(\"nycflights13\")"
   ]
  },
  {
   "cell_type": "code",
   "execution_count": 400,
   "metadata": {},
   "outputs": [
    {
     "name": "stderr",
     "output_type": "stream",
     "text": [
      "\n",
      "Attaching package: ‘dplyr’\n",
      "\n",
      "The following objects are masked from ‘package:stats’:\n",
      "\n",
      "    filter, lag\n",
      "\n",
      "The following objects are masked from ‘package:base’:\n",
      "\n",
      "    intersect, setdiff, setequal, union\n",
      "\n"
     ]
    }
   ],
   "source": [
    "library(dplyr)\n",
    "library(nycflights13)"
   ]
  },
  {
   "cell_type": "code",
   "execution_count": 401,
   "metadata": {},
   "outputs": [
    {
     "data": {
      "text/html": [
       "<table>\n",
       "<thead><tr><th scope=col>year</th><th scope=col>month</th><th scope=col>day</th><th scope=col>dep_time</th><th scope=col>sched_dep_time</th><th scope=col>dep_delay</th><th scope=col>arr_time</th><th scope=col>sched_arr_time</th><th scope=col>arr_delay</th><th scope=col>carrier</th><th scope=col>flight</th><th scope=col>tailnum</th><th scope=col>origin</th><th scope=col>dest</th><th scope=col>air_time</th><th scope=col>distance</th><th scope=col>hour</th><th scope=col>minute</th><th scope=col>time_hour</th></tr></thead>\n",
       "<tbody>\n",
       "\t<tr><td>2013               </td><td>1                  </td><td>1                  </td><td>517                </td><td>515                </td><td> 2                 </td><td> 830               </td><td> 819               </td><td> 11                </td><td>UA                 </td><td>1545               </td><td>N14228             </td><td>EWR                </td><td>IAH                </td><td>227                </td><td>1400               </td><td>5                  </td><td>15                 </td><td>2013-01-01 05:00:00</td></tr>\n",
       "\t<tr><td>2013               </td><td>1                  </td><td>1                  </td><td>533                </td><td>529                </td><td> 4                 </td><td> 850               </td><td> 830               </td><td> 20                </td><td>UA                 </td><td>1714               </td><td>N24211             </td><td>LGA                </td><td>IAH                </td><td>227                </td><td>1416               </td><td>5                  </td><td>29                 </td><td>2013-01-01 05:00:00</td></tr>\n",
       "\t<tr><td>2013               </td><td>1                  </td><td>1                  </td><td>542                </td><td>540                </td><td> 2                 </td><td> 923               </td><td> 850               </td><td> 33                </td><td>AA                 </td><td>1141               </td><td>N619AA             </td><td>JFK                </td><td>MIA                </td><td>160                </td><td>1089               </td><td>5                  </td><td>40                 </td><td>2013-01-01 05:00:00</td></tr>\n",
       "\t<tr><td>2013               </td><td>1                  </td><td>1                  </td><td>544                </td><td>545                </td><td>-1                 </td><td>1004               </td><td>1022               </td><td>-18                </td><td>B6                 </td><td> 725               </td><td>N804JB             </td><td>JFK                </td><td>BQN                </td><td>183                </td><td>1576               </td><td>5                  </td><td>45                 </td><td>2013-01-01 05:00:00</td></tr>\n",
       "\t<tr><td>2013               </td><td>1                  </td><td>1                  </td><td>554                </td><td>600                </td><td>-6                 </td><td> 812               </td><td> 837               </td><td>-25                </td><td>DL                 </td><td> 461               </td><td>N668DN             </td><td>LGA                </td><td>ATL                </td><td>116                </td><td> 762               </td><td>6                  </td><td> 0                 </td><td>2013-01-01 06:00:00</td></tr>\n",
       "\t<tr><td>2013               </td><td>1                  </td><td>1                  </td><td>554                </td><td>558                </td><td>-4                 </td><td> 740               </td><td> 728               </td><td> 12                </td><td>UA                 </td><td>1696               </td><td>N39463             </td><td>EWR                </td><td>ORD                </td><td>150                </td><td> 719               </td><td>5                  </td><td>58                 </td><td>2013-01-01 05:00:00</td></tr>\n",
       "</tbody>\n",
       "</table>\n"
      ],
      "text/latex": [
       "\\begin{tabular}{r|lllllllllllllllllll}\n",
       " year & month & day & dep\\_time & sched\\_dep\\_time & dep\\_delay & arr\\_time & sched\\_arr\\_time & arr\\_delay & carrier & flight & tailnum & origin & dest & air\\_time & distance & hour & minute & time\\_hour\\\\\n",
       "\\hline\n",
       "\t 2013                & 1                   & 1                   & 517                 & 515                 &  2                  &  830                &  819                &  11                 & UA                  & 1545                & N14228              & EWR                 & IAH                 & 227                 & 1400                & 5                   & 15                  & 2013-01-01 05:00:00\\\\\n",
       "\t 2013                & 1                   & 1                   & 533                 & 529                 &  4                  &  850                &  830                &  20                 & UA                  & 1714                & N24211              & LGA                 & IAH                 & 227                 & 1416                & 5                   & 29                  & 2013-01-01 05:00:00\\\\\n",
       "\t 2013                & 1                   & 1                   & 542                 & 540                 &  2                  &  923                &  850                &  33                 & AA                  & 1141                & N619AA              & JFK                 & MIA                 & 160                 & 1089                & 5                   & 40                  & 2013-01-01 05:00:00\\\\\n",
       "\t 2013                & 1                   & 1                   & 544                 & 545                 & -1                  & 1004                & 1022                & -18                 & B6                  &  725                & N804JB              & JFK                 & BQN                 & 183                 & 1576                & 5                   & 45                  & 2013-01-01 05:00:00\\\\\n",
       "\t 2013                & 1                   & 1                   & 554                 & 600                 & -6                  &  812                &  837                & -25                 & DL                  &  461                & N668DN              & LGA                 & ATL                 & 116                 &  762                & 6                   &  0                  & 2013-01-01 06:00:00\\\\\n",
       "\t 2013                & 1                   & 1                   & 554                 & 558                 & -4                  &  740                &  728                &  12                 & UA                  & 1696                & N39463              & EWR                 & ORD                 & 150                 &  719                & 5                   & 58                  & 2013-01-01 05:00:00\\\\\n",
       "\\end{tabular}\n"
      ],
      "text/markdown": [
       "\n",
       "| year | month | day | dep_time | sched_dep_time | dep_delay | arr_time | sched_arr_time | arr_delay | carrier | flight | tailnum | origin | dest | air_time | distance | hour | minute | time_hour |\n",
       "|---|---|---|---|---|---|---|---|---|---|---|---|---|---|---|---|---|---|---|\n",
       "| 2013                | 1                   | 1                   | 517                 | 515                 |  2                  |  830                |  819                |  11                 | UA                  | 1545                | N14228              | EWR                 | IAH                 | 227                 | 1400                | 5                   | 15                  | 2013-01-01 05:00:00 |\n",
       "| 2013                | 1                   | 1                   | 533                 | 529                 |  4                  |  850                |  830                |  20                 | UA                  | 1714                | N24211              | LGA                 | IAH                 | 227                 | 1416                | 5                   | 29                  | 2013-01-01 05:00:00 |\n",
       "| 2013                | 1                   | 1                   | 542                 | 540                 |  2                  |  923                |  850                |  33                 | AA                  | 1141                | N619AA              | JFK                 | MIA                 | 160                 | 1089                | 5                   | 40                  | 2013-01-01 05:00:00 |\n",
       "| 2013                | 1                   | 1                   | 544                 | 545                 | -1                  | 1004                | 1022                | -18                 | B6                  |  725                | N804JB              | JFK                 | BQN                 | 183                 | 1576                | 5                   | 45                  | 2013-01-01 05:00:00 |\n",
       "| 2013                | 1                   | 1                   | 554                 | 600                 | -6                  |  812                |  837                | -25                 | DL                  |  461                | N668DN              | LGA                 | ATL                 | 116                 |  762                | 6                   |  0                  | 2013-01-01 06:00:00 |\n",
       "| 2013                | 1                   | 1                   | 554                 | 558                 | -4                  |  740                |  728                |  12                 | UA                  | 1696                | N39463              | EWR                 | ORD                 | 150                 |  719                | 5                   | 58                  | 2013-01-01 05:00:00 |\n",
       "\n"
      ],
      "text/plain": [
       "  year month day dep_time sched_dep_time dep_delay arr_time sched_arr_time\n",
       "1 2013 1     1   517      515             2         830      819          \n",
       "2 2013 1     1   533      529             4         850      830          \n",
       "3 2013 1     1   542      540             2         923      850          \n",
       "4 2013 1     1   544      545            -1        1004     1022          \n",
       "5 2013 1     1   554      600            -6         812      837          \n",
       "6 2013 1     1   554      558            -4         740      728          \n",
       "  arr_delay carrier flight tailnum origin dest air_time distance hour minute\n",
       "1  11       UA      1545   N14228  EWR    IAH  227      1400     5    15    \n",
       "2  20       UA      1714   N24211  LGA    IAH  227      1416     5    29    \n",
       "3  33       AA      1141   N619AA  JFK    MIA  160      1089     5    40    \n",
       "4 -18       B6       725   N804JB  JFK    BQN  183      1576     5    45    \n",
       "5 -25       DL       461   N668DN  LGA    ATL  116       762     6     0    \n",
       "6  12       UA      1696   N39463  EWR    ORD  150       719     5    58    \n",
       "  time_hour          \n",
       "1 2013-01-01 05:00:00\n",
       "2 2013-01-01 05:00:00\n",
       "3 2013-01-01 05:00:00\n",
       "4 2013-01-01 05:00:00\n",
       "5 2013-01-01 06:00:00\n",
       "6 2013-01-01 05:00:00"
      ]
     },
     "metadata": {},
     "output_type": "display_data"
    }
   ],
   "source": [
    "head(flights)"
   ]
  },
  {
   "cell_type": "markdown",
   "metadata": {},
   "source": [
    "### `filter()`"
   ]
  },
  {
   "cell_type": "code",
   "execution_count": 402,
   "metadata": {},
   "outputs": [
    {
     "data": {
      "text/html": [
       "<table>\n",
       "<thead><tr><th scope=col>year</th><th scope=col>month</th><th scope=col>day</th><th scope=col>dep_time</th><th scope=col>sched_dep_time</th><th scope=col>dep_delay</th><th scope=col>arr_time</th><th scope=col>sched_arr_time</th><th scope=col>arr_delay</th><th scope=col>carrier</th><th scope=col>flight</th><th scope=col>tailnum</th><th scope=col>origin</th><th scope=col>dest</th><th scope=col>air_time</th><th scope=col>distance</th><th scope=col>hour</th><th scope=col>minute</th><th scope=col>time_hour</th></tr></thead>\n",
       "<tbody>\n",
       "\t<tr><td>2013               </td><td>5                  </td><td>2                  </td><td>539                </td><td>540                </td><td> -1                </td><td>850                </td><td>840                </td><td> 10                </td><td>AA                 </td><td> 701               </td><td>N5DYAA             </td><td>JFK                </td><td>MIA                </td><td>149                </td><td>1089               </td><td>5                  </td><td>40                 </td><td>2013-05-02 05:00:00</td></tr>\n",
       "\t<tr><td>2013               </td><td>5                  </td><td>2                  </td><td>549                </td><td>600                </td><td>-11                </td><td>823                </td><td>850                </td><td>-27                </td><td>AA                 </td><td> 707               </td><td>N3ANAA             </td><td>LGA                </td><td>DFW                </td><td>191                </td><td>1389               </td><td>6                  </td><td> 0                 </td><td>2013-05-02 06:00:00</td></tr>\n",
       "\t<tr><td>2013               </td><td>5                  </td><td>2                  </td><td>558                </td><td>605                </td><td> -7                </td><td>855                </td><td>910                </td><td>-15                </td><td>AA                 </td><td>1837               </td><td>N3FRAA             </td><td>LGA                </td><td>MIA                </td><td>149                </td><td>1096               </td><td>6                  </td><td> 5                 </td><td>2013-05-02 06:00:00</td></tr>\n",
       "\t<tr><td>2013               </td><td>5                  </td><td>2                  </td><td>603                </td><td>610                </td><td> -7                </td><td>729                </td><td>745                </td><td>-16                </td><td>AA                 </td><td> 301               </td><td>N4YJAA             </td><td>LGA                </td><td>ORD                </td><td>109                </td><td> 733               </td><td>6                  </td><td>10                 </td><td>2013-05-02 06:00:00</td></tr>\n",
       "\t<tr><td>2013               </td><td>5                  </td><td>2                  </td><td>611                </td><td>615                </td><td> -4                </td><td>900                </td><td>915                </td><td>-15                </td><td>AA                 </td><td>1895               </td><td>N3HEAA             </td><td>EWR                </td><td>MIA                </td><td>146                </td><td>1085               </td><td>6                  </td><td>15                 </td><td>2013-05-02 06:00:00</td></tr>\n",
       "\t<tr><td>2013               </td><td>5                  </td><td>2                  </td><td>627                </td><td>630                </td><td> -3                </td><td>736                </td><td>805                </td><td>-29                </td><td>AA                 </td><td> 303               </td><td>N200AA             </td><td>LGA                </td><td>ORD                </td><td>112                </td><td> 733               </td><td>6                  </td><td>30                 </td><td>2013-05-02 06:00:00</td></tr>\n",
       "</tbody>\n",
       "</table>\n"
      ],
      "text/latex": [
       "\\begin{tabular}{r|lllllllllllllllllll}\n",
       " year & month & day & dep\\_time & sched\\_dep\\_time & dep\\_delay & arr\\_time & sched\\_arr\\_time & arr\\_delay & carrier & flight & tailnum & origin & dest & air\\_time & distance & hour & minute & time\\_hour\\\\\n",
       "\\hline\n",
       "\t 2013                & 5                   & 2                   & 539                 & 540                 &  -1                 & 850                 & 840                 &  10                 & AA                  &  701                & N5DYAA              & JFK                 & MIA                 & 149                 & 1089                & 5                   & 40                  & 2013-05-02 05:00:00\\\\\n",
       "\t 2013                & 5                   & 2                   & 549                 & 600                 & -11                 & 823                 & 850                 & -27                 & AA                  &  707                & N3ANAA              & LGA                 & DFW                 & 191                 & 1389                & 6                   &  0                  & 2013-05-02 06:00:00\\\\\n",
       "\t 2013                & 5                   & 2                   & 558                 & 605                 &  -7                 & 855                 & 910                 & -15                 & AA                  & 1837                & N3FRAA              & LGA                 & MIA                 & 149                 & 1096                & 6                   &  5                  & 2013-05-02 06:00:00\\\\\n",
       "\t 2013                & 5                   & 2                   & 603                 & 610                 &  -7                 & 729                 & 745                 & -16                 & AA                  &  301                & N4YJAA              & LGA                 & ORD                 & 109                 &  733                & 6                   & 10                  & 2013-05-02 06:00:00\\\\\n",
       "\t 2013                & 5                   & 2                   & 611                 & 615                 &  -4                 & 900                 & 915                 & -15                 & AA                  & 1895                & N3HEAA              & EWR                 & MIA                 & 146                 & 1085                & 6                   & 15                  & 2013-05-02 06:00:00\\\\\n",
       "\t 2013                & 5                   & 2                   & 627                 & 630                 &  -3                 & 736                 & 805                 & -29                 & AA                  &  303                & N200AA              & LGA                 & ORD                 & 112                 &  733                & 6                   & 30                  & 2013-05-02 06:00:00\\\\\n",
       "\\end{tabular}\n"
      ],
      "text/markdown": [
       "\n",
       "| year | month | day | dep_time | sched_dep_time | dep_delay | arr_time | sched_arr_time | arr_delay | carrier | flight | tailnum | origin | dest | air_time | distance | hour | minute | time_hour |\n",
       "|---|---|---|---|---|---|---|---|---|---|---|---|---|---|---|---|---|---|---|\n",
       "| 2013                | 5                   | 2                   | 539                 | 540                 |  -1                 | 850                 | 840                 |  10                 | AA                  |  701                | N5DYAA              | JFK                 | MIA                 | 149                 | 1089                | 5                   | 40                  | 2013-05-02 05:00:00 |\n",
       "| 2013                | 5                   | 2                   | 549                 | 600                 | -11                 | 823                 | 850                 | -27                 | AA                  |  707                | N3ANAA              | LGA                 | DFW                 | 191                 | 1389                | 6                   |  0                  | 2013-05-02 06:00:00 |\n",
       "| 2013                | 5                   | 2                   | 558                 | 605                 |  -7                 | 855                 | 910                 | -15                 | AA                  | 1837                | N3FRAA              | LGA                 | MIA                 | 149                 | 1096                | 6                   |  5                  | 2013-05-02 06:00:00 |\n",
       "| 2013                | 5                   | 2                   | 603                 | 610                 |  -7                 | 729                 | 745                 | -16                 | AA                  |  301                | N4YJAA              | LGA                 | ORD                 | 109                 |  733                | 6                   | 10                  | 2013-05-02 06:00:00 |\n",
       "| 2013                | 5                   | 2                   | 611                 | 615                 |  -4                 | 900                 | 915                 | -15                 | AA                  | 1895                | N3HEAA              | EWR                 | MIA                 | 146                 | 1085                | 6                   | 15                  | 2013-05-02 06:00:00 |\n",
       "| 2013                | 5                   | 2                   | 627                 | 630                 |  -3                 | 736                 | 805                 | -29                 | AA                  |  303                | N200AA              | LGA                 | ORD                 | 112                 |  733                | 6                   | 30                  | 2013-05-02 06:00:00 |\n",
       "\n"
      ],
      "text/plain": [
       "  year month day dep_time sched_dep_time dep_delay arr_time sched_arr_time\n",
       "1 2013 5     2   539      540             -1       850      840           \n",
       "2 2013 5     2   549      600            -11       823      850           \n",
       "3 2013 5     2   558      605             -7       855      910           \n",
       "4 2013 5     2   603      610             -7       729      745           \n",
       "5 2013 5     2   611      615             -4       900      915           \n",
       "6 2013 5     2   627      630             -3       736      805           \n",
       "  arr_delay carrier flight tailnum origin dest air_time distance hour minute\n",
       "1  10       AA       701   N5DYAA  JFK    MIA  149      1089     5    40    \n",
       "2 -27       AA       707   N3ANAA  LGA    DFW  191      1389     6     0    \n",
       "3 -15       AA      1837   N3FRAA  LGA    MIA  149      1096     6     5    \n",
       "4 -16       AA       301   N4YJAA  LGA    ORD  109       733     6    10    \n",
       "5 -15       AA      1895   N3HEAA  EWR    MIA  146      1085     6    15    \n",
       "6 -29       AA       303   N200AA  LGA    ORD  112       733     6    30    \n",
       "  time_hour          \n",
       "1 2013-05-02 05:00:00\n",
       "2 2013-05-02 06:00:00\n",
       "3 2013-05-02 06:00:00\n",
       "4 2013-05-02 06:00:00\n",
       "5 2013-05-02 06:00:00\n",
       "6 2013-05-02 06:00:00"
      ]
     },
     "metadata": {},
     "output_type": "display_data"
    }
   ],
   "source": [
    "head(filter(flights,month == 5, day == 2, carrier == 'AA'))"
   ]
  },
  {
   "cell_type": "code",
   "execution_count": 403,
   "metadata": {},
   "outputs": [
    {
     "data": {
      "text/html": [
       "<table>\n",
       "<thead><tr><th scope=col>year</th><th scope=col>month</th><th scope=col>day</th><th scope=col>dep_time</th><th scope=col>sched_dep_time</th><th scope=col>dep_delay</th><th scope=col>arr_time</th><th scope=col>sched_arr_time</th><th scope=col>arr_delay</th><th scope=col>carrier</th><th scope=col>flight</th><th scope=col>tailnum</th><th scope=col>origin</th><th scope=col>dest</th><th scope=col>air_time</th><th scope=col>distance</th><th scope=col>hour</th><th scope=col>minute</th><th scope=col>time_hour</th></tr></thead>\n",
       "<tbody>\n",
       "\t<tr><td>2013               </td><td>5                  </td><td>2                  </td><td>539                </td><td>540                </td><td> -1                </td><td>850                </td><td>840                </td><td> 10                </td><td>AA                 </td><td> 701               </td><td>N5DYAA             </td><td>JFK                </td><td>MIA                </td><td>149                </td><td>1089               </td><td>5                  </td><td>40                 </td><td>2013-05-02 05:00:00</td></tr>\n",
       "\t<tr><td>2013               </td><td>5                  </td><td>2                  </td><td>549                </td><td>600                </td><td>-11                </td><td>823                </td><td>850                </td><td>-27                </td><td>AA                 </td><td> 707               </td><td>N3ANAA             </td><td>LGA                </td><td>DFW                </td><td>191                </td><td>1389               </td><td>6                  </td><td> 0                 </td><td>2013-05-02 06:00:00</td></tr>\n",
       "\t<tr><td>2013               </td><td>5                  </td><td>2                  </td><td>558                </td><td>605                </td><td> -7                </td><td>855                </td><td>910                </td><td>-15                </td><td>AA                 </td><td>1837               </td><td>N3FRAA             </td><td>LGA                </td><td>MIA                </td><td>149                </td><td>1096               </td><td>6                  </td><td> 5                 </td><td>2013-05-02 06:00:00</td></tr>\n",
       "\t<tr><td>2013               </td><td>5                  </td><td>2                  </td><td>603                </td><td>610                </td><td> -7                </td><td>729                </td><td>745                </td><td>-16                </td><td>AA                 </td><td> 301               </td><td>N4YJAA             </td><td>LGA                </td><td>ORD                </td><td>109                </td><td> 733               </td><td>6                  </td><td>10                 </td><td>2013-05-02 06:00:00</td></tr>\n",
       "\t<tr><td>2013               </td><td>5                  </td><td>2                  </td><td>611                </td><td>615                </td><td> -4                </td><td>900                </td><td>915                </td><td>-15                </td><td>AA                 </td><td>1895               </td><td>N3HEAA             </td><td>EWR                </td><td>MIA                </td><td>146                </td><td>1085               </td><td>6                  </td><td>15                 </td><td>2013-05-02 06:00:00</td></tr>\n",
       "\t<tr><td>2013               </td><td>5                  </td><td>2                  </td><td>627                </td><td>630                </td><td> -3                </td><td>736                </td><td>805                </td><td>-29                </td><td>AA                 </td><td> 303               </td><td>N200AA             </td><td>LGA                </td><td>ORD                </td><td>112                </td><td> 733               </td><td>6                  </td><td>30                 </td><td>2013-05-02 06:00:00</td></tr>\n",
       "</tbody>\n",
       "</table>\n"
      ],
      "text/latex": [
       "\\begin{tabular}{r|lllllllllllllllllll}\n",
       " year & month & day & dep\\_time & sched\\_dep\\_time & dep\\_delay & arr\\_time & sched\\_arr\\_time & arr\\_delay & carrier & flight & tailnum & origin & dest & air\\_time & distance & hour & minute & time\\_hour\\\\\n",
       "\\hline\n",
       "\t 2013                & 5                   & 2                   & 539                 & 540                 &  -1                 & 850                 & 840                 &  10                 & AA                  &  701                & N5DYAA              & JFK                 & MIA                 & 149                 & 1089                & 5                   & 40                  & 2013-05-02 05:00:00\\\\\n",
       "\t 2013                & 5                   & 2                   & 549                 & 600                 & -11                 & 823                 & 850                 & -27                 & AA                  &  707                & N3ANAA              & LGA                 & DFW                 & 191                 & 1389                & 6                   &  0                  & 2013-05-02 06:00:00\\\\\n",
       "\t 2013                & 5                   & 2                   & 558                 & 605                 &  -7                 & 855                 & 910                 & -15                 & AA                  & 1837                & N3FRAA              & LGA                 & MIA                 & 149                 & 1096                & 6                   &  5                  & 2013-05-02 06:00:00\\\\\n",
       "\t 2013                & 5                   & 2                   & 603                 & 610                 &  -7                 & 729                 & 745                 & -16                 & AA                  &  301                & N4YJAA              & LGA                 & ORD                 & 109                 &  733                & 6                   & 10                  & 2013-05-02 06:00:00\\\\\n",
       "\t 2013                & 5                   & 2                   & 611                 & 615                 &  -4                 & 900                 & 915                 & -15                 & AA                  & 1895                & N3HEAA              & EWR                 & MIA                 & 146                 & 1085                & 6                   & 15                  & 2013-05-02 06:00:00\\\\\n",
       "\t 2013                & 5                   & 2                   & 627                 & 630                 &  -3                 & 736                 & 805                 & -29                 & AA                  &  303                & N200AA              & LGA                 & ORD                 & 112                 &  733                & 6                   & 30                  & 2013-05-02 06:00:00\\\\\n",
       "\\end{tabular}\n"
      ],
      "text/markdown": [
       "\n",
       "| year | month | day | dep_time | sched_dep_time | dep_delay | arr_time | sched_arr_time | arr_delay | carrier | flight | tailnum | origin | dest | air_time | distance | hour | minute | time_hour |\n",
       "|---|---|---|---|---|---|---|---|---|---|---|---|---|---|---|---|---|---|---|\n",
       "| 2013                | 5                   | 2                   | 539                 | 540                 |  -1                 | 850                 | 840                 |  10                 | AA                  |  701                | N5DYAA              | JFK                 | MIA                 | 149                 | 1089                | 5                   | 40                  | 2013-05-02 05:00:00 |\n",
       "| 2013                | 5                   | 2                   | 549                 | 600                 | -11                 | 823                 | 850                 | -27                 | AA                  |  707                | N3ANAA              | LGA                 | DFW                 | 191                 | 1389                | 6                   |  0                  | 2013-05-02 06:00:00 |\n",
       "| 2013                | 5                   | 2                   | 558                 | 605                 |  -7                 | 855                 | 910                 | -15                 | AA                  | 1837                | N3FRAA              | LGA                 | MIA                 | 149                 | 1096                | 6                   |  5                  | 2013-05-02 06:00:00 |\n",
       "| 2013                | 5                   | 2                   | 603                 | 610                 |  -7                 | 729                 | 745                 | -16                 | AA                  |  301                | N4YJAA              | LGA                 | ORD                 | 109                 |  733                | 6                   | 10                  | 2013-05-02 06:00:00 |\n",
       "| 2013                | 5                   | 2                   | 611                 | 615                 |  -4                 | 900                 | 915                 | -15                 | AA                  | 1895                | N3HEAA              | EWR                 | MIA                 | 146                 | 1085                | 6                   | 15                  | 2013-05-02 06:00:00 |\n",
       "| 2013                | 5                   | 2                   | 627                 | 630                 |  -3                 | 736                 | 805                 | -29                 | AA                  |  303                | N200AA              | LGA                 | ORD                 | 112                 |  733                | 6                   | 30                  | 2013-05-02 06:00:00 |\n",
       "\n"
      ],
      "text/plain": [
       "  year month day dep_time sched_dep_time dep_delay arr_time sched_arr_time\n",
       "1 2013 5     2   539      540             -1       850      840           \n",
       "2 2013 5     2   549      600            -11       823      850           \n",
       "3 2013 5     2   558      605             -7       855      910           \n",
       "4 2013 5     2   603      610             -7       729      745           \n",
       "5 2013 5     2   611      615             -4       900      915           \n",
       "6 2013 5     2   627      630             -3       736      805           \n",
       "  arr_delay carrier flight tailnum origin dest air_time distance hour minute\n",
       "1  10       AA       701   N5DYAA  JFK    MIA  149      1089     5    40    \n",
       "2 -27       AA       707   N3ANAA  LGA    DFW  191      1389     6     0    \n",
       "3 -15       AA      1837   N3FRAA  LGA    MIA  149      1096     6     5    \n",
       "4 -16       AA       301   N4YJAA  LGA    ORD  109       733     6    10    \n",
       "5 -15       AA      1895   N3HEAA  EWR    MIA  146      1085     6    15    \n",
       "6 -29       AA       303   N200AA  LGA    ORD  112       733     6    30    \n",
       "  time_hour          \n",
       "1 2013-05-02 05:00:00\n",
       "2 2013-05-02 06:00:00\n",
       "3 2013-05-02 06:00:00\n",
       "4 2013-05-02 06:00:00\n",
       "5 2013-05-02 06:00:00\n",
       "6 2013-05-02 06:00:00"
      ]
     },
     "metadata": {},
     "output_type": "display_data"
    }
   ],
   "source": [
    "head(flights[flights$month == 5 & flights$day == 2 & flights$carrier == 'AA',]) # ribet"
   ]
  },
  {
   "cell_type": "markdown",
   "metadata": {},
   "source": [
    "### `slice()`"
   ]
  },
  {
   "cell_type": "code",
   "execution_count": 404,
   "metadata": {},
   "outputs": [
    {
     "data": {
      "text/html": [
       "<table>\n",
       "<thead><tr><th scope=col>year</th><th scope=col>month</th><th scope=col>day</th><th scope=col>dep_time</th><th scope=col>sched_dep_time</th><th scope=col>dep_delay</th><th scope=col>arr_time</th><th scope=col>sched_arr_time</th><th scope=col>arr_delay</th><th scope=col>carrier</th><th scope=col>flight</th><th scope=col>tailnum</th><th scope=col>origin</th><th scope=col>dest</th><th scope=col>air_time</th><th scope=col>distance</th><th scope=col>hour</th><th scope=col>minute</th><th scope=col>time_hour</th></tr></thead>\n",
       "<tbody>\n",
       "\t<tr><td>2013               </td><td>1                  </td><td>1                  </td><td>517                </td><td>515                </td><td> 2                 </td><td> 830               </td><td> 819               </td><td> 11                </td><td>UA                 </td><td>1545               </td><td>N14228             </td><td>EWR                </td><td>IAH                </td><td>227                </td><td>1400               </td><td>5                  </td><td>15                 </td><td>2013-01-01 05:00:00</td></tr>\n",
       "\t<tr><td>2013               </td><td>1                  </td><td>1                  </td><td>533                </td><td>529                </td><td> 4                 </td><td> 850               </td><td> 830               </td><td> 20                </td><td>UA                 </td><td>1714               </td><td>N24211             </td><td>LGA                </td><td>IAH                </td><td>227                </td><td>1416               </td><td>5                  </td><td>29                 </td><td>2013-01-01 05:00:00</td></tr>\n",
       "\t<tr><td>2013               </td><td>1                  </td><td>1                  </td><td>542                </td><td>540                </td><td> 2                 </td><td> 923               </td><td> 850               </td><td> 33                </td><td>AA                 </td><td>1141               </td><td>N619AA             </td><td>JFK                </td><td>MIA                </td><td>160                </td><td>1089               </td><td>5                  </td><td>40                 </td><td>2013-01-01 05:00:00</td></tr>\n",
       "\t<tr><td>2013               </td><td>1                  </td><td>1                  </td><td>544                </td><td>545                </td><td>-1                 </td><td>1004               </td><td>1022               </td><td>-18                </td><td>B6                 </td><td> 725               </td><td>N804JB             </td><td>JFK                </td><td>BQN                </td><td>183                </td><td>1576               </td><td>5                  </td><td>45                 </td><td>2013-01-01 05:00:00</td></tr>\n",
       "\t<tr><td>2013               </td><td>1                  </td><td>1                  </td><td>554                </td><td>600                </td><td>-6                 </td><td> 812               </td><td> 837               </td><td>-25                </td><td>DL                 </td><td> 461               </td><td>N668DN             </td><td>LGA                </td><td>ATL                </td><td>116                </td><td> 762               </td><td>6                  </td><td> 0                 </td><td>2013-01-01 06:00:00</td></tr>\n",
       "\t<tr><td>2013               </td><td>1                  </td><td>1                  </td><td>554                </td><td>558                </td><td>-4                 </td><td> 740               </td><td> 728               </td><td> 12                </td><td>UA                 </td><td>1696               </td><td>N39463             </td><td>EWR                </td><td>ORD                </td><td>150                </td><td> 719               </td><td>5                  </td><td>58                 </td><td>2013-01-01 05:00:00</td></tr>\n",
       "\t<tr><td>2013               </td><td>1                  </td><td>1                  </td><td>555                </td><td>600                </td><td>-5                 </td><td> 913               </td><td> 854               </td><td> 19                </td><td>B6                 </td><td> 507               </td><td>N516JB             </td><td>EWR                </td><td>FLL                </td><td>158                </td><td>1065               </td><td>6                  </td><td> 0                 </td><td>2013-01-01 06:00:00</td></tr>\n",
       "\t<tr><td>2013               </td><td>1                  </td><td>1                  </td><td>557                </td><td>600                </td><td>-3                 </td><td> 709               </td><td> 723               </td><td>-14                </td><td>EV                 </td><td>5708               </td><td>N829AS             </td><td>LGA                </td><td>IAD                </td><td> 53                </td><td> 229               </td><td>6                  </td><td> 0                 </td><td>2013-01-01 06:00:00</td></tr>\n",
       "\t<tr><td>2013               </td><td>1                  </td><td>1                  </td><td>557                </td><td>600                </td><td>-3                 </td><td> 838               </td><td> 846               </td><td> -8                </td><td>B6                 </td><td>  79               </td><td>N593JB             </td><td>JFK                </td><td>MCO                </td><td>140                </td><td> 944               </td><td>6                  </td><td> 0                 </td><td>2013-01-01 06:00:00</td></tr>\n",
       "\t<tr><td>2013               </td><td>1                  </td><td>1                  </td><td>558                </td><td>600                </td><td>-2                 </td><td> 753               </td><td> 745               </td><td>  8                </td><td>AA                 </td><td> 301               </td><td>N3ALAA             </td><td>LGA                </td><td>ORD                </td><td>138                </td><td> 733               </td><td>6                  </td><td> 0                 </td><td>2013-01-01 06:00:00</td></tr>\n",
       "</tbody>\n",
       "</table>\n"
      ],
      "text/latex": [
       "\\begin{tabular}{r|lllllllllllllllllll}\n",
       " year & month & day & dep\\_time & sched\\_dep\\_time & dep\\_delay & arr\\_time & sched\\_arr\\_time & arr\\_delay & carrier & flight & tailnum & origin & dest & air\\_time & distance & hour & minute & time\\_hour\\\\\n",
       "\\hline\n",
       "\t 2013                & 1                   & 1                   & 517                 & 515                 &  2                  &  830                &  819                &  11                 & UA                  & 1545                & N14228              & EWR                 & IAH                 & 227                 & 1400                & 5                   & 15                  & 2013-01-01 05:00:00\\\\\n",
       "\t 2013                & 1                   & 1                   & 533                 & 529                 &  4                  &  850                &  830                &  20                 & UA                  & 1714                & N24211              & LGA                 & IAH                 & 227                 & 1416                & 5                   & 29                  & 2013-01-01 05:00:00\\\\\n",
       "\t 2013                & 1                   & 1                   & 542                 & 540                 &  2                  &  923                &  850                &  33                 & AA                  & 1141                & N619AA              & JFK                 & MIA                 & 160                 & 1089                & 5                   & 40                  & 2013-01-01 05:00:00\\\\\n",
       "\t 2013                & 1                   & 1                   & 544                 & 545                 & -1                  & 1004                & 1022                & -18                 & B6                  &  725                & N804JB              & JFK                 & BQN                 & 183                 & 1576                & 5                   & 45                  & 2013-01-01 05:00:00\\\\\n",
       "\t 2013                & 1                   & 1                   & 554                 & 600                 & -6                  &  812                &  837                & -25                 & DL                  &  461                & N668DN              & LGA                 & ATL                 & 116                 &  762                & 6                   &  0                  & 2013-01-01 06:00:00\\\\\n",
       "\t 2013                & 1                   & 1                   & 554                 & 558                 & -4                  &  740                &  728                &  12                 & UA                  & 1696                & N39463              & EWR                 & ORD                 & 150                 &  719                & 5                   & 58                  & 2013-01-01 05:00:00\\\\\n",
       "\t 2013                & 1                   & 1                   & 555                 & 600                 & -5                  &  913                &  854                &  19                 & B6                  &  507                & N516JB              & EWR                 & FLL                 & 158                 & 1065                & 6                   &  0                  & 2013-01-01 06:00:00\\\\\n",
       "\t 2013                & 1                   & 1                   & 557                 & 600                 & -3                  &  709                &  723                & -14                 & EV                  & 5708                & N829AS              & LGA                 & IAD                 &  53                 &  229                & 6                   &  0                  & 2013-01-01 06:00:00\\\\\n",
       "\t 2013                & 1                   & 1                   & 557                 & 600                 & -3                  &  838                &  846                &  -8                 & B6                  &   79                & N593JB              & JFK                 & MCO                 & 140                 &  944                & 6                   &  0                  & 2013-01-01 06:00:00\\\\\n",
       "\t 2013                & 1                   & 1                   & 558                 & 600                 & -2                  &  753                &  745                &   8                 & AA                  &  301                & N3ALAA              & LGA                 & ORD                 & 138                 &  733                & 6                   &  0                  & 2013-01-01 06:00:00\\\\\n",
       "\\end{tabular}\n"
      ],
      "text/markdown": [
       "\n",
       "| year | month | day | dep_time | sched_dep_time | dep_delay | arr_time | sched_arr_time | arr_delay | carrier | flight | tailnum | origin | dest | air_time | distance | hour | minute | time_hour |\n",
       "|---|---|---|---|---|---|---|---|---|---|---|---|---|---|---|---|---|---|---|\n",
       "| 2013                | 1                   | 1                   | 517                 | 515                 |  2                  |  830                |  819                |  11                 | UA                  | 1545                | N14228              | EWR                 | IAH                 | 227                 | 1400                | 5                   | 15                  | 2013-01-01 05:00:00 |\n",
       "| 2013                | 1                   | 1                   | 533                 | 529                 |  4                  |  850                |  830                |  20                 | UA                  | 1714                | N24211              | LGA                 | IAH                 | 227                 | 1416                | 5                   | 29                  | 2013-01-01 05:00:00 |\n",
       "| 2013                | 1                   | 1                   | 542                 | 540                 |  2                  |  923                |  850                |  33                 | AA                  | 1141                | N619AA              | JFK                 | MIA                 | 160                 | 1089                | 5                   | 40                  | 2013-01-01 05:00:00 |\n",
       "| 2013                | 1                   | 1                   | 544                 | 545                 | -1                  | 1004                | 1022                | -18                 | B6                  |  725                | N804JB              | JFK                 | BQN                 | 183                 | 1576                | 5                   | 45                  | 2013-01-01 05:00:00 |\n",
       "| 2013                | 1                   | 1                   | 554                 | 600                 | -6                  |  812                |  837                | -25                 | DL                  |  461                | N668DN              | LGA                 | ATL                 | 116                 |  762                | 6                   |  0                  | 2013-01-01 06:00:00 |\n",
       "| 2013                | 1                   | 1                   | 554                 | 558                 | -4                  |  740                |  728                |  12                 | UA                  | 1696                | N39463              | EWR                 | ORD                 | 150                 |  719                | 5                   | 58                  | 2013-01-01 05:00:00 |\n",
       "| 2013                | 1                   | 1                   | 555                 | 600                 | -5                  |  913                |  854                |  19                 | B6                  |  507                | N516JB              | EWR                 | FLL                 | 158                 | 1065                | 6                   |  0                  | 2013-01-01 06:00:00 |\n",
       "| 2013                | 1                   | 1                   | 557                 | 600                 | -3                  |  709                |  723                | -14                 | EV                  | 5708                | N829AS              | LGA                 | IAD                 |  53                 |  229                | 6                   |  0                  | 2013-01-01 06:00:00 |\n",
       "| 2013                | 1                   | 1                   | 557                 | 600                 | -3                  |  838                |  846                |  -8                 | B6                  |   79                | N593JB              | JFK                 | MCO                 | 140                 |  944                | 6                   |  0                  | 2013-01-01 06:00:00 |\n",
       "| 2013                | 1                   | 1                   | 558                 | 600                 | -2                  |  753                |  745                |   8                 | AA                  |  301                | N3ALAA              | LGA                 | ORD                 | 138                 |  733                | 6                   |  0                  | 2013-01-01 06:00:00 |\n",
       "\n"
      ],
      "text/plain": [
       "   year month day dep_time sched_dep_time dep_delay arr_time sched_arr_time\n",
       "1  2013 1     1   517      515             2         830      819          \n",
       "2  2013 1     1   533      529             4         850      830          \n",
       "3  2013 1     1   542      540             2         923      850          \n",
       "4  2013 1     1   544      545            -1        1004     1022          \n",
       "5  2013 1     1   554      600            -6         812      837          \n",
       "6  2013 1     1   554      558            -4         740      728          \n",
       "7  2013 1     1   555      600            -5         913      854          \n",
       "8  2013 1     1   557      600            -3         709      723          \n",
       "9  2013 1     1   557      600            -3         838      846          \n",
       "10 2013 1     1   558      600            -2         753      745          \n",
       "   arr_delay carrier flight tailnum origin dest air_time distance hour minute\n",
       "1   11       UA      1545   N14228  EWR    IAH  227      1400     5    15    \n",
       "2   20       UA      1714   N24211  LGA    IAH  227      1416     5    29    \n",
       "3   33       AA      1141   N619AA  JFK    MIA  160      1089     5    40    \n",
       "4  -18       B6       725   N804JB  JFK    BQN  183      1576     5    45    \n",
       "5  -25       DL       461   N668DN  LGA    ATL  116       762     6     0    \n",
       "6   12       UA      1696   N39463  EWR    ORD  150       719     5    58    \n",
       "7   19       B6       507   N516JB  EWR    FLL  158      1065     6     0    \n",
       "8  -14       EV      5708   N829AS  LGA    IAD   53       229     6     0    \n",
       "9   -8       B6        79   N593JB  JFK    MCO  140       944     6     0    \n",
       "10   8       AA       301   N3ALAA  LGA    ORD  138       733     6     0    \n",
       "   time_hour          \n",
       "1  2013-01-01 05:00:00\n",
       "2  2013-01-01 05:00:00\n",
       "3  2013-01-01 05:00:00\n",
       "4  2013-01-01 05:00:00\n",
       "5  2013-01-01 06:00:00\n",
       "6  2013-01-01 05:00:00\n",
       "7  2013-01-01 06:00:00\n",
       "8  2013-01-01 06:00:00\n",
       "9  2013-01-01 06:00:00\n",
       "10 2013-01-01 06:00:00"
      ]
     },
     "metadata": {},
     "output_type": "display_data"
    }
   ],
   "source": [
    "slice(flights, 1:10) # menyeleksi 10 baris pertama"
   ]
  },
  {
   "cell_type": "markdown",
   "metadata": {},
   "source": [
    "### `arrange()`"
   ]
  },
  {
   "cell_type": "code",
   "execution_count": 405,
   "metadata": {},
   "outputs": [
    {
     "data": {
      "text/html": [
       "<table>\n",
       "<thead><tr><th scope=col>year</th><th scope=col>month</th><th scope=col>day</th><th scope=col>dep_time</th><th scope=col>sched_dep_time</th><th scope=col>dep_delay</th><th scope=col>arr_time</th><th scope=col>sched_arr_time</th><th scope=col>arr_delay</th><th scope=col>carrier</th><th scope=col>flight</th><th scope=col>tailnum</th><th scope=col>origin</th><th scope=col>dest</th><th scope=col>air_time</th><th scope=col>distance</th><th scope=col>hour</th><th scope=col>minute</th><th scope=col>time_hour</th></tr></thead>\n",
       "<tbody>\n",
       "\t<tr><td>2013               </td><td>1                  </td><td>1                  </td><td>1929               </td><td>1920               </td><td>  9                </td><td> 3                 </td><td>   7               </td><td> -4                </td><td>UA                 </td><td>1071               </td><td>N27205             </td><td>EWR                </td><td>BQN                </td><td>192                </td><td>1585               </td><td>19                 </td><td>20                 </td><td>2013-01-01 19:00:00</td></tr>\n",
       "\t<tr><td>2013               </td><td>1                  </td><td>1                  </td><td>2121               </td><td>2040               </td><td> 41                </td><td> 6                 </td><td>2323               </td><td> 43                </td><td>B6                 </td><td> 227               </td><td>N307JB             </td><td>EWR                </td><td>MCO                </td><td>143                </td><td> 937               </td><td>20                 </td><td>40                 </td><td>2013-01-01 20:00:00</td></tr>\n",
       "\t<tr><td>2013               </td><td>1                  </td><td>1                  </td><td>2058               </td><td>2100               </td><td> -2                </td><td> 8                 </td><td>2359               </td><td>  9                </td><td>UA                 </td><td>1241               </td><td>N27724             </td><td>EWR                </td><td>TPA                </td><td>159                </td><td> 997               </td><td>21                 </td><td> 0                 </td><td>2013-01-01 21:00:00</td></tr>\n",
       "\t<tr><td>2013               </td><td>1                  </td><td>1                  </td><td>2120               </td><td>2130               </td><td>-10                </td><td>16                 </td><td>  18               </td><td> -2                </td><td>B6                 </td><td> 383               </td><td>N603JB             </td><td>LGA                </td><td>FLL                </td><td>160                </td><td>1076               </td><td>21                 </td><td>30                 </td><td>2013-01-01 21:00:00</td></tr>\n",
       "\t<tr><td>2013               </td><td>1                  </td><td>1                  </td><td>2134               </td><td>2045               </td><td> 49                </td><td>20                 </td><td>2352               </td><td> 28                </td><td>UA                 </td><td>1106               </td><td>N27733             </td><td>EWR                </td><td>FLL                </td><td>152                </td><td>1065               </td><td>20                 </td><td>45                 </td><td>2013-01-01 20:00:00</td></tr>\n",
       "\t<tr><td>2013               </td><td>1                  </td><td>1                  </td><td>2312               </td><td>2000               </td><td>192                </td><td>21                 </td><td>2110               </td><td>191                </td><td>EV                 </td><td>4312               </td><td>N13958             </td><td>EWR                </td><td>DCA                </td><td> 44                </td><td> 199               </td><td>20                 </td><td> 0                 </td><td>2013-01-01 20:00:00</td></tr>\n",
       "</tbody>\n",
       "</table>\n"
      ],
      "text/latex": [
       "\\begin{tabular}{r|lllllllllllllllllll}\n",
       " year & month & day & dep\\_time & sched\\_dep\\_time & dep\\_delay & arr\\_time & sched\\_arr\\_time & arr\\_delay & carrier & flight & tailnum & origin & dest & air\\_time & distance & hour & minute & time\\_hour\\\\\n",
       "\\hline\n",
       "\t 2013                & 1                   & 1                   & 1929                & 1920                &   9                 &  3                  &    7                &  -4                 & UA                  & 1071                & N27205              & EWR                 & BQN                 & 192                 & 1585                & 19                  & 20                  & 2013-01-01 19:00:00\\\\\n",
       "\t 2013                & 1                   & 1                   & 2121                & 2040                &  41                 &  6                  & 2323                &  43                 & B6                  &  227                & N307JB              & EWR                 & MCO                 & 143                 &  937                & 20                  & 40                  & 2013-01-01 20:00:00\\\\\n",
       "\t 2013                & 1                   & 1                   & 2058                & 2100                &  -2                 &  8                  & 2359                &   9                 & UA                  & 1241                & N27724              & EWR                 & TPA                 & 159                 &  997                & 21                  &  0                  & 2013-01-01 21:00:00\\\\\n",
       "\t 2013                & 1                   & 1                   & 2120                & 2130                & -10                 & 16                  &   18                &  -2                 & B6                  &  383                & N603JB              & LGA                 & FLL                 & 160                 & 1076                & 21                  & 30                  & 2013-01-01 21:00:00\\\\\n",
       "\t 2013                & 1                   & 1                   & 2134                & 2045                &  49                 & 20                  & 2352                &  28                 & UA                  & 1106                & N27733              & EWR                 & FLL                 & 152                 & 1065                & 20                  & 45                  & 2013-01-01 20:00:00\\\\\n",
       "\t 2013                & 1                   & 1                   & 2312                & 2000                & 192                 & 21                  & 2110                & 191                 & EV                  & 4312                & N13958              & EWR                 & DCA                 &  44                 &  199                & 20                  &  0                  & 2013-01-01 20:00:00\\\\\n",
       "\\end{tabular}\n"
      ],
      "text/markdown": [
       "\n",
       "| year | month | day | dep_time | sched_dep_time | dep_delay | arr_time | sched_arr_time | arr_delay | carrier | flight | tailnum | origin | dest | air_time | distance | hour | minute | time_hour |\n",
       "|---|---|---|---|---|---|---|---|---|---|---|---|---|---|---|---|---|---|---|\n",
       "| 2013                | 1                   | 1                   | 1929                | 1920                |   9                 |  3                  |    7                |  -4                 | UA                  | 1071                | N27205              | EWR                 | BQN                 | 192                 | 1585                | 19                  | 20                  | 2013-01-01 19:00:00 |\n",
       "| 2013                | 1                   | 1                   | 2121                | 2040                |  41                 |  6                  | 2323                |  43                 | B6                  |  227                | N307JB              | EWR                 | MCO                 | 143                 |  937                | 20                  | 40                  | 2013-01-01 20:00:00 |\n",
       "| 2013                | 1                   | 1                   | 2058                | 2100                |  -2                 |  8                  | 2359                |   9                 | UA                  | 1241                | N27724              | EWR                 | TPA                 | 159                 |  997                | 21                  |  0                  | 2013-01-01 21:00:00 |\n",
       "| 2013                | 1                   | 1                   | 2120                | 2130                | -10                 | 16                  |   18                |  -2                 | B6                  |  383                | N603JB              | LGA                 | FLL                 | 160                 | 1076                | 21                  | 30                  | 2013-01-01 21:00:00 |\n",
       "| 2013                | 1                   | 1                   | 2134                | 2045                |  49                 | 20                  | 2352                |  28                 | UA                  | 1106                | N27733              | EWR                 | FLL                 | 152                 | 1065                | 20                  | 45                  | 2013-01-01 20:00:00 |\n",
       "| 2013                | 1                   | 1                   | 2312                | 2000                | 192                 | 21                  | 2110                | 191                 | EV                  | 4312                | N13958              | EWR                 | DCA                 |  44                 |  199                | 20                  |  0                  | 2013-01-01 20:00:00 |\n",
       "\n"
      ],
      "text/plain": [
       "  year month day dep_time sched_dep_time dep_delay arr_time sched_arr_time\n",
       "1 2013 1     1   1929     1920             9        3          7          \n",
       "2 2013 1     1   2121     2040            41        6       2323          \n",
       "3 2013 1     1   2058     2100            -2        8       2359          \n",
       "4 2013 1     1   2120     2130           -10       16         18          \n",
       "5 2013 1     1   2134     2045            49       20       2352          \n",
       "6 2013 1     1   2312     2000           192       21       2110          \n",
       "  arr_delay carrier flight tailnum origin dest air_time distance hour minute\n",
       "1  -4       UA      1071   N27205  EWR    BQN  192      1585     19   20    \n",
       "2  43       B6       227   N307JB  EWR    MCO  143       937     20   40    \n",
       "3   9       UA      1241   N27724  EWR    TPA  159       997     21    0    \n",
       "4  -2       B6       383   N603JB  LGA    FLL  160      1076     21   30    \n",
       "5  28       UA      1106   N27733  EWR    FLL  152      1065     20   45    \n",
       "6 191       EV      4312   N13958  EWR    DCA   44       199     20    0    \n",
       "  time_hour          \n",
       "1 2013-01-01 19:00:00\n",
       "2 2013-01-01 20:00:00\n",
       "3 2013-01-01 21:00:00\n",
       "4 2013-01-01 21:00:00\n",
       "5 2013-01-01 20:00:00\n",
       "6 2013-01-01 20:00:00"
      ]
     },
     "metadata": {},
     "output_type": "display_data"
    }
   ],
   "source": [
    "head(arrange(flights, year, month, day, arr_time))\n",
    "# mengatur urutan sesuai kolomnya"
   ]
  },
  {
   "cell_type": "markdown",
   "metadata": {},
   "source": [
    "### `select()`"
   ]
  },
  {
   "cell_type": "code",
   "execution_count": 407,
   "metadata": {},
   "outputs": [
    {
     "data": {
      "text/html": [
       "<table>\n",
       "<thead><tr><th scope=col>arr_time</th></tr></thead>\n",
       "<tbody>\n",
       "\t<tr><td> 830</td></tr>\n",
       "\t<tr><td> 850</td></tr>\n",
       "\t<tr><td> 923</td></tr>\n",
       "\t<tr><td>1004</td></tr>\n",
       "\t<tr><td> 812</td></tr>\n",
       "\t<tr><td> 740</td></tr>\n",
       "</tbody>\n",
       "</table>\n"
      ],
      "text/latex": [
       "\\begin{tabular}{r|l}\n",
       " arr\\_time\\\\\n",
       "\\hline\n",
       "\t  830\\\\\n",
       "\t  850\\\\\n",
       "\t  923\\\\\n",
       "\t 1004\\\\\n",
       "\t  812\\\\\n",
       "\t  740\\\\\n",
       "\\end{tabular}\n"
      ],
      "text/markdown": [
       "\n",
       "| arr_time |\n",
       "|---|\n",
       "|  830 |\n",
       "|  850 |\n",
       "|  923 |\n",
       "| 1004 |\n",
       "|  812 |\n",
       "|  740 |\n",
       "\n"
      ],
      "text/plain": [
       "  arr_time\n",
       "1  830    \n",
       "2  850    \n",
       "3  923    \n",
       "4 1004    \n",
       "5  812    \n",
       "6  740    "
      ]
     },
     "metadata": {},
     "output_type": "display_data"
    }
   ],
   "source": [
    "head(select(flights, arr_time)) # seleksi kolom arr_time"
   ]
  },
  {
   "cell_type": "code",
   "execution_count": 408,
   "metadata": {},
   "outputs": [
    {
     "data": {
      "text/html": [
       "<table>\n",
       "<thead><tr><th scope=col>carrier</th></tr></thead>\n",
       "<tbody>\n",
       "\t<tr><td>UA</td></tr>\n",
       "\t<tr><td>UA</td></tr>\n",
       "\t<tr><td>AA</td></tr>\n",
       "\t<tr><td>B6</td></tr>\n",
       "\t<tr><td>DL</td></tr>\n",
       "\t<tr><td>UA</td></tr>\n",
       "</tbody>\n",
       "</table>\n"
      ],
      "text/latex": [
       "\\begin{tabular}{r|l}\n",
       " carrier\\\\\n",
       "\\hline\n",
       "\t UA\\\\\n",
       "\t UA\\\\\n",
       "\t AA\\\\\n",
       "\t B6\\\\\n",
       "\t DL\\\\\n",
       "\t UA\\\\\n",
       "\\end{tabular}\n"
      ],
      "text/markdown": [
       "\n",
       "| carrier |\n",
       "|---|\n",
       "| UA |\n",
       "| UA |\n",
       "| AA |\n",
       "| B6 |\n",
       "| DL |\n",
       "| UA |\n",
       "\n"
      ],
      "text/plain": [
       "  carrier\n",
       "1 UA     \n",
       "2 UA     \n",
       "3 AA     \n",
       "4 B6     \n",
       "5 DL     \n",
       "6 UA     "
      ]
     },
     "metadata": {},
     "output_type": "display_data"
    }
   ],
   "source": [
    "head(select(flights,carrier)) # seleksi kolom carrier"
   ]
  },
  {
   "cell_type": "code",
   "execution_count": 409,
   "metadata": {},
   "outputs": [
    {
     "data": {
      "text/html": [
       "<table>\n",
       "<thead><tr><th scope=col>arr_time</th><th scope=col>carrier</th><th scope=col>month</th></tr></thead>\n",
       "<tbody>\n",
       "\t<tr><td> 830</td><td>UA  </td><td>1   </td></tr>\n",
       "\t<tr><td> 850</td><td>UA  </td><td>1   </td></tr>\n",
       "\t<tr><td> 923</td><td>AA  </td><td>1   </td></tr>\n",
       "\t<tr><td>1004</td><td>B6  </td><td>1   </td></tr>\n",
       "\t<tr><td> 812</td><td>DL  </td><td>1   </td></tr>\n",
       "\t<tr><td> 740</td><td>UA  </td><td>1   </td></tr>\n",
       "</tbody>\n",
       "</table>\n"
      ],
      "text/latex": [
       "\\begin{tabular}{r|lll}\n",
       " arr\\_time & carrier & month\\\\\n",
       "\\hline\n",
       "\t  830 & UA   & 1   \\\\\n",
       "\t  850 & UA   & 1   \\\\\n",
       "\t  923 & AA   & 1   \\\\\n",
       "\t 1004 & B6   & 1   \\\\\n",
       "\t  812 & DL   & 1   \\\\\n",
       "\t  740 & UA   & 1   \\\\\n",
       "\\end{tabular}\n"
      ],
      "text/markdown": [
       "\n",
       "| arr_time | carrier | month |\n",
       "|---|---|---|\n",
       "|  830 | UA   | 1    |\n",
       "|  850 | UA   | 1    |\n",
       "|  923 | AA   | 1    |\n",
       "| 1004 | B6   | 1    |\n",
       "|  812 | DL   | 1    |\n",
       "|  740 | UA   | 1    |\n",
       "\n"
      ],
      "text/plain": [
       "  arr_time carrier month\n",
       "1  830     UA      1    \n",
       "2  850     UA      1    \n",
       "3  923     AA      1    \n",
       "4 1004     B6      1    \n",
       "5  812     DL      1    \n",
       "6  740     UA      1    "
      ]
     },
     "metadata": {},
     "output_type": "display_data"
    }
   ],
   "source": [
    "head(select(flights, arr_time, carrier, month)) # seleksi 3 kolom"
   ]
  },
  {
   "cell_type": "markdown",
   "metadata": {},
   "source": [
    "### `rename()`:"
   ]
  },
  {
   "cell_type": "code",
   "execution_count": 410,
   "metadata": {},
   "outputs": [
    {
     "data": {
      "text/html": [
       "<table>\n",
       "<thead><tr><th scope=col>year</th><th scope=col>month</th><th scope=col>day</th><th scope=col>dep_time</th><th scope=col>sched_dep_time</th><th scope=col>dep_delay</th><th scope=col>arr_time</th><th scope=col>sched_arr_time</th><th scope=col>arr_delay</th><th scope=col>carrier</th><th scope=col>flight</th><th scope=col>tailnum</th><th scope=col>origin</th><th scope=col>dest</th><th scope=col>air_time</th><th scope=col>distance</th><th scope=col>hour</th><th scope=col>minute</th><th scope=col>time_hour</th></tr></thead>\n",
       "<tbody>\n",
       "\t<tr><td>2013               </td><td>1                  </td><td>1                  </td><td>517                </td><td>515                </td><td> 2                 </td><td> 830               </td><td> 819               </td><td> 11                </td><td>UA                 </td><td>1545               </td><td>N14228             </td><td>EWR                </td><td>IAH                </td><td>227                </td><td>1400               </td><td>5                  </td><td>15                 </td><td>2013-01-01 05:00:00</td></tr>\n",
       "\t<tr><td>2013               </td><td>1                  </td><td>1                  </td><td>533                </td><td>529                </td><td> 4                 </td><td> 850               </td><td> 830               </td><td> 20                </td><td>UA                 </td><td>1714               </td><td>N24211             </td><td>LGA                </td><td>IAH                </td><td>227                </td><td>1416               </td><td>5                  </td><td>29                 </td><td>2013-01-01 05:00:00</td></tr>\n",
       "\t<tr><td>2013               </td><td>1                  </td><td>1                  </td><td>542                </td><td>540                </td><td> 2                 </td><td> 923               </td><td> 850               </td><td> 33                </td><td>AA                 </td><td>1141               </td><td>N619AA             </td><td>JFK                </td><td>MIA                </td><td>160                </td><td>1089               </td><td>5                  </td><td>40                 </td><td>2013-01-01 05:00:00</td></tr>\n",
       "\t<tr><td>2013               </td><td>1                  </td><td>1                  </td><td>544                </td><td>545                </td><td>-1                 </td><td>1004               </td><td>1022               </td><td>-18                </td><td>B6                 </td><td> 725               </td><td>N804JB             </td><td>JFK                </td><td>BQN                </td><td>183                </td><td>1576               </td><td>5                  </td><td>45                 </td><td>2013-01-01 05:00:00</td></tr>\n",
       "\t<tr><td>2013               </td><td>1                  </td><td>1                  </td><td>554                </td><td>600                </td><td>-6                 </td><td> 812               </td><td> 837               </td><td>-25                </td><td>DL                 </td><td> 461               </td><td>N668DN             </td><td>LGA                </td><td>ATL                </td><td>116                </td><td> 762               </td><td>6                  </td><td> 0                 </td><td>2013-01-01 06:00:00</td></tr>\n",
       "\t<tr><td>2013               </td><td>1                  </td><td>1                  </td><td>554                </td><td>558                </td><td>-4                 </td><td> 740               </td><td> 728               </td><td> 12                </td><td>UA                 </td><td>1696               </td><td>N39463             </td><td>EWR                </td><td>ORD                </td><td>150                </td><td> 719               </td><td>5                  </td><td>58                 </td><td>2013-01-01 05:00:00</td></tr>\n",
       "</tbody>\n",
       "</table>\n"
      ],
      "text/latex": [
       "\\begin{tabular}{r|lllllllllllllllllll}\n",
       " year & month & day & dep\\_time & sched\\_dep\\_time & dep\\_delay & arr\\_time & sched\\_arr\\_time & arr\\_delay & carrier & flight & tailnum & origin & dest & air\\_time & distance & hour & minute & time\\_hour\\\\\n",
       "\\hline\n",
       "\t 2013                & 1                   & 1                   & 517                 & 515                 &  2                  &  830                &  819                &  11                 & UA                  & 1545                & N14228              & EWR                 & IAH                 & 227                 & 1400                & 5                   & 15                  & 2013-01-01 05:00:00\\\\\n",
       "\t 2013                & 1                   & 1                   & 533                 & 529                 &  4                  &  850                &  830                &  20                 & UA                  & 1714                & N24211              & LGA                 & IAH                 & 227                 & 1416                & 5                   & 29                  & 2013-01-01 05:00:00\\\\\n",
       "\t 2013                & 1                   & 1                   & 542                 & 540                 &  2                  &  923                &  850                &  33                 & AA                  & 1141                & N619AA              & JFK                 & MIA                 & 160                 & 1089                & 5                   & 40                  & 2013-01-01 05:00:00\\\\\n",
       "\t 2013                & 1                   & 1                   & 544                 & 545                 & -1                  & 1004                & 1022                & -18                 & B6                  &  725                & N804JB              & JFK                 & BQN                 & 183                 & 1576                & 5                   & 45                  & 2013-01-01 05:00:00\\\\\n",
       "\t 2013                & 1                   & 1                   & 554                 & 600                 & -6                  &  812                &  837                & -25                 & DL                  &  461                & N668DN              & LGA                 & ATL                 & 116                 &  762                & 6                   &  0                  & 2013-01-01 06:00:00\\\\\n",
       "\t 2013                & 1                   & 1                   & 554                 & 558                 & -4                  &  740                &  728                &  12                 & UA                  & 1696                & N39463              & EWR                 & ORD                 & 150                 &  719                & 5                   & 58                  & 2013-01-01 05:00:00\\\\\n",
       "\\end{tabular}\n"
      ],
      "text/markdown": [
       "\n",
       "| year | month | day | dep_time | sched_dep_time | dep_delay | arr_time | sched_arr_time | arr_delay | carrier | flight | tailnum | origin | dest | air_time | distance | hour | minute | time_hour |\n",
       "|---|---|---|---|---|---|---|---|---|---|---|---|---|---|---|---|---|---|---|\n",
       "| 2013                | 1                   | 1                   | 517                 | 515                 |  2                  |  830                |  819                |  11                 | UA                  | 1545                | N14228              | EWR                 | IAH                 | 227                 | 1400                | 5                   | 15                  | 2013-01-01 05:00:00 |\n",
       "| 2013                | 1                   | 1                   | 533                 | 529                 |  4                  |  850                |  830                |  20                 | UA                  | 1714                | N24211              | LGA                 | IAH                 | 227                 | 1416                | 5                   | 29                  | 2013-01-01 05:00:00 |\n",
       "| 2013                | 1                   | 1                   | 542                 | 540                 |  2                  |  923                |  850                |  33                 | AA                  | 1141                | N619AA              | JFK                 | MIA                 | 160                 | 1089                | 5                   | 40                  | 2013-01-01 05:00:00 |\n",
       "| 2013                | 1                   | 1                   | 544                 | 545                 | -1                  | 1004                | 1022                | -18                 | B6                  |  725                | N804JB              | JFK                 | BQN                 | 183                 | 1576                | 5                   | 45                  | 2013-01-01 05:00:00 |\n",
       "| 2013                | 1                   | 1                   | 554                 | 600                 | -6                  |  812                |  837                | -25                 | DL                  |  461                | N668DN              | LGA                 | ATL                 | 116                 |  762                | 6                   |  0                  | 2013-01-01 06:00:00 |\n",
       "| 2013                | 1                   | 1                   | 554                 | 558                 | -4                  |  740                |  728                |  12                 | UA                  | 1696                | N39463              | EWR                 | ORD                 | 150                 |  719                | 5                   | 58                  | 2013-01-01 05:00:00 |\n",
       "\n"
      ],
      "text/plain": [
       "  year month day dep_time sched_dep_time dep_delay arr_time sched_arr_time\n",
       "1 2013 1     1   517      515             2         830      819          \n",
       "2 2013 1     1   533      529             4         850      830          \n",
       "3 2013 1     1   542      540             2         923      850          \n",
       "4 2013 1     1   544      545            -1        1004     1022          \n",
       "5 2013 1     1   554      600            -6         812      837          \n",
       "6 2013 1     1   554      558            -4         740      728          \n",
       "  arr_delay carrier flight tailnum origin dest air_time distance hour minute\n",
       "1  11       UA      1545   N14228  EWR    IAH  227      1400     5    15    \n",
       "2  20       UA      1714   N24211  LGA    IAH  227      1416     5    29    \n",
       "3  33       AA      1141   N619AA  JFK    MIA  160      1089     5    40    \n",
       "4 -18       B6       725   N804JB  JFK    BQN  183      1576     5    45    \n",
       "5 -25       DL       461   N668DN  LGA    ATL  116       762     6     0    \n",
       "6  12       UA      1696   N39463  EWR    ORD  150       719     5    58    \n",
       "  time_hour          \n",
       "1 2013-01-01 05:00:00\n",
       "2 2013-01-01 05:00:00\n",
       "3 2013-01-01 05:00:00\n",
       "4 2013-01-01 05:00:00\n",
       "5 2013-01-01 06:00:00\n",
       "6 2013-01-01 05:00:00"
      ]
     },
     "metadata": {},
     "output_type": "display_data"
    }
   ],
   "source": [
    "head(flights)"
   ]
  },
  {
   "cell_type": "code",
   "execution_count": 411,
   "metadata": {},
   "outputs": [
    {
     "data": {
      "text/html": [
       "<table>\n",
       "<thead><tr><th scope=col>year</th><th scope=col>month</th><th scope=col>day</th><th scope=col>dep_time</th><th scope=col>sched_dep_time</th><th scope=col>dep_delay</th><th scope=col>new_arr_time</th><th scope=col>sched_arr_time</th><th scope=col>arr_delay</th><th scope=col>carrier</th><th scope=col>flight</th><th scope=col>tailnum</th><th scope=col>origin</th><th scope=col>dest</th><th scope=col>air_time</th><th scope=col>distance</th><th scope=col>hour</th><th scope=col>minute</th><th scope=col>time_hour</th></tr></thead>\n",
       "<tbody>\n",
       "\t<tr><td>2013               </td><td>1                  </td><td>1                  </td><td>517                </td><td>515                </td><td> 2                 </td><td> 830               </td><td> 819               </td><td> 11                </td><td>UA                 </td><td>1545               </td><td>N14228             </td><td>EWR                </td><td>IAH                </td><td>227                </td><td>1400               </td><td>5                  </td><td>15                 </td><td>2013-01-01 05:00:00</td></tr>\n",
       "\t<tr><td>2013               </td><td>1                  </td><td>1                  </td><td>533                </td><td>529                </td><td> 4                 </td><td> 850               </td><td> 830               </td><td> 20                </td><td>UA                 </td><td>1714               </td><td>N24211             </td><td>LGA                </td><td>IAH                </td><td>227                </td><td>1416               </td><td>5                  </td><td>29                 </td><td>2013-01-01 05:00:00</td></tr>\n",
       "\t<tr><td>2013               </td><td>1                  </td><td>1                  </td><td>542                </td><td>540                </td><td> 2                 </td><td> 923               </td><td> 850               </td><td> 33                </td><td>AA                 </td><td>1141               </td><td>N619AA             </td><td>JFK                </td><td>MIA                </td><td>160                </td><td>1089               </td><td>5                  </td><td>40                 </td><td>2013-01-01 05:00:00</td></tr>\n",
       "\t<tr><td>2013               </td><td>1                  </td><td>1                  </td><td>544                </td><td>545                </td><td>-1                 </td><td>1004               </td><td>1022               </td><td>-18                </td><td>B6                 </td><td> 725               </td><td>N804JB             </td><td>JFK                </td><td>BQN                </td><td>183                </td><td>1576               </td><td>5                  </td><td>45                 </td><td>2013-01-01 05:00:00</td></tr>\n",
       "\t<tr><td>2013               </td><td>1                  </td><td>1                  </td><td>554                </td><td>600                </td><td>-6                 </td><td> 812               </td><td> 837               </td><td>-25                </td><td>DL                 </td><td> 461               </td><td>N668DN             </td><td>LGA                </td><td>ATL                </td><td>116                </td><td> 762               </td><td>6                  </td><td> 0                 </td><td>2013-01-01 06:00:00</td></tr>\n",
       "\t<tr><td>2013               </td><td>1                  </td><td>1                  </td><td>554                </td><td>558                </td><td>-4                 </td><td> 740               </td><td> 728               </td><td> 12                </td><td>UA                 </td><td>1696               </td><td>N39463             </td><td>EWR                </td><td>ORD                </td><td>150                </td><td> 719               </td><td>5                  </td><td>58                 </td><td>2013-01-01 05:00:00</td></tr>\n",
       "\t<tr><td>2013               </td><td>1                  </td><td>1                  </td><td>555                </td><td>600                </td><td>-5                 </td><td> 913               </td><td> 854               </td><td> 19                </td><td>B6                 </td><td> 507               </td><td>N516JB             </td><td>EWR                </td><td>FLL                </td><td>158                </td><td>1065               </td><td>6                  </td><td> 0                 </td><td>2013-01-01 06:00:00</td></tr>\n",
       "\t<tr><td>2013               </td><td>1                  </td><td>1                  </td><td>557                </td><td>600                </td><td>-3                 </td><td> 709               </td><td> 723               </td><td>-14                </td><td>EV                 </td><td>5708               </td><td>N829AS             </td><td>LGA                </td><td>IAD                </td><td> 53                </td><td> 229               </td><td>6                  </td><td> 0                 </td><td>2013-01-01 06:00:00</td></tr>\n",
       "\t<tr><td>2013               </td><td>1                  </td><td>1                  </td><td>557                </td><td>600                </td><td>-3                 </td><td> 838               </td><td> 846               </td><td> -8                </td><td>B6                 </td><td>  79               </td><td>N593JB             </td><td>JFK                </td><td>MCO                </td><td>140                </td><td> 944               </td><td>6                  </td><td> 0                 </td><td>2013-01-01 06:00:00</td></tr>\n",
       "\t<tr><td>2013               </td><td>1                  </td><td>1                  </td><td>558                </td><td>600                </td><td>-2                 </td><td> 753               </td><td> 745               </td><td>  8                </td><td>AA                 </td><td> 301               </td><td>N3ALAA             </td><td>LGA                </td><td>ORD                </td><td>138                </td><td> 733               </td><td>6                  </td><td> 0                 </td><td>2013-01-01 06:00:00</td></tr>\n",
       "\t<tr><td>2013               </td><td>1                  </td><td>1                  </td><td>558                </td><td>600                </td><td>-2                 </td><td> 849               </td><td> 851               </td><td> -2                </td><td>B6                 </td><td>  49               </td><td>N793JB             </td><td>JFK                </td><td>PBI                </td><td>149                </td><td>1028               </td><td>6                  </td><td> 0                 </td><td>2013-01-01 06:00:00</td></tr>\n",
       "\t<tr><td>2013               </td><td>1                  </td><td>1                  </td><td>558                </td><td>600                </td><td>-2                 </td><td> 853               </td><td> 856               </td><td> -3                </td><td>B6                 </td><td>  71               </td><td>N657JB             </td><td>JFK                </td><td>TPA                </td><td>158                </td><td>1005               </td><td>6                  </td><td> 0                 </td><td>2013-01-01 06:00:00</td></tr>\n",
       "\t<tr><td>2013               </td><td>1                  </td><td>1                  </td><td>558                </td><td>600                </td><td>-2                 </td><td> 924               </td><td> 917               </td><td>  7                </td><td>UA                 </td><td> 194               </td><td>N29129             </td><td>JFK                </td><td>LAX                </td><td>345                </td><td>2475               </td><td>6                  </td><td> 0                 </td><td>2013-01-01 06:00:00</td></tr>\n",
       "\t<tr><td>2013               </td><td>1                  </td><td>1                  </td><td>558                </td><td>600                </td><td>-2                 </td><td> 923               </td><td> 937               </td><td>-14                </td><td>UA                 </td><td>1124               </td><td>N53441             </td><td>EWR                </td><td>SFO                </td><td>361                </td><td>2565               </td><td>6                  </td><td> 0                 </td><td>2013-01-01 06:00:00</td></tr>\n",
       "\t<tr><td>2013               </td><td>1                  </td><td>1                  </td><td>559                </td><td>600                </td><td>-1                 </td><td> 941               </td><td> 910               </td><td> 31                </td><td>AA                 </td><td> 707               </td><td>N3DUAA             </td><td>LGA                </td><td>DFW                </td><td>257                </td><td>1389               </td><td>6                  </td><td> 0                 </td><td>2013-01-01 06:00:00</td></tr>\n",
       "\t<tr><td>2013               </td><td>1                  </td><td>1                  </td><td>559                </td><td>559                </td><td> 0                 </td><td> 702               </td><td> 706               </td><td> -4                </td><td>B6                 </td><td>1806               </td><td>N708JB             </td><td>JFK                </td><td>BOS                </td><td> 44                </td><td> 187               </td><td>5                  </td><td>59                 </td><td>2013-01-01 05:00:00</td></tr>\n",
       "\t<tr><td>2013               </td><td>1                  </td><td>1                  </td><td>559                </td><td>600                </td><td>-1                 </td><td> 854               </td><td> 902               </td><td> -8                </td><td>UA                 </td><td>1187               </td><td>N76515             </td><td>EWR                </td><td>LAS                </td><td>337                </td><td>2227               </td><td>6                  </td><td> 0                 </td><td>2013-01-01 06:00:00</td></tr>\n",
       "\t<tr><td>2013               </td><td>1                  </td><td>1                  </td><td>600                </td><td>600                </td><td> 0                 </td><td> 851               </td><td> 858               </td><td> -7                </td><td>B6                 </td><td> 371               </td><td>N595JB             </td><td>LGA                </td><td>FLL                </td><td>152                </td><td>1076               </td><td>6                  </td><td> 0                 </td><td>2013-01-01 06:00:00</td></tr>\n",
       "\t<tr><td>2013               </td><td>1                  </td><td>1                  </td><td>600                </td><td>600                </td><td> 0                 </td><td> 837               </td><td> 825               </td><td> 12                </td><td>MQ                 </td><td>4650               </td><td>N542MQ             </td><td>LGA                </td><td>ATL                </td><td>134                </td><td> 762               </td><td>6                  </td><td> 0                 </td><td>2013-01-01 06:00:00</td></tr>\n",
       "\t<tr><td>2013               </td><td>1                  </td><td>1                  </td><td>601                </td><td>600                </td><td> 1                 </td><td> 844               </td><td> 850               </td><td> -6                </td><td>B6                 </td><td> 343               </td><td>N644JB             </td><td>EWR                </td><td>PBI                </td><td>147                </td><td>1023               </td><td>6                  </td><td> 0                 </td><td>2013-01-01 06:00:00</td></tr>\n",
       "\t<tr><td>2013               </td><td>1                  </td><td>1                  </td><td>602                </td><td>610                </td><td>-8                 </td><td> 812               </td><td> 820               </td><td> -8                </td><td>DL                 </td><td>1919               </td><td>N971DL             </td><td>LGA                </td><td>MSP                </td><td>170                </td><td>1020               </td><td>6                  </td><td>10                 </td><td>2013-01-01 06:00:00</td></tr>\n",
       "\t<tr><td>2013               </td><td>1                  </td><td>1                  </td><td>602                </td><td>605                </td><td>-3                 </td><td> 821               </td><td> 805               </td><td> 16                </td><td>MQ                 </td><td>4401               </td><td>N730MQ             </td><td>LGA                </td><td>DTW                </td><td>105                </td><td> 502               </td><td>6                  </td><td> 5                 </td><td>2013-01-01 06:00:00</td></tr>\n",
       "\t<tr><td>2013               </td><td>1                  </td><td>1                  </td><td>606                </td><td>610                </td><td>-4                 </td><td> 858               </td><td> 910               </td><td>-12                </td><td>AA                 </td><td>1895               </td><td>N633AA             </td><td>EWR                </td><td>MIA                </td><td>152                </td><td>1085               </td><td>6                  </td><td>10                 </td><td>2013-01-01 06:00:00</td></tr>\n",
       "\t<tr><td>2013               </td><td>1                  </td><td>1                  </td><td>606                </td><td>610                </td><td>-4                 </td><td> 837               </td><td> 845               </td><td> -8                </td><td>DL                 </td><td>1743               </td><td>N3739P             </td><td>JFK                </td><td>ATL                </td><td>128                </td><td> 760               </td><td>6                  </td><td>10                 </td><td>2013-01-01 06:00:00</td></tr>\n",
       "\t<tr><td>2013               </td><td>1                  </td><td>1                  </td><td>607                </td><td>607                </td><td> 0                 </td><td> 858               </td><td> 915               </td><td>-17                </td><td>UA                 </td><td>1077               </td><td>N53442             </td><td>EWR                </td><td>MIA                </td><td>157                </td><td>1085               </td><td>6                  </td><td> 7                 </td><td>2013-01-01 06:00:00</td></tr>\n",
       "\t<tr><td>2013               </td><td>1                  </td><td>1                  </td><td>608                </td><td>600                </td><td> 8                 </td><td> 807               </td><td> 735               </td><td> 32                </td><td>MQ                 </td><td>3768               </td><td>N9EAMQ             </td><td>EWR                </td><td>ORD                </td><td>139                </td><td> 719               </td><td>6                  </td><td> 0                 </td><td>2013-01-01 06:00:00</td></tr>\n",
       "\t<tr><td>2013               </td><td>1                  </td><td>1                  </td><td>611                </td><td>600                </td><td>11                 </td><td> 945               </td><td> 931               </td><td> 14                </td><td>UA                 </td><td> 303               </td><td>N532UA             </td><td>JFK                </td><td>SFO                </td><td>366                </td><td>2586               </td><td>6                  </td><td> 0                 </td><td>2013-01-01 06:00:00</td></tr>\n",
       "\t<tr><td>2013               </td><td>1                  </td><td>1                  </td><td>613                </td><td>610                </td><td> 3                 </td><td> 925               </td><td> 921               </td><td>  4                </td><td>B6                 </td><td> 135               </td><td>N635JB             </td><td>JFK                </td><td>RSW                </td><td>175                </td><td>1074               </td><td>6                  </td><td>10                 </td><td>2013-01-01 06:00:00</td></tr>\n",
       "\t<tr><td>2013               </td><td>1                  </td><td>1                  </td><td>615                </td><td>615                </td><td> 0                 </td><td>1039               </td><td>1100               </td><td>-21                </td><td>B6                 </td><td> 709               </td><td>N794JB             </td><td>JFK                </td><td>SJU                </td><td>182                </td><td>1598               </td><td>6                  </td><td>15                 </td><td>2013-01-01 06:00:00</td></tr>\n",
       "\t<tr><td>2013               </td><td>1                  </td><td>1                  </td><td>615                </td><td>615                </td><td> 0                 </td><td> 833               </td><td> 842               </td><td> -9                </td><td>DL                 </td><td> 575               </td><td>N326NB             </td><td>EWR                </td><td>ATL                </td><td>120                </td><td> 746               </td><td>6                  </td><td>15                 </td><td>2013-01-01 06:00:00</td></tr>\n",
       "\t<tr><td>...</td><td>...</td><td>...</td><td>...</td><td>...</td><td>...</td><td>...</td><td>...</td><td>...</td><td>...</td><td>...</td><td>...</td><td>...</td><td>...</td><td>...</td><td>...</td><td>...</td><td>...</td><td>...</td></tr>\n",
       "\t<tr><td>2013               </td><td>9                  </td><td>30                 </td><td>2123               </td><td>2125               </td><td> -2                </td><td>2223               </td><td>2247               </td><td>-24                </td><td>EV                 </td><td>5489               </td><td>N712EV             </td><td>LGA                </td><td>CHO                </td><td> 45                </td><td> 305               </td><td>21                 </td><td>25                 </td><td>2013-09-30 21:00:00</td></tr>\n",
       "\t<tr><td>2013               </td><td>9                  </td><td>30                 </td><td>2127               </td><td>2129               </td><td> -2                </td><td>2314               </td><td>2323               </td><td> -9                </td><td>EV                 </td><td>3833               </td><td>N16546             </td><td>EWR                </td><td>CLT                </td><td> 72                </td><td> 529               </td><td>21                 </td><td>29                 </td><td>2013-09-30 21:00:00</td></tr>\n",
       "\t<tr><td>2013               </td><td>9                  </td><td>30                 </td><td>2128               </td><td>2130               </td><td> -2                </td><td>2328               </td><td>2359               </td><td>-31                </td><td>B6                 </td><td>  97               </td><td>N807JB             </td><td>JFK                </td><td>DEN                </td><td>213                </td><td>1626               </td><td>21                 </td><td>30                 </td><td>2013-09-30 21:00:00</td></tr>\n",
       "\t<tr><td>2013               </td><td>9                  </td><td>30                 </td><td>2129               </td><td>2059               </td><td> 30                </td><td>2230               </td><td>2232               </td><td> -2                </td><td>EV                 </td><td>5048               </td><td>N751EV             </td><td>LGA                </td><td>RIC                </td><td> 45                </td><td> 292               </td><td>20                 </td><td>59                 </td><td>2013-09-30 20:00:00</td></tr>\n",
       "\t<tr><td>2013               </td><td>9                  </td><td>30                 </td><td>2131               </td><td>2140               </td><td> -9                </td><td>2225               </td><td>2255               </td><td>-30                </td><td>MQ                 </td><td>3621               </td><td>N807MQ             </td><td>JFK                </td><td>DCA                </td><td> 36                </td><td> 213               </td><td>21                 </td><td>40                 </td><td>2013-09-30 21:00:00</td></tr>\n",
       "\t<tr><td>2013               </td><td>9                  </td><td>30                 </td><td>2140               </td><td>2140               </td><td>  0                </td><td>  10               </td><td>  40               </td><td>-30                </td><td>AA                 </td><td> 185               </td><td>N335AA             </td><td>JFK                </td><td>LAX                </td><td>298                </td><td>2475               </td><td>21                 </td><td>40                 </td><td>2013-09-30 21:00:00</td></tr>\n",
       "\t<tr><td>2013               </td><td>9                  </td><td>30                 </td><td>2142               </td><td>2129               </td><td> 13                </td><td>2250               </td><td>2239               </td><td> 11                </td><td>EV                 </td><td>4509               </td><td>N12957             </td><td>EWR                </td><td>PWM                </td><td> 47                </td><td> 284               </td><td>21                 </td><td>29                 </td><td>2013-09-30 21:00:00</td></tr>\n",
       "\t<tr><td>2013               </td><td>9                  </td><td>30                 </td><td>2145               </td><td>2145               </td><td>  0                </td><td> 115               </td><td> 140               </td><td>-25                </td><td>B6                 </td><td>1103               </td><td>N633JB             </td><td>JFK                </td><td>SJU                </td><td>192                </td><td>1598               </td><td>21                 </td><td>45                 </td><td>2013-09-30 21:00:00</td></tr>\n",
       "\t<tr><td>2013               </td><td>9                  </td><td>30                 </td><td>2147               </td><td>2137               </td><td> 10                </td><td>  30               </td><td>  27               </td><td>  3                </td><td>B6                 </td><td>1371               </td><td>N627JB             </td><td>LGA                </td><td>FLL                </td><td>139                </td><td>1076               </td><td>21                 </td><td>37                 </td><td>2013-09-30 21:00:00</td></tr>\n",
       "\t<tr><td>2013               </td><td>9                  </td><td>30                 </td><td>2149               </td><td>2156               </td><td> -7                </td><td>2245               </td><td>2308               </td><td>-23                </td><td>UA                 </td><td> 523               </td><td>N813UA             </td><td>EWR                </td><td>BOS                </td><td> 37                </td><td> 200               </td><td>21                 </td><td>56                 </td><td>2013-09-30 21:00:00</td></tr>\n",
       "\t<tr><td>2013               </td><td>9                  </td><td>30                 </td><td>2150               </td><td>2159               </td><td> -9                </td><td>2250               </td><td>2306               </td><td>-16                </td><td>EV                 </td><td>3842               </td><td>N10575             </td><td>EWR                </td><td>MHT                </td><td> 39                </td><td> 209               </td><td>21                 </td><td>59                 </td><td>2013-09-30 21:00:00</td></tr>\n",
       "\t<tr><td>2013               </td><td>9                  </td><td>30                 </td><td>2159               </td><td>1845               </td><td>194                </td><td>2344               </td><td>2030               </td><td>194                </td><td>9E                 </td><td>3320               </td><td>N906XJ             </td><td>JFK                </td><td>BUF                </td><td> 50                </td><td> 301               </td><td>18                 </td><td>45                 </td><td>2013-09-30 18:00:00</td></tr>\n",
       "\t<tr><td>2013               </td><td>9                  </td><td>30                 </td><td>2203               </td><td>2205               </td><td> -2                </td><td>2339               </td><td>2331               </td><td>  8                </td><td>EV                 </td><td>5311               </td><td>N722EV             </td><td>LGA                </td><td>BGR                </td><td> 61                </td><td> 378               </td><td>22                 </td><td> 5                 </td><td>2013-09-30 22:00:00</td></tr>\n",
       "\t<tr><td>2013               </td><td>9                  </td><td>30                 </td><td>2207               </td><td>2140               </td><td> 27                </td><td>2257               </td><td>2250               </td><td>  7                </td><td>MQ                 </td><td>3660               </td><td>N532MQ             </td><td>LGA                </td><td>BNA                </td><td> 97                </td><td> 764               </td><td>21                 </td><td>40                 </td><td>2013-09-30 21:00:00</td></tr>\n",
       "\t<tr><td>2013               </td><td>9                  </td><td>30                 </td><td>2211               </td><td>2059               </td><td> 72                </td><td>2339               </td><td>2242               </td><td> 57                </td><td>EV                 </td><td>4672               </td><td>N12145             </td><td>EWR                </td><td>STL                </td><td>120                </td><td> 872               </td><td>20                 </td><td>59                 </td><td>2013-09-30 20:00:00</td></tr>\n",
       "\t<tr><td>2013               </td><td>9                  </td><td>30                 </td><td>2231               </td><td>2245               </td><td>-14                </td><td>2335               </td><td>2356               </td><td>-21                </td><td>B6                 </td><td> 108               </td><td>N193JB             </td><td>JFK                </td><td>PWM                </td><td> 48                </td><td> 273               </td><td>22                 </td><td>45                 </td><td>2013-09-30 22:00:00</td></tr>\n",
       "\t<tr><td>2013               </td><td>9                  </td><td>30                 </td><td>2233               </td><td>2113               </td><td> 80                </td><td> 112               </td><td>  30               </td><td> 42                </td><td>UA                 </td><td> 471               </td><td>N578UA             </td><td>EWR                </td><td>SFO                </td><td>318                </td><td>2565               </td><td>21                 </td><td>13                 </td><td>2013-09-30 21:00:00</td></tr>\n",
       "\t<tr><td>2013               </td><td>9                  </td><td>30                 </td><td>2235               </td><td>2001               </td><td>154                </td><td>  59               </td><td>2249               </td><td>130                </td><td>B6                 </td><td>1083               </td><td>N804JB             </td><td>JFK                </td><td>MCO                </td><td>123                </td><td> 944               </td><td>20                 </td><td> 1                 </td><td>2013-09-30 20:00:00</td></tr>\n",
       "\t<tr><td>2013               </td><td>9                  </td><td>30                 </td><td>2237               </td><td>2245               </td><td> -8                </td><td>2345               </td><td>2353               </td><td> -8                </td><td>B6                 </td><td> 234               </td><td>N318JB             </td><td>JFK                </td><td>BTV                </td><td> 43                </td><td> 266               </td><td>22                 </td><td>45                 </td><td>2013-09-30 22:00:00</td></tr>\n",
       "\t<tr><td>2013               </td><td>9                  </td><td>30                 </td><td>2240               </td><td>2245               </td><td> -5                </td><td>2334               </td><td>2351               </td><td>-17                </td><td>B6                 </td><td>1816               </td><td>N354JB             </td><td>JFK                </td><td>SYR                </td><td> 41                </td><td> 209               </td><td>22                 </td><td>45                 </td><td>2013-09-30 22:00:00</td></tr>\n",
       "\t<tr><td>2013               </td><td>9                  </td><td>30                 </td><td>2240               </td><td>2250               </td><td>-10                </td><td>2347               </td><td>   7               </td><td>-20                </td><td>B6                 </td><td>2002               </td><td>N281JB             </td><td>JFK                </td><td>BUF                </td><td> 52                </td><td> 301               </td><td>22                 </td><td>50                 </td><td>2013-09-30 22:00:00</td></tr>\n",
       "\t<tr><td>2013               </td><td>9                  </td><td>30                 </td><td>2241               </td><td>2246               </td><td> -5                </td><td>2345               </td><td>   1               </td><td>-16                </td><td>B6                 </td><td> 486               </td><td>N346JB             </td><td>JFK                </td><td>ROC                </td><td> 47                </td><td> 264               </td><td>22                 </td><td>46                 </td><td>2013-09-30 22:00:00</td></tr>\n",
       "\t<tr><td>2013               </td><td>9                  </td><td>30                 </td><td>2307               </td><td>2255               </td><td> 12                </td><td>2359               </td><td>2358               </td><td>  1                </td><td>B6                 </td><td> 718               </td><td>N565JB             </td><td>JFK                </td><td>BOS                </td><td> 33                </td><td> 187               </td><td>22                 </td><td>55                 </td><td>2013-09-30 22:00:00</td></tr>\n",
       "\t<tr><td>2013               </td><td>9                  </td><td>30                 </td><td>2349               </td><td>2359               </td><td>-10                </td><td> 325               </td><td> 350               </td><td>-25                </td><td>B6                 </td><td> 745               </td><td>N516JB             </td><td>JFK                </td><td>PSE                </td><td>196                </td><td>1617               </td><td>23                 </td><td>59                 </td><td>2013-09-30 23:00:00</td></tr>\n",
       "\t<tr><td>2013               </td><td>9                  </td><td>30                 </td><td>  NA               </td><td>1842               </td><td> NA                </td><td>  NA               </td><td>2019               </td><td> NA                </td><td>EV                 </td><td>5274               </td><td>N740EV             </td><td>LGA                </td><td>BNA                </td><td> NA                </td><td> 764               </td><td>18                 </td><td>42                 </td><td>2013-09-30 18:00:00</td></tr>\n",
       "\t<tr><td>2013               </td><td>9                  </td><td>30                 </td><td>  NA               </td><td>1455               </td><td> NA                </td><td>  NA               </td><td>1634               </td><td> NA                </td><td>9E                 </td><td>3393               </td><td>NA                 </td><td>JFK                </td><td>DCA                </td><td> NA                </td><td> 213               </td><td>14                 </td><td>55                 </td><td>2013-09-30 14:00:00</td></tr>\n",
       "\t<tr><td>2013               </td><td>9                  </td><td>30                 </td><td>  NA               </td><td>2200               </td><td> NA                </td><td>  NA               </td><td>2312               </td><td> NA                </td><td>9E                 </td><td>3525               </td><td>NA                 </td><td>LGA                </td><td>SYR                </td><td> NA                </td><td> 198               </td><td>22                 </td><td> 0                 </td><td>2013-09-30 22:00:00</td></tr>\n",
       "\t<tr><td>2013               </td><td>9                  </td><td>30                 </td><td>  NA               </td><td>1210               </td><td> NA                </td><td>  NA               </td><td>1330               </td><td> NA                </td><td>MQ                 </td><td>3461               </td><td>N535MQ             </td><td>LGA                </td><td>BNA                </td><td> NA                </td><td> 764               </td><td>12                 </td><td>10                 </td><td>2013-09-30 12:00:00</td></tr>\n",
       "\t<tr><td>2013               </td><td>9                  </td><td>30                 </td><td>  NA               </td><td>1159               </td><td> NA                </td><td>  NA               </td><td>1344               </td><td> NA                </td><td>MQ                 </td><td>3572               </td><td>N511MQ             </td><td>LGA                </td><td>CLE                </td><td> NA                </td><td> 419               </td><td>11                 </td><td>59                 </td><td>2013-09-30 11:00:00</td></tr>\n",
       "\t<tr><td>2013               </td><td>9                  </td><td>30                 </td><td>  NA               </td><td> 840               </td><td> NA                </td><td>  NA               </td><td>1020               </td><td> NA                </td><td>MQ                 </td><td>3531               </td><td>N839MQ             </td><td>LGA                </td><td>RDU                </td><td> NA                </td><td> 431               </td><td> 8                 </td><td>40                 </td><td>2013-09-30 08:00:00</td></tr>\n",
       "</tbody>\n",
       "</table>\n"
      ],
      "text/latex": [
       "\\begin{tabular}{r|lllllllllllllllllll}\n",
       " year & month & day & dep\\_time & sched\\_dep\\_time & dep\\_delay & new\\_arr\\_time & sched\\_arr\\_time & arr\\_delay & carrier & flight & tailnum & origin & dest & air\\_time & distance & hour & minute & time\\_hour\\\\\n",
       "\\hline\n",
       "\t 2013                & 1                   & 1                   & 517                 & 515                 &  2                  &  830                &  819                &  11                 & UA                  & 1545                & N14228              & EWR                 & IAH                 & 227                 & 1400                & 5                   & 15                  & 2013-01-01 05:00:00\\\\\n",
       "\t 2013                & 1                   & 1                   & 533                 & 529                 &  4                  &  850                &  830                &  20                 & UA                  & 1714                & N24211              & LGA                 & IAH                 & 227                 & 1416                & 5                   & 29                  & 2013-01-01 05:00:00\\\\\n",
       "\t 2013                & 1                   & 1                   & 542                 & 540                 &  2                  &  923                &  850                &  33                 & AA                  & 1141                & N619AA              & JFK                 & MIA                 & 160                 & 1089                & 5                   & 40                  & 2013-01-01 05:00:00\\\\\n",
       "\t 2013                & 1                   & 1                   & 544                 & 545                 & -1                  & 1004                & 1022                & -18                 & B6                  &  725                & N804JB              & JFK                 & BQN                 & 183                 & 1576                & 5                   & 45                  & 2013-01-01 05:00:00\\\\\n",
       "\t 2013                & 1                   & 1                   & 554                 & 600                 & -6                  &  812                &  837                & -25                 & DL                  &  461                & N668DN              & LGA                 & ATL                 & 116                 &  762                & 6                   &  0                  & 2013-01-01 06:00:00\\\\\n",
       "\t 2013                & 1                   & 1                   & 554                 & 558                 & -4                  &  740                &  728                &  12                 & UA                  & 1696                & N39463              & EWR                 & ORD                 & 150                 &  719                & 5                   & 58                  & 2013-01-01 05:00:00\\\\\n",
       "\t 2013                & 1                   & 1                   & 555                 & 600                 & -5                  &  913                &  854                &  19                 & B6                  &  507                & N516JB              & EWR                 & FLL                 & 158                 & 1065                & 6                   &  0                  & 2013-01-01 06:00:00\\\\\n",
       "\t 2013                & 1                   & 1                   & 557                 & 600                 & -3                  &  709                &  723                & -14                 & EV                  & 5708                & N829AS              & LGA                 & IAD                 &  53                 &  229                & 6                   &  0                  & 2013-01-01 06:00:00\\\\\n",
       "\t 2013                & 1                   & 1                   & 557                 & 600                 & -3                  &  838                &  846                &  -8                 & B6                  &   79                & N593JB              & JFK                 & MCO                 & 140                 &  944                & 6                   &  0                  & 2013-01-01 06:00:00\\\\\n",
       "\t 2013                & 1                   & 1                   & 558                 & 600                 & -2                  &  753                &  745                &   8                 & AA                  &  301                & N3ALAA              & LGA                 & ORD                 & 138                 &  733                & 6                   &  0                  & 2013-01-01 06:00:00\\\\\n",
       "\t 2013                & 1                   & 1                   & 558                 & 600                 & -2                  &  849                &  851                &  -2                 & B6                  &   49                & N793JB              & JFK                 & PBI                 & 149                 & 1028                & 6                   &  0                  & 2013-01-01 06:00:00\\\\\n",
       "\t 2013                & 1                   & 1                   & 558                 & 600                 & -2                  &  853                &  856                &  -3                 & B6                  &   71                & N657JB              & JFK                 & TPA                 & 158                 & 1005                & 6                   &  0                  & 2013-01-01 06:00:00\\\\\n",
       "\t 2013                & 1                   & 1                   & 558                 & 600                 & -2                  &  924                &  917                &   7                 & UA                  &  194                & N29129              & JFK                 & LAX                 & 345                 & 2475                & 6                   &  0                  & 2013-01-01 06:00:00\\\\\n",
       "\t 2013                & 1                   & 1                   & 558                 & 600                 & -2                  &  923                &  937                & -14                 & UA                  & 1124                & N53441              & EWR                 & SFO                 & 361                 & 2565                & 6                   &  0                  & 2013-01-01 06:00:00\\\\\n",
       "\t 2013                & 1                   & 1                   & 559                 & 600                 & -1                  &  941                &  910                &  31                 & AA                  &  707                & N3DUAA              & LGA                 & DFW                 & 257                 & 1389                & 6                   &  0                  & 2013-01-01 06:00:00\\\\\n",
       "\t 2013                & 1                   & 1                   & 559                 & 559                 &  0                  &  702                &  706                &  -4                 & B6                  & 1806                & N708JB              & JFK                 & BOS                 &  44                 &  187                & 5                   & 59                  & 2013-01-01 05:00:00\\\\\n",
       "\t 2013                & 1                   & 1                   & 559                 & 600                 & -1                  &  854                &  902                &  -8                 & UA                  & 1187                & N76515              & EWR                 & LAS                 & 337                 & 2227                & 6                   &  0                  & 2013-01-01 06:00:00\\\\\n",
       "\t 2013                & 1                   & 1                   & 600                 & 600                 &  0                  &  851                &  858                &  -7                 & B6                  &  371                & N595JB              & LGA                 & FLL                 & 152                 & 1076                & 6                   &  0                  & 2013-01-01 06:00:00\\\\\n",
       "\t 2013                & 1                   & 1                   & 600                 & 600                 &  0                  &  837                &  825                &  12                 & MQ                  & 4650                & N542MQ              & LGA                 & ATL                 & 134                 &  762                & 6                   &  0                  & 2013-01-01 06:00:00\\\\\n",
       "\t 2013                & 1                   & 1                   & 601                 & 600                 &  1                  &  844                &  850                &  -6                 & B6                  &  343                & N644JB              & EWR                 & PBI                 & 147                 & 1023                & 6                   &  0                  & 2013-01-01 06:00:00\\\\\n",
       "\t 2013                & 1                   & 1                   & 602                 & 610                 & -8                  &  812                &  820                &  -8                 & DL                  & 1919                & N971DL              & LGA                 & MSP                 & 170                 & 1020                & 6                   & 10                  & 2013-01-01 06:00:00\\\\\n",
       "\t 2013                & 1                   & 1                   & 602                 & 605                 & -3                  &  821                &  805                &  16                 & MQ                  & 4401                & N730MQ              & LGA                 & DTW                 & 105                 &  502                & 6                   &  5                  & 2013-01-01 06:00:00\\\\\n",
       "\t 2013                & 1                   & 1                   & 606                 & 610                 & -4                  &  858                &  910                & -12                 & AA                  & 1895                & N633AA              & EWR                 & MIA                 & 152                 & 1085                & 6                   & 10                  & 2013-01-01 06:00:00\\\\\n",
       "\t 2013                & 1                   & 1                   & 606                 & 610                 & -4                  &  837                &  845                &  -8                 & DL                  & 1743                & N3739P              & JFK                 & ATL                 & 128                 &  760                & 6                   & 10                  & 2013-01-01 06:00:00\\\\\n",
       "\t 2013                & 1                   & 1                   & 607                 & 607                 &  0                  &  858                &  915                & -17                 & UA                  & 1077                & N53442              & EWR                 & MIA                 & 157                 & 1085                & 6                   &  7                  & 2013-01-01 06:00:00\\\\\n",
       "\t 2013                & 1                   & 1                   & 608                 & 600                 &  8                  &  807                &  735                &  32                 & MQ                  & 3768                & N9EAMQ              & EWR                 & ORD                 & 139                 &  719                & 6                   &  0                  & 2013-01-01 06:00:00\\\\\n",
       "\t 2013                & 1                   & 1                   & 611                 & 600                 & 11                  &  945                &  931                &  14                 & UA                  &  303                & N532UA              & JFK                 & SFO                 & 366                 & 2586                & 6                   &  0                  & 2013-01-01 06:00:00\\\\\n",
       "\t 2013                & 1                   & 1                   & 613                 & 610                 &  3                  &  925                &  921                &   4                 & B6                  &  135                & N635JB              & JFK                 & RSW                 & 175                 & 1074                & 6                   & 10                  & 2013-01-01 06:00:00\\\\\n",
       "\t 2013                & 1                   & 1                   & 615                 & 615                 &  0                  & 1039                & 1100                & -21                 & B6                  &  709                & N794JB              & JFK                 & SJU                 & 182                 & 1598                & 6                   & 15                  & 2013-01-01 06:00:00\\\\\n",
       "\t 2013                & 1                   & 1                   & 615                 & 615                 &  0                  &  833                &  842                &  -9                 & DL                  &  575                & N326NB              & EWR                 & ATL                 & 120                 &  746                & 6                   & 15                  & 2013-01-01 06:00:00\\\\\n",
       "\t ... & ... & ... & ... & ... & ... & ... & ... & ... & ... & ... & ... & ... & ... & ... & ... & ... & ... & ...\\\\\n",
       "\t 2013                & 9                   & 30                  & 2123                & 2125                &  -2                 & 2223                & 2247                & -24                 & EV                  & 5489                & N712EV              & LGA                 & CHO                 &  45                 &  305                & 21                  & 25                  & 2013-09-30 21:00:00\\\\\n",
       "\t 2013                & 9                   & 30                  & 2127                & 2129                &  -2                 & 2314                & 2323                &  -9                 & EV                  & 3833                & N16546              & EWR                 & CLT                 &  72                 &  529                & 21                  & 29                  & 2013-09-30 21:00:00\\\\\n",
       "\t 2013                & 9                   & 30                  & 2128                & 2130                &  -2                 & 2328                & 2359                & -31                 & B6                  &   97                & N807JB              & JFK                 & DEN                 & 213                 & 1626                & 21                  & 30                  & 2013-09-30 21:00:00\\\\\n",
       "\t 2013                & 9                   & 30                  & 2129                & 2059                &  30                 & 2230                & 2232                &  -2                 & EV                  & 5048                & N751EV              & LGA                 & RIC                 &  45                 &  292                & 20                  & 59                  & 2013-09-30 20:00:00\\\\\n",
       "\t 2013                & 9                   & 30                  & 2131                & 2140                &  -9                 & 2225                & 2255                & -30                 & MQ                  & 3621                & N807MQ              & JFK                 & DCA                 &  36                 &  213                & 21                  & 40                  & 2013-09-30 21:00:00\\\\\n",
       "\t 2013                & 9                   & 30                  & 2140                & 2140                &   0                 &   10                &   40                & -30                 & AA                  &  185                & N335AA              & JFK                 & LAX                 & 298                 & 2475                & 21                  & 40                  & 2013-09-30 21:00:00\\\\\n",
       "\t 2013                & 9                   & 30                  & 2142                & 2129                &  13                 & 2250                & 2239                &  11                 & EV                  & 4509                & N12957              & EWR                 & PWM                 &  47                 &  284                & 21                  & 29                  & 2013-09-30 21:00:00\\\\\n",
       "\t 2013                & 9                   & 30                  & 2145                & 2145                &   0                 &  115                &  140                & -25                 & B6                  & 1103                & N633JB              & JFK                 & SJU                 & 192                 & 1598                & 21                  & 45                  & 2013-09-30 21:00:00\\\\\n",
       "\t 2013                & 9                   & 30                  & 2147                & 2137                &  10                 &   30                &   27                &   3                 & B6                  & 1371                & N627JB              & LGA                 & FLL                 & 139                 & 1076                & 21                  & 37                  & 2013-09-30 21:00:00\\\\\n",
       "\t 2013                & 9                   & 30                  & 2149                & 2156                &  -7                 & 2245                & 2308                & -23                 & UA                  &  523                & N813UA              & EWR                 & BOS                 &  37                 &  200                & 21                  & 56                  & 2013-09-30 21:00:00\\\\\n",
       "\t 2013                & 9                   & 30                  & 2150                & 2159                &  -9                 & 2250                & 2306                & -16                 & EV                  & 3842                & N10575              & EWR                 & MHT                 &  39                 &  209                & 21                  & 59                  & 2013-09-30 21:00:00\\\\\n",
       "\t 2013                & 9                   & 30                  & 2159                & 1845                & 194                 & 2344                & 2030                & 194                 & 9E                  & 3320                & N906XJ              & JFK                 & BUF                 &  50                 &  301                & 18                  & 45                  & 2013-09-30 18:00:00\\\\\n",
       "\t 2013                & 9                   & 30                  & 2203                & 2205                &  -2                 & 2339                & 2331                &   8                 & EV                  & 5311                & N722EV              & LGA                 & BGR                 &  61                 &  378                & 22                  &  5                  & 2013-09-30 22:00:00\\\\\n",
       "\t 2013                & 9                   & 30                  & 2207                & 2140                &  27                 & 2257                & 2250                &   7                 & MQ                  & 3660                & N532MQ              & LGA                 & BNA                 &  97                 &  764                & 21                  & 40                  & 2013-09-30 21:00:00\\\\\n",
       "\t 2013                & 9                   & 30                  & 2211                & 2059                &  72                 & 2339                & 2242                &  57                 & EV                  & 4672                & N12145              & EWR                 & STL                 & 120                 &  872                & 20                  & 59                  & 2013-09-30 20:00:00\\\\\n",
       "\t 2013                & 9                   & 30                  & 2231                & 2245                & -14                 & 2335                & 2356                & -21                 & B6                  &  108                & N193JB              & JFK                 & PWM                 &  48                 &  273                & 22                  & 45                  & 2013-09-30 22:00:00\\\\\n",
       "\t 2013                & 9                   & 30                  & 2233                & 2113                &  80                 &  112                &   30                &  42                 & UA                  &  471                & N578UA              & EWR                 & SFO                 & 318                 & 2565                & 21                  & 13                  & 2013-09-30 21:00:00\\\\\n",
       "\t 2013                & 9                   & 30                  & 2235                & 2001                & 154                 &   59                & 2249                & 130                 & B6                  & 1083                & N804JB              & JFK                 & MCO                 & 123                 &  944                & 20                  &  1                  & 2013-09-30 20:00:00\\\\\n",
       "\t 2013                & 9                   & 30                  & 2237                & 2245                &  -8                 & 2345                & 2353                &  -8                 & B6                  &  234                & N318JB              & JFK                 & BTV                 &  43                 &  266                & 22                  & 45                  & 2013-09-30 22:00:00\\\\\n",
       "\t 2013                & 9                   & 30                  & 2240                & 2245                &  -5                 & 2334                & 2351                & -17                 & B6                  & 1816                & N354JB              & JFK                 & SYR                 &  41                 &  209                & 22                  & 45                  & 2013-09-30 22:00:00\\\\\n",
       "\t 2013                & 9                   & 30                  & 2240                & 2250                & -10                 & 2347                &    7                & -20                 & B6                  & 2002                & N281JB              & JFK                 & BUF                 &  52                 &  301                & 22                  & 50                  & 2013-09-30 22:00:00\\\\\n",
       "\t 2013                & 9                   & 30                  & 2241                & 2246                &  -5                 & 2345                &    1                & -16                 & B6                  &  486                & N346JB              & JFK                 & ROC                 &  47                 &  264                & 22                  & 46                  & 2013-09-30 22:00:00\\\\\n",
       "\t 2013                & 9                   & 30                  & 2307                & 2255                &  12                 & 2359                & 2358                &   1                 & B6                  &  718                & N565JB              & JFK                 & BOS                 &  33                 &  187                & 22                  & 55                  & 2013-09-30 22:00:00\\\\\n",
       "\t 2013                & 9                   & 30                  & 2349                & 2359                & -10                 &  325                &  350                & -25                 & B6                  &  745                & N516JB              & JFK                 & PSE                 & 196                 & 1617                & 23                  & 59                  & 2013-09-30 23:00:00\\\\\n",
       "\t 2013                & 9                   & 30                  &   NA                & 1842                &  NA                 &   NA                & 2019                &  NA                 & EV                  & 5274                & N740EV              & LGA                 & BNA                 &  NA                 &  764                & 18                  & 42                  & 2013-09-30 18:00:00\\\\\n",
       "\t 2013                & 9                   & 30                  &   NA                & 1455                &  NA                 &   NA                & 1634                &  NA                 & 9E                  & 3393                & NA                  & JFK                 & DCA                 &  NA                 &  213                & 14                  & 55                  & 2013-09-30 14:00:00\\\\\n",
       "\t 2013                & 9                   & 30                  &   NA                & 2200                &  NA                 &   NA                & 2312                &  NA                 & 9E                  & 3525                & NA                  & LGA                 & SYR                 &  NA                 &  198                & 22                  &  0                  & 2013-09-30 22:00:00\\\\\n",
       "\t 2013                & 9                   & 30                  &   NA                & 1210                &  NA                 &   NA                & 1330                &  NA                 & MQ                  & 3461                & N535MQ              & LGA                 & BNA                 &  NA                 &  764                & 12                  & 10                  & 2013-09-30 12:00:00\\\\\n",
       "\t 2013                & 9                   & 30                  &   NA                & 1159                &  NA                 &   NA                & 1344                &  NA                 & MQ                  & 3572                & N511MQ              & LGA                 & CLE                 &  NA                 &  419                & 11                  & 59                  & 2013-09-30 11:00:00\\\\\n",
       "\t 2013                & 9                   & 30                  &   NA                &  840                &  NA                 &   NA                & 1020                &  NA                 & MQ                  & 3531                & N839MQ              & LGA                 & RDU                 &  NA                 &  431                &  8                  & 40                  & 2013-09-30 08:00:00\\\\\n",
       "\\end{tabular}\n"
      ],
      "text/markdown": [
       "\n",
       "| year | month | day | dep_time | sched_dep_time | dep_delay | new_arr_time | sched_arr_time | arr_delay | carrier | flight | tailnum | origin | dest | air_time | distance | hour | minute | time_hour |\n",
       "|---|---|---|---|---|---|---|---|---|---|---|---|---|---|---|---|---|---|---|\n",
       "| 2013                | 1                   | 1                   | 517                 | 515                 |  2                  |  830                |  819                |  11                 | UA                  | 1545                | N14228              | EWR                 | IAH                 | 227                 | 1400                | 5                   | 15                  | 2013-01-01 05:00:00 |\n",
       "| 2013                | 1                   | 1                   | 533                 | 529                 |  4                  |  850                |  830                |  20                 | UA                  | 1714                | N24211              | LGA                 | IAH                 | 227                 | 1416                | 5                   | 29                  | 2013-01-01 05:00:00 |\n",
       "| 2013                | 1                   | 1                   | 542                 | 540                 |  2                  |  923                |  850                |  33                 | AA                  | 1141                | N619AA              | JFK                 | MIA                 | 160                 | 1089                | 5                   | 40                  | 2013-01-01 05:00:00 |\n",
       "| 2013                | 1                   | 1                   | 544                 | 545                 | -1                  | 1004                | 1022                | -18                 | B6                  |  725                | N804JB              | JFK                 | BQN                 | 183                 | 1576                | 5                   | 45                  | 2013-01-01 05:00:00 |\n",
       "| 2013                | 1                   | 1                   | 554                 | 600                 | -6                  |  812                |  837                | -25                 | DL                  |  461                | N668DN              | LGA                 | ATL                 | 116                 |  762                | 6                   |  0                  | 2013-01-01 06:00:00 |\n",
       "| 2013                | 1                   | 1                   | 554                 | 558                 | -4                  |  740                |  728                |  12                 | UA                  | 1696                | N39463              | EWR                 | ORD                 | 150                 |  719                | 5                   | 58                  | 2013-01-01 05:00:00 |\n",
       "| 2013                | 1                   | 1                   | 555                 | 600                 | -5                  |  913                |  854                |  19                 | B6                  |  507                | N516JB              | EWR                 | FLL                 | 158                 | 1065                | 6                   |  0                  | 2013-01-01 06:00:00 |\n",
       "| 2013                | 1                   | 1                   | 557                 | 600                 | -3                  |  709                |  723                | -14                 | EV                  | 5708                | N829AS              | LGA                 | IAD                 |  53                 |  229                | 6                   |  0                  | 2013-01-01 06:00:00 |\n",
       "| 2013                | 1                   | 1                   | 557                 | 600                 | -3                  |  838                |  846                |  -8                 | B6                  |   79                | N593JB              | JFK                 | MCO                 | 140                 |  944                | 6                   |  0                  | 2013-01-01 06:00:00 |\n",
       "| 2013                | 1                   | 1                   | 558                 | 600                 | -2                  |  753                |  745                |   8                 | AA                  |  301                | N3ALAA              | LGA                 | ORD                 | 138                 |  733                | 6                   |  0                  | 2013-01-01 06:00:00 |\n",
       "| 2013                | 1                   | 1                   | 558                 | 600                 | -2                  |  849                |  851                |  -2                 | B6                  |   49                | N793JB              | JFK                 | PBI                 | 149                 | 1028                | 6                   |  0                  | 2013-01-01 06:00:00 |\n",
       "| 2013                | 1                   | 1                   | 558                 | 600                 | -2                  |  853                |  856                |  -3                 | B6                  |   71                | N657JB              | JFK                 | TPA                 | 158                 | 1005                | 6                   |  0                  | 2013-01-01 06:00:00 |\n",
       "| 2013                | 1                   | 1                   | 558                 | 600                 | -2                  |  924                |  917                |   7                 | UA                  |  194                | N29129              | JFK                 | LAX                 | 345                 | 2475                | 6                   |  0                  | 2013-01-01 06:00:00 |\n",
       "| 2013                | 1                   | 1                   | 558                 | 600                 | -2                  |  923                |  937                | -14                 | UA                  | 1124                | N53441              | EWR                 | SFO                 | 361                 | 2565                | 6                   |  0                  | 2013-01-01 06:00:00 |\n",
       "| 2013                | 1                   | 1                   | 559                 | 600                 | -1                  |  941                |  910                |  31                 | AA                  |  707                | N3DUAA              | LGA                 | DFW                 | 257                 | 1389                | 6                   |  0                  | 2013-01-01 06:00:00 |\n",
       "| 2013                | 1                   | 1                   | 559                 | 559                 |  0                  |  702                |  706                |  -4                 | B6                  | 1806                | N708JB              | JFK                 | BOS                 |  44                 |  187                | 5                   | 59                  | 2013-01-01 05:00:00 |\n",
       "| 2013                | 1                   | 1                   | 559                 | 600                 | -1                  |  854                |  902                |  -8                 | UA                  | 1187                | N76515              | EWR                 | LAS                 | 337                 | 2227                | 6                   |  0                  | 2013-01-01 06:00:00 |\n",
       "| 2013                | 1                   | 1                   | 600                 | 600                 |  0                  |  851                |  858                |  -7                 | B6                  |  371                | N595JB              | LGA                 | FLL                 | 152                 | 1076                | 6                   |  0                  | 2013-01-01 06:00:00 |\n",
       "| 2013                | 1                   | 1                   | 600                 | 600                 |  0                  |  837                |  825                |  12                 | MQ                  | 4650                | N542MQ              | LGA                 | ATL                 | 134                 |  762                | 6                   |  0                  | 2013-01-01 06:00:00 |\n",
       "| 2013                | 1                   | 1                   | 601                 | 600                 |  1                  |  844                |  850                |  -6                 | B6                  |  343                | N644JB              | EWR                 | PBI                 | 147                 | 1023                | 6                   |  0                  | 2013-01-01 06:00:00 |\n",
       "| 2013                | 1                   | 1                   | 602                 | 610                 | -8                  |  812                |  820                |  -8                 | DL                  | 1919                | N971DL              | LGA                 | MSP                 | 170                 | 1020                | 6                   | 10                  | 2013-01-01 06:00:00 |\n",
       "| 2013                | 1                   | 1                   | 602                 | 605                 | -3                  |  821                |  805                |  16                 | MQ                  | 4401                | N730MQ              | LGA                 | DTW                 | 105                 |  502                | 6                   |  5                  | 2013-01-01 06:00:00 |\n",
       "| 2013                | 1                   | 1                   | 606                 | 610                 | -4                  |  858                |  910                | -12                 | AA                  | 1895                | N633AA              | EWR                 | MIA                 | 152                 | 1085                | 6                   | 10                  | 2013-01-01 06:00:00 |\n",
       "| 2013                | 1                   | 1                   | 606                 | 610                 | -4                  |  837                |  845                |  -8                 | DL                  | 1743                | N3739P              | JFK                 | ATL                 | 128                 |  760                | 6                   | 10                  | 2013-01-01 06:00:00 |\n",
       "| 2013                | 1                   | 1                   | 607                 | 607                 |  0                  |  858                |  915                | -17                 | UA                  | 1077                | N53442              | EWR                 | MIA                 | 157                 | 1085                | 6                   |  7                  | 2013-01-01 06:00:00 |\n",
       "| 2013                | 1                   | 1                   | 608                 | 600                 |  8                  |  807                |  735                |  32                 | MQ                  | 3768                | N9EAMQ              | EWR                 | ORD                 | 139                 |  719                | 6                   |  0                  | 2013-01-01 06:00:00 |\n",
       "| 2013                | 1                   | 1                   | 611                 | 600                 | 11                  |  945                |  931                |  14                 | UA                  |  303                | N532UA              | JFK                 | SFO                 | 366                 | 2586                | 6                   |  0                  | 2013-01-01 06:00:00 |\n",
       "| 2013                | 1                   | 1                   | 613                 | 610                 |  3                  |  925                |  921                |   4                 | B6                  |  135                | N635JB              | JFK                 | RSW                 | 175                 | 1074                | 6                   | 10                  | 2013-01-01 06:00:00 |\n",
       "| 2013                | 1                   | 1                   | 615                 | 615                 |  0                  | 1039                | 1100                | -21                 | B6                  |  709                | N794JB              | JFK                 | SJU                 | 182                 | 1598                | 6                   | 15                  | 2013-01-01 06:00:00 |\n",
       "| 2013                | 1                   | 1                   | 615                 | 615                 |  0                  |  833                |  842                |  -9                 | DL                  |  575                | N326NB              | EWR                 | ATL                 | 120                 |  746                | 6                   | 15                  | 2013-01-01 06:00:00 |\n",
       "| ... | ... | ... | ... | ... | ... | ... | ... | ... | ... | ... | ... | ... | ... | ... | ... | ... | ... | ... |\n",
       "| 2013                | 9                   | 30                  | 2123                | 2125                |  -2                 | 2223                | 2247                | -24                 | EV                  | 5489                | N712EV              | LGA                 | CHO                 |  45                 |  305                | 21                  | 25                  | 2013-09-30 21:00:00 |\n",
       "| 2013                | 9                   | 30                  | 2127                | 2129                |  -2                 | 2314                | 2323                |  -9                 | EV                  | 3833                | N16546              | EWR                 | CLT                 |  72                 |  529                | 21                  | 29                  | 2013-09-30 21:00:00 |\n",
       "| 2013                | 9                   | 30                  | 2128                | 2130                |  -2                 | 2328                | 2359                | -31                 | B6                  |   97                | N807JB              | JFK                 | DEN                 | 213                 | 1626                | 21                  | 30                  | 2013-09-30 21:00:00 |\n",
       "| 2013                | 9                   | 30                  | 2129                | 2059                |  30                 | 2230                | 2232                |  -2                 | EV                  | 5048                | N751EV              | LGA                 | RIC                 |  45                 |  292                | 20                  | 59                  | 2013-09-30 20:00:00 |\n",
       "| 2013                | 9                   | 30                  | 2131                | 2140                |  -9                 | 2225                | 2255                | -30                 | MQ                  | 3621                | N807MQ              | JFK                 | DCA                 |  36                 |  213                | 21                  | 40                  | 2013-09-30 21:00:00 |\n",
       "| 2013                | 9                   | 30                  | 2140                | 2140                |   0                 |   10                |   40                | -30                 | AA                  |  185                | N335AA              | JFK                 | LAX                 | 298                 | 2475                | 21                  | 40                  | 2013-09-30 21:00:00 |\n",
       "| 2013                | 9                   | 30                  | 2142                | 2129                |  13                 | 2250                | 2239                |  11                 | EV                  | 4509                | N12957              | EWR                 | PWM                 |  47                 |  284                | 21                  | 29                  | 2013-09-30 21:00:00 |\n",
       "| 2013                | 9                   | 30                  | 2145                | 2145                |   0                 |  115                |  140                | -25                 | B6                  | 1103                | N633JB              | JFK                 | SJU                 | 192                 | 1598                | 21                  | 45                  | 2013-09-30 21:00:00 |\n",
       "| 2013                | 9                   | 30                  | 2147                | 2137                |  10                 |   30                |   27                |   3                 | B6                  | 1371                | N627JB              | LGA                 | FLL                 | 139                 | 1076                | 21                  | 37                  | 2013-09-30 21:00:00 |\n",
       "| 2013                | 9                   | 30                  | 2149                | 2156                |  -7                 | 2245                | 2308                | -23                 | UA                  |  523                | N813UA              | EWR                 | BOS                 |  37                 |  200                | 21                  | 56                  | 2013-09-30 21:00:00 |\n",
       "| 2013                | 9                   | 30                  | 2150                | 2159                |  -9                 | 2250                | 2306                | -16                 | EV                  | 3842                | N10575              | EWR                 | MHT                 |  39                 |  209                | 21                  | 59                  | 2013-09-30 21:00:00 |\n",
       "| 2013                | 9                   | 30                  | 2159                | 1845                | 194                 | 2344                | 2030                | 194                 | 9E                  | 3320                | N906XJ              | JFK                 | BUF                 |  50                 |  301                | 18                  | 45                  | 2013-09-30 18:00:00 |\n",
       "| 2013                | 9                   | 30                  | 2203                | 2205                |  -2                 | 2339                | 2331                |   8                 | EV                  | 5311                | N722EV              | LGA                 | BGR                 |  61                 |  378                | 22                  |  5                  | 2013-09-30 22:00:00 |\n",
       "| 2013                | 9                   | 30                  | 2207                | 2140                |  27                 | 2257                | 2250                |   7                 | MQ                  | 3660                | N532MQ              | LGA                 | BNA                 |  97                 |  764                | 21                  | 40                  | 2013-09-30 21:00:00 |\n",
       "| 2013                | 9                   | 30                  | 2211                | 2059                |  72                 | 2339                | 2242                |  57                 | EV                  | 4672                | N12145              | EWR                 | STL                 | 120                 |  872                | 20                  | 59                  | 2013-09-30 20:00:00 |\n",
       "| 2013                | 9                   | 30                  | 2231                | 2245                | -14                 | 2335                | 2356                | -21                 | B6                  |  108                | N193JB              | JFK                 | PWM                 |  48                 |  273                | 22                  | 45                  | 2013-09-30 22:00:00 |\n",
       "| 2013                | 9                   | 30                  | 2233                | 2113                |  80                 |  112                |   30                |  42                 | UA                  |  471                | N578UA              | EWR                 | SFO                 | 318                 | 2565                | 21                  | 13                  | 2013-09-30 21:00:00 |\n",
       "| 2013                | 9                   | 30                  | 2235                | 2001                | 154                 |   59                | 2249                | 130                 | B6                  | 1083                | N804JB              | JFK                 | MCO                 | 123                 |  944                | 20                  |  1                  | 2013-09-30 20:00:00 |\n",
       "| 2013                | 9                   | 30                  | 2237                | 2245                |  -8                 | 2345                | 2353                |  -8                 | B6                  |  234                | N318JB              | JFK                 | BTV                 |  43                 |  266                | 22                  | 45                  | 2013-09-30 22:00:00 |\n",
       "| 2013                | 9                   | 30                  | 2240                | 2245                |  -5                 | 2334                | 2351                | -17                 | B6                  | 1816                | N354JB              | JFK                 | SYR                 |  41                 |  209                | 22                  | 45                  | 2013-09-30 22:00:00 |\n",
       "| 2013                | 9                   | 30                  | 2240                | 2250                | -10                 | 2347                |    7                | -20                 | B6                  | 2002                | N281JB              | JFK                 | BUF                 |  52                 |  301                | 22                  | 50                  | 2013-09-30 22:00:00 |\n",
       "| 2013                | 9                   | 30                  | 2241                | 2246                |  -5                 | 2345                |    1                | -16                 | B6                  |  486                | N346JB              | JFK                 | ROC                 |  47                 |  264                | 22                  | 46                  | 2013-09-30 22:00:00 |\n",
       "| 2013                | 9                   | 30                  | 2307                | 2255                |  12                 | 2359                | 2358                |   1                 | B6                  |  718                | N565JB              | JFK                 | BOS                 |  33                 |  187                | 22                  | 55                  | 2013-09-30 22:00:00 |\n",
       "| 2013                | 9                   | 30                  | 2349                | 2359                | -10                 |  325                |  350                | -25                 | B6                  |  745                | N516JB              | JFK                 | PSE                 | 196                 | 1617                | 23                  | 59                  | 2013-09-30 23:00:00 |\n",
       "| 2013                | 9                   | 30                  |   NA                | 1842                |  NA                 |   NA                | 2019                |  NA                 | EV                  | 5274                | N740EV              | LGA                 | BNA                 |  NA                 |  764                | 18                  | 42                  | 2013-09-30 18:00:00 |\n",
       "| 2013                | 9                   | 30                  |   NA                | 1455                |  NA                 |   NA                | 1634                |  NA                 | 9E                  | 3393                | NA                  | JFK                 | DCA                 |  NA                 |  213                | 14                  | 55                  | 2013-09-30 14:00:00 |\n",
       "| 2013                | 9                   | 30                  |   NA                | 2200                |  NA                 |   NA                | 2312                |  NA                 | 9E                  | 3525                | NA                  | LGA                 | SYR                 |  NA                 |  198                | 22                  |  0                  | 2013-09-30 22:00:00 |\n",
       "| 2013                | 9                   | 30                  |   NA                | 1210                |  NA                 |   NA                | 1330                |  NA                 | MQ                  | 3461                | N535MQ              | LGA                 | BNA                 |  NA                 |  764                | 12                  | 10                  | 2013-09-30 12:00:00 |\n",
       "| 2013                | 9                   | 30                  |   NA                | 1159                |  NA                 |   NA                | 1344                |  NA                 | MQ                  | 3572                | N511MQ              | LGA                 | CLE                 |  NA                 |  419                | 11                  | 59                  | 2013-09-30 11:00:00 |\n",
       "| 2013                | 9                   | 30                  |   NA                |  840                |  NA                 |   NA                | 1020                |  NA                 | MQ                  | 3531                | N839MQ              | LGA                 | RDU                 |  NA                 |  431                |  8                  | 40                  | 2013-09-30 08:00:00 |\n",
       "\n"
      ],
      "text/plain": [
       "       year month day dep_time sched_dep_time dep_delay new_arr_time\n",
       "1      2013 1     1   517      515             2         830        \n",
       "2      2013 1     1   533      529             4         850        \n",
       "3      2013 1     1   542      540             2         923        \n",
       "4      2013 1     1   544      545            -1        1004        \n",
       "5      2013 1     1   554      600            -6         812        \n",
       "6      2013 1     1   554      558            -4         740        \n",
       "7      2013 1     1   555      600            -5         913        \n",
       "8      2013 1     1   557      600            -3         709        \n",
       "9      2013 1     1   557      600            -3         838        \n",
       "10     2013 1     1   558      600            -2         753        \n",
       "11     2013 1     1   558      600            -2         849        \n",
       "12     2013 1     1   558      600            -2         853        \n",
       "13     2013 1     1   558      600            -2         924        \n",
       "14     2013 1     1   558      600            -2         923        \n",
       "15     2013 1     1   559      600            -1         941        \n",
       "16     2013 1     1   559      559             0         702        \n",
       "17     2013 1     1   559      600            -1         854        \n",
       "18     2013 1     1   600      600             0         851        \n",
       "19     2013 1     1   600      600             0         837        \n",
       "20     2013 1     1   601      600             1         844        \n",
       "21     2013 1     1   602      610            -8         812        \n",
       "22     2013 1     1   602      605            -3         821        \n",
       "23     2013 1     1   606      610            -4         858        \n",
       "24     2013 1     1   606      610            -4         837        \n",
       "25     2013 1     1   607      607             0         858        \n",
       "26     2013 1     1   608      600             8         807        \n",
       "27     2013 1     1   611      600            11         945        \n",
       "28     2013 1     1   613      610             3         925        \n",
       "29     2013 1     1   615      615             0        1039        \n",
       "30     2013 1     1   615      615             0         833        \n",
       "...    ...  ...   ... ...      ...            ...       ...         \n",
       "336747 2013 9     30  2123     2125            -2       2223        \n",
       "336748 2013 9     30  2127     2129            -2       2314        \n",
       "336749 2013 9     30  2128     2130            -2       2328        \n",
       "336750 2013 9     30  2129     2059            30       2230        \n",
       "336751 2013 9     30  2131     2140            -9       2225        \n",
       "336752 2013 9     30  2140     2140             0         10        \n",
       "336753 2013 9     30  2142     2129            13       2250        \n",
       "336754 2013 9     30  2145     2145             0        115        \n",
       "336755 2013 9     30  2147     2137            10         30        \n",
       "336756 2013 9     30  2149     2156            -7       2245        \n",
       "336757 2013 9     30  2150     2159            -9       2250        \n",
       "336758 2013 9     30  2159     1845           194       2344        \n",
       "336759 2013 9     30  2203     2205            -2       2339        \n",
       "336760 2013 9     30  2207     2140            27       2257        \n",
       "336761 2013 9     30  2211     2059            72       2339        \n",
       "336762 2013 9     30  2231     2245           -14       2335        \n",
       "336763 2013 9     30  2233     2113            80        112        \n",
       "336764 2013 9     30  2235     2001           154         59        \n",
       "336765 2013 9     30  2237     2245            -8       2345        \n",
       "336766 2013 9     30  2240     2245            -5       2334        \n",
       "336767 2013 9     30  2240     2250           -10       2347        \n",
       "336768 2013 9     30  2241     2246            -5       2345        \n",
       "336769 2013 9     30  2307     2255            12       2359        \n",
       "336770 2013 9     30  2349     2359           -10        325        \n",
       "336771 2013 9     30    NA     1842            NA         NA        \n",
       "336772 2013 9     30    NA     1455            NA         NA        \n",
       "336773 2013 9     30    NA     2200            NA         NA        \n",
       "336774 2013 9     30    NA     1210            NA         NA        \n",
       "336775 2013 9     30    NA     1159            NA         NA        \n",
       "336776 2013 9     30    NA      840            NA         NA        \n",
       "       sched_arr_time arr_delay carrier flight tailnum origin dest air_time\n",
       "1       819            11       UA      1545   N14228  EWR    IAH  227     \n",
       "2       830            20       UA      1714   N24211  LGA    IAH  227     \n",
       "3       850            33       AA      1141   N619AA  JFK    MIA  160     \n",
       "4      1022           -18       B6       725   N804JB  JFK    BQN  183     \n",
       "5       837           -25       DL       461   N668DN  LGA    ATL  116     \n",
       "6       728            12       UA      1696   N39463  EWR    ORD  150     \n",
       "7       854            19       B6       507   N516JB  EWR    FLL  158     \n",
       "8       723           -14       EV      5708   N829AS  LGA    IAD   53     \n",
       "9       846            -8       B6        79   N593JB  JFK    MCO  140     \n",
       "10      745             8       AA       301   N3ALAA  LGA    ORD  138     \n",
       "11      851            -2       B6        49   N793JB  JFK    PBI  149     \n",
       "12      856            -3       B6        71   N657JB  JFK    TPA  158     \n",
       "13      917             7       UA       194   N29129  JFK    LAX  345     \n",
       "14      937           -14       UA      1124   N53441  EWR    SFO  361     \n",
       "15      910            31       AA       707   N3DUAA  LGA    DFW  257     \n",
       "16      706            -4       B6      1806   N708JB  JFK    BOS   44     \n",
       "17      902            -8       UA      1187   N76515  EWR    LAS  337     \n",
       "18      858            -7       B6       371   N595JB  LGA    FLL  152     \n",
       "19      825            12       MQ      4650   N542MQ  LGA    ATL  134     \n",
       "20      850            -6       B6       343   N644JB  EWR    PBI  147     \n",
       "21      820            -8       DL      1919   N971DL  LGA    MSP  170     \n",
       "22      805            16       MQ      4401   N730MQ  LGA    DTW  105     \n",
       "23      910           -12       AA      1895   N633AA  EWR    MIA  152     \n",
       "24      845            -8       DL      1743   N3739P  JFK    ATL  128     \n",
       "25      915           -17       UA      1077   N53442  EWR    MIA  157     \n",
       "26      735            32       MQ      3768   N9EAMQ  EWR    ORD  139     \n",
       "27      931            14       UA       303   N532UA  JFK    SFO  366     \n",
       "28      921             4       B6       135   N635JB  JFK    RSW  175     \n",
       "29     1100           -21       B6       709   N794JB  JFK    SJU  182     \n",
       "30      842            -9       DL       575   N326NB  EWR    ATL  120     \n",
       "...    ...            ...       ...     ...    ...     ...    ...  ...     \n",
       "336747 2247           -24       EV      5489   N712EV  LGA    CHO   45     \n",
       "336748 2323            -9       EV      3833   N16546  EWR    CLT   72     \n",
       "336749 2359           -31       B6        97   N807JB  JFK    DEN  213     \n",
       "336750 2232            -2       EV      5048   N751EV  LGA    RIC   45     \n",
       "336751 2255           -30       MQ      3621   N807MQ  JFK    DCA   36     \n",
       "336752   40           -30       AA       185   N335AA  JFK    LAX  298     \n",
       "336753 2239            11       EV      4509   N12957  EWR    PWM   47     \n",
       "336754  140           -25       B6      1103   N633JB  JFK    SJU  192     \n",
       "336755   27             3       B6      1371   N627JB  LGA    FLL  139     \n",
       "336756 2308           -23       UA       523   N813UA  EWR    BOS   37     \n",
       "336757 2306           -16       EV      3842   N10575  EWR    MHT   39     \n",
       "336758 2030           194       9E      3320   N906XJ  JFK    BUF   50     \n",
       "336759 2331             8       EV      5311   N722EV  LGA    BGR   61     \n",
       "336760 2250             7       MQ      3660   N532MQ  LGA    BNA   97     \n",
       "336761 2242            57       EV      4672   N12145  EWR    STL  120     \n",
       "336762 2356           -21       B6       108   N193JB  JFK    PWM   48     \n",
       "336763   30            42       UA       471   N578UA  EWR    SFO  318     \n",
       "336764 2249           130       B6      1083   N804JB  JFK    MCO  123     \n",
       "336765 2353            -8       B6       234   N318JB  JFK    BTV   43     \n",
       "336766 2351           -17       B6      1816   N354JB  JFK    SYR   41     \n",
       "336767    7           -20       B6      2002   N281JB  JFK    BUF   52     \n",
       "336768    1           -16       B6       486   N346JB  JFK    ROC   47     \n",
       "336769 2358             1       B6       718   N565JB  JFK    BOS   33     \n",
       "336770  350           -25       B6       745   N516JB  JFK    PSE  196     \n",
       "336771 2019            NA       EV      5274   N740EV  LGA    BNA   NA     \n",
       "336772 1634            NA       9E      3393   NA      JFK    DCA   NA     \n",
       "336773 2312            NA       9E      3525   NA      LGA    SYR   NA     \n",
       "336774 1330            NA       MQ      3461   N535MQ  LGA    BNA   NA     \n",
       "336775 1344            NA       MQ      3572   N511MQ  LGA    CLE   NA     \n",
       "336776 1020            NA       MQ      3531   N839MQ  LGA    RDU   NA     \n",
       "       distance hour minute time_hour          \n",
       "1      1400     5    15     2013-01-01 05:00:00\n",
       "2      1416     5    29     2013-01-01 05:00:00\n",
       "3      1089     5    40     2013-01-01 05:00:00\n",
       "4      1576     5    45     2013-01-01 05:00:00\n",
       "5       762     6     0     2013-01-01 06:00:00\n",
       "6       719     5    58     2013-01-01 05:00:00\n",
       "7      1065     6     0     2013-01-01 06:00:00\n",
       "8       229     6     0     2013-01-01 06:00:00\n",
       "9       944     6     0     2013-01-01 06:00:00\n",
       "10      733     6     0     2013-01-01 06:00:00\n",
       "11     1028     6     0     2013-01-01 06:00:00\n",
       "12     1005     6     0     2013-01-01 06:00:00\n",
       "13     2475     6     0     2013-01-01 06:00:00\n",
       "14     2565     6     0     2013-01-01 06:00:00\n",
       "15     1389     6     0     2013-01-01 06:00:00\n",
       "16      187     5    59     2013-01-01 05:00:00\n",
       "17     2227     6     0     2013-01-01 06:00:00\n",
       "18     1076     6     0     2013-01-01 06:00:00\n",
       "19      762     6     0     2013-01-01 06:00:00\n",
       "20     1023     6     0     2013-01-01 06:00:00\n",
       "21     1020     6    10     2013-01-01 06:00:00\n",
       "22      502     6     5     2013-01-01 06:00:00\n",
       "23     1085     6    10     2013-01-01 06:00:00\n",
       "24      760     6    10     2013-01-01 06:00:00\n",
       "25     1085     6     7     2013-01-01 06:00:00\n",
       "26      719     6     0     2013-01-01 06:00:00\n",
       "27     2586     6     0     2013-01-01 06:00:00\n",
       "28     1074     6    10     2013-01-01 06:00:00\n",
       "29     1598     6    15     2013-01-01 06:00:00\n",
       "30      746     6    15     2013-01-01 06:00:00\n",
       "...    ...      ...  ...    ...                \n",
       "336747  305     21   25     2013-09-30 21:00:00\n",
       "336748  529     21   29     2013-09-30 21:00:00\n",
       "336749 1626     21   30     2013-09-30 21:00:00\n",
       "336750  292     20   59     2013-09-30 20:00:00\n",
       "336751  213     21   40     2013-09-30 21:00:00\n",
       "336752 2475     21   40     2013-09-30 21:00:00\n",
       "336753  284     21   29     2013-09-30 21:00:00\n",
       "336754 1598     21   45     2013-09-30 21:00:00\n",
       "336755 1076     21   37     2013-09-30 21:00:00\n",
       "336756  200     21   56     2013-09-30 21:00:00\n",
       "336757  209     21   59     2013-09-30 21:00:00\n",
       "336758  301     18   45     2013-09-30 18:00:00\n",
       "336759  378     22    5     2013-09-30 22:00:00\n",
       "336760  764     21   40     2013-09-30 21:00:00\n",
       "336761  872     20   59     2013-09-30 20:00:00\n",
       "336762  273     22   45     2013-09-30 22:00:00\n",
       "336763 2565     21   13     2013-09-30 21:00:00\n",
       "336764  944     20    1     2013-09-30 20:00:00\n",
       "336765  266     22   45     2013-09-30 22:00:00\n",
       "336766  209     22   45     2013-09-30 22:00:00\n",
       "336767  301     22   50     2013-09-30 22:00:00\n",
       "336768  264     22   46     2013-09-30 22:00:00\n",
       "336769  187     22   55     2013-09-30 22:00:00\n",
       "336770 1617     23   59     2013-09-30 23:00:00\n",
       "336771  764     18   42     2013-09-30 18:00:00\n",
       "336772  213     14   55     2013-09-30 14:00:00\n",
       "336773  198     22    0     2013-09-30 22:00:00\n",
       "336774  764     12   10     2013-09-30 12:00:00\n",
       "336775  419     11   59     2013-09-30 11:00:00\n",
       "336776  431      8   40     2013-09-30 08:00:00"
      ]
     },
     "metadata": {},
     "output_type": "display_data"
    }
   ],
   "source": [
    "rename(flights,new_arr_time = arr_time) # mengubah nama kolom"
   ]
  },
  {
   "cell_type": "markdown",
   "metadata": {},
   "source": [
    "### `distinct()`"
   ]
  },
  {
   "cell_type": "markdown",
   "metadata": {},
   "source": [
    "Untuk menyeleksi nilai - nilai unik"
   ]
  },
  {
   "cell_type": "code",
   "execution_count": 412,
   "metadata": {},
   "outputs": [
    {
     "data": {
      "text/html": [
       "<table>\n",
       "<thead><tr><th scope=col>carrier</th></tr></thead>\n",
       "<tbody>\n",
       "\t<tr><td>UA</td></tr>\n",
       "\t<tr><td>AA</td></tr>\n",
       "\t<tr><td>B6</td></tr>\n",
       "\t<tr><td>DL</td></tr>\n",
       "\t<tr><td>EV</td></tr>\n",
       "\t<tr><td>MQ</td></tr>\n",
       "\t<tr><td>US</td></tr>\n",
       "\t<tr><td>WN</td></tr>\n",
       "\t<tr><td>VX</td></tr>\n",
       "\t<tr><td>FL</td></tr>\n",
       "\t<tr><td>AS</td></tr>\n",
       "\t<tr><td>9E</td></tr>\n",
       "\t<tr><td>F9</td></tr>\n",
       "\t<tr><td>HA</td></tr>\n",
       "\t<tr><td>YV</td></tr>\n",
       "\t<tr><td>OO</td></tr>\n",
       "</tbody>\n",
       "</table>\n"
      ],
      "text/latex": [
       "\\begin{tabular}{r|l}\n",
       " carrier\\\\\n",
       "\\hline\n",
       "\t UA\\\\\n",
       "\t AA\\\\\n",
       "\t B6\\\\\n",
       "\t DL\\\\\n",
       "\t EV\\\\\n",
       "\t MQ\\\\\n",
       "\t US\\\\\n",
       "\t WN\\\\\n",
       "\t VX\\\\\n",
       "\t FL\\\\\n",
       "\t AS\\\\\n",
       "\t 9E\\\\\n",
       "\t F9\\\\\n",
       "\t HA\\\\\n",
       "\t YV\\\\\n",
       "\t OO\\\\\n",
       "\\end{tabular}\n"
      ],
      "text/markdown": [
       "\n",
       "| carrier |\n",
       "|---|\n",
       "| UA |\n",
       "| AA |\n",
       "| B6 |\n",
       "| DL |\n",
       "| EV |\n",
       "| MQ |\n",
       "| US |\n",
       "| WN |\n",
       "| VX |\n",
       "| FL |\n",
       "| AS |\n",
       "| 9E |\n",
       "| F9 |\n",
       "| HA |\n",
       "| YV |\n",
       "| OO |\n",
       "\n"
      ],
      "text/plain": [
       "   carrier\n",
       "1  UA     \n",
       "2  AA     \n",
       "3  B6     \n",
       "4  DL     \n",
       "5  EV     \n",
       "6  MQ     \n",
       "7  US     \n",
       "8  WN     \n",
       "9  VX     \n",
       "10 FL     \n",
       "11 AS     \n",
       "12 9E     \n",
       "13 F9     \n",
       "14 HA     \n",
       "15 YV     \n",
       "16 OO     "
      ]
     },
     "metadata": {},
     "output_type": "display_data"
    }
   ],
   "source": [
    "distinct(select(flights, carrier)) # nilai - nilai unik pada kolom carrier"
   ]
  },
  {
   "cell_type": "code",
   "execution_count": 413,
   "metadata": {},
   "outputs": [
    {
     "data": {
      "text/html": [
       "<table>\n",
       "<thead><tr><th scope=col>month</th></tr></thead>\n",
       "<tbody>\n",
       "\t<tr><td> 1</td></tr>\n",
       "\t<tr><td>10</td></tr>\n",
       "\t<tr><td>11</td></tr>\n",
       "\t<tr><td>12</td></tr>\n",
       "\t<tr><td> 2</td></tr>\n",
       "\t<tr><td> 3</td></tr>\n",
       "\t<tr><td> 4</td></tr>\n",
       "\t<tr><td> 5</td></tr>\n",
       "\t<tr><td> 6</td></tr>\n",
       "\t<tr><td> 7</td></tr>\n",
       "\t<tr><td> 8</td></tr>\n",
       "\t<tr><td> 9</td></tr>\n",
       "</tbody>\n",
       "</table>\n"
      ],
      "text/latex": [
       "\\begin{tabular}{r|l}\n",
       " month\\\\\n",
       "\\hline\n",
       "\t  1\\\\\n",
       "\t 10\\\\\n",
       "\t 11\\\\\n",
       "\t 12\\\\\n",
       "\t  2\\\\\n",
       "\t  3\\\\\n",
       "\t  4\\\\\n",
       "\t  5\\\\\n",
       "\t  6\\\\\n",
       "\t  7\\\\\n",
       "\t  8\\\\\n",
       "\t  9\\\\\n",
       "\\end{tabular}\n"
      ],
      "text/markdown": [
       "\n",
       "| month |\n",
       "|---|\n",
       "|  1 |\n",
       "| 10 |\n",
       "| 11 |\n",
       "| 12 |\n",
       "|  2 |\n",
       "|  3 |\n",
       "|  4 |\n",
       "|  5 |\n",
       "|  6 |\n",
       "|  7 |\n",
       "|  8 |\n",
       "|  9 |\n",
       "\n"
      ],
      "text/plain": [
       "   month\n",
       "1   1   \n",
       "2  10   \n",
       "3  11   \n",
       "4  12   \n",
       "5   2   \n",
       "6   3   \n",
       "7   4   \n",
       "8   5   \n",
       "9   6   \n",
       "10  7   \n",
       "11  8   \n",
       "12  9   "
      ]
     },
     "metadata": {},
     "output_type": "display_data"
    }
   ],
   "source": [
    "distinct(select(flights,month))"
   ]
  },
  {
   "cell_type": "markdown",
   "metadata": {},
   "source": [
    "### `mutate()`"
   ]
  },
  {
   "cell_type": "markdown",
   "metadata": {},
   "source": [
    "Menambahkan kolom baru di data frame"
   ]
  },
  {
   "cell_type": "code",
   "execution_count": 418,
   "metadata": {},
   "outputs": [
    {
     "data": {
      "text/html": [
       "<table>\n",
       "<thead><tr><th scope=col>year</th><th scope=col>month</th><th scope=col>day</th><th scope=col>dep_time</th><th scope=col>sched_dep_time</th><th scope=col>dep_delay</th><th scope=col>arr_time</th><th scope=col>sched_arr_time</th><th scope=col>arr_delay</th><th scope=col>carrier</th><th scope=col>flight</th><th scope=col>tailnum</th><th scope=col>origin</th><th scope=col>dest</th><th scope=col>air_time</th><th scope=col>distance</th><th scope=col>hour</th><th scope=col>minute</th><th scope=col>time_hour</th><th scope=col>kol_baru</th></tr></thead>\n",
       "<tbody>\n",
       "\t<tr><td>2013               </td><td>1                  </td><td>1                  </td><td>517                </td><td>515                </td><td> 2                 </td><td> 830               </td><td> 819               </td><td> 11                </td><td>UA                 </td><td>1545               </td><td>N14228             </td><td>EWR                </td><td>IAH                </td><td>227                </td><td>1400               </td><td>5                  </td><td>15                 </td><td>2013-01-01 05:00:00</td><td>  9                </td></tr>\n",
       "\t<tr><td>2013               </td><td>1                  </td><td>1                  </td><td>533                </td><td>529                </td><td> 4                 </td><td> 850               </td><td> 830               </td><td> 20                </td><td>UA                 </td><td>1714               </td><td>N24211             </td><td>LGA                </td><td>IAH                </td><td>227                </td><td>1416               </td><td>5                  </td><td>29                 </td><td>2013-01-01 05:00:00</td><td> 16                </td></tr>\n",
       "\t<tr><td>2013               </td><td>1                  </td><td>1                  </td><td>542                </td><td>540                </td><td> 2                 </td><td> 923               </td><td> 850               </td><td> 33                </td><td>AA                 </td><td>1141               </td><td>N619AA             </td><td>JFK                </td><td>MIA                </td><td>160                </td><td>1089               </td><td>5                  </td><td>40                 </td><td>2013-01-01 05:00:00</td><td> 31                </td></tr>\n",
       "\t<tr><td>2013               </td><td>1                  </td><td>1                  </td><td>544                </td><td>545                </td><td>-1                 </td><td>1004               </td><td>1022               </td><td>-18                </td><td>B6                 </td><td> 725               </td><td>N804JB             </td><td>JFK                </td><td>BQN                </td><td>183                </td><td>1576               </td><td>5                  </td><td>45                 </td><td>2013-01-01 05:00:00</td><td>-17                </td></tr>\n",
       "\t<tr><td>2013               </td><td>1                  </td><td>1                  </td><td>554                </td><td>600                </td><td>-6                 </td><td> 812               </td><td> 837               </td><td>-25                </td><td>DL                 </td><td> 461               </td><td>N668DN             </td><td>LGA                </td><td>ATL                </td><td>116                </td><td> 762               </td><td>6                  </td><td> 0                 </td><td>2013-01-01 06:00:00</td><td>-19                </td></tr>\n",
       "\t<tr><td>2013               </td><td>1                  </td><td>1                  </td><td>554                </td><td>558                </td><td>-4                 </td><td> 740               </td><td> 728               </td><td> 12                </td><td>UA                 </td><td>1696               </td><td>N39463             </td><td>EWR                </td><td>ORD                </td><td>150                </td><td> 719               </td><td>5                  </td><td>58                 </td><td>2013-01-01 05:00:00</td><td> 16                </td></tr>\n",
       "\t<tr><td>2013               </td><td>1                  </td><td>1                  </td><td>555                </td><td>600                </td><td>-5                 </td><td> 913               </td><td> 854               </td><td> 19                </td><td>B6                 </td><td> 507               </td><td>N516JB             </td><td>EWR                </td><td>FLL                </td><td>158                </td><td>1065               </td><td>6                  </td><td> 0                 </td><td>2013-01-01 06:00:00</td><td> 24                </td></tr>\n",
       "\t<tr><td>2013               </td><td>1                  </td><td>1                  </td><td>557                </td><td>600                </td><td>-3                 </td><td> 709               </td><td> 723               </td><td>-14                </td><td>EV                 </td><td>5708               </td><td>N829AS             </td><td>LGA                </td><td>IAD                </td><td> 53                </td><td> 229               </td><td>6                  </td><td> 0                 </td><td>2013-01-01 06:00:00</td><td>-11                </td></tr>\n",
       "\t<tr><td>2013               </td><td>1                  </td><td>1                  </td><td>557                </td><td>600                </td><td>-3                 </td><td> 838               </td><td> 846               </td><td> -8                </td><td>B6                 </td><td>  79               </td><td>N593JB             </td><td>JFK                </td><td>MCO                </td><td>140                </td><td> 944               </td><td>6                  </td><td> 0                 </td><td>2013-01-01 06:00:00</td><td> -5                </td></tr>\n",
       "\t<tr><td>2013               </td><td>1                  </td><td>1                  </td><td>558                </td><td>600                </td><td>-2                 </td><td> 753               </td><td> 745               </td><td>  8                </td><td>AA                 </td><td> 301               </td><td>N3ALAA             </td><td>LGA                </td><td>ORD                </td><td>138                </td><td> 733               </td><td>6                  </td><td> 0                 </td><td>2013-01-01 06:00:00</td><td> 10                </td></tr>\n",
       "\t<tr><td>2013               </td><td>1                  </td><td>1                  </td><td>558                </td><td>600                </td><td>-2                 </td><td> 849               </td><td> 851               </td><td> -2                </td><td>B6                 </td><td>  49               </td><td>N793JB             </td><td>JFK                </td><td>PBI                </td><td>149                </td><td>1028               </td><td>6                  </td><td> 0                 </td><td>2013-01-01 06:00:00</td><td>  0                </td></tr>\n",
       "\t<tr><td>2013               </td><td>1                  </td><td>1                  </td><td>558                </td><td>600                </td><td>-2                 </td><td> 853               </td><td> 856               </td><td> -3                </td><td>B6                 </td><td>  71               </td><td>N657JB             </td><td>JFK                </td><td>TPA                </td><td>158                </td><td>1005               </td><td>6                  </td><td> 0                 </td><td>2013-01-01 06:00:00</td><td> -1                </td></tr>\n",
       "\t<tr><td>2013               </td><td>1                  </td><td>1                  </td><td>558                </td><td>600                </td><td>-2                 </td><td> 924               </td><td> 917               </td><td>  7                </td><td>UA                 </td><td> 194               </td><td>N29129             </td><td>JFK                </td><td>LAX                </td><td>345                </td><td>2475               </td><td>6                  </td><td> 0                 </td><td>2013-01-01 06:00:00</td><td>  9                </td></tr>\n",
       "\t<tr><td>2013               </td><td>1                  </td><td>1                  </td><td>558                </td><td>600                </td><td>-2                 </td><td> 923               </td><td> 937               </td><td>-14                </td><td>UA                 </td><td>1124               </td><td>N53441             </td><td>EWR                </td><td>SFO                </td><td>361                </td><td>2565               </td><td>6                  </td><td> 0                 </td><td>2013-01-01 06:00:00</td><td>-12                </td></tr>\n",
       "\t<tr><td>2013               </td><td>1                  </td><td>1                  </td><td>559                </td><td>600                </td><td>-1                 </td><td> 941               </td><td> 910               </td><td> 31                </td><td>AA                 </td><td> 707               </td><td>N3DUAA             </td><td>LGA                </td><td>DFW                </td><td>257                </td><td>1389               </td><td>6                  </td><td> 0                 </td><td>2013-01-01 06:00:00</td><td> 32                </td></tr>\n",
       "\t<tr><td>2013               </td><td>1                  </td><td>1                  </td><td>559                </td><td>559                </td><td> 0                 </td><td> 702               </td><td> 706               </td><td> -4                </td><td>B6                 </td><td>1806               </td><td>N708JB             </td><td>JFK                </td><td>BOS                </td><td> 44                </td><td> 187               </td><td>5                  </td><td>59                 </td><td>2013-01-01 05:00:00</td><td> -4                </td></tr>\n",
       "\t<tr><td>2013               </td><td>1                  </td><td>1                  </td><td>559                </td><td>600                </td><td>-1                 </td><td> 854               </td><td> 902               </td><td> -8                </td><td>UA                 </td><td>1187               </td><td>N76515             </td><td>EWR                </td><td>LAS                </td><td>337                </td><td>2227               </td><td>6                  </td><td> 0                 </td><td>2013-01-01 06:00:00</td><td> -7                </td></tr>\n",
       "\t<tr><td>2013               </td><td>1                  </td><td>1                  </td><td>600                </td><td>600                </td><td> 0                 </td><td> 851               </td><td> 858               </td><td> -7                </td><td>B6                 </td><td> 371               </td><td>N595JB             </td><td>LGA                </td><td>FLL                </td><td>152                </td><td>1076               </td><td>6                  </td><td> 0                 </td><td>2013-01-01 06:00:00</td><td> -7                </td></tr>\n",
       "\t<tr><td>2013               </td><td>1                  </td><td>1                  </td><td>600                </td><td>600                </td><td> 0                 </td><td> 837               </td><td> 825               </td><td> 12                </td><td>MQ                 </td><td>4650               </td><td>N542MQ             </td><td>LGA                </td><td>ATL                </td><td>134                </td><td> 762               </td><td>6                  </td><td> 0                 </td><td>2013-01-01 06:00:00</td><td> 12                </td></tr>\n",
       "\t<tr><td>2013               </td><td>1                  </td><td>1                  </td><td>601                </td><td>600                </td><td> 1                 </td><td> 844               </td><td> 850               </td><td> -6                </td><td>B6                 </td><td> 343               </td><td>N644JB             </td><td>EWR                </td><td>PBI                </td><td>147                </td><td>1023               </td><td>6                  </td><td> 0                 </td><td>2013-01-01 06:00:00</td><td> -7                </td></tr>\n",
       "\t<tr><td>2013               </td><td>1                  </td><td>1                  </td><td>602                </td><td>610                </td><td>-8                 </td><td> 812               </td><td> 820               </td><td> -8                </td><td>DL                 </td><td>1919               </td><td>N971DL             </td><td>LGA                </td><td>MSP                </td><td>170                </td><td>1020               </td><td>6                  </td><td>10                 </td><td>2013-01-01 06:00:00</td><td>  0                </td></tr>\n",
       "\t<tr><td>2013               </td><td>1                  </td><td>1                  </td><td>602                </td><td>605                </td><td>-3                 </td><td> 821               </td><td> 805               </td><td> 16                </td><td>MQ                 </td><td>4401               </td><td>N730MQ             </td><td>LGA                </td><td>DTW                </td><td>105                </td><td> 502               </td><td>6                  </td><td> 5                 </td><td>2013-01-01 06:00:00</td><td> 19                </td></tr>\n",
       "\t<tr><td>2013               </td><td>1                  </td><td>1                  </td><td>606                </td><td>610                </td><td>-4                 </td><td> 858               </td><td> 910               </td><td>-12                </td><td>AA                 </td><td>1895               </td><td>N633AA             </td><td>EWR                </td><td>MIA                </td><td>152                </td><td>1085               </td><td>6                  </td><td>10                 </td><td>2013-01-01 06:00:00</td><td> -8                </td></tr>\n",
       "\t<tr><td>2013               </td><td>1                  </td><td>1                  </td><td>606                </td><td>610                </td><td>-4                 </td><td> 837               </td><td> 845               </td><td> -8                </td><td>DL                 </td><td>1743               </td><td>N3739P             </td><td>JFK                </td><td>ATL                </td><td>128                </td><td> 760               </td><td>6                  </td><td>10                 </td><td>2013-01-01 06:00:00</td><td> -4                </td></tr>\n",
       "\t<tr><td>2013               </td><td>1                  </td><td>1                  </td><td>607                </td><td>607                </td><td> 0                 </td><td> 858               </td><td> 915               </td><td>-17                </td><td>UA                 </td><td>1077               </td><td>N53442             </td><td>EWR                </td><td>MIA                </td><td>157                </td><td>1085               </td><td>6                  </td><td> 7                 </td><td>2013-01-01 06:00:00</td><td>-17                </td></tr>\n",
       "\t<tr><td>2013               </td><td>1                  </td><td>1                  </td><td>608                </td><td>600                </td><td> 8                 </td><td> 807               </td><td> 735               </td><td> 32                </td><td>MQ                 </td><td>3768               </td><td>N9EAMQ             </td><td>EWR                </td><td>ORD                </td><td>139                </td><td> 719               </td><td>6                  </td><td> 0                 </td><td>2013-01-01 06:00:00</td><td> 24                </td></tr>\n",
       "\t<tr><td>2013               </td><td>1                  </td><td>1                  </td><td>611                </td><td>600                </td><td>11                 </td><td> 945               </td><td> 931               </td><td> 14                </td><td>UA                 </td><td> 303               </td><td>N532UA             </td><td>JFK                </td><td>SFO                </td><td>366                </td><td>2586               </td><td>6                  </td><td> 0                 </td><td>2013-01-01 06:00:00</td><td>  3                </td></tr>\n",
       "\t<tr><td>2013               </td><td>1                  </td><td>1                  </td><td>613                </td><td>610                </td><td> 3                 </td><td> 925               </td><td> 921               </td><td>  4                </td><td>B6                 </td><td> 135               </td><td>N635JB             </td><td>JFK                </td><td>RSW                </td><td>175                </td><td>1074               </td><td>6                  </td><td>10                 </td><td>2013-01-01 06:00:00</td><td>  1                </td></tr>\n",
       "\t<tr><td>2013               </td><td>1                  </td><td>1                  </td><td>615                </td><td>615                </td><td> 0                 </td><td>1039               </td><td>1100               </td><td>-21                </td><td>B6                 </td><td> 709               </td><td>N794JB             </td><td>JFK                </td><td>SJU                </td><td>182                </td><td>1598               </td><td>6                  </td><td>15                 </td><td>2013-01-01 06:00:00</td><td>-21                </td></tr>\n",
       "\t<tr><td>2013               </td><td>1                  </td><td>1                  </td><td>615                </td><td>615                </td><td> 0                 </td><td> 833               </td><td> 842               </td><td> -9                </td><td>DL                 </td><td> 575               </td><td>N326NB             </td><td>EWR                </td><td>ATL                </td><td>120                </td><td> 746               </td><td>6                  </td><td>15                 </td><td>2013-01-01 06:00:00</td><td> -9                </td></tr>\n",
       "\t<tr><td>...</td><td>...</td><td>...</td><td>...</td><td>...</td><td>...</td><td>...</td><td>...</td><td>...</td><td>...</td><td>...</td><td>...</td><td>...</td><td>...</td><td>...</td><td>...</td><td>...</td><td>...</td><td>...</td><td>...</td></tr>\n",
       "\t<tr><td>2013               </td><td>9                  </td><td>30                 </td><td>2123               </td><td>2125               </td><td> -2                </td><td>2223               </td><td>2247               </td><td>-24                </td><td>EV                 </td><td>5489               </td><td>N712EV             </td><td>LGA                </td><td>CHO                </td><td> 45                </td><td> 305               </td><td>21                 </td><td>25                 </td><td>2013-09-30 21:00:00</td><td>-22                </td></tr>\n",
       "\t<tr><td>2013               </td><td>9                  </td><td>30                 </td><td>2127               </td><td>2129               </td><td> -2                </td><td>2314               </td><td>2323               </td><td> -9                </td><td>EV                 </td><td>3833               </td><td>N16546             </td><td>EWR                </td><td>CLT                </td><td> 72                </td><td> 529               </td><td>21                 </td><td>29                 </td><td>2013-09-30 21:00:00</td><td> -7                </td></tr>\n",
       "\t<tr><td>2013               </td><td>9                  </td><td>30                 </td><td>2128               </td><td>2130               </td><td> -2                </td><td>2328               </td><td>2359               </td><td>-31                </td><td>B6                 </td><td>  97               </td><td>N807JB             </td><td>JFK                </td><td>DEN                </td><td>213                </td><td>1626               </td><td>21                 </td><td>30                 </td><td>2013-09-30 21:00:00</td><td>-29                </td></tr>\n",
       "\t<tr><td>2013               </td><td>9                  </td><td>30                 </td><td>2129               </td><td>2059               </td><td> 30                </td><td>2230               </td><td>2232               </td><td> -2                </td><td>EV                 </td><td>5048               </td><td>N751EV             </td><td>LGA                </td><td>RIC                </td><td> 45                </td><td> 292               </td><td>20                 </td><td>59                 </td><td>2013-09-30 20:00:00</td><td>-32                </td></tr>\n",
       "\t<tr><td>2013               </td><td>9                  </td><td>30                 </td><td>2131               </td><td>2140               </td><td> -9                </td><td>2225               </td><td>2255               </td><td>-30                </td><td>MQ                 </td><td>3621               </td><td>N807MQ             </td><td>JFK                </td><td>DCA                </td><td> 36                </td><td> 213               </td><td>21                 </td><td>40                 </td><td>2013-09-30 21:00:00</td><td>-21                </td></tr>\n",
       "\t<tr><td>2013               </td><td>9                  </td><td>30                 </td><td>2140               </td><td>2140               </td><td>  0                </td><td>  10               </td><td>  40               </td><td>-30                </td><td>AA                 </td><td> 185               </td><td>N335AA             </td><td>JFK                </td><td>LAX                </td><td>298                </td><td>2475               </td><td>21                 </td><td>40                 </td><td>2013-09-30 21:00:00</td><td>-30                </td></tr>\n",
       "\t<tr><td>2013               </td><td>9                  </td><td>30                 </td><td>2142               </td><td>2129               </td><td> 13                </td><td>2250               </td><td>2239               </td><td> 11                </td><td>EV                 </td><td>4509               </td><td>N12957             </td><td>EWR                </td><td>PWM                </td><td> 47                </td><td> 284               </td><td>21                 </td><td>29                 </td><td>2013-09-30 21:00:00</td><td> -2                </td></tr>\n",
       "\t<tr><td>2013               </td><td>9                  </td><td>30                 </td><td>2145               </td><td>2145               </td><td>  0                </td><td> 115               </td><td> 140               </td><td>-25                </td><td>B6                 </td><td>1103               </td><td>N633JB             </td><td>JFK                </td><td>SJU                </td><td>192                </td><td>1598               </td><td>21                 </td><td>45                 </td><td>2013-09-30 21:00:00</td><td>-25                </td></tr>\n",
       "\t<tr><td>2013               </td><td>9                  </td><td>30                 </td><td>2147               </td><td>2137               </td><td> 10                </td><td>  30               </td><td>  27               </td><td>  3                </td><td>B6                 </td><td>1371               </td><td>N627JB             </td><td>LGA                </td><td>FLL                </td><td>139                </td><td>1076               </td><td>21                 </td><td>37                 </td><td>2013-09-30 21:00:00</td><td> -7                </td></tr>\n",
       "\t<tr><td>2013               </td><td>9                  </td><td>30                 </td><td>2149               </td><td>2156               </td><td> -7                </td><td>2245               </td><td>2308               </td><td>-23                </td><td>UA                 </td><td> 523               </td><td>N813UA             </td><td>EWR                </td><td>BOS                </td><td> 37                </td><td> 200               </td><td>21                 </td><td>56                 </td><td>2013-09-30 21:00:00</td><td>-16                </td></tr>\n",
       "\t<tr><td>2013               </td><td>9                  </td><td>30                 </td><td>2150               </td><td>2159               </td><td> -9                </td><td>2250               </td><td>2306               </td><td>-16                </td><td>EV                 </td><td>3842               </td><td>N10575             </td><td>EWR                </td><td>MHT                </td><td> 39                </td><td> 209               </td><td>21                 </td><td>59                 </td><td>2013-09-30 21:00:00</td><td> -7                </td></tr>\n",
       "\t<tr><td>2013               </td><td>9                  </td><td>30                 </td><td>2159               </td><td>1845               </td><td>194                </td><td>2344               </td><td>2030               </td><td>194                </td><td>9E                 </td><td>3320               </td><td>N906XJ             </td><td>JFK                </td><td>BUF                </td><td> 50                </td><td> 301               </td><td>18                 </td><td>45                 </td><td>2013-09-30 18:00:00</td><td>  0                </td></tr>\n",
       "\t<tr><td>2013               </td><td>9                  </td><td>30                 </td><td>2203               </td><td>2205               </td><td> -2                </td><td>2339               </td><td>2331               </td><td>  8                </td><td>EV                 </td><td>5311               </td><td>N722EV             </td><td>LGA                </td><td>BGR                </td><td> 61                </td><td> 378               </td><td>22                 </td><td> 5                 </td><td>2013-09-30 22:00:00</td><td> 10                </td></tr>\n",
       "\t<tr><td>2013               </td><td>9                  </td><td>30                 </td><td>2207               </td><td>2140               </td><td> 27                </td><td>2257               </td><td>2250               </td><td>  7                </td><td>MQ                 </td><td>3660               </td><td>N532MQ             </td><td>LGA                </td><td>BNA                </td><td> 97                </td><td> 764               </td><td>21                 </td><td>40                 </td><td>2013-09-30 21:00:00</td><td>-20                </td></tr>\n",
       "\t<tr><td>2013               </td><td>9                  </td><td>30                 </td><td>2211               </td><td>2059               </td><td> 72                </td><td>2339               </td><td>2242               </td><td> 57                </td><td>EV                 </td><td>4672               </td><td>N12145             </td><td>EWR                </td><td>STL                </td><td>120                </td><td> 872               </td><td>20                 </td><td>59                 </td><td>2013-09-30 20:00:00</td><td>-15                </td></tr>\n",
       "\t<tr><td>2013               </td><td>9                  </td><td>30                 </td><td>2231               </td><td>2245               </td><td>-14                </td><td>2335               </td><td>2356               </td><td>-21                </td><td>B6                 </td><td> 108               </td><td>N193JB             </td><td>JFK                </td><td>PWM                </td><td> 48                </td><td> 273               </td><td>22                 </td><td>45                 </td><td>2013-09-30 22:00:00</td><td> -7                </td></tr>\n",
       "\t<tr><td>2013               </td><td>9                  </td><td>30                 </td><td>2233               </td><td>2113               </td><td> 80                </td><td> 112               </td><td>  30               </td><td> 42                </td><td>UA                 </td><td> 471               </td><td>N578UA             </td><td>EWR                </td><td>SFO                </td><td>318                </td><td>2565               </td><td>21                 </td><td>13                 </td><td>2013-09-30 21:00:00</td><td>-38                </td></tr>\n",
       "\t<tr><td>2013               </td><td>9                  </td><td>30                 </td><td>2235               </td><td>2001               </td><td>154                </td><td>  59               </td><td>2249               </td><td>130                </td><td>B6                 </td><td>1083               </td><td>N804JB             </td><td>JFK                </td><td>MCO                </td><td>123                </td><td> 944               </td><td>20                 </td><td> 1                 </td><td>2013-09-30 20:00:00</td><td>-24                </td></tr>\n",
       "\t<tr><td>2013               </td><td>9                  </td><td>30                 </td><td>2237               </td><td>2245               </td><td> -8                </td><td>2345               </td><td>2353               </td><td> -8                </td><td>B6                 </td><td> 234               </td><td>N318JB             </td><td>JFK                </td><td>BTV                </td><td> 43                </td><td> 266               </td><td>22                 </td><td>45                 </td><td>2013-09-30 22:00:00</td><td>  0                </td></tr>\n",
       "\t<tr><td>2013               </td><td>9                  </td><td>30                 </td><td>2240               </td><td>2245               </td><td> -5                </td><td>2334               </td><td>2351               </td><td>-17                </td><td>B6                 </td><td>1816               </td><td>N354JB             </td><td>JFK                </td><td>SYR                </td><td> 41                </td><td> 209               </td><td>22                 </td><td>45                 </td><td>2013-09-30 22:00:00</td><td>-12                </td></tr>\n",
       "\t<tr><td>2013               </td><td>9                  </td><td>30                 </td><td>2240               </td><td>2250               </td><td>-10                </td><td>2347               </td><td>   7               </td><td>-20                </td><td>B6                 </td><td>2002               </td><td>N281JB             </td><td>JFK                </td><td>BUF                </td><td> 52                </td><td> 301               </td><td>22                 </td><td>50                 </td><td>2013-09-30 22:00:00</td><td>-10                </td></tr>\n",
       "\t<tr><td>2013               </td><td>9                  </td><td>30                 </td><td>2241               </td><td>2246               </td><td> -5                </td><td>2345               </td><td>   1               </td><td>-16                </td><td>B6                 </td><td> 486               </td><td>N346JB             </td><td>JFK                </td><td>ROC                </td><td> 47                </td><td> 264               </td><td>22                 </td><td>46                 </td><td>2013-09-30 22:00:00</td><td>-11                </td></tr>\n",
       "\t<tr><td>2013               </td><td>9                  </td><td>30                 </td><td>2307               </td><td>2255               </td><td> 12                </td><td>2359               </td><td>2358               </td><td>  1                </td><td>B6                 </td><td> 718               </td><td>N565JB             </td><td>JFK                </td><td>BOS                </td><td> 33                </td><td> 187               </td><td>22                 </td><td>55                 </td><td>2013-09-30 22:00:00</td><td>-11                </td></tr>\n",
       "\t<tr><td>2013               </td><td>9                  </td><td>30                 </td><td>2349               </td><td>2359               </td><td>-10                </td><td> 325               </td><td> 350               </td><td>-25                </td><td>B6                 </td><td> 745               </td><td>N516JB             </td><td>JFK                </td><td>PSE                </td><td>196                </td><td>1617               </td><td>23                 </td><td>59                 </td><td>2013-09-30 23:00:00</td><td>-15                </td></tr>\n",
       "\t<tr><td>2013               </td><td>9                  </td><td>30                 </td><td>  NA               </td><td>1842               </td><td> NA                </td><td>  NA               </td><td>2019               </td><td> NA                </td><td>EV                 </td><td>5274               </td><td>N740EV             </td><td>LGA                </td><td>BNA                </td><td> NA                </td><td> 764               </td><td>18                 </td><td>42                 </td><td>2013-09-30 18:00:00</td><td> NA                </td></tr>\n",
       "\t<tr><td>2013               </td><td>9                  </td><td>30                 </td><td>  NA               </td><td>1455               </td><td> NA                </td><td>  NA               </td><td>1634               </td><td> NA                </td><td>9E                 </td><td>3393               </td><td>NA                 </td><td>JFK                </td><td>DCA                </td><td> NA                </td><td> 213               </td><td>14                 </td><td>55                 </td><td>2013-09-30 14:00:00</td><td> NA                </td></tr>\n",
       "\t<tr><td>2013               </td><td>9                  </td><td>30                 </td><td>  NA               </td><td>2200               </td><td> NA                </td><td>  NA               </td><td>2312               </td><td> NA                </td><td>9E                 </td><td>3525               </td><td>NA                 </td><td>LGA                </td><td>SYR                </td><td> NA                </td><td> 198               </td><td>22                 </td><td> 0                 </td><td>2013-09-30 22:00:00</td><td> NA                </td></tr>\n",
       "\t<tr><td>2013               </td><td>9                  </td><td>30                 </td><td>  NA               </td><td>1210               </td><td> NA                </td><td>  NA               </td><td>1330               </td><td> NA                </td><td>MQ                 </td><td>3461               </td><td>N535MQ             </td><td>LGA                </td><td>BNA                </td><td> NA                </td><td> 764               </td><td>12                 </td><td>10                 </td><td>2013-09-30 12:00:00</td><td> NA                </td></tr>\n",
       "\t<tr><td>2013               </td><td>9                  </td><td>30                 </td><td>  NA               </td><td>1159               </td><td> NA                </td><td>  NA               </td><td>1344               </td><td> NA                </td><td>MQ                 </td><td>3572               </td><td>N511MQ             </td><td>LGA                </td><td>CLE                </td><td> NA                </td><td> 419               </td><td>11                 </td><td>59                 </td><td>2013-09-30 11:00:00</td><td> NA                </td></tr>\n",
       "\t<tr><td>2013               </td><td>9                  </td><td>30                 </td><td>  NA               </td><td> 840               </td><td> NA                </td><td>  NA               </td><td>1020               </td><td> NA                </td><td>MQ                 </td><td>3531               </td><td>N839MQ             </td><td>LGA                </td><td>RDU                </td><td> NA                </td><td> 431               </td><td> 8                 </td><td>40                 </td><td>2013-09-30 08:00:00</td><td> NA                </td></tr>\n",
       "</tbody>\n",
       "</table>\n"
      ],
      "text/latex": [
       "\\begin{tabular}{r|llllllllllllllllllll}\n",
       " year & month & day & dep\\_time & sched\\_dep\\_time & dep\\_delay & arr\\_time & sched\\_arr\\_time & arr\\_delay & carrier & flight & tailnum & origin & dest & air\\_time & distance & hour & minute & time\\_hour & kol\\_baru\\\\\n",
       "\\hline\n",
       "\t 2013                & 1                   & 1                   & 517                 & 515                 &  2                  &  830                &  819                &  11                 & UA                  & 1545                & N14228              & EWR                 & IAH                 & 227                 & 1400                & 5                   & 15                  & 2013-01-01 05:00:00 &   9                \\\\\n",
       "\t 2013                & 1                   & 1                   & 533                 & 529                 &  4                  &  850                &  830                &  20                 & UA                  & 1714                & N24211              & LGA                 & IAH                 & 227                 & 1416                & 5                   & 29                  & 2013-01-01 05:00:00 &  16                \\\\\n",
       "\t 2013                & 1                   & 1                   & 542                 & 540                 &  2                  &  923                &  850                &  33                 & AA                  & 1141                & N619AA              & JFK                 & MIA                 & 160                 & 1089                & 5                   & 40                  & 2013-01-01 05:00:00 &  31                \\\\\n",
       "\t 2013                & 1                   & 1                   & 544                 & 545                 & -1                  & 1004                & 1022                & -18                 & B6                  &  725                & N804JB              & JFK                 & BQN                 & 183                 & 1576                & 5                   & 45                  & 2013-01-01 05:00:00 & -17                \\\\\n",
       "\t 2013                & 1                   & 1                   & 554                 & 600                 & -6                  &  812                &  837                & -25                 & DL                  &  461                & N668DN              & LGA                 & ATL                 & 116                 &  762                & 6                   &  0                  & 2013-01-01 06:00:00 & -19                \\\\\n",
       "\t 2013                & 1                   & 1                   & 554                 & 558                 & -4                  &  740                &  728                &  12                 & UA                  & 1696                & N39463              & EWR                 & ORD                 & 150                 &  719                & 5                   & 58                  & 2013-01-01 05:00:00 &  16                \\\\\n",
       "\t 2013                & 1                   & 1                   & 555                 & 600                 & -5                  &  913                &  854                &  19                 & B6                  &  507                & N516JB              & EWR                 & FLL                 & 158                 & 1065                & 6                   &  0                  & 2013-01-01 06:00:00 &  24                \\\\\n",
       "\t 2013                & 1                   & 1                   & 557                 & 600                 & -3                  &  709                &  723                & -14                 & EV                  & 5708                & N829AS              & LGA                 & IAD                 &  53                 &  229                & 6                   &  0                  & 2013-01-01 06:00:00 & -11                \\\\\n",
       "\t 2013                & 1                   & 1                   & 557                 & 600                 & -3                  &  838                &  846                &  -8                 & B6                  &   79                & N593JB              & JFK                 & MCO                 & 140                 &  944                & 6                   &  0                  & 2013-01-01 06:00:00 &  -5                \\\\\n",
       "\t 2013                & 1                   & 1                   & 558                 & 600                 & -2                  &  753                &  745                &   8                 & AA                  &  301                & N3ALAA              & LGA                 & ORD                 & 138                 &  733                & 6                   &  0                  & 2013-01-01 06:00:00 &  10                \\\\\n",
       "\t 2013                & 1                   & 1                   & 558                 & 600                 & -2                  &  849                &  851                &  -2                 & B6                  &   49                & N793JB              & JFK                 & PBI                 & 149                 & 1028                & 6                   &  0                  & 2013-01-01 06:00:00 &   0                \\\\\n",
       "\t 2013                & 1                   & 1                   & 558                 & 600                 & -2                  &  853                &  856                &  -3                 & B6                  &   71                & N657JB              & JFK                 & TPA                 & 158                 & 1005                & 6                   &  0                  & 2013-01-01 06:00:00 &  -1                \\\\\n",
       "\t 2013                & 1                   & 1                   & 558                 & 600                 & -2                  &  924                &  917                &   7                 & UA                  &  194                & N29129              & JFK                 & LAX                 & 345                 & 2475                & 6                   &  0                  & 2013-01-01 06:00:00 &   9                \\\\\n",
       "\t 2013                & 1                   & 1                   & 558                 & 600                 & -2                  &  923                &  937                & -14                 & UA                  & 1124                & N53441              & EWR                 & SFO                 & 361                 & 2565                & 6                   &  0                  & 2013-01-01 06:00:00 & -12                \\\\\n",
       "\t 2013                & 1                   & 1                   & 559                 & 600                 & -1                  &  941                &  910                &  31                 & AA                  &  707                & N3DUAA              & LGA                 & DFW                 & 257                 & 1389                & 6                   &  0                  & 2013-01-01 06:00:00 &  32                \\\\\n",
       "\t 2013                & 1                   & 1                   & 559                 & 559                 &  0                  &  702                &  706                &  -4                 & B6                  & 1806                & N708JB              & JFK                 & BOS                 &  44                 &  187                & 5                   & 59                  & 2013-01-01 05:00:00 &  -4                \\\\\n",
       "\t 2013                & 1                   & 1                   & 559                 & 600                 & -1                  &  854                &  902                &  -8                 & UA                  & 1187                & N76515              & EWR                 & LAS                 & 337                 & 2227                & 6                   &  0                  & 2013-01-01 06:00:00 &  -7                \\\\\n",
       "\t 2013                & 1                   & 1                   & 600                 & 600                 &  0                  &  851                &  858                &  -7                 & B6                  &  371                & N595JB              & LGA                 & FLL                 & 152                 & 1076                & 6                   &  0                  & 2013-01-01 06:00:00 &  -7                \\\\\n",
       "\t 2013                & 1                   & 1                   & 600                 & 600                 &  0                  &  837                &  825                &  12                 & MQ                  & 4650                & N542MQ              & LGA                 & ATL                 & 134                 &  762                & 6                   &  0                  & 2013-01-01 06:00:00 &  12                \\\\\n",
       "\t 2013                & 1                   & 1                   & 601                 & 600                 &  1                  &  844                &  850                &  -6                 & B6                  &  343                & N644JB              & EWR                 & PBI                 & 147                 & 1023                & 6                   &  0                  & 2013-01-01 06:00:00 &  -7                \\\\\n",
       "\t 2013                & 1                   & 1                   & 602                 & 610                 & -8                  &  812                &  820                &  -8                 & DL                  & 1919                & N971DL              & LGA                 & MSP                 & 170                 & 1020                & 6                   & 10                  & 2013-01-01 06:00:00 &   0                \\\\\n",
       "\t 2013                & 1                   & 1                   & 602                 & 605                 & -3                  &  821                &  805                &  16                 & MQ                  & 4401                & N730MQ              & LGA                 & DTW                 & 105                 &  502                & 6                   &  5                  & 2013-01-01 06:00:00 &  19                \\\\\n",
       "\t 2013                & 1                   & 1                   & 606                 & 610                 & -4                  &  858                &  910                & -12                 & AA                  & 1895                & N633AA              & EWR                 & MIA                 & 152                 & 1085                & 6                   & 10                  & 2013-01-01 06:00:00 &  -8                \\\\\n",
       "\t 2013                & 1                   & 1                   & 606                 & 610                 & -4                  &  837                &  845                &  -8                 & DL                  & 1743                & N3739P              & JFK                 & ATL                 & 128                 &  760                & 6                   & 10                  & 2013-01-01 06:00:00 &  -4                \\\\\n",
       "\t 2013                & 1                   & 1                   & 607                 & 607                 &  0                  &  858                &  915                & -17                 & UA                  & 1077                & N53442              & EWR                 & MIA                 & 157                 & 1085                & 6                   &  7                  & 2013-01-01 06:00:00 & -17                \\\\\n",
       "\t 2013                & 1                   & 1                   & 608                 & 600                 &  8                  &  807                &  735                &  32                 & MQ                  & 3768                & N9EAMQ              & EWR                 & ORD                 & 139                 &  719                & 6                   &  0                  & 2013-01-01 06:00:00 &  24                \\\\\n",
       "\t 2013                & 1                   & 1                   & 611                 & 600                 & 11                  &  945                &  931                &  14                 & UA                  &  303                & N532UA              & JFK                 & SFO                 & 366                 & 2586                & 6                   &  0                  & 2013-01-01 06:00:00 &   3                \\\\\n",
       "\t 2013                & 1                   & 1                   & 613                 & 610                 &  3                  &  925                &  921                &   4                 & B6                  &  135                & N635JB              & JFK                 & RSW                 & 175                 & 1074                & 6                   & 10                  & 2013-01-01 06:00:00 &   1                \\\\\n",
       "\t 2013                & 1                   & 1                   & 615                 & 615                 &  0                  & 1039                & 1100                & -21                 & B6                  &  709                & N794JB              & JFK                 & SJU                 & 182                 & 1598                & 6                   & 15                  & 2013-01-01 06:00:00 & -21                \\\\\n",
       "\t 2013                & 1                   & 1                   & 615                 & 615                 &  0                  &  833                &  842                &  -9                 & DL                  &  575                & N326NB              & EWR                 & ATL                 & 120                 &  746                & 6                   & 15                  & 2013-01-01 06:00:00 &  -9                \\\\\n",
       "\t ... & ... & ... & ... & ... & ... & ... & ... & ... & ... & ... & ... & ... & ... & ... & ... & ... & ... & ... & ...\\\\\n",
       "\t 2013                & 9                   & 30                  & 2123                & 2125                &  -2                 & 2223                & 2247                & -24                 & EV                  & 5489                & N712EV              & LGA                 & CHO                 &  45                 &  305                & 21                  & 25                  & 2013-09-30 21:00:00 & -22                \\\\\n",
       "\t 2013                & 9                   & 30                  & 2127                & 2129                &  -2                 & 2314                & 2323                &  -9                 & EV                  & 3833                & N16546              & EWR                 & CLT                 &  72                 &  529                & 21                  & 29                  & 2013-09-30 21:00:00 &  -7                \\\\\n",
       "\t 2013                & 9                   & 30                  & 2128                & 2130                &  -2                 & 2328                & 2359                & -31                 & B6                  &   97                & N807JB              & JFK                 & DEN                 & 213                 & 1626                & 21                  & 30                  & 2013-09-30 21:00:00 & -29                \\\\\n",
       "\t 2013                & 9                   & 30                  & 2129                & 2059                &  30                 & 2230                & 2232                &  -2                 & EV                  & 5048                & N751EV              & LGA                 & RIC                 &  45                 &  292                & 20                  & 59                  & 2013-09-30 20:00:00 & -32                \\\\\n",
       "\t 2013                & 9                   & 30                  & 2131                & 2140                &  -9                 & 2225                & 2255                & -30                 & MQ                  & 3621                & N807MQ              & JFK                 & DCA                 &  36                 &  213                & 21                  & 40                  & 2013-09-30 21:00:00 & -21                \\\\\n",
       "\t 2013                & 9                   & 30                  & 2140                & 2140                &   0                 &   10                &   40                & -30                 & AA                  &  185                & N335AA              & JFK                 & LAX                 & 298                 & 2475                & 21                  & 40                  & 2013-09-30 21:00:00 & -30                \\\\\n",
       "\t 2013                & 9                   & 30                  & 2142                & 2129                &  13                 & 2250                & 2239                &  11                 & EV                  & 4509                & N12957              & EWR                 & PWM                 &  47                 &  284                & 21                  & 29                  & 2013-09-30 21:00:00 &  -2                \\\\\n",
       "\t 2013                & 9                   & 30                  & 2145                & 2145                &   0                 &  115                &  140                & -25                 & B6                  & 1103                & N633JB              & JFK                 & SJU                 & 192                 & 1598                & 21                  & 45                  & 2013-09-30 21:00:00 & -25                \\\\\n",
       "\t 2013                & 9                   & 30                  & 2147                & 2137                &  10                 &   30                &   27                &   3                 & B6                  & 1371                & N627JB              & LGA                 & FLL                 & 139                 & 1076                & 21                  & 37                  & 2013-09-30 21:00:00 &  -7                \\\\\n",
       "\t 2013                & 9                   & 30                  & 2149                & 2156                &  -7                 & 2245                & 2308                & -23                 & UA                  &  523                & N813UA              & EWR                 & BOS                 &  37                 &  200                & 21                  & 56                  & 2013-09-30 21:00:00 & -16                \\\\\n",
       "\t 2013                & 9                   & 30                  & 2150                & 2159                &  -9                 & 2250                & 2306                & -16                 & EV                  & 3842                & N10575              & EWR                 & MHT                 &  39                 &  209                & 21                  & 59                  & 2013-09-30 21:00:00 &  -7                \\\\\n",
       "\t 2013                & 9                   & 30                  & 2159                & 1845                & 194                 & 2344                & 2030                & 194                 & 9E                  & 3320                & N906XJ              & JFK                 & BUF                 &  50                 &  301                & 18                  & 45                  & 2013-09-30 18:00:00 &   0                \\\\\n",
       "\t 2013                & 9                   & 30                  & 2203                & 2205                &  -2                 & 2339                & 2331                &   8                 & EV                  & 5311                & N722EV              & LGA                 & BGR                 &  61                 &  378                & 22                  &  5                  & 2013-09-30 22:00:00 &  10                \\\\\n",
       "\t 2013                & 9                   & 30                  & 2207                & 2140                &  27                 & 2257                & 2250                &   7                 & MQ                  & 3660                & N532MQ              & LGA                 & BNA                 &  97                 &  764                & 21                  & 40                  & 2013-09-30 21:00:00 & -20                \\\\\n",
       "\t 2013                & 9                   & 30                  & 2211                & 2059                &  72                 & 2339                & 2242                &  57                 & EV                  & 4672                & N12145              & EWR                 & STL                 & 120                 &  872                & 20                  & 59                  & 2013-09-30 20:00:00 & -15                \\\\\n",
       "\t 2013                & 9                   & 30                  & 2231                & 2245                & -14                 & 2335                & 2356                & -21                 & B6                  &  108                & N193JB              & JFK                 & PWM                 &  48                 &  273                & 22                  & 45                  & 2013-09-30 22:00:00 &  -7                \\\\\n",
       "\t 2013                & 9                   & 30                  & 2233                & 2113                &  80                 &  112                &   30                &  42                 & UA                  &  471                & N578UA              & EWR                 & SFO                 & 318                 & 2565                & 21                  & 13                  & 2013-09-30 21:00:00 & -38                \\\\\n",
       "\t 2013                & 9                   & 30                  & 2235                & 2001                & 154                 &   59                & 2249                & 130                 & B6                  & 1083                & N804JB              & JFK                 & MCO                 & 123                 &  944                & 20                  &  1                  & 2013-09-30 20:00:00 & -24                \\\\\n",
       "\t 2013                & 9                   & 30                  & 2237                & 2245                &  -8                 & 2345                & 2353                &  -8                 & B6                  &  234                & N318JB              & JFK                 & BTV                 &  43                 &  266                & 22                  & 45                  & 2013-09-30 22:00:00 &   0                \\\\\n",
       "\t 2013                & 9                   & 30                  & 2240                & 2245                &  -5                 & 2334                & 2351                & -17                 & B6                  & 1816                & N354JB              & JFK                 & SYR                 &  41                 &  209                & 22                  & 45                  & 2013-09-30 22:00:00 & -12                \\\\\n",
       "\t 2013                & 9                   & 30                  & 2240                & 2250                & -10                 & 2347                &    7                & -20                 & B6                  & 2002                & N281JB              & JFK                 & BUF                 &  52                 &  301                & 22                  & 50                  & 2013-09-30 22:00:00 & -10                \\\\\n",
       "\t 2013                & 9                   & 30                  & 2241                & 2246                &  -5                 & 2345                &    1                & -16                 & B6                  &  486                & N346JB              & JFK                 & ROC                 &  47                 &  264                & 22                  & 46                  & 2013-09-30 22:00:00 & -11                \\\\\n",
       "\t 2013                & 9                   & 30                  & 2307                & 2255                &  12                 & 2359                & 2358                &   1                 & B6                  &  718                & N565JB              & JFK                 & BOS                 &  33                 &  187                & 22                  & 55                  & 2013-09-30 22:00:00 & -11                \\\\\n",
       "\t 2013                & 9                   & 30                  & 2349                & 2359                & -10                 &  325                &  350                & -25                 & B6                  &  745                & N516JB              & JFK                 & PSE                 & 196                 & 1617                & 23                  & 59                  & 2013-09-30 23:00:00 & -15                \\\\\n",
       "\t 2013                & 9                   & 30                  &   NA                & 1842                &  NA                 &   NA                & 2019                &  NA                 & EV                  & 5274                & N740EV              & LGA                 & BNA                 &  NA                 &  764                & 18                  & 42                  & 2013-09-30 18:00:00 &  NA                \\\\\n",
       "\t 2013                & 9                   & 30                  &   NA                & 1455                &  NA                 &   NA                & 1634                &  NA                 & 9E                  & 3393                & NA                  & JFK                 & DCA                 &  NA                 &  213                & 14                  & 55                  & 2013-09-30 14:00:00 &  NA                \\\\\n",
       "\t 2013                & 9                   & 30                  &   NA                & 2200                &  NA                 &   NA                & 2312                &  NA                 & 9E                  & 3525                & NA                  & LGA                 & SYR                 &  NA                 &  198                & 22                  &  0                  & 2013-09-30 22:00:00 &  NA                \\\\\n",
       "\t 2013                & 9                   & 30                  &   NA                & 1210                &  NA                 &   NA                & 1330                &  NA                 & MQ                  & 3461                & N535MQ              & LGA                 & BNA                 &  NA                 &  764                & 12                  & 10                  & 2013-09-30 12:00:00 &  NA                \\\\\n",
       "\t 2013                & 9                   & 30                  &   NA                & 1159                &  NA                 &   NA                & 1344                &  NA                 & MQ                  & 3572                & N511MQ              & LGA                 & CLE                 &  NA                 &  419                & 11                  & 59                  & 2013-09-30 11:00:00 &  NA                \\\\\n",
       "\t 2013                & 9                   & 30                  &   NA                &  840                &  NA                 &   NA                & 1020                &  NA                 & MQ                  & 3531                & N839MQ              & LGA                 & RDU                 &  NA                 &  431                &  8                  & 40                  & 2013-09-30 08:00:00 &  NA                \\\\\n",
       "\\end{tabular}\n"
      ],
      "text/markdown": [
       "\n",
       "| year | month | day | dep_time | sched_dep_time | dep_delay | arr_time | sched_arr_time | arr_delay | carrier | flight | tailnum | origin | dest | air_time | distance | hour | minute | time_hour | kol_baru |\n",
       "|---|---|---|---|---|---|---|---|---|---|---|---|---|---|---|---|---|---|---|---|\n",
       "| 2013                | 1                   | 1                   | 517                 | 515                 |  2                  |  830                |  819                |  11                 | UA                  | 1545                | N14228              | EWR                 | IAH                 | 227                 | 1400                | 5                   | 15                  | 2013-01-01 05:00:00 |   9                 |\n",
       "| 2013                | 1                   | 1                   | 533                 | 529                 |  4                  |  850                |  830                |  20                 | UA                  | 1714                | N24211              | LGA                 | IAH                 | 227                 | 1416                | 5                   | 29                  | 2013-01-01 05:00:00 |  16                 |\n",
       "| 2013                | 1                   | 1                   | 542                 | 540                 |  2                  |  923                |  850                |  33                 | AA                  | 1141                | N619AA              | JFK                 | MIA                 | 160                 | 1089                | 5                   | 40                  | 2013-01-01 05:00:00 |  31                 |\n",
       "| 2013                | 1                   | 1                   | 544                 | 545                 | -1                  | 1004                | 1022                | -18                 | B6                  |  725                | N804JB              | JFK                 | BQN                 | 183                 | 1576                | 5                   | 45                  | 2013-01-01 05:00:00 | -17                 |\n",
       "| 2013                | 1                   | 1                   | 554                 | 600                 | -6                  |  812                |  837                | -25                 | DL                  |  461                | N668DN              | LGA                 | ATL                 | 116                 |  762                | 6                   |  0                  | 2013-01-01 06:00:00 | -19                 |\n",
       "| 2013                | 1                   | 1                   | 554                 | 558                 | -4                  |  740                |  728                |  12                 | UA                  | 1696                | N39463              | EWR                 | ORD                 | 150                 |  719                | 5                   | 58                  | 2013-01-01 05:00:00 |  16                 |\n",
       "| 2013                | 1                   | 1                   | 555                 | 600                 | -5                  |  913                |  854                |  19                 | B6                  |  507                | N516JB              | EWR                 | FLL                 | 158                 | 1065                | 6                   |  0                  | 2013-01-01 06:00:00 |  24                 |\n",
       "| 2013                | 1                   | 1                   | 557                 | 600                 | -3                  |  709                |  723                | -14                 | EV                  | 5708                | N829AS              | LGA                 | IAD                 |  53                 |  229                | 6                   |  0                  | 2013-01-01 06:00:00 | -11                 |\n",
       "| 2013                | 1                   | 1                   | 557                 | 600                 | -3                  |  838                |  846                |  -8                 | B6                  |   79                | N593JB              | JFK                 | MCO                 | 140                 |  944                | 6                   |  0                  | 2013-01-01 06:00:00 |  -5                 |\n",
       "| 2013                | 1                   | 1                   | 558                 | 600                 | -2                  |  753                |  745                |   8                 | AA                  |  301                | N3ALAA              | LGA                 | ORD                 | 138                 |  733                | 6                   |  0                  | 2013-01-01 06:00:00 |  10                 |\n",
       "| 2013                | 1                   | 1                   | 558                 | 600                 | -2                  |  849                |  851                |  -2                 | B6                  |   49                | N793JB              | JFK                 | PBI                 | 149                 | 1028                | 6                   |  0                  | 2013-01-01 06:00:00 |   0                 |\n",
       "| 2013                | 1                   | 1                   | 558                 | 600                 | -2                  |  853                |  856                |  -3                 | B6                  |   71                | N657JB              | JFK                 | TPA                 | 158                 | 1005                | 6                   |  0                  | 2013-01-01 06:00:00 |  -1                 |\n",
       "| 2013                | 1                   | 1                   | 558                 | 600                 | -2                  |  924                |  917                |   7                 | UA                  |  194                | N29129              | JFK                 | LAX                 | 345                 | 2475                | 6                   |  0                  | 2013-01-01 06:00:00 |   9                 |\n",
       "| 2013                | 1                   | 1                   | 558                 | 600                 | -2                  |  923                |  937                | -14                 | UA                  | 1124                | N53441              | EWR                 | SFO                 | 361                 | 2565                | 6                   |  0                  | 2013-01-01 06:00:00 | -12                 |\n",
       "| 2013                | 1                   | 1                   | 559                 | 600                 | -1                  |  941                |  910                |  31                 | AA                  |  707                | N3DUAA              | LGA                 | DFW                 | 257                 | 1389                | 6                   |  0                  | 2013-01-01 06:00:00 |  32                 |\n",
       "| 2013                | 1                   | 1                   | 559                 | 559                 |  0                  |  702                |  706                |  -4                 | B6                  | 1806                | N708JB              | JFK                 | BOS                 |  44                 |  187                | 5                   | 59                  | 2013-01-01 05:00:00 |  -4                 |\n",
       "| 2013                | 1                   | 1                   | 559                 | 600                 | -1                  |  854                |  902                |  -8                 | UA                  | 1187                | N76515              | EWR                 | LAS                 | 337                 | 2227                | 6                   |  0                  | 2013-01-01 06:00:00 |  -7                 |\n",
       "| 2013                | 1                   | 1                   | 600                 | 600                 |  0                  |  851                |  858                |  -7                 | B6                  |  371                | N595JB              | LGA                 | FLL                 | 152                 | 1076                | 6                   |  0                  | 2013-01-01 06:00:00 |  -7                 |\n",
       "| 2013                | 1                   | 1                   | 600                 | 600                 |  0                  |  837                |  825                |  12                 | MQ                  | 4650                | N542MQ              | LGA                 | ATL                 | 134                 |  762                | 6                   |  0                  | 2013-01-01 06:00:00 |  12                 |\n",
       "| 2013                | 1                   | 1                   | 601                 | 600                 |  1                  |  844                |  850                |  -6                 | B6                  |  343                | N644JB              | EWR                 | PBI                 | 147                 | 1023                | 6                   |  0                  | 2013-01-01 06:00:00 |  -7                 |\n",
       "| 2013                | 1                   | 1                   | 602                 | 610                 | -8                  |  812                |  820                |  -8                 | DL                  | 1919                | N971DL              | LGA                 | MSP                 | 170                 | 1020                | 6                   | 10                  | 2013-01-01 06:00:00 |   0                 |\n",
       "| 2013                | 1                   | 1                   | 602                 | 605                 | -3                  |  821                |  805                |  16                 | MQ                  | 4401                | N730MQ              | LGA                 | DTW                 | 105                 |  502                | 6                   |  5                  | 2013-01-01 06:00:00 |  19                 |\n",
       "| 2013                | 1                   | 1                   | 606                 | 610                 | -4                  |  858                |  910                | -12                 | AA                  | 1895                | N633AA              | EWR                 | MIA                 | 152                 | 1085                | 6                   | 10                  | 2013-01-01 06:00:00 |  -8                 |\n",
       "| 2013                | 1                   | 1                   | 606                 | 610                 | -4                  |  837                |  845                |  -8                 | DL                  | 1743                | N3739P              | JFK                 | ATL                 | 128                 |  760                | 6                   | 10                  | 2013-01-01 06:00:00 |  -4                 |\n",
       "| 2013                | 1                   | 1                   | 607                 | 607                 |  0                  |  858                |  915                | -17                 | UA                  | 1077                | N53442              | EWR                 | MIA                 | 157                 | 1085                | 6                   |  7                  | 2013-01-01 06:00:00 | -17                 |\n",
       "| 2013                | 1                   | 1                   | 608                 | 600                 |  8                  |  807                |  735                |  32                 | MQ                  | 3768                | N9EAMQ              | EWR                 | ORD                 | 139                 |  719                | 6                   |  0                  | 2013-01-01 06:00:00 |  24                 |\n",
       "| 2013                | 1                   | 1                   | 611                 | 600                 | 11                  |  945                |  931                |  14                 | UA                  |  303                | N532UA              | JFK                 | SFO                 | 366                 | 2586                | 6                   |  0                  | 2013-01-01 06:00:00 |   3                 |\n",
       "| 2013                | 1                   | 1                   | 613                 | 610                 |  3                  |  925                |  921                |   4                 | B6                  |  135                | N635JB              | JFK                 | RSW                 | 175                 | 1074                | 6                   | 10                  | 2013-01-01 06:00:00 |   1                 |\n",
       "| 2013                | 1                   | 1                   | 615                 | 615                 |  0                  | 1039                | 1100                | -21                 | B6                  |  709                | N794JB              | JFK                 | SJU                 | 182                 | 1598                | 6                   | 15                  | 2013-01-01 06:00:00 | -21                 |\n",
       "| 2013                | 1                   | 1                   | 615                 | 615                 |  0                  |  833                |  842                |  -9                 | DL                  |  575                | N326NB              | EWR                 | ATL                 | 120                 |  746                | 6                   | 15                  | 2013-01-01 06:00:00 |  -9                 |\n",
       "| ... | ... | ... | ... | ... | ... | ... | ... | ... | ... | ... | ... | ... | ... | ... | ... | ... | ... | ... | ... |\n",
       "| 2013                | 9                   | 30                  | 2123                | 2125                |  -2                 | 2223                | 2247                | -24                 | EV                  | 5489                | N712EV              | LGA                 | CHO                 |  45                 |  305                | 21                  | 25                  | 2013-09-30 21:00:00 | -22                 |\n",
       "| 2013                | 9                   | 30                  | 2127                | 2129                |  -2                 | 2314                | 2323                |  -9                 | EV                  | 3833                | N16546              | EWR                 | CLT                 |  72                 |  529                | 21                  | 29                  | 2013-09-30 21:00:00 |  -7                 |\n",
       "| 2013                | 9                   | 30                  | 2128                | 2130                |  -2                 | 2328                | 2359                | -31                 | B6                  |   97                | N807JB              | JFK                 | DEN                 | 213                 | 1626                | 21                  | 30                  | 2013-09-30 21:00:00 | -29                 |\n",
       "| 2013                | 9                   | 30                  | 2129                | 2059                |  30                 | 2230                | 2232                |  -2                 | EV                  | 5048                | N751EV              | LGA                 | RIC                 |  45                 |  292                | 20                  | 59                  | 2013-09-30 20:00:00 | -32                 |\n",
       "| 2013                | 9                   | 30                  | 2131                | 2140                |  -9                 | 2225                | 2255                | -30                 | MQ                  | 3621                | N807MQ              | JFK                 | DCA                 |  36                 |  213                | 21                  | 40                  | 2013-09-30 21:00:00 | -21                 |\n",
       "| 2013                | 9                   | 30                  | 2140                | 2140                |   0                 |   10                |   40                | -30                 | AA                  |  185                | N335AA              | JFK                 | LAX                 | 298                 | 2475                | 21                  | 40                  | 2013-09-30 21:00:00 | -30                 |\n",
       "| 2013                | 9                   | 30                  | 2142                | 2129                |  13                 | 2250                | 2239                |  11                 | EV                  | 4509                | N12957              | EWR                 | PWM                 |  47                 |  284                | 21                  | 29                  | 2013-09-30 21:00:00 |  -2                 |\n",
       "| 2013                | 9                   | 30                  | 2145                | 2145                |   0                 |  115                |  140                | -25                 | B6                  | 1103                | N633JB              | JFK                 | SJU                 | 192                 | 1598                | 21                  | 45                  | 2013-09-30 21:00:00 | -25                 |\n",
       "| 2013                | 9                   | 30                  | 2147                | 2137                |  10                 |   30                |   27                |   3                 | B6                  | 1371                | N627JB              | LGA                 | FLL                 | 139                 | 1076                | 21                  | 37                  | 2013-09-30 21:00:00 |  -7                 |\n",
       "| 2013                | 9                   | 30                  | 2149                | 2156                |  -7                 | 2245                | 2308                | -23                 | UA                  |  523                | N813UA              | EWR                 | BOS                 |  37                 |  200                | 21                  | 56                  | 2013-09-30 21:00:00 | -16                 |\n",
       "| 2013                | 9                   | 30                  | 2150                | 2159                |  -9                 | 2250                | 2306                | -16                 | EV                  | 3842                | N10575              | EWR                 | MHT                 |  39                 |  209                | 21                  | 59                  | 2013-09-30 21:00:00 |  -7                 |\n",
       "| 2013                | 9                   | 30                  | 2159                | 1845                | 194                 | 2344                | 2030                | 194                 | 9E                  | 3320                | N906XJ              | JFK                 | BUF                 |  50                 |  301                | 18                  | 45                  | 2013-09-30 18:00:00 |   0                 |\n",
       "| 2013                | 9                   | 30                  | 2203                | 2205                |  -2                 | 2339                | 2331                |   8                 | EV                  | 5311                | N722EV              | LGA                 | BGR                 |  61                 |  378                | 22                  |  5                  | 2013-09-30 22:00:00 |  10                 |\n",
       "| 2013                | 9                   | 30                  | 2207                | 2140                |  27                 | 2257                | 2250                |   7                 | MQ                  | 3660                | N532MQ              | LGA                 | BNA                 |  97                 |  764                | 21                  | 40                  | 2013-09-30 21:00:00 | -20                 |\n",
       "| 2013                | 9                   | 30                  | 2211                | 2059                |  72                 | 2339                | 2242                |  57                 | EV                  | 4672                | N12145              | EWR                 | STL                 | 120                 |  872                | 20                  | 59                  | 2013-09-30 20:00:00 | -15                 |\n",
       "| 2013                | 9                   | 30                  | 2231                | 2245                | -14                 | 2335                | 2356                | -21                 | B6                  |  108                | N193JB              | JFK                 | PWM                 |  48                 |  273                | 22                  | 45                  | 2013-09-30 22:00:00 |  -7                 |\n",
       "| 2013                | 9                   | 30                  | 2233                | 2113                |  80                 |  112                |   30                |  42                 | UA                  |  471                | N578UA              | EWR                 | SFO                 | 318                 | 2565                | 21                  | 13                  | 2013-09-30 21:00:00 | -38                 |\n",
       "| 2013                | 9                   | 30                  | 2235                | 2001                | 154                 |   59                | 2249                | 130                 | B6                  | 1083                | N804JB              | JFK                 | MCO                 | 123                 |  944                | 20                  |  1                  | 2013-09-30 20:00:00 | -24                 |\n",
       "| 2013                | 9                   | 30                  | 2237                | 2245                |  -8                 | 2345                | 2353                |  -8                 | B6                  |  234                | N318JB              | JFK                 | BTV                 |  43                 |  266                | 22                  | 45                  | 2013-09-30 22:00:00 |   0                 |\n",
       "| 2013                | 9                   | 30                  | 2240                | 2245                |  -5                 | 2334                | 2351                | -17                 | B6                  | 1816                | N354JB              | JFK                 | SYR                 |  41                 |  209                | 22                  | 45                  | 2013-09-30 22:00:00 | -12                 |\n",
       "| 2013                | 9                   | 30                  | 2240                | 2250                | -10                 | 2347                |    7                | -20                 | B6                  | 2002                | N281JB              | JFK                 | BUF                 |  52                 |  301                | 22                  | 50                  | 2013-09-30 22:00:00 | -10                 |\n",
       "| 2013                | 9                   | 30                  | 2241                | 2246                |  -5                 | 2345                |    1                | -16                 | B6                  |  486                | N346JB              | JFK                 | ROC                 |  47                 |  264                | 22                  | 46                  | 2013-09-30 22:00:00 | -11                 |\n",
       "| 2013                | 9                   | 30                  | 2307                | 2255                |  12                 | 2359                | 2358                |   1                 | B6                  |  718                | N565JB              | JFK                 | BOS                 |  33                 |  187                | 22                  | 55                  | 2013-09-30 22:00:00 | -11                 |\n",
       "| 2013                | 9                   | 30                  | 2349                | 2359                | -10                 |  325                |  350                | -25                 | B6                  |  745                | N516JB              | JFK                 | PSE                 | 196                 | 1617                | 23                  | 59                  | 2013-09-30 23:00:00 | -15                 |\n",
       "| 2013                | 9                   | 30                  |   NA                | 1842                |  NA                 |   NA                | 2019                |  NA                 | EV                  | 5274                | N740EV              | LGA                 | BNA                 |  NA                 |  764                | 18                  | 42                  | 2013-09-30 18:00:00 |  NA                 |\n",
       "| 2013                | 9                   | 30                  |   NA                | 1455                |  NA                 |   NA                | 1634                |  NA                 | 9E                  | 3393                | NA                  | JFK                 | DCA                 |  NA                 |  213                | 14                  | 55                  | 2013-09-30 14:00:00 |  NA                 |\n",
       "| 2013                | 9                   | 30                  |   NA                | 2200                |  NA                 |   NA                | 2312                |  NA                 | 9E                  | 3525                | NA                  | LGA                 | SYR                 |  NA                 |  198                | 22                  |  0                  | 2013-09-30 22:00:00 |  NA                 |\n",
       "| 2013                | 9                   | 30                  |   NA                | 1210                |  NA                 |   NA                | 1330                |  NA                 | MQ                  | 3461                | N535MQ              | LGA                 | BNA                 |  NA                 |  764                | 12                  | 10                  | 2013-09-30 12:00:00 |  NA                 |\n",
       "| 2013                | 9                   | 30                  |   NA                | 1159                |  NA                 |   NA                | 1344                |  NA                 | MQ                  | 3572                | N511MQ              | LGA                 | CLE                 |  NA                 |  419                | 11                  | 59                  | 2013-09-30 11:00:00 |  NA                 |\n",
       "| 2013                | 9                   | 30                  |   NA                |  840                |  NA                 |   NA                | 1020                |  NA                 | MQ                  | 3531                | N839MQ              | LGA                 | RDU                 |  NA                 |  431                |  8                  | 40                  | 2013-09-30 08:00:00 |  NA                 |\n",
       "\n"
      ],
      "text/plain": [
       "       year month day dep_time sched_dep_time dep_delay arr_time sched_arr_time\n",
       "1      2013 1     1   517      515             2         830      819          \n",
       "2      2013 1     1   533      529             4         850      830          \n",
       "3      2013 1     1   542      540             2         923      850          \n",
       "4      2013 1     1   544      545            -1        1004     1022          \n",
       "5      2013 1     1   554      600            -6         812      837          \n",
       "6      2013 1     1   554      558            -4         740      728          \n",
       "7      2013 1     1   555      600            -5         913      854          \n",
       "8      2013 1     1   557      600            -3         709      723          \n",
       "9      2013 1     1   557      600            -3         838      846          \n",
       "10     2013 1     1   558      600            -2         753      745          \n",
       "11     2013 1     1   558      600            -2         849      851          \n",
       "12     2013 1     1   558      600            -2         853      856          \n",
       "13     2013 1     1   558      600            -2         924      917          \n",
       "14     2013 1     1   558      600            -2         923      937          \n",
       "15     2013 1     1   559      600            -1         941      910          \n",
       "16     2013 1     1   559      559             0         702      706          \n",
       "17     2013 1     1   559      600            -1         854      902          \n",
       "18     2013 1     1   600      600             0         851      858          \n",
       "19     2013 1     1   600      600             0         837      825          \n",
       "20     2013 1     1   601      600             1         844      850          \n",
       "21     2013 1     1   602      610            -8         812      820          \n",
       "22     2013 1     1   602      605            -3         821      805          \n",
       "23     2013 1     1   606      610            -4         858      910          \n",
       "24     2013 1     1   606      610            -4         837      845          \n",
       "25     2013 1     1   607      607             0         858      915          \n",
       "26     2013 1     1   608      600             8         807      735          \n",
       "27     2013 1     1   611      600            11         945      931          \n",
       "28     2013 1     1   613      610             3         925      921          \n",
       "29     2013 1     1   615      615             0        1039     1100          \n",
       "30     2013 1     1   615      615             0         833      842          \n",
       "...    ...  ...   ... ...      ...            ...       ...      ...           \n",
       "336747 2013 9     30  2123     2125            -2       2223     2247          \n",
       "336748 2013 9     30  2127     2129            -2       2314     2323          \n",
       "336749 2013 9     30  2128     2130            -2       2328     2359          \n",
       "336750 2013 9     30  2129     2059            30       2230     2232          \n",
       "336751 2013 9     30  2131     2140            -9       2225     2255          \n",
       "336752 2013 9     30  2140     2140             0         10       40          \n",
       "336753 2013 9     30  2142     2129            13       2250     2239          \n",
       "336754 2013 9     30  2145     2145             0        115      140          \n",
       "336755 2013 9     30  2147     2137            10         30       27          \n",
       "336756 2013 9     30  2149     2156            -7       2245     2308          \n",
       "336757 2013 9     30  2150     2159            -9       2250     2306          \n",
       "336758 2013 9     30  2159     1845           194       2344     2030          \n",
       "336759 2013 9     30  2203     2205            -2       2339     2331          \n",
       "336760 2013 9     30  2207     2140            27       2257     2250          \n",
       "336761 2013 9     30  2211     2059            72       2339     2242          \n",
       "336762 2013 9     30  2231     2245           -14       2335     2356          \n",
       "336763 2013 9     30  2233     2113            80        112       30          \n",
       "336764 2013 9     30  2235     2001           154         59     2249          \n",
       "336765 2013 9     30  2237     2245            -8       2345     2353          \n",
       "336766 2013 9     30  2240     2245            -5       2334     2351          \n",
       "336767 2013 9     30  2240     2250           -10       2347        7          \n",
       "336768 2013 9     30  2241     2246            -5       2345        1          \n",
       "336769 2013 9     30  2307     2255            12       2359     2358          \n",
       "336770 2013 9     30  2349     2359           -10        325      350          \n",
       "336771 2013 9     30    NA     1842            NA         NA     2019          \n",
       "336772 2013 9     30    NA     1455            NA         NA     1634          \n",
       "336773 2013 9     30    NA     2200            NA         NA     2312          \n",
       "336774 2013 9     30    NA     1210            NA         NA     1330          \n",
       "336775 2013 9     30    NA     1159            NA         NA     1344          \n",
       "336776 2013 9     30    NA      840            NA         NA     1020          \n",
       "       arr_delay carrier flight tailnum origin dest air_time distance hour\n",
       "1       11       UA      1545   N14228  EWR    IAH  227      1400     5   \n",
       "2       20       UA      1714   N24211  LGA    IAH  227      1416     5   \n",
       "3       33       AA      1141   N619AA  JFK    MIA  160      1089     5   \n",
       "4      -18       B6       725   N804JB  JFK    BQN  183      1576     5   \n",
       "5      -25       DL       461   N668DN  LGA    ATL  116       762     6   \n",
       "6       12       UA      1696   N39463  EWR    ORD  150       719     5   \n",
       "7       19       B6       507   N516JB  EWR    FLL  158      1065     6   \n",
       "8      -14       EV      5708   N829AS  LGA    IAD   53       229     6   \n",
       "9       -8       B6        79   N593JB  JFK    MCO  140       944     6   \n",
       "10       8       AA       301   N3ALAA  LGA    ORD  138       733     6   \n",
       "11      -2       B6        49   N793JB  JFK    PBI  149      1028     6   \n",
       "12      -3       B6        71   N657JB  JFK    TPA  158      1005     6   \n",
       "13       7       UA       194   N29129  JFK    LAX  345      2475     6   \n",
       "14     -14       UA      1124   N53441  EWR    SFO  361      2565     6   \n",
       "15      31       AA       707   N3DUAA  LGA    DFW  257      1389     6   \n",
       "16      -4       B6      1806   N708JB  JFK    BOS   44       187     5   \n",
       "17      -8       UA      1187   N76515  EWR    LAS  337      2227     6   \n",
       "18      -7       B6       371   N595JB  LGA    FLL  152      1076     6   \n",
       "19      12       MQ      4650   N542MQ  LGA    ATL  134       762     6   \n",
       "20      -6       B6       343   N644JB  EWR    PBI  147      1023     6   \n",
       "21      -8       DL      1919   N971DL  LGA    MSP  170      1020     6   \n",
       "22      16       MQ      4401   N730MQ  LGA    DTW  105       502     6   \n",
       "23     -12       AA      1895   N633AA  EWR    MIA  152      1085     6   \n",
       "24      -8       DL      1743   N3739P  JFK    ATL  128       760     6   \n",
       "25     -17       UA      1077   N53442  EWR    MIA  157      1085     6   \n",
       "26      32       MQ      3768   N9EAMQ  EWR    ORD  139       719     6   \n",
       "27      14       UA       303   N532UA  JFK    SFO  366      2586     6   \n",
       "28       4       B6       135   N635JB  JFK    RSW  175      1074     6   \n",
       "29     -21       B6       709   N794JB  JFK    SJU  182      1598     6   \n",
       "30      -9       DL       575   N326NB  EWR    ATL  120       746     6   \n",
       "...    ...       ...     ...    ...     ...    ...  ...      ...      ... \n",
       "336747 -24       EV      5489   N712EV  LGA    CHO   45       305     21  \n",
       "336748  -9       EV      3833   N16546  EWR    CLT   72       529     21  \n",
       "336749 -31       B6        97   N807JB  JFK    DEN  213      1626     21  \n",
       "336750  -2       EV      5048   N751EV  LGA    RIC   45       292     20  \n",
       "336751 -30       MQ      3621   N807MQ  JFK    DCA   36       213     21  \n",
       "336752 -30       AA       185   N335AA  JFK    LAX  298      2475     21  \n",
       "336753  11       EV      4509   N12957  EWR    PWM   47       284     21  \n",
       "336754 -25       B6      1103   N633JB  JFK    SJU  192      1598     21  \n",
       "336755   3       B6      1371   N627JB  LGA    FLL  139      1076     21  \n",
       "336756 -23       UA       523   N813UA  EWR    BOS   37       200     21  \n",
       "336757 -16       EV      3842   N10575  EWR    MHT   39       209     21  \n",
       "336758 194       9E      3320   N906XJ  JFK    BUF   50       301     18  \n",
       "336759   8       EV      5311   N722EV  LGA    BGR   61       378     22  \n",
       "336760   7       MQ      3660   N532MQ  LGA    BNA   97       764     21  \n",
       "336761  57       EV      4672   N12145  EWR    STL  120       872     20  \n",
       "336762 -21       B6       108   N193JB  JFK    PWM   48       273     22  \n",
       "336763  42       UA       471   N578UA  EWR    SFO  318      2565     21  \n",
       "336764 130       B6      1083   N804JB  JFK    MCO  123       944     20  \n",
       "336765  -8       B6       234   N318JB  JFK    BTV   43       266     22  \n",
       "336766 -17       B6      1816   N354JB  JFK    SYR   41       209     22  \n",
       "336767 -20       B6      2002   N281JB  JFK    BUF   52       301     22  \n",
       "336768 -16       B6       486   N346JB  JFK    ROC   47       264     22  \n",
       "336769   1       B6       718   N565JB  JFK    BOS   33       187     22  \n",
       "336770 -25       B6       745   N516JB  JFK    PSE  196      1617     23  \n",
       "336771  NA       EV      5274   N740EV  LGA    BNA   NA       764     18  \n",
       "336772  NA       9E      3393   NA      JFK    DCA   NA       213     14  \n",
       "336773  NA       9E      3525   NA      LGA    SYR   NA       198     22  \n",
       "336774  NA       MQ      3461   N535MQ  LGA    BNA   NA       764     12  \n",
       "336775  NA       MQ      3572   N511MQ  LGA    CLE   NA       419     11  \n",
       "336776  NA       MQ      3531   N839MQ  LGA    RDU   NA       431      8  \n",
       "       minute time_hour           kol_baru\n",
       "1      15     2013-01-01 05:00:00   9     \n",
       "2      29     2013-01-01 05:00:00  16     \n",
       "3      40     2013-01-01 05:00:00  31     \n",
       "4      45     2013-01-01 05:00:00 -17     \n",
       "5       0     2013-01-01 06:00:00 -19     \n",
       "6      58     2013-01-01 05:00:00  16     \n",
       "7       0     2013-01-01 06:00:00  24     \n",
       "8       0     2013-01-01 06:00:00 -11     \n",
       "9       0     2013-01-01 06:00:00  -5     \n",
       "10      0     2013-01-01 06:00:00  10     \n",
       "11      0     2013-01-01 06:00:00   0     \n",
       "12      0     2013-01-01 06:00:00  -1     \n",
       "13      0     2013-01-01 06:00:00   9     \n",
       "14      0     2013-01-01 06:00:00 -12     \n",
       "15      0     2013-01-01 06:00:00  32     \n",
       "16     59     2013-01-01 05:00:00  -4     \n",
       "17      0     2013-01-01 06:00:00  -7     \n",
       "18      0     2013-01-01 06:00:00  -7     \n",
       "19      0     2013-01-01 06:00:00  12     \n",
       "20      0     2013-01-01 06:00:00  -7     \n",
       "21     10     2013-01-01 06:00:00   0     \n",
       "22      5     2013-01-01 06:00:00  19     \n",
       "23     10     2013-01-01 06:00:00  -8     \n",
       "24     10     2013-01-01 06:00:00  -4     \n",
       "25      7     2013-01-01 06:00:00 -17     \n",
       "26      0     2013-01-01 06:00:00  24     \n",
       "27      0     2013-01-01 06:00:00   3     \n",
       "28     10     2013-01-01 06:00:00   1     \n",
       "29     15     2013-01-01 06:00:00 -21     \n",
       "30     15     2013-01-01 06:00:00  -9     \n",
       "...    ...    ...                 ...     \n",
       "336747 25     2013-09-30 21:00:00 -22     \n",
       "336748 29     2013-09-30 21:00:00  -7     \n",
       "336749 30     2013-09-30 21:00:00 -29     \n",
       "336750 59     2013-09-30 20:00:00 -32     \n",
       "336751 40     2013-09-30 21:00:00 -21     \n",
       "336752 40     2013-09-30 21:00:00 -30     \n",
       "336753 29     2013-09-30 21:00:00  -2     \n",
       "336754 45     2013-09-30 21:00:00 -25     \n",
       "336755 37     2013-09-30 21:00:00  -7     \n",
       "336756 56     2013-09-30 21:00:00 -16     \n",
       "336757 59     2013-09-30 21:00:00  -7     \n",
       "336758 45     2013-09-30 18:00:00   0     \n",
       "336759  5     2013-09-30 22:00:00  10     \n",
       "336760 40     2013-09-30 21:00:00 -20     \n",
       "336761 59     2013-09-30 20:00:00 -15     \n",
       "336762 45     2013-09-30 22:00:00  -7     \n",
       "336763 13     2013-09-30 21:00:00 -38     \n",
       "336764  1     2013-09-30 20:00:00 -24     \n",
       "336765 45     2013-09-30 22:00:00   0     \n",
       "336766 45     2013-09-30 22:00:00 -12     \n",
       "336767 50     2013-09-30 22:00:00 -10     \n",
       "336768 46     2013-09-30 22:00:00 -11     \n",
       "336769 55     2013-09-30 22:00:00 -11     \n",
       "336770 59     2013-09-30 23:00:00 -15     \n",
       "336771 42     2013-09-30 18:00:00  NA     \n",
       "336772 55     2013-09-30 14:00:00  NA     \n",
       "336773  0     2013-09-30 22:00:00  NA     \n",
       "336774 10     2013-09-30 12:00:00  NA     \n",
       "336775 59     2013-09-30 11:00:00  NA     \n",
       "336776 40     2013-09-30 08:00:00  NA     "
      ]
     },
     "metadata": {},
     "output_type": "display_data"
    }
   ],
   "source": [
    "mutate(flights, kol_baru = arr_delay - dep_delay)"
   ]
  },
  {
   "cell_type": "markdown",
   "metadata": {},
   "source": [
    "### `transmute()`"
   ]
  },
  {
   "cell_type": "markdown",
   "metadata": {},
   "source": [
    "Sama seperti `mutate()`, namu hanya mengeluarkan *output* kolom baru yang dihasilkan."
   ]
  },
  {
   "cell_type": "code",
   "execution_count": 419,
   "metadata": {},
   "outputs": [
    {
     "data": {
      "text/html": [
       "<table>\n",
       "<thead><tr><th scope=col>kol_baru</th></tr></thead>\n",
       "<tbody>\n",
       "\t<tr><td>  9</td></tr>\n",
       "\t<tr><td> 16</td></tr>\n",
       "\t<tr><td> 31</td></tr>\n",
       "\t<tr><td>-17</td></tr>\n",
       "\t<tr><td>-19</td></tr>\n",
       "\t<tr><td> 16</td></tr>\n",
       "\t<tr><td> 24</td></tr>\n",
       "\t<tr><td>-11</td></tr>\n",
       "\t<tr><td> -5</td></tr>\n",
       "\t<tr><td> 10</td></tr>\n",
       "\t<tr><td>  0</td></tr>\n",
       "\t<tr><td> -1</td></tr>\n",
       "\t<tr><td>  9</td></tr>\n",
       "\t<tr><td>-12</td></tr>\n",
       "\t<tr><td> 32</td></tr>\n",
       "\t<tr><td> -4</td></tr>\n",
       "\t<tr><td> -7</td></tr>\n",
       "\t<tr><td> -7</td></tr>\n",
       "\t<tr><td> 12</td></tr>\n",
       "\t<tr><td> -7</td></tr>\n",
       "\t<tr><td>  0</td></tr>\n",
       "\t<tr><td> 19</td></tr>\n",
       "\t<tr><td> -8</td></tr>\n",
       "\t<tr><td> -4</td></tr>\n",
       "\t<tr><td>-17</td></tr>\n",
       "\t<tr><td> 24</td></tr>\n",
       "\t<tr><td>  3</td></tr>\n",
       "\t<tr><td>  1</td></tr>\n",
       "\t<tr><td>-21</td></tr>\n",
       "\t<tr><td> -9</td></tr>\n",
       "\t<tr><td>...</td></tr>\n",
       "\t<tr><td>-22</td></tr>\n",
       "\t<tr><td> -7</td></tr>\n",
       "\t<tr><td>-29</td></tr>\n",
       "\t<tr><td>-32</td></tr>\n",
       "\t<tr><td>-21</td></tr>\n",
       "\t<tr><td>-30</td></tr>\n",
       "\t<tr><td> -2</td></tr>\n",
       "\t<tr><td>-25</td></tr>\n",
       "\t<tr><td> -7</td></tr>\n",
       "\t<tr><td>-16</td></tr>\n",
       "\t<tr><td> -7</td></tr>\n",
       "\t<tr><td>  0</td></tr>\n",
       "\t<tr><td> 10</td></tr>\n",
       "\t<tr><td>-20</td></tr>\n",
       "\t<tr><td>-15</td></tr>\n",
       "\t<tr><td> -7</td></tr>\n",
       "\t<tr><td>-38</td></tr>\n",
       "\t<tr><td>-24</td></tr>\n",
       "\t<tr><td>  0</td></tr>\n",
       "\t<tr><td>-12</td></tr>\n",
       "\t<tr><td>-10</td></tr>\n",
       "\t<tr><td>-11</td></tr>\n",
       "\t<tr><td>-11</td></tr>\n",
       "\t<tr><td>-15</td></tr>\n",
       "\t<tr><td> NA</td></tr>\n",
       "\t<tr><td> NA</td></tr>\n",
       "\t<tr><td> NA</td></tr>\n",
       "\t<tr><td> NA</td></tr>\n",
       "\t<tr><td> NA</td></tr>\n",
       "\t<tr><td> NA</td></tr>\n",
       "</tbody>\n",
       "</table>\n"
      ],
      "text/latex": [
       "\\begin{tabular}{r|l}\n",
       " kol\\_baru\\\\\n",
       "\\hline\n",
       "\t   9\\\\\n",
       "\t  16\\\\\n",
       "\t  31\\\\\n",
       "\t -17\\\\\n",
       "\t -19\\\\\n",
       "\t  16\\\\\n",
       "\t  24\\\\\n",
       "\t -11\\\\\n",
       "\t  -5\\\\\n",
       "\t  10\\\\\n",
       "\t   0\\\\\n",
       "\t  -1\\\\\n",
       "\t   9\\\\\n",
       "\t -12\\\\\n",
       "\t  32\\\\\n",
       "\t  -4\\\\\n",
       "\t  -7\\\\\n",
       "\t  -7\\\\\n",
       "\t  12\\\\\n",
       "\t  -7\\\\\n",
       "\t   0\\\\\n",
       "\t  19\\\\\n",
       "\t  -8\\\\\n",
       "\t  -4\\\\\n",
       "\t -17\\\\\n",
       "\t  24\\\\\n",
       "\t   3\\\\\n",
       "\t   1\\\\\n",
       "\t -21\\\\\n",
       "\t  -9\\\\\n",
       "\t ...\\\\\n",
       "\t -22\\\\\n",
       "\t  -7\\\\\n",
       "\t -29\\\\\n",
       "\t -32\\\\\n",
       "\t -21\\\\\n",
       "\t -30\\\\\n",
       "\t  -2\\\\\n",
       "\t -25\\\\\n",
       "\t  -7\\\\\n",
       "\t -16\\\\\n",
       "\t  -7\\\\\n",
       "\t   0\\\\\n",
       "\t  10\\\\\n",
       "\t -20\\\\\n",
       "\t -15\\\\\n",
       "\t  -7\\\\\n",
       "\t -38\\\\\n",
       "\t -24\\\\\n",
       "\t   0\\\\\n",
       "\t -12\\\\\n",
       "\t -10\\\\\n",
       "\t -11\\\\\n",
       "\t -11\\\\\n",
       "\t -15\\\\\n",
       "\t  NA\\\\\n",
       "\t  NA\\\\\n",
       "\t  NA\\\\\n",
       "\t  NA\\\\\n",
       "\t  NA\\\\\n",
       "\t  NA\\\\\n",
       "\\end{tabular}\n"
      ],
      "text/markdown": [
       "\n",
       "| kol_baru |\n",
       "|---|\n",
       "|   9 |\n",
       "|  16 |\n",
       "|  31 |\n",
       "| -17 |\n",
       "| -19 |\n",
       "|  16 |\n",
       "|  24 |\n",
       "| -11 |\n",
       "|  -5 |\n",
       "|  10 |\n",
       "|   0 |\n",
       "|  -1 |\n",
       "|   9 |\n",
       "| -12 |\n",
       "|  32 |\n",
       "|  -4 |\n",
       "|  -7 |\n",
       "|  -7 |\n",
       "|  12 |\n",
       "|  -7 |\n",
       "|   0 |\n",
       "|  19 |\n",
       "|  -8 |\n",
       "|  -4 |\n",
       "| -17 |\n",
       "|  24 |\n",
       "|   3 |\n",
       "|   1 |\n",
       "| -21 |\n",
       "|  -9 |\n",
       "| ... |\n",
       "| -22 |\n",
       "|  -7 |\n",
       "| -29 |\n",
       "| -32 |\n",
       "| -21 |\n",
       "| -30 |\n",
       "|  -2 |\n",
       "| -25 |\n",
       "|  -7 |\n",
       "| -16 |\n",
       "|  -7 |\n",
       "|   0 |\n",
       "|  10 |\n",
       "| -20 |\n",
       "| -15 |\n",
       "|  -7 |\n",
       "| -38 |\n",
       "| -24 |\n",
       "|   0 |\n",
       "| -12 |\n",
       "| -10 |\n",
       "| -11 |\n",
       "| -11 |\n",
       "| -15 |\n",
       "|  NA |\n",
       "|  NA |\n",
       "|  NA |\n",
       "|  NA |\n",
       "|  NA |\n",
       "|  NA |\n",
       "\n"
      ],
      "text/plain": [
       "       kol_baru\n",
       "1        9     \n",
       "2       16     \n",
       "3       31     \n",
       "4      -17     \n",
       "5      -19     \n",
       "6       16     \n",
       "7       24     \n",
       "8      -11     \n",
       "9       -5     \n",
       "10      10     \n",
       "11       0     \n",
       "12      -1     \n",
       "13       9     \n",
       "14     -12     \n",
       "15      32     \n",
       "16      -4     \n",
       "17      -7     \n",
       "18      -7     \n",
       "19      12     \n",
       "20      -7     \n",
       "21       0     \n",
       "22      19     \n",
       "23      -8     \n",
       "24      -4     \n",
       "25     -17     \n",
       "26      24     \n",
       "27       3     \n",
       "28       1     \n",
       "29     -21     \n",
       "30      -9     \n",
       "...    ...     \n",
       "336747 -22     \n",
       "336748  -7     \n",
       "336749 -29     \n",
       "336750 -32     \n",
       "336751 -21     \n",
       "336752 -30     \n",
       "336753  -2     \n",
       "336754 -25     \n",
       "336755  -7     \n",
       "336756 -16     \n",
       "336757  -7     \n",
       "336758   0     \n",
       "336759  10     \n",
       "336760 -20     \n",
       "336761 -15     \n",
       "336762  -7     \n",
       "336763 -38     \n",
       "336764 -24     \n",
       "336765   0     \n",
       "336766 -12     \n",
       "336767 -10     \n",
       "336768 -11     \n",
       "336769 -11     \n",
       "336770 -15     \n",
       "336771  NA     \n",
       "336772  NA     \n",
       "336773  NA     \n",
       "336774  NA     \n",
       "336775  NA     \n",
       "336776  NA     "
      ]
     },
     "metadata": {},
     "output_type": "display_data"
    }
   ],
   "source": [
    "transmute(flights, kol_baru = arr_delay - dep_delay)"
   ]
  },
  {
   "cell_type": "markdown",
   "metadata": {},
   "source": [
    "### `summarise()`"
   ]
  },
  {
   "cell_type": "code",
   "execution_count": 420,
   "metadata": {},
   "outputs": [
    {
     "data": {
      "text/html": [
       "<table>\n",
       "<thead><tr><th scope=col>rata2wktTerbang</th></tr></thead>\n",
       "<tbody>\n",
       "\t<tr><td>150.6865</td></tr>\n",
       "</tbody>\n",
       "</table>\n"
      ],
      "text/latex": [
       "\\begin{tabular}{r|l}\n",
       " rata2wktTerbang\\\\\n",
       "\\hline\n",
       "\t 150.6865\\\\\n",
       "\\end{tabular}\n"
      ],
      "text/markdown": [
       "\n",
       "| rata2wktTerbang |\n",
       "|---|\n",
       "| 150.6865 |\n",
       "\n"
      ],
      "text/plain": [
       "  rata2wktTerbang\n",
       "1 150.6865       "
      ]
     },
     "metadata": {},
     "output_type": "display_data"
    }
   ],
   "source": [
    "summarise(flights, rata2wktTerbang = mean(air_time, na.rm = T)) \n",
    "# sama seperti fungsi agregate di R"
   ]
  },
  {
   "cell_type": "code",
   "execution_count": 421,
   "metadata": {},
   "outputs": [
    {
     "data": {
      "text/html": [
       "<table>\n",
       "<thead><tr><th scope=col>JmlhwktTerbang</th></tr></thead>\n",
       "<tbody>\n",
       "\t<tr><td>49326610</td></tr>\n",
       "</tbody>\n",
       "</table>\n"
      ],
      "text/latex": [
       "\\begin{tabular}{r|l}\n",
       " JmlhwktTerbang\\\\\n",
       "\\hline\n",
       "\t 49326610\\\\\n",
       "\\end{tabular}\n"
      ],
      "text/markdown": [
       "\n",
       "| JmlhwktTerbang |\n",
       "|---|\n",
       "| 49326610 |\n",
       "\n"
      ],
      "text/plain": [
       "  JmlhwktTerbang\n",
       "1 49326610      "
      ]
     },
     "metadata": {},
     "output_type": "display_data"
    }
   ],
   "source": [
    "summarise(flights, JmlhwktTerbang = sum(air_time, na.rm = T)) "
   ]
  },
  {
   "cell_type": "markdown",
   "metadata": {},
   "source": [
    "### `sample_n()` dan `sample_frac()`"
   ]
  },
  {
   "cell_type": "code",
   "execution_count": 424,
   "metadata": {},
   "outputs": [
    {
     "data": {
      "text/html": [
       "<table>\n",
       "<thead><tr><th scope=col>year</th><th scope=col>month</th><th scope=col>day</th><th scope=col>dep_time</th><th scope=col>sched_dep_time</th><th scope=col>dep_delay</th><th scope=col>arr_time</th><th scope=col>sched_arr_time</th><th scope=col>arr_delay</th><th scope=col>carrier</th><th scope=col>flight</th><th scope=col>tailnum</th><th scope=col>origin</th><th scope=col>dest</th><th scope=col>air_time</th><th scope=col>distance</th><th scope=col>hour</th><th scope=col>minute</th><th scope=col>time_hour</th></tr></thead>\n",
       "<tbody>\n",
       "\t<tr><td>2013               </td><td> 4                 </td><td>22                 </td><td>2250               </td><td>2105               </td><td>105                </td><td>  56               </td><td>2305               </td><td>111                </td><td>MQ                 </td><td>4573               </td><td>N725MQ             </td><td>LGA                </td><td>DTW                </td><td>85                 </td><td>502                </td><td>21                 </td><td> 5                 </td><td>2013-04-22 21:00:00</td></tr>\n",
       "\t<tr><td>2013               </td><td> 2                 </td><td>13                 </td><td>2156               </td><td>2135               </td><td> 21                </td><td>2328               </td><td>2300               </td><td> 28                </td><td>B6                 </td><td> 104               </td><td>N348JB             </td><td>JFK                </td><td>BUF                </td><td>60                 </td><td>301                </td><td>21                 </td><td>35                 </td><td>2013-02-13 21:00:00</td></tr>\n",
       "\t<tr><td>2013               </td><td>10                 </td><td> 8                 </td><td> 554               </td><td> 600               </td><td> -6                </td><td> 731               </td><td> 758               </td><td>-27                </td><td>EV                 </td><td>5068               </td><td>N131EV             </td><td>EWR                </td><td>DTW                </td><td>76                 </td><td>488                </td><td> 6                 </td><td> 0                 </td><td>2013-10-08 06:00:00</td></tr>\n",
       "</tbody>\n",
       "</table>\n"
      ],
      "text/latex": [
       "\\begin{tabular}{r|lllllllllllllllllll}\n",
       " year & month & day & dep\\_time & sched\\_dep\\_time & dep\\_delay & arr\\_time & sched\\_arr\\_time & arr\\_delay & carrier & flight & tailnum & origin & dest & air\\_time & distance & hour & minute & time\\_hour\\\\\n",
       "\\hline\n",
       "\t 2013                &  4                  & 22                  & 2250                & 2105                & 105                 &   56                & 2305                & 111                 & MQ                  & 4573                & N725MQ              & LGA                 & DTW                 & 85                  & 502                 & 21                  &  5                  & 2013-04-22 21:00:00\\\\\n",
       "\t 2013                &  2                  & 13                  & 2156                & 2135                &  21                 & 2328                & 2300                &  28                 & B6                  &  104                & N348JB              & JFK                 & BUF                 & 60                  & 301                 & 21                  & 35                  & 2013-02-13 21:00:00\\\\\n",
       "\t 2013                & 10                  &  8                  &  554                &  600                &  -6                 &  731                &  758                & -27                 & EV                  & 5068                & N131EV              & EWR                 & DTW                 & 76                  & 488                 &  6                  &  0                  & 2013-10-08 06:00:00\\\\\n",
       "\\end{tabular}\n"
      ],
      "text/markdown": [
       "\n",
       "| year | month | day | dep_time | sched_dep_time | dep_delay | arr_time | sched_arr_time | arr_delay | carrier | flight | tailnum | origin | dest | air_time | distance | hour | minute | time_hour |\n",
       "|---|---|---|---|---|---|---|---|---|---|---|---|---|---|---|---|---|---|---|\n",
       "| 2013                |  4                  | 22                  | 2250                | 2105                | 105                 |   56                | 2305                | 111                 | MQ                  | 4573                | N725MQ              | LGA                 | DTW                 | 85                  | 502                 | 21                  |  5                  | 2013-04-22 21:00:00 |\n",
       "| 2013                |  2                  | 13                  | 2156                | 2135                |  21                 | 2328                | 2300                |  28                 | B6                  |  104                | N348JB              | JFK                 | BUF                 | 60                  | 301                 | 21                  | 35                  | 2013-02-13 21:00:00 |\n",
       "| 2013                | 10                  |  8                  |  554                |  600                |  -6                 |  731                |  758                | -27                 | EV                  | 5068                | N131EV              | EWR                 | DTW                 | 76                  | 488                 |  6                  |  0                  | 2013-10-08 06:00:00 |\n",
       "\n"
      ],
      "text/plain": [
       "  year month day dep_time sched_dep_time dep_delay arr_time sched_arr_time\n",
       "1 2013  4    22  2250     2105           105         56     2305          \n",
       "2 2013  2    13  2156     2135            21       2328     2300          \n",
       "3 2013 10     8   554      600            -6        731      758          \n",
       "  arr_delay carrier flight tailnum origin dest air_time distance hour minute\n",
       "1 111       MQ      4573   N725MQ  LGA    DTW  85       502      21    5    \n",
       "2  28       B6       104   N348JB  JFK    BUF  60       301      21   35    \n",
       "3 -27       EV      5068   N131EV  EWR    DTW  76       488       6    0    \n",
       "  time_hour          \n",
       "1 2013-04-22 21:00:00\n",
       "2 2013-02-13 21:00:00\n",
       "3 2013-10-08 06:00:00"
      ]
     },
     "metadata": {},
     "output_type": "display_data"
    }
   ],
   "source": [
    "sample_n(flights, 3) # mensampel 3 baris acak"
   ]
  },
  {
   "cell_type": "code",
   "execution_count": 427,
   "metadata": {},
   "outputs": [
    {
     "data": {
      "text/html": [
       "<table>\n",
       "<thead><tr><th scope=col>year</th><th scope=col>month</th><th scope=col>day</th><th scope=col>dep_time</th><th scope=col>sched_dep_time</th><th scope=col>dep_delay</th><th scope=col>arr_time</th><th scope=col>sched_arr_time</th><th scope=col>arr_delay</th><th scope=col>carrier</th><th scope=col>flight</th><th scope=col>tailnum</th><th scope=col>origin</th><th scope=col>dest</th><th scope=col>air_time</th><th scope=col>distance</th><th scope=col>hour</th><th scope=col>minute</th><th scope=col>time_hour</th></tr></thead>\n",
       "<tbody>\n",
       "\t<tr><td>2013               </td><td>11                 </td><td>13                 </td><td> 858               </td><td> 903               </td><td> -5                </td><td>1217               </td><td>1237               </td><td>-20                </td><td>UA                 </td><td>1296               </td><td>N77530             </td><td>EWR                </td><td>SFO                </td><td>337                </td><td>2565               </td><td> 9                 </td><td> 3                 </td><td>2013-11-13 09:00:00</td></tr>\n",
       "\t<tr><td>2013               </td><td>12                 </td><td>17                 </td><td>1030               </td><td>1034               </td><td> -4                </td><td>1328               </td><td>1319               </td><td>  9                </td><td>DL                 </td><td> 420               </td><td>N387DA             </td><td>JFK                </td><td>LAS                </td><td>315                </td><td>2248               </td><td>10                 </td><td>34                 </td><td>2013-12-17 10:00:00</td></tr>\n",
       "\t<tr><td>2013               </td><td> 5                 </td><td>25                 </td><td> 553               </td><td> 600               </td><td> -7                </td><td> 832               </td><td> 854               </td><td>-22                </td><td>B6                 </td><td> 371               </td><td>N505JB             </td><td>LGA                </td><td>FLL                </td><td>137                </td><td>1076               </td><td> 6                 </td><td> 0                 </td><td>2013-05-25 06:00:00</td></tr>\n",
       "\t<tr><td>2013               </td><td>11                 </td><td>16                 </td><td>1859               </td><td>1900               </td><td> -1                </td><td>2227               </td><td>2246               </td><td>-19                </td><td>DL                 </td><td> 434               </td><td>N711ZX             </td><td>JFK                </td><td>SFO                </td><td>360                </td><td>2586               </td><td>19                 </td><td> 0                 </td><td>2013-11-16 19:00:00</td></tr>\n",
       "\t<tr><td>2013               </td><td> 2                 </td><td> 5                 </td><td>1438               </td><td>1440               </td><td> -2                </td><td>1535               </td><td>1549               </td><td>-14                </td><td>UA                 </td><td> 717               </td><td>N846UA             </td><td>EWR                </td><td>BOS                </td><td> 34                </td><td> 200               </td><td>14                 </td><td>40                 </td><td>2013-02-05 14:00:00</td></tr>\n",
       "\t<tr><td>2013               </td><td> 7                 </td><td>11                 </td><td> 611               </td><td> 605               </td><td>  6                </td><td> 732               </td><td> 720               </td><td> 12                </td><td>WN                 </td><td>3574               </td><td>N478WN             </td><td>EWR                </td><td>MDW                </td><td>111                </td><td> 711               </td><td> 6                 </td><td> 5                 </td><td>2013-07-11 06:00:00</td></tr>\n",
       "\t<tr><td>2013               </td><td>11                 </td><td>11                 </td><td>2045               </td><td>2045               </td><td>  0                </td><td>2346               </td><td>2359               </td><td>-13                </td><td>B6                 </td><td>1295               </td><td>N715JB             </td><td>JFK                </td><td>AUS                </td><td>219                </td><td>1521               </td><td>20                 </td><td>45                 </td><td>2013-11-11 20:00:00</td></tr>\n",
       "\t<tr><td>2013               </td><td> 4                 </td><td>23                 </td><td> 648               </td><td> 650               </td><td> -2                </td><td> 954               </td><td>1006               </td><td>-12                </td><td>UA                 </td><td>1497               </td><td>N77430             </td><td>EWR                </td><td>RSW                </td><td>160                </td><td>1068               </td><td> 6                 </td><td>50                 </td><td>2013-04-23 06:00:00</td></tr>\n",
       "\t<tr><td>2013               </td><td> 8                 </td><td>13                 </td><td>2228               </td><td>2231               </td><td> -3                </td><td> 218               </td><td> 226               </td><td> -8                </td><td>B6                 </td><td>1203               </td><td>N729JB             </td><td>JFK                </td><td>SJU                </td><td>207                </td><td>1598               </td><td>22                 </td><td>31                 </td><td>2013-08-13 22:00:00</td></tr>\n",
       "\t<tr><td>2013               </td><td> 3                 </td><td>15                 </td><td>1541               </td><td>1545               </td><td> -4                </td><td>1925               </td><td>1921               </td><td>  4                </td><td>DL                 </td><td>1773               </td><td>N602DL             </td><td>JFK                </td><td>SLC                </td><td>303                </td><td>1990               </td><td>15                 </td><td>45                 </td><td>2013-03-15 15:00:00</td></tr>\n",
       "\t<tr><td>2013               </td><td> 5                 </td><td>21                 </td><td> 758               </td><td> 806               </td><td> -8                </td><td> 945               </td><td>1003               </td><td>-18                </td><td>EV                 </td><td>4691               </td><td>N14543             </td><td>EWR                </td><td>DAY                </td><td> 76                </td><td> 533               </td><td> 8                 </td><td> 6                 </td><td>2013-05-21 08:00:00</td></tr>\n",
       "\t<tr><td>2013               </td><td> 3                 </td><td>28                 </td><td>2036               </td><td>2040               </td><td> -4                </td><td>2330               </td><td>2356               </td><td>-26                </td><td>B6                 </td><td> 165               </td><td>N587JB             </td><td>JFK                </td><td>PDX                </td><td>328                </td><td>2454               </td><td>20                 </td><td>40                 </td><td>2013-03-28 20:00:00</td></tr>\n",
       "\t<tr><td>2013               </td><td>12                 </td><td>19                 </td><td>1745               </td><td>1710               </td><td> 35                </td><td>1949               </td><td>1910               </td><td> 39                </td><td>MQ                 </td><td>3530               </td><td>N844MQ             </td><td>LGA                </td><td>DTW                </td><td> 91                </td><td> 502               </td><td>17                 </td><td>10                 </td><td>2013-12-19 17:00:00</td></tr>\n",
       "\t<tr><td>2013               </td><td> 3                 </td><td> 5                 </td><td>1227               </td><td>1210               </td><td> 17                </td><td>1324               </td><td>1315               </td><td>  9                </td><td>WN                 </td><td>2236               </td><td>N7739A             </td><td>EWR                </td><td>BWI                </td><td> 37                </td><td> 169               </td><td>12                 </td><td>10                 </td><td>2013-03-05 12:00:00</td></tr>\n",
       "\t<tr><td>2013               </td><td> 6                 </td><td>13                 </td><td> 552               </td><td> 600               </td><td> -8                </td><td> 658               </td><td> 712               </td><td>-14                </td><td>EV                 </td><td>5716               </td><td>N829AS             </td><td>JFK                </td><td>IAD                </td><td> 45                </td><td> 228               </td><td> 6                 </td><td> 0                 </td><td>2013-06-13 06:00:00</td></tr>\n",
       "\t<tr><td>2013               </td><td> 9                 </td><td>13                 </td><td>1926               </td><td>1930               </td><td> -4                </td><td>2147               </td><td>2125               </td><td> 22                </td><td>9E                 </td><td>3497               </td><td>N921XJ             </td><td>JFK                </td><td>RDU                </td><td> 69                </td><td> 427               </td><td>19                 </td><td>30                 </td><td>2013-09-13 19:00:00</td></tr>\n",
       "\t<tr><td>2013               </td><td> 6                 </td><td>22                 </td><td>1659               </td><td>1700               </td><td> -1                </td><td>1923               </td><td>2000               </td><td>-37                </td><td>AA                 </td><td> 773               </td><td>N470AA             </td><td>LGA                </td><td>DFW                </td><td>176                </td><td>1389               </td><td>17                 </td><td> 0                 </td><td>2013-06-22 17:00:00</td></tr>\n",
       "\t<tr><td>2013               </td><td>11                 </td><td>10                 </td><td>1003               </td><td>1010               </td><td> -7                </td><td>1209               </td><td>1243               </td><td>-34                </td><td>9E                 </td><td>3512               </td><td>N924XJ             </td><td>LGA                </td><td>IND                </td><td>104                </td><td> 660               </td><td>10                 </td><td>10                 </td><td>2013-11-10 10:00:00</td></tr>\n",
       "\t<tr><td>2013               </td><td>10                 </td><td>16                 </td><td> 552               </td><td> 600               </td><td> -8                </td><td> 655               </td><td> 659               </td><td> -4                </td><td>US                 </td><td>2167               </td><td>N704US             </td><td>LGA                </td><td>DCA                </td><td> 47                </td><td> 214               </td><td> 6                 </td><td> 0                 </td><td>2013-10-16 06:00:00</td></tr>\n",
       "\t<tr><td>2013               </td><td> 7                 </td><td> 8                 </td><td> 643               </td><td> 649               </td><td> -6                </td><td> 747               </td><td> 810               </td><td>-23                </td><td>UA                 </td><td> 475               </td><td>N439UA             </td><td>EWR                </td><td>BOS                </td><td> 39                </td><td> 200               </td><td> 6                 </td><td>49                 </td><td>2013-07-08 06:00:00</td></tr>\n",
       "\t<tr><td>2013               </td><td> 9                 </td><td>13                 </td><td>2058               </td><td>2017               </td><td> 41                </td><td>2225               </td><td>2159               </td><td> 26                </td><td>UA                 </td><td>1464               </td><td>N16713             </td><td>EWR                </td><td>CLE                </td><td> 61                </td><td> 404               </td><td>20                 </td><td>17                 </td><td>2013-09-13 20:00:00</td></tr>\n",
       "\t<tr><td>2013               </td><td>10                 </td><td>24                 </td><td>2100               </td><td>2059               </td><td>  1                </td><td>2342               </td><td>2358               </td><td>-16                </td><td>UA                 </td><td>1416               </td><td>N73445             </td><td>EWR                </td><td>MCO                </td><td>144                </td><td> 937               </td><td>20                 </td><td>59                 </td><td>2013-10-24 20:00:00</td></tr>\n",
       "\t<tr><td>2013               </td><td> 2                 </td><td> 1                 </td><td>1020               </td><td>1015               </td><td>  5                </td><td>1128               </td><td>1131               </td><td> -3                </td><td>EV                 </td><td>4663               </td><td>N13955             </td><td>EWR                </td><td>IAD                </td><td> 47                </td><td> 212               </td><td>10                 </td><td>15                 </td><td>2013-02-01 10:00:00</td></tr>\n",
       "\t<tr><td>2013               </td><td>10                 </td><td>28                 </td><td>1851               </td><td>1855               </td><td> -4                </td><td>2033               </td><td>2035               </td><td> -2                </td><td>AA                 </td><td> 359               </td><td>N4YFAA             </td><td>LGA                </td><td>ORD                </td><td>127                </td><td> 733               </td><td>18                 </td><td>55                 </td><td>2013-10-28 18:00:00</td></tr>\n",
       "\t<tr><td>2013               </td><td> 3                 </td><td>25                 </td><td>1458               </td><td>1459               </td><td> -1                </td><td>1753               </td><td>1825               </td><td>-32                </td><td>UA                 </td><td>1699               </td><td>N38257             </td><td>EWR                </td><td>SFO                </td><td>338                </td><td>2565               </td><td>14                 </td><td>59                 </td><td>2013-03-25 14:00:00</td></tr>\n",
       "\t<tr><td>2013               </td><td> 4                 </td><td>27                 </td><td> 908               </td><td> 912               </td><td> -4                </td><td>1150               </td><td>1200               </td><td>-10                </td><td>B6                 </td><td>  59               </td><td>N258JB             </td><td>JFK                </td><td>TPA                </td><td>141                </td><td>1005               </td><td> 9                 </td><td>12                 </td><td>2013-04-27 09:00:00</td></tr>\n",
       "\t<tr><td>2013               </td><td> 8                 </td><td>22                 </td><td>1842               </td><td>1712               </td><td> 90                </td><td>1950               </td><td>1844               </td><td> 66                </td><td>B6                 </td><td> 408               </td><td>N267JB             </td><td>JFK                </td><td>PWM                </td><td> 47                </td><td> 273               </td><td>17                 </td><td>12                 </td><td>2013-08-22 17:00:00</td></tr>\n",
       "\t<tr><td>2013               </td><td> 2                 </td><td>17                 </td><td> 635               </td><td> 610               </td><td> 25                </td><td> 924               </td><td> 910               </td><td> 14                </td><td>AA                 </td><td>1895               </td><td>N5DMAA             </td><td>EWR                </td><td>MIA                </td><td>149                </td><td>1085               </td><td> 6                 </td><td>10                 </td><td>2013-02-17 06:00:00</td></tr>\n",
       "\t<tr><td>2013               </td><td> 8                 </td><td>27                 </td><td> 721               </td><td> 725               </td><td> -4                </td><td> 809               </td><td> 822               </td><td>-13                </td><td>EV                 </td><td>6062               </td><td>N16183             </td><td>EWR                </td><td>BDL                </td><td> 30                </td><td> 116               </td><td> 7                 </td><td>25                 </td><td>2013-08-27 07:00:00</td></tr>\n",
       "\t<tr><td>2013               </td><td> 7                 </td><td>26                 </td><td> 746               </td><td> 800               </td><td>-14                </td><td> 949               </td><td>1005               </td><td>-16                </td><td>DL                 </td><td>2119               </td><td>N918DE             </td><td>LGA                </td><td>MSP                </td><td>147                </td><td>1020               </td><td> 8                 </td><td> 0                 </td><td>2013-07-26 08:00:00</td></tr>\n",
       "\t<tr><td>...</td><td>...</td><td>...</td><td>...</td><td>...</td><td>...</td><td>...</td><td>...</td><td>...</td><td>...</td><td>...</td><td>...</td><td>...</td><td>...</td><td>...</td><td>...</td><td>...</td><td>...</td><td>...</td></tr>\n",
       "\t<tr><td>2013               </td><td> 8                 </td><td> 1                 </td><td>1551               </td><td>1545               </td><td>  6                </td><td>1942               </td><td>2005               </td><td>-23                </td><td>DL                 </td><td>   4               </td><td>N3746H             </td><td>JFK                </td><td>SJU                </td><td>200                </td><td>1598               </td><td>15                 </td><td>45                 </td><td>2013-08-01 15:00:00</td></tr>\n",
       "\t<tr><td>2013               </td><td> 2                 </td><td>25                 </td><td>1254               </td><td>1300               </td><td> -6                </td><td>1539               </td><td>1537               </td><td>  2                </td><td>DL                 </td><td> 781               </td><td>N659DL             </td><td>LGA                </td><td>ATL                </td><td>133                </td><td> 762               </td><td>13                 </td><td> 0                 </td><td>2013-02-25 13:00:00</td></tr>\n",
       "\t<tr><td>2013               </td><td> 1                 </td><td>21                 </td><td>1750               </td><td>1645               </td><td> 65                </td><td>2044               </td><td>2005               </td><td> 39                </td><td>AA                 </td><td> 181               </td><td>N339AA             </td><td>JFK                </td><td>LAX                </td><td>335                </td><td>2475               </td><td>16                 </td><td>45                 </td><td>2013-01-21 16:00:00</td></tr>\n",
       "\t<tr><td>2013               </td><td>11                 </td><td>30                 </td><td>1255               </td><td>1300               </td><td> -5                </td><td>1527               </td><td>1538               </td><td>-11                </td><td>DL                 </td><td> 781               </td><td>N919DE             </td><td>LGA                </td><td>ATL                </td><td>116                </td><td> 762               </td><td>13                 </td><td> 0                 </td><td>2013-11-30 13:00:00</td></tr>\n",
       "\t<tr><td>2013               </td><td>11                 </td><td>17                 </td><td>1604               </td><td>1555               </td><td>  9                </td><td>1808               </td><td>1755               </td><td> 13                </td><td>MQ                 </td><td>3199               </td><td>N0EGMQ             </td><td>LGA                </td><td>CLT                </td><td> 91                </td><td> 544               </td><td>15                 </td><td>55                 </td><td>2013-11-17 15:00:00</td></tr>\n",
       "\t<tr><td>2013               </td><td>11                 </td><td>25                 </td><td> 952               </td><td>1000               </td><td> -8                </td><td>1127               </td><td>1135               </td><td> -8                </td><td>MQ                 </td><td>3675               </td><td>N857MQ             </td><td>LGA                </td><td>BNA                </td><td>119                </td><td> 764               </td><td>10                 </td><td> 0                 </td><td>2013-11-25 10:00:00</td></tr>\n",
       "\t<tr><td>2013               </td><td> 5                 </td><td> 2                 </td><td>1544               </td><td>1500               </td><td> 44                </td><td>1749               </td><td>1722               </td><td> 27                </td><td>EV                 </td><td>4971               </td><td>N708EV             </td><td>LGA                </td><td>CHS                </td><td> 90                </td><td> 641               </td><td>15                 </td><td> 0                 </td><td>2013-05-02 15:00:00</td></tr>\n",
       "\t<tr><td>2013               </td><td> 9                 </td><td> 9                 </td><td>1932               </td><td>1900               </td><td> 32                </td><td>2045               </td><td>2018               </td><td> 27                </td><td>US                 </td><td>2193               </td><td>N714US             </td><td>LGA                </td><td>DCA                </td><td> 43                </td><td> 214               </td><td>19                 </td><td> 0                 </td><td>2013-09-09 19:00:00</td></tr>\n",
       "\t<tr><td>2013               </td><td>10                 </td><td> 4                 </td><td>1717               </td><td>1555               </td><td> 82                </td><td>1851               </td><td>1740               </td><td> 71                </td><td>EV                 </td><td>5091               </td><td>N712EV             </td><td>LGA                </td><td>PIT                </td><td> 53                </td><td> 335               </td><td>15                 </td><td>55                 </td><td>2013-10-04 15:00:00</td></tr>\n",
       "\t<tr><td>2013               </td><td> 5                 </td><td>18                 </td><td>1617               </td><td>1540               </td><td> 37                </td><td>1741               </td><td>1733               </td><td>  8                </td><td>9E                 </td><td>3523               </td><td>N936XJ             </td><td>JFK                </td><td>ORD                </td><td>113                </td><td> 740               </td><td>15                 </td><td>40                 </td><td>2013-05-18 15:00:00</td></tr>\n",
       "\t<tr><td>2013               </td><td> 5                 </td><td>14                 </td><td>1825               </td><td>1830               </td><td> -5                </td><td>2116               </td><td>2200               </td><td>-44                </td><td>AA                 </td><td> 119               </td><td>N3JFAA             </td><td>EWR                </td><td>LAX                </td><td>307                </td><td>2454               </td><td>18                 </td><td>30                 </td><td>2013-05-14 18:00:00</td></tr>\n",
       "\t<tr><td>2013               </td><td> 8                 </td><td>23                 </td><td>  NA               </td><td>1940               </td><td> NA                </td><td>  NA               </td><td>2059               </td><td> NA                </td><td>EV                 </td><td>5714               </td><td>N829AS             </td><td>JFK                </td><td>IAD                </td><td> NA                </td><td> 228               </td><td>19                 </td><td>40                 </td><td>2013-08-23 19:00:00</td></tr>\n",
       "\t<tr><td>2013               </td><td>10                 </td><td> 5                 </td><td> 830               </td><td> 835               </td><td> -5                </td><td>1009               </td><td>1030               </td><td>-21                </td><td>MQ                 </td><td>3407               </td><td>N507MQ             </td><td>LGA                </td><td>CMH                </td><td> 75                </td><td> 479               </td><td> 8                 </td><td>35                 </td><td>2013-10-05 08:00:00</td></tr>\n",
       "\t<tr><td>2013               </td><td> 2                 </td><td>22                 </td><td>1847               </td><td>1850               </td><td> -3                </td><td>2153               </td><td>2229               </td><td>-36                </td><td>DL                 </td><td>1108               </td><td>N949DL             </td><td>JFK                </td><td>MIA                </td><td>157                </td><td>1089               </td><td>18                 </td><td>50                 </td><td>2013-02-22 18:00:00</td></tr>\n",
       "\t<tr><td>2013               </td><td> 7                 </td><td>18                 </td><td> 703               </td><td> 710               </td><td> -7                </td><td> 858               </td><td> 915               </td><td>-17                </td><td>MQ                 </td><td>3547               </td><td>N815MQ             </td><td>LGA                </td><td>XNA                </td><td>154                </td><td>1147               </td><td> 7                 </td><td>10                 </td><td>2013-07-18 07:00:00</td></tr>\n",
       "\t<tr><td>2013               </td><td> 5                 </td><td>22                 </td><td>1633               </td><td>1455               </td><td> 98                </td><td>1759               </td><td>1638               </td><td> 81                </td><td>9E                 </td><td>3318               </td><td>N917XJ             </td><td>JFK                </td><td>BUF                </td><td> 50                </td><td> 301               </td><td>14                 </td><td>55                 </td><td>2013-05-22 14:00:00</td></tr>\n",
       "\t<tr><td>2013               </td><td> 7                 </td><td> 2                 </td><td>1906               </td><td>1855               </td><td> 11                </td><td>2158               </td><td>2205               </td><td> -7                </td><td>VX                 </td><td> 169               </td><td>N525VA             </td><td>EWR                </td><td>LAX                </td><td>311                </td><td>2454               </td><td>18                 </td><td>55                 </td><td>2013-07-02 18:00:00</td></tr>\n",
       "\t<tr><td>2013               </td><td> 7                 </td><td>28                 </td><td> 931               </td><td> 940               </td><td> -9                </td><td>1028               </td><td>1051               </td><td>-23                </td><td>9E                 </td><td>3608               </td><td>N801AY             </td><td>JFK                </td><td>PHL                </td><td> 32                </td><td>  94               </td><td> 9                 </td><td>40                 </td><td>2013-07-28 09:00:00</td></tr>\n",
       "\t<tr><td>2013               </td><td> 4                 </td><td>21                 </td><td>1154               </td><td>1200               </td><td> -6                </td><td>1248               </td><td>1305               </td><td>-17                </td><td>B6                 </td><td>1174               </td><td>N630JB             </td><td>EWR                </td><td>BOS                </td><td> 34                </td><td> 200               </td><td>12                 </td><td> 0                 </td><td>2013-04-21 12:00:00</td></tr>\n",
       "\t<tr><td>2013               </td><td>10                 </td><td>14                 </td><td>1005               </td><td>1005               </td><td>  0                </td><td>1209               </td><td>1217               </td><td> -8                </td><td>DL                 </td><td>2319               </td><td>N320US             </td><td>LGA                </td><td>MSP                </td><td>140                </td><td>1020               </td><td>10                 </td><td> 5                 </td><td>2013-10-14 10:00:00</td></tr>\n",
       "\t<tr><td>2013               </td><td> 4                 </td><td>22                 </td><td> 855               </td><td> 835               </td><td> 20                </td><td>1241               </td><td>1235               </td><td>  6                </td><td>DL                 </td><td> 301               </td><td>N386DA             </td><td>JFK                </td><td>SJU                </td><td>199                </td><td>1598               </td><td> 8                 </td><td>35                 </td><td>2013-04-22 08:00:00</td></tr>\n",
       "\t<tr><td>2013               </td><td>11                 </td><td>24                 </td><td>1808               </td><td>1815               </td><td> -7                </td><td>2125               </td><td>2135               </td><td>-10                </td><td>AA                 </td><td>1611               </td><td>N3BDAA             </td><td>LGA                </td><td>MIA                </td><td>159                </td><td>1096               </td><td>18                 </td><td>15                 </td><td>2013-11-24 18:00:00</td></tr>\n",
       "\t<tr><td>2013               </td><td> 4                 </td><td>24                 </td><td>1155               </td><td>1200               </td><td> -5                </td><td>1339               </td><td>1343               </td><td> -4                </td><td>EV                 </td><td>5679               </td><td>N13964             </td><td>EWR                </td><td>CMH                </td><td> 79                </td><td> 463               </td><td>12                 </td><td> 0                 </td><td>2013-04-24 12:00:00</td></tr>\n",
       "\t<tr><td>2013               </td><td> 1                 </td><td> 7                 </td><td>1258               </td><td>1259               </td><td> -1                </td><td>1355               </td><td>1408               </td><td>-13                </td><td>UA                 </td><td> 561               </td><td>N803UA             </td><td>EWR                </td><td>BOS                </td><td> 36                </td><td> 200               </td><td>12                 </td><td>59                 </td><td>2013-01-07 12:00:00</td></tr>\n",
       "\t<tr><td>2013               </td><td> 8                 </td><td> 7                 </td><td> 601               </td><td> 605               </td><td> -4                </td><td> 737               </td><td> 720               </td><td> 17                </td><td>WN                 </td><td>3574               </td><td>N255WN             </td><td>EWR                </td><td>MDW                </td><td>111                </td><td> 711               </td><td> 6                 </td><td> 5                 </td><td>2013-08-07 06:00:00</td></tr>\n",
       "\t<tr><td>2013               </td><td> 7                 </td><td>13                 </td><td> 555               </td><td> 600               </td><td> -5                </td><td> 824               </td><td> 825               </td><td> -1                </td><td>DL                 </td><td> 461               </td><td>N950DL             </td><td>LGA                </td><td>ATL                </td><td>117                </td><td> 762               </td><td> 6                 </td><td> 0                 </td><td>2013-07-13 06:00:00</td></tr>\n",
       "\t<tr><td>2013               </td><td>11                 </td><td>25                 </td><td>1156               </td><td>1200               </td><td> -4                </td><td>1457               </td><td>1520               </td><td>-23                </td><td>DL                 </td><td> 423               </td><td>N703TW             </td><td>JFK                </td><td>LAX                </td><td>339                </td><td>2475               </td><td>12                 </td><td> 0                 </td><td>2013-11-25 12:00:00</td></tr>\n",
       "\t<tr><td>2013               </td><td>10                 </td><td>27                 </td><td>2127               </td><td>2129               </td><td> -2                </td><td>2242               </td><td>2236               </td><td>  6                </td><td>EV                 </td><td>4583               </td><td>N15983             </td><td>EWR                </td><td>PWM                </td><td> 52                </td><td> 284               </td><td>21                 </td><td>29                 </td><td>2013-10-27 21:00:00</td></tr>\n",
       "\t<tr><td>2013               </td><td> 4                 </td><td> 3                 </td><td>1806               </td><td>1810               </td><td> -4                </td><td>1942               </td><td>2000               </td><td>-18                </td><td>MQ                 </td><td>4626               </td><td>N518MQ             </td><td>LGA                </td><td>CMH                </td><td> 75                </td><td> 479               </td><td>18                 </td><td>10                 </td><td>2013-04-03 18:00:00</td></tr>\n",
       "\t<tr><td>2013               </td><td>12                 </td><td>10                 </td><td>1503               </td><td>1315               </td><td>108                </td><td>1709               </td><td>1450               </td><td>139                </td><td>AA                 </td><td> 331               </td><td>N598AA             </td><td>LGA                </td><td>ORD                </td><td>127                </td><td> 733               </td><td>13                 </td><td>15                 </td><td>2013-12-10 13:00:00</td></tr>\n",
       "</tbody>\n",
       "</table>\n"
      ],
      "text/latex": [
       "\\begin{tabular}{r|lllllllllllllllllll}\n",
       " year & month & day & dep\\_time & sched\\_dep\\_time & dep\\_delay & arr\\_time & sched\\_arr\\_time & arr\\_delay & carrier & flight & tailnum & origin & dest & air\\_time & distance & hour & minute & time\\_hour\\\\\n",
       "\\hline\n",
       "\t 2013                & 11                  & 13                  &  858                &  903                &  -5                 & 1217                & 1237                & -20                 & UA                  & 1296                & N77530              & EWR                 & SFO                 & 337                 & 2565                &  9                  &  3                  & 2013-11-13 09:00:00\\\\\n",
       "\t 2013                & 12                  & 17                  & 1030                & 1034                &  -4                 & 1328                & 1319                &   9                 & DL                  &  420                & N387DA              & JFK                 & LAS                 & 315                 & 2248                & 10                  & 34                  & 2013-12-17 10:00:00\\\\\n",
       "\t 2013                &  5                  & 25                  &  553                &  600                &  -7                 &  832                &  854                & -22                 & B6                  &  371                & N505JB              & LGA                 & FLL                 & 137                 & 1076                &  6                  &  0                  & 2013-05-25 06:00:00\\\\\n",
       "\t 2013                & 11                  & 16                  & 1859                & 1900                &  -1                 & 2227                & 2246                & -19                 & DL                  &  434                & N711ZX              & JFK                 & SFO                 & 360                 & 2586                & 19                  &  0                  & 2013-11-16 19:00:00\\\\\n",
       "\t 2013                &  2                  &  5                  & 1438                & 1440                &  -2                 & 1535                & 1549                & -14                 & UA                  &  717                & N846UA              & EWR                 & BOS                 &  34                 &  200                & 14                  & 40                  & 2013-02-05 14:00:00\\\\\n",
       "\t 2013                &  7                  & 11                  &  611                &  605                &   6                 &  732                &  720                &  12                 & WN                  & 3574                & N478WN              & EWR                 & MDW                 & 111                 &  711                &  6                  &  5                  & 2013-07-11 06:00:00\\\\\n",
       "\t 2013                & 11                  & 11                  & 2045                & 2045                &   0                 & 2346                & 2359                & -13                 & B6                  & 1295                & N715JB              & JFK                 & AUS                 & 219                 & 1521                & 20                  & 45                  & 2013-11-11 20:00:00\\\\\n",
       "\t 2013                &  4                  & 23                  &  648                &  650                &  -2                 &  954                & 1006                & -12                 & UA                  & 1497                & N77430              & EWR                 & RSW                 & 160                 & 1068                &  6                  & 50                  & 2013-04-23 06:00:00\\\\\n",
       "\t 2013                &  8                  & 13                  & 2228                & 2231                &  -3                 &  218                &  226                &  -8                 & B6                  & 1203                & N729JB              & JFK                 & SJU                 & 207                 & 1598                & 22                  & 31                  & 2013-08-13 22:00:00\\\\\n",
       "\t 2013                &  3                  & 15                  & 1541                & 1545                &  -4                 & 1925                & 1921                &   4                 & DL                  & 1773                & N602DL              & JFK                 & SLC                 & 303                 & 1990                & 15                  & 45                  & 2013-03-15 15:00:00\\\\\n",
       "\t 2013                &  5                  & 21                  &  758                &  806                &  -8                 &  945                & 1003                & -18                 & EV                  & 4691                & N14543              & EWR                 & DAY                 &  76                 &  533                &  8                  &  6                  & 2013-05-21 08:00:00\\\\\n",
       "\t 2013                &  3                  & 28                  & 2036                & 2040                &  -4                 & 2330                & 2356                & -26                 & B6                  &  165                & N587JB              & JFK                 & PDX                 & 328                 & 2454                & 20                  & 40                  & 2013-03-28 20:00:00\\\\\n",
       "\t 2013                & 12                  & 19                  & 1745                & 1710                &  35                 & 1949                & 1910                &  39                 & MQ                  & 3530                & N844MQ              & LGA                 & DTW                 &  91                 &  502                & 17                  & 10                  & 2013-12-19 17:00:00\\\\\n",
       "\t 2013                &  3                  &  5                  & 1227                & 1210                &  17                 & 1324                & 1315                &   9                 & WN                  & 2236                & N7739A              & EWR                 & BWI                 &  37                 &  169                & 12                  & 10                  & 2013-03-05 12:00:00\\\\\n",
       "\t 2013                &  6                  & 13                  &  552                &  600                &  -8                 &  658                &  712                & -14                 & EV                  & 5716                & N829AS              & JFK                 & IAD                 &  45                 &  228                &  6                  &  0                  & 2013-06-13 06:00:00\\\\\n",
       "\t 2013                &  9                  & 13                  & 1926                & 1930                &  -4                 & 2147                & 2125                &  22                 & 9E                  & 3497                & N921XJ              & JFK                 & RDU                 &  69                 &  427                & 19                  & 30                  & 2013-09-13 19:00:00\\\\\n",
       "\t 2013                &  6                  & 22                  & 1659                & 1700                &  -1                 & 1923                & 2000                & -37                 & AA                  &  773                & N470AA              & LGA                 & DFW                 & 176                 & 1389                & 17                  &  0                  & 2013-06-22 17:00:00\\\\\n",
       "\t 2013                & 11                  & 10                  & 1003                & 1010                &  -7                 & 1209                & 1243                & -34                 & 9E                  & 3512                & N924XJ              & LGA                 & IND                 & 104                 &  660                & 10                  & 10                  & 2013-11-10 10:00:00\\\\\n",
       "\t 2013                & 10                  & 16                  &  552                &  600                &  -8                 &  655                &  659                &  -4                 & US                  & 2167                & N704US              & LGA                 & DCA                 &  47                 &  214                &  6                  &  0                  & 2013-10-16 06:00:00\\\\\n",
       "\t 2013                &  7                  &  8                  &  643                &  649                &  -6                 &  747                &  810                & -23                 & UA                  &  475                & N439UA              & EWR                 & BOS                 &  39                 &  200                &  6                  & 49                  & 2013-07-08 06:00:00\\\\\n",
       "\t 2013                &  9                  & 13                  & 2058                & 2017                &  41                 & 2225                & 2159                &  26                 & UA                  & 1464                & N16713              & EWR                 & CLE                 &  61                 &  404                & 20                  & 17                  & 2013-09-13 20:00:00\\\\\n",
       "\t 2013                & 10                  & 24                  & 2100                & 2059                &   1                 & 2342                & 2358                & -16                 & UA                  & 1416                & N73445              & EWR                 & MCO                 & 144                 &  937                & 20                  & 59                  & 2013-10-24 20:00:00\\\\\n",
       "\t 2013                &  2                  &  1                  & 1020                & 1015                &   5                 & 1128                & 1131                &  -3                 & EV                  & 4663                & N13955              & EWR                 & IAD                 &  47                 &  212                & 10                  & 15                  & 2013-02-01 10:00:00\\\\\n",
       "\t 2013                & 10                  & 28                  & 1851                & 1855                &  -4                 & 2033                & 2035                &  -2                 & AA                  &  359                & N4YFAA              & LGA                 & ORD                 & 127                 &  733                & 18                  & 55                  & 2013-10-28 18:00:00\\\\\n",
       "\t 2013                &  3                  & 25                  & 1458                & 1459                &  -1                 & 1753                & 1825                & -32                 & UA                  & 1699                & N38257              & EWR                 & SFO                 & 338                 & 2565                & 14                  & 59                  & 2013-03-25 14:00:00\\\\\n",
       "\t 2013                &  4                  & 27                  &  908                &  912                &  -4                 & 1150                & 1200                & -10                 & B6                  &   59                & N258JB              & JFK                 & TPA                 & 141                 & 1005                &  9                  & 12                  & 2013-04-27 09:00:00\\\\\n",
       "\t 2013                &  8                  & 22                  & 1842                & 1712                &  90                 & 1950                & 1844                &  66                 & B6                  &  408                & N267JB              & JFK                 & PWM                 &  47                 &  273                & 17                  & 12                  & 2013-08-22 17:00:00\\\\\n",
       "\t 2013                &  2                  & 17                  &  635                &  610                &  25                 &  924                &  910                &  14                 & AA                  & 1895                & N5DMAA              & EWR                 & MIA                 & 149                 & 1085                &  6                  & 10                  & 2013-02-17 06:00:00\\\\\n",
       "\t 2013                &  8                  & 27                  &  721                &  725                &  -4                 &  809                &  822                & -13                 & EV                  & 6062                & N16183              & EWR                 & BDL                 &  30                 &  116                &  7                  & 25                  & 2013-08-27 07:00:00\\\\\n",
       "\t 2013                &  7                  & 26                  &  746                &  800                & -14                 &  949                & 1005                & -16                 & DL                  & 2119                & N918DE              & LGA                 & MSP                 & 147                 & 1020                &  8                  &  0                  & 2013-07-26 08:00:00\\\\\n",
       "\t ... & ... & ... & ... & ... & ... & ... & ... & ... & ... & ... & ... & ... & ... & ... & ... & ... & ... & ...\\\\\n",
       "\t 2013                &  8                  &  1                  & 1551                & 1545                &   6                 & 1942                & 2005                & -23                 & DL                  &    4                & N3746H              & JFK                 & SJU                 & 200                 & 1598                & 15                  & 45                  & 2013-08-01 15:00:00\\\\\n",
       "\t 2013                &  2                  & 25                  & 1254                & 1300                &  -6                 & 1539                & 1537                &   2                 & DL                  &  781                & N659DL              & LGA                 & ATL                 & 133                 &  762                & 13                  &  0                  & 2013-02-25 13:00:00\\\\\n",
       "\t 2013                &  1                  & 21                  & 1750                & 1645                &  65                 & 2044                & 2005                &  39                 & AA                  &  181                & N339AA              & JFK                 & LAX                 & 335                 & 2475                & 16                  & 45                  & 2013-01-21 16:00:00\\\\\n",
       "\t 2013                & 11                  & 30                  & 1255                & 1300                &  -5                 & 1527                & 1538                & -11                 & DL                  &  781                & N919DE              & LGA                 & ATL                 & 116                 &  762                & 13                  &  0                  & 2013-11-30 13:00:00\\\\\n",
       "\t 2013                & 11                  & 17                  & 1604                & 1555                &   9                 & 1808                & 1755                &  13                 & MQ                  & 3199                & N0EGMQ              & LGA                 & CLT                 &  91                 &  544                & 15                  & 55                  & 2013-11-17 15:00:00\\\\\n",
       "\t 2013                & 11                  & 25                  &  952                & 1000                &  -8                 & 1127                & 1135                &  -8                 & MQ                  & 3675                & N857MQ              & LGA                 & BNA                 & 119                 &  764                & 10                  &  0                  & 2013-11-25 10:00:00\\\\\n",
       "\t 2013                &  5                  &  2                  & 1544                & 1500                &  44                 & 1749                & 1722                &  27                 & EV                  & 4971                & N708EV              & LGA                 & CHS                 &  90                 &  641                & 15                  &  0                  & 2013-05-02 15:00:00\\\\\n",
       "\t 2013                &  9                  &  9                  & 1932                & 1900                &  32                 & 2045                & 2018                &  27                 & US                  & 2193                & N714US              & LGA                 & DCA                 &  43                 &  214                & 19                  &  0                  & 2013-09-09 19:00:00\\\\\n",
       "\t 2013                & 10                  &  4                  & 1717                & 1555                &  82                 & 1851                & 1740                &  71                 & EV                  & 5091                & N712EV              & LGA                 & PIT                 &  53                 &  335                & 15                  & 55                  & 2013-10-04 15:00:00\\\\\n",
       "\t 2013                &  5                  & 18                  & 1617                & 1540                &  37                 & 1741                & 1733                &   8                 & 9E                  & 3523                & N936XJ              & JFK                 & ORD                 & 113                 &  740                & 15                  & 40                  & 2013-05-18 15:00:00\\\\\n",
       "\t 2013                &  5                  & 14                  & 1825                & 1830                &  -5                 & 2116                & 2200                & -44                 & AA                  &  119                & N3JFAA              & EWR                 & LAX                 & 307                 & 2454                & 18                  & 30                  & 2013-05-14 18:00:00\\\\\n",
       "\t 2013                &  8                  & 23                  &   NA                & 1940                &  NA                 &   NA                & 2059                &  NA                 & EV                  & 5714                & N829AS              & JFK                 & IAD                 &  NA                 &  228                & 19                  & 40                  & 2013-08-23 19:00:00\\\\\n",
       "\t 2013                & 10                  &  5                  &  830                &  835                &  -5                 & 1009                & 1030                & -21                 & MQ                  & 3407                & N507MQ              & LGA                 & CMH                 &  75                 &  479                &  8                  & 35                  & 2013-10-05 08:00:00\\\\\n",
       "\t 2013                &  2                  & 22                  & 1847                & 1850                &  -3                 & 2153                & 2229                & -36                 & DL                  & 1108                & N949DL              & JFK                 & MIA                 & 157                 & 1089                & 18                  & 50                  & 2013-02-22 18:00:00\\\\\n",
       "\t 2013                &  7                  & 18                  &  703                &  710                &  -7                 &  858                &  915                & -17                 & MQ                  & 3547                & N815MQ              & LGA                 & XNA                 & 154                 & 1147                &  7                  & 10                  & 2013-07-18 07:00:00\\\\\n",
       "\t 2013                &  5                  & 22                  & 1633                & 1455                &  98                 & 1759                & 1638                &  81                 & 9E                  & 3318                & N917XJ              & JFK                 & BUF                 &  50                 &  301                & 14                  & 55                  & 2013-05-22 14:00:00\\\\\n",
       "\t 2013                &  7                  &  2                  & 1906                & 1855                &  11                 & 2158                & 2205                &  -7                 & VX                  &  169                & N525VA              & EWR                 & LAX                 & 311                 & 2454                & 18                  & 55                  & 2013-07-02 18:00:00\\\\\n",
       "\t 2013                &  7                  & 28                  &  931                &  940                &  -9                 & 1028                & 1051                & -23                 & 9E                  & 3608                & N801AY              & JFK                 & PHL                 &  32                 &   94                &  9                  & 40                  & 2013-07-28 09:00:00\\\\\n",
       "\t 2013                &  4                  & 21                  & 1154                & 1200                &  -6                 & 1248                & 1305                & -17                 & B6                  & 1174                & N630JB              & EWR                 & BOS                 &  34                 &  200                & 12                  &  0                  & 2013-04-21 12:00:00\\\\\n",
       "\t 2013                & 10                  & 14                  & 1005                & 1005                &   0                 & 1209                & 1217                &  -8                 & DL                  & 2319                & N320US              & LGA                 & MSP                 & 140                 & 1020                & 10                  &  5                  & 2013-10-14 10:00:00\\\\\n",
       "\t 2013                &  4                  & 22                  &  855                &  835                &  20                 & 1241                & 1235                &   6                 & DL                  &  301                & N386DA              & JFK                 & SJU                 & 199                 & 1598                &  8                  & 35                  & 2013-04-22 08:00:00\\\\\n",
       "\t 2013                & 11                  & 24                  & 1808                & 1815                &  -7                 & 2125                & 2135                & -10                 & AA                  & 1611                & N3BDAA              & LGA                 & MIA                 & 159                 & 1096                & 18                  & 15                  & 2013-11-24 18:00:00\\\\\n",
       "\t 2013                &  4                  & 24                  & 1155                & 1200                &  -5                 & 1339                & 1343                &  -4                 & EV                  & 5679                & N13964              & EWR                 & CMH                 &  79                 &  463                & 12                  &  0                  & 2013-04-24 12:00:00\\\\\n",
       "\t 2013                &  1                  &  7                  & 1258                & 1259                &  -1                 & 1355                & 1408                & -13                 & UA                  &  561                & N803UA              & EWR                 & BOS                 &  36                 &  200                & 12                  & 59                  & 2013-01-07 12:00:00\\\\\n",
       "\t 2013                &  8                  &  7                  &  601                &  605                &  -4                 &  737                &  720                &  17                 & WN                  & 3574                & N255WN              & EWR                 & MDW                 & 111                 &  711                &  6                  &  5                  & 2013-08-07 06:00:00\\\\\n",
       "\t 2013                &  7                  & 13                  &  555                &  600                &  -5                 &  824                &  825                &  -1                 & DL                  &  461                & N950DL              & LGA                 & ATL                 & 117                 &  762                &  6                  &  0                  & 2013-07-13 06:00:00\\\\\n",
       "\t 2013                & 11                  & 25                  & 1156                & 1200                &  -4                 & 1457                & 1520                & -23                 & DL                  &  423                & N703TW              & JFK                 & LAX                 & 339                 & 2475                & 12                  &  0                  & 2013-11-25 12:00:00\\\\\n",
       "\t 2013                & 10                  & 27                  & 2127                & 2129                &  -2                 & 2242                & 2236                &   6                 & EV                  & 4583                & N15983              & EWR                 & PWM                 &  52                 &  284                & 21                  & 29                  & 2013-10-27 21:00:00\\\\\n",
       "\t 2013                &  4                  &  3                  & 1806                & 1810                &  -4                 & 1942                & 2000                & -18                 & MQ                  & 4626                & N518MQ              & LGA                 & CMH                 &  75                 &  479                & 18                  & 10                  & 2013-04-03 18:00:00\\\\\n",
       "\t 2013                & 12                  & 10                  & 1503                & 1315                & 108                 & 1709                & 1450                & 139                 & AA                  &  331                & N598AA              & LGA                 & ORD                 & 127                 &  733                & 13                  & 15                  & 2013-12-10 13:00:00\\\\\n",
       "\\end{tabular}\n"
      ],
      "text/markdown": [
       "\n",
       "| year | month | day | dep_time | sched_dep_time | dep_delay | arr_time | sched_arr_time | arr_delay | carrier | flight | tailnum | origin | dest | air_time | distance | hour | minute | time_hour |\n",
       "|---|---|---|---|---|---|---|---|---|---|---|---|---|---|---|---|---|---|---|\n",
       "| 2013                | 11                  | 13                  |  858                |  903                |  -5                 | 1217                | 1237                | -20                 | UA                  | 1296                | N77530              | EWR                 | SFO                 | 337                 | 2565                |  9                  |  3                  | 2013-11-13 09:00:00 |\n",
       "| 2013                | 12                  | 17                  | 1030                | 1034                |  -4                 | 1328                | 1319                |   9                 | DL                  |  420                | N387DA              | JFK                 | LAS                 | 315                 | 2248                | 10                  | 34                  | 2013-12-17 10:00:00 |\n",
       "| 2013                |  5                  | 25                  |  553                |  600                |  -7                 |  832                |  854                | -22                 | B6                  |  371                | N505JB              | LGA                 | FLL                 | 137                 | 1076                |  6                  |  0                  | 2013-05-25 06:00:00 |\n",
       "| 2013                | 11                  | 16                  | 1859                | 1900                |  -1                 | 2227                | 2246                | -19                 | DL                  |  434                | N711ZX              | JFK                 | SFO                 | 360                 | 2586                | 19                  |  0                  | 2013-11-16 19:00:00 |\n",
       "| 2013                |  2                  |  5                  | 1438                | 1440                |  -2                 | 1535                | 1549                | -14                 | UA                  |  717                | N846UA              | EWR                 | BOS                 |  34                 |  200                | 14                  | 40                  | 2013-02-05 14:00:00 |\n",
       "| 2013                |  7                  | 11                  |  611                |  605                |   6                 |  732                |  720                |  12                 | WN                  | 3574                | N478WN              | EWR                 | MDW                 | 111                 |  711                |  6                  |  5                  | 2013-07-11 06:00:00 |\n",
       "| 2013                | 11                  | 11                  | 2045                | 2045                |   0                 | 2346                | 2359                | -13                 | B6                  | 1295                | N715JB              | JFK                 | AUS                 | 219                 | 1521                | 20                  | 45                  | 2013-11-11 20:00:00 |\n",
       "| 2013                |  4                  | 23                  |  648                |  650                |  -2                 |  954                | 1006                | -12                 | UA                  | 1497                | N77430              | EWR                 | RSW                 | 160                 | 1068                |  6                  | 50                  | 2013-04-23 06:00:00 |\n",
       "| 2013                |  8                  | 13                  | 2228                | 2231                |  -3                 |  218                |  226                |  -8                 | B6                  | 1203                | N729JB              | JFK                 | SJU                 | 207                 | 1598                | 22                  | 31                  | 2013-08-13 22:00:00 |\n",
       "| 2013                |  3                  | 15                  | 1541                | 1545                |  -4                 | 1925                | 1921                |   4                 | DL                  | 1773                | N602DL              | JFK                 | SLC                 | 303                 | 1990                | 15                  | 45                  | 2013-03-15 15:00:00 |\n",
       "| 2013                |  5                  | 21                  |  758                |  806                |  -8                 |  945                | 1003                | -18                 | EV                  | 4691                | N14543              | EWR                 | DAY                 |  76                 |  533                |  8                  |  6                  | 2013-05-21 08:00:00 |\n",
       "| 2013                |  3                  | 28                  | 2036                | 2040                |  -4                 | 2330                | 2356                | -26                 | B6                  |  165                | N587JB              | JFK                 | PDX                 | 328                 | 2454                | 20                  | 40                  | 2013-03-28 20:00:00 |\n",
       "| 2013                | 12                  | 19                  | 1745                | 1710                |  35                 | 1949                | 1910                |  39                 | MQ                  | 3530                | N844MQ              | LGA                 | DTW                 |  91                 |  502                | 17                  | 10                  | 2013-12-19 17:00:00 |\n",
       "| 2013                |  3                  |  5                  | 1227                | 1210                |  17                 | 1324                | 1315                |   9                 | WN                  | 2236                | N7739A              | EWR                 | BWI                 |  37                 |  169                | 12                  | 10                  | 2013-03-05 12:00:00 |\n",
       "| 2013                |  6                  | 13                  |  552                |  600                |  -8                 |  658                |  712                | -14                 | EV                  | 5716                | N829AS              | JFK                 | IAD                 |  45                 |  228                |  6                  |  0                  | 2013-06-13 06:00:00 |\n",
       "| 2013                |  9                  | 13                  | 1926                | 1930                |  -4                 | 2147                | 2125                |  22                 | 9E                  | 3497                | N921XJ              | JFK                 | RDU                 |  69                 |  427                | 19                  | 30                  | 2013-09-13 19:00:00 |\n",
       "| 2013                |  6                  | 22                  | 1659                | 1700                |  -1                 | 1923                | 2000                | -37                 | AA                  |  773                | N470AA              | LGA                 | DFW                 | 176                 | 1389                | 17                  |  0                  | 2013-06-22 17:00:00 |\n",
       "| 2013                | 11                  | 10                  | 1003                | 1010                |  -7                 | 1209                | 1243                | -34                 | 9E                  | 3512                | N924XJ              | LGA                 | IND                 | 104                 |  660                | 10                  | 10                  | 2013-11-10 10:00:00 |\n",
       "| 2013                | 10                  | 16                  |  552                |  600                |  -8                 |  655                |  659                |  -4                 | US                  | 2167                | N704US              | LGA                 | DCA                 |  47                 |  214                |  6                  |  0                  | 2013-10-16 06:00:00 |\n",
       "| 2013                |  7                  |  8                  |  643                |  649                |  -6                 |  747                |  810                | -23                 | UA                  |  475                | N439UA              | EWR                 | BOS                 |  39                 |  200                |  6                  | 49                  | 2013-07-08 06:00:00 |\n",
       "| 2013                |  9                  | 13                  | 2058                | 2017                |  41                 | 2225                | 2159                |  26                 | UA                  | 1464                | N16713              | EWR                 | CLE                 |  61                 |  404                | 20                  | 17                  | 2013-09-13 20:00:00 |\n",
       "| 2013                | 10                  | 24                  | 2100                | 2059                |   1                 | 2342                | 2358                | -16                 | UA                  | 1416                | N73445              | EWR                 | MCO                 | 144                 |  937                | 20                  | 59                  | 2013-10-24 20:00:00 |\n",
       "| 2013                |  2                  |  1                  | 1020                | 1015                |   5                 | 1128                | 1131                |  -3                 | EV                  | 4663                | N13955              | EWR                 | IAD                 |  47                 |  212                | 10                  | 15                  | 2013-02-01 10:00:00 |\n",
       "| 2013                | 10                  | 28                  | 1851                | 1855                |  -4                 | 2033                | 2035                |  -2                 | AA                  |  359                | N4YFAA              | LGA                 | ORD                 | 127                 |  733                | 18                  | 55                  | 2013-10-28 18:00:00 |\n",
       "| 2013                |  3                  | 25                  | 1458                | 1459                |  -1                 | 1753                | 1825                | -32                 | UA                  | 1699                | N38257              | EWR                 | SFO                 | 338                 | 2565                | 14                  | 59                  | 2013-03-25 14:00:00 |\n",
       "| 2013                |  4                  | 27                  |  908                |  912                |  -4                 | 1150                | 1200                | -10                 | B6                  |   59                | N258JB              | JFK                 | TPA                 | 141                 | 1005                |  9                  | 12                  | 2013-04-27 09:00:00 |\n",
       "| 2013                |  8                  | 22                  | 1842                | 1712                |  90                 | 1950                | 1844                |  66                 | B6                  |  408                | N267JB              | JFK                 | PWM                 |  47                 |  273                | 17                  | 12                  | 2013-08-22 17:00:00 |\n",
       "| 2013                |  2                  | 17                  |  635                |  610                |  25                 |  924                |  910                |  14                 | AA                  | 1895                | N5DMAA              | EWR                 | MIA                 | 149                 | 1085                |  6                  | 10                  | 2013-02-17 06:00:00 |\n",
       "| 2013                |  8                  | 27                  |  721                |  725                |  -4                 |  809                |  822                | -13                 | EV                  | 6062                | N16183              | EWR                 | BDL                 |  30                 |  116                |  7                  | 25                  | 2013-08-27 07:00:00 |\n",
       "| 2013                |  7                  | 26                  |  746                |  800                | -14                 |  949                | 1005                | -16                 | DL                  | 2119                | N918DE              | LGA                 | MSP                 | 147                 | 1020                |  8                  |  0                  | 2013-07-26 08:00:00 |\n",
       "| ... | ... | ... | ... | ... | ... | ... | ... | ... | ... | ... | ... | ... | ... | ... | ... | ... | ... | ... |\n",
       "| 2013                |  8                  |  1                  | 1551                | 1545                |   6                 | 1942                | 2005                | -23                 | DL                  |    4                | N3746H              | JFK                 | SJU                 | 200                 | 1598                | 15                  | 45                  | 2013-08-01 15:00:00 |\n",
       "| 2013                |  2                  | 25                  | 1254                | 1300                |  -6                 | 1539                | 1537                |   2                 | DL                  |  781                | N659DL              | LGA                 | ATL                 | 133                 |  762                | 13                  |  0                  | 2013-02-25 13:00:00 |\n",
       "| 2013                |  1                  | 21                  | 1750                | 1645                |  65                 | 2044                | 2005                |  39                 | AA                  |  181                | N339AA              | JFK                 | LAX                 | 335                 | 2475                | 16                  | 45                  | 2013-01-21 16:00:00 |\n",
       "| 2013                | 11                  | 30                  | 1255                | 1300                |  -5                 | 1527                | 1538                | -11                 | DL                  |  781                | N919DE              | LGA                 | ATL                 | 116                 |  762                | 13                  |  0                  | 2013-11-30 13:00:00 |\n",
       "| 2013                | 11                  | 17                  | 1604                | 1555                |   9                 | 1808                | 1755                |  13                 | MQ                  | 3199                | N0EGMQ              | LGA                 | CLT                 |  91                 |  544                | 15                  | 55                  | 2013-11-17 15:00:00 |\n",
       "| 2013                | 11                  | 25                  |  952                | 1000                |  -8                 | 1127                | 1135                |  -8                 | MQ                  | 3675                | N857MQ              | LGA                 | BNA                 | 119                 |  764                | 10                  |  0                  | 2013-11-25 10:00:00 |\n",
       "| 2013                |  5                  |  2                  | 1544                | 1500                |  44                 | 1749                | 1722                |  27                 | EV                  | 4971                | N708EV              | LGA                 | CHS                 |  90                 |  641                | 15                  |  0                  | 2013-05-02 15:00:00 |\n",
       "| 2013                |  9                  |  9                  | 1932                | 1900                |  32                 | 2045                | 2018                |  27                 | US                  | 2193                | N714US              | LGA                 | DCA                 |  43                 |  214                | 19                  |  0                  | 2013-09-09 19:00:00 |\n",
       "| 2013                | 10                  |  4                  | 1717                | 1555                |  82                 | 1851                | 1740                |  71                 | EV                  | 5091                | N712EV              | LGA                 | PIT                 |  53                 |  335                | 15                  | 55                  | 2013-10-04 15:00:00 |\n",
       "| 2013                |  5                  | 18                  | 1617                | 1540                |  37                 | 1741                | 1733                |   8                 | 9E                  | 3523                | N936XJ              | JFK                 | ORD                 | 113                 |  740                | 15                  | 40                  | 2013-05-18 15:00:00 |\n",
       "| 2013                |  5                  | 14                  | 1825                | 1830                |  -5                 | 2116                | 2200                | -44                 | AA                  |  119                | N3JFAA              | EWR                 | LAX                 | 307                 | 2454                | 18                  | 30                  | 2013-05-14 18:00:00 |\n",
       "| 2013                |  8                  | 23                  |   NA                | 1940                |  NA                 |   NA                | 2059                |  NA                 | EV                  | 5714                | N829AS              | JFK                 | IAD                 |  NA                 |  228                | 19                  | 40                  | 2013-08-23 19:00:00 |\n",
       "| 2013                | 10                  |  5                  |  830                |  835                |  -5                 | 1009                | 1030                | -21                 | MQ                  | 3407                | N507MQ              | LGA                 | CMH                 |  75                 |  479                |  8                  | 35                  | 2013-10-05 08:00:00 |\n",
       "| 2013                |  2                  | 22                  | 1847                | 1850                |  -3                 | 2153                | 2229                | -36                 | DL                  | 1108                | N949DL              | JFK                 | MIA                 | 157                 | 1089                | 18                  | 50                  | 2013-02-22 18:00:00 |\n",
       "| 2013                |  7                  | 18                  |  703                |  710                |  -7                 |  858                |  915                | -17                 | MQ                  | 3547                | N815MQ              | LGA                 | XNA                 | 154                 | 1147                |  7                  | 10                  | 2013-07-18 07:00:00 |\n",
       "| 2013                |  5                  | 22                  | 1633                | 1455                |  98                 | 1759                | 1638                |  81                 | 9E                  | 3318                | N917XJ              | JFK                 | BUF                 |  50                 |  301                | 14                  | 55                  | 2013-05-22 14:00:00 |\n",
       "| 2013                |  7                  |  2                  | 1906                | 1855                |  11                 | 2158                | 2205                |  -7                 | VX                  |  169                | N525VA              | EWR                 | LAX                 | 311                 | 2454                | 18                  | 55                  | 2013-07-02 18:00:00 |\n",
       "| 2013                |  7                  | 28                  |  931                |  940                |  -9                 | 1028                | 1051                | -23                 | 9E                  | 3608                | N801AY              | JFK                 | PHL                 |  32                 |   94                |  9                  | 40                  | 2013-07-28 09:00:00 |\n",
       "| 2013                |  4                  | 21                  | 1154                | 1200                |  -6                 | 1248                | 1305                | -17                 | B6                  | 1174                | N630JB              | EWR                 | BOS                 |  34                 |  200                | 12                  |  0                  | 2013-04-21 12:00:00 |\n",
       "| 2013                | 10                  | 14                  | 1005                | 1005                |   0                 | 1209                | 1217                |  -8                 | DL                  | 2319                | N320US              | LGA                 | MSP                 | 140                 | 1020                | 10                  |  5                  | 2013-10-14 10:00:00 |\n",
       "| 2013                |  4                  | 22                  |  855                |  835                |  20                 | 1241                | 1235                |   6                 | DL                  |  301                | N386DA              | JFK                 | SJU                 | 199                 | 1598                |  8                  | 35                  | 2013-04-22 08:00:00 |\n",
       "| 2013                | 11                  | 24                  | 1808                | 1815                |  -7                 | 2125                | 2135                | -10                 | AA                  | 1611                | N3BDAA              | LGA                 | MIA                 | 159                 | 1096                | 18                  | 15                  | 2013-11-24 18:00:00 |\n",
       "| 2013                |  4                  | 24                  | 1155                | 1200                |  -5                 | 1339                | 1343                |  -4                 | EV                  | 5679                | N13964              | EWR                 | CMH                 |  79                 |  463                | 12                  |  0                  | 2013-04-24 12:00:00 |\n",
       "| 2013                |  1                  |  7                  | 1258                | 1259                |  -1                 | 1355                | 1408                | -13                 | UA                  |  561                | N803UA              | EWR                 | BOS                 |  36                 |  200                | 12                  | 59                  | 2013-01-07 12:00:00 |\n",
       "| 2013                |  8                  |  7                  |  601                |  605                |  -4                 |  737                |  720                |  17                 | WN                  | 3574                | N255WN              | EWR                 | MDW                 | 111                 |  711                |  6                  |  5                  | 2013-08-07 06:00:00 |\n",
       "| 2013                |  7                  | 13                  |  555                |  600                |  -5                 |  824                |  825                |  -1                 | DL                  |  461                | N950DL              | LGA                 | ATL                 | 117                 |  762                |  6                  |  0                  | 2013-07-13 06:00:00 |\n",
       "| 2013                | 11                  | 25                  | 1156                | 1200                |  -4                 | 1457                | 1520                | -23                 | DL                  |  423                | N703TW              | JFK                 | LAX                 | 339                 | 2475                | 12                  |  0                  | 2013-11-25 12:00:00 |\n",
       "| 2013                | 10                  | 27                  | 2127                | 2129                |  -2                 | 2242                | 2236                |   6                 | EV                  | 4583                | N15983              | EWR                 | PWM                 |  52                 |  284                | 21                  | 29                  | 2013-10-27 21:00:00 |\n",
       "| 2013                |  4                  |  3                  | 1806                | 1810                |  -4                 | 1942                | 2000                | -18                 | MQ                  | 4626                | N518MQ              | LGA                 | CMH                 |  75                 |  479                | 18                  | 10                  | 2013-04-03 18:00:00 |\n",
       "| 2013                | 12                  | 10                  | 1503                | 1315                | 108                 | 1709                | 1450                | 139                 | AA                  |  331                | N598AA              | LGA                 | ORD                 | 127                 |  733                | 13                  | 15                  | 2013-12-10 13:00:00 |\n",
       "\n"
      ],
      "text/plain": [
       "     year month day dep_time sched_dep_time dep_delay arr_time sched_arr_time\n",
       "1    2013 11    13   858      903            -5       1217     1237          \n",
       "2    2013 12    17  1030     1034            -4       1328     1319          \n",
       "3    2013  5    25   553      600            -7        832      854          \n",
       "4    2013 11    16  1859     1900            -1       2227     2246          \n",
       "5    2013  2     5  1438     1440            -2       1535     1549          \n",
       "6    2013  7    11   611      605             6        732      720          \n",
       "7    2013 11    11  2045     2045             0       2346     2359          \n",
       "8    2013  4    23   648      650            -2        954     1006          \n",
       "9    2013  8    13  2228     2231            -3        218      226          \n",
       "10   2013  3    15  1541     1545            -4       1925     1921          \n",
       "11   2013  5    21   758      806            -8        945     1003          \n",
       "12   2013  3    28  2036     2040            -4       2330     2356          \n",
       "13   2013 12    19  1745     1710            35       1949     1910          \n",
       "14   2013  3     5  1227     1210            17       1324     1315          \n",
       "15   2013  6    13   552      600            -8        658      712          \n",
       "16   2013  9    13  1926     1930            -4       2147     2125          \n",
       "17   2013  6    22  1659     1700            -1       1923     2000          \n",
       "18   2013 11    10  1003     1010            -7       1209     1243          \n",
       "19   2013 10    16   552      600            -8        655      659          \n",
       "20   2013  7     8   643      649            -6        747      810          \n",
       "21   2013  9    13  2058     2017            41       2225     2159          \n",
       "22   2013 10    24  2100     2059             1       2342     2358          \n",
       "23   2013  2     1  1020     1015             5       1128     1131          \n",
       "24   2013 10    28  1851     1855            -4       2033     2035          \n",
       "25   2013  3    25  1458     1459            -1       1753     1825          \n",
       "26   2013  4    27   908      912            -4       1150     1200          \n",
       "27   2013  8    22  1842     1712            90       1950     1844          \n",
       "28   2013  2    17   635      610            25        924      910          \n",
       "29   2013  8    27   721      725            -4        809      822          \n",
       "30   2013  7    26   746      800           -14        949     1005          \n",
       "...  ...  ...   ... ...      ...            ...       ...      ...           \n",
       "3339 2013  8     1  1551     1545             6       1942     2005          \n",
       "3340 2013  2    25  1254     1300            -6       1539     1537          \n",
       "3341 2013  1    21  1750     1645            65       2044     2005          \n",
       "3342 2013 11    30  1255     1300            -5       1527     1538          \n",
       "3343 2013 11    17  1604     1555             9       1808     1755          \n",
       "3344 2013 11    25   952     1000            -8       1127     1135          \n",
       "3345 2013  5     2  1544     1500            44       1749     1722          \n",
       "3346 2013  9     9  1932     1900            32       2045     2018          \n",
       "3347 2013 10     4  1717     1555            82       1851     1740          \n",
       "3348 2013  5    18  1617     1540            37       1741     1733          \n",
       "3349 2013  5    14  1825     1830            -5       2116     2200          \n",
       "3350 2013  8    23    NA     1940            NA         NA     2059          \n",
       "3351 2013 10     5   830      835            -5       1009     1030          \n",
       "3352 2013  2    22  1847     1850            -3       2153     2229          \n",
       "3353 2013  7    18   703      710            -7        858      915          \n",
       "3354 2013  5    22  1633     1455            98       1759     1638          \n",
       "3355 2013  7     2  1906     1855            11       2158     2205          \n",
       "3356 2013  7    28   931      940            -9       1028     1051          \n",
       "3357 2013  4    21  1154     1200            -6       1248     1305          \n",
       "3358 2013 10    14  1005     1005             0       1209     1217          \n",
       "3359 2013  4    22   855      835            20       1241     1235          \n",
       "3360 2013 11    24  1808     1815            -7       2125     2135          \n",
       "3361 2013  4    24  1155     1200            -5       1339     1343          \n",
       "3362 2013  1     7  1258     1259            -1       1355     1408          \n",
       "3363 2013  8     7   601      605            -4        737      720          \n",
       "3364 2013  7    13   555      600            -5        824      825          \n",
       "3365 2013 11    25  1156     1200            -4       1457     1520          \n",
       "3366 2013 10    27  2127     2129            -2       2242     2236          \n",
       "3367 2013  4     3  1806     1810            -4       1942     2000          \n",
       "3368 2013 12    10  1503     1315           108       1709     1450          \n",
       "     arr_delay carrier flight tailnum origin dest air_time distance hour minute\n",
       "1    -20       UA      1296   N77530  EWR    SFO  337      2565      9    3    \n",
       "2      9       DL       420   N387DA  JFK    LAS  315      2248     10   34    \n",
       "3    -22       B6       371   N505JB  LGA    FLL  137      1076      6    0    \n",
       "4    -19       DL       434   N711ZX  JFK    SFO  360      2586     19    0    \n",
       "5    -14       UA       717   N846UA  EWR    BOS   34       200     14   40    \n",
       "6     12       WN      3574   N478WN  EWR    MDW  111       711      6    5    \n",
       "7    -13       B6      1295   N715JB  JFK    AUS  219      1521     20   45    \n",
       "8    -12       UA      1497   N77430  EWR    RSW  160      1068      6   50    \n",
       "9     -8       B6      1203   N729JB  JFK    SJU  207      1598     22   31    \n",
       "10     4       DL      1773   N602DL  JFK    SLC  303      1990     15   45    \n",
       "11   -18       EV      4691   N14543  EWR    DAY   76       533      8    6    \n",
       "12   -26       B6       165   N587JB  JFK    PDX  328      2454     20   40    \n",
       "13    39       MQ      3530   N844MQ  LGA    DTW   91       502     17   10    \n",
       "14     9       WN      2236   N7739A  EWR    BWI   37       169     12   10    \n",
       "15   -14       EV      5716   N829AS  JFK    IAD   45       228      6    0    \n",
       "16    22       9E      3497   N921XJ  JFK    RDU   69       427     19   30    \n",
       "17   -37       AA       773   N470AA  LGA    DFW  176      1389     17    0    \n",
       "18   -34       9E      3512   N924XJ  LGA    IND  104       660     10   10    \n",
       "19    -4       US      2167   N704US  LGA    DCA   47       214      6    0    \n",
       "20   -23       UA       475   N439UA  EWR    BOS   39       200      6   49    \n",
       "21    26       UA      1464   N16713  EWR    CLE   61       404     20   17    \n",
       "22   -16       UA      1416   N73445  EWR    MCO  144       937     20   59    \n",
       "23    -3       EV      4663   N13955  EWR    IAD   47       212     10   15    \n",
       "24    -2       AA       359   N4YFAA  LGA    ORD  127       733     18   55    \n",
       "25   -32       UA      1699   N38257  EWR    SFO  338      2565     14   59    \n",
       "26   -10       B6        59   N258JB  JFK    TPA  141      1005      9   12    \n",
       "27    66       B6       408   N267JB  JFK    PWM   47       273     17   12    \n",
       "28    14       AA      1895   N5DMAA  EWR    MIA  149      1085      6   10    \n",
       "29   -13       EV      6062   N16183  EWR    BDL   30       116      7   25    \n",
       "30   -16       DL      2119   N918DE  LGA    MSP  147      1020      8    0    \n",
       "...  ...       ...     ...    ...     ...    ...  ...      ...      ...  ...   \n",
       "3339 -23       DL         4   N3746H  JFK    SJU  200      1598     15   45    \n",
       "3340   2       DL       781   N659DL  LGA    ATL  133       762     13    0    \n",
       "3341  39       AA       181   N339AA  JFK    LAX  335      2475     16   45    \n",
       "3342 -11       DL       781   N919DE  LGA    ATL  116       762     13    0    \n",
       "3343  13       MQ      3199   N0EGMQ  LGA    CLT   91       544     15   55    \n",
       "3344  -8       MQ      3675   N857MQ  LGA    BNA  119       764     10    0    \n",
       "3345  27       EV      4971   N708EV  LGA    CHS   90       641     15    0    \n",
       "3346  27       US      2193   N714US  LGA    DCA   43       214     19    0    \n",
       "3347  71       EV      5091   N712EV  LGA    PIT   53       335     15   55    \n",
       "3348   8       9E      3523   N936XJ  JFK    ORD  113       740     15   40    \n",
       "3349 -44       AA       119   N3JFAA  EWR    LAX  307      2454     18   30    \n",
       "3350  NA       EV      5714   N829AS  JFK    IAD   NA       228     19   40    \n",
       "3351 -21       MQ      3407   N507MQ  LGA    CMH   75       479      8   35    \n",
       "3352 -36       DL      1108   N949DL  JFK    MIA  157      1089     18   50    \n",
       "3353 -17       MQ      3547   N815MQ  LGA    XNA  154      1147      7   10    \n",
       "3354  81       9E      3318   N917XJ  JFK    BUF   50       301     14   55    \n",
       "3355  -7       VX       169   N525VA  EWR    LAX  311      2454     18   55    \n",
       "3356 -23       9E      3608   N801AY  JFK    PHL   32        94      9   40    \n",
       "3357 -17       B6      1174   N630JB  EWR    BOS   34       200     12    0    \n",
       "3358  -8       DL      2319   N320US  LGA    MSP  140      1020     10    5    \n",
       "3359   6       DL       301   N386DA  JFK    SJU  199      1598      8   35    \n",
       "3360 -10       AA      1611   N3BDAA  LGA    MIA  159      1096     18   15    \n",
       "3361  -4       EV      5679   N13964  EWR    CMH   79       463     12    0    \n",
       "3362 -13       UA       561   N803UA  EWR    BOS   36       200     12   59    \n",
       "3363  17       WN      3574   N255WN  EWR    MDW  111       711      6    5    \n",
       "3364  -1       DL       461   N950DL  LGA    ATL  117       762      6    0    \n",
       "3365 -23       DL       423   N703TW  JFK    LAX  339      2475     12    0    \n",
       "3366   6       EV      4583   N15983  EWR    PWM   52       284     21   29    \n",
       "3367 -18       MQ      4626   N518MQ  LGA    CMH   75       479     18   10    \n",
       "3368 139       AA       331   N598AA  LGA    ORD  127       733     13   15    \n",
       "     time_hour          \n",
       "1    2013-11-13 09:00:00\n",
       "2    2013-12-17 10:00:00\n",
       "3    2013-05-25 06:00:00\n",
       "4    2013-11-16 19:00:00\n",
       "5    2013-02-05 14:00:00\n",
       "6    2013-07-11 06:00:00\n",
       "7    2013-11-11 20:00:00\n",
       "8    2013-04-23 06:00:00\n",
       "9    2013-08-13 22:00:00\n",
       "10   2013-03-15 15:00:00\n",
       "11   2013-05-21 08:00:00\n",
       "12   2013-03-28 20:00:00\n",
       "13   2013-12-19 17:00:00\n",
       "14   2013-03-05 12:00:00\n",
       "15   2013-06-13 06:00:00\n",
       "16   2013-09-13 19:00:00\n",
       "17   2013-06-22 17:00:00\n",
       "18   2013-11-10 10:00:00\n",
       "19   2013-10-16 06:00:00\n",
       "20   2013-07-08 06:00:00\n",
       "21   2013-09-13 20:00:00\n",
       "22   2013-10-24 20:00:00\n",
       "23   2013-02-01 10:00:00\n",
       "24   2013-10-28 18:00:00\n",
       "25   2013-03-25 14:00:00\n",
       "26   2013-04-27 09:00:00\n",
       "27   2013-08-22 17:00:00\n",
       "28   2013-02-17 06:00:00\n",
       "29   2013-08-27 07:00:00\n",
       "30   2013-07-26 08:00:00\n",
       "...  ...                \n",
       "3339 2013-08-01 15:00:00\n",
       "3340 2013-02-25 13:00:00\n",
       "3341 2013-01-21 16:00:00\n",
       "3342 2013-11-30 13:00:00\n",
       "3343 2013-11-17 15:00:00\n",
       "3344 2013-11-25 10:00:00\n",
       "3345 2013-05-02 15:00:00\n",
       "3346 2013-09-09 19:00:00\n",
       "3347 2013-10-04 15:00:00\n",
       "3348 2013-05-18 15:00:00\n",
       "3349 2013-05-14 18:00:00\n",
       "3350 2013-08-23 19:00:00\n",
       "3351 2013-10-05 08:00:00\n",
       "3352 2013-02-22 18:00:00\n",
       "3353 2013-07-18 07:00:00\n",
       "3354 2013-05-22 14:00:00\n",
       "3355 2013-07-02 18:00:00\n",
       "3356 2013-07-28 09:00:00\n",
       "3357 2013-04-21 12:00:00\n",
       "3358 2013-10-14 10:00:00\n",
       "3359 2013-04-22 08:00:00\n",
       "3360 2013-11-24 18:00:00\n",
       "3361 2013-04-24 12:00:00\n",
       "3362 2013-01-07 12:00:00\n",
       "3363 2013-08-07 06:00:00\n",
       "3364 2013-07-13 06:00:00\n",
       "3365 2013-11-25 12:00:00\n",
       "3366 2013-10-27 21:00:00\n",
       "3367 2013-04-03 18:00:00\n",
       "3368 2013-12-10 13:00:00"
      ]
     },
     "metadata": {},
     "output_type": "display_data"
    }
   ],
   "source": [
    "sample_frac(flights, 0.01) # mensampel 1 % dari seluruh baris"
   ]
  },
  {
   "cell_type": "markdown",
   "metadata": {},
   "source": [
    "## Operator *pipe*"
   ]
  },
  {
   "cell_type": "code",
   "execution_count": 428,
   "metadata": {},
   "outputs": [],
   "source": [
    "df <- mtcars"
   ]
  },
  {
   "cell_type": "code",
   "execution_count": 429,
   "metadata": {},
   "outputs": [
    {
     "data": {
      "text/html": [
       "<table>\n",
       "<thead><tr><th></th><th scope=col>mpg</th><th scope=col>cyl</th><th scope=col>disp</th><th scope=col>hp</th><th scope=col>drat</th><th scope=col>wt</th><th scope=col>qsec</th><th scope=col>vs</th><th scope=col>am</th><th scope=col>gear</th><th scope=col>carb</th></tr></thead>\n",
       "<tbody>\n",
       "\t<tr><th scope=row>Mazda RX4</th><td>21.0 </td><td>6    </td><td>160  </td><td>110  </td><td>3.90 </td><td>2.620</td><td>16.46</td><td>0    </td><td>1    </td><td>4    </td><td>4    </td></tr>\n",
       "\t<tr><th scope=row>Mazda RX4 Wag</th><td>21.0 </td><td>6    </td><td>160  </td><td>110  </td><td>3.90 </td><td>2.875</td><td>17.02</td><td>0    </td><td>1    </td><td>4    </td><td>4    </td></tr>\n",
       "\t<tr><th scope=row>Datsun 710</th><td>22.8 </td><td>4    </td><td>108  </td><td> 93  </td><td>3.85 </td><td>2.320</td><td>18.61</td><td>1    </td><td>1    </td><td>4    </td><td>1    </td></tr>\n",
       "\t<tr><th scope=row>Hornet 4 Drive</th><td>21.4 </td><td>6    </td><td>258  </td><td>110  </td><td>3.08 </td><td>3.215</td><td>19.44</td><td>1    </td><td>0    </td><td>3    </td><td>1    </td></tr>\n",
       "\t<tr><th scope=row>Hornet Sportabout</th><td>18.7 </td><td>8    </td><td>360  </td><td>175  </td><td>3.15 </td><td>3.440</td><td>17.02</td><td>0    </td><td>0    </td><td>3    </td><td>2    </td></tr>\n",
       "\t<tr><th scope=row>Valiant</th><td>18.1 </td><td>6    </td><td>225  </td><td>105  </td><td>2.76 </td><td>3.460</td><td>20.22</td><td>1    </td><td>0    </td><td>3    </td><td>1    </td></tr>\n",
       "</tbody>\n",
       "</table>\n"
      ],
      "text/latex": [
       "\\begin{tabular}{r|lllllllllll}\n",
       "  & mpg & cyl & disp & hp & drat & wt & qsec & vs & am & gear & carb\\\\\n",
       "\\hline\n",
       "\tMazda RX4 & 21.0  & 6     & 160   & 110   & 3.90  & 2.620 & 16.46 & 0     & 1     & 4     & 4    \\\\\n",
       "\tMazda RX4 Wag & 21.0  & 6     & 160   & 110   & 3.90  & 2.875 & 17.02 & 0     & 1     & 4     & 4    \\\\\n",
       "\tDatsun 710 & 22.8  & 4     & 108   &  93   & 3.85  & 2.320 & 18.61 & 1     & 1     & 4     & 1    \\\\\n",
       "\tHornet 4 Drive & 21.4  & 6     & 258   & 110   & 3.08  & 3.215 & 19.44 & 1     & 0     & 3     & 1    \\\\\n",
       "\tHornet Sportabout & 18.7  & 8     & 360   & 175   & 3.15  & 3.440 & 17.02 & 0     & 0     & 3     & 2    \\\\\n",
       "\tValiant & 18.1  & 6     & 225   & 105   & 2.76  & 3.460 & 20.22 & 1     & 0     & 3     & 1    \\\\\n",
       "\\end{tabular}\n"
      ],
      "text/markdown": [
       "\n",
       "| <!--/--> | mpg | cyl | disp | hp | drat | wt | qsec | vs | am | gear | carb |\n",
       "|---|---|---|---|---|---|---|---|---|---|---|---|\n",
       "| Mazda RX4 | 21.0  | 6     | 160   | 110   | 3.90  | 2.620 | 16.46 | 0     | 1     | 4     | 4     |\n",
       "| Mazda RX4 Wag | 21.0  | 6     | 160   | 110   | 3.90  | 2.875 | 17.02 | 0     | 1     | 4     | 4     |\n",
       "| Datsun 710 | 22.8  | 4     | 108   |  93   | 3.85  | 2.320 | 18.61 | 1     | 1     | 4     | 1     |\n",
       "| Hornet 4 Drive | 21.4  | 6     | 258   | 110   | 3.08  | 3.215 | 19.44 | 1     | 0     | 3     | 1     |\n",
       "| Hornet Sportabout | 18.7  | 8     | 360   | 175   | 3.15  | 3.440 | 17.02 | 0     | 0     | 3     | 2     |\n",
       "| Valiant | 18.1  | 6     | 225   | 105   | 2.76  | 3.460 | 20.22 | 1     | 0     | 3     | 1     |\n",
       "\n"
      ],
      "text/plain": [
       "                  mpg  cyl disp hp  drat wt    qsec  vs am gear carb\n",
       "Mazda RX4         21.0 6   160  110 3.90 2.620 16.46 0  1  4    4   \n",
       "Mazda RX4 Wag     21.0 6   160  110 3.90 2.875 17.02 0  1  4    4   \n",
       "Datsun 710        22.8 4   108   93 3.85 2.320 18.61 1  1  4    1   \n",
       "Hornet 4 Drive    21.4 6   258  110 3.08 3.215 19.44 1  0  3    1   \n",
       "Hornet Sportabout 18.7 8   360  175 3.15 3.440 17.02 0  0  3    2   \n",
       "Valiant           18.1 6   225  105 2.76 3.460 20.22 1  0  3    1   "
      ]
     },
     "metadata": {},
     "output_type": "display_data"
    }
   ],
   "source": [
    "head(df)"
   ]
  },
  {
   "cell_type": "markdown",
   "metadata": {},
   "source": [
    "### *Nesting*"
   ]
  },
  {
   "cell_type": "code",
   "execution_count": 430,
   "metadata": {},
   "outputs": [
    {
     "data": {
      "text/html": [
       "<table>\n",
       "<thead><tr><th></th><th scope=col>mpg</th><th scope=col>cyl</th><th scope=col>disp</th><th scope=col>hp</th><th scope=col>drat</th><th scope=col>wt</th><th scope=col>qsec</th><th scope=col>vs</th><th scope=col>am</th><th scope=col>gear</th><th scope=col>carb</th></tr></thead>\n",
       "<tbody>\n",
       "\t<tr><th scope=row>Mazda RX4</th><td>21.0 </td><td>6    </td><td>160.0</td><td>110  </td><td>3.90 </td><td>2.620</td><td>16.46</td><td>0    </td><td>1    </td><td>4    </td><td>4    </td></tr>\n",
       "\t<tr><th scope=row>Mazda RX4 Wag</th><td>21.0 </td><td>6    </td><td>160.0</td><td>110  </td><td>3.90 </td><td>2.875</td><td>17.02</td><td>0    </td><td>1    </td><td>4    </td><td>4    </td></tr>\n",
       "\t<tr><th scope=row>Datsun 710</th><td>22.8 </td><td>4    </td><td>108.0</td><td> 93  </td><td>3.85 </td><td>2.320</td><td>18.61</td><td>1    </td><td>1    </td><td>4    </td><td>1    </td></tr>\n",
       "\t<tr><th scope=row>Hornet 4 Drive</th><td>21.4 </td><td>6    </td><td>258.0</td><td>110  </td><td>3.08 </td><td>3.215</td><td>19.44</td><td>1    </td><td>0    </td><td>3    </td><td>1    </td></tr>\n",
       "\t<tr><th scope=row>Merc 240D</th><td>24.4 </td><td>4    </td><td>146.7</td><td> 62  </td><td>3.69 </td><td>3.190</td><td>20.00</td><td>1    </td><td>0    </td><td>4    </td><td>2    </td></tr>\n",
       "\t<tr><th scope=row>Merc 230</th><td>22.8 </td><td>4    </td><td>140.8</td><td> 95  </td><td>3.92 </td><td>3.150</td><td>22.90</td><td>1    </td><td>0    </td><td>4    </td><td>2    </td></tr>\n",
       "\t<tr><th scope=row>Fiat 128</th><td>32.4 </td><td>4    </td><td> 78.7</td><td> 66  </td><td>4.08 </td><td>2.200</td><td>19.47</td><td>1    </td><td>1    </td><td>4    </td><td>1    </td></tr>\n",
       "\t<tr><th scope=row>Honda Civic</th><td>30.4 </td><td>4    </td><td> 75.7</td><td> 52  </td><td>4.93 </td><td>1.615</td><td>18.52</td><td>1    </td><td>1    </td><td>4    </td><td>2    </td></tr>\n",
       "\t<tr><th scope=row>Toyota Corolla</th><td>33.9 </td><td>4    </td><td> 71.1</td><td> 65  </td><td>4.22 </td><td>1.835</td><td>19.90</td><td>1    </td><td>1    </td><td>4    </td><td>1    </td></tr>\n",
       "\t<tr><th scope=row>Toyota Corona</th><td>21.5 </td><td>4    </td><td>120.1</td><td> 97  </td><td>3.70 </td><td>2.465</td><td>20.01</td><td>1    </td><td>0    </td><td>3    </td><td>1    </td></tr>\n",
       "\t<tr><th scope=row>Fiat X1-9</th><td>27.3 </td><td>4    </td><td> 79.0</td><td> 66  </td><td>4.08 </td><td>1.935</td><td>18.90</td><td>1    </td><td>1    </td><td>4    </td><td>1    </td></tr>\n",
       "\t<tr><th scope=row>Porsche 914-2</th><td>26.0 </td><td>4    </td><td>120.3</td><td> 91  </td><td>4.43 </td><td>2.140</td><td>16.70</td><td>0    </td><td>1    </td><td>5    </td><td>2    </td></tr>\n",
       "\t<tr><th scope=row>Lotus Europa</th><td>30.4 </td><td>4    </td><td> 95.1</td><td>113  </td><td>3.77 </td><td>1.513</td><td>16.90</td><td>1    </td><td>1    </td><td>5    </td><td>2    </td></tr>\n",
       "\t<tr><th scope=row>Volvo 142E</th><td>21.4 </td><td>4    </td><td>121.0</td><td>109  </td><td>4.11 </td><td>2.780</td><td>18.60</td><td>1    </td><td>1    </td><td>4    </td><td>2    </td></tr>\n",
       "</tbody>\n",
       "</table>\n"
      ],
      "text/latex": [
       "\\begin{tabular}{r|lllllllllll}\n",
       "  & mpg & cyl & disp & hp & drat & wt & qsec & vs & am & gear & carb\\\\\n",
       "\\hline\n",
       "\tMazda RX4 & 21.0  & 6     & 160.0 & 110   & 3.90  & 2.620 & 16.46 & 0     & 1     & 4     & 4    \\\\\n",
       "\tMazda RX4 Wag & 21.0  & 6     & 160.0 & 110   & 3.90  & 2.875 & 17.02 & 0     & 1     & 4     & 4    \\\\\n",
       "\tDatsun 710 & 22.8  & 4     & 108.0 &  93   & 3.85  & 2.320 & 18.61 & 1     & 1     & 4     & 1    \\\\\n",
       "\tHornet 4 Drive & 21.4  & 6     & 258.0 & 110   & 3.08  & 3.215 & 19.44 & 1     & 0     & 3     & 1    \\\\\n",
       "\tMerc 240D & 24.4  & 4     & 146.7 &  62   & 3.69  & 3.190 & 20.00 & 1     & 0     & 4     & 2    \\\\\n",
       "\tMerc 230 & 22.8  & 4     & 140.8 &  95   & 3.92  & 3.150 & 22.90 & 1     & 0     & 4     & 2    \\\\\n",
       "\tFiat 128 & 32.4  & 4     &  78.7 &  66   & 4.08  & 2.200 & 19.47 & 1     & 1     & 4     & 1    \\\\\n",
       "\tHonda Civic & 30.4  & 4     &  75.7 &  52   & 4.93  & 1.615 & 18.52 & 1     & 1     & 4     & 2    \\\\\n",
       "\tToyota Corolla & 33.9  & 4     &  71.1 &  65   & 4.22  & 1.835 & 19.90 & 1     & 1     & 4     & 1    \\\\\n",
       "\tToyota Corona & 21.5  & 4     & 120.1 &  97   & 3.70  & 2.465 & 20.01 & 1     & 0     & 3     & 1    \\\\\n",
       "\tFiat X1-9 & 27.3  & 4     &  79.0 &  66   & 4.08  & 1.935 & 18.90 & 1     & 1     & 4     & 1    \\\\\n",
       "\tPorsche 914-2 & 26.0  & 4     & 120.3 &  91   & 4.43  & 2.140 & 16.70 & 0     & 1     & 5     & 2    \\\\\n",
       "\tLotus Europa & 30.4  & 4     &  95.1 & 113   & 3.77  & 1.513 & 16.90 & 1     & 1     & 5     & 2    \\\\\n",
       "\tVolvo 142E & 21.4  & 4     & 121.0 & 109   & 4.11  & 2.780 & 18.60 & 1     & 1     & 4     & 2    \\\\\n",
       "\\end{tabular}\n"
      ],
      "text/markdown": [
       "\n",
       "| <!--/--> | mpg | cyl | disp | hp | drat | wt | qsec | vs | am | gear | carb |\n",
       "|---|---|---|---|---|---|---|---|---|---|---|---|\n",
       "| Mazda RX4 | 21.0  | 6     | 160.0 | 110   | 3.90  | 2.620 | 16.46 | 0     | 1     | 4     | 4     |\n",
       "| Mazda RX4 Wag | 21.0  | 6     | 160.0 | 110   | 3.90  | 2.875 | 17.02 | 0     | 1     | 4     | 4     |\n",
       "| Datsun 710 | 22.8  | 4     | 108.0 |  93   | 3.85  | 2.320 | 18.61 | 1     | 1     | 4     | 1     |\n",
       "| Hornet 4 Drive | 21.4  | 6     | 258.0 | 110   | 3.08  | 3.215 | 19.44 | 1     | 0     | 3     | 1     |\n",
       "| Merc 240D | 24.4  | 4     | 146.7 |  62   | 3.69  | 3.190 | 20.00 | 1     | 0     | 4     | 2     |\n",
       "| Merc 230 | 22.8  | 4     | 140.8 |  95   | 3.92  | 3.150 | 22.90 | 1     | 0     | 4     | 2     |\n",
       "| Fiat 128 | 32.4  | 4     |  78.7 |  66   | 4.08  | 2.200 | 19.47 | 1     | 1     | 4     | 1     |\n",
       "| Honda Civic | 30.4  | 4     |  75.7 |  52   | 4.93  | 1.615 | 18.52 | 1     | 1     | 4     | 2     |\n",
       "| Toyota Corolla | 33.9  | 4     |  71.1 |  65   | 4.22  | 1.835 | 19.90 | 1     | 1     | 4     | 1     |\n",
       "| Toyota Corona | 21.5  | 4     | 120.1 |  97   | 3.70  | 2.465 | 20.01 | 1     | 0     | 3     | 1     |\n",
       "| Fiat X1-9 | 27.3  | 4     |  79.0 |  66   | 4.08  | 1.935 | 18.90 | 1     | 1     | 4     | 1     |\n",
       "| Porsche 914-2 | 26.0  | 4     | 120.3 |  91   | 4.43  | 2.140 | 16.70 | 0     | 1     | 5     | 2     |\n",
       "| Lotus Europa | 30.4  | 4     |  95.1 | 113   | 3.77  | 1.513 | 16.90 | 1     | 1     | 5     | 2     |\n",
       "| Volvo 142E | 21.4  | 4     | 121.0 | 109   | 4.11  | 2.780 | 18.60 | 1     | 1     | 4     | 2     |\n",
       "\n"
      ],
      "text/plain": [
       "               mpg  cyl disp  hp  drat wt    qsec  vs am gear carb\n",
       "Mazda RX4      21.0 6   160.0 110 3.90 2.620 16.46 0  1  4    4   \n",
       "Mazda RX4 Wag  21.0 6   160.0 110 3.90 2.875 17.02 0  1  4    4   \n",
       "Datsun 710     22.8 4   108.0  93 3.85 2.320 18.61 1  1  4    1   \n",
       "Hornet 4 Drive 21.4 6   258.0 110 3.08 3.215 19.44 1  0  3    1   \n",
       "Merc 240D      24.4 4   146.7  62 3.69 3.190 20.00 1  0  4    2   \n",
       "Merc 230       22.8 4   140.8  95 3.92 3.150 22.90 1  0  4    2   \n",
       "Fiat 128       32.4 4    78.7  66 4.08 2.200 19.47 1  1  4    1   \n",
       "Honda Civic    30.4 4    75.7  52 4.93 1.615 18.52 1  1  4    2   \n",
       "Toyota Corolla 33.9 4    71.1  65 4.22 1.835 19.90 1  1  4    1   \n",
       "Toyota Corona  21.5 4   120.1  97 3.70 2.465 20.01 1  0  3    1   \n",
       "Fiat X1-9      27.3 4    79.0  66 4.08 1.935 18.90 1  1  4    1   \n",
       "Porsche 914-2  26.0 4   120.3  91 4.43 2.140 16.70 0  1  5    2   \n",
       "Lotus Europa   30.4 4    95.1 113 3.77 1.513 16.90 1  1  5    2   \n",
       "Volvo 142E     21.4 4   121.0 109 4.11 2.780 18.60 1  1  4    2   "
      ]
     },
     "metadata": {},
     "output_type": "display_data"
    }
   ],
   "source": [
    "filter(df, mpg > 20)"
   ]
  },
  {
   "cell_type": "code",
   "execution_count": 431,
   "metadata": {},
   "outputs": [
    {
     "data": {
      "text/html": [
       "<table>\n",
       "<thead><tr><th></th><th scope=col>mpg</th><th scope=col>cyl</th><th scope=col>disp</th><th scope=col>hp</th><th scope=col>drat</th><th scope=col>wt</th><th scope=col>qsec</th><th scope=col>vs</th><th scope=col>am</th><th scope=col>gear</th><th scope=col>carb</th></tr></thead>\n",
       "<tbody>\n",
       "\t<tr><th scope=row>Volvo 142E</th><td>21.4 </td><td>4    </td><td>121.0</td><td>109  </td><td>4.11 </td><td>2.780</td><td>18.60</td><td>1    </td><td>1    </td><td>4    </td><td>2    </td></tr>\n",
       "\t<tr><th scope=row>Honda Civic</th><td>30.4 </td><td>4    </td><td> 75.7</td><td> 52  </td><td>4.93 </td><td>1.615</td><td>18.52</td><td>1    </td><td>1    </td><td>4    </td><td>2    </td></tr>\n",
       "\t<tr><th scope=row>Merc 230</th><td>22.8 </td><td>4    </td><td>140.8</td><td> 95  </td><td>3.92 </td><td>3.150</td><td>22.90</td><td>1    </td><td>0    </td><td>4    </td><td>2    </td></tr>\n",
       "\t<tr><th scope=row>Toyota Corolla</th><td>33.9 </td><td>4    </td><td> 71.1</td><td> 65  </td><td>4.22 </td><td>1.835</td><td>19.90</td><td>1    </td><td>1    </td><td>4    </td><td>1    </td></tr>\n",
       "\t<tr><th scope=row>Lotus Europa</th><td>30.4 </td><td>4    </td><td> 95.1</td><td>113  </td><td>3.77 </td><td>1.513</td><td>16.90</td><td>1    </td><td>1    </td><td>5    </td><td>2    </td></tr>\n",
       "</tbody>\n",
       "</table>\n"
      ],
      "text/latex": [
       "\\begin{tabular}{r|lllllllllll}\n",
       "  & mpg & cyl & disp & hp & drat & wt & qsec & vs & am & gear & carb\\\\\n",
       "\\hline\n",
       "\tVolvo 142E & 21.4  & 4     & 121.0 & 109   & 4.11  & 2.780 & 18.60 & 1     & 1     & 4     & 2    \\\\\n",
       "\tHonda Civic & 30.4  & 4     &  75.7 &  52   & 4.93  & 1.615 & 18.52 & 1     & 1     & 4     & 2    \\\\\n",
       "\tMerc 230 & 22.8  & 4     & 140.8 &  95   & 3.92  & 3.150 & 22.90 & 1     & 0     & 4     & 2    \\\\\n",
       "\tToyota Corolla & 33.9  & 4     &  71.1 &  65   & 4.22  & 1.835 & 19.90 & 1     & 1     & 4     & 1    \\\\\n",
       "\tLotus Europa & 30.4  & 4     &  95.1 & 113   & 3.77  & 1.513 & 16.90 & 1     & 1     & 5     & 2    \\\\\n",
       "\\end{tabular}\n"
      ],
      "text/markdown": [
       "\n",
       "| <!--/--> | mpg | cyl | disp | hp | drat | wt | qsec | vs | am | gear | carb |\n",
       "|---|---|---|---|---|---|---|---|---|---|---|---|\n",
       "| Volvo 142E | 21.4  | 4     | 121.0 | 109   | 4.11  | 2.780 | 18.60 | 1     | 1     | 4     | 2     |\n",
       "| Honda Civic | 30.4  | 4     |  75.7 |  52   | 4.93  | 1.615 | 18.52 | 1     | 1     | 4     | 2     |\n",
       "| Merc 230 | 22.8  | 4     | 140.8 |  95   | 3.92  | 3.150 | 22.90 | 1     | 0     | 4     | 2     |\n",
       "| Toyota Corolla | 33.9  | 4     |  71.1 |  65   | 4.22  | 1.835 | 19.90 | 1     | 1     | 4     | 1     |\n",
       "| Lotus Europa | 30.4  | 4     |  95.1 | 113   | 3.77  | 1.513 | 16.90 | 1     | 1     | 5     | 2     |\n",
       "\n"
      ],
      "text/plain": [
       "               mpg  cyl disp  hp  drat wt    qsec  vs am gear carb\n",
       "Volvo 142E     21.4 4   121.0 109 4.11 2.780 18.60 1  1  4    2   \n",
       "Honda Civic    30.4 4    75.7  52 4.93 1.615 18.52 1  1  4    2   \n",
       "Merc 230       22.8 4   140.8  95 3.92 3.150 22.90 1  0  4    2   \n",
       "Toyota Corolla 33.9 4    71.1  65 4.22 1.835 19.90 1  1  4    1   \n",
       "Lotus Europa   30.4 4    95.1 113 3.77 1.513 16.90 1  1  5    2   "
      ]
     },
     "metadata": {},
     "output_type": "display_data"
    }
   ],
   "source": [
    "sample_n(filter(df, mpg > 20), size = 5) # dua operasi secara bersamaan"
   ]
  },
  {
   "cell_type": "code",
   "execution_count": 435,
   "metadata": {},
   "outputs": [
    {
     "data": {
      "text/html": [
       "<table>\n",
       "<thead><tr><th></th><th scope=col>mpg</th><th scope=col>cyl</th><th scope=col>disp</th><th scope=col>hp</th><th scope=col>drat</th><th scope=col>wt</th><th scope=col>qsec</th><th scope=col>vs</th><th scope=col>am</th><th scope=col>gear</th><th scope=col>carb</th></tr></thead>\n",
       "<tbody>\n",
       "\t<tr><th scope=row>Fiat 128</th><td>32.4 </td><td>4    </td><td> 78.7</td><td> 66  </td><td>4.08 </td><td>2.200</td><td>19.47</td><td>1    </td><td>1    </td><td>4    </td><td>1    </td></tr>\n",
       "\t<tr><th scope=row>Honda Civic</th><td>30.4 </td><td>4    </td><td> 75.7</td><td> 52  </td><td>4.93 </td><td>1.615</td><td>18.52</td><td>1    </td><td>1    </td><td>4    </td><td>2    </td></tr>\n",
       "\t<tr><th scope=row>Fiat X1-9</th><td>27.3 </td><td>4    </td><td> 79.0</td><td> 66  </td><td>4.08 </td><td>1.935</td><td>18.90</td><td>1    </td><td>1    </td><td>4    </td><td>1    </td></tr>\n",
       "\t<tr><th scope=row>Merc 230</th><td>22.8 </td><td>4    </td><td>140.8</td><td> 95  </td><td>3.92 </td><td>3.150</td><td>22.90</td><td>1    </td><td>0    </td><td>4    </td><td>2    </td></tr>\n",
       "\t<tr><th scope=row>Volvo 142E</th><td>21.4 </td><td>4    </td><td>121.0</td><td>109  </td><td>4.11 </td><td>2.780</td><td>18.60</td><td>1    </td><td>1    </td><td>4    </td><td>2    </td></tr>\n",
       "</tbody>\n",
       "</table>\n"
      ],
      "text/latex": [
       "\\begin{tabular}{r|lllllllllll}\n",
       "  & mpg & cyl & disp & hp & drat & wt & qsec & vs & am & gear & carb\\\\\n",
       "\\hline\n",
       "\tFiat 128 & 32.4  & 4     &  78.7 &  66   & 4.08  & 2.200 & 19.47 & 1     & 1     & 4     & 1    \\\\\n",
       "\tHonda Civic & 30.4  & 4     &  75.7 &  52   & 4.93  & 1.615 & 18.52 & 1     & 1     & 4     & 2    \\\\\n",
       "\tFiat X1-9 & 27.3  & 4     &  79.0 &  66   & 4.08  & 1.935 & 18.90 & 1     & 1     & 4     & 1    \\\\\n",
       "\tMerc 230 & 22.8  & 4     & 140.8 &  95   & 3.92  & 3.150 & 22.90 & 1     & 0     & 4     & 2    \\\\\n",
       "\tVolvo 142E & 21.4  & 4     & 121.0 & 109   & 4.11  & 2.780 & 18.60 & 1     & 1     & 4     & 2    \\\\\n",
       "\\end{tabular}\n"
      ],
      "text/markdown": [
       "\n",
       "| <!--/--> | mpg | cyl | disp | hp | drat | wt | qsec | vs | am | gear | carb |\n",
       "|---|---|---|---|---|---|---|---|---|---|---|---|\n",
       "| Fiat 128 | 32.4  | 4     |  78.7 |  66   | 4.08  | 2.200 | 19.47 | 1     | 1     | 4     | 1     |\n",
       "| Honda Civic | 30.4  | 4     |  75.7 |  52   | 4.93  | 1.615 | 18.52 | 1     | 1     | 4     | 2     |\n",
       "| Fiat X1-9 | 27.3  | 4     |  79.0 |  66   | 4.08  | 1.935 | 18.90 | 1     | 1     | 4     | 1     |\n",
       "| Merc 230 | 22.8  | 4     | 140.8 |  95   | 3.92  | 3.150 | 22.90 | 1     | 0     | 4     | 2     |\n",
       "| Volvo 142E | 21.4  | 4     | 121.0 | 109   | 4.11  | 2.780 | 18.60 | 1     | 1     | 4     | 2     |\n",
       "\n"
      ],
      "text/plain": [
       "            mpg  cyl disp  hp  drat wt    qsec  vs am gear carb\n",
       "Fiat 128    32.4 4    78.7  66 4.08 2.200 19.47 1  1  4    1   \n",
       "Honda Civic 30.4 4    75.7  52 4.93 1.615 18.52 1  1  4    2   \n",
       "Fiat X1-9   27.3 4    79.0  66 4.08 1.935 18.90 1  1  4    1   \n",
       "Merc 230    22.8 4   140.8  95 3.92 3.150 22.90 1  0  4    2   \n",
       "Volvo 142E  21.4 4   121.0 109 4.11 2.780 18.60 1  1  4    2   "
      ]
     },
     "metadata": {},
     "output_type": "display_data"
    }
   ],
   "source": [
    "hasil <- arrange(sample_n(filter(df, mpg > 20), size = 5), desc(mpg))\n",
    "# memfilter df untuk mpg > 20\n",
    "# mengambil 5 baris sampel acak\n",
    "# mengurutkannya berdasarkan kolom mpg secara terbalik (descending order)\n",
    "hasil"
   ]
  },
  {
   "cell_type": "code",
   "execution_count": 436,
   "metadata": {},
   "outputs": [],
   "source": [
    "# susah dibaca!!!"
   ]
  },
  {
   "cell_type": "markdown",
   "metadata": {},
   "source": [
    "### Penugasan berganda"
   ]
  },
  {
   "cell_type": "code",
   "execution_count": 438,
   "metadata": {},
   "outputs": [
    {
     "data": {
      "text/html": [
       "<table>\n",
       "<thead><tr><th></th><th scope=col>mpg</th><th scope=col>cyl</th><th scope=col>disp</th><th scope=col>hp</th><th scope=col>drat</th><th scope=col>wt</th><th scope=col>qsec</th><th scope=col>vs</th><th scope=col>am</th><th scope=col>gear</th><th scope=col>carb</th></tr></thead>\n",
       "<tbody>\n",
       "\t<tr><th scope=row>Fiat 128</th><td>32.4 </td><td>4    </td><td> 78.7</td><td>66   </td><td>4.08 </td><td>2.200</td><td>19.47</td><td>1    </td><td>1    </td><td>4    </td><td>1    </td></tr>\n",
       "\t<tr><th scope=row>Honda Civic</th><td>30.4 </td><td>4    </td><td> 75.7</td><td>52   </td><td>4.93 </td><td>1.615</td><td>18.52</td><td>1    </td><td>1    </td><td>4    </td><td>2    </td></tr>\n",
       "\t<tr><th scope=row>Fiat X1-9</th><td>27.3 </td><td>4    </td><td> 79.0</td><td>66   </td><td>4.08 </td><td>1.935</td><td>18.90</td><td>1    </td><td>1    </td><td>4    </td><td>1    </td></tr>\n",
       "\t<tr><th scope=row>Datsun 710</th><td>22.8 </td><td>4    </td><td>108.0</td><td>93   </td><td>3.85 </td><td>2.320</td><td>18.61</td><td>1    </td><td>1    </td><td>4    </td><td>1    </td></tr>\n",
       "\t<tr><th scope=row>Toyota Corona</th><td>21.5 </td><td>4    </td><td>120.1</td><td>97   </td><td>3.70 </td><td>2.465</td><td>20.01</td><td>1    </td><td>0    </td><td>3    </td><td>1    </td></tr>\n",
       "</tbody>\n",
       "</table>\n"
      ],
      "text/latex": [
       "\\begin{tabular}{r|lllllllllll}\n",
       "  & mpg & cyl & disp & hp & drat & wt & qsec & vs & am & gear & carb\\\\\n",
       "\\hline\n",
       "\tFiat 128 & 32.4  & 4     &  78.7 & 66    & 4.08  & 2.200 & 19.47 & 1     & 1     & 4     & 1    \\\\\n",
       "\tHonda Civic & 30.4  & 4     &  75.7 & 52    & 4.93  & 1.615 & 18.52 & 1     & 1     & 4     & 2    \\\\\n",
       "\tFiat X1-9 & 27.3  & 4     &  79.0 & 66    & 4.08  & 1.935 & 18.90 & 1     & 1     & 4     & 1    \\\\\n",
       "\tDatsun 710 & 22.8  & 4     & 108.0 & 93    & 3.85  & 2.320 & 18.61 & 1     & 1     & 4     & 1    \\\\\n",
       "\tToyota Corona & 21.5  & 4     & 120.1 & 97    & 3.70  & 2.465 & 20.01 & 1     & 0     & 3     & 1    \\\\\n",
       "\\end{tabular}\n"
      ],
      "text/markdown": [
       "\n",
       "| <!--/--> | mpg | cyl | disp | hp | drat | wt | qsec | vs | am | gear | carb |\n",
       "|---|---|---|---|---|---|---|---|---|---|---|---|\n",
       "| Fiat 128 | 32.4  | 4     |  78.7 | 66    | 4.08  | 2.200 | 19.47 | 1     | 1     | 4     | 1     |\n",
       "| Honda Civic | 30.4  | 4     |  75.7 | 52    | 4.93  | 1.615 | 18.52 | 1     | 1     | 4     | 2     |\n",
       "| Fiat X1-9 | 27.3  | 4     |  79.0 | 66    | 4.08  | 1.935 | 18.90 | 1     | 1     | 4     | 1     |\n",
       "| Datsun 710 | 22.8  | 4     | 108.0 | 93    | 3.85  | 2.320 | 18.61 | 1     | 1     | 4     | 1     |\n",
       "| Toyota Corona | 21.5  | 4     | 120.1 | 97    | 3.70  | 2.465 | 20.01 | 1     | 0     | 3     | 1     |\n",
       "\n"
      ],
      "text/plain": [
       "              mpg  cyl disp  hp drat wt    qsec  vs am gear carb\n",
       "Fiat 128      32.4 4    78.7 66 4.08 2.200 19.47 1  1  4    1   \n",
       "Honda Civic   30.4 4    75.7 52 4.93 1.615 18.52 1  1  4    2   \n",
       "Fiat X1-9     27.3 4    79.0 66 4.08 1.935 18.90 1  1  4    1   \n",
       "Datsun 710    22.8 4   108.0 93 3.85 2.320 18.61 1  1  4    1   \n",
       "Toyota Corona 21.5 4   120.1 97 3.70 2.465 20.01 1  0  3    1   "
      ]
     },
     "metadata": {},
     "output_type": "display_data"
    }
   ],
   "source": [
    "a <- filter(df, mpg > 20)\n",
    "b <- sample_n(a, size = 5)\n",
    "hasil <- arrange(b, desc(mpg))\n",
    "hasil"
   ]
  },
  {
   "cell_type": "markdown",
   "metadata": {},
   "source": [
    "### Operator *pipe*"
   ]
  },
  {
   "cell_type": "code",
   "execution_count": 441,
   "metadata": {},
   "outputs": [
    {
     "data": {
      "text/html": [
       "<table>\n",
       "<thead><tr><th></th><th scope=col>mpg</th><th scope=col>cyl</th><th scope=col>disp</th><th scope=col>hp</th><th scope=col>drat</th><th scope=col>wt</th><th scope=col>qsec</th><th scope=col>vs</th><th scope=col>am</th><th scope=col>gear</th><th scope=col>carb</th></tr></thead>\n",
       "<tbody>\n",
       "\t<tr><th scope=row>Toyota Corolla</th><td>33.9 </td><td>4    </td><td> 71.1</td><td> 65  </td><td>4.22 </td><td>1.835</td><td>19.90</td><td>1    </td><td>1    </td><td>4    </td><td>1    </td></tr>\n",
       "\t<tr><th scope=row>Fiat 128</th><td>32.4 </td><td>4    </td><td> 78.7</td><td> 66  </td><td>4.08 </td><td>2.200</td><td>19.47</td><td>1    </td><td>1    </td><td>4    </td><td>1    </td></tr>\n",
       "\t<tr><th scope=row>Honda Civic</th><td>30.4 </td><td>4    </td><td> 75.7</td><td> 52  </td><td>4.93 </td><td>1.615</td><td>18.52</td><td>1    </td><td>1    </td><td>4    </td><td>2    </td></tr>\n",
       "\t<tr><th scope=row>Merc 240D</th><td>24.4 </td><td>4    </td><td>146.7</td><td> 62  </td><td>3.69 </td><td>3.190</td><td>20.00</td><td>1    </td><td>0    </td><td>4    </td><td>2    </td></tr>\n",
       "\t<tr><th scope=row>Hornet 4 Drive</th><td>21.4 </td><td>6    </td><td>258.0</td><td>110  </td><td>3.08 </td><td>3.215</td><td>19.44</td><td>1    </td><td>0    </td><td>3    </td><td>1    </td></tr>\n",
       "</tbody>\n",
       "</table>\n"
      ],
      "text/latex": [
       "\\begin{tabular}{r|lllllllllll}\n",
       "  & mpg & cyl & disp & hp & drat & wt & qsec & vs & am & gear & carb\\\\\n",
       "\\hline\n",
       "\tToyota Corolla & 33.9  & 4     &  71.1 &  65   & 4.22  & 1.835 & 19.90 & 1     & 1     & 4     & 1    \\\\\n",
       "\tFiat 128 & 32.4  & 4     &  78.7 &  66   & 4.08  & 2.200 & 19.47 & 1     & 1     & 4     & 1    \\\\\n",
       "\tHonda Civic & 30.4  & 4     &  75.7 &  52   & 4.93  & 1.615 & 18.52 & 1     & 1     & 4     & 2    \\\\\n",
       "\tMerc 240D & 24.4  & 4     & 146.7 &  62   & 3.69  & 3.190 & 20.00 & 1     & 0     & 4     & 2    \\\\\n",
       "\tHornet 4 Drive & 21.4  & 6     & 258.0 & 110   & 3.08  & 3.215 & 19.44 & 1     & 0     & 3     & 1    \\\\\n",
       "\\end{tabular}\n"
      ],
      "text/markdown": [
       "\n",
       "| <!--/--> | mpg | cyl | disp | hp | drat | wt | qsec | vs | am | gear | carb |\n",
       "|---|---|---|---|---|---|---|---|---|---|---|---|\n",
       "| Toyota Corolla | 33.9  | 4     |  71.1 |  65   | 4.22  | 1.835 | 19.90 | 1     | 1     | 4     | 1     |\n",
       "| Fiat 128 | 32.4  | 4     |  78.7 |  66   | 4.08  | 2.200 | 19.47 | 1     | 1     | 4     | 1     |\n",
       "| Honda Civic | 30.4  | 4     |  75.7 |  52   | 4.93  | 1.615 | 18.52 | 1     | 1     | 4     | 2     |\n",
       "| Merc 240D | 24.4  | 4     | 146.7 |  62   | 3.69  | 3.190 | 20.00 | 1     | 0     | 4     | 2     |\n",
       "| Hornet 4 Drive | 21.4  | 6     | 258.0 | 110   | 3.08  | 3.215 | 19.44 | 1     | 0     | 3     | 1     |\n",
       "\n"
      ],
      "text/plain": [
       "               mpg  cyl disp  hp  drat wt    qsec  vs am gear carb\n",
       "Toyota Corolla 33.9 4    71.1  65 4.22 1.835 19.90 1  1  4    1   \n",
       "Fiat 128       32.4 4    78.7  66 4.08 2.200 19.47 1  1  4    1   \n",
       "Honda Civic    30.4 4    75.7  52 4.93 1.615 18.52 1  1  4    2   \n",
       "Merc 240D      24.4 4   146.7  62 3.69 3.190 20.00 1  0  4    2   \n",
       "Hornet 4 Drive 21.4 6   258.0 110 3.08 3.215 19.44 1  0  3    1   "
      ]
     },
     "metadata": {},
     "output_type": "display_data"
    }
   ],
   "source": [
    "hasil <- df %>% filter(mpg > 20) %>% sample_n(size = 5) %>% arrange(desc(mpg))\n",
    "# lebih mudah diBACA!\n",
    "hasil"
   ]
  },
  {
   "cell_type": "markdown",
   "metadata": {},
   "source": [
    "## tidyr"
   ]
  },
  {
   "cell_type": "markdown",
   "metadata": {},
   "source": [
    " * dplyr $\\rightarrow$ manipulasi data.\n",
    " * tidyr $\\rightarrow$ pembersihan data."
   ]
  },
  {
   "cell_type": "code",
   "execution_count": 443,
   "metadata": {},
   "outputs": [
    {
     "name": "stderr",
     "output_type": "stream",
     "text": [
      "Updating HTML index of packages in '.Library'\n",
      "Making 'packages.html' ... done\n",
      "Updating HTML index of packages in '.Library'\n",
      "Making 'packages.html' ... done\n"
     ]
    }
   ],
   "source": [
    "install.packages(\"tidyr\")\n",
    "install.packages(\"data.table\") # punya kelebihan soal waktu eksekusi dibandingkan data frame"
   ]
  },
  {
   "cell_type": "code",
   "execution_count": 444,
   "metadata": {},
   "outputs": [
    {
     "name": "stderr",
     "output_type": "stream",
     "text": [
      "\n",
      "Attaching package: ‘data.table’\n",
      "\n",
      "The following objects are masked from ‘package:dplyr’:\n",
      "\n",
      "    between, first, last\n",
      "\n"
     ]
    }
   ],
   "source": [
    "library(tidyr)\n",
    "library(data.table)"
   ]
  },
  {
   "cell_type": "markdown",
   "metadata": {},
   "source": [
    "### `gather()`"
   ]
  },
  {
   "cell_type": "markdown",
   "metadata": {},
   "source": [
    "Membagi kolom menjadi pasangan *key*-*value*"
   ]
  },
  {
   "cell_type": "code",
   "execution_count": 447,
   "metadata": {},
   "outputs": [
    {
     "data": {
      "text/html": [
       "<table>\n",
       "<thead><tr><th scope=col>Perusahaan</th><th scope=col>Tahun</th><th scope=col>q1</th><th scope=col>q2</th><th scope=col>q3</th><th scope=col>q4</th></tr></thead>\n",
       "<tbody>\n",
       "\t<tr><td>A          </td><td>2020       </td><td>38.894418  </td><td> 1.654605  </td><td>40.71380   </td><td>15.88689983</td></tr>\n",
       "\t<tr><td>B          </td><td>2021       </td><td>89.734563  </td><td>60.179006  </td><td>82.11529   </td><td>55.55778290</td></tr>\n",
       "\t<tr><td>C          </td><td>2022       </td><td>52.087442  </td><td>39.370503  </td><td>55.70252   </td><td>65.97746897</td></tr>\n",
       "\t<tr><td>A          </td><td>2020       </td><td>93.594023  </td><td>12.396570  </td><td>91.24406   </td><td> 5.59198416</td></tr>\n",
       "\t<tr><td>B          </td><td>2021       </td><td>87.816012  </td><td>82.021958  </td><td>86.38469   </td><td> 0.07934286</td></tr>\n",
       "\t<tr><td>C          </td><td>2022       </td><td> 1.486082  </td><td>73.739042  </td><td>76.69074   </td><td>85.98627327</td></tr>\n",
       "\t<tr><td>A          </td><td>2020       </td><td>78.902340  </td><td>69.518334  </td><td>52.49779   </td><td>72.99245074</td></tr>\n",
       "\t<tr><td>B          </td><td>2021       </td><td>22.836693  </td><td>94.801048  </td><td>13.75364   </td><td>42.27830907</td></tr>\n",
       "\t<tr><td>C          </td><td>2022       </td><td>68.204620  </td><td>24.498203  </td><td>66.46980   </td><td>24.85925895</td></tr>\n",
       "</tbody>\n",
       "</table>\n"
      ],
      "text/latex": [
       "\\begin{tabular}{r|llllll}\n",
       " Perusahaan & Tahun & q1 & q2 & q3 & q4\\\\\n",
       "\\hline\n",
       "\t A           & 2020        & 38.894418   &  1.654605   & 40.71380    & 15.88689983\\\\\n",
       "\t B           & 2021        & 89.734563   & 60.179006   & 82.11529    & 55.55778290\\\\\n",
       "\t C           & 2022        & 52.087442   & 39.370503   & 55.70252    & 65.97746897\\\\\n",
       "\t A           & 2020        & 93.594023   & 12.396570   & 91.24406    &  5.59198416\\\\\n",
       "\t B           & 2021        & 87.816012   & 82.021958   & 86.38469    &  0.07934286\\\\\n",
       "\t C           & 2022        &  1.486082   & 73.739042   & 76.69074    & 85.98627327\\\\\n",
       "\t A           & 2020        & 78.902340   & 69.518334   & 52.49779    & 72.99245074\\\\\n",
       "\t B           & 2021        & 22.836693   & 94.801048   & 13.75364    & 42.27830907\\\\\n",
       "\t C           & 2022        & 68.204620   & 24.498203   & 66.46980    & 24.85925895\\\\\n",
       "\\end{tabular}\n"
      ],
      "text/markdown": [
       "\n",
       "| Perusahaan | Tahun | q1 | q2 | q3 | q4 |\n",
       "|---|---|---|---|---|---|\n",
       "| A           | 2020        | 38.894418   |  1.654605   | 40.71380    | 15.88689983 |\n",
       "| B           | 2021        | 89.734563   | 60.179006   | 82.11529    | 55.55778290 |\n",
       "| C           | 2022        | 52.087442   | 39.370503   | 55.70252    | 65.97746897 |\n",
       "| A           | 2020        | 93.594023   | 12.396570   | 91.24406    |  5.59198416 |\n",
       "| B           | 2021        | 87.816012   | 82.021958   | 86.38469    |  0.07934286 |\n",
       "| C           | 2022        |  1.486082   | 73.739042   | 76.69074    | 85.98627327 |\n",
       "| A           | 2020        | 78.902340   | 69.518334   | 52.49779    | 72.99245074 |\n",
       "| B           | 2021        | 22.836693   | 94.801048   | 13.75364    | 42.27830907 |\n",
       "| C           | 2022        | 68.204620   | 24.498203   | 66.46980    | 24.85925895 |\n",
       "\n"
      ],
      "text/plain": [
       "  Perusahaan Tahun q1        q2        q3       q4         \n",
       "1 A          2020  38.894418  1.654605 40.71380 15.88689983\n",
       "2 B          2021  89.734563 60.179006 82.11529 55.55778290\n",
       "3 C          2022  52.087442 39.370503 55.70252 65.97746897\n",
       "4 A          2020  93.594023 12.396570 91.24406  5.59198416\n",
       "5 B          2021  87.816012 82.021958 86.38469  0.07934286\n",
       "6 C          2022   1.486082 73.739042 76.69074 85.98627327\n",
       "7 A          2020  78.902340 69.518334 52.49779 72.99245074\n",
       "8 B          2021  22.836693 94.801048 13.75364 42.27830907\n",
       "9 C          2022  68.204620 24.498203 66.46980 24.85925895"
      ]
     },
     "metadata": {},
     "output_type": "display_data"
    }
   ],
   "source": [
    "v <- c('A', 'B', 'C','A', 'B', 'C','A', 'B', 'C')\n",
    "thn <- c(2020,2021,2022,2020,2021,2022,2020,2021,2022)\n",
    "\n",
    "q1 <- runif(n = 9, min = 0, max = 100)\n",
    "q2 <- runif(n = 9, min = 0, max = 100)\n",
    "q3 <- runif(n = 9, min = 0, max = 100)\n",
    "q4 <- runif(n = 9, min = 0, max = 100)\n",
    "\n",
    "df <- data.frame(Perusahaan = v, Tahun = thn, q1, q2, q3, q4)\n",
    "df"
   ]
  },
  {
   "cell_type": "code",
   "execution_count": 448,
   "metadata": {},
   "outputs": [
    {
     "data": {
      "text/html": [
       "<table>\n",
       "<thead><tr><th scope=col>Perusahaan</th><th scope=col>Tahun</th><th scope=col>Kuarter</th><th scope=col>Keuntungan</th></tr></thead>\n",
       "<tbody>\n",
       "\t<tr><td>A          </td><td>2020       </td><td>q1         </td><td>38.89441818</td></tr>\n",
       "\t<tr><td>B          </td><td>2021       </td><td>q1         </td><td>89.73456286</td></tr>\n",
       "\t<tr><td>C          </td><td>2022       </td><td>q1         </td><td>52.08744234</td></tr>\n",
       "\t<tr><td>A          </td><td>2020       </td><td>q1         </td><td>93.59402261</td></tr>\n",
       "\t<tr><td>B          </td><td>2021       </td><td>q1         </td><td>87.81601237</td></tr>\n",
       "\t<tr><td>C          </td><td>2022       </td><td>q1         </td><td> 1.48608228</td></tr>\n",
       "\t<tr><td>A          </td><td>2020       </td><td>q1         </td><td>78.90234042</td></tr>\n",
       "\t<tr><td>B          </td><td>2021       </td><td>q1         </td><td>22.83669275</td></tr>\n",
       "\t<tr><td>C          </td><td>2022       </td><td>q1         </td><td>68.20461997</td></tr>\n",
       "\t<tr><td>A          </td><td>2020       </td><td>q2         </td><td> 1.65460471</td></tr>\n",
       "\t<tr><td>B          </td><td>2021       </td><td>q2         </td><td>60.17900605</td></tr>\n",
       "\t<tr><td>C          </td><td>2022       </td><td>q2         </td><td>39.37050325</td></tr>\n",
       "\t<tr><td>A          </td><td>2020       </td><td>q2         </td><td>12.39656997</td></tr>\n",
       "\t<tr><td>B          </td><td>2021       </td><td>q2         </td><td>82.02195833</td></tr>\n",
       "\t<tr><td>C          </td><td>2022       </td><td>q2         </td><td>73.73904230</td></tr>\n",
       "\t<tr><td>A          </td><td>2020       </td><td>q2         </td><td>69.51833363</td></tr>\n",
       "\t<tr><td>B          </td><td>2021       </td><td>q2         </td><td>94.80104796</td></tr>\n",
       "\t<tr><td>C          </td><td>2022       </td><td>q2         </td><td>24.49820316</td></tr>\n",
       "\t<tr><td>A          </td><td>2020       </td><td>q3         </td><td>40.71380387</td></tr>\n",
       "\t<tr><td>B          </td><td>2021       </td><td>q3         </td><td>82.11529187</td></tr>\n",
       "\t<tr><td>C          </td><td>2022       </td><td>q3         </td><td>55.70251632</td></tr>\n",
       "\t<tr><td>A          </td><td>2020       </td><td>q3         </td><td>91.24406322</td></tr>\n",
       "\t<tr><td>B          </td><td>2021       </td><td>q3         </td><td>86.38468848</td></tr>\n",
       "\t<tr><td>C          </td><td>2022       </td><td>q3         </td><td>76.69073627</td></tr>\n",
       "\t<tr><td>A          </td><td>2020       </td><td>q3         </td><td>52.49778645</td></tr>\n",
       "\t<tr><td>B          </td><td>2021       </td><td>q3         </td><td>13.75364345</td></tr>\n",
       "\t<tr><td>C          </td><td>2022       </td><td>q3         </td><td>66.46980187</td></tr>\n",
       "\t<tr><td>A          </td><td>2020       </td><td>q4         </td><td>15.88689983</td></tr>\n",
       "\t<tr><td>B          </td><td>2021       </td><td>q4         </td><td>55.55778290</td></tr>\n",
       "\t<tr><td>C          </td><td>2022       </td><td>q4         </td><td>65.97746897</td></tr>\n",
       "\t<tr><td>A          </td><td>2020       </td><td>q4         </td><td> 5.59198416</td></tr>\n",
       "\t<tr><td>B          </td><td>2021       </td><td>q4         </td><td> 0.07934286</td></tr>\n",
       "\t<tr><td>C          </td><td>2022       </td><td>q4         </td><td>85.98627327</td></tr>\n",
       "\t<tr><td>A          </td><td>2020       </td><td>q4         </td><td>72.99245074</td></tr>\n",
       "\t<tr><td>B          </td><td>2021       </td><td>q4         </td><td>42.27830907</td></tr>\n",
       "\t<tr><td>C          </td><td>2022       </td><td>q4         </td><td>24.85925895</td></tr>\n",
       "</tbody>\n",
       "</table>\n"
      ],
      "text/latex": [
       "\\begin{tabular}{r|llll}\n",
       " Perusahaan & Tahun & Kuarter & Keuntungan\\\\\n",
       "\\hline\n",
       "\t A           & 2020        & q1          & 38.89441818\\\\\n",
       "\t B           & 2021        & q1          & 89.73456286\\\\\n",
       "\t C           & 2022        & q1          & 52.08744234\\\\\n",
       "\t A           & 2020        & q1          & 93.59402261\\\\\n",
       "\t B           & 2021        & q1          & 87.81601237\\\\\n",
       "\t C           & 2022        & q1          &  1.48608228\\\\\n",
       "\t A           & 2020        & q1          & 78.90234042\\\\\n",
       "\t B           & 2021        & q1          & 22.83669275\\\\\n",
       "\t C           & 2022        & q1          & 68.20461997\\\\\n",
       "\t A           & 2020        & q2          &  1.65460471\\\\\n",
       "\t B           & 2021        & q2          & 60.17900605\\\\\n",
       "\t C           & 2022        & q2          & 39.37050325\\\\\n",
       "\t A           & 2020        & q2          & 12.39656997\\\\\n",
       "\t B           & 2021        & q2          & 82.02195833\\\\\n",
       "\t C           & 2022        & q2          & 73.73904230\\\\\n",
       "\t A           & 2020        & q2          & 69.51833363\\\\\n",
       "\t B           & 2021        & q2          & 94.80104796\\\\\n",
       "\t C           & 2022        & q2          & 24.49820316\\\\\n",
       "\t A           & 2020        & q3          & 40.71380387\\\\\n",
       "\t B           & 2021        & q3          & 82.11529187\\\\\n",
       "\t C           & 2022        & q3          & 55.70251632\\\\\n",
       "\t A           & 2020        & q3          & 91.24406322\\\\\n",
       "\t B           & 2021        & q3          & 86.38468848\\\\\n",
       "\t C           & 2022        & q3          & 76.69073627\\\\\n",
       "\t A           & 2020        & q3          & 52.49778645\\\\\n",
       "\t B           & 2021        & q3          & 13.75364345\\\\\n",
       "\t C           & 2022        & q3          & 66.46980187\\\\\n",
       "\t A           & 2020        & q4          & 15.88689983\\\\\n",
       "\t B           & 2021        & q4          & 55.55778290\\\\\n",
       "\t C           & 2022        & q4          & 65.97746897\\\\\n",
       "\t A           & 2020        & q4          &  5.59198416\\\\\n",
       "\t B           & 2021        & q4          &  0.07934286\\\\\n",
       "\t C           & 2022        & q4          & 85.98627327\\\\\n",
       "\t A           & 2020        & q4          & 72.99245074\\\\\n",
       "\t B           & 2021        & q4          & 42.27830907\\\\\n",
       "\t C           & 2022        & q4          & 24.85925895\\\\\n",
       "\\end{tabular}\n"
      ],
      "text/markdown": [
       "\n",
       "| Perusahaan | Tahun | Kuarter | Keuntungan |\n",
       "|---|---|---|---|\n",
       "| A           | 2020        | q1          | 38.89441818 |\n",
       "| B           | 2021        | q1          | 89.73456286 |\n",
       "| C           | 2022        | q1          | 52.08744234 |\n",
       "| A           | 2020        | q1          | 93.59402261 |\n",
       "| B           | 2021        | q1          | 87.81601237 |\n",
       "| C           | 2022        | q1          |  1.48608228 |\n",
       "| A           | 2020        | q1          | 78.90234042 |\n",
       "| B           | 2021        | q1          | 22.83669275 |\n",
       "| C           | 2022        | q1          | 68.20461997 |\n",
       "| A           | 2020        | q2          |  1.65460471 |\n",
       "| B           | 2021        | q2          | 60.17900605 |\n",
       "| C           | 2022        | q2          | 39.37050325 |\n",
       "| A           | 2020        | q2          | 12.39656997 |\n",
       "| B           | 2021        | q2          | 82.02195833 |\n",
       "| C           | 2022        | q2          | 73.73904230 |\n",
       "| A           | 2020        | q2          | 69.51833363 |\n",
       "| B           | 2021        | q2          | 94.80104796 |\n",
       "| C           | 2022        | q2          | 24.49820316 |\n",
       "| A           | 2020        | q3          | 40.71380387 |\n",
       "| B           | 2021        | q3          | 82.11529187 |\n",
       "| C           | 2022        | q3          | 55.70251632 |\n",
       "| A           | 2020        | q3          | 91.24406322 |\n",
       "| B           | 2021        | q3          | 86.38468848 |\n",
       "| C           | 2022        | q3          | 76.69073627 |\n",
       "| A           | 2020        | q3          | 52.49778645 |\n",
       "| B           | 2021        | q3          | 13.75364345 |\n",
       "| C           | 2022        | q3          | 66.46980187 |\n",
       "| A           | 2020        | q4          | 15.88689983 |\n",
       "| B           | 2021        | q4          | 55.55778290 |\n",
       "| C           | 2022        | q4          | 65.97746897 |\n",
       "| A           | 2020        | q4          |  5.59198416 |\n",
       "| B           | 2021        | q4          |  0.07934286 |\n",
       "| C           | 2022        | q4          | 85.98627327 |\n",
       "| A           | 2020        | q4          | 72.99245074 |\n",
       "| B           | 2021        | q4          | 42.27830907 |\n",
       "| C           | 2022        | q4          | 24.85925895 |\n",
       "\n"
      ],
      "text/plain": [
       "   Perusahaan Tahun Kuarter Keuntungan \n",
       "1  A          2020  q1      38.89441818\n",
       "2  B          2021  q1      89.73456286\n",
       "3  C          2022  q1      52.08744234\n",
       "4  A          2020  q1      93.59402261\n",
       "5  B          2021  q1      87.81601237\n",
       "6  C          2022  q1       1.48608228\n",
       "7  A          2020  q1      78.90234042\n",
       "8  B          2021  q1      22.83669275\n",
       "9  C          2022  q1      68.20461997\n",
       "10 A          2020  q2       1.65460471\n",
       "11 B          2021  q2      60.17900605\n",
       "12 C          2022  q2      39.37050325\n",
       "13 A          2020  q2      12.39656997\n",
       "14 B          2021  q2      82.02195833\n",
       "15 C          2022  q2      73.73904230\n",
       "16 A          2020  q2      69.51833363\n",
       "17 B          2021  q2      94.80104796\n",
       "18 C          2022  q2      24.49820316\n",
       "19 A          2020  q3      40.71380387\n",
       "20 B          2021  q3      82.11529187\n",
       "21 C          2022  q3      55.70251632\n",
       "22 A          2020  q3      91.24406322\n",
       "23 B          2021  q3      86.38468848\n",
       "24 C          2022  q3      76.69073627\n",
       "25 A          2020  q3      52.49778645\n",
       "26 B          2021  q3      13.75364345\n",
       "27 C          2022  q3      66.46980187\n",
       "28 A          2020  q4      15.88689983\n",
       "29 B          2021  q4      55.55778290\n",
       "30 C          2022  q4      65.97746897\n",
       "31 A          2020  q4       5.59198416\n",
       "32 B          2021  q4       0.07934286\n",
       "33 C          2022  q4      85.98627327\n",
       "34 A          2020  q4      72.99245074\n",
       "35 B          2021  q4      42.27830907\n",
       "36 C          2022  q4      24.85925895"
      ]
     },
     "metadata": {},
     "output_type": "display_data"
    }
   ],
   "source": [
    "gather(data = df, key = 'Kuarter', value = 'Keuntungan', q1:q4)\n",
    "# 4 kolom dibuat jadi 2 kolom"
   ]
  },
  {
   "cell_type": "code",
   "execution_count": 449,
   "metadata": {},
   "outputs": [
    {
     "data": {
      "text/html": [
       "<table>\n",
       "<thead><tr><th scope=col>Perusahaan</th><th scope=col>Tahun</th><th scope=col>Kuarter</th><th scope=col>Keuntungan</th></tr></thead>\n",
       "<tbody>\n",
       "\t<tr><td>A          </td><td>2020       </td><td>q1         </td><td>38.89441818</td></tr>\n",
       "\t<tr><td>B          </td><td>2021       </td><td>q1         </td><td>89.73456286</td></tr>\n",
       "\t<tr><td>C          </td><td>2022       </td><td>q1         </td><td>52.08744234</td></tr>\n",
       "\t<tr><td>A          </td><td>2020       </td><td>q1         </td><td>93.59402261</td></tr>\n",
       "\t<tr><td>B          </td><td>2021       </td><td>q1         </td><td>87.81601237</td></tr>\n",
       "\t<tr><td>C          </td><td>2022       </td><td>q1         </td><td> 1.48608228</td></tr>\n",
       "\t<tr><td>A          </td><td>2020       </td><td>q1         </td><td>78.90234042</td></tr>\n",
       "\t<tr><td>B          </td><td>2021       </td><td>q1         </td><td>22.83669275</td></tr>\n",
       "\t<tr><td>C          </td><td>2022       </td><td>q1         </td><td>68.20461997</td></tr>\n",
       "\t<tr><td>A          </td><td>2020       </td><td>q2         </td><td> 1.65460471</td></tr>\n",
       "\t<tr><td>B          </td><td>2021       </td><td>q2         </td><td>60.17900605</td></tr>\n",
       "\t<tr><td>C          </td><td>2022       </td><td>q2         </td><td>39.37050325</td></tr>\n",
       "\t<tr><td>A          </td><td>2020       </td><td>q2         </td><td>12.39656997</td></tr>\n",
       "\t<tr><td>B          </td><td>2021       </td><td>q2         </td><td>82.02195833</td></tr>\n",
       "\t<tr><td>C          </td><td>2022       </td><td>q2         </td><td>73.73904230</td></tr>\n",
       "\t<tr><td>A          </td><td>2020       </td><td>q2         </td><td>69.51833363</td></tr>\n",
       "\t<tr><td>B          </td><td>2021       </td><td>q2         </td><td>94.80104796</td></tr>\n",
       "\t<tr><td>C          </td><td>2022       </td><td>q2         </td><td>24.49820316</td></tr>\n",
       "\t<tr><td>A          </td><td>2020       </td><td>q3         </td><td>40.71380387</td></tr>\n",
       "\t<tr><td>B          </td><td>2021       </td><td>q3         </td><td>82.11529187</td></tr>\n",
       "\t<tr><td>C          </td><td>2022       </td><td>q3         </td><td>55.70251632</td></tr>\n",
       "\t<tr><td>A          </td><td>2020       </td><td>q3         </td><td>91.24406322</td></tr>\n",
       "\t<tr><td>B          </td><td>2021       </td><td>q3         </td><td>86.38468848</td></tr>\n",
       "\t<tr><td>C          </td><td>2022       </td><td>q3         </td><td>76.69073627</td></tr>\n",
       "\t<tr><td>A          </td><td>2020       </td><td>q3         </td><td>52.49778645</td></tr>\n",
       "\t<tr><td>B          </td><td>2021       </td><td>q3         </td><td>13.75364345</td></tr>\n",
       "\t<tr><td>C          </td><td>2022       </td><td>q3         </td><td>66.46980187</td></tr>\n",
       "\t<tr><td>A          </td><td>2020       </td><td>q4         </td><td>15.88689983</td></tr>\n",
       "\t<tr><td>B          </td><td>2021       </td><td>q4         </td><td>55.55778290</td></tr>\n",
       "\t<tr><td>C          </td><td>2022       </td><td>q4         </td><td>65.97746897</td></tr>\n",
       "\t<tr><td>A          </td><td>2020       </td><td>q4         </td><td> 5.59198416</td></tr>\n",
       "\t<tr><td>B          </td><td>2021       </td><td>q4         </td><td> 0.07934286</td></tr>\n",
       "\t<tr><td>C          </td><td>2022       </td><td>q4         </td><td>85.98627327</td></tr>\n",
       "\t<tr><td>A          </td><td>2020       </td><td>q4         </td><td>72.99245074</td></tr>\n",
       "\t<tr><td>B          </td><td>2021       </td><td>q4         </td><td>42.27830907</td></tr>\n",
       "\t<tr><td>C          </td><td>2022       </td><td>q4         </td><td>24.85925895</td></tr>\n",
       "</tbody>\n",
       "</table>\n"
      ],
      "text/latex": [
       "\\begin{tabular}{r|llll}\n",
       " Perusahaan & Tahun & Kuarter & Keuntungan\\\\\n",
       "\\hline\n",
       "\t A           & 2020        & q1          & 38.89441818\\\\\n",
       "\t B           & 2021        & q1          & 89.73456286\\\\\n",
       "\t C           & 2022        & q1          & 52.08744234\\\\\n",
       "\t A           & 2020        & q1          & 93.59402261\\\\\n",
       "\t B           & 2021        & q1          & 87.81601237\\\\\n",
       "\t C           & 2022        & q1          &  1.48608228\\\\\n",
       "\t A           & 2020        & q1          & 78.90234042\\\\\n",
       "\t B           & 2021        & q1          & 22.83669275\\\\\n",
       "\t C           & 2022        & q1          & 68.20461997\\\\\n",
       "\t A           & 2020        & q2          &  1.65460471\\\\\n",
       "\t B           & 2021        & q2          & 60.17900605\\\\\n",
       "\t C           & 2022        & q2          & 39.37050325\\\\\n",
       "\t A           & 2020        & q2          & 12.39656997\\\\\n",
       "\t B           & 2021        & q2          & 82.02195833\\\\\n",
       "\t C           & 2022        & q2          & 73.73904230\\\\\n",
       "\t A           & 2020        & q2          & 69.51833363\\\\\n",
       "\t B           & 2021        & q2          & 94.80104796\\\\\n",
       "\t C           & 2022        & q2          & 24.49820316\\\\\n",
       "\t A           & 2020        & q3          & 40.71380387\\\\\n",
       "\t B           & 2021        & q3          & 82.11529187\\\\\n",
       "\t C           & 2022        & q3          & 55.70251632\\\\\n",
       "\t A           & 2020        & q3          & 91.24406322\\\\\n",
       "\t B           & 2021        & q3          & 86.38468848\\\\\n",
       "\t C           & 2022        & q3          & 76.69073627\\\\\n",
       "\t A           & 2020        & q3          & 52.49778645\\\\\n",
       "\t B           & 2021        & q3          & 13.75364345\\\\\n",
       "\t C           & 2022        & q3          & 66.46980187\\\\\n",
       "\t A           & 2020        & q4          & 15.88689983\\\\\n",
       "\t B           & 2021        & q4          & 55.55778290\\\\\n",
       "\t C           & 2022        & q4          & 65.97746897\\\\\n",
       "\t A           & 2020        & q4          &  5.59198416\\\\\n",
       "\t B           & 2021        & q4          &  0.07934286\\\\\n",
       "\t C           & 2022        & q4          & 85.98627327\\\\\n",
       "\t A           & 2020        & q4          & 72.99245074\\\\\n",
       "\t B           & 2021        & q4          & 42.27830907\\\\\n",
       "\t C           & 2022        & q4          & 24.85925895\\\\\n",
       "\\end{tabular}\n"
      ],
      "text/markdown": [
       "\n",
       "| Perusahaan | Tahun | Kuarter | Keuntungan |\n",
       "|---|---|---|---|\n",
       "| A           | 2020        | q1          | 38.89441818 |\n",
       "| B           | 2021        | q1          | 89.73456286 |\n",
       "| C           | 2022        | q1          | 52.08744234 |\n",
       "| A           | 2020        | q1          | 93.59402261 |\n",
       "| B           | 2021        | q1          | 87.81601237 |\n",
       "| C           | 2022        | q1          |  1.48608228 |\n",
       "| A           | 2020        | q1          | 78.90234042 |\n",
       "| B           | 2021        | q1          | 22.83669275 |\n",
       "| C           | 2022        | q1          | 68.20461997 |\n",
       "| A           | 2020        | q2          |  1.65460471 |\n",
       "| B           | 2021        | q2          | 60.17900605 |\n",
       "| C           | 2022        | q2          | 39.37050325 |\n",
       "| A           | 2020        | q2          | 12.39656997 |\n",
       "| B           | 2021        | q2          | 82.02195833 |\n",
       "| C           | 2022        | q2          | 73.73904230 |\n",
       "| A           | 2020        | q2          | 69.51833363 |\n",
       "| B           | 2021        | q2          | 94.80104796 |\n",
       "| C           | 2022        | q2          | 24.49820316 |\n",
       "| A           | 2020        | q3          | 40.71380387 |\n",
       "| B           | 2021        | q3          | 82.11529187 |\n",
       "| C           | 2022        | q3          | 55.70251632 |\n",
       "| A           | 2020        | q3          | 91.24406322 |\n",
       "| B           | 2021        | q3          | 86.38468848 |\n",
       "| C           | 2022        | q3          | 76.69073627 |\n",
       "| A           | 2020        | q3          | 52.49778645 |\n",
       "| B           | 2021        | q3          | 13.75364345 |\n",
       "| C           | 2022        | q3          | 66.46980187 |\n",
       "| A           | 2020        | q4          | 15.88689983 |\n",
       "| B           | 2021        | q4          | 55.55778290 |\n",
       "| C           | 2022        | q4          | 65.97746897 |\n",
       "| A           | 2020        | q4          |  5.59198416 |\n",
       "| B           | 2021        | q4          |  0.07934286 |\n",
       "| C           | 2022        | q4          | 85.98627327 |\n",
       "| A           | 2020        | q4          | 72.99245074 |\n",
       "| B           | 2021        | q4          | 42.27830907 |\n",
       "| C           | 2022        | q4          | 24.85925895 |\n",
       "\n"
      ],
      "text/plain": [
       "   Perusahaan Tahun Kuarter Keuntungan \n",
       "1  A          2020  q1      38.89441818\n",
       "2  B          2021  q1      89.73456286\n",
       "3  C          2022  q1      52.08744234\n",
       "4  A          2020  q1      93.59402261\n",
       "5  B          2021  q1      87.81601237\n",
       "6  C          2022  q1       1.48608228\n",
       "7  A          2020  q1      78.90234042\n",
       "8  B          2021  q1      22.83669275\n",
       "9  C          2022  q1      68.20461997\n",
       "10 A          2020  q2       1.65460471\n",
       "11 B          2021  q2      60.17900605\n",
       "12 C          2022  q2      39.37050325\n",
       "13 A          2020  q2      12.39656997\n",
       "14 B          2021  q2      82.02195833\n",
       "15 C          2022  q2      73.73904230\n",
       "16 A          2020  q2      69.51833363\n",
       "17 B          2021  q2      94.80104796\n",
       "18 C          2022  q2      24.49820316\n",
       "19 A          2020  q3      40.71380387\n",
       "20 B          2021  q3      82.11529187\n",
       "21 C          2022  q3      55.70251632\n",
       "22 A          2020  q3      91.24406322\n",
       "23 B          2021  q3      86.38468848\n",
       "24 C          2022  q3      76.69073627\n",
       "25 A          2020  q3      52.49778645\n",
       "26 B          2021  q3      13.75364345\n",
       "27 C          2022  q3      66.46980187\n",
       "28 A          2020  q4      15.88689983\n",
       "29 B          2021  q4      55.55778290\n",
       "30 C          2022  q4      65.97746897\n",
       "31 A          2020  q4       5.59198416\n",
       "32 B          2021  q4       0.07934286\n",
       "33 C          2022  q4      85.98627327\n",
       "34 A          2020  q4      72.99245074\n",
       "35 B          2021  q4      42.27830907\n",
       "36 C          2022  q4      24.85925895"
      ]
     },
     "metadata": {},
     "output_type": "display_data"
    }
   ],
   "source": [
    "# menggunakan fungsi gather() dengan menggunakan operator pipe\n",
    "\n",
    "df %>% gather(key = 'Kuarter', value = 'Keuntungan', q1:q4)"
   ]
  },
  {
   "cell_type": "markdown",
   "metadata": {},
   "source": [
    "### `spread()`"
   ]
  },
  {
   "cell_type": "code",
   "execution_count": 453,
   "metadata": {},
   "outputs": [],
   "source": [
    "saham <- data.frame(\n",
    "    waktu = as.Date('2009-01-01') + 0:9,\n",
    "    X = rnorm(10,0,1),\n",
    "    Y = rnorm(10,0,2),\n",
    "    Z = rnorm(10,0,4)\n",
    ")"
   ]
  },
  {
   "cell_type": "code",
   "execution_count": 454,
   "metadata": {},
   "outputs": [
    {
     "data": {
      "text/html": [
       "<table>\n",
       "<thead><tr><th scope=col>waktu</th><th scope=col>X</th><th scope=col>Y</th><th scope=col>Z</th></tr></thead>\n",
       "<tbody>\n",
       "\t<tr><td>2009-01-01 </td><td>-0.73932297</td><td>-2.1693354 </td><td> 2.7072974 </td></tr>\n",
       "\t<tr><td>2009-01-02 </td><td>-0.66060205</td><td> 0.5871750 </td><td> 3.3650593 </td></tr>\n",
       "\t<tr><td>2009-01-03 </td><td> 0.52308703</td><td>-1.4795559 </td><td> 0.5510204 </td></tr>\n",
       "\t<tr><td>2009-01-04 </td><td> 1.03084445</td><td>-0.4394464 </td><td>-0.1908767 </td></tr>\n",
       "\t<tr><td>2009-01-05 </td><td> 0.05471038</td><td> 2.2671503 </td><td> 5.0201738 </td></tr>\n",
       "\t<tr><td>2009-01-06 </td><td>-1.02139422</td><td> 1.6965900 </td><td> 6.7124031 </td></tr>\n",
       "\t<tr><td>2009-01-07 </td><td> 0.62023365</td><td> 0.8673688 </td><td> 1.4242770 </td></tr>\n",
       "\t<tr><td>2009-01-08 </td><td> 0.75474458</td><td>-0.8452750 </td><td> 4.0341163 </td></tr>\n",
       "\t<tr><td>2009-01-09 </td><td>-1.18884672</td><td>-1.8846370 </td><td> 2.7653468 </td></tr>\n",
       "\t<tr><td>2009-01-10 </td><td>-1.03766147</td><td> 3.1065358 </td><td>-1.0139824 </td></tr>\n",
       "</tbody>\n",
       "</table>\n"
      ],
      "text/latex": [
       "\\begin{tabular}{r|llll}\n",
       " waktu & X & Y & Z\\\\\n",
       "\\hline\n",
       "\t 2009-01-01  & -0.73932297 & -2.1693354  &  2.7072974 \\\\\n",
       "\t 2009-01-02  & -0.66060205 &  0.5871750  &  3.3650593 \\\\\n",
       "\t 2009-01-03  &  0.52308703 & -1.4795559  &  0.5510204 \\\\\n",
       "\t 2009-01-04  &  1.03084445 & -0.4394464  & -0.1908767 \\\\\n",
       "\t 2009-01-05  &  0.05471038 &  2.2671503  &  5.0201738 \\\\\n",
       "\t 2009-01-06  & -1.02139422 &  1.6965900  &  6.7124031 \\\\\n",
       "\t 2009-01-07  &  0.62023365 &  0.8673688  &  1.4242770 \\\\\n",
       "\t 2009-01-08  &  0.75474458 & -0.8452750  &  4.0341163 \\\\\n",
       "\t 2009-01-09  & -1.18884672 & -1.8846370  &  2.7653468 \\\\\n",
       "\t 2009-01-10  & -1.03766147 &  3.1065358  & -1.0139824 \\\\\n",
       "\\end{tabular}\n"
      ],
      "text/markdown": [
       "\n",
       "| waktu | X | Y | Z |\n",
       "|---|---|---|---|\n",
       "| 2009-01-01  | -0.73932297 | -2.1693354  |  2.7072974  |\n",
       "| 2009-01-02  | -0.66060205 |  0.5871750  |  3.3650593  |\n",
       "| 2009-01-03  |  0.52308703 | -1.4795559  |  0.5510204  |\n",
       "| 2009-01-04  |  1.03084445 | -0.4394464  | -0.1908767  |\n",
       "| 2009-01-05  |  0.05471038 |  2.2671503  |  5.0201738  |\n",
       "| 2009-01-06  | -1.02139422 |  1.6965900  |  6.7124031  |\n",
       "| 2009-01-07  |  0.62023365 |  0.8673688  |  1.4242770  |\n",
       "| 2009-01-08  |  0.75474458 | -0.8452750  |  4.0341163  |\n",
       "| 2009-01-09  | -1.18884672 | -1.8846370  |  2.7653468  |\n",
       "| 2009-01-10  | -1.03766147 |  3.1065358  | -1.0139824  |\n",
       "\n"
      ],
      "text/plain": [
       "   waktu      X           Y          Z         \n",
       "1  2009-01-01 -0.73932297 -2.1693354  2.7072974\n",
       "2  2009-01-02 -0.66060205  0.5871750  3.3650593\n",
       "3  2009-01-03  0.52308703 -1.4795559  0.5510204\n",
       "4  2009-01-04  1.03084445 -0.4394464 -0.1908767\n",
       "5  2009-01-05  0.05471038  2.2671503  5.0201738\n",
       "6  2009-01-06 -1.02139422  1.6965900  6.7124031\n",
       "7  2009-01-07  0.62023365  0.8673688  1.4242770\n",
       "8  2009-01-08  0.75474458 -0.8452750  4.0341163\n",
       "9  2009-01-09 -1.18884672 -1.8846370  2.7653468\n",
       "10 2009-01-10 -1.03766147  3.1065358 -1.0139824"
      ]
     },
     "metadata": {},
     "output_type": "display_data"
    }
   ],
   "source": [
    "saham"
   ]
  },
  {
   "cell_type": "code",
   "execution_count": 457,
   "metadata": {},
   "outputs": [
    {
     "data": {
      "text/html": [
       "<table>\n",
       "<thead><tr><th scope=col>waktu</th><th scope=col>saham</th><th scope=col>harga</th></tr></thead>\n",
       "<tbody>\n",
       "\t<tr><td>2009-01-01 </td><td>X          </td><td>-0.73932297</td></tr>\n",
       "\t<tr><td>2009-01-02 </td><td>X          </td><td>-0.66060205</td></tr>\n",
       "\t<tr><td>2009-01-03 </td><td>X          </td><td> 0.52308703</td></tr>\n",
       "\t<tr><td>2009-01-04 </td><td>X          </td><td> 1.03084445</td></tr>\n",
       "\t<tr><td>2009-01-05 </td><td>X          </td><td> 0.05471038</td></tr>\n",
       "\t<tr><td>2009-01-06 </td><td>X          </td><td>-1.02139422</td></tr>\n",
       "\t<tr><td>2009-01-07 </td><td>X          </td><td> 0.62023365</td></tr>\n",
       "\t<tr><td>2009-01-08 </td><td>X          </td><td> 0.75474458</td></tr>\n",
       "\t<tr><td>2009-01-09 </td><td>X          </td><td>-1.18884672</td></tr>\n",
       "\t<tr><td>2009-01-10 </td><td>X          </td><td>-1.03766147</td></tr>\n",
       "\t<tr><td>2009-01-01 </td><td>Y          </td><td>-2.16933540</td></tr>\n",
       "\t<tr><td>2009-01-02 </td><td>Y          </td><td> 0.58717501</td></tr>\n",
       "\t<tr><td>2009-01-03 </td><td>Y          </td><td>-1.47955590</td></tr>\n",
       "\t<tr><td>2009-01-04 </td><td>Y          </td><td>-0.43944637</td></tr>\n",
       "\t<tr><td>2009-01-05 </td><td>Y          </td><td> 2.26715032</td></tr>\n",
       "\t<tr><td>2009-01-06 </td><td>Y          </td><td> 1.69658999</td></tr>\n",
       "\t<tr><td>2009-01-07 </td><td>Y          </td><td> 0.86736879</td></tr>\n",
       "\t<tr><td>2009-01-08 </td><td>Y          </td><td>-0.84527498</td></tr>\n",
       "\t<tr><td>2009-01-09 </td><td>Y          </td><td>-1.88463696</td></tr>\n",
       "\t<tr><td>2009-01-10 </td><td>Y          </td><td> 3.10653581</td></tr>\n",
       "\t<tr><td>2009-01-01 </td><td>Z          </td><td> 2.70729743</td></tr>\n",
       "\t<tr><td>2009-01-02 </td><td>Z          </td><td> 3.36505925</td></tr>\n",
       "\t<tr><td>2009-01-03 </td><td>Z          </td><td> 0.55102040</td></tr>\n",
       "\t<tr><td>2009-01-04 </td><td>Z          </td><td>-0.19087669</td></tr>\n",
       "\t<tr><td>2009-01-05 </td><td>Z          </td><td> 5.02017382</td></tr>\n",
       "\t<tr><td>2009-01-06 </td><td>Z          </td><td> 6.71240306</td></tr>\n",
       "\t<tr><td>2009-01-07 </td><td>Z          </td><td> 1.42427700</td></tr>\n",
       "\t<tr><td>2009-01-08 </td><td>Z          </td><td> 4.03411626</td></tr>\n",
       "\t<tr><td>2009-01-09 </td><td>Z          </td><td> 2.76534679</td></tr>\n",
       "\t<tr><td>2009-01-10 </td><td>Z          </td><td>-1.01398236</td></tr>\n",
       "</tbody>\n",
       "</table>\n"
      ],
      "text/latex": [
       "\\begin{tabular}{r|lll}\n",
       " waktu & saham & harga\\\\\n",
       "\\hline\n",
       "\t 2009-01-01  & X           & -0.73932297\\\\\n",
       "\t 2009-01-02  & X           & -0.66060205\\\\\n",
       "\t 2009-01-03  & X           &  0.52308703\\\\\n",
       "\t 2009-01-04  & X           &  1.03084445\\\\\n",
       "\t 2009-01-05  & X           &  0.05471038\\\\\n",
       "\t 2009-01-06  & X           & -1.02139422\\\\\n",
       "\t 2009-01-07  & X           &  0.62023365\\\\\n",
       "\t 2009-01-08  & X           &  0.75474458\\\\\n",
       "\t 2009-01-09  & X           & -1.18884672\\\\\n",
       "\t 2009-01-10  & X           & -1.03766147\\\\\n",
       "\t 2009-01-01  & Y           & -2.16933540\\\\\n",
       "\t 2009-01-02  & Y           &  0.58717501\\\\\n",
       "\t 2009-01-03  & Y           & -1.47955590\\\\\n",
       "\t 2009-01-04  & Y           & -0.43944637\\\\\n",
       "\t 2009-01-05  & Y           &  2.26715032\\\\\n",
       "\t 2009-01-06  & Y           &  1.69658999\\\\\n",
       "\t 2009-01-07  & Y           &  0.86736879\\\\\n",
       "\t 2009-01-08  & Y           & -0.84527498\\\\\n",
       "\t 2009-01-09  & Y           & -1.88463696\\\\\n",
       "\t 2009-01-10  & Y           &  3.10653581\\\\\n",
       "\t 2009-01-01  & Z           &  2.70729743\\\\\n",
       "\t 2009-01-02  & Z           &  3.36505925\\\\\n",
       "\t 2009-01-03  & Z           &  0.55102040\\\\\n",
       "\t 2009-01-04  & Z           & -0.19087669\\\\\n",
       "\t 2009-01-05  & Z           &  5.02017382\\\\\n",
       "\t 2009-01-06  & Z           &  6.71240306\\\\\n",
       "\t 2009-01-07  & Z           &  1.42427700\\\\\n",
       "\t 2009-01-08  & Z           &  4.03411626\\\\\n",
       "\t 2009-01-09  & Z           &  2.76534679\\\\\n",
       "\t 2009-01-10  & Z           & -1.01398236\\\\\n",
       "\\end{tabular}\n"
      ],
      "text/markdown": [
       "\n",
       "| waktu | saham | harga |\n",
       "|---|---|---|\n",
       "| 2009-01-01  | X           | -0.73932297 |\n",
       "| 2009-01-02  | X           | -0.66060205 |\n",
       "| 2009-01-03  | X           |  0.52308703 |\n",
       "| 2009-01-04  | X           |  1.03084445 |\n",
       "| 2009-01-05  | X           |  0.05471038 |\n",
       "| 2009-01-06  | X           | -1.02139422 |\n",
       "| 2009-01-07  | X           |  0.62023365 |\n",
       "| 2009-01-08  | X           |  0.75474458 |\n",
       "| 2009-01-09  | X           | -1.18884672 |\n",
       "| 2009-01-10  | X           | -1.03766147 |\n",
       "| 2009-01-01  | Y           | -2.16933540 |\n",
       "| 2009-01-02  | Y           |  0.58717501 |\n",
       "| 2009-01-03  | Y           | -1.47955590 |\n",
       "| 2009-01-04  | Y           | -0.43944637 |\n",
       "| 2009-01-05  | Y           |  2.26715032 |\n",
       "| 2009-01-06  | Y           |  1.69658999 |\n",
       "| 2009-01-07  | Y           |  0.86736879 |\n",
       "| 2009-01-08  | Y           | -0.84527498 |\n",
       "| 2009-01-09  | Y           | -1.88463696 |\n",
       "| 2009-01-10  | Y           |  3.10653581 |\n",
       "| 2009-01-01  | Z           |  2.70729743 |\n",
       "| 2009-01-02  | Z           |  3.36505925 |\n",
       "| 2009-01-03  | Z           |  0.55102040 |\n",
       "| 2009-01-04  | Z           | -0.19087669 |\n",
       "| 2009-01-05  | Z           |  5.02017382 |\n",
       "| 2009-01-06  | Z           |  6.71240306 |\n",
       "| 2009-01-07  | Z           |  1.42427700 |\n",
       "| 2009-01-08  | Z           |  4.03411626 |\n",
       "| 2009-01-09  | Z           |  2.76534679 |\n",
       "| 2009-01-10  | Z           | -1.01398236 |\n",
       "\n"
      ],
      "text/plain": [
       "   waktu      saham harga      \n",
       "1  2009-01-01 X     -0.73932297\n",
       "2  2009-01-02 X     -0.66060205\n",
       "3  2009-01-03 X      0.52308703\n",
       "4  2009-01-04 X      1.03084445\n",
       "5  2009-01-05 X      0.05471038\n",
       "6  2009-01-06 X     -1.02139422\n",
       "7  2009-01-07 X      0.62023365\n",
       "8  2009-01-08 X      0.75474458\n",
       "9  2009-01-09 X     -1.18884672\n",
       "10 2009-01-10 X     -1.03766147\n",
       "11 2009-01-01 Y     -2.16933540\n",
       "12 2009-01-02 Y      0.58717501\n",
       "13 2009-01-03 Y     -1.47955590\n",
       "14 2009-01-04 Y     -0.43944637\n",
       "15 2009-01-05 Y      2.26715032\n",
       "16 2009-01-06 Y      1.69658999\n",
       "17 2009-01-07 Y      0.86736879\n",
       "18 2009-01-08 Y     -0.84527498\n",
       "19 2009-01-09 Y     -1.88463696\n",
       "20 2009-01-10 Y      3.10653581\n",
       "21 2009-01-01 Z      2.70729743\n",
       "22 2009-01-02 Z      3.36505925\n",
       "23 2009-01-03 Z      0.55102040\n",
       "24 2009-01-04 Z     -0.19087669\n",
       "25 2009-01-05 Z      5.02017382\n",
       "26 2009-01-06 Z      6.71240306\n",
       "27 2009-01-07 Z      1.42427700\n",
       "28 2009-01-08 Z      4.03411626\n",
       "29 2009-01-09 Z      2.76534679\n",
       "30 2009-01-10 Z     -1.01398236"
      ]
     },
     "metadata": {},
     "output_type": "display_data"
    }
   ],
   "source": [
    "saham.gather <- gather(saham, key = saham, value = harga, X,Y,Z)\n",
    "saham.gather"
   ]
  },
  {
   "cell_type": "code",
   "execution_count": 458,
   "metadata": {},
   "outputs": [
    {
     "data": {
      "text/html": [
       "<table>\n",
       "<thead><tr><th scope=col>waktu</th><th scope=col>X</th><th scope=col>Y</th><th scope=col>Z</th></tr></thead>\n",
       "<tbody>\n",
       "\t<tr><td>2009-01-01 </td><td>-0.73932297</td><td>-2.1693354 </td><td> 2.7072974 </td></tr>\n",
       "\t<tr><td>2009-01-02 </td><td>-0.66060205</td><td> 0.5871750 </td><td> 3.3650593 </td></tr>\n",
       "\t<tr><td>2009-01-03 </td><td> 0.52308703</td><td>-1.4795559 </td><td> 0.5510204 </td></tr>\n",
       "\t<tr><td>2009-01-04 </td><td> 1.03084445</td><td>-0.4394464 </td><td>-0.1908767 </td></tr>\n",
       "\t<tr><td>2009-01-05 </td><td> 0.05471038</td><td> 2.2671503 </td><td> 5.0201738 </td></tr>\n",
       "\t<tr><td>2009-01-06 </td><td>-1.02139422</td><td> 1.6965900 </td><td> 6.7124031 </td></tr>\n",
       "\t<tr><td>2009-01-07 </td><td> 0.62023365</td><td> 0.8673688 </td><td> 1.4242770 </td></tr>\n",
       "\t<tr><td>2009-01-08 </td><td> 0.75474458</td><td>-0.8452750 </td><td> 4.0341163 </td></tr>\n",
       "\t<tr><td>2009-01-09 </td><td>-1.18884672</td><td>-1.8846370 </td><td> 2.7653468 </td></tr>\n",
       "\t<tr><td>2009-01-10 </td><td>-1.03766147</td><td> 3.1065358 </td><td>-1.0139824 </td></tr>\n",
       "</tbody>\n",
       "</table>\n"
      ],
      "text/latex": [
       "\\begin{tabular}{r|llll}\n",
       " waktu & X & Y & Z\\\\\n",
       "\\hline\n",
       "\t 2009-01-01  & -0.73932297 & -2.1693354  &  2.7072974 \\\\\n",
       "\t 2009-01-02  & -0.66060205 &  0.5871750  &  3.3650593 \\\\\n",
       "\t 2009-01-03  &  0.52308703 & -1.4795559  &  0.5510204 \\\\\n",
       "\t 2009-01-04  &  1.03084445 & -0.4394464  & -0.1908767 \\\\\n",
       "\t 2009-01-05  &  0.05471038 &  2.2671503  &  5.0201738 \\\\\n",
       "\t 2009-01-06  & -1.02139422 &  1.6965900  &  6.7124031 \\\\\n",
       "\t 2009-01-07  &  0.62023365 &  0.8673688  &  1.4242770 \\\\\n",
       "\t 2009-01-08  &  0.75474458 & -0.8452750  &  4.0341163 \\\\\n",
       "\t 2009-01-09  & -1.18884672 & -1.8846370  &  2.7653468 \\\\\n",
       "\t 2009-01-10  & -1.03766147 &  3.1065358  & -1.0139824 \\\\\n",
       "\\end{tabular}\n"
      ],
      "text/markdown": [
       "\n",
       "| waktu | X | Y | Z |\n",
       "|---|---|---|---|\n",
       "| 2009-01-01  | -0.73932297 | -2.1693354  |  2.7072974  |\n",
       "| 2009-01-02  | -0.66060205 |  0.5871750  |  3.3650593  |\n",
       "| 2009-01-03  |  0.52308703 | -1.4795559  |  0.5510204  |\n",
       "| 2009-01-04  |  1.03084445 | -0.4394464  | -0.1908767  |\n",
       "| 2009-01-05  |  0.05471038 |  2.2671503  |  5.0201738  |\n",
       "| 2009-01-06  | -1.02139422 |  1.6965900  |  6.7124031  |\n",
       "| 2009-01-07  |  0.62023365 |  0.8673688  |  1.4242770  |\n",
       "| 2009-01-08  |  0.75474458 | -0.8452750  |  4.0341163  |\n",
       "| 2009-01-09  | -1.18884672 | -1.8846370  |  2.7653468  |\n",
       "| 2009-01-10  | -1.03766147 |  3.1065358  | -1.0139824  |\n",
       "\n"
      ],
      "text/plain": [
       "   waktu      X           Y          Z         \n",
       "1  2009-01-01 -0.73932297 -2.1693354  2.7072974\n",
       "2  2009-01-02 -0.66060205  0.5871750  3.3650593\n",
       "3  2009-01-03  0.52308703 -1.4795559  0.5510204\n",
       "4  2009-01-04  1.03084445 -0.4394464 -0.1908767\n",
       "5  2009-01-05  0.05471038  2.2671503  5.0201738\n",
       "6  2009-01-06 -1.02139422  1.6965900  6.7124031\n",
       "7  2009-01-07  0.62023365  0.8673688  1.4242770\n",
       "8  2009-01-08  0.75474458 -0.8452750  4.0341163\n",
       "9  2009-01-09 -1.18884672 -1.8846370  2.7653468\n",
       "10 2009-01-10 -1.03766147  3.1065358 -1.0139824"
      ]
     },
     "metadata": {},
     "output_type": "display_data"
    }
   ],
   "source": [
    "spread(data = saham.gather, key = 'saham', value = 'harga') \n",
    "# menyebar data hasil gather (kebalikan)"
   ]
  },
  {
   "cell_type": "code",
   "execution_count": 459,
   "metadata": {},
   "outputs": [
    {
     "data": {
      "text/html": [
       "<table>\n",
       "<thead><tr><th scope=col>waktu</th><th scope=col>X</th><th scope=col>Y</th><th scope=col>Z</th></tr></thead>\n",
       "<tbody>\n",
       "\t<tr><td>2009-01-01 </td><td>-0.73932297</td><td>-2.1693354 </td><td> 2.7072974 </td></tr>\n",
       "\t<tr><td>2009-01-02 </td><td>-0.66060205</td><td> 0.5871750 </td><td> 3.3650593 </td></tr>\n",
       "\t<tr><td>2009-01-03 </td><td> 0.52308703</td><td>-1.4795559 </td><td> 0.5510204 </td></tr>\n",
       "\t<tr><td>2009-01-04 </td><td> 1.03084445</td><td>-0.4394464 </td><td>-0.1908767 </td></tr>\n",
       "\t<tr><td>2009-01-05 </td><td> 0.05471038</td><td> 2.2671503 </td><td> 5.0201738 </td></tr>\n",
       "\t<tr><td>2009-01-06 </td><td>-1.02139422</td><td> 1.6965900 </td><td> 6.7124031 </td></tr>\n",
       "\t<tr><td>2009-01-07 </td><td> 0.62023365</td><td> 0.8673688 </td><td> 1.4242770 </td></tr>\n",
       "\t<tr><td>2009-01-08 </td><td> 0.75474458</td><td>-0.8452750 </td><td> 4.0341163 </td></tr>\n",
       "\t<tr><td>2009-01-09 </td><td>-1.18884672</td><td>-1.8846370 </td><td> 2.7653468 </td></tr>\n",
       "\t<tr><td>2009-01-10 </td><td>-1.03766147</td><td> 3.1065358 </td><td>-1.0139824 </td></tr>\n",
       "</tbody>\n",
       "</table>\n"
      ],
      "text/latex": [
       "\\begin{tabular}{r|llll}\n",
       " waktu & X & Y & Z\\\\\n",
       "\\hline\n",
       "\t 2009-01-01  & -0.73932297 & -2.1693354  &  2.7072974 \\\\\n",
       "\t 2009-01-02  & -0.66060205 &  0.5871750  &  3.3650593 \\\\\n",
       "\t 2009-01-03  &  0.52308703 & -1.4795559  &  0.5510204 \\\\\n",
       "\t 2009-01-04  &  1.03084445 & -0.4394464  & -0.1908767 \\\\\n",
       "\t 2009-01-05  &  0.05471038 &  2.2671503  &  5.0201738 \\\\\n",
       "\t 2009-01-06  & -1.02139422 &  1.6965900  &  6.7124031 \\\\\n",
       "\t 2009-01-07  &  0.62023365 &  0.8673688  &  1.4242770 \\\\\n",
       "\t 2009-01-08  &  0.75474458 & -0.8452750  &  4.0341163 \\\\\n",
       "\t 2009-01-09  & -1.18884672 & -1.8846370  &  2.7653468 \\\\\n",
       "\t 2009-01-10  & -1.03766147 &  3.1065358  & -1.0139824 \\\\\n",
       "\\end{tabular}\n"
      ],
      "text/markdown": [
       "\n",
       "| waktu | X | Y | Z |\n",
       "|---|---|---|---|\n",
       "| 2009-01-01  | -0.73932297 | -2.1693354  |  2.7072974  |\n",
       "| 2009-01-02  | -0.66060205 |  0.5871750  |  3.3650593  |\n",
       "| 2009-01-03  |  0.52308703 | -1.4795559  |  0.5510204  |\n",
       "| 2009-01-04  |  1.03084445 | -0.4394464  | -0.1908767  |\n",
       "| 2009-01-05  |  0.05471038 |  2.2671503  |  5.0201738  |\n",
       "| 2009-01-06  | -1.02139422 |  1.6965900  |  6.7124031  |\n",
       "| 2009-01-07  |  0.62023365 |  0.8673688  |  1.4242770  |\n",
       "| 2009-01-08  |  0.75474458 | -0.8452750  |  4.0341163  |\n",
       "| 2009-01-09  | -1.18884672 | -1.8846370  |  2.7653468  |\n",
       "| 2009-01-10  | -1.03766147 |  3.1065358  | -1.0139824  |\n",
       "\n"
      ],
      "text/plain": [
       "   waktu      X           Y          Z         \n",
       "1  2009-01-01 -0.73932297 -2.1693354  2.7072974\n",
       "2  2009-01-02 -0.66060205  0.5871750  3.3650593\n",
       "3  2009-01-03  0.52308703 -1.4795559  0.5510204\n",
       "4  2009-01-04  1.03084445 -0.4394464 -0.1908767\n",
       "5  2009-01-05  0.05471038  2.2671503  5.0201738\n",
       "6  2009-01-06 -1.02139422  1.6965900  6.7124031\n",
       "7  2009-01-07  0.62023365  0.8673688  1.4242770\n",
       "8  2009-01-08  0.75474458 -0.8452750  4.0341163\n",
       "9  2009-01-09 -1.18884672 -1.8846370  2.7653468\n",
       "10 2009-01-10 -1.03766147  3.1065358 -1.0139824"
      ]
     },
     "metadata": {},
     "output_type": "display_data"
    }
   ],
   "source": [
    "# menggunakan spread() dengan operator pipe\n",
    "saham.gather %>% spread(key = 'saham', value = 'harga')"
   ]
  },
  {
   "cell_type": "markdown",
   "metadata": {},
   "source": [
    "### `separate()`"
   ]
  },
  {
   "cell_type": "markdown",
   "metadata": {},
   "source": [
    "Memisahkan satu kolom ke banyak kolom."
   ]
  },
  {
   "cell_type": "code",
   "execution_count": 1,
   "metadata": {},
   "outputs": [
    {
     "data": {
      "text/html": [
       "<table>\n",
       "<thead><tr><th scope=col>kol.baru</th></tr></thead>\n",
       "<tbody>\n",
       "\t<tr><td>a.x</td></tr>\n",
       "\t<tr><td>b.y</td></tr>\n",
       "\t<tr><td>c.z</td></tr>\n",
       "</tbody>\n",
       "</table>\n"
      ],
      "text/latex": [
       "\\begin{tabular}{r|l}\n",
       " kol.baru\\\\\n",
       "\\hline\n",
       "\t a.x\\\\\n",
       "\t b.y\\\\\n",
       "\t c.z\\\\\n",
       "\\end{tabular}\n"
      ],
      "text/markdown": [
       "\n",
       "| kol.baru |\n",
       "|---|\n",
       "| a.x |\n",
       "| b.y |\n",
       "| c.z |\n",
       "\n"
      ],
      "text/plain": [
       "  kol.baru\n",
       "1 a.x     \n",
       "2 b.y     \n",
       "3 c.z     "
      ]
     },
     "metadata": {},
     "output_type": "display_data"
    }
   ],
   "source": [
    "df <- data.frame(kol.baru = c('a.x', 'b.y', 'c.z'))\n",
    "df"
   ]
  },
  {
   "cell_type": "code",
   "execution_count": 5,
   "metadata": {},
   "outputs": [
    {
     "data": {
      "text/html": [
       "<table>\n",
       "<thead><tr><th scope=col>ABC</th><th scope=col>XYZ</th></tr></thead>\n",
       "<tbody>\n",
       "\t<tr><td>a</td><td>x</td></tr>\n",
       "\t<tr><td>b</td><td>y</td></tr>\n",
       "\t<tr><td>c</td><td>z</td></tr>\n",
       "</tbody>\n",
       "</table>\n"
      ],
      "text/latex": [
       "\\begin{tabular}{r|ll}\n",
       " ABC & XYZ\\\\\n",
       "\\hline\n",
       "\t a & x\\\\\n",
       "\t b & y\\\\\n",
       "\t c & z\\\\\n",
       "\\end{tabular}\n"
      ],
      "text/markdown": [
       "\n",
       "| ABC | XYZ |\n",
       "|---|---|\n",
       "| a | x |\n",
       "| b | y |\n",
       "| c | z |\n",
       "\n"
      ],
      "text/plain": [
       "  ABC XYZ\n",
       "1 a   x  \n",
       "2 b   y  \n",
       "3 c   z  "
      ]
     },
     "metadata": {},
     "output_type": "display_data"
    }
   ],
   "source": [
    "separate(df, kol.baru, c(\"ABC\", \"XYZ\"))"
   ]
  },
  {
   "cell_type": "code",
   "execution_count": 6,
   "metadata": {},
   "outputs": [
    {
     "data": {
      "text/html": [
       "<table>\n",
       "<thead><tr><th scope=col>kol.baru</th></tr></thead>\n",
       "<tbody>\n",
       "\t<tr><td>a-x</td></tr>\n",
       "\t<tr><td>b-y</td></tr>\n",
       "\t<tr><td>c-z</td></tr>\n",
       "</tbody>\n",
       "</table>\n"
      ],
      "text/latex": [
       "\\begin{tabular}{r|l}\n",
       " kol.baru\\\\\n",
       "\\hline\n",
       "\t a-x\\\\\n",
       "\t b-y\\\\\n",
       "\t c-z\\\\\n",
       "\\end{tabular}\n"
      ],
      "text/markdown": [
       "\n",
       "| kol.baru |\n",
       "|---|\n",
       "| a-x |\n",
       "| b-y |\n",
       "| c-z |\n",
       "\n"
      ],
      "text/plain": [
       "  kol.baru\n",
       "1 a-x     \n",
       "2 b-y     \n",
       "3 c-z     "
      ]
     },
     "metadata": {},
     "output_type": "display_data"
    }
   ],
   "source": [
    "df <- data.frame(kol.baru = c('a-x', 'b-y', 'c-z'))\n",
    "df"
   ]
  },
  {
   "cell_type": "code",
   "execution_count": 7,
   "metadata": {},
   "outputs": [
    {
     "data": {
      "text/html": [
       "<table>\n",
       "<thead><tr><th scope=col>ABC</th><th scope=col>XYZ</th></tr></thead>\n",
       "<tbody>\n",
       "\t<tr><td>a</td><td>x</td></tr>\n",
       "\t<tr><td>b</td><td>y</td></tr>\n",
       "\t<tr><td>c</td><td>z</td></tr>\n",
       "</tbody>\n",
       "</table>\n"
      ],
      "text/latex": [
       "\\begin{tabular}{r|ll}\n",
       " ABC & XYZ\\\\\n",
       "\\hline\n",
       "\t a & x\\\\\n",
       "\t b & y\\\\\n",
       "\t c & z\\\\\n",
       "\\end{tabular}\n"
      ],
      "text/markdown": [
       "\n",
       "| ABC | XYZ |\n",
       "|---|---|\n",
       "| a | x |\n",
       "| b | y |\n",
       "| c | z |\n",
       "\n"
      ],
      "text/plain": [
       "  ABC XYZ\n",
       "1 a   x  \n",
       "2 b   y  \n",
       "3 c   z  "
      ]
     },
     "metadata": {},
     "output_type": "display_data"
    }
   ],
   "source": [
    "separate(df, kol.baru, c(\"ABC\", \"XYZ\"))"
   ]
  },
  {
   "cell_type": "code",
   "execution_count": 8,
   "metadata": {},
   "outputs": [
    {
     "data": {
      "text/html": [
       "<table>\n",
       "<thead><tr><th scope=col>Pertama</th><th scope=col>Kedua</th></tr></thead>\n",
       "<tbody>\n",
       "\t<tr><td>a</td><td>x</td></tr>\n",
       "\t<tr><td>b</td><td>y</td></tr>\n",
       "\t<tr><td>c</td><td>z</td></tr>\n",
       "</tbody>\n",
       "</table>\n"
      ],
      "text/latex": [
       "\\begin{tabular}{r|ll}\n",
       " Pertama & Kedua\\\\\n",
       "\\hline\n",
       "\t a & x\\\\\n",
       "\t b & y\\\\\n",
       "\t c & z\\\\\n",
       "\\end{tabular}\n"
      ],
      "text/markdown": [
       "\n",
       "| Pertama | Kedua |\n",
       "|---|---|\n",
       "| a | x |\n",
       "| b | y |\n",
       "| c | z |\n",
       "\n"
      ],
      "text/plain": [
       "  Pertama Kedua\n",
       "1 a       x    \n",
       "2 b       y    \n",
       "3 c       z    "
      ]
     },
     "metadata": {},
     "output_type": "display_data"
    }
   ],
   "source": [
    "# Sintaks lengkapnya:\n",
    "separate(data = df, col = kol.baru, c('Pertama', 'Kedua'), sep=\"-\")"
   ]
  },
  {
   "cell_type": "markdown",
   "metadata": {},
   "source": [
    "### `unite()`"
   ]
  },
  {
   "cell_type": "markdown",
   "metadata": {},
   "source": [
    "Merupakan kebalikan dari `separate()`. Digunakan untuk menggabungkan kolom."
   ]
  },
  {
   "cell_type": "code",
   "execution_count": 10,
   "metadata": {},
   "outputs": [
    {
     "data": {
      "text/html": [
       "<table>\n",
       "<thead><tr><th scope=col>Pertama</th><th scope=col>Kedua</th></tr></thead>\n",
       "<tbody>\n",
       "\t<tr><td>a</td><td>x</td></tr>\n",
       "\t<tr><td>b</td><td>y</td></tr>\n",
       "\t<tr><td>c</td><td>z</td></tr>\n",
       "</tbody>\n",
       "</table>\n"
      ],
      "text/latex": [
       "\\begin{tabular}{r|ll}\n",
       " Pertama & Kedua\\\\\n",
       "\\hline\n",
       "\t a & x\\\\\n",
       "\t b & y\\\\\n",
       "\t c & z\\\\\n",
       "\\end{tabular}\n"
      ],
      "text/markdown": [
       "\n",
       "| Pertama | Kedua |\n",
       "|---|---|\n",
       "| a | x |\n",
       "| b | y |\n",
       "| c | z |\n",
       "\n"
      ],
      "text/plain": [
       "  Pertama Kedua\n",
       "1 a       x    \n",
       "2 b       y    \n",
       "3 c       z    "
      ]
     },
     "metadata": {},
     "output_type": "display_data"
    }
   ],
   "source": [
    "df1 <- separate(data = df, col = kol.baru, c('Pertama', 'Kedua'), sep=\"-\")\n",
    "df1"
   ]
  },
  {
   "cell_type": "code",
   "execution_count": 11,
   "metadata": {},
   "outputs": [
    {
     "data": {
      "text/html": [
       "<table>\n",
       "<thead><tr><th scope=col>kol.gab.baru</th></tr></thead>\n",
       "<tbody>\n",
       "\t<tr><td>a-x</td></tr>\n",
       "\t<tr><td>b-y</td></tr>\n",
       "\t<tr><td>c-z</td></tr>\n",
       "</tbody>\n",
       "</table>\n"
      ],
      "text/latex": [
       "\\begin{tabular}{r|l}\n",
       " kol.gab.baru\\\\\n",
       "\\hline\n",
       "\t a-x\\\\\n",
       "\t b-y\\\\\n",
       "\t c-z\\\\\n",
       "\\end{tabular}\n"
      ],
      "text/markdown": [
       "\n",
       "| kol.gab.baru |\n",
       "|---|\n",
       "| a-x |\n",
       "| b-y |\n",
       "| c-z |\n",
       "\n"
      ],
      "text/plain": [
       "  kol.gab.baru\n",
       "1 a-x         \n",
       "2 b-y         \n",
       "3 c-z         "
      ]
     },
     "metadata": {},
     "output_type": "display_data"
    }
   ],
   "source": [
    "# menggabungkan jd 1 kolom\n",
    "unite(df1, kol.gab.baru, Pertama, Kedua, sep = '-')"
   ]
  },
  {
   "cell_type": "code",
   "execution_count": null,
   "metadata": {},
   "outputs": [],
   "source": []
  }
 ],
 "metadata": {
  "kernelspec": {
   "display_name": "R",
   "language": "R",
   "name": "ir"
  },
  "language_info": {
   "codemirror_mode": "r",
   "file_extension": ".r",
   "mimetype": "text/x-r-source",
   "name": "R",
   "pygments_lexer": "r",
   "version": "3.6.1"
  }
 },
 "nbformat": 4,
 "nbformat_minor": 4
}
