{
 "cells": [
  {
   "cell_type": "markdown",
   "metadata": {},
   "source": [
    "# Visualisasi data menggunakan `ggplot2`"
   ]
  },
  {
   "cell_type": "markdown",
   "metadata": {},
   "source": [
    "## Pendahuluan"
   ]
  },
  {
   "cell_type": "markdown",
   "metadata": {},
   "source": [
    "* `ggplot2` merupakan pustaka visualisasi pada bahasa pemrograman R.\n",
    "* Dibangun berdasarkan konsep penambahan lapisan (*layer*) dalam visualisasi.\n",
    "* Terdapat 7 lapisan: Data, Aesthetics, Geometries, Facets, Statistics, Coordinates, Themes.\n",
    "* 4 lapisan terakhir tidak wajib, namun dpt digunakan untuk kostumisasi."
   ]
  },
  {
   "cell_type": "code",
   "execution_count": 2,
   "metadata": {},
   "outputs": [],
   "source": [
    "library(ggplot2) # 1) Lapisan 1: Data"
   ]
  },
  {
   "cell_type": "code",
   "execution_count": 5,
   "metadata": {},
   "outputs": [
    {
     "data": {
      "image/png": "[encoded data removed]",
      "text/plain": [
       "plot without title"
      ]
     },
     "metadata": {},
     "output_type": "display_data"
    }
   ],
   "source": [
    "ggplot(data = mtcars, # 1) Lapisan 1: Data\n",
    "    aes(x = mpg, y = hp)) # 2) Lapisan 2: Aesthetics"
   ]
  },
  {
   "cell_type": "code",
   "execution_count": 6,
   "metadata": {},
   "outputs": [
    {
     "data": {
      "image/png": "[encoded data removed]",
      "text/plain": [
       "plot without title"
      ]
     },
     "metadata": {},
     "output_type": "display_data"
    }
   ],
   "source": [
    "# Lapisan 3): Geometrics\n",
    "pl <- ggplot(data = mtcars,\n",
    "             aes(x = mpg, y = hp))\n",
    "pl + geom_point()"
   ]
  },
  {
   "cell_type": "code",
   "execution_count": 9,
   "metadata": {},
   "outputs": [],
   "source": [
    "# 4) Layer 4: Facets\n",
    "## Membuat kita dapat memplot banyak grafik di dalam satu kanvas\n",
    "\n",
    "# 5) Layer 5: Statistics\n",
    "\n",
    "# 6) Layer 6: Coordinates\n",
    "## Membatasi limit sumbu-x dan y\n",
    " \n",
    "# 7) Lapisan 7: Theme\n",
    "## Menambahkan tema ke dalam suatu plot"
   ]
  },
  {
   "cell_type": "markdown",
   "metadata": {},
   "source": [
    "## Histogram"
   ]
  },
  {
   "cell_type": "code",
   "execution_count": 10,
   "metadata": {},
   "outputs": [],
   "source": [
    "library(ggplot2movies)"
   ]
  },
  {
   "cell_type": "code",
   "execution_count": 11,
   "metadata": {},
   "outputs": [
    {
     "data": {
      "text/html": [
       "<table>\n",
       "<thead><tr><th scope=col>title</th><th scope=col>year</th><th scope=col>length</th><th scope=col>budget</th><th scope=col>rating</th><th scope=col>votes</th><th scope=col>r1</th><th scope=col>r2</th><th scope=col>r3</th><th scope=col>r4</th><th scope=col>...</th><th scope=col>r9</th><th scope=col>r10</th><th scope=col>mpaa</th><th scope=col>Action</th><th scope=col>Animation</th><th scope=col>Comedy</th><th scope=col>Drama</th><th scope=col>Documentary</th><th scope=col>Romance</th><th scope=col>Short</th></tr></thead>\n",
       "<tbody>\n",
       "\t<tr><td>$                       </td><td>1971                    </td><td>121                     </td><td>NA                      </td><td>6.4                     </td><td>348                     </td><td> 4.5                    </td><td> 4.5                    </td><td>4.5                     </td><td> 4.5                    </td><td>...                     </td><td> 4.5                    </td><td> 4.5                    </td><td>                        </td><td>0                       </td><td>0                       </td><td>1                       </td><td>1                       </td><td>0                       </td><td>0                       </td><td>0                       </td></tr>\n",
       "\t<tr><td>$1000 a Touchdown       </td><td>1939                    </td><td> 71                     </td><td>NA                      </td><td>6.0                     </td><td> 20                     </td><td> 0.0                    </td><td>14.5                    </td><td>4.5                     </td><td>24.5                    </td><td>...                     </td><td> 4.5                    </td><td>14.5                    </td><td>                        </td><td>0                       </td><td>0                       </td><td>1                       </td><td>0                       </td><td>0                       </td><td>0                       </td><td>0                       </td></tr>\n",
       "\t<tr><td>$21 a Day Once a Month  </td><td>1941                    </td><td>  7                     </td><td>NA                      </td><td>8.2                     </td><td>  5                     </td><td> 0.0                    </td><td> 0.0                    </td><td>0.0                     </td><td> 0.0                    </td><td>...                     </td><td>24.5                    </td><td>24.5                    </td><td>                        </td><td>0                       </td><td>1                       </td><td>0                       </td><td>0                       </td><td>0                       </td><td>0                       </td><td>1                       </td></tr>\n",
       "\t<tr><td>$40,000                 </td><td>1996                    </td><td> 70                     </td><td>NA                      </td><td>8.2                     </td><td>  6                     </td><td>14.5                    </td><td> 0.0                    </td><td>0.0                     </td><td> 0.0                    </td><td>...                     </td><td>34.5                    </td><td>45.5                    </td><td>                        </td><td>0                       </td><td>0                       </td><td>1                       </td><td>0                       </td><td>0                       </td><td>0                       </td><td>0                       </td></tr>\n",
       "\t<tr><td>$50,000 Climax Show, The</td><td>1975                    </td><td> 71                     </td><td>NA                      </td><td>3.4                     </td><td> 17                     </td><td>24.5                    </td><td> 4.5                    </td><td>0.0                     </td><td>14.5                    </td><td>...                     </td><td> 0.0                    </td><td>24.5                    </td><td>                        </td><td>0                       </td><td>0                       </td><td>0                       </td><td>0                       </td><td>0                       </td><td>0                       </td><td>0                       </td></tr>\n",
       "\t<tr><td>$pent                   </td><td>2000                    </td><td> 91                     </td><td>NA                      </td><td>4.3                     </td><td> 45                     </td><td> 4.5                    </td><td> 4.5                    </td><td>4.5                     </td><td>14.5                    </td><td>...                     </td><td>14.5                    </td><td>14.5                    </td><td>                        </td><td>0                       </td><td>0                       </td><td>0                       </td><td>1                       </td><td>0                       </td><td>0                       </td><td>0                       </td></tr>\n",
       "</tbody>\n",
       "</table>\n"
      ],
      "text/latex": [
       "\\begin{tabular}{r|llllllllllllllllllllllll}\n",
       " title & year & length & budget & rating & votes & r1 & r2 & r3 & r4 & ... & r9 & r10 & mpaa & Action & Animation & Comedy & Drama & Documentary & Romance & Short\\\\\n",
       "\\hline\n",
       "\t \\$                        & 1971                       & 121                        & NA                         & 6.4                        & 348                        &  4.5                       &  4.5                       & 4.5                        &  4.5                       & ...                        &  4.5                       &  4.5                       &                            & 0                          & 0                          & 1                          & 1                          & 0                          & 0                          & 0                         \\\\\n",
       "\t \\$1000 a Touchdown        & 1939                       &  71                        & NA                         & 6.0                        &  20                        &  0.0                       & 14.5                       & 4.5                        & 24.5                       & ...                        &  4.5                       & 14.5                       &                            & 0                          & 0                          & 1                          & 0                          & 0                          & 0                          & 0                         \\\\\n",
       "\t \\$21 a Day Once a Month   & 1941                       &   7                        & NA                         & 8.2                        &   5                        &  0.0                       &  0.0                       & 0.0                        &  0.0                       & ...                        & 24.5                       & 24.5                       &                            & 0                          & 1                          & 0                          & 0                          & 0                          & 0                          & 1                         \\\\\n",
       "\t \\$40,000                  & 1996                       &  70                        & NA                         & 8.2                        &   6                        & 14.5                       &  0.0                       & 0.0                        &  0.0                       & ...                        & 34.5                       & 45.5                       &                            & 0                          & 0                          & 1                          & 0                          & 0                          & 0                          & 0                         \\\\\n",
       "\t \\$50,000 Climax Show, The & 1975                       &  71                        & NA                         & 3.4                        &  17                        & 24.5                       &  4.5                       & 0.0                        & 14.5                       & ...                        &  0.0                       & 24.5                       &                            & 0                          & 0                          & 0                          & 0                          & 0                          & 0                          & 0                         \\\\\n",
       "\t \\$pent                    & 2000                       &  91                        & NA                         & 4.3                        &  45                        &  4.5                       &  4.5                       & 4.5                        & 14.5                       & ...                        & 14.5                       & 14.5                       &                            & 0                          & 0                          & 0                          & 1                          & 0                          & 0                          & 0                         \\\\\n",
       "\\end{tabular}\n"
      ],
      "text/markdown": [
       "\n",
       "| title | year | length | budget | rating | votes | r1 | r2 | r3 | r4 | ... | r9 | r10 | mpaa | Action | Animation | Comedy | Drama | Documentary | Romance | Short |\n",
       "|---|---|---|---|---|---|---|---|---|---|---|---|---|---|---|---|---|---|---|---|---|\n",
       "| $                        | 1971                     | 121                      | NA                       | 6.4                      | 348                      |  4.5                     |  4.5                     | 4.5                      |  4.5                     | ...                      |  4.5                     |  4.5                     |                          | 0                        | 0                        | 1                        | 1                        | 0                        | 0                        | 0                        |\n",
       "| $1000 a Touchdown        | 1939                     |  71                      | NA                       | 6.0                      |  20                      |  0.0                     | 14.5                     | 4.5                      | 24.5                     | ...                      |  4.5                     | 14.5                     |                          | 0                        | 0                        | 1                        | 0                        | 0                        | 0                        | 0                        |\n",
       "| $21 a Day Once a Month   | 1941                     |   7                      | NA                       | 8.2                      |   5                      |  0.0                     |  0.0                     | 0.0                      |  0.0                     | ...                      | 24.5                     | 24.5                     |                          | 0                        | 1                        | 0                        | 0                        | 0                        | 0                        | 1                        |\n",
       "| $40,000                  | 1996                     |  70                      | NA                       | 8.2                      |   6                      | 14.5                     |  0.0                     | 0.0                      |  0.0                     | ...                      | 34.5                     | 45.5                     |                          | 0                        | 0                        | 1                        | 0                        | 0                        | 0                        | 0                        |\n",
       "| $50,000 Climax Show, The | 1975                     |  71                      | NA                       | 3.4                      |  17                      | 24.5                     |  4.5                     | 0.0                      | 14.5                     | ...                      |  0.0                     | 24.5                     |                          | 0                        | 0                        | 0                        | 0                        | 0                        | 0                        | 0                        |\n",
       "| $pent                    | 2000                     |  91                      | NA                       | 4.3                      |  45                      |  4.5                     |  4.5                     | 4.5                      | 14.5                     | ...                      | 14.5                     | 14.5                     |                          | 0                        | 0                        | 0                        | 1                        | 0                        | 0                        | 0                        |\n",
       "\n"
      ],
      "text/plain": [
       "  title                    year length budget rating votes r1   r2   r3  r4  \n",
       "1 $                        1971 121    NA     6.4    348    4.5  4.5 4.5  4.5\n",
       "2 $1000 a Touchdown        1939  71    NA     6.0     20    0.0 14.5 4.5 24.5\n",
       "3 $21 a Day Once a Month   1941   7    NA     8.2      5    0.0  0.0 0.0  0.0\n",
       "4 $40,000                  1996  70    NA     8.2      6   14.5  0.0 0.0  0.0\n",
       "5 $50,000 Climax Show, The 1975  71    NA     3.4     17   24.5  4.5 0.0 14.5\n",
       "6 $pent                    2000  91    NA     4.3     45    4.5  4.5 4.5 14.5\n",
       "  ... r9   r10  mpaa Action Animation Comedy Drama Documentary Romance Short\n",
       "1 ...  4.5  4.5      0      0         1      1     0           0       0    \n",
       "2 ...  4.5 14.5      0      0         1      0     0           0       0    \n",
       "3 ... 24.5 24.5      0      1         0      0     0           0       1    \n",
       "4 ... 34.5 45.5      0      0         1      0     0           0       0    \n",
       "5 ...  0.0 24.5      0      0         0      0     0           0       0    \n",
       "6 ... 14.5 14.5      0      0         0      1     0           0       0    "
      ]
     },
     "metadata": {},
     "output_type": "display_data"
    }
   ],
   "source": [
    "head(movies)"
   ]
  },
  {
   "cell_type": "code",
   "execution_count": 12,
   "metadata": {},
   "outputs": [
    {
     "data": {
      "text/html": [
       "<ol class=list-inline>\n",
       "\t<li>'title'</li>\n",
       "\t<li>'year'</li>\n",
       "\t<li>'length'</li>\n",
       "\t<li>'budget'</li>\n",
       "\t<li>'rating'</li>\n",
       "\t<li>'votes'</li>\n",
       "\t<li>'r1'</li>\n",
       "\t<li>'r2'</li>\n",
       "\t<li>'r3'</li>\n",
       "\t<li>'r4'</li>\n",
       "\t<li>'r5'</li>\n",
       "\t<li>'r6'</li>\n",
       "\t<li>'r7'</li>\n",
       "\t<li>'r8'</li>\n",
       "\t<li>'r9'</li>\n",
       "\t<li>'r10'</li>\n",
       "\t<li>'mpaa'</li>\n",
       "\t<li>'Action'</li>\n",
       "\t<li>'Animation'</li>\n",
       "\t<li>'Comedy'</li>\n",
       "\t<li>'Drama'</li>\n",
       "\t<li>'Documentary'</li>\n",
       "\t<li>'Romance'</li>\n",
       "\t<li>'Short'</li>\n",
       "</ol>\n"
      ],
      "text/latex": [
       "\\begin{enumerate*}\n",
       "\\item 'title'\n",
       "\\item 'year'\n",
       "\\item 'length'\n",
       "\\item 'budget'\n",
       "\\item 'rating'\n",
       "\\item 'votes'\n",
       "\\item 'r1'\n",
       "\\item 'r2'\n",
       "\\item 'r3'\n",
       "\\item 'r4'\n",
       "\\item 'r5'\n",
       "\\item 'r6'\n",
       "\\item 'r7'\n",
       "\\item 'r8'\n",
       "\\item 'r9'\n",
       "\\item 'r10'\n",
       "\\item 'mpaa'\n",
       "\\item 'Action'\n",
       "\\item 'Animation'\n",
       "\\item 'Comedy'\n",
       "\\item 'Drama'\n",
       "\\item 'Documentary'\n",
       "\\item 'Romance'\n",
       "\\item 'Short'\n",
       "\\end{enumerate*}\n"
      ],
      "text/markdown": [
       "1. 'title'\n",
       "2. 'year'\n",
       "3. 'length'\n",
       "4. 'budget'\n",
       "5. 'rating'\n",
       "6. 'votes'\n",
       "7. 'r1'\n",
       "8. 'r2'\n",
       "9. 'r3'\n",
       "10. 'r4'\n",
       "11. 'r5'\n",
       "12. 'r6'\n",
       "13. 'r7'\n",
       "14. 'r8'\n",
       "15. 'r9'\n",
       "16. 'r10'\n",
       "17. 'mpaa'\n",
       "18. 'Action'\n",
       "19. 'Animation'\n",
       "20. 'Comedy'\n",
       "21. 'Drama'\n",
       "22. 'Documentary'\n",
       "23. 'Romance'\n",
       "24. 'Short'\n",
       "\n",
       "\n"
      ],
      "text/plain": [
       " [1] \"title\"       \"year\"        \"length\"      \"budget\"      \"rating\"     \n",
       " [6] \"votes\"       \"r1\"          \"r2\"          \"r3\"          \"r4\"         \n",
       "[11] \"r5\"          \"r6\"          \"r7\"          \"r8\"          \"r9\"         \n",
       "[16] \"r10\"         \"mpaa\"        \"Action\"      \"Animation\"   \"Comedy\"     \n",
       "[21] \"Drama\"       \"Documentary\" \"Romance\"     \"Short\"      "
      ]
     },
     "metadata": {},
     "output_type": "display_data"
    }
   ],
   "source": [
    "colnames(movies)"
   ]
  },
  {
   "cell_type": "markdown",
   "metadata": {},
   "source": [
    "*Cheatsheet* : <url>https://rstudio.com/wp-content/uploads/2015/03/ggplot2-cheatsheet.pdf</url> "
   ]
  },
  {
   "cell_type": "code",
   "execution_count": null,
   "metadata": {},
   "outputs": [
    {
     "name": "stderr",
     "output_type": "stream",
     "text": [
      "`stat_bin()` using `bins = 30`. Pick better value with `binwidth`.\n"
     ]
    }
   ],
   "source": [
    "pl <- ggplot(data = movies,\n",
    "          aes(x = rating))\n",
    "pl + geom_histogram()"
   ]
  },
  {
   "cell_type": "code",
   "execution_count": null,
   "metadata": {},
   "outputs": [],
   "source": []
  }
 ],
 "metadata": {
  "kernelspec": {
   "display_name": "R",
   "language": "R",
   "name": "ir"
  },
  "language_info": {
   "codemirror_mode": "r",
   "file_extension": ".r",
   "mimetype": "text/x-r-source",
   "name": "R",
   "pygments_lexer": "r",
   "version": "3.6.1"
  }
 },
 "nbformat": 4,
 "nbformat_minor": 4
}
